{
 "cells": [
  {
   "cell_type": "markdown",
   "id": "GEqQaHzsZ_bA",
   "metadata": {
    "id": "GEqQaHzsZ_bA"
   },
   "source": [
    "# Предсказание стоимости жилья\n",
    "\n",
    "В проекте нужно обучить модель линейной регрессии на данных о жилье в Калифорнии в 1990 году. На основе данных нужно предсказать медианную стоимость дома в жилом массиве  — median_house_value. Для оценки качества модели буду использовать метрики RMSE, MAE и R2.\n",
    "\n",
    "В колонках датасета содержатся следующие данные:\n",
    "- longitude — широта;\n",
    "- latitude — долгота;\n",
    "- housing_median_age — медианный возраст жителей жилого массива;\n",
    "- total_rooms — общее количество комнат в домах жилого массива;\n",
    "- total_bedrooms — общее количество спален в домах жилого массива;\n",
    "- population — количество человек, которые проживают в жилом массиве;\n",
    "- households — количество домовладений в жилом массиве;\n",
    "- median_income — медианный доход жителей жилого массива;\n",
    "- median_house_value — медианная стоимость дома в жилом массиве;\n",
    "- ocean_proximity — близость к океану."
   ]
  },
  {
   "cell_type": "markdown",
   "id": "53871372",
   "metadata": {
    "id": "53871372"
   },
   "source": [
    "# Подготовка данных"
   ]
  },
  {
   "cell_type": "markdown",
   "id": "0e82241a",
   "metadata": {},
   "source": [
    "## Изучение данных"
   ]
  },
  {
   "cell_type": "markdown",
   "id": "c5282315",
   "metadata": {},
   "source": [
    "Выгрузим необходимые библиотеки для дальнейшей работы."
   ]
  },
  {
   "cell_type": "code",
   "execution_count": 1,
   "id": "df92e3ec",
   "metadata": {
    "id": "df92e3ec"
   },
   "outputs": [],
   "source": [
    "import pandas as pd \n",
    "import numpy as np\n",
    "\n",
    "import pyspark\n",
    "from pyspark.sql import SparkSession\n",
    "from pyspark.sql.types import *\n",
    "import pyspark.sql.functions as F\n",
    "\n",
    "from pyspark.ml.feature import StringIndexer, VectorAssembler, StandardScaler\n",
    "from pyspark.ml.regression import LinearRegression\n",
    "from pyspark.ml.evaluation import RegressionEvaluator\n",
    "from pyspark.ml.feature import Imputer\n",
    "\n",
    "pyspark_version = pyspark.__version__\n",
    "if int(pyspark_version[:1]) == 3:\n",
    "    from pyspark.ml.feature import OneHotEncoder as OneHotEncoder  \n",
    "elif int(pyspark_version[:1]) == 2:\n",
    "    from pyspark.ml.feature import OneHotEncodeEstimator as OneHotEncoder\n",
    "    "
   ]
  },
  {
   "cell_type": "markdown",
   "id": "d9a69d71",
   "metadata": {},
   "source": [
    "Инициализируем локальную Spark-сессию."
   ]
  },
  {
   "cell_type": "code",
   "execution_count": 2,
   "id": "64fa1ccd",
   "metadata": {},
   "outputs": [],
   "source": [
    "spark = SparkSession.builder \\\n",
    "                    .master(\"local\") \\\n",
    "                    .appName(\"housing - Linear Regression\") \\\n",
    "                    .getOrCreate()"
   ]
  },
  {
   "cell_type": "markdown",
   "id": "2e11bc66",
   "metadata": {},
   "source": [
    "Прочитаем содержимое файла '/datasets/housing.csv'."
   ]
  },
  {
   "cell_type": "code",
   "execution_count": 3,
   "id": "ce9ef5bd",
   "metadata": {},
   "outputs": [
    {
     "name": "stderr",
     "output_type": "stream",
     "text": [
      "                                                                                \r"
     ]
    }
   ],
   "source": [
    "data = spark.read.load('/datasets/housing.csv', format=\"csv\", sep=\",\", inferSchema=True, header=\"true\")"
   ]
  },
  {
   "cell_type": "markdown",
   "id": "72462dda",
   "metadata": {},
   "source": [
    "Выведим типы данных колонок датасета и первые 10 строк датасета."
   ]
  },
  {
   "cell_type": "code",
   "execution_count": 4,
   "id": "3fc2bce6",
   "metadata": {},
   "outputs": [
    {
     "name": "stdout",
     "output_type": "stream",
     "text": [
      "root\n",
      " |-- longitude: double (nullable = true)\n",
      " |-- latitude: double (nullable = true)\n",
      " |-- housing_median_age: double (nullable = true)\n",
      " |-- total_rooms: double (nullable = true)\n",
      " |-- total_bedrooms: double (nullable = true)\n",
      " |-- population: double (nullable = true)\n",
      " |-- households: double (nullable = true)\n",
      " |-- median_income: double (nullable = true)\n",
      " |-- median_house_value: double (nullable = true)\n",
      " |-- ocean_proximity: string (nullable = true)\n",
      "\n"
     ]
    }
   ],
   "source": [
    "data.printSchema()"
   ]
  },
  {
   "cell_type": "code",
   "execution_count": 5,
   "id": "2a7e1d4c",
   "metadata": {
    "collapsed": true
   },
   "outputs": [
    {
     "name": "stdout",
     "output_type": "stream",
     "text": [
      "+---------+--------+------------------+-----------+--------------+----------+----------+-------------+------------------+---------------+\n",
      "|longitude|latitude|housing_median_age|total_rooms|total_bedrooms|population|households|median_income|median_house_value|ocean_proximity|\n",
      "+---------+--------+------------------+-----------+--------------+----------+----------+-------------+------------------+---------------+\n",
      "|  -122.23|   37.88|              41.0|      880.0|         129.0|     322.0|     126.0|       8.3252|          452600.0|       NEAR BAY|\n",
      "|  -122.22|   37.86|              21.0|     7099.0|        1106.0|    2401.0|    1138.0|       8.3014|          358500.0|       NEAR BAY|\n",
      "|  -122.24|   37.85|              52.0|     1467.0|         190.0|     496.0|     177.0|       7.2574|          352100.0|       NEAR BAY|\n",
      "|  -122.25|   37.85|              52.0|     1274.0|         235.0|     558.0|     219.0|       5.6431|          341300.0|       NEAR BAY|\n",
      "|  -122.25|   37.85|              52.0|     1627.0|         280.0|     565.0|     259.0|       3.8462|          342200.0|       NEAR BAY|\n",
      "|  -122.25|   37.85|              52.0|      919.0|         213.0|     413.0|     193.0|       4.0368|          269700.0|       NEAR BAY|\n",
      "|  -122.25|   37.84|              52.0|     2535.0|         489.0|    1094.0|     514.0|       3.6591|          299200.0|       NEAR BAY|\n",
      "|  -122.25|   37.84|              52.0|     3104.0|         687.0|    1157.0|     647.0|         3.12|          241400.0|       NEAR BAY|\n",
      "|  -122.26|   37.84|              42.0|     2555.0|         665.0|    1206.0|     595.0|       2.0804|          226700.0|       NEAR BAY|\n",
      "|  -122.25|   37.84|              52.0|     3549.0|         707.0|    1551.0|     714.0|       3.6912|          261100.0|       NEAR BAY|\n",
      "+---------+--------+------------------+-----------+--------------+----------+----------+-------------+------------------+---------------+\n",
      "only showing top 10 rows\n",
      "\n"
     ]
    }
   ],
   "source": [
    "data.show(10)"
   ]
  },
  {
   "cell_type": "markdown",
   "id": "ef667303",
   "metadata": {},
   "source": [
    "## Предобработка данных"
   ]
  },
  {
   "cell_type": "markdown",
   "id": "04f0cfa5",
   "metadata": {},
   "source": [
    "Найдем пропущенные значения."
   ]
  },
  {
   "cell_type": "code",
   "execution_count": 6,
   "id": "3f9df6e4",
   "metadata": {},
   "outputs": [
    {
     "name": "stderr",
     "output_type": "stream",
     "text": [
      "                                                                                \r"
     ]
    },
    {
     "name": "stdout",
     "output_type": "stream",
     "text": [
      "longitude 0\n",
      "latitude 0\n",
      "housing_median_age 0\n",
      "total_rooms 0\n",
      "total_bedrooms 207\n",
      "population 0\n",
      "households 0\n",
      "median_income 0\n",
      "median_house_value 0\n",
      "ocean_proximity 0\n"
     ]
    }
   ],
   "source": [
    "columns = data.columns\n",
    "\n",
    "for column in columns:\n",
    "    check_col = F.col(column)\n",
    "    print(column, data.filter(check_col.isNull()).count())"
   ]
  },
  {
   "cell_type": "markdown",
   "id": "bbfca24f",
   "metadata": {},
   "source": [
    "Разделим выборки на обучающую и тестовую."
   ]
  },
  {
   "cell_type": "code",
   "execution_count": 7,
   "id": "c071db97",
   "metadata": {},
   "outputs": [
    {
     "name": "stderr",
     "output_type": "stream",
     "text": [
      "                                                                                \r"
     ]
    },
    {
     "name": "stdout",
     "output_type": "stream",
     "text": [
      "16418 4222\n"
     ]
    }
   ],
   "source": [
    "train_data, test_data = data.randomSplit([.8,.2], seed=2022)\n",
    "print(train_data.count(), test_data.count())"
   ]
  },
  {
   "cell_type": "markdown",
   "id": "48204e3c",
   "metadata": {},
   "source": [
    "Заменим пропущенные значения на медиану стоблца total_bedrooms."
   ]
  },
  {
   "cell_type": "code",
   "execution_count": 8,
   "id": "52950a2a",
   "metadata": {},
   "outputs": [],
   "source": [
    "imputer = Imputer(\n",
    "    strategy=\"median\", missingValue=float(\"nan\"),\n",
    "    inputCols=[\"total_bedrooms\"], outputCols=[\"total_bedrooms\"],).fit(train_data)\n",
    "train_data = imputer.transform(train_data)\n",
    "test_data = imputer.transform(test_data)"
   ]
  },
  {
   "cell_type": "markdown",
   "id": "135209ba",
   "metadata": {},
   "source": [
    "Трансформируем категориальный признак в числовое представление с помощью трансформера StringIndexer."
   ]
  },
  {
   "cell_type": "code",
   "execution_count": 9,
   "id": "623847b9",
   "metadata": {},
   "outputs": [
    {
     "name": "stderr",
     "output_type": "stream",
     "text": [
      "                                                                                \r"
     ]
    }
   ],
   "source": [
    "indexer = StringIndexer(inputCols=['ocean_proximity'], \n",
    "                        outputCols=['ocean_proximity_idx'],\n",
    "                        handleInvalid='skip').fit(train_data)\n",
    "train_data = indexer.transform(train_data)\n",
    "test_data = indexer.transform(test_data)"
   ]
  },
  {
   "cell_type": "markdown",
   "id": "b70ac8a8",
   "metadata": {},
   "source": [
    "Преобразуем колонку с категориальными значениями техникой One hot encoding."
   ]
  },
  {
   "cell_type": "code",
   "execution_count": 10,
   "id": "00995764",
   "metadata": {},
   "outputs": [],
   "source": [
    "encoder = OneHotEncoder(inputCols=['ocean_proximity_idx'],\n",
    "                        outputCols=['ocean_proximity_ohe']).fit(train_data)\n",
    "train_data = encoder.transform(train_data)\n",
    "test_data = encoder.transform(test_data)"
   ]
  },
  {
   "cell_type": "markdown",
   "id": "bb3c1bbd",
   "metadata": {},
   "source": [
    "Соберем числовые признаки с помощью VectorAssembler. Отшкалируем числовые колонки методом StandardScaler."
   ]
  },
  {
   "cell_type": "code",
   "execution_count": 11,
   "id": "a830cf3b",
   "metadata": {},
   "outputs": [],
   "source": [
    "numerical_cols = [\"longitude\", \"latitude\", \"housing_median_age\", \"total_rooms\",\n",
    "                   \"total_bedrooms\", \"population\", \"households\", \"median_income\"]"
   ]
  },
  {
   "cell_type": "code",
   "execution_count": 12,
   "id": "1ba11904",
   "metadata": {},
   "outputs": [
    {
     "name": "stderr",
     "output_type": "stream",
     "text": [
      "                                                                                \r"
     ]
    }
   ],
   "source": [
    "numerical_assembler = VectorAssembler(inputCols=numerical_cols,outputCol=\"numerical_features\")\n",
    "train_data = numerical_assembler.transform(train_data)\n",
    "test_data = numerical_assembler.transform(test_data)\n",
    "\n",
    "standardScaler = StandardScaler(inputCol='numerical_features', \n",
    "                                outputCol='numerical_features_scaled').fit(train_data)\n",
    "train_data = standardScaler.transform(train_data) \n",
    "test_data = standardScaler.transform(test_data) "
   ]
  },
  {
   "cell_type": "code",
   "execution_count": 13,
   "id": "e53c7048",
   "metadata": {},
   "outputs": [
    {
     "name": "stdout",
     "output_type": "stream",
     "text": [
      "+-------------------+-------------------------+\n",
      "|ocean_proximity_ohe|numerical_features_scaled|\n",
      "+-------------------+-------------------------+\n",
      "|      (3,[2],[1.0])|     [-61.952887791441...|\n",
      "|      (3,[2],[1.0])|     [-61.927977100733...|\n",
      "|      (3,[2],[1.0])|     [-61.913030686308...|\n",
      "|      (3,[2],[1.0])|     [-61.908048548166...|\n",
      "|      (3,[2],[1.0])|     [-61.903066410024...|\n",
      "+-------------------+-------------------------+\n",
      "only showing top 5 rows\n",
      "\n",
      "+-------------------+-------------------------+\n",
      "|ocean_proximity_ohe|numerical_features_scaled|\n",
      "+-------------------+-------------------------+\n",
      "|      (3,[2],[1.0])|     [-61.927977100733...|\n",
      "|      (3,[2],[1.0])|     [-61.893102133741...|\n",
      "|      (3,[2],[1.0])|     [-61.883137857458...|\n",
      "|      (3,[2],[1.0])|     [-61.883137857458...|\n",
      "|      (3,[2],[1.0])|     [-61.868191443033...|\n",
      "+-------------------+-------------------------+\n",
      "only showing top 5 rows\n",
      "\n"
     ]
    }
   ],
   "source": [
    "all_features = ['ocean_proximity_ohe','numerical_features_scaled']\n",
    "final_assembler = VectorAssembler(inputCols=all_features, \n",
    "                                  outputCol=\"features\") \n",
    "train_data = final_assembler.transform(train_data)\n",
    "train_data.select(all_features).show(5) \n",
    "test_data = final_assembler.transform(test_data)\n",
    "test_data.select(all_features).show(5) "
   ]
  },
  {
   "cell_type": "markdown",
   "id": "9f0a82f3",
   "metadata": {
    "id": "9f0a82f3"
   },
   "source": [
    "# Обучение моделей"
   ]
  },
  {
   "cell_type": "markdown",
   "id": "305d0ef1",
   "metadata": {},
   "source": [
    "Построим две модели линейной регрессии на разных наборах данных (для построения модели использю оценщик LinearRegression из библиотеки MLlib), используя все данные из файла или используя только числовые переменные, исключив категориальные."
   ]
  },
  {
   "cell_type": "markdown",
   "id": "4410fad7",
   "metadata": {},
   "source": [
    "Построим модель линейной регрессии, используя все данные из файла."
   ]
  },
  {
   "cell_type": "code",
   "execution_count": 14,
   "id": "6addcbba",
   "metadata": {},
   "outputs": [
    {
     "name": "stderr",
     "output_type": "stream",
     "text": [
      "23/08/15 17:17:41 WARN Instrumentation: [2e69d92b] regParam is zero, which might cause numerical instability and overfitting.\n",
      "23/08/15 17:17:42 WARN BLAS: Failed to load implementation from: com.github.fommil.netlib.NativeSystemBLAS\n",
      "23/08/15 17:17:42 WARN BLAS: Failed to load implementation from: com.github.fommil.netlib.NativeRefBLAS\n",
      "23/08/15 17:17:42 WARN LAPACK: Failed to load implementation from: com.github.fommil.netlib.NativeSystemLAPACK\n",
      "23/08/15 17:17:42 WARN LAPACK: Failed to load implementation from: com.github.fommil.netlib.NativeRefLAPACK\n",
      "                                                                                \r"
     ]
    },
    {
     "name": "stdout",
     "output_type": "stream",
     "text": [
      "+------------------+------------------+\n",
      "|median_house_value|        prediction|\n",
      "+------------------+------------------+\n",
      "|          103600.0|152991.55876715155|\n",
      "|           50800.0|214968.05218253378|\n",
      "|           58100.0|142714.88166237995|\n",
      "|           68400.0| 132484.3262109626|\n",
      "|           72200.0| 164100.9009900242|\n",
      "|           67000.0|154444.31603433192|\n",
      "|           81300.0|152871.00750037655|\n",
      "|           70500.0|164581.43780993763|\n",
      "|           60000.0|142736.69061019877|\n",
      "|          109400.0| 171314.4460876761|\n",
      "+------------------+------------------+\n",
      "only showing top 10 rows\n",
      "\n"
     ]
    }
   ],
   "source": [
    "lr_with_cat = LinearRegression(labelCol='median_house_value', \n",
    "                      featuresCol= 'features')\n",
    "model_with_cat = lr_with_cat.fit(train_data) \n",
    "predictions_with_cat = model_with_cat.transform(test_data)\n",
    "predictedLabes_with_cat = predictions_with_cat.select(\"median_house_value\", \"prediction\")\n",
    "predictedLabes_with_cat.show(10) "
   ]
  },
  {
   "cell_type": "markdown",
   "id": "4b6bc870",
   "metadata": {},
   "source": [
    "Построим модель линейной регрессии, используя только числовые переменные, исключив категориальные."
   ]
  },
  {
   "cell_type": "code",
   "execution_count": 15,
   "id": "54be9471",
   "metadata": {},
   "outputs": [
    {
     "name": "stderr",
     "output_type": "stream",
     "text": [
      "23/08/15 17:17:45 WARN Instrumentation: [422bb274] regParam is zero, which might cause numerical instability and overfitting.\n"
     ]
    },
    {
     "name": "stdout",
     "output_type": "stream",
     "text": [
      "+------------------+------------------+\n",
      "|median_house_value|        prediction|\n",
      "+------------------+------------------+\n",
      "|          103600.0|101397.05265782354|\n",
      "|           50800.0|183325.84112823103|\n",
      "|           58100.0|109609.10360910231|\n",
      "|           68400.0| 80433.75487934053|\n",
      "|           72200.0|129999.89959631395|\n",
      "|           67000.0| 120450.9910860518|\n",
      "|           81300.0|118116.53813811578|\n",
      "|           70500.0|130755.57313267142|\n",
      "|           60000.0|110062.72904391447|\n",
      "|          109400.0|118243.65155705344|\n",
      "+------------------+------------------+\n",
      "only showing top 10 rows\n",
      "\n"
     ]
    }
   ],
   "source": [
    "lr_without_cat = LinearRegression(labelCol='median_house_value', \n",
    "                      featuresCol= 'numerical_features_scaled')\n",
    "model_without_cat = lr_without_cat.fit(train_data) \n",
    "predictions_without_cat = model_without_cat.transform(test_data)\n",
    "predictedLabes_without_cat = predictions_without_cat.select(\"median_house_value\", \"prediction\")\n",
    "predictedLabes_without_cat.show(10) "
   ]
  },
  {
   "cell_type": "markdown",
   "id": "8f19ebae",
   "metadata": {},
   "source": [
    "# Анализ результатов"
   ]
  },
  {
   "cell_type": "markdown",
   "id": "0b029467",
   "metadata": {},
   "source": [
    "Сравним результаты работы линейной регрессии на двух наборах данных по метрикам RMSE, MAE и R2. "
   ]
  },
  {
   "cell_type": "code",
   "execution_count": 16,
   "id": "a65008d4",
   "metadata": {},
   "outputs": [
    {
     "name": "stdout",
     "output_type": "stream",
     "text": [
      "RMSE_without_cat:  69009.82619805129\n",
      "MAE_without_cat:  50751.95211107678\n",
      "R2_without_cat:  0.6476009347271927\n"
     ]
    }
   ],
   "source": [
    "rmse_without_cat = RegressionEvaluator(labelCol='median_house_value', \n",
    "                                       metricName='rmse').evaluate(predictedLabes_without_cat)\n",
    "mae_without_cat = RegressionEvaluator(labelCol='median_house_value', \n",
    "                                      metricName='mae').evaluate(predictedLabes_without_cat)\n",
    "r2_without_cat = RegressionEvaluator(labelCol='median_house_value', \n",
    "                                     metricName='r2').evaluate(predictedLabes_without_cat)\n",
    "\n",
    "print('RMSE_without_cat: ', rmse_without_cat)\n",
    "print('MAE_without_cat: ', mae_without_cat) \n",
    "print('R2_without_cat: ', r2_without_cat) "
   ]
  },
  {
   "cell_type": "code",
   "execution_count": 17,
   "id": "3a4d6447",
   "metadata": {},
   "outputs": [
    {
     "name": "stdout",
     "output_type": "stream",
     "text": [
      "RMSE_with_cat:  68223.20473212477\n",
      "MAE_with_cat:  49726.16247158131\n",
      "R2_with_cat:  0.655588921359124\n"
     ]
    }
   ],
   "source": [
    "rmse_with_cat = RegressionEvaluator(labelCol='median_house_value', \n",
    "                                    metricName='rmse').evaluate(predictedLabes_with_cat)\n",
    "mae_with_cat = RegressionEvaluator(labelCol='median_house_value', \n",
    "                                   metricName='mae').evaluate(predictedLabes_with_cat)\n",
    "r2_with_cat = RegressionEvaluator(labelCol='median_house_value', \n",
    "                                  metricName='r2').evaluate(predictedLabes_with_cat)\n",
    "\n",
    "print('RMSE_with_cat: ', rmse_with_cat)\n",
    "print('MAE_with_cat: ', mae_with_cat) \n",
    "print('R2_with_cat: ', r2_with_cat) "
   ]
  },
  {
   "cell_type": "code",
   "execution_count": 18,
   "id": "052ac54e",
   "metadata": {},
   "outputs": [],
   "source": [
    "spark.stop()"
   ]
  },
  {
   "cell_type": "markdown",
   "id": "255fcabd",
   "metadata": {},
   "source": [
    "1. RMSE - метрика, которая сообщает нам квадратный корень из средней квадратичной разницы между прогнозируемыми значениями и фактическими значениями в наборе данных. Чем ниже RMSE, тем лучше модель соответствует набору данных. По параметру RMSE модель линейной регрессии, обученная на всех данных лучше модели, обученной только на численных данных. \n",
    "2. MAE - метрика, которая сообщает нам среднюю абсолютную разницу между прогнозируемыми значениями и фактическими значениями в наборе данных. Чем ниже MAE, тем лучше модель соответствует набору данных. По параметру MAE модель линейной регрессии, обученная на всех данных лучше модели, обученной только на численных данных. \n",
    "3. R2 - vетрика, которая сообщает нам долю дисперсии переменной отклика регрессионной модели, которая может быть объяснена предикторными переменными. Это значение находится в диапазоне от 0 до 1. Чем выше значение R2 , тем лучше модель соответствует набору данных. По параметру R2 модель линейной регрессии, обученная на всех данных лучше модели, обученной только на численных данных. "
   ]
  }
 ],
 "metadata": {
  "ExecuteTimeLog": [
   {
    "duration": 814,
    "start_time": "2023-08-10T14:54:51.810Z"
   },
   {
    "duration": 16800,
    "start_time": "2023-08-10T14:54:52.626Z"
   },
   {
    "duration": 900,
    "start_time": "2023-08-13T08:26:43.228Z"
   },
   {
    "duration": 36828,
    "start_time": "2023-08-13T08:26:44.131Z"
   },
   {
    "duration": 8,
    "start_time": "2023-08-13T08:28:31.409Z"
   },
   {
    "duration": 4,
    "start_time": "2023-08-13T08:28:31.849Z"
   },
   {
    "duration": 874,
    "start_time": "2023-08-13T08:28:32.415Z"
   },
   {
    "duration": 80,
    "start_time": "2023-08-13T08:28:57.519Z"
   },
   {
    "duration": 58,
    "start_time": "2023-08-13T08:29:03.086Z"
   },
   {
    "duration": 690,
    "start_time": "2023-08-13T08:29:12.187Z"
   },
   {
    "duration": 872,
    "start_time": "2023-08-13T08:33:40.301Z"
   },
   {
    "duration": 304,
    "start_time": "2023-08-13T08:33:52.968Z"
   },
   {
    "duration": 12,
    "start_time": "2023-08-13T08:37:45.070Z"
   },
   {
    "duration": 23,
    "start_time": "2023-08-13T08:38:01.814Z"
   },
   {
    "duration": 4,
    "start_time": "2023-08-13T08:38:47.290Z"
   },
   {
    "duration": 6,
    "start_time": "2023-08-13T08:39:24.271Z"
   },
   {
    "duration": 282,
    "start_time": "2023-08-13T08:40:39.248Z"
   },
   {
    "duration": 6,
    "start_time": "2023-08-13T08:43:23.972Z"
   },
   {
    "duration": 15,
    "start_time": "2023-08-13T08:50:13.247Z"
   },
   {
    "duration": 8,
    "start_time": "2023-08-13T08:51:19.349Z"
   },
   {
    "duration": 935,
    "start_time": "2023-08-13T08:51:28.642Z"
   },
   {
    "duration": 1120,
    "start_time": "2023-08-13T08:55:59.661Z"
   },
   {
    "duration": 10,
    "start_time": "2023-08-13T08:57:18.303Z"
   },
   {
    "duration": 657,
    "start_time": "2023-08-13T08:57:25.927Z"
   },
   {
    "duration": 9,
    "start_time": "2023-08-13T09:02:59.752Z"
   },
   {
    "duration": 31,
    "start_time": "2023-08-13T09:03:10.966Z"
   },
   {
    "duration": 176,
    "start_time": "2023-08-13T09:03:44.723Z"
   },
   {
    "duration": 88,
    "start_time": "2023-08-13T09:04:04.784Z"
   },
   {
    "duration": 462,
    "start_time": "2023-08-13T09:04:08.936Z"
   },
   {
    "duration": 19,
    "start_time": "2023-08-13T09:12:23.566Z"
   },
   {
    "duration": 4793,
    "start_time": "2023-08-13T09:12:40.888Z"
   },
   {
    "duration": 9,
    "start_time": "2023-08-13T09:14:34.570Z"
   },
   {
    "duration": 162,
    "start_time": "2023-08-13T09:17:15.324Z"
   },
   {
    "duration": 570,
    "start_time": "2023-08-13T09:17:35.793Z"
   },
   {
    "duration": 20,
    "start_time": "2023-08-13T09:19:18.072Z"
   },
   {
    "duration": 721,
    "start_time": "2023-08-13T09:19:29.301Z"
   },
   {
    "duration": 567,
    "start_time": "2023-08-13T09:20:08.021Z"
   },
   {
    "duration": 12,
    "start_time": "2023-08-13T09:20:20.867Z"
   },
   {
    "duration": 3391,
    "start_time": "2023-08-13T09:20:27.317Z"
   },
   {
    "duration": 4,
    "start_time": "2023-08-13T09:25:18.604Z"
   },
   {
    "duration": 405,
    "start_time": "2023-08-13T09:28:08.164Z"
   },
   {
    "duration": 3,
    "start_time": "2023-08-13T09:31:05.153Z"
   },
   {
    "duration": 312,
    "start_time": "2023-08-13T09:31:10.200Z"
   },
   {
    "duration": 144,
    "start_time": "2023-08-13T09:32:02.776Z"
   },
   {
    "duration": 86,
    "start_time": "2023-08-13T09:32:51.345Z"
   },
   {
    "duration": 161,
    "start_time": "2023-08-13T09:33:05.495Z"
   },
   {
    "duration": 123,
    "start_time": "2023-08-13T09:33:25.448Z"
   },
   {
    "duration": 155,
    "start_time": "2023-08-13T09:34:42.051Z"
   },
   {
    "duration": 2094,
    "start_time": "2023-08-13T09:37:49.974Z"
   },
   {
    "duration": 542,
    "start_time": "2023-08-13T09:37:52.070Z"
   },
   {
    "duration": 140,
    "start_time": "2023-08-13T09:38:11.321Z"
   },
   {
    "duration": 779,
    "start_time": "2023-08-13T09:38:25.330Z"
   },
   {
    "duration": 16579,
    "start_time": "2023-08-13T09:38:26.111Z"
   },
   {
    "duration": 10183,
    "start_time": "2023-08-13T09:38:42.693Z"
   },
   {
    "duration": 80,
    "start_time": "2023-08-13T09:38:52.879Z"
   },
   {
    "duration": 907,
    "start_time": "2023-08-13T09:38:52.963Z"
   },
   {
    "duration": 6997,
    "start_time": "2023-08-13T09:38:53.873Z"
   },
   {
    "duration": 92,
    "start_time": "2023-08-13T09:39:00.872Z"
   },
   {
    "duration": 4113,
    "start_time": "2023-08-13T09:39:00.967Z"
   },
   {
    "duration": 5,
    "start_time": "2023-08-13T09:39:05.082Z"
   },
   {
    "duration": 25,
    "start_time": "2023-08-13T09:39:05.089Z"
   },
   {
    "duration": 208,
    "start_time": "2023-08-13T09:39:05.116Z"
   },
   {
    "duration": 0,
    "start_time": "2023-08-13T09:39:05.327Z"
   },
   {
    "duration": 2244,
    "start_time": "2023-08-13T09:40:57.925Z"
   },
   {
    "duration": 764,
    "start_time": "2023-08-13T09:41:20.322Z"
   },
   {
    "duration": 138,
    "start_time": "2023-08-13T09:42:19.650Z"
   },
   {
    "duration": 54,
    "start_time": "2023-08-13T09:43:19.855Z"
   },
   {
    "duration": 13,
    "start_time": "2023-08-13T09:43:24.928Z"
   },
   {
    "duration": 8,
    "start_time": "2023-08-13T09:46:01.945Z"
   },
   {
    "duration": 67,
    "start_time": "2023-08-13T09:46:01.955Z"
   },
   {
    "duration": 760,
    "start_time": "2023-08-13T09:46:02.024Z"
   },
   {
    "duration": 4,
    "start_time": "2023-08-13T09:46:02.787Z"
   },
   {
    "duration": 310,
    "start_time": "2023-08-13T09:46:02.861Z"
   },
   {
    "duration": 2989,
    "start_time": "2023-08-13T09:46:03.174Z"
   },
   {
    "duration": 11,
    "start_time": "2023-08-13T09:46:06.166Z"
   },
   {
    "duration": 2680,
    "start_time": "2023-08-13T09:46:06.179Z"
   },
   {
    "duration": 4,
    "start_time": "2023-08-13T09:46:08.862Z"
   },
   {
    "duration": 76,
    "start_time": "2023-08-13T09:46:08.868Z"
   },
   {
    "duration": 0,
    "start_time": "2023-08-13T09:46:08.946Z"
   },
   {
    "duration": 0,
    "start_time": "2023-08-13T09:46:08.949Z"
   },
   {
    "duration": 5,
    "start_time": "2023-08-13T09:52:46.237Z"
   },
   {
    "duration": 11,
    "start_time": "2023-08-13T09:52:46.245Z"
   },
   {
    "duration": 440,
    "start_time": "2023-08-13T09:52:46.257Z"
   },
   {
    "duration": 4,
    "start_time": "2023-08-13T09:52:46.700Z"
   },
   {
    "duration": 189,
    "start_time": "2023-08-13T09:52:46.707Z"
   },
   {
    "duration": 2392,
    "start_time": "2023-08-13T09:52:46.898Z"
   },
   {
    "duration": 7,
    "start_time": "2023-08-13T09:52:49.292Z"
   },
   {
    "duration": 2262,
    "start_time": "2023-08-13T09:52:49.301Z"
   },
   {
    "duration": 7,
    "start_time": "2023-08-13T09:52:51.564Z"
   },
   {
    "duration": 392,
    "start_time": "2023-08-13T09:52:51.577Z"
   },
   {
    "duration": 42,
    "start_time": "2023-08-13T09:52:51.971Z"
   },
   {
    "duration": 12,
    "start_time": "2023-08-13T09:52:52.060Z"
   },
   {
    "duration": 5,
    "start_time": "2023-08-13T09:53:05.576Z"
   },
   {
    "duration": 3,
    "start_time": "2023-08-13T09:58:11.816Z"
   },
   {
    "duration": 1542,
    "start_time": "2023-08-13T09:58:12.253Z"
   },
   {
    "duration": 6,
    "start_time": "2023-08-13T09:58:29.199Z"
   },
   {
    "duration": 341,
    "start_time": "2023-08-13T10:01:47.697Z"
   },
   {
    "duration": 2982,
    "start_time": "2023-08-13T10:03:31.709Z"
   },
   {
    "duration": 2,
    "start_time": "2023-08-13T10:03:36.918Z"
   },
   {
    "duration": 8,
    "start_time": "2023-08-13T10:05:43.974Z"
   },
   {
    "duration": 4415,
    "start_time": "2023-08-13T10:06:00.198Z"
   },
   {
    "duration": 29,
    "start_time": "2023-08-13T10:06:47.472Z"
   },
   {
    "duration": 913,
    "start_time": "2023-08-13T10:06:59.146Z"
   },
   {
    "duration": 749,
    "start_time": "2023-08-13T10:07:28.017Z"
   },
   {
    "duration": 57,
    "start_time": "2023-08-13T10:08:25.724Z"
   },
   {
    "duration": 699,
    "start_time": "2023-08-13T10:08:32.307Z"
   },
   {
    "duration": 16394,
    "start_time": "2023-08-13T10:08:33.008Z"
   },
   {
    "duration": 10071,
    "start_time": "2023-08-13T10:08:49.404Z"
   },
   {
    "duration": 23,
    "start_time": "2023-08-13T10:08:59.477Z"
   },
   {
    "duration": 826,
    "start_time": "2023-08-13T10:08:59.566Z"
   },
   {
    "duration": 6611,
    "start_time": "2023-08-13T10:09:00.394Z"
   },
   {
    "duration": 77,
    "start_time": "2023-08-13T10:09:07.008Z"
   },
   {
    "duration": 4324,
    "start_time": "2023-08-13T10:09:07.087Z"
   },
   {
    "duration": 2049,
    "start_time": "2023-08-13T10:09:11.413Z"
   },
   {
    "duration": 300,
    "start_time": "2023-08-13T10:09:13.466Z"
   },
   {
    "duration": 5,
    "start_time": "2023-08-13T10:09:13.767Z"
   },
   {
    "duration": 1722,
    "start_time": "2023-08-13T10:09:13.774Z"
   },
   {
    "duration": 891,
    "start_time": "2023-08-13T10:09:15.497Z"
   },
   {
    "duration": 3304,
    "start_time": "2023-08-13T10:09:16.390Z"
   },
   {
    "duration": 65,
    "start_time": "2023-08-13T10:09:19.697Z"
   },
   {
    "duration": 4409,
    "start_time": "2023-08-13T10:09:19.768Z"
   },
   {
    "duration": 991,
    "start_time": "2023-08-13T10:09:24.179Z"
   },
   {
    "duration": 1092,
    "start_time": "2023-08-13T10:09:25.171Z"
   },
   {
    "duration": 230,
    "start_time": "2023-08-13T10:15:47.878Z"
   },
   {
    "duration": 9,
    "start_time": "2023-08-13T10:16:09.784Z"
   },
   {
    "duration": 17,
    "start_time": "2023-08-13T10:16:09.795Z"
   },
   {
    "duration": 587,
    "start_time": "2023-08-13T10:16:09.813Z"
   },
   {
    "duration": 61,
    "start_time": "2023-08-13T10:16:10.402Z"
   },
   {
    "duration": 197,
    "start_time": "2023-08-13T10:16:10.475Z"
   },
   {
    "duration": 2614,
    "start_time": "2023-08-13T10:16:10.674Z"
   },
   {
    "duration": 79,
    "start_time": "2023-08-13T10:16:13.290Z"
   },
   {
    "duration": 2534,
    "start_time": "2023-08-13T10:16:13.371Z"
   },
   {
    "duration": 504,
    "start_time": "2023-08-13T10:16:15.960Z"
   },
   {
    "duration": 41,
    "start_time": "2023-08-13T10:16:16.475Z"
   },
   {
    "duration": 3,
    "start_time": "2023-08-13T10:16:16.562Z"
   },
   {
    "duration": 619,
    "start_time": "2023-08-13T10:16:16.569Z"
   },
   {
    "duration": 316,
    "start_time": "2023-08-13T10:16:17.190Z"
   },
   {
    "duration": 382,
    "start_time": "2023-08-13T10:16:17.509Z"
   },
   {
    "duration": 2169,
    "start_time": "2023-08-13T10:16:17.893Z"
   },
   {
    "duration": 5,
    "start_time": "2023-08-13T10:16:20.064Z"
   },
   {
    "duration": 763,
    "start_time": "2023-08-13T10:20:18.552Z"
   },
   {
    "duration": 16656,
    "start_time": "2023-08-13T10:20:19.317Z"
   },
   {
    "duration": 9716,
    "start_time": "2023-08-13T10:20:35.976Z"
   },
   {
    "duration": 81,
    "start_time": "2023-08-13T10:20:45.694Z"
   },
   {
    "duration": 797,
    "start_time": "2023-08-13T10:20:45.777Z"
   },
   {
    "duration": 5858,
    "start_time": "2023-08-13T10:20:46.575Z"
   },
   {
    "duration": 20,
    "start_time": "2023-08-13T10:20:52.469Z"
   },
   {
    "duration": 3888,
    "start_time": "2023-08-13T10:20:52.491Z"
   },
   {
    "duration": 1799,
    "start_time": "2023-08-13T10:20:56.381Z"
   },
   {
    "duration": 407,
    "start_time": "2023-08-13T10:20:58.183Z"
   },
   {
    "duration": 3,
    "start_time": "2023-08-13T10:20:58.592Z"
   },
   {
    "duration": 1685,
    "start_time": "2023-08-13T10:20:58.598Z"
   },
   {
    "duration": 688,
    "start_time": "2023-08-13T10:21:00.284Z"
   },
   {
    "duration": 401,
    "start_time": "2023-08-13T10:21:00.975Z"
   },
   {
    "duration": 85,
    "start_time": "2023-08-13T10:21:01.379Z"
   },
   {
    "duration": 19,
    "start_time": "2023-08-13T10:21:01.466Z"
   },
   {
    "duration": 9191,
    "start_time": "2023-08-13T10:21:01.488Z"
   },
   {
    "duration": 987,
    "start_time": "2023-08-13T10:21:10.681Z"
   },
   {
    "duration": 905,
    "start_time": "2023-08-13T10:21:11.670Z"
   },
   {
    "duration": 298,
    "start_time": "2023-08-13T10:27:56.542Z"
   },
   {
    "duration": 4,
    "start_time": "2023-08-13T10:30:40.780Z"
   },
   {
    "duration": 1693,
    "start_time": "2023-08-13T10:30:54.425Z"
   },
   {
    "duration": 1922,
    "start_time": "2023-08-13T10:32:07.554Z"
   },
   {
    "duration": 3861,
    "start_time": "2023-08-13T10:34:05.572Z"
   },
   {
    "duration": 5,
    "start_time": "2023-08-13T10:44:27.872Z"
   },
   {
    "duration": 24,
    "start_time": "2023-08-13T10:44:27.879Z"
   },
   {
    "duration": 658,
    "start_time": "2023-08-13T10:44:27.905Z"
   },
   {
    "duration": 5,
    "start_time": "2023-08-13T10:44:28.565Z"
   },
   {
    "duration": 188,
    "start_time": "2023-08-13T10:44:28.572Z"
   },
   {
    "duration": 1932,
    "start_time": "2023-08-13T10:44:28.763Z"
   },
   {
    "duration": 70,
    "start_time": "2023-08-13T10:44:30.697Z"
   },
   {
    "duration": 1767,
    "start_time": "2023-08-13T10:44:30.769Z"
   },
   {
    "duration": 502,
    "start_time": "2023-08-13T10:44:32.566Z"
   },
   {
    "duration": 40,
    "start_time": "2023-08-13T10:44:33.070Z"
   },
   {
    "duration": 2,
    "start_time": "2023-08-13T10:44:33.112Z"
   },
   {
    "duration": 519,
    "start_time": "2023-08-13T10:44:33.163Z"
   },
   {
    "duration": 236,
    "start_time": "2023-08-13T10:44:33.684Z"
   },
   {
    "duration": 176,
    "start_time": "2023-08-13T10:44:33.923Z"
   },
   {
    "duration": 1487,
    "start_time": "2023-08-13T10:44:34.100Z"
   },
   {
    "duration": 1318,
    "start_time": "2023-08-13T10:44:35.589Z"
   },
   {
    "duration": 7,
    "start_time": "2023-08-13T10:44:36.909Z"
   },
   {
    "duration": 2479,
    "start_time": "2023-08-13T10:44:36.918Z"
   },
   {
    "duration": 2291,
    "start_time": "2023-08-13T10:44:39.399Z"
   },
   {
    "duration": 2,
    "start_time": "2023-08-13T10:44:41.693Z"
   },
   {
    "duration": 2585,
    "start_time": "2023-08-13T10:44:41.697Z"
   },
   {
    "duration": 826,
    "start_time": "2023-08-14T11:16:35.780Z"
   },
   {
    "duration": 16685,
    "start_time": "2023-08-14T11:16:36.608Z"
   },
   {
    "duration": 10302,
    "start_time": "2023-08-14T11:16:53.295Z"
   },
   {
    "duration": 77,
    "start_time": "2023-08-14T11:17:03.599Z"
   },
   {
    "duration": 810,
    "start_time": "2023-08-14T11:17:03.678Z"
   },
   {
    "duration": 6083,
    "start_time": "2023-08-14T11:17:04.491Z"
   },
   {
    "duration": 120,
    "start_time": "2023-08-14T11:17:10.576Z"
   },
   {
    "duration": 77,
    "start_time": "2023-08-14T11:17:31.350Z"
   },
   {
    "duration": 30,
    "start_time": "2023-08-14T11:17:50.768Z"
   },
   {
    "duration": 123,
    "start_time": "2023-08-14T11:18:18.009Z"
   },
   {
    "duration": 60,
    "start_time": "2023-08-14T11:18:22.110Z"
   },
   {
    "duration": 17,
    "start_time": "2023-08-14T11:18:36.972Z"
   },
   {
    "duration": 21,
    "start_time": "2023-08-14T11:20:12.814Z"
   },
   {
    "duration": 360,
    "start_time": "2023-08-14T11:20:33.317Z"
   },
   {
    "duration": 24,
    "start_time": "2023-08-14T11:20:45.534Z"
   },
   {
    "duration": 25,
    "start_time": "2023-08-14T11:21:28.933Z"
   },
   {
    "duration": 23,
    "start_time": "2023-08-14T11:21:37.382Z"
   },
   {
    "duration": 27,
    "start_time": "2023-08-14T11:22:00.941Z"
   },
   {
    "duration": 20,
    "start_time": "2023-08-14T11:22:06.942Z"
   },
   {
    "duration": 24,
    "start_time": "2023-08-14T11:22:15.837Z"
   },
   {
    "duration": 646,
    "start_time": "2023-08-14T11:23:38.638Z"
   },
   {
    "duration": 33,
    "start_time": "2023-08-14T11:24:45.397Z"
   },
   {
    "duration": 16,
    "start_time": "2023-08-14T11:27:53.613Z"
   },
   {
    "duration": 349,
    "start_time": "2023-08-14T11:28:04.525Z"
   },
   {
    "duration": 8,
    "start_time": "2023-08-14T11:28:40.597Z"
   },
   {
    "duration": 25,
    "start_time": "2023-08-14T11:32:00.412Z"
   },
   {
    "duration": 48,
    "start_time": "2023-08-14T11:32:32.323Z"
   },
   {
    "duration": 23,
    "start_time": "2023-08-14T11:32:32.971Z"
   },
   {
    "duration": 22,
    "start_time": "2023-08-14T11:33:28.044Z"
   },
   {
    "duration": 23,
    "start_time": "2023-08-14T11:33:46.587Z"
   },
   {
    "duration": 20,
    "start_time": "2023-08-14T11:35:40.210Z"
   },
   {
    "duration": 5,
    "start_time": "2023-08-14T11:39:24.512Z"
   },
   {
    "duration": 13,
    "start_time": "2023-08-14T11:39:24.519Z"
   },
   {
    "duration": 745,
    "start_time": "2023-08-14T11:39:24.533Z"
   },
   {
    "duration": 5,
    "start_time": "2023-08-14T11:39:25.280Z"
   },
   {
    "duration": 288,
    "start_time": "2023-08-14T11:39:25.287Z"
   },
   {
    "duration": 3112,
    "start_time": "2023-08-14T11:39:25.578Z"
   },
   {
    "duration": 189,
    "start_time": "2023-08-14T11:39:37.670Z"
   },
   {
    "duration": 107,
    "start_time": "2023-08-14T11:40:17.396Z"
   },
   {
    "duration": 323,
    "start_time": "2023-08-14T11:40:26.139Z"
   },
   {
    "duration": 22,
    "start_time": "2023-08-14T11:41:06.715Z"
   },
   {
    "duration": 3096,
    "start_time": "2023-08-14T11:45:07.586Z"
   },
   {
    "duration": 2123,
    "start_time": "2023-08-14T11:45:17.538Z"
   },
   {
    "duration": 23,
    "start_time": "2023-08-14T11:45:25.603Z"
   },
   {
    "duration": 5,
    "start_time": "2023-08-14T11:47:05.819Z"
   },
   {
    "duration": 14,
    "start_time": "2023-08-14T11:47:08.442Z"
   },
   {
    "duration": 106,
    "start_time": "2023-08-14T11:47:29.570Z"
   },
   {
    "duration": 5,
    "start_time": "2023-08-14T11:47:58.482Z"
   },
   {
    "duration": 51,
    "start_time": "2023-08-14T11:47:58.489Z"
   },
   {
    "duration": 518,
    "start_time": "2023-08-14T11:47:58.542Z"
   },
   {
    "duration": 4,
    "start_time": "2023-08-14T11:47:59.062Z"
   },
   {
    "duration": 150,
    "start_time": "2023-08-14T11:47:59.069Z"
   },
   {
    "duration": 2180,
    "start_time": "2023-08-14T11:47:59.221Z"
   },
   {
    "duration": 236,
    "start_time": "2023-08-14T11:48:01.403Z"
   },
   {
    "duration": 3117,
    "start_time": "2023-08-14T11:48:01.660Z"
   },
   {
    "duration": 13,
    "start_time": "2023-08-14T11:49:42.371Z"
   },
   {
    "duration": 20,
    "start_time": "2023-08-14T11:50:17.202Z"
   },
   {
    "duration": 18,
    "start_time": "2023-08-14T11:51:05.434Z"
   },
   {
    "duration": 22,
    "start_time": "2023-08-14T11:51:29.770Z"
   },
   {
    "duration": 20,
    "start_time": "2023-08-14T11:51:41.816Z"
   },
   {
    "duration": 157,
    "start_time": "2023-08-14T11:51:49.201Z"
   },
   {
    "duration": 21,
    "start_time": "2023-08-14T11:52:09.521Z"
   },
   {
    "duration": 163,
    "start_time": "2023-08-14T11:52:17.128Z"
   },
   {
    "duration": 15,
    "start_time": "2023-08-14T11:59:11.200Z"
   },
   {
    "duration": 24,
    "start_time": "2023-08-14T11:59:15.687Z"
   },
   {
    "duration": 13,
    "start_time": "2023-08-14T11:59:29.979Z"
   },
   {
    "duration": 15,
    "start_time": "2023-08-14T11:59:44.177Z"
   },
   {
    "duration": 23,
    "start_time": "2023-08-14T11:59:52.373Z"
   },
   {
    "duration": 194,
    "start_time": "2023-08-14T12:00:42.576Z"
   },
   {
    "duration": 17,
    "start_time": "2023-08-14T12:00:57.471Z"
   },
   {
    "duration": 162,
    "start_time": "2023-08-14T12:01:57.822Z"
   },
   {
    "duration": 22,
    "start_time": "2023-08-14T12:02:17.504Z"
   },
   {
    "duration": 9,
    "start_time": "2023-08-14T12:06:18.875Z"
   },
   {
    "duration": 864,
    "start_time": "2023-08-14T12:06:57.608Z"
   },
   {
    "duration": 2415,
    "start_time": "2023-08-14T12:07:02.480Z"
   },
   {
    "duration": 715,
    "start_time": "2023-08-14T12:22:06.679Z"
   },
   {
    "duration": 17105,
    "start_time": "2023-08-14T12:22:07.397Z"
   },
   {
    "duration": 10584,
    "start_time": "2023-08-14T12:22:24.504Z"
   },
   {
    "duration": 87,
    "start_time": "2023-08-14T12:22:35.091Z"
   },
   {
    "duration": 892,
    "start_time": "2023-08-14T12:22:35.185Z"
   },
   {
    "duration": 5621,
    "start_time": "2023-08-14T12:22:36.079Z"
   },
   {
    "duration": 2014,
    "start_time": "2023-08-14T12:22:41.760Z"
   },
   {
    "duration": 3422,
    "start_time": "2023-08-14T12:22:43.776Z"
   },
   {
    "duration": 1663,
    "start_time": "2023-08-14T12:22:47.200Z"
   },
   {
    "duration": 1916,
    "start_time": "2023-08-14T12:22:48.865Z"
   },
   {
    "duration": 209,
    "start_time": "2023-08-14T12:22:50.783Z"
   },
   {
    "duration": 0,
    "start_time": "2023-08-14T12:22:50.995Z"
   },
   {
    "duration": 0,
    "start_time": "2023-08-14T12:22:50.997Z"
   },
   {
    "duration": 0,
    "start_time": "2023-08-14T12:22:50.998Z"
   },
   {
    "duration": 0,
    "start_time": "2023-08-14T12:22:51.059Z"
   },
   {
    "duration": 0,
    "start_time": "2023-08-14T12:22:51.061Z"
   },
   {
    "duration": 0,
    "start_time": "2023-08-14T12:22:51.062Z"
   },
   {
    "duration": 489,
    "start_time": "2023-08-14T12:23:36.578Z"
   },
   {
    "duration": 2,
    "start_time": "2023-08-14T12:23:39.206Z"
   },
   {
    "duration": 1778,
    "start_time": "2023-08-14T12:23:39.902Z"
   },
   {
    "duration": 68,
    "start_time": "2023-08-14T12:23:45.373Z"
   },
   {
    "duration": 1382,
    "start_time": "2023-08-14T12:25:58.678Z"
   },
   {
    "duration": 14,
    "start_time": "2023-08-14T12:26:37.182Z"
   },
   {
    "duration": 4106,
    "start_time": "2023-08-14T12:26:53.773Z"
   },
   {
    "duration": 2537,
    "start_time": "2023-08-14T12:27:13.435Z"
   },
   {
    "duration": 878,
    "start_time": "2023-08-14T12:27:20.099Z"
   },
   {
    "duration": 763,
    "start_time": "2023-08-14T12:28:32.037Z"
   },
   {
    "duration": 16359,
    "start_time": "2023-08-14T12:28:32.802Z"
   },
   {
    "duration": 9097,
    "start_time": "2023-08-14T12:28:49.164Z"
   },
   {
    "duration": 17,
    "start_time": "2023-08-14T12:28:58.263Z"
   },
   {
    "duration": 713,
    "start_time": "2023-08-14T12:28:58.282Z"
   },
   {
    "duration": 5784,
    "start_time": "2023-08-14T12:28:58.997Z"
   },
   {
    "duration": 1895,
    "start_time": "2023-08-14T12:29:04.782Z"
   },
   {
    "duration": 3543,
    "start_time": "2023-08-14T12:29:06.680Z"
   },
   {
    "duration": 1763,
    "start_time": "2023-08-14T12:29:10.225Z"
   },
   {
    "duration": 1875,
    "start_time": "2023-08-14T12:29:11.991Z"
   },
   {
    "duration": 415,
    "start_time": "2023-08-14T12:29:13.868Z"
   },
   {
    "duration": 3,
    "start_time": "2023-08-14T12:29:14.286Z"
   },
   {
    "duration": 1571,
    "start_time": "2023-08-14T12:29:14.291Z"
   },
   {
    "duration": 1295,
    "start_time": "2023-08-14T12:29:15.864Z"
   },
   {
    "duration": 3561,
    "start_time": "2023-08-14T12:29:17.161Z"
   },
   {
    "duration": 2438,
    "start_time": "2023-08-14T12:29:20.759Z"
   },
   {
    "duration": 933,
    "start_time": "2023-08-14T12:29:23.200Z"
   },
   {
    "duration": 0,
    "start_time": "2023-08-14T12:29:24.136Z"
   },
   {
    "duration": 20,
    "start_time": "2023-08-14T12:30:22.652Z"
   },
   {
    "duration": 2074,
    "start_time": "2023-08-14T12:31:02.427Z"
   },
   {
    "duration": 2016,
    "start_time": "2023-08-14T12:31:09.954Z"
   },
   {
    "duration": 490,
    "start_time": "2023-08-14T12:31:15.678Z"
   },
   {
    "duration": 661,
    "start_time": "2023-08-14T12:32:14.939Z"
   },
   {
    "duration": 300,
    "start_time": "2023-08-14T12:32:36.199Z"
   },
   {
    "duration": 799,
    "start_time": "2023-08-14T12:32:43.790Z"
   },
   {
    "duration": 16005,
    "start_time": "2023-08-14T12:32:44.592Z"
   },
   {
    "duration": 9568,
    "start_time": "2023-08-14T12:33:00.600Z"
   },
   {
    "duration": 17,
    "start_time": "2023-08-14T12:33:10.170Z"
   },
   {
    "duration": 878,
    "start_time": "2023-08-14T12:33:10.190Z"
   },
   {
    "duration": 6011,
    "start_time": "2023-08-14T12:33:11.070Z"
   },
   {
    "duration": 1999,
    "start_time": "2023-08-14T12:33:17.083Z"
   },
   {
    "duration": 4094,
    "start_time": "2023-08-14T12:33:19.085Z"
   },
   {
    "duration": 2293,
    "start_time": "2023-08-14T12:33:23.181Z"
   },
   {
    "duration": 1883,
    "start_time": "2023-08-14T12:33:25.476Z"
   },
   {
    "duration": 432,
    "start_time": "2023-08-14T12:33:27.362Z"
   },
   {
    "duration": 3,
    "start_time": "2023-08-14T12:33:27.860Z"
   },
   {
    "duration": 1910,
    "start_time": "2023-08-14T12:33:27.866Z"
   },
   {
    "duration": 1978,
    "start_time": "2023-08-14T12:33:29.780Z"
   },
   {
    "duration": 4527,
    "start_time": "2023-08-14T12:33:31.761Z"
   },
   {
    "duration": 2682,
    "start_time": "2023-08-14T12:33:36.291Z"
   },
   {
    "duration": 1114,
    "start_time": "2023-08-14T12:33:38.975Z"
   },
   {
    "duration": 0,
    "start_time": "2023-08-14T12:33:40.091Z"
   },
   {
    "duration": 0,
    "start_time": "2023-08-14T12:33:40.092Z"
   },
   {
    "duration": 924,
    "start_time": "2023-08-14T12:34:30.819Z"
   },
   {
    "duration": 33386,
    "start_time": "2023-08-14T12:35:07.746Z"
   },
   {
    "duration": 864,
    "start_time": "2023-08-14T12:36:12.210Z"
   },
   {
    "duration": 36146,
    "start_time": "2023-08-14T12:36:25.130Z"
   },
   {
    "duration": 4,
    "start_time": "2023-08-14T12:37:06.835Z"
   },
   {
    "duration": 491,
    "start_time": "2023-08-14T12:37:06.841Z"
   },
   {
    "duration": 0,
    "start_time": "2023-08-14T12:37:07.334Z"
   },
   {
    "duration": 0,
    "start_time": "2023-08-14T12:37:07.335Z"
   },
   {
    "duration": 0,
    "start_time": "2023-08-14T12:37:07.337Z"
   },
   {
    "duration": 0,
    "start_time": "2023-08-14T12:37:07.338Z"
   },
   {
    "duration": 0,
    "start_time": "2023-08-14T12:37:07.340Z"
   },
   {
    "duration": 0,
    "start_time": "2023-08-14T12:37:07.341Z"
   },
   {
    "duration": 0,
    "start_time": "2023-08-14T12:37:07.342Z"
   },
   {
    "duration": 0,
    "start_time": "2023-08-14T12:37:07.343Z"
   },
   {
    "duration": 0,
    "start_time": "2023-08-14T12:37:07.344Z"
   },
   {
    "duration": 0,
    "start_time": "2023-08-14T12:37:07.359Z"
   },
   {
    "duration": 0,
    "start_time": "2023-08-14T12:37:07.360Z"
   },
   {
    "duration": 0,
    "start_time": "2023-08-14T12:37:07.361Z"
   },
   {
    "duration": 0,
    "start_time": "2023-08-14T12:37:07.362Z"
   },
   {
    "duration": 0,
    "start_time": "2023-08-14T12:37:07.363Z"
   },
   {
    "duration": 0,
    "start_time": "2023-08-14T12:37:07.364Z"
   },
   {
    "duration": 0,
    "start_time": "2023-08-14T12:37:07.365Z"
   },
   {
    "duration": 0,
    "start_time": "2023-08-14T12:37:07.366Z"
   },
   {
    "duration": 0,
    "start_time": "2023-08-14T12:37:07.367Z"
   },
   {
    "duration": 34961,
    "start_time": "2023-08-14T12:37:52.146Z"
   },
   {
    "duration": 546,
    "start_time": "2023-08-14T12:38:38.309Z"
   },
   {
    "duration": 0,
    "start_time": "2023-08-14T12:38:38.857Z"
   },
   {
    "duration": 0,
    "start_time": "2023-08-14T12:38:38.859Z"
   },
   {
    "duration": 0,
    "start_time": "2023-08-14T12:38:38.860Z"
   },
   {
    "duration": 0,
    "start_time": "2023-08-14T12:38:38.861Z"
   },
   {
    "duration": 0,
    "start_time": "2023-08-14T12:38:38.862Z"
   },
   {
    "duration": 0,
    "start_time": "2023-08-14T12:38:38.863Z"
   },
   {
    "duration": 0,
    "start_time": "2023-08-14T12:38:38.864Z"
   },
   {
    "duration": 0,
    "start_time": "2023-08-14T12:38:38.865Z"
   },
   {
    "duration": 0,
    "start_time": "2023-08-14T12:38:38.866Z"
   },
   {
    "duration": 0,
    "start_time": "2023-08-14T12:38:38.868Z"
   },
   {
    "duration": 0,
    "start_time": "2023-08-14T12:38:38.868Z"
   },
   {
    "duration": 0,
    "start_time": "2023-08-14T12:38:38.869Z"
   },
   {
    "duration": 0,
    "start_time": "2023-08-14T12:38:38.870Z"
   },
   {
    "duration": 0,
    "start_time": "2023-08-14T12:38:38.871Z"
   },
   {
    "duration": 0,
    "start_time": "2023-08-14T12:38:38.872Z"
   },
   {
    "duration": 0,
    "start_time": "2023-08-14T12:38:38.873Z"
   },
   {
    "duration": 0,
    "start_time": "2023-08-14T12:38:38.874Z"
   },
   {
    "duration": 0,
    "start_time": "2023-08-14T12:38:38.875Z"
   },
   {
    "duration": 1195,
    "start_time": "2023-08-14T12:40:39.676Z"
   },
   {
    "duration": 17,
    "start_time": "2023-08-14T12:41:42.797Z"
   },
   {
    "duration": 2373,
    "start_time": "2023-08-14T12:42:17.545Z"
   },
   {
    "duration": 465,
    "start_time": "2023-08-14T12:42:57.984Z"
   },
   {
    "duration": 2421,
    "start_time": "2023-08-14T12:43:03.432Z"
   },
   {
    "duration": 542,
    "start_time": "2023-08-14T12:43:26.953Z"
   },
   {
    "duration": 883,
    "start_time": "2023-08-14T12:45:35.469Z"
   },
   {
    "duration": 1201,
    "start_time": "2023-08-14T12:45:39.920Z"
   },
   {
    "duration": 1235,
    "start_time": "2023-08-14T12:46:56.752Z"
   },
   {
    "duration": 2441,
    "start_time": "2023-08-14T12:49:34.120Z"
   },
   {
    "duration": 109,
    "start_time": "2023-08-14T12:51:28.399Z"
   },
   {
    "duration": 104,
    "start_time": "2023-08-14T12:51:50.594Z"
   },
   {
    "duration": 30002,
    "start_time": "2023-08-14T12:51:59.439Z"
   },
   {
    "duration": 18,
    "start_time": "2023-08-14T12:53:01.885Z"
   },
   {
    "duration": 4531,
    "start_time": "2023-08-14T12:53:38.397Z"
   },
   {
    "duration": 17,
    "start_time": "2023-08-14T12:53:45.984Z"
   },
   {
    "duration": 9267,
    "start_time": "2023-08-14T12:54:22.791Z"
   },
   {
    "duration": 5659,
    "start_time": "2023-08-14T12:55:45.679Z"
   },
   {
    "duration": 23,
    "start_time": "2023-08-14T12:55:54.116Z"
   },
   {
    "duration": 717,
    "start_time": "2023-08-14T12:56:02.703Z"
   },
   {
    "duration": 5,
    "start_time": "2023-08-14T12:56:13.082Z"
   },
   {
    "duration": 14091,
    "start_time": "2023-08-14T12:56:13.089Z"
   },
   {
    "duration": 10487,
    "start_time": "2023-08-14T12:56:27.182Z"
   },
   {
    "duration": 5,
    "start_time": "2023-08-14T12:56:37.671Z"
   },
   {
    "duration": 805,
    "start_time": "2023-08-14T12:56:37.678Z"
   },
   {
    "duration": 6781,
    "start_time": "2023-08-14T12:56:38.485Z"
   },
   {
    "duration": 1397,
    "start_time": "2023-08-14T12:56:45.268Z"
   },
   {
    "duration": 3892,
    "start_time": "2023-08-14T12:56:46.668Z"
   },
   {
    "duration": 1926,
    "start_time": "2023-08-14T12:56:50.562Z"
   },
   {
    "duration": 1994,
    "start_time": "2023-08-14T12:56:52.490Z"
   },
   {
    "duration": 390,
    "start_time": "2023-08-14T12:56:54.486Z"
   },
   {
    "duration": 3,
    "start_time": "2023-08-14T12:56:54.878Z"
   },
   {
    "duration": 2210,
    "start_time": "2023-08-14T12:56:54.883Z"
   },
   {
    "duration": 1765,
    "start_time": "2023-08-14T12:56:57.096Z"
   },
   {
    "duration": 4222,
    "start_time": "2023-08-14T12:56:58.863Z"
   },
   {
    "duration": 2497,
    "start_time": "2023-08-14T12:57:03.088Z"
   },
   {
    "duration": 1130,
    "start_time": "2023-08-14T12:57:05.587Z"
   },
   {
    "duration": 0,
    "start_time": "2023-08-14T12:57:06.719Z"
   },
   {
    "duration": 0,
    "start_time": "2023-08-14T12:57:06.721Z"
   },
   {
    "duration": 4,
    "start_time": "2023-08-14T13:04:30.301Z"
   },
   {
    "duration": 1070,
    "start_time": "2023-08-14T13:04:35.947Z"
   },
   {
    "duration": 1402,
    "start_time": "2023-08-14T13:04:40.903Z"
   },
   {
    "duration": 0,
    "start_time": "2023-08-14T13:04:42.308Z"
   },
   {
    "duration": 1835,
    "start_time": "2023-08-14T13:15:10.392Z"
   },
   {
    "duration": 731,
    "start_time": "2023-08-14T13:16:05.278Z"
   },
   {
    "duration": 783,
    "start_time": "2023-08-14T13:38:58.830Z"
   },
   {
    "duration": 13780,
    "start_time": "2023-08-14T13:38:59.615Z"
   },
   {
    "duration": 10585,
    "start_time": "2023-08-14T13:39:13.397Z"
   },
   {
    "duration": 6,
    "start_time": "2023-08-14T13:39:23.984Z"
   },
   {
    "duration": 989,
    "start_time": "2023-08-14T13:39:23.993Z"
   },
   {
    "duration": 7077,
    "start_time": "2023-08-14T13:39:24.983Z"
   },
   {
    "duration": 1432,
    "start_time": "2023-08-14T13:39:32.063Z"
   },
   {
    "duration": 4024,
    "start_time": "2023-08-14T13:39:33.560Z"
   },
   {
    "duration": 2073,
    "start_time": "2023-08-14T13:39:37.586Z"
   },
   {
    "duration": 1929,
    "start_time": "2023-08-14T13:39:39.661Z"
   },
   {
    "duration": 473,
    "start_time": "2023-08-14T13:39:41.592Z"
   },
   {
    "duration": 4,
    "start_time": "2023-08-14T13:39:42.067Z"
   },
   {
    "duration": 2416,
    "start_time": "2023-08-14T13:39:42.072Z"
   },
   {
    "duration": 1760,
    "start_time": "2023-08-14T13:39:44.490Z"
   },
   {
    "duration": 4051,
    "start_time": "2023-08-14T13:39:46.251Z"
   },
   {
    "duration": 2461,
    "start_time": "2023-08-14T13:39:50.304Z"
   },
   {
    "duration": 1118,
    "start_time": "2023-08-14T13:39:52.767Z"
   },
   {
    "duration": 0,
    "start_time": "2023-08-14T13:39:53.888Z"
   },
   {
    "duration": 0,
    "start_time": "2023-08-14T13:39:53.890Z"
   },
   {
    "duration": 739,
    "start_time": "2023-08-14T13:45:55.553Z"
   },
   {
    "duration": 620,
    "start_time": "2023-08-14T13:46:43.475Z"
   },
   {
    "duration": 1694,
    "start_time": "2023-08-14T13:47:02.498Z"
   },
   {
    "duration": 966,
    "start_time": "2023-08-14T13:48:08.626Z"
   },
   {
    "duration": 619,
    "start_time": "2023-08-14T13:48:15.714Z"
   },
   {
    "duration": 947,
    "start_time": "2023-08-14T13:48:16.370Z"
   },
   {
    "duration": 714,
    "start_time": "2023-08-14T13:48:21.402Z"
   },
   {
    "duration": 940,
    "start_time": "2023-08-14T13:48:38.957Z"
   },
   {
    "duration": 671,
    "start_time": "2023-08-14T13:48:51.654Z"
   },
   {
    "duration": 1731,
    "start_time": "2023-08-14T13:49:12.053Z"
   },
   {
    "duration": 1499,
    "start_time": "2023-08-14T13:49:16.268Z"
   },
   {
    "duration": 548,
    "start_time": "2023-08-14T13:49:19.985Z"
   },
   {
    "duration": 933,
    "start_time": "2023-08-14T13:49:23.482Z"
   },
   {
    "duration": 4,
    "start_time": "2023-08-14T13:50:42.610Z"
   },
   {
    "duration": 554,
    "start_time": "2023-08-14T13:50:46.862Z"
   },
   {
    "duration": 124,
    "start_time": "2023-08-14T13:51:58.618Z"
   },
   {
    "duration": 28,
    "start_time": "2023-08-14T13:52:06.579Z"
   },
   {
    "duration": 1627,
    "start_time": "2023-08-14T13:52:29.763Z"
   },
   {
    "duration": 1061,
    "start_time": "2023-08-14T13:52:44.456Z"
   },
   {
    "duration": 969,
    "start_time": "2023-08-14T13:52:48.010Z"
   },
   {
    "duration": 777,
    "start_time": "2023-08-14T13:53:58.689Z"
   },
   {
    "duration": 9,
    "start_time": "2023-08-14T13:56:43.657Z"
   },
   {
    "duration": 252,
    "start_time": "2023-08-14T13:57:17.519Z"
   },
   {
    "duration": 291,
    "start_time": "2023-08-14T13:57:22.873Z"
   },
   {
    "duration": 14,
    "start_time": "2023-08-14T13:58:02.472Z"
   },
   {
    "duration": 4,
    "start_time": "2023-08-14T13:58:31.279Z"
   },
   {
    "duration": 405,
    "start_time": "2023-08-14T13:58:54.919Z"
   },
   {
    "duration": 6,
    "start_time": "2023-08-14T14:00:21.799Z"
   },
   {
    "duration": 5,
    "start_time": "2023-08-14T14:04:02.696Z"
   },
   {
    "duration": 118,
    "start_time": "2023-08-14T14:04:02.703Z"
   },
   {
    "duration": 470,
    "start_time": "2023-08-14T14:04:02.823Z"
   },
   {
    "duration": 5,
    "start_time": "2023-08-14T14:04:03.294Z"
   },
   {
    "duration": 173,
    "start_time": "2023-08-14T14:04:03.301Z"
   },
   {
    "duration": 2220,
    "start_time": "2023-08-14T14:04:03.476Z"
   },
   {
    "duration": 487,
    "start_time": "2023-08-14T14:04:05.698Z"
   },
   {
    "duration": 2085,
    "start_time": "2023-08-14T14:04:06.187Z"
   },
   {
    "duration": 643,
    "start_time": "2023-08-14T14:04:08.273Z"
   },
   {
    "duration": 689,
    "start_time": "2023-08-14T14:04:08.919Z"
   },
   {
    "duration": 176,
    "start_time": "2023-08-14T14:04:09.611Z"
   },
   {
    "duration": 3,
    "start_time": "2023-08-14T14:04:09.788Z"
   },
   {
    "duration": 1003,
    "start_time": "2023-08-14T14:04:09.793Z"
   },
   {
    "duration": 926,
    "start_time": "2023-08-14T14:04:10.798Z"
   },
   {
    "duration": 1564,
    "start_time": "2023-08-14T14:04:11.726Z"
   },
   {
    "duration": 1334,
    "start_time": "2023-08-14T14:04:13.292Z"
   },
   {
    "duration": 975,
    "start_time": "2023-08-14T14:04:14.628Z"
   },
   {
    "duration": 831,
    "start_time": "2023-08-14T14:04:15.605Z"
   },
   {
    "duration": 0,
    "start_time": "2023-08-14T14:04:16.439Z"
   },
   {
    "duration": 845,
    "start_time": "2023-08-15T17:17:01.114Z"
   },
   {
    "duration": 15699,
    "start_time": "2023-08-15T17:17:01.961Z"
   },
   {
    "duration": 8836,
    "start_time": "2023-08-15T17:17:17.662Z"
   },
   {
    "duration": 15,
    "start_time": "2023-08-15T17:17:26.556Z"
   },
   {
    "duration": 691,
    "start_time": "2023-08-15T17:17:26.574Z"
   },
   {
    "duration": 5101,
    "start_time": "2023-08-15T17:17:27.267Z"
   },
   {
    "duration": 1796,
    "start_time": "2023-08-15T17:17:32.371Z"
   },
   {
    "duration": 1703,
    "start_time": "2023-08-15T17:17:34.169Z"
   },
   {
    "duration": 1694,
    "start_time": "2023-08-15T17:17:35.874Z"
   },
   {
    "duration": 390,
    "start_time": "2023-08-15T17:17:37.570Z"
   },
   {
    "duration": 3,
    "start_time": "2023-08-15T17:17:37.962Z"
   },
   {
    "duration": 1712,
    "start_time": "2023-08-15T17:17:37.967Z"
   },
   {
    "duration": 1398,
    "start_time": "2023-08-15T17:17:39.681Z"
   },
   {
    "duration": 3803,
    "start_time": "2023-08-15T17:17:41.082Z"
   },
   {
    "duration": 2269,
    "start_time": "2023-08-15T17:17:44.888Z"
   },
   {
    "duration": 1256,
    "start_time": "2023-08-15T17:17:47.159Z"
   },
   {
    "duration": 1379,
    "start_time": "2023-08-15T17:17:48.417Z"
   },
   {
    "duration": 181,
    "start_time": "2023-08-15T17:17:49.798Z"
   }
  ],
  "colab": {
   "name": "PySparkSprint.ipynb",
   "provenance": []
  },
  "kernelspec": {
   "display_name": "Python 3 (ipykernel)",
   "language": "python",
   "name": "python3"
  },
  "language_info": {
   "codemirror_mode": {
    "name": "ipython",
    "version": 3
   },
   "file_extension": ".py",
   "mimetype": "text/x-python",
   "name": "python",
   "nbconvert_exporter": "python",
   "pygments_lexer": "ipython3",
   "version": "3.9.13"
  },
  "toc": {
   "base_numbering": 1,
   "nav_menu": {},
   "number_sections": true,
   "sideBar": true,
   "skip_h1_title": true,
   "title_cell": "Table of Contents",
   "title_sidebar": "Contents",
   "toc_cell": false,
   "toc_position": {},
   "toc_section_display": true,
   "toc_window_display": false
  }
 },
 "nbformat": 4,
 "nbformat_minor": 5
}
