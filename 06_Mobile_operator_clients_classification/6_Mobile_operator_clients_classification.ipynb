{
 "cells": [
  {
   "cell_type": "markdown",
   "metadata": {},
   "source": [
    "# Классификация клиентов телеком компании"
   ]
  },
  {
   "cell_type": "markdown",
   "metadata": {},
   "source": [
    "В моем распоряжении данные о поведении клиентов, которые уже перешли на эти тарифы. Нужно построить модель для задачи классификации, которая выберет подходящий тариф.\n",
    "\n",
    "Необходимо построить модель с максимально большим значением *accuracy*. "
   ]
  },
  {
   "cell_type": "markdown",
   "metadata": {},
   "source": [
    "Описание данных\n",
    "\n",
    "Каждый объект в наборе данных — это информация о поведении одного пользователя за месяц. Известно:\n",
    "- сalls — количество звонков,\n",
    "- minutes — суммарная длительность звонков в минутах,\n",
    "- messages — количество sms-сообщений,\n",
    "- mb_used — израсходованный интернет-трафик в Мб,\n",
    "- is_ultra — каким тарифом пользовался в течение месяца («Ультра» — 1, «Смарт» — 0)."
   ]
  },
  {
   "cell_type": "markdown",
   "metadata": {},
   "source": [
    "## Откроем и изучим файл"
   ]
  },
  {
   "cell_type": "code",
   "execution_count": 84,
   "metadata": {},
   "outputs": [],
   "source": [
    "import matplotlib.pyplot as plt\n",
    "import pandas as pd\n",
    "import sklearn.metrics\n",
    "from sklearn.model_selection import train_test_split\n",
    "from sklearn.tree import DecisionTreeClassifier\n",
    "from sklearn.ensemble import RandomForestClassifier\n",
    "from sklearn.linear_model import LogisticRegression\n",
    "from sklearn.metrics import accuracy_score\n",
    "from tqdm import tqdm"
   ]
  },
  {
   "cell_type": "code",
   "execution_count": 85,
   "metadata": {},
   "outputs": [],
   "source": [
    "df = pd.read_csv('/datasets/users_behavior.csv')"
   ]
  },
  {
   "cell_type": "code",
   "execution_count": 86,
   "metadata": {},
   "outputs": [
    {
     "data": {
      "text/html": [
       "<div>\n",
       "<style scoped>\n",
       "    .dataframe tbody tr th:only-of-type {\n",
       "        vertical-align: middle;\n",
       "    }\n",
       "\n",
       "    .dataframe tbody tr th {\n",
       "        vertical-align: top;\n",
       "    }\n",
       "\n",
       "    .dataframe thead th {\n",
       "        text-align: right;\n",
       "    }\n",
       "</style>\n",
       "<table border=\"1\" class=\"dataframe\">\n",
       "  <thead>\n",
       "    <tr style=\"text-align: right;\">\n",
       "      <th></th>\n",
       "      <th>calls</th>\n",
       "      <th>minutes</th>\n",
       "      <th>messages</th>\n",
       "      <th>mb_used</th>\n",
       "      <th>is_ultra</th>\n",
       "    </tr>\n",
       "  </thead>\n",
       "  <tbody>\n",
       "    <tr>\n",
       "      <th>0</th>\n",
       "      <td>40.0</td>\n",
       "      <td>311.90</td>\n",
       "      <td>83.0</td>\n",
       "      <td>19915.42</td>\n",
       "      <td>0</td>\n",
       "    </tr>\n",
       "    <tr>\n",
       "      <th>1</th>\n",
       "      <td>85.0</td>\n",
       "      <td>516.75</td>\n",
       "      <td>56.0</td>\n",
       "      <td>22696.96</td>\n",
       "      <td>0</td>\n",
       "    </tr>\n",
       "    <tr>\n",
       "      <th>2</th>\n",
       "      <td>77.0</td>\n",
       "      <td>467.66</td>\n",
       "      <td>86.0</td>\n",
       "      <td>21060.45</td>\n",
       "      <td>0</td>\n",
       "    </tr>\n",
       "    <tr>\n",
       "      <th>3</th>\n",
       "      <td>106.0</td>\n",
       "      <td>745.53</td>\n",
       "      <td>81.0</td>\n",
       "      <td>8437.39</td>\n",
       "      <td>1</td>\n",
       "    </tr>\n",
       "    <tr>\n",
       "      <th>4</th>\n",
       "      <td>66.0</td>\n",
       "      <td>418.74</td>\n",
       "      <td>1.0</td>\n",
       "      <td>14502.75</td>\n",
       "      <td>0</td>\n",
       "    </tr>\n",
       "    <tr>\n",
       "      <th>...</th>\n",
       "      <td>...</td>\n",
       "      <td>...</td>\n",
       "      <td>...</td>\n",
       "      <td>...</td>\n",
       "      <td>...</td>\n",
       "    </tr>\n",
       "    <tr>\n",
       "      <th>3209</th>\n",
       "      <td>122.0</td>\n",
       "      <td>910.98</td>\n",
       "      <td>20.0</td>\n",
       "      <td>35124.90</td>\n",
       "      <td>1</td>\n",
       "    </tr>\n",
       "    <tr>\n",
       "      <th>3210</th>\n",
       "      <td>25.0</td>\n",
       "      <td>190.36</td>\n",
       "      <td>0.0</td>\n",
       "      <td>3275.61</td>\n",
       "      <td>0</td>\n",
       "    </tr>\n",
       "    <tr>\n",
       "      <th>3211</th>\n",
       "      <td>97.0</td>\n",
       "      <td>634.44</td>\n",
       "      <td>70.0</td>\n",
       "      <td>13974.06</td>\n",
       "      <td>0</td>\n",
       "    </tr>\n",
       "    <tr>\n",
       "      <th>3212</th>\n",
       "      <td>64.0</td>\n",
       "      <td>462.32</td>\n",
       "      <td>90.0</td>\n",
       "      <td>31239.78</td>\n",
       "      <td>0</td>\n",
       "    </tr>\n",
       "    <tr>\n",
       "      <th>3213</th>\n",
       "      <td>80.0</td>\n",
       "      <td>566.09</td>\n",
       "      <td>6.0</td>\n",
       "      <td>29480.52</td>\n",
       "      <td>1</td>\n",
       "    </tr>\n",
       "  </tbody>\n",
       "</table>\n",
       "<p>3214 rows × 5 columns</p>\n",
       "</div>"
      ],
      "text/plain": [
       "      calls  minutes  messages   mb_used  is_ultra\n",
       "0      40.0   311.90      83.0  19915.42         0\n",
       "1      85.0   516.75      56.0  22696.96         0\n",
       "2      77.0   467.66      86.0  21060.45         0\n",
       "3     106.0   745.53      81.0   8437.39         1\n",
       "4      66.0   418.74       1.0  14502.75         0\n",
       "...     ...      ...       ...       ...       ...\n",
       "3209  122.0   910.98      20.0  35124.90         1\n",
       "3210   25.0   190.36       0.0   3275.61         0\n",
       "3211   97.0   634.44      70.0  13974.06         0\n",
       "3212   64.0   462.32      90.0  31239.78         0\n",
       "3213   80.0   566.09       6.0  29480.52         1\n",
       "\n",
       "[3214 rows x 5 columns]"
      ]
     },
     "execution_count": 86,
     "metadata": {},
     "output_type": "execute_result"
    }
   ],
   "source": [
    "df"
   ]
  },
  {
   "cell_type": "code",
   "execution_count": 87,
   "metadata": {},
   "outputs": [
    {
     "name": "stdout",
     "output_type": "stream",
     "text": [
      "<class 'pandas.core.frame.DataFrame'>\n",
      "RangeIndex: 3214 entries, 0 to 3213\n",
      "Data columns (total 5 columns):\n",
      " #   Column    Non-Null Count  Dtype  \n",
      "---  ------    --------------  -----  \n",
      " 0   calls     3214 non-null   float64\n",
      " 1   minutes   3214 non-null   float64\n",
      " 2   messages  3214 non-null   float64\n",
      " 3   mb_used   3214 non-null   float64\n",
      " 4   is_ultra  3214 non-null   int64  \n",
      "dtypes: float64(4), int64(1)\n",
      "memory usage: 125.7 KB\n"
     ]
    }
   ],
   "source": [
    "df.info()"
   ]
  },
  {
   "cell_type": "code",
   "execution_count": 88,
   "metadata": {},
   "outputs": [
    {
     "data": {
      "text/html": [
       "<div>\n",
       "<style scoped>\n",
       "    .dataframe tbody tr th:only-of-type {\n",
       "        vertical-align: middle;\n",
       "    }\n",
       "\n",
       "    .dataframe tbody tr th {\n",
       "        vertical-align: top;\n",
       "    }\n",
       "\n",
       "    .dataframe thead th {\n",
       "        text-align: right;\n",
       "    }\n",
       "</style>\n",
       "<table border=\"1\" class=\"dataframe\">\n",
       "  <thead>\n",
       "    <tr style=\"text-align: right;\">\n",
       "      <th></th>\n",
       "      <th>calls</th>\n",
       "      <th>minutes</th>\n",
       "      <th>messages</th>\n",
       "      <th>mb_used</th>\n",
       "      <th>is_ultra</th>\n",
       "    </tr>\n",
       "  </thead>\n",
       "  <tbody>\n",
       "    <tr>\n",
       "      <th>count</th>\n",
       "      <td>3214.000000</td>\n",
       "      <td>3214.000000</td>\n",
       "      <td>3214.000000</td>\n",
       "      <td>3214.000000</td>\n",
       "      <td>3214.000000</td>\n",
       "    </tr>\n",
       "    <tr>\n",
       "      <th>mean</th>\n",
       "      <td>63.038892</td>\n",
       "      <td>438.208787</td>\n",
       "      <td>38.281269</td>\n",
       "      <td>17207.673836</td>\n",
       "      <td>0.306472</td>\n",
       "    </tr>\n",
       "    <tr>\n",
       "      <th>std</th>\n",
       "      <td>33.236368</td>\n",
       "      <td>234.569872</td>\n",
       "      <td>36.148326</td>\n",
       "      <td>7570.968246</td>\n",
       "      <td>0.461100</td>\n",
       "    </tr>\n",
       "    <tr>\n",
       "      <th>min</th>\n",
       "      <td>0.000000</td>\n",
       "      <td>0.000000</td>\n",
       "      <td>0.000000</td>\n",
       "      <td>0.000000</td>\n",
       "      <td>0.000000</td>\n",
       "    </tr>\n",
       "    <tr>\n",
       "      <th>25%</th>\n",
       "      <td>40.000000</td>\n",
       "      <td>274.575000</td>\n",
       "      <td>9.000000</td>\n",
       "      <td>12491.902500</td>\n",
       "      <td>0.000000</td>\n",
       "    </tr>\n",
       "    <tr>\n",
       "      <th>50%</th>\n",
       "      <td>62.000000</td>\n",
       "      <td>430.600000</td>\n",
       "      <td>30.000000</td>\n",
       "      <td>16943.235000</td>\n",
       "      <td>0.000000</td>\n",
       "    </tr>\n",
       "    <tr>\n",
       "      <th>75%</th>\n",
       "      <td>82.000000</td>\n",
       "      <td>571.927500</td>\n",
       "      <td>57.000000</td>\n",
       "      <td>21424.700000</td>\n",
       "      <td>1.000000</td>\n",
       "    </tr>\n",
       "    <tr>\n",
       "      <th>max</th>\n",
       "      <td>244.000000</td>\n",
       "      <td>1632.060000</td>\n",
       "      <td>224.000000</td>\n",
       "      <td>49745.730000</td>\n",
       "      <td>1.000000</td>\n",
       "    </tr>\n",
       "  </tbody>\n",
       "</table>\n",
       "</div>"
      ],
      "text/plain": [
       "             calls      minutes     messages       mb_used     is_ultra\n",
       "count  3214.000000  3214.000000  3214.000000   3214.000000  3214.000000\n",
       "mean     63.038892   438.208787    38.281269  17207.673836     0.306472\n",
       "std      33.236368   234.569872    36.148326   7570.968246     0.461100\n",
       "min       0.000000     0.000000     0.000000      0.000000     0.000000\n",
       "25%      40.000000   274.575000     9.000000  12491.902500     0.000000\n",
       "50%      62.000000   430.600000    30.000000  16943.235000     0.000000\n",
       "75%      82.000000   571.927500    57.000000  21424.700000     1.000000\n",
       "max     244.000000  1632.060000   224.000000  49745.730000     1.000000"
      ]
     },
     "execution_count": 88,
     "metadata": {},
     "output_type": "execute_result"
    }
   ],
   "source": [
    "df.describe()"
   ]
  },
  {
   "cell_type": "code",
   "execution_count": 89,
   "metadata": {},
   "outputs": [
    {
     "data": {
      "text/html": [
       "<div>\n",
       "<style scoped>\n",
       "    .dataframe tbody tr th:only-of-type {\n",
       "        vertical-align: middle;\n",
       "    }\n",
       "\n",
       "    .dataframe tbody tr th {\n",
       "        vertical-align: top;\n",
       "    }\n",
       "\n",
       "    .dataframe thead th {\n",
       "        text-align: right;\n",
       "    }\n",
       "</style>\n",
       "<table border=\"1\" class=\"dataframe\">\n",
       "  <thead>\n",
       "    <tr style=\"text-align: right;\">\n",
       "      <th></th>\n",
       "      <th>calls</th>\n",
       "      <th>minutes</th>\n",
       "      <th>messages</th>\n",
       "      <th>mb_used</th>\n",
       "      <th>is_ultra</th>\n",
       "    </tr>\n",
       "  </thead>\n",
       "  <tbody>\n",
       "    <tr>\n",
       "      <th>calls</th>\n",
       "      <td>1.000000</td>\n",
       "      <td>0.982083</td>\n",
       "      <td>0.177385</td>\n",
       "      <td>0.286442</td>\n",
       "      <td>0.207122</td>\n",
       "    </tr>\n",
       "    <tr>\n",
       "      <th>minutes</th>\n",
       "      <td>0.982083</td>\n",
       "      <td>1.000000</td>\n",
       "      <td>0.173110</td>\n",
       "      <td>0.280967</td>\n",
       "      <td>0.206955</td>\n",
       "    </tr>\n",
       "    <tr>\n",
       "      <th>messages</th>\n",
       "      <td>0.177385</td>\n",
       "      <td>0.173110</td>\n",
       "      <td>1.000000</td>\n",
       "      <td>0.195721</td>\n",
       "      <td>0.203830</td>\n",
       "    </tr>\n",
       "    <tr>\n",
       "      <th>mb_used</th>\n",
       "      <td>0.286442</td>\n",
       "      <td>0.280967</td>\n",
       "      <td>0.195721</td>\n",
       "      <td>1.000000</td>\n",
       "      <td>0.198568</td>\n",
       "    </tr>\n",
       "    <tr>\n",
       "      <th>is_ultra</th>\n",
       "      <td>0.207122</td>\n",
       "      <td>0.206955</td>\n",
       "      <td>0.203830</td>\n",
       "      <td>0.198568</td>\n",
       "      <td>1.000000</td>\n",
       "    </tr>\n",
       "  </tbody>\n",
       "</table>\n",
       "</div>"
      ],
      "text/plain": [
       "             calls   minutes  messages   mb_used  is_ultra\n",
       "calls     1.000000  0.982083  0.177385  0.286442  0.207122\n",
       "minutes   0.982083  1.000000  0.173110  0.280967  0.206955\n",
       "messages  0.177385  0.173110  1.000000  0.195721  0.203830\n",
       "mb_used   0.286442  0.280967  0.195721  1.000000  0.198568\n",
       "is_ultra  0.207122  0.206955  0.203830  0.198568  1.000000"
      ]
     },
     "execution_count": 89,
     "metadata": {},
     "output_type": "execute_result"
    }
   ],
   "source": [
    "df.corr()"
   ]
  },
  {
   "cell_type": "code",
   "execution_count": 90,
   "metadata": {},
   "outputs": [
    {
     "data": {
      "text/plain": [
       "array([0, 1])"
      ]
     },
     "execution_count": 90,
     "metadata": {},
     "output_type": "execute_result"
    }
   ],
   "source": [
    "df['is_ultra'].unique()"
   ]
  },
  {
   "cell_type": "code",
   "execution_count": 91,
   "metadata": {},
   "outputs": [
    {
     "data": {
      "text/plain": [
       "2229"
      ]
     },
     "execution_count": 91,
     "metadata": {},
     "output_type": "execute_result"
    }
   ],
   "source": [
    "len(df.query('is_ultra == 0'))"
   ]
  },
  {
   "cell_type": "code",
   "execution_count": 92,
   "metadata": {},
   "outputs": [
    {
     "data": {
      "text/plain": [
       "985"
      ]
     },
     "execution_count": 92,
     "metadata": {},
     "output_type": "execute_result"
    }
   ],
   "source": [
    "len(df.query('is_ultra == 1'))"
   ]
  },
  {
   "cell_type": "markdown",
   "metadata": {},
   "source": [
    "Вывод: \n",
    "\n",
    "Датасет содержит следующие стоблцы:\n",
    "- сalls — количество звонков,\n",
    "- minutes — суммарная длительность звонков в минутах,\n",
    "- messages — количество sms-сообщений,\n",
    "- mb_used — израсходованный интернет-трафик в Мб,\n",
    "- is_ultra — каким тарифом пользовался в течение месяца («Ультра» — 1, «Смарт» — 0)."
   ]
  },
  {
   "cell_type": "markdown",
   "metadata": {},
   "source": [
    "## Разобьем данные на выборки"
   ]
  },
  {
   "cell_type": "code",
   "execution_count": 93,
   "metadata": {},
   "outputs": [],
   "source": [
    "features = df.drop('is_ultra', axis=1)\n",
    "target = df['is_ultra']"
   ]
  },
  {
   "cell_type": "code",
   "execution_count": 94,
   "metadata": {},
   "outputs": [],
   "source": [
    "features_train, features_valid, target_train, target_valid = train_test_split(\n",
    "    features, \n",
    "    target, \n",
    "    test_size=0.2, \n",
    "    random_state=12345, \n",
    "    stratify=target)"
   ]
  },
  {
   "cell_type": "code",
   "execution_count": 95,
   "metadata": {},
   "outputs": [],
   "source": [
    "features_train, features_test, target_train, target_test = train_test_split(\n",
    "    features_train, \n",
    "    target_train,  \n",
    "    test_size=0.25, \n",
    "    random_state=12345,\n",
    "    stratify=target_train)"
   ]
  },
  {
   "cell_type": "code",
   "execution_count": 96,
   "metadata": {},
   "outputs": [
    {
     "data": {
      "text/html": [
       "<div>\n",
       "<style scoped>\n",
       "    .dataframe tbody tr th:only-of-type {\n",
       "        vertical-align: middle;\n",
       "    }\n",
       "\n",
       "    .dataframe tbody tr th {\n",
       "        vertical-align: top;\n",
       "    }\n",
       "\n",
       "    .dataframe thead th {\n",
       "        text-align: right;\n",
       "    }\n",
       "</style>\n",
       "<table border=\"1\" class=\"dataframe\">\n",
       "  <thead>\n",
       "    <tr style=\"text-align: right;\">\n",
       "      <th></th>\n",
       "      <th>calls</th>\n",
       "      <th>minutes</th>\n",
       "      <th>messages</th>\n",
       "      <th>mb_used</th>\n",
       "    </tr>\n",
       "  </thead>\n",
       "  <tbody>\n",
       "    <tr>\n",
       "      <th>1659</th>\n",
       "      <td>27.0</td>\n",
       "      <td>170.58</td>\n",
       "      <td>23.0</td>\n",
       "      <td>21798.61</td>\n",
       "    </tr>\n",
       "    <tr>\n",
       "      <th>2176</th>\n",
       "      <td>75.0</td>\n",
       "      <td>489.47</td>\n",
       "      <td>7.0</td>\n",
       "      <td>20478.94</td>\n",
       "    </tr>\n",
       "    <tr>\n",
       "      <th>108</th>\n",
       "      <td>47.0</td>\n",
       "      <td>300.12</td>\n",
       "      <td>123.0</td>\n",
       "      <td>31244.61</td>\n",
       "    </tr>\n",
       "    <tr>\n",
       "      <th>426</th>\n",
       "      <td>36.0</td>\n",
       "      <td>198.96</td>\n",
       "      <td>32.0</td>\n",
       "      <td>21596.86</td>\n",
       "    </tr>\n",
       "    <tr>\n",
       "      <th>1892</th>\n",
       "      <td>102.0</td>\n",
       "      <td>740.28</td>\n",
       "      <td>19.0</td>\n",
       "      <td>17864.12</td>\n",
       "    </tr>\n",
       "    <tr>\n",
       "      <th>...</th>\n",
       "      <td>...</td>\n",
       "      <td>...</td>\n",
       "      <td>...</td>\n",
       "      <td>...</td>\n",
       "    </tr>\n",
       "    <tr>\n",
       "      <th>2298</th>\n",
       "      <td>64.0</td>\n",
       "      <td>475.68</td>\n",
       "      <td>20.0</td>\n",
       "      <td>8540.27</td>\n",
       "    </tr>\n",
       "    <tr>\n",
       "      <th>397</th>\n",
       "      <td>80.0</td>\n",
       "      <td>547.01</td>\n",
       "      <td>54.0</td>\n",
       "      <td>21265.57</td>\n",
       "    </tr>\n",
       "    <tr>\n",
       "      <th>1439</th>\n",
       "      <td>38.0</td>\n",
       "      <td>275.74</td>\n",
       "      <td>16.0</td>\n",
       "      <td>7122.54</td>\n",
       "    </tr>\n",
       "    <tr>\n",
       "      <th>3151</th>\n",
       "      <td>84.0</td>\n",
       "      <td>622.60</td>\n",
       "      <td>32.0</td>\n",
       "      <td>16318.74</td>\n",
       "    </tr>\n",
       "    <tr>\n",
       "      <th>607</th>\n",
       "      <td>108.0</td>\n",
       "      <td>820.07</td>\n",
       "      <td>83.0</td>\n",
       "      <td>14768.14</td>\n",
       "    </tr>\n",
       "  </tbody>\n",
       "</table>\n",
       "<p>1928 rows × 4 columns</p>\n",
       "</div>"
      ],
      "text/plain": [
       "      calls  minutes  messages   mb_used\n",
       "1659   27.0   170.58      23.0  21798.61\n",
       "2176   75.0   489.47       7.0  20478.94\n",
       "108    47.0   300.12     123.0  31244.61\n",
       "426    36.0   198.96      32.0  21596.86\n",
       "1892  102.0   740.28      19.0  17864.12\n",
       "...     ...      ...       ...       ...\n",
       "2298   64.0   475.68      20.0   8540.27\n",
       "397    80.0   547.01      54.0  21265.57\n",
       "1439   38.0   275.74      16.0   7122.54\n",
       "3151   84.0   622.60      32.0  16318.74\n",
       "607   108.0   820.07      83.0  14768.14\n",
       "\n",
       "[1928 rows x 4 columns]"
      ]
     },
     "execution_count": 96,
     "metadata": {},
     "output_type": "execute_result"
    }
   ],
   "source": [
    "features_train"
   ]
  },
  {
   "cell_type": "code",
   "execution_count": 97,
   "metadata": {},
   "outputs": [
    {
     "data": {
      "text/html": [
       "<div>\n",
       "<style scoped>\n",
       "    .dataframe tbody tr th:only-of-type {\n",
       "        vertical-align: middle;\n",
       "    }\n",
       "\n",
       "    .dataframe tbody tr th {\n",
       "        vertical-align: top;\n",
       "    }\n",
       "\n",
       "    .dataframe thead th {\n",
       "        text-align: right;\n",
       "    }\n",
       "</style>\n",
       "<table border=\"1\" class=\"dataframe\">\n",
       "  <thead>\n",
       "    <tr style=\"text-align: right;\">\n",
       "      <th></th>\n",
       "      <th>calls</th>\n",
       "      <th>minutes</th>\n",
       "      <th>messages</th>\n",
       "      <th>mb_used</th>\n",
       "    </tr>\n",
       "  </thead>\n",
       "  <tbody>\n",
       "    <tr>\n",
       "      <th>2424</th>\n",
       "      <td>56.0</td>\n",
       "      <td>364.36</td>\n",
       "      <td>0.0</td>\n",
       "      <td>14129.94</td>\n",
       "    </tr>\n",
       "    <tr>\n",
       "      <th>2118</th>\n",
       "      <td>76.0</td>\n",
       "      <td>430.70</td>\n",
       "      <td>34.0</td>\n",
       "      <td>25138.49</td>\n",
       "    </tr>\n",
       "    <tr>\n",
       "      <th>2034</th>\n",
       "      <td>108.0</td>\n",
       "      <td>812.04</td>\n",
       "      <td>4.0</td>\n",
       "      <td>24490.28</td>\n",
       "    </tr>\n",
       "    <tr>\n",
       "      <th>2286</th>\n",
       "      <td>67.0</td>\n",
       "      <td>460.76</td>\n",
       "      <td>27.0</td>\n",
       "      <td>16626.26</td>\n",
       "    </tr>\n",
       "    <tr>\n",
       "      <th>1364</th>\n",
       "      <td>69.0</td>\n",
       "      <td>515.52</td>\n",
       "      <td>34.0</td>\n",
       "      <td>21231.90</td>\n",
       "    </tr>\n",
       "    <tr>\n",
       "      <th>...</th>\n",
       "      <td>...</td>\n",
       "      <td>...</td>\n",
       "      <td>...</td>\n",
       "      <td>...</td>\n",
       "    </tr>\n",
       "    <tr>\n",
       "      <th>2295</th>\n",
       "      <td>10.0</td>\n",
       "      <td>61.30</td>\n",
       "      <td>0.0</td>\n",
       "      <td>958.19</td>\n",
       "    </tr>\n",
       "    <tr>\n",
       "      <th>2327</th>\n",
       "      <td>58.0</td>\n",
       "      <td>370.03</td>\n",
       "      <td>29.0</td>\n",
       "      <td>33526.69</td>\n",
       "    </tr>\n",
       "    <tr>\n",
       "      <th>1983</th>\n",
       "      <td>44.0</td>\n",
       "      <td>293.54</td>\n",
       "      <td>51.0</td>\n",
       "      <td>11816.92</td>\n",
       "    </tr>\n",
       "    <tr>\n",
       "      <th>2315</th>\n",
       "      <td>48.0</td>\n",
       "      <td>341.65</td>\n",
       "      <td>0.0</td>\n",
       "      <td>19000.02</td>\n",
       "    </tr>\n",
       "    <tr>\n",
       "      <th>873</th>\n",
       "      <td>71.0</td>\n",
       "      <td>556.84</td>\n",
       "      <td>71.0</td>\n",
       "      <td>19869.21</td>\n",
       "    </tr>\n",
       "  </tbody>\n",
       "</table>\n",
       "<p>643 rows × 4 columns</p>\n",
       "</div>"
      ],
      "text/plain": [
       "      calls  minutes  messages   mb_used\n",
       "2424   56.0   364.36       0.0  14129.94\n",
       "2118   76.0   430.70      34.0  25138.49\n",
       "2034  108.0   812.04       4.0  24490.28\n",
       "2286   67.0   460.76      27.0  16626.26\n",
       "1364   69.0   515.52      34.0  21231.90\n",
       "...     ...      ...       ...       ...\n",
       "2295   10.0    61.30       0.0    958.19\n",
       "2327   58.0   370.03      29.0  33526.69\n",
       "1983   44.0   293.54      51.0  11816.92\n",
       "2315   48.0   341.65       0.0  19000.02\n",
       "873    71.0   556.84      71.0  19869.21\n",
       "\n",
       "[643 rows x 4 columns]"
      ]
     },
     "execution_count": 97,
     "metadata": {},
     "output_type": "execute_result"
    }
   ],
   "source": [
    "features_valid"
   ]
  },
  {
   "cell_type": "code",
   "execution_count": 98,
   "metadata": {},
   "outputs": [
    {
     "data": {
      "text/html": [
       "<div>\n",
       "<style scoped>\n",
       "    .dataframe tbody tr th:only-of-type {\n",
       "        vertical-align: middle;\n",
       "    }\n",
       "\n",
       "    .dataframe tbody tr th {\n",
       "        vertical-align: top;\n",
       "    }\n",
       "\n",
       "    .dataframe thead th {\n",
       "        text-align: right;\n",
       "    }\n",
       "</style>\n",
       "<table border=\"1\" class=\"dataframe\">\n",
       "  <thead>\n",
       "    <tr style=\"text-align: right;\">\n",
       "      <th></th>\n",
       "      <th>calls</th>\n",
       "      <th>minutes</th>\n",
       "      <th>messages</th>\n",
       "      <th>mb_used</th>\n",
       "    </tr>\n",
       "  </thead>\n",
       "  <tbody>\n",
       "    <tr>\n",
       "      <th>580</th>\n",
       "      <td>43.0</td>\n",
       "      <td>321.63</td>\n",
       "      <td>42.0</td>\n",
       "      <td>25599.87</td>\n",
       "    </tr>\n",
       "    <tr>\n",
       "      <th>2272</th>\n",
       "      <td>93.0</td>\n",
       "      <td>658.89</td>\n",
       "      <td>38.0</td>\n",
       "      <td>17655.47</td>\n",
       "    </tr>\n",
       "    <tr>\n",
       "      <th>1415</th>\n",
       "      <td>82.0</td>\n",
       "      <td>507.89</td>\n",
       "      <td>88.0</td>\n",
       "      <td>17543.37</td>\n",
       "    </tr>\n",
       "    <tr>\n",
       "      <th>1356</th>\n",
       "      <td>43.0</td>\n",
       "      <td>256.90</td>\n",
       "      <td>1.0</td>\n",
       "      <td>10450.48</td>\n",
       "    </tr>\n",
       "    <tr>\n",
       "      <th>1910</th>\n",
       "      <td>111.0</td>\n",
       "      <td>728.20</td>\n",
       "      <td>37.0</td>\n",
       "      <td>14135.23</td>\n",
       "    </tr>\n",
       "    <tr>\n",
       "      <th>...</th>\n",
       "      <td>...</td>\n",
       "      <td>...</td>\n",
       "      <td>...</td>\n",
       "      <td>...</td>\n",
       "    </tr>\n",
       "    <tr>\n",
       "      <th>3133</th>\n",
       "      <td>56.0</td>\n",
       "      <td>385.68</td>\n",
       "      <td>28.0</td>\n",
       "      <td>18148.98</td>\n",
       "    </tr>\n",
       "    <tr>\n",
       "      <th>2268</th>\n",
       "      <td>10.0</td>\n",
       "      <td>78.67</td>\n",
       "      <td>8.0</td>\n",
       "      <td>4986.91</td>\n",
       "    </tr>\n",
       "    <tr>\n",
       "      <th>49</th>\n",
       "      <td>58.0</td>\n",
       "      <td>474.92</td>\n",
       "      <td>11.0</td>\n",
       "      <td>17858.59</td>\n",
       "    </tr>\n",
       "    <tr>\n",
       "      <th>1980</th>\n",
       "      <td>47.0</td>\n",
       "      <td>367.09</td>\n",
       "      <td>42.0</td>\n",
       "      <td>22329.28</td>\n",
       "    </tr>\n",
       "    <tr>\n",
       "      <th>2867</th>\n",
       "      <td>70.0</td>\n",
       "      <td>443.01</td>\n",
       "      <td>9.0</td>\n",
       "      <td>13834.84</td>\n",
       "    </tr>\n",
       "  </tbody>\n",
       "</table>\n",
       "<p>643 rows × 4 columns</p>\n",
       "</div>"
      ],
      "text/plain": [
       "      calls  minutes  messages   mb_used\n",
       "580    43.0   321.63      42.0  25599.87\n",
       "2272   93.0   658.89      38.0  17655.47\n",
       "1415   82.0   507.89      88.0  17543.37\n",
       "1356   43.0   256.90       1.0  10450.48\n",
       "1910  111.0   728.20      37.0  14135.23\n",
       "...     ...      ...       ...       ...\n",
       "3133   56.0   385.68      28.0  18148.98\n",
       "2268   10.0    78.67       8.0   4986.91\n",
       "49     58.0   474.92      11.0  17858.59\n",
       "1980   47.0   367.09      42.0  22329.28\n",
       "2867   70.0   443.01       9.0  13834.84\n",
       "\n",
       "[643 rows x 4 columns]"
      ]
     },
     "execution_count": 98,
     "metadata": {},
     "output_type": "execute_result"
    }
   ],
   "source": [
    "features_test"
   ]
  },
  {
   "cell_type": "markdown",
   "metadata": {},
   "source": [
    "Вывод:\n",
    "\n",
    "Исходные данные были разделены на обучающую, валидационную и тестовую выборки в отношении 3:1:1. Модель будет обучаться на обучающей выборке, качество модели будет оцениваться по валидационной и тестовой выборке."
   ]
  },
  {
   "cell_type": "markdown",
   "metadata": {},
   "source": [
    "## Исследуем модели"
   ]
  },
  {
   "cell_type": "code",
   "execution_count": 99,
   "metadata": {},
   "outputs": [
    {
     "name": "stdout",
     "output_type": "stream",
     "text": [
      "max_depth = 1 : 0.7480559875583204\n",
      "max_depth = 2 : 0.7853810264385692\n",
      "max_depth = 3 : 0.7993779160186625\n",
      "max_depth = 4 : 0.7838258164852255\n",
      "max_depth = 5 : 0.7962674961119751\n",
      "max_depth = 6 : 0.7978227060653188\n",
      "max_depth = 7 : 0.7822706065318819\n",
      "max_depth = 8 : 0.7791601866251944\n",
      "max_depth = 9 : 0.7822706065318819\n",
      "max_depth = 10 : 0.7822706065318819\n",
      "max_depth = 11 : 0.7791601866251944\n",
      "max_depth = 12 : 0.7682737169517885\n",
      "max_depth = 13 : 0.7542768273716952\n",
      "max_depth = 14 : 0.7433903576982893\n",
      "max_depth = 15 : 0.7293934681181959\n",
      "max_depth = 16 : 0.7091757387247278\n",
      "max_depth = 17 : 0.71850699844479\n",
      "max_depth = 18 : 0.7231726283048211\n",
      "max_depth = 19 : 0.7262830482115086\n",
      "max_depth = 20 : 0.71850699844479\n"
     ]
    }
   ],
   "source": [
    "depth_mass = []\n",
    "acc_valid_mass = []\n",
    "acc_train_mass = []\n",
    "for depth in range(1,21):\n",
    "    model = DecisionTreeClassifier(random_state=12345, max_depth=depth)\n",
    "    model.fit(features_train, target_train)\n",
    "    predictions_valid = model.predict(features_valid)\n",
    "    accuracy = accuracy_score(target_valid, predictions_valid)\n",
    "    depth_mass.append(depth)\n",
    "    acc_valid_mass.append(accuracy)\n",
    "    acc_train_mass.append(accuracy_score(target_train, model.predict(features_train)))\n",
    "    print('max_depth = {0} : {1}'.format(depth, accuracy))"
   ]
  },
  {
   "cell_type": "markdown",
   "metadata": {},
   "source": [
    "График изменения качества модели в зависимости от глубины представлен ниже для обучающей выборки и для валидационной выборки. Оптимальное значение качества наблюдается для модели с глубиной равной 3."
   ]
  },
  {
   "cell_type": "code",
   "execution_count": 100,
   "metadata": {},
   "outputs": [
    {
     "data": {
      "image/png": "[encoded data removed]",
      "text/plain": [
       "<Figure size 432x288 with 1 Axes>"
      ]
     },
     "metadata": {
      "needs_background": "light"
     },
     "output_type": "display_data"
    }
   ],
   "source": [
    "plt.plot(depth_mass, acc_train_mass);\n",
    "plt.plot(depth_mass, acc_valid_mass);\n",
    "plt.grid(True);\n",
    "plt.xlabel('accuracy');\n",
    "plt.ylabel('depth');\n",
    "plt.legend(['train', 'valid']);"
   ]
  },
  {
   "cell_type": "code",
   "execution_count": 101,
   "metadata": {},
   "outputs": [
    {
     "data": {
      "image/png": "[encoded data removed]",
      "text/plain": [
       "<Figure size 1080x1080 with 1 Axes>"
      ]
     },
     "metadata": {
      "needs_background": "light"
     },
     "output_type": "display_data"
    }
   ],
   "source": [
    "model = DecisionTreeClassifier(random_state=12345, max_depth=3)\n",
    "model.fit(features_train, target_train)\n",
    "plt.figure(figsize=[15,15]);\n",
    "tree.plot_tree(model);"
   ]
  },
  {
   "cell_type": "code",
   "execution_count": 102,
   "metadata": {},
   "outputs": [
    {
     "data": {
      "text/plain": [
       "'n_est = 17, depth = 5 : 0.8133748055987559'"
      ]
     },
     "execution_count": 102,
     "metadata": {},
     "output_type": "execute_result"
    }
   ],
   "source": [
    "best_res = 0\n",
    "for est in range(1, 31):\n",
    "    for depth in range(1,6):    \n",
    "        model = RandomForestClassifier(\n",
    "            random_state=12345, \n",
    "            n_estimators=est,\n",
    "            max_depth=depth) \n",
    "        model.fit(features_train,target_train)\n",
    "        predictions_valid = model.predict(features_valid)\n",
    "        accuracy = accuracy_score(target_valid, predictions_valid)\n",
    "        if accuracy > best_res:\n",
    "            best_res = accuracy\n",
    "            est_best = est\n",
    "            depth_best = depth       \n",
    "'n_est = {0}, depth = {1} : {2}'.format(est_best, depth_best, best_res)"
   ]
  },
  {
   "cell_type": "code",
   "execution_count": 103,
   "metadata": {},
   "outputs": [
    {
     "data": {
      "text/plain": [
       "0.7371695178849145"
      ]
     },
     "execution_count": 103,
     "metadata": {},
     "output_type": "execute_result"
    }
   ],
   "source": [
    "model = LogisticRegression(random_state=12345, solver='lbfgs', max_iter=1000) \n",
    "model.fit(features_train,target_train)\n",
    "predictions_valid = model.predict(features_valid)\n",
    "accuracy = accuracy_score(target_valid, predictions_valid)\n",
    "accuracy"
   ]
  },
  {
   "cell_type": "markdown",
   "metadata": {},
   "source": [
    "Вывод:\n",
    "\n",
    "Были сравнены три модели: решающее дерево, случайный лес и логистическая регрессия. Для модели решающего дерева были рассмотрены различные значения гиперпараметра - глубина. Для модели случайного леса были рассмотрееы различные значения гиперпараметров - количество деревьев и глубина. Самое высокое качество у случайного леса при глубине 5 и количестве деревьев 17: 0.8133748055987559."
   ]
  },
  {
   "cell_type": "markdown",
   "metadata": {},
   "source": [
    "## Проверьте модель на тестовой выборке"
   ]
  },
  {
   "cell_type": "code",
   "execution_count": 116,
   "metadata": {},
   "outputs": [
    {
     "data": {
      "text/plain": [
       "0.8180404354587869"
      ]
     },
     "execution_count": 116,
     "metadata": {},
     "output_type": "execute_result"
    }
   ],
   "source": [
    "model = RandomForestClassifier(\n",
    "            random_state=12345, \n",
    "            n_estimators=17,\n",
    "            max_depth=5) \n",
    "model.fit(features_train, target_train)\n",
    "predictions_test = model.predict(features_test)\n",
    "accuracy = accuracy_score(target_test, predictions_test)\n",
    "accuracy"
   ]
  },
  {
   "cell_type": "code",
   "execution_count": 105,
   "metadata": {},
   "outputs": [
    {
     "data": {
      "text/plain": [
       "array([[417,  29],\n",
       "       [ 88, 109]])"
      ]
     },
     "execution_count": 105,
     "metadata": {},
     "output_type": "execute_result"
    }
   ],
   "source": [
    "sklearn.metrics.confusion_matrix(target_test, predictions_test)"
   ]
  },
  {
   "cell_type": "code",
   "execution_count": 106,
   "metadata": {},
   "outputs": [
    {
     "data": {
      "text/plain": [
       "0.8257425742574257"
      ]
     },
     "execution_count": 106,
     "metadata": {},
     "output_type": "execute_result"
    }
   ],
   "source": [
    "sklearn.metrics.precision_score(target_test, predictions_test, pos_label=0)"
   ]
  },
  {
   "cell_type": "code",
   "execution_count": 107,
   "metadata": {},
   "outputs": [
    {
     "data": {
      "text/plain": [
       "0.7898550724637681"
      ]
     },
     "execution_count": 107,
     "metadata": {},
     "output_type": "execute_result"
    }
   ],
   "source": [
    "sklearn.metrics.precision_score(target_test, predictions_test, pos_label=1)"
   ]
  },
  {
   "cell_type": "code",
   "execution_count": 108,
   "metadata": {},
   "outputs": [
    {
     "data": {
      "text/plain": [
       "0.9349775784753364"
      ]
     },
     "execution_count": 108,
     "metadata": {},
     "output_type": "execute_result"
    }
   ],
   "source": [
    "sklearn.metrics.recall_score(target_test, predictions_test, pos_label=0)"
   ]
  },
  {
   "cell_type": "code",
   "execution_count": 109,
   "metadata": {},
   "outputs": [
    {
     "data": {
      "text/plain": [
       "0.5532994923857868"
      ]
     },
     "execution_count": 109,
     "metadata": {},
     "output_type": "execute_result"
    }
   ],
   "source": [
    "sklearn.metrics.recall_score(target_test, predictions_test, pos_label=1)"
   ]
  },
  {
   "cell_type": "markdown",
   "metadata": {},
   "source": [
    "Вывод:\n",
    "\n",
    "Качество модели случайного леса с глубиной 5 и количеством деревьев 17 равняется 0.8180404354587869, что является допустимым."
   ]
  },
  {
   "cell_type": "code",
   "execution_count": 110,
   "metadata": {},
   "outputs": [],
   "source": [
    "magic_features = pd.concat([features_train, features_valid])\n",
    "magic_target = pd.concat([target_train, target_valid])"
   ]
  },
  {
   "cell_type": "code",
   "execution_count": 111,
   "metadata": {},
   "outputs": [
    {
     "data": {
      "text/html": [
       "<div>\n",
       "<style scoped>\n",
       "    .dataframe tbody tr th:only-of-type {\n",
       "        vertical-align: middle;\n",
       "    }\n",
       "\n",
       "    .dataframe tbody tr th {\n",
       "        vertical-align: top;\n",
       "    }\n",
       "\n",
       "    .dataframe thead th {\n",
       "        text-align: right;\n",
       "    }\n",
       "</style>\n",
       "<table border=\"1\" class=\"dataframe\">\n",
       "  <thead>\n",
       "    <tr style=\"text-align: right;\">\n",
       "      <th></th>\n",
       "      <th>calls</th>\n",
       "      <th>minutes</th>\n",
       "      <th>messages</th>\n",
       "      <th>mb_used</th>\n",
       "    </tr>\n",
       "  </thead>\n",
       "  <tbody>\n",
       "    <tr>\n",
       "      <th>1659</th>\n",
       "      <td>27.0</td>\n",
       "      <td>170.58</td>\n",
       "      <td>23.0</td>\n",
       "      <td>21798.61</td>\n",
       "    </tr>\n",
       "    <tr>\n",
       "      <th>2176</th>\n",
       "      <td>75.0</td>\n",
       "      <td>489.47</td>\n",
       "      <td>7.0</td>\n",
       "      <td>20478.94</td>\n",
       "    </tr>\n",
       "    <tr>\n",
       "      <th>108</th>\n",
       "      <td>47.0</td>\n",
       "      <td>300.12</td>\n",
       "      <td>123.0</td>\n",
       "      <td>31244.61</td>\n",
       "    </tr>\n",
       "    <tr>\n",
       "      <th>426</th>\n",
       "      <td>36.0</td>\n",
       "      <td>198.96</td>\n",
       "      <td>32.0</td>\n",
       "      <td>21596.86</td>\n",
       "    </tr>\n",
       "    <tr>\n",
       "      <th>1892</th>\n",
       "      <td>102.0</td>\n",
       "      <td>740.28</td>\n",
       "      <td>19.0</td>\n",
       "      <td>17864.12</td>\n",
       "    </tr>\n",
       "    <tr>\n",
       "      <th>...</th>\n",
       "      <td>...</td>\n",
       "      <td>...</td>\n",
       "      <td>...</td>\n",
       "      <td>...</td>\n",
       "    </tr>\n",
       "    <tr>\n",
       "      <th>2295</th>\n",
       "      <td>10.0</td>\n",
       "      <td>61.30</td>\n",
       "      <td>0.0</td>\n",
       "      <td>958.19</td>\n",
       "    </tr>\n",
       "    <tr>\n",
       "      <th>2327</th>\n",
       "      <td>58.0</td>\n",
       "      <td>370.03</td>\n",
       "      <td>29.0</td>\n",
       "      <td>33526.69</td>\n",
       "    </tr>\n",
       "    <tr>\n",
       "      <th>1983</th>\n",
       "      <td>44.0</td>\n",
       "      <td>293.54</td>\n",
       "      <td>51.0</td>\n",
       "      <td>11816.92</td>\n",
       "    </tr>\n",
       "    <tr>\n",
       "      <th>2315</th>\n",
       "      <td>48.0</td>\n",
       "      <td>341.65</td>\n",
       "      <td>0.0</td>\n",
       "      <td>19000.02</td>\n",
       "    </tr>\n",
       "    <tr>\n",
       "      <th>873</th>\n",
       "      <td>71.0</td>\n",
       "      <td>556.84</td>\n",
       "      <td>71.0</td>\n",
       "      <td>19869.21</td>\n",
       "    </tr>\n",
       "  </tbody>\n",
       "</table>\n",
       "<p>2571 rows × 4 columns</p>\n",
       "</div>"
      ],
      "text/plain": [
       "      calls  minutes  messages   mb_used\n",
       "1659   27.0   170.58      23.0  21798.61\n",
       "2176   75.0   489.47       7.0  20478.94\n",
       "108    47.0   300.12     123.0  31244.61\n",
       "426    36.0   198.96      32.0  21596.86\n",
       "1892  102.0   740.28      19.0  17864.12\n",
       "...     ...      ...       ...       ...\n",
       "2295   10.0    61.30       0.0    958.19\n",
       "2327   58.0   370.03      29.0  33526.69\n",
       "1983   44.0   293.54      51.0  11816.92\n",
       "2315   48.0   341.65       0.0  19000.02\n",
       "873    71.0   556.84      71.0  19869.21\n",
       "\n",
       "[2571 rows x 4 columns]"
      ]
     },
     "execution_count": 111,
     "metadata": {},
     "output_type": "execute_result"
    }
   ],
   "source": [
    "magic_features"
   ]
  },
  {
   "cell_type": "code",
   "execution_count": 117,
   "metadata": {},
   "outputs": [
    {
     "data": {
      "text/plain": [
       "0.8211508553654744"
      ]
     },
     "execution_count": 117,
     "metadata": {},
     "output_type": "execute_result"
    }
   ],
   "source": [
    "model_magic = RandomForestClassifier(\n",
    "            random_state=12345, \n",
    "            n_estimators=17,\n",
    "            max_depth=5) \n",
    "model_magic.fit(magic_features, magic_target)\n",
    "magic_predictions_test = model_magic.predict(features_test)\n",
    "magic_accuracy = accuracy_score(target_test, magic_predictions_test)\n",
    "magic_accuracy"
   ]
  },
  {
   "cell_type": "markdown",
   "metadata": {},
   "source": [
    "А дообученная модель неплоха: качество стало лучше."
   ]
  },
  {
   "cell_type": "markdown",
   "metadata": {},
   "source": [
    "## Проверим модель на адекватность"
   ]
  },
  {
   "cell_type": "code",
   "execution_count": 113,
   "metadata": {},
   "outputs": [
    {
     "data": {
      "text/plain": [
       "2229"
      ]
     },
     "execution_count": 113,
     "metadata": {},
     "output_type": "execute_result"
    }
   ],
   "source": [
    "len(df.query('is_ultra == 0'))"
   ]
  },
  {
   "cell_type": "code",
   "execution_count": 114,
   "metadata": {},
   "outputs": [
    {
     "data": {
      "text/plain": [
       "985"
      ]
     },
     "execution_count": 114,
     "metadata": {},
     "output_type": "execute_result"
    }
   ],
   "source": [
    "len(df.query('is_ultra == 1'))"
   ]
  },
  {
   "cell_type": "code",
   "execution_count": 118,
   "metadata": {},
   "outputs": [
    {
     "data": {
      "text/plain": [
       "0.6936236391912908"
      ]
     },
     "execution_count": 118,
     "metadata": {},
     "output_type": "execute_result"
    }
   ],
   "source": [
    "target_constant = pd.Series([0]*len(target_test))\n",
    "accuracy = accuracy_score(target_test, target_constant)\n",
    "accuracy"
   ]
  },
  {
   "cell_type": "markdown",
   "metadata": {},
   "source": [
    "Вывод: \n",
    "\n",
    "Качество полученной модели выше качества константной модели, значит полученная модель адекватна."
   ]
  },
  {
   "cell_type": "markdown",
   "metadata": {},
   "source": [
    "Общий вывод: \n",
    "\n",
    "- Исходные данные были разделены на обучающую, валидационную и тестовую выборки в отношении 3:1:1. Модель была обучена на обучающей выборке, качество модели было оценено по валидационной и тестовой выборке.\n",
    "- Были сравнены три модели: решающее дерево, случайный лес и логистическая регрессия. Для модели решающего дерева были рассмотрены различные значения гиперпараметра - глубина. Для модели случайного леса были рассмотрееы различные значения гиперпараметров - количество деревьев и глубина. Самое высокое качество у случайного леса при глубине 5 и количестве деревьев 17: 0.8133748055987559.\n",
    "- Качество модели случайного леса с глубиной 5 и количеством деревьев 17 равняется 0.8180404354587869, что является допустимым.\n",
    "- Модель была проверена на адекватность. Качество полученной модели выше качества константной модели, значит полученная модель адекватна."
   ]
  },
  {
   "cell_type": "code",
   "execution_count": null,
   "metadata": {},
   "outputs": [],
   "source": []
  }
 ],
 "metadata": {
  "ExecuteTimeLog": [
   {
    "duration": 451,
    "start_time": "2023-04-04T10:56:21.509Z"
   },
   {
    "duration": 85,
    "start_time": "2023-04-04T10:56:21.987Z"
   },
   {
    "duration": 26,
    "start_time": "2023-04-04T10:56:31.741Z"
   },
   {
    "duration": 14,
    "start_time": "2023-04-04T10:56:40.020Z"
   },
   {
    "duration": 18,
    "start_time": "2023-04-04T11:00:53.173Z"
   },
   {
    "duration": 11,
    "start_time": "2023-04-04T11:01:17.379Z"
   },
   {
    "duration": 11,
    "start_time": "2023-04-04T11:01:23.531Z"
   },
   {
    "duration": 14,
    "start_time": "2023-04-04T11:01:45.435Z"
   },
   {
    "duration": 81,
    "start_time": "2023-04-04T11:08:27.430Z"
   },
   {
    "duration": 738,
    "start_time": "2023-04-04T11:08:40.625Z"
   },
   {
    "duration": 5,
    "start_time": "2023-04-04T11:08:44.752Z"
   },
   {
    "duration": 27,
    "start_time": "2023-04-04T11:08:59.216Z"
   },
   {
    "duration": 13,
    "start_time": "2023-04-04T11:09:00.680Z"
   },
   {
    "duration": 46,
    "start_time": "2023-04-04T11:23:05.663Z"
   },
   {
    "duration": 7,
    "start_time": "2023-04-04T11:26:49.713Z"
   },
   {
    "duration": 6,
    "start_time": "2023-04-04T11:29:09.556Z"
   },
   {
    "duration": 23,
    "start_time": "2023-04-04T11:29:34.240Z"
   },
   {
    "duration": 18,
    "start_time": "2023-04-04T11:29:37.617Z"
   },
   {
    "duration": 17,
    "start_time": "2023-04-04T11:29:39.559Z"
   },
   {
    "duration": 5,
    "start_time": "2023-04-04T11:30:24.086Z"
   },
   {
    "duration": 6,
    "start_time": "2023-04-04T11:30:24.523Z"
   },
   {
    "duration": 13,
    "start_time": "2023-04-04T11:30:25.058Z"
   },
   {
    "duration": 14,
    "start_time": "2023-04-04T11:30:25.659Z"
   },
   {
    "duration": 18,
    "start_time": "2023-04-04T11:30:26.897Z"
   },
   {
    "duration": 5,
    "start_time": "2023-04-04T11:31:10.167Z"
   },
   {
    "duration": 17,
    "start_time": "2023-04-04T11:31:10.535Z"
   },
   {
    "duration": 12,
    "start_time": "2023-04-04T11:31:10.958Z"
   },
   {
    "duration": 13,
    "start_time": "2023-04-04T11:31:11.367Z"
   },
   {
    "duration": 12,
    "start_time": "2023-04-04T11:31:11.775Z"
   },
   {
    "duration": 39,
    "start_time": "2023-04-04T11:44:37.060Z"
   },
   {
    "duration": 24,
    "start_time": "2023-04-04T11:47:40.130Z"
   },
   {
    "duration": 4,
    "start_time": "2023-04-04T11:47:46.014Z"
   },
   {
    "duration": 32,
    "start_time": "2023-04-04T11:47:46.355Z"
   },
   {
    "duration": 9,
    "start_time": "2023-04-04T11:50:52.646Z"
   },
   {
    "duration": 10,
    "start_time": "2023-04-04T11:51:09.912Z"
   },
   {
    "duration": 3,
    "start_time": "2023-04-04T11:56:30.302Z"
   },
   {
    "duration": 330,
    "start_time": "2023-04-04T11:56:40.477Z"
   },
   {
    "duration": 3,
    "start_time": "2023-04-04T11:57:13.163Z"
   },
   {
    "duration": 12,
    "start_time": "2023-04-04T11:58:30.367Z"
   },
   {
    "duration": 31,
    "start_time": "2023-04-04T11:59:17.965Z"
   },
   {
    "duration": 71,
    "start_time": "2023-04-04T12:24:36.536Z"
   },
   {
    "duration": 34,
    "start_time": "2023-04-04T12:25:00.011Z"
   },
   {
    "duration": 334,
    "start_time": "2023-04-04T12:25:06.464Z"
   },
   {
    "duration": 34,
    "start_time": "2023-04-04T12:25:11.808Z"
   },
   {
    "duration": 4,
    "start_time": "2023-04-04T12:49:37.137Z"
   },
   {
    "duration": 13,
    "start_time": "2023-04-04T12:51:01.992Z"
   },
   {
    "duration": 14,
    "start_time": "2023-04-04T12:51:07.537Z"
   },
   {
    "duration": 7,
    "start_time": "2023-04-04T12:59:14.134Z"
   },
   {
    "duration": 6,
    "start_time": "2023-04-04T12:59:14.639Z"
   },
   {
    "duration": 4,
    "start_time": "2023-04-04T12:59:44.454Z"
   },
   {
    "duration": 5,
    "start_time": "2023-04-04T12:59:51.606Z"
   },
   {
    "duration": 5,
    "start_time": "2023-04-04T13:01:43.126Z"
   },
   {
    "duration": 5,
    "start_time": "2023-04-04T13:02:38.295Z"
   },
   {
    "duration": 6,
    "start_time": "2023-04-04T13:02:48.110Z"
   },
   {
    "duration": 6,
    "start_time": "2023-04-04T13:03:39.118Z"
   },
   {
    "duration": 5,
    "start_time": "2023-04-04T13:22:05.269Z"
   },
   {
    "duration": 3,
    "start_time": "2023-04-04T13:29:32.628Z"
   },
   {
    "duration": 41,
    "start_time": "2023-04-04T13:29:32.633Z"
   },
   {
    "duration": 12,
    "start_time": "2023-04-04T13:29:32.676Z"
   },
   {
    "duration": 23,
    "start_time": "2023-04-04T13:29:32.689Z"
   },
   {
    "duration": 11,
    "start_time": "2023-04-04T13:29:32.714Z"
   },
   {
    "duration": 7,
    "start_time": "2023-04-04T13:29:32.727Z"
   },
   {
    "duration": 15,
    "start_time": "2023-04-04T13:29:32.736Z"
   },
   {
    "duration": 19,
    "start_time": "2023-04-04T13:29:32.752Z"
   },
   {
    "duration": 14,
    "start_time": "2023-04-04T13:29:32.772Z"
   },
   {
    "duration": 40,
    "start_time": "2023-04-04T13:29:32.788Z"
   },
   {
    "duration": 45,
    "start_time": "2023-04-04T13:29:32.829Z"
   },
   {
    "duration": 301,
    "start_time": "2023-04-04T13:29:32.876Z"
   },
   {
    "duration": 35,
    "start_time": "2023-04-04T13:29:33.178Z"
   },
   {
    "duration": 4,
    "start_time": "2023-04-04T13:29:33.215Z"
   },
   {
    "duration": 31,
    "start_time": "2023-04-04T13:29:33.221Z"
   },
   {
    "duration": 7,
    "start_time": "2023-04-04T13:29:33.254Z"
   },
   {
    "duration": 8,
    "start_time": "2023-04-04T13:29:33.263Z"
   },
   {
    "duration": 6,
    "start_time": "2023-04-04T13:29:33.272Z"
   },
   {
    "duration": 2543,
    "start_time": "2023-04-04T14:10:59.901Z"
   },
   {
    "duration": 29,
    "start_time": "2023-04-04T14:11:02.446Z"
   },
   {
    "duration": 18,
    "start_time": "2023-04-04T14:11:02.477Z"
   },
   {
    "duration": 9,
    "start_time": "2023-04-04T14:11:02.496Z"
   },
   {
    "duration": 16,
    "start_time": "2023-04-04T14:11:02.506Z"
   },
   {
    "duration": 7,
    "start_time": "2023-04-04T14:11:02.523Z"
   },
   {
    "duration": 18,
    "start_time": "2023-04-04T14:11:02.532Z"
   },
   {
    "duration": 26,
    "start_time": "2023-04-04T14:11:02.551Z"
   },
   {
    "duration": 16,
    "start_time": "2023-04-04T14:11:02.579Z"
   },
   {
    "duration": 11,
    "start_time": "2023-04-04T14:11:02.597Z"
   },
   {
    "duration": 32,
    "start_time": "2023-04-04T14:11:02.609Z"
   },
   {
    "duration": 261,
    "start_time": "2023-04-04T14:11:02.643Z"
   },
   {
    "duration": 48,
    "start_time": "2023-04-04T14:11:02.906Z"
   },
   {
    "duration": 3,
    "start_time": "2023-04-04T14:11:02.956Z"
   },
   {
    "duration": 18,
    "start_time": "2023-04-04T14:11:02.961Z"
   },
   {
    "duration": 9,
    "start_time": "2023-04-04T14:11:02.981Z"
   },
   {
    "duration": 7,
    "start_time": "2023-04-04T14:11:02.991Z"
   },
   {
    "duration": 11,
    "start_time": "2023-04-04T14:11:02.999Z"
   },
   {
    "duration": 20,
    "start_time": "2023-04-04T14:30:58.633Z"
   },
   {
    "duration": 11,
    "start_time": "2023-04-04T14:33:19.629Z"
   },
   {
    "duration": 49,
    "start_time": "2023-04-04T14:46:04.789Z"
   },
   {
    "duration": 5,
    "start_time": "2023-04-04T14:46:30.300Z"
   },
   {
    "duration": 5,
    "start_time": "2023-04-04T14:46:35.331Z"
   },
   {
    "duration": 67,
    "start_time": "2023-04-05T10:52:49.948Z"
   },
   {
    "duration": 1203,
    "start_time": "2023-04-05T10:52:55.915Z"
   },
   {
    "duration": 80,
    "start_time": "2023-04-05T10:52:57.119Z"
   },
   {
    "duration": 20,
    "start_time": "2023-04-05T10:52:57.202Z"
   },
   {
    "duration": 10,
    "start_time": "2023-04-05T10:52:57.224Z"
   },
   {
    "duration": 21,
    "start_time": "2023-04-05T10:52:57.235Z"
   },
   {
    "duration": 16,
    "start_time": "2023-04-05T10:52:57.257Z"
   },
   {
    "duration": 4,
    "start_time": "2023-04-05T10:53:00.962Z"
   },
   {
    "duration": 22,
    "start_time": "2023-04-05T10:54:23.524Z"
   },
   {
    "duration": 6,
    "start_time": "2023-04-05T10:54:23.923Z"
   },
   {
    "duration": 3,
    "start_time": "2023-04-05T11:06:10.204Z"
   },
   {
    "duration": 7,
    "start_time": "2023-04-05T11:06:10.871Z"
   },
   {
    "duration": 96,
    "start_time": "2023-04-05T11:06:46.983Z"
   },
   {
    "duration": 5,
    "start_time": "2023-04-05T11:06:51.571Z"
   },
   {
    "duration": 4,
    "start_time": "2023-04-05T11:06:55.071Z"
   },
   {
    "duration": 11,
    "start_time": "2023-04-05T11:07:10.279Z"
   },
   {
    "duration": 11,
    "start_time": "2023-04-05T11:07:28.455Z"
   },
   {
    "duration": 12,
    "start_time": "2023-04-05T11:07:29.079Z"
   },
   {
    "duration": 63,
    "start_time": "2023-04-05T11:11:45.662Z"
   },
   {
    "duration": 63,
    "start_time": "2023-04-05T11:14:19.124Z"
   },
   {
    "duration": 180,
    "start_time": "2023-04-05T11:15:12.485Z"
   },
   {
    "duration": 172,
    "start_time": "2023-04-05T11:16:38.940Z"
   },
   {
    "duration": 442,
    "start_time": "2023-04-05T11:17:53.380Z"
   },
   {
    "duration": 135,
    "start_time": "2023-04-05T11:18:00.876Z"
   },
   {
    "duration": 113,
    "start_time": "2023-04-05T11:18:04.707Z"
   },
   {
    "duration": 216,
    "start_time": "2023-04-05T11:18:13.388Z"
   },
   {
    "duration": 118,
    "start_time": "2023-04-05T11:18:19.011Z"
   },
   {
    "duration": 115,
    "start_time": "2023-04-05T11:22:46.139Z"
   },
   {
    "duration": 104,
    "start_time": "2023-04-05T12:15:58.710Z"
   },
   {
    "duration": 183,
    "start_time": "2023-04-05T12:19:07.588Z"
   },
   {
    "duration": 198,
    "start_time": "2023-04-05T12:19:37.101Z"
   },
   {
    "duration": 301,
    "start_time": "2023-04-05T12:21:08.084Z"
   },
   {
    "duration": 105,
    "start_time": "2023-04-05T12:21:18.900Z"
   },
   {
    "duration": 148,
    "start_time": "2023-04-05T12:22:50.148Z"
   },
   {
    "duration": 130,
    "start_time": "2023-04-05T12:23:13.564Z"
   },
   {
    "duration": 425,
    "start_time": "2023-04-05T13:15:18.972Z"
   },
   {
    "duration": 383,
    "start_time": "2023-04-05T13:15:22.394Z"
   },
   {
    "duration": 406,
    "start_time": "2023-04-05T13:16:25.584Z"
   },
   {
    "duration": 399,
    "start_time": "2023-04-05T13:17:12.130Z"
   },
   {
    "duration": 392,
    "start_time": "2023-04-05T13:17:34.176Z"
   },
   {
    "duration": 432,
    "start_time": "2023-04-05T13:17:41.073Z"
   },
   {
    "duration": 499,
    "start_time": "2023-04-05T13:17:48.376Z"
   },
   {
    "duration": 235,
    "start_time": "2023-04-05T13:18:43.849Z"
   },
   {
    "duration": 216,
    "start_time": "2023-04-05T13:18:49.865Z"
   },
   {
    "duration": 164,
    "start_time": "2023-04-05T13:19:01.521Z"
   },
   {
    "duration": 129,
    "start_time": "2023-04-05T13:19:06.792Z"
   },
   {
    "duration": 552,
    "start_time": "2023-04-05T13:19:19.120Z"
   },
   {
    "duration": 1746,
    "start_time": "2023-04-05T13:21:05.232Z"
   },
   {
    "duration": 1642,
    "start_time": "2023-04-05T13:21:51.042Z"
   },
   {
    "duration": 182,
    "start_time": "2023-04-05T13:23:06.006Z"
   },
   {
    "duration": 3766,
    "start_time": "2023-04-05T13:23:21.288Z"
   },
   {
    "duration": 147,
    "start_time": "2023-04-05T13:24:18.577Z"
   },
   {
    "duration": 3679,
    "start_time": "2023-04-05T13:25:09.129Z"
   },
   {
    "duration": 205,
    "start_time": "2023-04-05T13:26:33.536Z"
   },
   {
    "duration": 3813,
    "start_time": "2023-04-05T13:26:38.720Z"
   },
   {
    "duration": 1605,
    "start_time": "2023-04-05T13:26:47.983Z"
   },
   {
    "duration": 15,
    "start_time": "2023-04-05T13:36:54.526Z"
   },
   {
    "duration": 1568,
    "start_time": "2023-04-05T13:36:59.240Z"
   },
   {
    "duration": 1609,
    "start_time": "2023-04-05T14:01:50.327Z"
   },
   {
    "duration": 1517,
    "start_time": "2023-04-05T14:02:31.378Z"
   },
   {
    "duration": 732,
    "start_time": "2023-04-05T14:02:43.385Z"
   },
   {
    "duration": 4461,
    "start_time": "2023-04-05T14:03:08.977Z"
   },
   {
    "duration": 31,
    "start_time": "2023-04-05T14:03:30.363Z"
   },
   {
    "duration": 12,
    "start_time": "2023-04-05T14:40:55.202Z"
   },
   {
    "duration": 45,
    "start_time": "2023-04-05T14:41:34.130Z"
   },
   {
    "duration": 8,
    "start_time": "2023-04-05T14:48:56.064Z"
   },
   {
    "duration": 12,
    "start_time": "2023-04-05T14:49:01.817Z"
   },
   {
    "duration": 16,
    "start_time": "2023-04-05T14:50:41.167Z"
   },
   {
    "duration": 52,
    "start_time": "2023-04-05T14:50:46.059Z"
   },
   {
    "duration": 8,
    "start_time": "2023-04-05T14:57:05.051Z"
   },
   {
    "duration": 4,
    "start_time": "2023-04-05T14:57:33.087Z"
   },
   {
    "duration": 6,
    "start_time": "2023-04-05T14:57:47.615Z"
   },
   {
    "duration": 45,
    "start_time": "2023-04-05T14:57:53.126Z"
   },
   {
    "duration": 5,
    "start_time": "2023-04-05T14:57:53.655Z"
   },
   {
    "duration": 9,
    "start_time": "2023-04-05T14:59:10.831Z"
   },
   {
    "duration": 6,
    "start_time": "2023-04-05T14:59:15.703Z"
   },
   {
    "duration": 5,
    "start_time": "2023-04-05T14:59:55.735Z"
   },
   {
    "duration": 5,
    "start_time": "2023-04-05T15:03:02.327Z"
   },
   {
    "duration": 6,
    "start_time": "2023-04-05T15:03:04.196Z"
   },
   {
    "duration": 3,
    "start_time": "2023-04-05T15:04:02.555Z"
   },
   {
    "duration": 32,
    "start_time": "2023-04-05T15:04:02.559Z"
   },
   {
    "duration": 11,
    "start_time": "2023-04-05T15:04:02.592Z"
   },
   {
    "duration": 22,
    "start_time": "2023-04-05T15:04:02.604Z"
   },
   {
    "duration": 19,
    "start_time": "2023-04-05T15:04:02.628Z"
   },
   {
    "duration": 8,
    "start_time": "2023-04-05T15:04:02.648Z"
   },
   {
    "duration": 4,
    "start_time": "2023-04-05T15:04:02.658Z"
   },
   {
    "duration": 5,
    "start_time": "2023-04-05T15:04:02.663Z"
   },
   {
    "duration": 6,
    "start_time": "2023-04-05T15:04:02.669Z"
   },
   {
    "duration": 7,
    "start_time": "2023-04-05T15:04:02.676Z"
   },
   {
    "duration": 9,
    "start_time": "2023-04-05T15:04:02.685Z"
   },
   {
    "duration": 5,
    "start_time": "2023-04-05T15:04:02.696Z"
   },
   {
    "duration": 17,
    "start_time": "2023-04-05T15:04:02.702Z"
   },
   {
    "duration": 19,
    "start_time": "2023-04-05T15:04:02.723Z"
   },
   {
    "duration": 18,
    "start_time": "2023-04-05T15:04:02.744Z"
   },
   {
    "duration": 174,
    "start_time": "2023-04-05T15:04:02.764Z"
   },
   {
    "duration": 144,
    "start_time": "2023-04-05T15:04:02.940Z"
   },
   {
    "duration": 479,
    "start_time": "2023-04-05T15:04:03.086Z"
   },
   {
    "duration": 4338,
    "start_time": "2023-04-05T15:04:03.568Z"
   },
   {
    "duration": 27,
    "start_time": "2023-04-05T15:04:07.908Z"
   },
   {
    "duration": 54,
    "start_time": "2023-04-05T15:04:07.936Z"
   },
   {
    "duration": 5,
    "start_time": "2023-04-05T15:04:07.991Z"
   },
   {
    "duration": 16,
    "start_time": "2023-04-05T15:04:07.997Z"
   },
   {
    "duration": 6,
    "start_time": "2023-04-05T15:04:08.014Z"
   },
   {
    "duration": 6,
    "start_time": "2023-04-05T15:04:08.021Z"
   },
   {
    "duration": 5,
    "start_time": "2023-04-05T15:04:08.028Z"
   },
   {
    "duration": 3,
    "start_time": "2023-04-05T15:04:08.035Z"
   },
   {
    "duration": 16,
    "start_time": "2023-04-05T15:04:08.039Z"
   },
   {
    "duration": 47,
    "start_time": "2023-04-05T15:04:08.069Z"
   },
   {
    "duration": 5,
    "start_time": "2023-04-05T15:04:08.118Z"
   },
   {
    "duration": 8,
    "start_time": "2023-04-05T15:04:08.124Z"
   },
   {
    "duration": 11,
    "start_time": "2023-04-05T15:04:08.134Z"
   },
   {
    "duration": 52,
    "start_time": "2023-04-05T15:08:07.126Z"
   },
   {
    "duration": 60,
    "start_time": "2023-04-05T15:08:14.782Z"
   },
   {
    "duration": 5,
    "start_time": "2023-04-05T15:08:18.998Z"
   }
  ],
  "kernelspec": {
   "display_name": "Python 3 (ipykernel)",
   "language": "python",
   "name": "python3"
  },
  "language_info": {
   "codemirror_mode": {
    "name": "ipython",
    "version": 3
   },
   "file_extension": ".py",
   "mimetype": "text/x-python",
   "name": "python",
   "nbconvert_exporter": "python",
   "pygments_lexer": "ipython3",
   "version": "3.9.13"
  },
  "toc": {
   "base_numbering": 1,
   "nav_menu": {},
   "number_sections": true,
   "sideBar": true,
   "skip_h1_title": true,
   "title_cell": "Table of Contents",
   "title_sidebar": "Contents",
   "toc_cell": false,
   "toc_position": {},
   "toc_section_display": true,
   "toc_window_display": false
  }
 },
 "nbformat": 4,
 "nbformat_minor": 2
}
