{
 "cells": [
  {
   "cell_type": "markdown",
   "metadata": {},
   "source": [
    "# Система прогнозирования отказа от брони клиента"
   ]
  },
  {
   "cell_type": "markdown",
   "metadata": {},
   "source": [
    "Заказчик этого исследования — сеть отелей «Как в гостях». Чтобы привлечь клиентов, эта сеть отелей добавила на свой сайт возможность забронировать номер без предоплаты. Однако если клиент отменял бронирование, то компания терпела убытки. Сотрудники отеля могли, например, закупить продукты к приезду гостя или просто не успеть найти другого клиента. Чтобы решить эту проблему, вам нужно разработать систему, которая предсказывает отказ от брони. Если модель покажет, что бронь будет отменена, то клиенту предлагается внести депозит. Размер депозита — 80% от стоимости номера за одни сутки и затрат на разовую уборку. Деньги будут списаны со счёта клиента, если он всё же отменит бронь.\n",
    "\n",
    "Бизнес-метрика и другие данные\n",
    "\n",
    "Основная бизнес-метрика для любой сети отелей — её прибыль. Прибыль отеля — это разница между стоимостью номера за все ночи и затраты на обслуживание: как при подготовке номера, так и при проживании постояльца. \n",
    "\n",
    "В отеле есть несколько типов номеров. В зависимости от типа номера назначается стоимость за одну ночь. Есть также затраты на уборку. Если клиент снял номер надолго, то убираются каждые два дня. \n",
    "Стоимость номеров отеля:\n",
    "\n",
    "- категория A: за ночь — 1 000, разовое обслуживание — 400;\n",
    "- категория B: за ночь — 800, разовое обслуживание — 350;\n",
    "- категория C: за ночь — 600, разовое обслуживание — 350;\n",
    "- категория D: за ночь — 550, разовое обслуживание — 150;\n",
    "- категория E: за ночь — 500, разовое обслуживание — 150;\n",
    "- категория F: за ночь — 450, разовое обслуживание — 150;\n",
    "- категория G: за ночь — 350, разовое обслуживание — 150.\n",
    "\n",
    "В ценовой политике отеля используются сезонные коэффициенты: весной и осенью цены повышаются на 20%, летом — на 40%.\n",
    "Убытки отеля в случае отмены брони номера — это стоимость одной уборки и одной ночи с учётом сезонного коэффициента.\n",
    "На разработку системы прогнозирования заложен бюджет — 400 000. При этом необходимо учесть, что внедрение модели должно окупиться за тестовый период. Затраты на разработку должны быть меньше той выручки, которую система принесёт компании.\n",
    "\n",
    "\n",
    "Описание данных\n",
    "\n",
    "В таблицах hotel_train и hotel_test содержатся одинаковые столбцы:\n",
    "\n",
    "- id — номер записи;\n",
    "- is_canceled — отмена заказа;\n",
    "- lead_time — количество дней между датой бронирования и датой прибытия;\n",
    "- arrival_date_year — год заезда;\n",
    "- arrival_date_month — месяц заезда;\n",
    "- arrival_date_week_number — неделя заезда;\n",
    "- arrival_date_day_of_month — день заезда;\n",
    "- stays_in_weekend_nights — количество ночей в выходные дни;\n",
    "- stays_in_week_nights — количество ночей в будние дни;\n",
    "- adults — количество взрослых постояльцев;\n",
    "- children — количество детей от 3 до 14 лет;\n",
    "- babies — количество младенцев;\n",
    "- meal — опции заказа:\n",
    "  - SC — нет дополнительных опций;\n",
    "  - BB — включён завтрак;\n",
    "  - HB — включён завтрак и обед;\n",
    "  - FB — включён завтрак, обед и ужин.\n",
    "- country — гражданство постояльца;\n",
    "- distribution_channel — канал дистрибуции заказа;\n",
    "- is_repeated_guest — признак того, что гость бронирует номер второй раз;\n",
    "- previous_cancellations — количество отменённых заказов у клиента;\n",
    "- previous_bookings_not_canceled — количество подтверждённых заказов у клиента;\n",
    "- reserved_room_type — тип забронированной комнаты;\n",
    "- booking_changes — количество изменений параметров заказа;\n",
    "- days_in_waiting_list — сколько дней заказ ожидал подтверждения;\n",
    "- customer_type — тип заказчика:\n",
    "  - Contract — договор с юридическим лицом;\n",
    "  - Group — групповой заезд;\n",
    "  - Transient — не связано с договором или групповым заездом;\n",
    "  - Transient-party — не связано с договором или групповым заездом, но связано с бронированием типа Transient.\n",
    "- required_car_parking_spaces — необходимость места для автомобиля;\n",
    "- total_of_special_requests — количество специальных отметок.\n",
    "- total_nights — общее количество ночей;"
   ]
  },
  {
   "cell_type": "markdown",
   "metadata": {},
   "source": [
    "### Шаг 1. Откроем файлы с данными"
   ]
  },
  {
   "cell_type": "code",
   "execution_count": 1,
   "metadata": {},
   "outputs": [],
   "source": [
    "#!pip install scikit-learn==1.1.3"
   ]
  },
  {
   "cell_type": "code",
   "execution_count": 2,
   "metadata": {},
   "outputs": [],
   "source": [
    "#!pip install imblearn"
   ]
  },
  {
   "cell_type": "code",
   "execution_count": 3,
   "metadata": {},
   "outputs": [],
   "source": [
    "import pandas as pd\n",
    "import matplotlib.pyplot as plt\n",
    "import numpy as np\n",
    "import seaborn as sns\n",
    "from scipy.stats import randint\n",
    "from sklearn.preprocessing import OneHotEncoder\n",
    "from sklearn.preprocessing import StandardScaler\n",
    "from sklearn.utils import shuffle\n",
    "from sklearn.tree import DecisionTreeClassifier\n",
    "from sklearn.ensemble import RandomForestClassifier\n",
    "from sklearn.linear_model import LogisticRegression\n",
    "from sklearn.model_selection import RandomizedSearchCV\n",
    "from sklearn.model_selection import GridSearchCV\n",
    "from sklearn.model_selection import cross_val_score\n",
    "from sklearn.model_selection import StratifiedKFold\n",
    "from sklearn.metrics import f1_score\n",
    "from sklearn.metrics import precision_score\n",
    "from sklearn.metrics import recall_score\n",
    "from sklearn.metrics import roc_curve \n",
    "from sklearn.metrics import roc_auc_score\n",
    "from imblearn.pipeline import Pipeline, make_pipeline\n",
    "from imblearn.over_sampling import SMOTE"
   ]
  },
  {
   "cell_type": "code",
   "execution_count": 4,
   "metadata": {},
   "outputs": [],
   "source": [
    "pd.set_option('max_columns', None)"
   ]
  },
  {
   "cell_type": "code",
   "execution_count": 5,
   "metadata": {},
   "outputs": [],
   "source": [
    "try:\n",
    "    data_train = pd.read_csv('C:/Users/Student/Desktop/hotel_train.csv')\n",
    "    data_test = pd.read_csv('C:/Users/Student/Desktop/hotel_test.csv')\n",
    "except:\n",
    "    data_train = pd.read_csv('/datasets/hotel_train.csv')\n",
    "    data_test = pd.read_csv('/datasets/hotel_test.csv')"
   ]
  },
  {
   "cell_type": "markdown",
   "metadata": {},
   "source": [
    "### Шаг 2. Предобработка и исследовательский анализ данных"
   ]
  },
  {
   "cell_type": "markdown",
   "metadata": {},
   "source": [
    "#### Исследование данных"
   ]
  },
  {
   "cell_type": "code",
   "execution_count": 6,
   "metadata": {},
   "outputs": [],
   "source": [
    "def func_info(data):\n",
    "    display(data.head())\n",
    "    display(data.info())\n",
    "    display(data.describe())\n",
    "    print(('Количество дубликатов по всему датасету: {0}').format(data.duplicated().sum()))\n",
    "    print(('Количество дубликатов в столбце id: {0}').format(data['id'].duplicated().sum()))\n",
    "    return"
   ]
  },
  {
   "cell_type": "code",
   "execution_count": 7,
   "metadata": {},
   "outputs": [],
   "source": [
    "def func_hist(data):\n",
    "    for column in data.drop(['id', 'is_canceled', 'lead_time', 'country'], axis=1).columns:\n",
    "        data.pivot_table('id', column, 'is_canceled', 'count').plot(kind='bar')"
   ]
  },
  {
   "cell_type": "markdown",
   "metadata": {},
   "source": [
    "Изучим датасеты трейна и теста: посмотрим первые пять строк датасетов, информацию о датасетах, описание данных датасетов и наличие дубликатов."
   ]
  },
  {
   "cell_type": "code",
   "execution_count": 8,
   "metadata": {},
   "outputs": [
    {
     "data": {
      "text/html": [
       "<div>\n",
       "<style scoped>\n",
       "    .dataframe tbody tr th:only-of-type {\n",
       "        vertical-align: middle;\n",
       "    }\n",
       "\n",
       "    .dataframe tbody tr th {\n",
       "        vertical-align: top;\n",
       "    }\n",
       "\n",
       "    .dataframe thead th {\n",
       "        text-align: right;\n",
       "    }\n",
       "</style>\n",
       "<table border=\"1\" class=\"dataframe\">\n",
       "  <thead>\n",
       "    <tr style=\"text-align: right;\">\n",
       "      <th></th>\n",
       "      <th>id</th>\n",
       "      <th>is_canceled</th>\n",
       "      <th>lead_time</th>\n",
       "      <th>arrival_date_year</th>\n",
       "      <th>arrival_date_month</th>\n",
       "      <th>arrival_date_week_number</th>\n",
       "      <th>arrival_date_day_of_month</th>\n",
       "      <th>stays_in_weekend_nights</th>\n",
       "      <th>stays_in_week_nights</th>\n",
       "      <th>adults</th>\n",
       "      <th>children</th>\n",
       "      <th>babies</th>\n",
       "      <th>meal</th>\n",
       "      <th>country</th>\n",
       "      <th>distribution_channel</th>\n",
       "      <th>is_repeated_guest</th>\n",
       "      <th>previous_cancellations</th>\n",
       "      <th>previous_bookings_not_canceled</th>\n",
       "      <th>reserved_room_type</th>\n",
       "      <th>booking_changes</th>\n",
       "      <th>days_in_waiting_list</th>\n",
       "      <th>customer_type</th>\n",
       "      <th>required_car_parking_spaces</th>\n",
       "      <th>total_of_special_requests</th>\n",
       "      <th>total_nights</th>\n",
       "    </tr>\n",
       "  </thead>\n",
       "  <tbody>\n",
       "    <tr>\n",
       "      <th>0</th>\n",
       "      <td>0</td>\n",
       "      <td>0</td>\n",
       "      <td>7.0</td>\n",
       "      <td>2015</td>\n",
       "      <td>July</td>\n",
       "      <td>27</td>\n",
       "      <td>1</td>\n",
       "      <td>0</td>\n",
       "      <td>1</td>\n",
       "      <td>1.0</td>\n",
       "      <td>0.0</td>\n",
       "      <td>0.0</td>\n",
       "      <td>BB</td>\n",
       "      <td>GBR</td>\n",
       "      <td>Direct</td>\n",
       "      <td>0</td>\n",
       "      <td>0</td>\n",
       "      <td>0</td>\n",
       "      <td>A</td>\n",
       "      <td>0</td>\n",
       "      <td>0</td>\n",
       "      <td>Transient</td>\n",
       "      <td>0</td>\n",
       "      <td>0</td>\n",
       "      <td>1</td>\n",
       "    </tr>\n",
       "    <tr>\n",
       "      <th>1</th>\n",
       "      <td>1</td>\n",
       "      <td>0</td>\n",
       "      <td>14.0</td>\n",
       "      <td>2015</td>\n",
       "      <td>July</td>\n",
       "      <td>27</td>\n",
       "      <td>1</td>\n",
       "      <td>0</td>\n",
       "      <td>2</td>\n",
       "      <td>2.0</td>\n",
       "      <td>0.0</td>\n",
       "      <td>0.0</td>\n",
       "      <td>BB</td>\n",
       "      <td>GBR</td>\n",
       "      <td>TA/TO</td>\n",
       "      <td>0</td>\n",
       "      <td>0</td>\n",
       "      <td>0</td>\n",
       "      <td>A</td>\n",
       "      <td>0</td>\n",
       "      <td>0</td>\n",
       "      <td>Transient</td>\n",
       "      <td>0</td>\n",
       "      <td>1</td>\n",
       "      <td>2</td>\n",
       "    </tr>\n",
       "    <tr>\n",
       "      <th>2</th>\n",
       "      <td>2</td>\n",
       "      <td>0</td>\n",
       "      <td>0.0</td>\n",
       "      <td>2015</td>\n",
       "      <td>July</td>\n",
       "      <td>27</td>\n",
       "      <td>1</td>\n",
       "      <td>0</td>\n",
       "      <td>2</td>\n",
       "      <td>2.0</td>\n",
       "      <td>0.0</td>\n",
       "      <td>0.0</td>\n",
       "      <td>BB</td>\n",
       "      <td>PRT</td>\n",
       "      <td>Direct</td>\n",
       "      <td>0</td>\n",
       "      <td>0</td>\n",
       "      <td>0</td>\n",
       "      <td>C</td>\n",
       "      <td>0</td>\n",
       "      <td>0</td>\n",
       "      <td>Transient</td>\n",
       "      <td>0</td>\n",
       "      <td>0</td>\n",
       "      <td>2</td>\n",
       "    </tr>\n",
       "    <tr>\n",
       "      <th>3</th>\n",
       "      <td>3</td>\n",
       "      <td>0</td>\n",
       "      <td>9.0</td>\n",
       "      <td>2015</td>\n",
       "      <td>July</td>\n",
       "      <td>27</td>\n",
       "      <td>1</td>\n",
       "      <td>0</td>\n",
       "      <td>2</td>\n",
       "      <td>2.0</td>\n",
       "      <td>0.0</td>\n",
       "      <td>0.0</td>\n",
       "      <td>FB</td>\n",
       "      <td>PRT</td>\n",
       "      <td>Direct</td>\n",
       "      <td>0</td>\n",
       "      <td>0</td>\n",
       "      <td>0</td>\n",
       "      <td>C</td>\n",
       "      <td>0</td>\n",
       "      <td>0</td>\n",
       "      <td>Transient</td>\n",
       "      <td>0</td>\n",
       "      <td>1</td>\n",
       "      <td>2</td>\n",
       "    </tr>\n",
       "    <tr>\n",
       "      <th>4</th>\n",
       "      <td>4</td>\n",
       "      <td>1</td>\n",
       "      <td>85.0</td>\n",
       "      <td>2015</td>\n",
       "      <td>July</td>\n",
       "      <td>27</td>\n",
       "      <td>1</td>\n",
       "      <td>0</td>\n",
       "      <td>3</td>\n",
       "      <td>2.0</td>\n",
       "      <td>0.0</td>\n",
       "      <td>0.0</td>\n",
       "      <td>BB</td>\n",
       "      <td>PRT</td>\n",
       "      <td>TA/TO</td>\n",
       "      <td>0</td>\n",
       "      <td>0</td>\n",
       "      <td>0</td>\n",
       "      <td>A</td>\n",
       "      <td>0</td>\n",
       "      <td>0</td>\n",
       "      <td>Transient</td>\n",
       "      <td>0</td>\n",
       "      <td>1</td>\n",
       "      <td>3</td>\n",
       "    </tr>\n",
       "  </tbody>\n",
       "</table>\n",
       "</div>"
      ],
      "text/plain": [
       "   id  is_canceled  lead_time  arrival_date_year arrival_date_month  \\\n",
       "0   0            0        7.0               2015               July   \n",
       "1   1            0       14.0               2015               July   \n",
       "2   2            0        0.0               2015               July   \n",
       "3   3            0        9.0               2015               July   \n",
       "4   4            1       85.0               2015               July   \n",
       "\n",
       "   arrival_date_week_number  arrival_date_day_of_month  \\\n",
       "0                        27                          1   \n",
       "1                        27                          1   \n",
       "2                        27                          1   \n",
       "3                        27                          1   \n",
       "4                        27                          1   \n",
       "\n",
       "   stays_in_weekend_nights  stays_in_week_nights  adults  children  babies  \\\n",
       "0                        0                     1     1.0       0.0     0.0   \n",
       "1                        0                     2     2.0       0.0     0.0   \n",
       "2                        0                     2     2.0       0.0     0.0   \n",
       "3                        0                     2     2.0       0.0     0.0   \n",
       "4                        0                     3     2.0       0.0     0.0   \n",
       "\n",
       "        meal country distribution_channel  is_repeated_guest  \\\n",
       "0  BB            GBR               Direct                  0   \n",
       "1  BB            GBR                TA/TO                  0   \n",
       "2  BB            PRT               Direct                  0   \n",
       "3  FB            PRT               Direct                  0   \n",
       "4  BB            PRT                TA/TO                  0   \n",
       "\n",
       "   previous_cancellations  previous_bookings_not_canceled reserved_room_type  \\\n",
       "0                       0                               0   A                  \n",
       "1                       0                               0   A                  \n",
       "2                       0                               0   C                  \n",
       "3                       0                               0   C                  \n",
       "4                       0                               0   A                  \n",
       "\n",
       "   booking_changes  days_in_waiting_list customer_type  \\\n",
       "0                0                     0     Transient   \n",
       "1                0                     0     Transient   \n",
       "2                0                     0     Transient   \n",
       "3                0                     0     Transient   \n",
       "4                0                     0     Transient   \n",
       "\n",
       "   required_car_parking_spaces  total_of_special_requests  total_nights  \n",
       "0                            0                          0             1  \n",
       "1                            0                          1             2  \n",
       "2                            0                          0             2  \n",
       "3                            0                          1             2  \n",
       "4                            0                          1             3  "
      ]
     },
     "metadata": {},
     "output_type": "display_data"
    },
    {
     "name": "stdout",
     "output_type": "stream",
     "text": [
      "<class 'pandas.core.frame.DataFrame'>\n",
      "RangeIndex: 65229 entries, 0 to 65228\n",
      "Data columns (total 25 columns):\n",
      " #   Column                          Non-Null Count  Dtype  \n",
      "---  ------                          --------------  -----  \n",
      " 0   id                              65229 non-null  int64  \n",
      " 1   is_canceled                     65229 non-null  int64  \n",
      " 2   lead_time                       65229 non-null  float64\n",
      " 3   arrival_date_year               65229 non-null  int64  \n",
      " 4   arrival_date_month              65229 non-null  object \n",
      " 5   arrival_date_week_number        65229 non-null  int64  \n",
      " 6   arrival_date_day_of_month       65229 non-null  int64  \n",
      " 7   stays_in_weekend_nights         65229 non-null  int64  \n",
      " 8   stays_in_week_nights            65229 non-null  int64  \n",
      " 9   adults                          65229 non-null  float64\n",
      " 10  children                        65229 non-null  float64\n",
      " 11  babies                          65229 non-null  float64\n",
      " 12  meal                            65229 non-null  object \n",
      " 13  country                         65229 non-null  object \n",
      " 14  distribution_channel            65229 non-null  object \n",
      " 15  is_repeated_guest               65229 non-null  int64  \n",
      " 16  previous_cancellations          65229 non-null  int64  \n",
      " 17  previous_bookings_not_canceled  65229 non-null  int64  \n",
      " 18  reserved_room_type              65229 non-null  object \n",
      " 19  booking_changes                 65229 non-null  int64  \n",
      " 20  days_in_waiting_list            65229 non-null  int64  \n",
      " 21  customer_type                   65229 non-null  object \n",
      " 22  required_car_parking_spaces     65229 non-null  int64  \n",
      " 23  total_of_special_requests       65229 non-null  int64  \n",
      " 24  total_nights                    65229 non-null  int64  \n",
      "dtypes: float64(4), int64(15), object(6)\n",
      "memory usage: 12.4+ MB\n"
     ]
    },
    {
     "data": {
      "text/plain": [
       "None"
      ]
     },
     "metadata": {},
     "output_type": "display_data"
    },
    {
     "data": {
      "text/html": [
       "<div>\n",
       "<style scoped>\n",
       "    .dataframe tbody tr th:only-of-type {\n",
       "        vertical-align: middle;\n",
       "    }\n",
       "\n",
       "    .dataframe tbody tr th {\n",
       "        vertical-align: top;\n",
       "    }\n",
       "\n",
       "    .dataframe thead th {\n",
       "        text-align: right;\n",
       "    }\n",
       "</style>\n",
       "<table border=\"1\" class=\"dataframe\">\n",
       "  <thead>\n",
       "    <tr style=\"text-align: right;\">\n",
       "      <th></th>\n",
       "      <th>id</th>\n",
       "      <th>is_canceled</th>\n",
       "      <th>lead_time</th>\n",
       "      <th>arrival_date_year</th>\n",
       "      <th>arrival_date_week_number</th>\n",
       "      <th>arrival_date_day_of_month</th>\n",
       "      <th>stays_in_weekend_nights</th>\n",
       "      <th>stays_in_week_nights</th>\n",
       "      <th>adults</th>\n",
       "      <th>children</th>\n",
       "      <th>babies</th>\n",
       "      <th>is_repeated_guest</th>\n",
       "      <th>previous_cancellations</th>\n",
       "      <th>previous_bookings_not_canceled</th>\n",
       "      <th>booking_changes</th>\n",
       "      <th>days_in_waiting_list</th>\n",
       "      <th>required_car_parking_spaces</th>\n",
       "      <th>total_of_special_requests</th>\n",
       "      <th>total_nights</th>\n",
       "    </tr>\n",
       "  </thead>\n",
       "  <tbody>\n",
       "    <tr>\n",
       "      <th>count</th>\n",
       "      <td>65229.000000</td>\n",
       "      <td>65229.000000</td>\n",
       "      <td>65229.000000</td>\n",
       "      <td>65229.000000</td>\n",
       "      <td>65229.000000</td>\n",
       "      <td>65229.000000</td>\n",
       "      <td>65229.000000</td>\n",
       "      <td>65229.000000</td>\n",
       "      <td>65229.000000</td>\n",
       "      <td>65229.000000</td>\n",
       "      <td>65229.000000</td>\n",
       "      <td>65229.000000</td>\n",
       "      <td>65229.000000</td>\n",
       "      <td>65229.000000</td>\n",
       "      <td>65229.000000</td>\n",
       "      <td>65229.000000</td>\n",
       "      <td>65229.000000</td>\n",
       "      <td>65229.000000</td>\n",
       "      <td>65229.000000</td>\n",
       "    </tr>\n",
       "    <tr>\n",
       "      <th>mean</th>\n",
       "      <td>43544.069172</td>\n",
       "      <td>0.368609</td>\n",
       "      <td>96.337917</td>\n",
       "      <td>2015.719021</td>\n",
       "      <td>31.339772</td>\n",
       "      <td>15.847813</td>\n",
       "      <td>0.825185</td>\n",
       "      <td>2.224793</td>\n",
       "      <td>1.836576</td>\n",
       "      <td>0.074890</td>\n",
       "      <td>0.007236</td>\n",
       "      <td>0.027151</td>\n",
       "      <td>0.128915</td>\n",
       "      <td>0.107713</td>\n",
       "      <td>0.194269</td>\n",
       "      <td>3.334422</td>\n",
       "      <td>0.056647</td>\n",
       "      <td>0.512763</td>\n",
       "      <td>3.049978</td>\n",
       "    </tr>\n",
       "    <tr>\n",
       "      <th>std</th>\n",
       "      <td>25614.858971</td>\n",
       "      <td>0.482431</td>\n",
       "      <td>96.127545</td>\n",
       "      <td>0.449481</td>\n",
       "      <td>13.464024</td>\n",
       "      <td>8.748182</td>\n",
       "      <td>0.853477</td>\n",
       "      <td>1.354992</td>\n",
       "      <td>0.480245</td>\n",
       "      <td>0.334243</td>\n",
       "      <td>0.098790</td>\n",
       "      <td>0.162523</td>\n",
       "      <td>0.965326</td>\n",
       "      <td>1.326638</td>\n",
       "      <td>0.593838</td>\n",
       "      <td>18.239606</td>\n",
       "      <td>0.232094</td>\n",
       "      <td>0.752590</td>\n",
       "      <td>1.738108</td>\n",
       "    </tr>\n",
       "    <tr>\n",
       "      <th>min</th>\n",
       "      <td>0.000000</td>\n",
       "      <td>0.000000</td>\n",
       "      <td>0.000000</td>\n",
       "      <td>2015.000000</td>\n",
       "      <td>1.000000</td>\n",
       "      <td>1.000000</td>\n",
       "      <td>0.000000</td>\n",
       "      <td>0.000000</td>\n",
       "      <td>0.000000</td>\n",
       "      <td>0.000000</td>\n",
       "      <td>0.000000</td>\n",
       "      <td>0.000000</td>\n",
       "      <td>0.000000</td>\n",
       "      <td>0.000000</td>\n",
       "      <td>0.000000</td>\n",
       "      <td>0.000000</td>\n",
       "      <td>0.000000</td>\n",
       "      <td>0.000000</td>\n",
       "      <td>1.000000</td>\n",
       "    </tr>\n",
       "    <tr>\n",
       "      <th>25%</th>\n",
       "      <td>19108.000000</td>\n",
       "      <td>0.000000</td>\n",
       "      <td>17.000000</td>\n",
       "      <td>2015.000000</td>\n",
       "      <td>21.000000</td>\n",
       "      <td>8.000000</td>\n",
       "      <td>0.000000</td>\n",
       "      <td>1.000000</td>\n",
       "      <td>2.000000</td>\n",
       "      <td>0.000000</td>\n",
       "      <td>0.000000</td>\n",
       "      <td>0.000000</td>\n",
       "      <td>0.000000</td>\n",
       "      <td>0.000000</td>\n",
       "      <td>0.000000</td>\n",
       "      <td>0.000000</td>\n",
       "      <td>0.000000</td>\n",
       "      <td>0.000000</td>\n",
       "      <td>2.000000</td>\n",
       "    </tr>\n",
       "    <tr>\n",
       "      <th>50%</th>\n",
       "      <td>40554.000000</td>\n",
       "      <td>0.000000</td>\n",
       "      <td>64.000000</td>\n",
       "      <td>2016.000000</td>\n",
       "      <td>34.000000</td>\n",
       "      <td>16.000000</td>\n",
       "      <td>1.000000</td>\n",
       "      <td>2.000000</td>\n",
       "      <td>2.000000</td>\n",
       "      <td>0.000000</td>\n",
       "      <td>0.000000</td>\n",
       "      <td>0.000000</td>\n",
       "      <td>0.000000</td>\n",
       "      <td>0.000000</td>\n",
       "      <td>0.000000</td>\n",
       "      <td>0.000000</td>\n",
       "      <td>0.000000</td>\n",
       "      <td>0.000000</td>\n",
       "      <td>3.000000</td>\n",
       "    </tr>\n",
       "    <tr>\n",
       "      <th>75%</th>\n",
       "      <td>67414.000000</td>\n",
       "      <td>1.000000</td>\n",
       "      <td>151.000000</td>\n",
       "      <td>2016.000000</td>\n",
       "      <td>42.000000</td>\n",
       "      <td>23.000000</td>\n",
       "      <td>2.000000</td>\n",
       "      <td>3.000000</td>\n",
       "      <td>2.000000</td>\n",
       "      <td>0.000000</td>\n",
       "      <td>0.000000</td>\n",
       "      <td>0.000000</td>\n",
       "      <td>0.000000</td>\n",
       "      <td>0.000000</td>\n",
       "      <td>0.000000</td>\n",
       "      <td>0.000000</td>\n",
       "      <td>0.000000</td>\n",
       "      <td>1.000000</td>\n",
       "      <td>4.000000</td>\n",
       "    </tr>\n",
       "    <tr>\n",
       "      <th>max</th>\n",
       "      <td>84121.000000</td>\n",
       "      <td>1.000000</td>\n",
       "      <td>374.000000</td>\n",
       "      <td>2016.000000</td>\n",
       "      <td>53.000000</td>\n",
       "      <td>31.000000</td>\n",
       "      <td>4.000000</td>\n",
       "      <td>6.000000</td>\n",
       "      <td>4.000000</td>\n",
       "      <td>3.000000</td>\n",
       "      <td>10.000000</td>\n",
       "      <td>1.000000</td>\n",
       "      <td>26.000000</td>\n",
       "      <td>58.000000</td>\n",
       "      <td>17.000000</td>\n",
       "      <td>259.000000</td>\n",
       "      <td>3.000000</td>\n",
       "      <td>5.000000</td>\n",
       "      <td>10.000000</td>\n",
       "    </tr>\n",
       "  </tbody>\n",
       "</table>\n",
       "</div>"
      ],
      "text/plain": [
       "                 id   is_canceled     lead_time  arrival_date_year  \\\n",
       "count  65229.000000  65229.000000  65229.000000       65229.000000   \n",
       "mean   43544.069172      0.368609     96.337917        2015.719021   \n",
       "std    25614.858971      0.482431     96.127545           0.449481   \n",
       "min        0.000000      0.000000      0.000000        2015.000000   \n",
       "25%    19108.000000      0.000000     17.000000        2015.000000   \n",
       "50%    40554.000000      0.000000     64.000000        2016.000000   \n",
       "75%    67414.000000      1.000000    151.000000        2016.000000   \n",
       "max    84121.000000      1.000000    374.000000        2016.000000   \n",
       "\n",
       "       arrival_date_week_number  arrival_date_day_of_month  \\\n",
       "count              65229.000000               65229.000000   \n",
       "mean                  31.339772                  15.847813   \n",
       "std                   13.464024                   8.748182   \n",
       "min                    1.000000                   1.000000   \n",
       "25%                   21.000000                   8.000000   \n",
       "50%                   34.000000                  16.000000   \n",
       "75%                   42.000000                  23.000000   \n",
       "max                   53.000000                  31.000000   \n",
       "\n",
       "       stays_in_weekend_nights  stays_in_week_nights        adults  \\\n",
       "count             65229.000000          65229.000000  65229.000000   \n",
       "mean                  0.825185              2.224793      1.836576   \n",
       "std                   0.853477              1.354992      0.480245   \n",
       "min                   0.000000              0.000000      0.000000   \n",
       "25%                   0.000000              1.000000      2.000000   \n",
       "50%                   1.000000              2.000000      2.000000   \n",
       "75%                   2.000000              3.000000      2.000000   \n",
       "max                   4.000000              6.000000      4.000000   \n",
       "\n",
       "           children        babies  is_repeated_guest  previous_cancellations  \\\n",
       "count  65229.000000  65229.000000       65229.000000            65229.000000   \n",
       "mean       0.074890      0.007236           0.027151                0.128915   \n",
       "std        0.334243      0.098790           0.162523                0.965326   \n",
       "min        0.000000      0.000000           0.000000                0.000000   \n",
       "25%        0.000000      0.000000           0.000000                0.000000   \n",
       "50%        0.000000      0.000000           0.000000                0.000000   \n",
       "75%        0.000000      0.000000           0.000000                0.000000   \n",
       "max        3.000000     10.000000           1.000000               26.000000   \n",
       "\n",
       "       previous_bookings_not_canceled  booking_changes  days_in_waiting_list  \\\n",
       "count                    65229.000000     65229.000000          65229.000000   \n",
       "mean                         0.107713         0.194269              3.334422   \n",
       "std                          1.326638         0.593838             18.239606   \n",
       "min                          0.000000         0.000000              0.000000   \n",
       "25%                          0.000000         0.000000              0.000000   \n",
       "50%                          0.000000         0.000000              0.000000   \n",
       "75%                          0.000000         0.000000              0.000000   \n",
       "max                         58.000000        17.000000            259.000000   \n",
       "\n",
       "       required_car_parking_spaces  total_of_special_requests  total_nights  \n",
       "count                 65229.000000               65229.000000  65229.000000  \n",
       "mean                      0.056647                   0.512763      3.049978  \n",
       "std                       0.232094                   0.752590      1.738108  \n",
       "min                       0.000000                   0.000000      1.000000  \n",
       "25%                       0.000000                   0.000000      2.000000  \n",
       "50%                       0.000000                   0.000000      3.000000  \n",
       "75%                       0.000000                   1.000000      4.000000  \n",
       "max                       3.000000                   5.000000     10.000000  "
      ]
     },
     "metadata": {},
     "output_type": "display_data"
    },
    {
     "name": "stdout",
     "output_type": "stream",
     "text": [
      "Количество дубликатов по всему датасету: 0\n",
      "Количество дубликатов в столбце id: 0\n"
     ]
    }
   ],
   "source": [
    "func_info(data_train)"
   ]
  },
  {
   "cell_type": "code",
   "execution_count": 9,
   "metadata": {},
   "outputs": [
    {
     "data": {
      "text/html": [
       "<div>\n",
       "<style scoped>\n",
       "    .dataframe tbody tr th:only-of-type {\n",
       "        vertical-align: middle;\n",
       "    }\n",
       "\n",
       "    .dataframe tbody tr th {\n",
       "        vertical-align: top;\n",
       "    }\n",
       "\n",
       "    .dataframe thead th {\n",
       "        text-align: right;\n",
       "    }\n",
       "</style>\n",
       "<table border=\"1\" class=\"dataframe\">\n",
       "  <thead>\n",
       "    <tr style=\"text-align: right;\">\n",
       "      <th></th>\n",
       "      <th>id</th>\n",
       "      <th>is_canceled</th>\n",
       "      <th>lead_time</th>\n",
       "      <th>arrival_date_year</th>\n",
       "      <th>arrival_date_month</th>\n",
       "      <th>arrival_date_week_number</th>\n",
       "      <th>arrival_date_day_of_month</th>\n",
       "      <th>stays_in_weekend_nights</th>\n",
       "      <th>stays_in_week_nights</th>\n",
       "      <th>adults</th>\n",
       "      <th>children</th>\n",
       "      <th>babies</th>\n",
       "      <th>meal</th>\n",
       "      <th>country</th>\n",
       "      <th>distribution_channel</th>\n",
       "      <th>is_repeated_guest</th>\n",
       "      <th>previous_cancellations</th>\n",
       "      <th>previous_bookings_not_canceled</th>\n",
       "      <th>reserved_room_type</th>\n",
       "      <th>booking_changes</th>\n",
       "      <th>days_in_waiting_list</th>\n",
       "      <th>customer_type</th>\n",
       "      <th>required_car_parking_spaces</th>\n",
       "      <th>total_of_special_requests</th>\n",
       "      <th>total_nights</th>\n",
       "    </tr>\n",
       "  </thead>\n",
       "  <tbody>\n",
       "    <tr>\n",
       "      <th>0</th>\n",
       "      <td>6086</td>\n",
       "      <td>1</td>\n",
       "      <td>74.0</td>\n",
       "      <td>2017</td>\n",
       "      <td>January</td>\n",
       "      <td>1</td>\n",
       "      <td>1</td>\n",
       "      <td>1</td>\n",
       "      <td>0</td>\n",
       "      <td>2.0</td>\n",
       "      <td>0.0</td>\n",
       "      <td>0.0</td>\n",
       "      <td>BB</td>\n",
       "      <td>PRT</td>\n",
       "      <td>TA/TO</td>\n",
       "      <td>0</td>\n",
       "      <td>0</td>\n",
       "      <td>0</td>\n",
       "      <td>A</td>\n",
       "      <td>0</td>\n",
       "      <td>0</td>\n",
       "      <td>Transient</td>\n",
       "      <td>0</td>\n",
       "      <td>0</td>\n",
       "      <td>1</td>\n",
       "    </tr>\n",
       "    <tr>\n",
       "      <th>1</th>\n",
       "      <td>6087</td>\n",
       "      <td>1</td>\n",
       "      <td>62.0</td>\n",
       "      <td>2017</td>\n",
       "      <td>January</td>\n",
       "      <td>1</td>\n",
       "      <td>1</td>\n",
       "      <td>2</td>\n",
       "      <td>2</td>\n",
       "      <td>2.0</td>\n",
       "      <td>0.0</td>\n",
       "      <td>0.0</td>\n",
       "      <td>BB</td>\n",
       "      <td>AUT</td>\n",
       "      <td>TA/TO</td>\n",
       "      <td>0</td>\n",
       "      <td>0</td>\n",
       "      <td>0</td>\n",
       "      <td>A</td>\n",
       "      <td>0</td>\n",
       "      <td>0</td>\n",
       "      <td>Transient</td>\n",
       "      <td>0</td>\n",
       "      <td>1</td>\n",
       "      <td>4</td>\n",
       "    </tr>\n",
       "    <tr>\n",
       "      <th>2</th>\n",
       "      <td>6088</td>\n",
       "      <td>1</td>\n",
       "      <td>62.0</td>\n",
       "      <td>2017</td>\n",
       "      <td>January</td>\n",
       "      <td>1</td>\n",
       "      <td>1</td>\n",
       "      <td>2</td>\n",
       "      <td>2</td>\n",
       "      <td>2.0</td>\n",
       "      <td>0.0</td>\n",
       "      <td>0.0</td>\n",
       "      <td>BB</td>\n",
       "      <td>AUT</td>\n",
       "      <td>TA/TO</td>\n",
       "      <td>0</td>\n",
       "      <td>0</td>\n",
       "      <td>0</td>\n",
       "      <td>A</td>\n",
       "      <td>0</td>\n",
       "      <td>0</td>\n",
       "      <td>Transient</td>\n",
       "      <td>0</td>\n",
       "      <td>1</td>\n",
       "      <td>4</td>\n",
       "    </tr>\n",
       "    <tr>\n",
       "      <th>3</th>\n",
       "      <td>6089</td>\n",
       "      <td>1</td>\n",
       "      <td>71.0</td>\n",
       "      <td>2017</td>\n",
       "      <td>January</td>\n",
       "      <td>1</td>\n",
       "      <td>1</td>\n",
       "      <td>2</td>\n",
       "      <td>2</td>\n",
       "      <td>1.0</td>\n",
       "      <td>0.0</td>\n",
       "      <td>0.0</td>\n",
       "      <td>BB</td>\n",
       "      <td>PRT</td>\n",
       "      <td>TA/TO</td>\n",
       "      <td>0</td>\n",
       "      <td>0</td>\n",
       "      <td>0</td>\n",
       "      <td>A</td>\n",
       "      <td>0</td>\n",
       "      <td>0</td>\n",
       "      <td>Transient</td>\n",
       "      <td>0</td>\n",
       "      <td>1</td>\n",
       "      <td>4</td>\n",
       "    </tr>\n",
       "    <tr>\n",
       "      <th>4</th>\n",
       "      <td>6090</td>\n",
       "      <td>1</td>\n",
       "      <td>172.0</td>\n",
       "      <td>2017</td>\n",
       "      <td>January</td>\n",
       "      <td>1</td>\n",
       "      <td>1</td>\n",
       "      <td>2</td>\n",
       "      <td>5</td>\n",
       "      <td>2.0</td>\n",
       "      <td>0.0</td>\n",
       "      <td>0.0</td>\n",
       "      <td>BB</td>\n",
       "      <td>BEL</td>\n",
       "      <td>TA/TO</td>\n",
       "      <td>0</td>\n",
       "      <td>0</td>\n",
       "      <td>0</td>\n",
       "      <td>A</td>\n",
       "      <td>0</td>\n",
       "      <td>0</td>\n",
       "      <td>Transient</td>\n",
       "      <td>0</td>\n",
       "      <td>0</td>\n",
       "      <td>7</td>\n",
       "    </tr>\n",
       "  </tbody>\n",
       "</table>\n",
       "</div>"
      ],
      "text/plain": [
       "     id  is_canceled  lead_time  arrival_date_year arrival_date_month  \\\n",
       "0  6086            1       74.0               2017            January   \n",
       "1  6087            1       62.0               2017            January   \n",
       "2  6088            1       62.0               2017            January   \n",
       "3  6089            1       71.0               2017            January   \n",
       "4  6090            1      172.0               2017            January   \n",
       "\n",
       "   arrival_date_week_number  arrival_date_day_of_month  \\\n",
       "0                         1                          1   \n",
       "1                         1                          1   \n",
       "2                         1                          1   \n",
       "3                         1                          1   \n",
       "4                         1                          1   \n",
       "\n",
       "   stays_in_weekend_nights  stays_in_week_nights  adults  children  babies  \\\n",
       "0                        1                     0     2.0       0.0     0.0   \n",
       "1                        2                     2     2.0       0.0     0.0   \n",
       "2                        2                     2     2.0       0.0     0.0   \n",
       "3                        2                     2     1.0       0.0     0.0   \n",
       "4                        2                     5     2.0       0.0     0.0   \n",
       "\n",
       "        meal country distribution_channel  is_repeated_guest  \\\n",
       "0  BB            PRT                TA/TO                  0   \n",
       "1  BB            AUT                TA/TO                  0   \n",
       "2  BB            AUT                TA/TO                  0   \n",
       "3  BB            PRT                TA/TO                  0   \n",
       "4  BB            BEL                TA/TO                  0   \n",
       "\n",
       "   previous_cancellations  previous_bookings_not_canceled reserved_room_type  \\\n",
       "0                       0                               0   A                  \n",
       "1                       0                               0   A                  \n",
       "2                       0                               0   A                  \n",
       "3                       0                               0   A                  \n",
       "4                       0                               0   A                  \n",
       "\n",
       "   booking_changes  days_in_waiting_list customer_type  \\\n",
       "0                0                     0     Transient   \n",
       "1                0                     0     Transient   \n",
       "2                0                     0     Transient   \n",
       "3                0                     0     Transient   \n",
       "4                0                     0     Transient   \n",
       "\n",
       "   required_car_parking_spaces  total_of_special_requests  total_nights  \n",
       "0                            0                          0             1  \n",
       "1                            0                          1             4  \n",
       "2                            0                          1             4  \n",
       "3                            0                          1             4  \n",
       "4                            0                          0             7  "
      ]
     },
     "metadata": {},
     "output_type": "display_data"
    },
    {
     "name": "stdout",
     "output_type": "stream",
     "text": [
      "<class 'pandas.core.frame.DataFrame'>\n",
      "RangeIndex: 32412 entries, 0 to 32411\n",
      "Data columns (total 25 columns):\n",
      " #   Column                          Non-Null Count  Dtype  \n",
      "---  ------                          --------------  -----  \n",
      " 0   id                              32412 non-null  int64  \n",
      " 1   is_canceled                     32412 non-null  int64  \n",
      " 2   lead_time                       32412 non-null  float64\n",
      " 3   arrival_date_year               32412 non-null  int64  \n",
      " 4   arrival_date_month              32412 non-null  object \n",
      " 5   arrival_date_week_number        32412 non-null  int64  \n",
      " 6   arrival_date_day_of_month       32412 non-null  int64  \n",
      " 7   stays_in_weekend_nights         32412 non-null  int64  \n",
      " 8   stays_in_week_nights            32412 non-null  int64  \n",
      " 9   adults                          32412 non-null  float64\n",
      " 10  children                        32412 non-null  float64\n",
      " 11  babies                          32412 non-null  float64\n",
      " 12  meal                            32412 non-null  object \n",
      " 13  country                         32412 non-null  object \n",
      " 14  distribution_channel            32412 non-null  object \n",
      " 15  is_repeated_guest               32412 non-null  int64  \n",
      " 16  previous_cancellations          32412 non-null  int64  \n",
      " 17  previous_bookings_not_canceled  32412 non-null  int64  \n",
      " 18  reserved_room_type              32412 non-null  object \n",
      " 19  booking_changes                 32412 non-null  int64  \n",
      " 20  days_in_waiting_list            32412 non-null  int64  \n",
      " 21  customer_type                   32412 non-null  object \n",
      " 22  required_car_parking_spaces     32412 non-null  int64  \n",
      " 23  total_of_special_requests       32412 non-null  int64  \n",
      " 24  total_nights                    32412 non-null  int64  \n",
      "dtypes: float64(4), int64(15), object(6)\n",
      "memory usage: 6.2+ MB\n"
     ]
    },
    {
     "data": {
      "text/plain": [
       "None"
      ]
     },
     "metadata": {},
     "output_type": "display_data"
    },
    {
     "data": {
      "text/html": [
       "<div>\n",
       "<style scoped>\n",
       "    .dataframe tbody tr th:only-of-type {\n",
       "        vertical-align: middle;\n",
       "    }\n",
       "\n",
       "    .dataframe tbody tr th {\n",
       "        vertical-align: top;\n",
       "    }\n",
       "\n",
       "    .dataframe thead th {\n",
       "        text-align: right;\n",
       "    }\n",
       "</style>\n",
       "<table border=\"1\" class=\"dataframe\">\n",
       "  <thead>\n",
       "    <tr style=\"text-align: right;\">\n",
       "      <th></th>\n",
       "      <th>id</th>\n",
       "      <th>is_canceled</th>\n",
       "      <th>lead_time</th>\n",
       "      <th>arrival_date_year</th>\n",
       "      <th>arrival_date_week_number</th>\n",
       "      <th>arrival_date_day_of_month</th>\n",
       "      <th>stays_in_weekend_nights</th>\n",
       "      <th>stays_in_week_nights</th>\n",
       "      <th>adults</th>\n",
       "      <th>children</th>\n",
       "      <th>babies</th>\n",
       "      <th>is_repeated_guest</th>\n",
       "      <th>previous_cancellations</th>\n",
       "      <th>previous_bookings_not_canceled</th>\n",
       "      <th>booking_changes</th>\n",
       "      <th>days_in_waiting_list</th>\n",
       "      <th>required_car_parking_spaces</th>\n",
       "      <th>total_of_special_requests</th>\n",
       "      <th>total_nights</th>\n",
       "    </tr>\n",
       "  </thead>\n",
       "  <tbody>\n",
       "    <tr>\n",
       "      <th>count</th>\n",
       "      <td>32412.000000</td>\n",
       "      <td>32412.000000</td>\n",
       "      <td>32412.000000</td>\n",
       "      <td>32412.0</td>\n",
       "      <td>32412.000000</td>\n",
       "      <td>32412.000000</td>\n",
       "      <td>32412.000000</td>\n",
       "      <td>32412.00000</td>\n",
       "      <td>32412.000000</td>\n",
       "      <td>32412.000000</td>\n",
       "      <td>32412.000000</td>\n",
       "      <td>32412.000000</td>\n",
       "      <td>32412.000000</td>\n",
       "      <td>32412.000000</td>\n",
       "      <td>32412.000000</td>\n",
       "      <td>32412.000000</td>\n",
       "      <td>32412.000000</td>\n",
       "      <td>32412.000000</td>\n",
       "      <td>32412.000000</td>\n",
       "    </tr>\n",
       "    <tr>\n",
       "      <th>mean</th>\n",
       "      <td>60131.505183</td>\n",
       "      <td>0.388467</td>\n",
       "      <td>97.587869</td>\n",
       "      <td>2017.0</td>\n",
       "      <td>17.804054</td>\n",
       "      <td>15.656948</td>\n",
       "      <td>0.867888</td>\n",
       "      <td>2.34009</td>\n",
       "      <td>1.858602</td>\n",
       "      <td>0.083765</td>\n",
       "      <td>0.005523</td>\n",
       "      <td>0.031377</td>\n",
       "      <td>0.011601</td>\n",
       "      <td>0.171418</td>\n",
       "      <td>0.216741</td>\n",
       "      <td>0.262341</td>\n",
       "      <td>0.046248</td>\n",
       "      <td>0.657781</td>\n",
       "      <td>3.207979</td>\n",
       "    </tr>\n",
       "    <tr>\n",
       "      <th>std</th>\n",
       "      <td>29953.586177</td>\n",
       "      <td>0.487409</td>\n",
       "      <td>86.507146</td>\n",
       "      <td>0.0</td>\n",
       "      <td>9.177384</td>\n",
       "      <td>8.766429</td>\n",
       "      <td>0.853394</td>\n",
       "      <td>1.37517</td>\n",
       "      <td>0.489341</td>\n",
       "      <td>0.343470</td>\n",
       "      <td>0.075757</td>\n",
       "      <td>0.174338</td>\n",
       "      <td>0.180473</td>\n",
       "      <td>1.875170</td>\n",
       "      <td>0.640551</td>\n",
       "      <td>4.733027</td>\n",
       "      <td>0.219367</td>\n",
       "      <td>0.834341</td>\n",
       "      <td>1.738683</td>\n",
       "    </tr>\n",
       "    <tr>\n",
       "      <th>min</th>\n",
       "      <td>6086.000000</td>\n",
       "      <td>0.000000</td>\n",
       "      <td>0.000000</td>\n",
       "      <td>2017.0</td>\n",
       "      <td>1.000000</td>\n",
       "      <td>1.000000</td>\n",
       "      <td>0.000000</td>\n",
       "      <td>0.00000</td>\n",
       "      <td>0.000000</td>\n",
       "      <td>0.000000</td>\n",
       "      <td>0.000000</td>\n",
       "      <td>0.000000</td>\n",
       "      <td>0.000000</td>\n",
       "      <td>0.000000</td>\n",
       "      <td>0.000000</td>\n",
       "      <td>0.000000</td>\n",
       "      <td>0.000000</td>\n",
       "      <td>0.000000</td>\n",
       "      <td>1.000000</td>\n",
       "    </tr>\n",
       "    <tr>\n",
       "      <th>25%</th>\n",
       "      <td>45291.750000</td>\n",
       "      <td>0.000000</td>\n",
       "      <td>23.000000</td>\n",
       "      <td>2017.0</td>\n",
       "      <td>10.000000</td>\n",
       "      <td>8.000000</td>\n",
       "      <td>0.000000</td>\n",
       "      <td>1.00000</td>\n",
       "      <td>2.000000</td>\n",
       "      <td>0.000000</td>\n",
       "      <td>0.000000</td>\n",
       "      <td>0.000000</td>\n",
       "      <td>0.000000</td>\n",
       "      <td>0.000000</td>\n",
       "      <td>0.000000</td>\n",
       "      <td>0.000000</td>\n",
       "      <td>0.000000</td>\n",
       "      <td>0.000000</td>\n",
       "      <td>2.000000</td>\n",
       "    </tr>\n",
       "    <tr>\n",
       "      <th>50%</th>\n",
       "      <td>53394.500000</td>\n",
       "      <td>0.000000</td>\n",
       "      <td>76.000000</td>\n",
       "      <td>2017.0</td>\n",
       "      <td>18.000000</td>\n",
       "      <td>15.500000</td>\n",
       "      <td>1.000000</td>\n",
       "      <td>2.00000</td>\n",
       "      <td>2.000000</td>\n",
       "      <td>0.000000</td>\n",
       "      <td>0.000000</td>\n",
       "      <td>0.000000</td>\n",
       "      <td>0.000000</td>\n",
       "      <td>0.000000</td>\n",
       "      <td>0.000000</td>\n",
       "      <td>0.000000</td>\n",
       "      <td>0.000000</td>\n",
       "      <td>0.000000</td>\n",
       "      <td>3.000000</td>\n",
       "    </tr>\n",
       "    <tr>\n",
       "      <th>75%</th>\n",
       "      <td>89800.250000</td>\n",
       "      <td>1.000000</td>\n",
       "      <td>155.000000</td>\n",
       "      <td>2017.0</td>\n",
       "      <td>25.000000</td>\n",
       "      <td>23.000000</td>\n",
       "      <td>2.000000</td>\n",
       "      <td>3.00000</td>\n",
       "      <td>2.000000</td>\n",
       "      <td>0.000000</td>\n",
       "      <td>0.000000</td>\n",
       "      <td>0.000000</td>\n",
       "      <td>0.000000</td>\n",
       "      <td>0.000000</td>\n",
       "      <td>0.000000</td>\n",
       "      <td>0.000000</td>\n",
       "      <td>0.000000</td>\n",
       "      <td>1.000000</td>\n",
       "      <td>4.000000</td>\n",
       "    </tr>\n",
       "    <tr>\n",
       "      <th>max</th>\n",
       "      <td>97903.000000</td>\n",
       "      <td>1.000000</td>\n",
       "      <td>373.000000</td>\n",
       "      <td>2017.0</td>\n",
       "      <td>35.000000</td>\n",
       "      <td>31.000000</td>\n",
       "      <td>4.000000</td>\n",
       "      <td>6.00000</td>\n",
       "      <td>4.000000</td>\n",
       "      <td>3.000000</td>\n",
       "      <td>2.000000</td>\n",
       "      <td>1.000000</td>\n",
       "      <td>6.000000</td>\n",
       "      <td>72.000000</td>\n",
       "      <td>18.000000</td>\n",
       "      <td>223.000000</td>\n",
       "      <td>8.000000</td>\n",
       "      <td>5.000000</td>\n",
       "      <td>10.000000</td>\n",
       "    </tr>\n",
       "  </tbody>\n",
       "</table>\n",
       "</div>"
      ],
      "text/plain": [
       "                 id   is_canceled     lead_time  arrival_date_year  \\\n",
       "count  32412.000000  32412.000000  32412.000000            32412.0   \n",
       "mean   60131.505183      0.388467     97.587869             2017.0   \n",
       "std    29953.586177      0.487409     86.507146                0.0   \n",
       "min     6086.000000      0.000000      0.000000             2017.0   \n",
       "25%    45291.750000      0.000000     23.000000             2017.0   \n",
       "50%    53394.500000      0.000000     76.000000             2017.0   \n",
       "75%    89800.250000      1.000000    155.000000             2017.0   \n",
       "max    97903.000000      1.000000    373.000000             2017.0   \n",
       "\n",
       "       arrival_date_week_number  arrival_date_day_of_month  \\\n",
       "count              32412.000000               32412.000000   \n",
       "mean                  17.804054                  15.656948   \n",
       "std                    9.177384                   8.766429   \n",
       "min                    1.000000                   1.000000   \n",
       "25%                   10.000000                   8.000000   \n",
       "50%                   18.000000                  15.500000   \n",
       "75%                   25.000000                  23.000000   \n",
       "max                   35.000000                  31.000000   \n",
       "\n",
       "       stays_in_weekend_nights  stays_in_week_nights        adults  \\\n",
       "count             32412.000000           32412.00000  32412.000000   \n",
       "mean                  0.867888               2.34009      1.858602   \n",
       "std                   0.853394               1.37517      0.489341   \n",
       "min                   0.000000               0.00000      0.000000   \n",
       "25%                   0.000000               1.00000      2.000000   \n",
       "50%                   1.000000               2.00000      2.000000   \n",
       "75%                   2.000000               3.00000      2.000000   \n",
       "max                   4.000000               6.00000      4.000000   \n",
       "\n",
       "           children        babies  is_repeated_guest  previous_cancellations  \\\n",
       "count  32412.000000  32412.000000       32412.000000            32412.000000   \n",
       "mean       0.083765      0.005523           0.031377                0.011601   \n",
       "std        0.343470      0.075757           0.174338                0.180473   \n",
       "min        0.000000      0.000000           0.000000                0.000000   \n",
       "25%        0.000000      0.000000           0.000000                0.000000   \n",
       "50%        0.000000      0.000000           0.000000                0.000000   \n",
       "75%        0.000000      0.000000           0.000000                0.000000   \n",
       "max        3.000000      2.000000           1.000000                6.000000   \n",
       "\n",
       "       previous_bookings_not_canceled  booking_changes  days_in_waiting_list  \\\n",
       "count                    32412.000000     32412.000000          32412.000000   \n",
       "mean                         0.171418         0.216741              0.262341   \n",
       "std                          1.875170         0.640551              4.733027   \n",
       "min                          0.000000         0.000000              0.000000   \n",
       "25%                          0.000000         0.000000              0.000000   \n",
       "50%                          0.000000         0.000000              0.000000   \n",
       "75%                          0.000000         0.000000              0.000000   \n",
       "max                         72.000000        18.000000            223.000000   \n",
       "\n",
       "       required_car_parking_spaces  total_of_special_requests  total_nights  \n",
       "count                 32412.000000               32412.000000  32412.000000  \n",
       "mean                      0.046248                   0.657781      3.207979  \n",
       "std                       0.219367                   0.834341      1.738683  \n",
       "min                       0.000000                   0.000000      1.000000  \n",
       "25%                       0.000000                   0.000000      2.000000  \n",
       "50%                       0.000000                   0.000000      3.000000  \n",
       "75%                       0.000000                   1.000000      4.000000  \n",
       "max                       8.000000                   5.000000     10.000000  "
      ]
     },
     "metadata": {},
     "output_type": "display_data"
    },
    {
     "name": "stdout",
     "output_type": "stream",
     "text": [
      "Количество дубликатов по всему датасету: 0\n",
      "Количество дубликатов в столбце id: 0\n"
     ]
    }
   ],
   "source": [
    "func_info(data_test)"
   ]
  },
  {
   "cell_type": "markdown",
   "metadata": {},
   "source": [
    "В данных не было найдено пропусков и дубликатов, но встречаются столбцы с аномальными значениями, которые будут исследованы дальше."
   ]
  },
  {
   "cell_type": "markdown",
   "metadata": {},
   "source": [
    "#### Анализ данных"
   ]
  },
  {
   "cell_type": "markdown",
   "metadata": {},
   "source": [
    "Построим столбчатые диаграммы для трейна и теста с учетом отмены брони и без отмены брони."
   ]
  },
  {
   "cell_type": "code",
   "execution_count": 10,
   "metadata": {},
   "outputs": [
    {
     "name": "stderr",
     "output_type": "stream",
     "text": [
      "/opt/conda/lib/python3.9/site-packages/pandas/plotting/_matplotlib/core.py:337: RuntimeWarning: More than 20 figures have been opened. Figures created through the pyplot interface (`matplotlib.pyplot.figure`) are retained until explicitly closed and may consume too much memory. (To control this warning, see the rcParam `figure.max_open_warning`).\n",
      "  fig = self.plt.figure(figsize=self.figsize)\n"
     ]
    },
    {
     "data": {
      "image/png": "[encoded data removed]",
      "text/plain": [
       "<Figure size 432x288 with 1 Axes>"
      ]
     },
     "metadata": {
      "needs_background": "light"
     },
     "output_type": "display_data"
    },
    {
     "data": {
      "image/png": "[encoded data removed]",
      "text/plain": [
       "<Figure size 432x288 with 1 Axes>"
      ]
     },
     "metadata": {
      "needs_background": "light"
     },
     "output_type": "display_data"
    },
    {
     "data": {
      "image/png": "[encoded data removed]",
      "text/plain": [
       "<Figure size 432x288 with 1 Axes>"
      ]
     },
     "metadata": {
      "needs_background": "light"
     },
     "output_type": "display_data"
    },
    {
     "data": {
      "image/png": "[encoded data removed]",
      "text/plain": [
       "<Figure size 432x288 with 1 Axes>"
      ]
     },
     "metadata": {
      "needs_background": "light"
     },
     "output_type": "display_data"
    },
    {
     "data": {
      "image/png": "[encoded data removed]",
      "text/plain": [
       "<Figure size 432x288 with 1 Axes>"
      ]
     },
     "metadata": {
      "needs_background": "light"
     },
     "output_type": "display_data"
    },
    {
     "data": {
      "image/png": "[encoded data removed]",
      "text/plain": [
       "<Figure size 432x288 with 1 Axes>"
      ]
     },
     "metadata": {
      "needs_background": "light"
     },
     "output_type": "display_data"
    },
    {
     "data": {
      "image/png": "[encoded data removed]",
      "text/plain": [
       "<Figure size 432x288 with 1 Axes>"
      ]
     },
     "metadata": {
      "needs_background": "light"
     },
     "output_type": "display_data"
    },
    {
     "data": {
      "image/png": "[encoded data removed]",
      "text/plain": [
       "<Figure size 432x288 with 1 Axes>"
      ]
     },
     "metadata": {
      "needs_background": "light"
     },
     "output_type": "display_data"
    },
    {
     "data": {
      "image/png": "[encoded data removed]",
      "text/plain": [
       "<Figure size 432x288 with 1 Axes>"
      ]
     },
     "metadata": {
      "needs_background": "light"
     },
     "output_type": "display_data"
    },
    {
     "data": {
      "image/png": "[encoded data removed]",
      "text/plain": [
       "<Figure size 432x288 with 1 Axes>"
      ]
     },
     "metadata": {
      "needs_background": "light"
     },
     "output_type": "display_data"
    },
    {
     "data": {
      "image/png": "[encoded data removed]",
      "text/plain": [
       "<Figure size 432x288 with 1 Axes>"
      ]
     },
     "metadata": {
      "needs_background": "light"
     },
     "output_type": "display_data"
    },
    {
     "data": {
      "image/png": "[encoded data removed]",
      "text/plain": [
       "<Figure size 432x288 with 1 Axes>"
      ]
     },
     "metadata": {
      "needs_background": "light"
     },
     "output_type": "display_data"
    },
    {
     "data": {
      "image/png": "[encoded data removed]",
      "text/plain": [
       "<Figure size 432x288 with 1 Axes>"
      ]
     },
     "metadata": {
      "needs_background": "light"
     },
     "output_type": "display_data"
    },
    {
     "data": {
      "image/png": "[encoded data removed]",
      "text/plain": [
       "<Figure size 432x288 with 1 Axes>"
      ]
     },
     "metadata": {
      "needs_background": "light"
     },
     "output_type": "display_data"
    },
    {
     "data": {
      "image/png": "[encoded data removed]",
      "text/plain": [
       "<Figure size 432x288 with 1 Axes>"
      ]
     },
     "metadata": {
      "needs_background": "light"
     },
     "output_type": "display_data"
    },
    {
     "data": {
      "image/png": "[encoded data removed]",
      "text/plain": [
       "<Figure size 432x288 with 1 Axes>"
      ]
     },
     "metadata": {
      "needs_background": "light"
     },
     "output_type": "display_data"
    },
    {
     "data": {
      "image/png": "[encoded data removed]",
      "text/plain": [
       "<Figure size 432x288 with 1 Axes>"
      ]
     },
     "metadata": {
      "needs_background": "light"
     },
     "output_type": "display_data"
    },
    {
     "data": {
      "image/png": "[encoded data removed]",
      "text/plain": [
       "<Figure size 432x288 with 1 Axes>"
      ]
     },
     "metadata": {
      "needs_background": "light"
     },
     "output_type": "display_data"
    },
    {
     "data": {
      "image/png": "[encoded data removed]",
      "text/plain": [
       "<Figure size 432x288 with 1 Axes>"
      ]
     },
     "metadata": {
      "needs_background": "light"
     },
     "output_type": "display_data"
    },
    {
     "data": {
      "image/png": "[encoded data removed]",
      "text/plain": [
       "<Figure size 432x288 with 1 Axes>"
      ]
     },
     "metadata": {
      "needs_background": "light"
     },
     "output_type": "display_data"
    },
    {
     "data": {
      "image/png": "[encoded data removed]",
      "text/plain": [
       "<Figure size 432x288 with 1 Axes>"
      ]
     },
     "metadata": {
      "needs_background": "light"
     },
     "output_type": "display_data"
    }
   ],
   "source": [
    "func_hist(data_train)"
   ]
  },
  {
   "cell_type": "code",
   "execution_count": 11,
   "metadata": {},
   "outputs": [
    {
     "name": "stderr",
     "output_type": "stream",
     "text": [
      "/opt/conda/lib/python3.9/site-packages/pandas/plotting/_matplotlib/core.py:337: RuntimeWarning: More than 20 figures have been opened. Figures created through the pyplot interface (`matplotlib.pyplot.figure`) are retained until explicitly closed and may consume too much memory. (To control this warning, see the rcParam `figure.max_open_warning`).\n",
      "  fig = self.plt.figure(figsize=self.figsize)\n"
     ]
    },
    {
     "data": {
      "image/png": "[encoded data removed]",
      "text/plain": [
       "<Figure size 432x288 with 1 Axes>"
      ]
     },
     "metadata": {
      "needs_background": "light"
     },
     "output_type": "display_data"
    },
    {
     "data": {
      "image/png": "[encoded data removed]",
      "text/plain": [
       "<Figure size 432x288 with 1 Axes>"
      ]
     },
     "metadata": {
      "needs_background": "light"
     },
     "output_type": "display_data"
    },
    {
     "data": {
      "image/png": "[encoded data removed]",
      "text/plain": [
       "<Figure size 432x288 with 1 Axes>"
      ]
     },
     "metadata": {
      "needs_background": "light"
     },
     "output_type": "display_data"
    },
    {
     "data": {
      "image/png": "[encoded data removed]",
      "text/plain": [
       "<Figure size 432x288 with 1 Axes>"
      ]
     },
     "metadata": {
      "needs_background": "light"
     },
     "output_type": "display_data"
    },
    {
     "data": {
      "image/png": "[encoded data removed]",
      "text/plain": [
       "<Figure size 432x288 with 1 Axes>"
      ]
     },
     "metadata": {
      "needs_background": "light"
     },
     "output_type": "display_data"
    },
    {
     "data": {
      "image/png": "[encoded data removed]",
      "text/plain": [
       "<Figure size 432x288 with 1 Axes>"
      ]
     },
     "metadata": {
      "needs_background": "light"
     },
     "output_type": "display_data"
    },
    {
     "data": {
      "image/png": "[encoded data removed]",
      "text/plain": [
       "<Figure size 432x288 with 1 Axes>"
      ]
     },
     "metadata": {
      "needs_background": "light"
     },
     "output_type": "display_data"
    },
    {
     "data": {
      "image/png": "[encoded data removed]",
      "text/plain": [
       "<Figure size 432x288 with 1 Axes>"
      ]
     },
     "metadata": {
      "needs_background": "light"
     },
     "output_type": "display_data"
    },
    {
     "data": {
      "image/png": "[encoded data removed]",
      "text/plain": [
       "<Figure size 432x288 with 1 Axes>"
      ]
     },
     "metadata": {
      "needs_background": "light"
     },
     "output_type": "display_data"
    },
    {
     "data": {
      "image/png": "[encoded data removed]",
      "text/plain": [
       "<Figure size 432x288 with 1 Axes>"
      ]
     },
     "metadata": {
      "needs_background": "light"
     },
     "output_type": "display_data"
    },
    {
     "data": {
      "image/png": "[encoded data removed]",
      "text/plain": [
       "<Figure size 432x288 with 1 Axes>"
      ]
     },
     "metadata": {
      "needs_background": "light"
     },
     "output_type": "display_data"
    },
    {
     "data": {
      "image/png": "[encoded data removed]",
      "text/plain": [
       "<Figure size 432x288 with 1 Axes>"
      ]
     },
     "metadata": {
      "needs_background": "light"
     },
     "output_type": "display_data"
    },
    {
     "data": {
      "image/png": "[encoded data removed]",
      "text/plain": [
       "<Figure size 432x288 with 1 Axes>"
      ]
     },
     "metadata": {
      "needs_background": "light"
     },
     "output_type": "display_data"
    },
    {
     "data": {
      "image/png": "[encoded data removed]",
      "text/plain": [
       "<Figure size 432x288 with 1 Axes>"
      ]
     },
     "metadata": {
      "needs_background": "light"
     },
     "output_type": "display_data"
    },
    {
     "data": {
      "image/png": "[encoded data removed]",
      "text/plain": [
       "<Figure size 432x288 with 1 Axes>"
      ]
     },
     "metadata": {
      "needs_background": "light"
     },
     "output_type": "display_data"
    },
    {
     "data": {
      "image/png": "[encoded data removed]",
      "text/plain": [
       "<Figure size 432x288 with 1 Axes>"
      ]
     },
     "metadata": {
      "needs_background": "light"
     },
     "output_type": "display_data"
    },
    {
     "data": {
      "image/png": "[encoded data removed]",
      "text/plain": [
       "<Figure size 432x288 with 1 Axes>"
      ]
     },
     "metadata": {
      "needs_background": "light"
     },
     "output_type": "display_data"
    },
    {
     "data": {
      "image/png": "[encoded data removed]",
      "text/plain": [
       "<Figure size 432x288 with 1 Axes>"
      ]
     },
     "metadata": {
      "needs_background": "light"
     },
     "output_type": "display_data"
    },
    {
     "data": {
      "image/png": "[encoded data removed]",
      "text/plain": [
       "<Figure size 432x288 with 1 Axes>"
      ]
     },
     "metadata": {
      "needs_background": "light"
     },
     "output_type": "display_data"
    },
    {
     "data": {
      "image/png": "[encoded data removed]",
      "text/plain": [
       "<Figure size 432x288 with 1 Axes>"
      ]
     },
     "metadata": {
      "needs_background": "light"
     },
     "output_type": "display_data"
    },
    {
     "data": {
      "image/png": "[encoded data removed]",
      "text/plain": [
       "<Figure size 432x288 with 1 Axes>"
      ]
     },
     "metadata": {
      "needs_background": "light"
     },
     "output_type": "display_data"
    }
   ],
   "source": [
    "func_hist(data_test)"
   ]
  },
  {
   "cell_type": "markdown",
   "metadata": {},
   "source": [
    "Построим графики частоты встречающихся значений количества дней между датой бронирования и датой прибытия для трейна и теста с учетом отмены брони и без отмены брони."
   ]
  },
  {
   "cell_type": "code",
   "execution_count": 12,
   "metadata": {},
   "outputs": [
    {
     "data": {
      "image/png": "[encoded data removed]",
      "text/plain": [
       "<Figure size 432x288 with 1 Axes>"
      ]
     },
     "metadata": {
      "needs_background": "light"
     },
     "output_type": "display_data"
    },
    {
     "data": {
      "image/png": "[encoded data removed]",
      "text/plain": [
       "<Figure size 432x288 with 1 Axes>"
      ]
     },
     "metadata": {
      "needs_background": "light"
     },
     "output_type": "display_data"
    }
   ],
   "source": [
    "data_train.pivot_table('id', 'lead_time', 'is_canceled', 'count').plot();\n",
    "data_test.pivot_table('id', 'lead_time', 'is_canceled', 'count').plot();"
   ]
  },
  {
   "cell_type": "markdown",
   "metadata": {},
   "source": [
    "Чаще всего отказываются от бронирования осенью, реже всего зимой. \n",
    "\n",
    "К концу месяца отказ от брони реже, в середине месяца выше.\n",
    "\n",
    "Чаще всего отказываются те, кто не остается на выходные, а остается на два дня посреди недели.\n",
    "\n",
    "Чаще всего откзаываются от бронирования двое взрослых, которые не имеют детей любого возраста.\n",
    "\n",
    "Чаще от бронирования отказываются те, у кого включен завтрак, а тип забронированной комнаты - A.\n",
    "\n",
    "Чаще отказываются те, у кого канал дистрибуции TA/TO, а тип заказа не связан ни с договором, ни с групповым заездом.\n",
    "\n",
    "Чаще всего отказываются те, кто бронирует номер впервые.\n",
    "\n",
    "Чаще всего отказываются те, кто не отменял заказ то этого.\n",
    "\n",
    "Чаще всего отказываются при нулевом изменении параметров заказа и нулевым количеством специальных отметок.\n",
    "\n",
    "Чаще всего отказываются при подтверждении заказа в день его оформления.\n",
    "\n",
    "Чаще всего отказываются тех, кому не требуется парковочное место.\n",
    "\n",
    "Отказываются от бронирования вне зависимости от дней между датой бронирования и датой прибытия. "
   ]
  },
  {
   "cell_type": "markdown",
   "metadata": {},
   "source": [
    "#### Поиск и удаление аномальных значений"
   ]
  },
  {
   "cell_type": "markdown",
   "metadata": {},
   "source": [
    "Исследуем аномальные значения в стоблцах 'adults', 'babies', 'previous_cancellations', 'days_in_waiting_list'. "
   ]
  },
  {
   "cell_type": "code",
   "execution_count": 13,
   "metadata": {},
   "outputs": [],
   "source": [
    "column_anomalii = ['adults', 'babies', 'previous_cancellations']\n",
    "def anomalii_func(data, column_anomalii=column_anomalii):\n",
    "    for column in column_anomalii:\n",
    "        display(data.groupby(column)[column].count())"
   ]
  },
  {
   "cell_type": "code",
   "execution_count": 14,
   "metadata": {},
   "outputs": [
    {
     "data": {
      "text/plain": [
       "adults\n",
       "0.0      166\n",
       "1.0    13212\n",
       "2.0    48980\n",
       "3.0     2858\n",
       "4.0       13\n",
       "Name: adults, dtype: int64"
      ]
     },
     "metadata": {},
     "output_type": "display_data"
    },
    {
     "data": {
      "text/plain": [
       "babies\n",
       "0.0     64777\n",
       "1.0       447\n",
       "2.0         3\n",
       "9.0         1\n",
       "10.0        1\n",
       "Name: babies, dtype: int64"
      ]
     },
     "metadata": {},
     "output_type": "display_data"
    },
    {
     "data": {
      "text/plain": [
       "previous_cancellations\n",
       "0     59591\n",
       "1      5367\n",
       "2        54\n",
       "3        51\n",
       "4         5\n",
       "5        13\n",
       "6         7\n",
       "11       35\n",
       "13       12\n",
       "14       11\n",
       "19       17\n",
       "21        1\n",
       "24       28\n",
       "25       19\n",
       "26       18\n",
       "Name: previous_cancellations, dtype: int64"
      ]
     },
     "metadata": {},
     "output_type": "display_data"
    }
   ],
   "source": [
    "anomalii_func(data_train)"
   ]
  },
  {
   "cell_type": "code",
   "execution_count": 15,
   "metadata": {},
   "outputs": [
    {
     "data": {
      "text/plain": [
       "adults\n",
       "0.0       69\n",
       "1.0     6280\n",
       "2.0    24237\n",
       "3.0     1817\n",
       "4.0        9\n",
       "Name: adults, dtype: int64"
      ]
     },
     "metadata": {},
     "output_type": "display_data"
    },
    {
     "data": {
      "text/plain": [
       "babies\n",
       "0.0    32237\n",
       "1.0      171\n",
       "2.0        4\n",
       "Name: babies, dtype: int64"
      ]
     },
     "metadata": {},
     "output_type": "display_data"
    },
    {
     "data": {
      "text/plain": [
       "previous_cancellations\n",
       "0    32186\n",
       "1      165\n",
       "2       29\n",
       "3        6\n",
       "4       10\n",
       "5        1\n",
       "6       15\n",
       "Name: previous_cancellations, dtype: int64"
      ]
     },
     "metadata": {},
     "output_type": "display_data"
    }
   ],
   "source": [
    "anomalii_func(data_test)"
   ]
  },
  {
   "cell_type": "markdown",
   "metadata": {},
   "source": [
    "Найдены аномальные значения в стоблцах 'adults', 'babies', 'previous_cancellations'. Количество детей 9 и 10 - явная опечатка. Количество взрослых - ноль быть не может, детям до 14 нельзя заселяться в отель без взрослых, после 14 дети до сих пор не являются взрослыми. Количество отмененных заказов больше 6 или выбросы, или аномальные значения."
   ]
  },
  {
   "cell_type": "code",
   "execution_count": 16,
   "metadata": {},
   "outputs": [
    {
     "data": {
      "image/png": "[encoded data removed]",
      "text/plain": [
       "<Figure size 432x288 with 1 Axes>"
      ]
     },
     "metadata": {
      "needs_background": "light"
     },
     "output_type": "display_data"
    }
   ],
   "source": [
    "data_train['days_in_waiting_list'].hist(bins=50);"
   ]
  },
  {
   "cell_type": "code",
   "execution_count": 17,
   "metadata": {},
   "outputs": [
    {
     "data": {
      "image/png": "[encoded data removed]",
      "text/plain": [
       "<Figure size 432x288 with 1 Axes>"
      ]
     },
     "metadata": {
      "needs_background": "light"
     },
     "output_type": "display_data"
    }
   ],
   "source": [
    "data_test['days_in_waiting_list'].hist(bins=50);"
   ]
  },
  {
   "cell_type": "code",
   "execution_count": 18,
   "metadata": {},
   "outputs": [
    {
     "data": {
      "image/png": "[encoded data removed]",
      "text/plain": [
       "<Figure size 432x288 with 1 Axes>"
      ]
     },
     "metadata": {
      "needs_background": "light"
     },
     "output_type": "display_data"
    }
   ],
   "source": [
    "data_train['days_in_waiting_list'].hist(bins=100, range=(10, 250));"
   ]
  },
  {
   "cell_type": "code",
   "execution_count": 19,
   "metadata": {},
   "outputs": [
    {
     "data": {
      "image/png": "[encoded data removed]",
      "text/plain": [
       "<Figure size 432x288 with 1 Axes>"
      ]
     },
     "metadata": {
      "needs_background": "light"
     },
     "output_type": "display_data"
    }
   ],
   "source": [
    "data_test['days_in_waiting_list'].hist(bins=100, range=(10, 250));"
   ]
  },
  {
   "cell_type": "markdown",
   "metadata": {},
   "source": [
    "В стоблце 'days_in_waiting_list' аномальных значений не найдено."
   ]
  },
  {
   "cell_type": "code",
   "execution_count": 20,
   "metadata": {},
   "outputs": [],
   "source": [
    "data_train = data_train.query('adults > 0 & babies <= 1 & previous_bookings_not_canceled <= 6')\n",
    "data_test = data_test.query('adults > 0')"
   ]
  },
  {
   "cell_type": "markdown",
   "metadata": {},
   "source": [
    "Аномальные значения были удалены в столбцах 'adults', 'babies', 'previous_cancellations'. "
   ]
  },
  {
   "cell_type": "markdown",
   "metadata": {},
   "source": [
    "#### Проверка строковых значений"
   ]
  },
  {
   "cell_type": "code",
   "execution_count": 21,
   "metadata": {},
   "outputs": [],
   "source": [
    "column_unique = ['arrival_date_month', 'meal', 'country', 'distribution_channel',\n",
    "                'reserved_room_type', 'customer_type']\n",
    "def func_unique(data, column_unique=column_unique):\n",
    "    for column in column_unique:\n",
    "        print(data[column].unique())"
   ]
  },
  {
   "cell_type": "markdown",
   "metadata": {},
   "source": [
    "Найдем уникальные значения строковых значений всех категориальных столбцов."
   ]
  },
  {
   "cell_type": "code",
   "execution_count": 22,
   "metadata": {
    "scrolled": true
   },
   "outputs": [
    {
     "name": "stdout",
     "output_type": "stream",
     "text": [
      "['July' 'August' 'September' 'October' 'November' 'December' 'January'\n",
      " 'February' 'March' 'April' 'May' 'June']\n",
      "['BB       ' 'FB       ' 'HB       ' 'SC       ' 'SC']\n",
      "['GBR' 'PRT' 'ESP' 'IRL' 'FRA' 'ROU' 'NOR' 'USA' 'DEU' 'BEL' 'CHE' 'CN'\n",
      " 'GRC' 'NLD' 'ARG' 'RUS' 'SWE' 'POL' 'EST' 'CZE' 'ITA' 'FIN' 'DNK' 'MOZ'\n",
      " 'BWA' 'LUX' 'BRA' 'SVN' 'ALB' 'CHN' 'MEX' 'MAR' 'SMR' 'LVA' 'CHL' 'AUT'\n",
      " 'LTU' 'TUR' 'ISR' 'IND' 'CYM' 'AUS' 'CPV' 'ZWE' 'DZA' 'KOR' 'CRI' 'HUN'\n",
      " 'TUN' 'ARE' 'HRV' 'HKG' 'IRN' 'GIB' 'JEY' 'URY' 'ZAF' 'COL' 'GGY' 'KWT'\n",
      " 'CYP' 'KAZ' 'THA' 'DOM' 'NGA' 'BLR' 'VEN' 'UKR' 'ARM' 'JPN' 'LKA' 'MYS'\n",
      " 'BIH' 'MUS' 'OMN' 'SUR' 'JAM' 'BGR' 'CIV' 'SRB' 'JOR' 'SYR' 'PHL' 'PRI'\n",
      " 'SGP' 'BDI' 'LBN' 'AGO' 'VNM' 'AZE' 'PLW' 'NZL' 'EGY' 'MDV' 'CMR' 'MLT'\n",
      " 'SVK' 'MWI' 'STP' 'TWN' 'IDN' 'SEN' 'PER' 'SAU' 'KNA' 'ETH' 'ECU' 'IRQ'\n",
      " 'AND' 'HND' 'PAK' 'GEO' 'ZMB' 'QAT' 'KHM' 'MCO' 'BGD' 'ISL' 'UZB' 'IMN'\n",
      " 'TJK' 'NIC' 'BEN' 'MAC' 'VGB' 'TZA' 'GAB' 'MKD' 'TMP' 'GLP' 'KEN' 'LIE'\n",
      " 'MMR' 'PAN' 'BFA' 'LBY' 'GNB' 'MLI' 'BHR' 'NAM' 'BOL' 'SYC' 'PRY' 'BRB'\n",
      " 'ABW' 'SLV' 'DMA' 'CUB' 'PYF' 'UGA' 'GUY' 'LCA' 'ATA' 'RWA' 'MNE']\n",
      "['Direct' 'TA/TO' 'Corporate' 'GDS']\n",
      "['A               ' 'C               ' 'D               '\n",
      " 'E               ' 'G               ' 'F               '\n",
      " 'B               ']\n",
      "['Transient' 'Contract' 'Transient-Party' 'Group']\n",
      "['January' 'February' 'March' 'April' 'May' 'June' 'July' 'August']\n",
      "['BB       ' 'HB       ' 'SC' 'FB       ' 'SC       ']\n",
      "['PRT' 'AUT' 'BEL' 'DEU' 'BRA' 'GBR' 'ESP' 'FRA' 'ITA' 'LUX' 'CHE' 'EST'\n",
      " 'NGA' 'IRL' 'CN' 'POL' 'AUS' 'NLD' 'KOR' 'ROU' 'USA' 'CHL' 'DNK' 'FIN'\n",
      " 'RUS' 'SWE' 'HUN' 'HRV' 'MDV' 'ZAF' 'ISR' 'NOR' 'CHN' 'ARE' 'MAR' 'COL'\n",
      " 'FJI' 'LVA' 'LBN' 'PHL' 'HKG' 'SYC' 'GIB' 'AGO' 'MYS' 'MDG' 'IDN' 'LTU'\n",
      " 'ISL' 'TUR' 'ARG' 'JPN' 'SVN' 'SVK' 'BGR' 'CAF' 'JAM' 'UZB' 'UKR' 'IND'\n",
      " 'CZE' 'URY' 'NZL' 'NPL' 'SRB' 'CPV' 'IRN' 'KAZ' 'BHS' 'SUR' 'CUB' 'PAK'\n",
      " 'MAC' 'CYP' 'JOR' 'GRC' 'KWT' 'TWN' 'VNM' 'SGP' 'DOM' 'VEN' 'SEN' 'BLR'\n",
      " 'TZA' 'LIE' 'GNB' 'SAU' 'DZA' 'PER' 'AZE' 'EGY' 'ETH' 'KEN' 'THA' 'MLT'\n",
      " 'ECU' 'AND' 'IMN' 'BHR' 'TUN' 'MNE' 'MEX' 'BEN' 'MOZ' 'UMI' 'JEY' 'MYT'\n",
      " 'QAT' 'BGD' 'GAB' 'CIV' 'ZWE' 'GTM' 'ALB' 'GHA' 'ATA' 'ASM' 'PAN' 'CRI'\n",
      " 'MCO' 'MUS' 'SYR' 'TGO' 'IRQ' 'LKA' 'BIH' 'PRY' 'MRT' 'ABW' 'NCL' 'STP'\n",
      " 'KIR' 'SDN' 'PRI' 'ATF' 'CMR' 'TJK' 'LBY' 'SLE' 'SLV' 'LAO' 'FRO']\n",
      "['TA/TO' 'Direct' 'Corporate' 'GDS']\n",
      "['A               ' 'E               ' 'G               '\n",
      " 'D               ' 'F               ' 'C               '\n",
      " 'B               ']\n",
      "['Transient' 'Transient-Party' 'Contract' 'Group']\n"
     ]
    }
   ],
   "source": [
    "func_unique(data_train)\n",
    "func_unique(data_test)"
   ]
  },
  {
   "cell_type": "code",
   "execution_count": 23,
   "metadata": {},
   "outputs": [],
   "source": [
    "def strip_func(data):\n",
    "    data['meal'] = data['meal'].str.strip()\n",
    "    data['reserved_room_type'] = data['reserved_room_type'].str.strip()"
   ]
  },
  {
   "cell_type": "code",
   "execution_count": 24,
   "metadata": {},
   "outputs": [],
   "source": [
    "strip_func(data_train)\n",
    "strip_func(data_test)"
   ]
  },
  {
   "cell_type": "markdown",
   "metadata": {},
   "source": [
    "В строковых значениях были удалены лишние пробелы."
   ]
  },
  {
   "cell_type": "markdown",
   "metadata": {},
   "source": [
    "#### Создание новых столбцов"
   ]
  },
  {
   "cell_type": "markdown",
   "metadata": {},
   "source": [
    "Создадим новые столбцы с категориями стран (по частоте возникноваения), сезонов года в зависимости от месяца, бинарные категории (к примеру, есть дети - нет детей) для стоблцов 'children', 'babies', 'previous_cancellations', 'previous_bookings_not_canceled', 'booking_changes', 'days_in_waiting_list', 'required_car_parking_spaces', 'total_of_special_requests'."
   ]
  },
  {
   "cell_type": "code",
   "execution_count": 25,
   "metadata": {},
   "outputs": [],
   "source": [
    "def categorize_country(country, data_group):\n",
    "    try:\n",
    "        if data_group[country] > 10000:\n",
    "            return '> 10000'\n",
    "        elif (data_group[country] > 1000) & (data_group[country] <= 10000):\n",
    "            return '< 10000'\n",
    "        elif data_group[country] <= 1000:\n",
    "            return '< 1000'\n",
    "    except:\n",
    "        pass"
   ]
  },
  {
   "cell_type": "code",
   "execution_count": 26,
   "metadata": {},
   "outputs": [],
   "source": [
    "data_train['categorize_country'] = data_train['country'].apply(categorize_country, \n",
    "                                                               data_group = data_train.groupby('country')['country'].count()) \n",
    "data_train = data_train.drop('country', axis=1)\n",
    "data_test['categorize_country'] = data_test['country'].apply(categorize_country, \n",
    "                                                               data_group = data_test.groupby('country')['country'].count()) \n",
    "data_test = data_test.drop('country', axis=1)"
   ]
  },
  {
   "cell_type": "code",
   "execution_count": 27,
   "metadata": {},
   "outputs": [],
   "source": [
    "def categorize_month(arrival_date_month):\n",
    "    try:\n",
    "        if (arrival_date_month == 'June') | (arrival_date_month == 'July') | (arrival_date_month == 'August'):\n",
    "            return 'summer'\n",
    "        elif (arrival_date_month == 'September') | (arrival_date_month == 'October') | (arrival_date_month == 'November'):\n",
    "            return 'autumn'\n",
    "        elif (arrival_date_month == 'December') | (arrival_date_month == 'January') | (arrival_date_month == 'February'):\n",
    "            return 'winter'\n",
    "        elif (arrival_date_month == 'March') | (arrival_date_month == 'April') | (arrival_date_month == 'May'):\n",
    "            return 'spring'\n",
    "    except:\n",
    "        pass"
   ]
  },
  {
   "cell_type": "code",
   "execution_count": 28,
   "metadata": {},
   "outputs": [],
   "source": [
    "data_train['categorize_arrival_date_month'] = data_train['arrival_date_month'].apply(categorize_month) \n",
    "data_train = data_train.drop('arrival_date_month', axis=1)\n",
    "data_test['categorize_arrival_date_month'] = data_test['arrival_date_month'].apply(categorize_month) \n",
    "data_test = data_test.drop('arrival_date_month', axis=1)"
   ]
  },
  {
   "cell_type": "code",
   "execution_count": 29,
   "metadata": {},
   "outputs": [],
   "source": [
    "def categorize_sign(sign, name):\n",
    "    try:\n",
    "        if sign == 0:\n",
    "            return name + ' = 0'\n",
    "        elif sign > 0:\n",
    "            return name + ' > 0'\n",
    "    except:\n",
    "        pass"
   ]
  },
  {
   "cell_type": "code",
   "execution_count": 30,
   "metadata": {},
   "outputs": [],
   "source": [
    "column_sign = ['children', 'babies', 'previous_cancellations', 'previous_bookings_not_canceled',\n",
    "              'booking_changes', 'days_in_waiting_list', 'required_car_parking_spaces',\n",
    "              'total_of_special_requests']\n",
    "\n",
    "for c in column_sign:\n",
    "    data_train['categorize_' + c] = data_train[c].apply(categorize_sign, name=c) \n",
    "    data_train = data_train.drop(c, axis=1)\n",
    "    data_test['categorize_' + c] = data_test[c].apply(categorize_sign, name=c) \n",
    "    data_test = data_test.drop(c, axis=1)"
   ]
  },
  {
   "cell_type": "markdown",
   "metadata": {},
   "source": [
    "#### Корреляционный анализ"
   ]
  },
  {
   "cell_type": "code",
   "execution_count": 31,
   "metadata": {},
   "outputs": [
    {
     "data": {
      "text/html": [
       "<div>\n",
       "<style scoped>\n",
       "    .dataframe tbody tr th:only-of-type {\n",
       "        vertical-align: middle;\n",
       "    }\n",
       "\n",
       "    .dataframe tbody tr th {\n",
       "        vertical-align: top;\n",
       "    }\n",
       "\n",
       "    .dataframe thead th {\n",
       "        text-align: right;\n",
       "    }\n",
       "</style>\n",
       "<table border=\"1\" class=\"dataframe\">\n",
       "  <thead>\n",
       "    <tr style=\"text-align: right;\">\n",
       "      <th></th>\n",
       "      <th>id</th>\n",
       "      <th>is_canceled</th>\n",
       "      <th>lead_time</th>\n",
       "      <th>arrival_date_year</th>\n",
       "      <th>arrival_date_week_number</th>\n",
       "      <th>arrival_date_day_of_month</th>\n",
       "      <th>stays_in_weekend_nights</th>\n",
       "      <th>stays_in_week_nights</th>\n",
       "      <th>adults</th>\n",
       "      <th>is_repeated_guest</th>\n",
       "      <th>total_nights</th>\n",
       "    </tr>\n",
       "  </thead>\n",
       "  <tbody>\n",
       "    <tr>\n",
       "      <th>id</th>\n",
       "      <td>1.000000</td>\n",
       "      <td>-0.241345</td>\n",
       "      <td>0.005517</td>\n",
       "      <td>0.248983</td>\n",
       "      <td>0.070519</td>\n",
       "      <td>0.008871</td>\n",
       "      <td>-0.094751</td>\n",
       "      <td>-0.157646</td>\n",
       "      <td>0.008406</td>\n",
       "      <td>-0.004195</td>\n",
       "      <td>-0.169430</td>\n",
       "    </tr>\n",
       "    <tr>\n",
       "      <th>is_canceled</th>\n",
       "      <td>-0.241345</td>\n",
       "      <td>1.000000</td>\n",
       "      <td>0.327383</td>\n",
       "      <td>-0.029613</td>\n",
       "      <td>0.012137</td>\n",
       "      <td>-0.001651</td>\n",
       "      <td>-0.014759</td>\n",
       "      <td>0.009251</td>\n",
       "      <td>0.040832</td>\n",
       "      <td>-0.029221</td>\n",
       "      <td>-0.000035</td>\n",
       "    </tr>\n",
       "    <tr>\n",
       "      <th>lead_time</th>\n",
       "      <td>0.005517</td>\n",
       "      <td>0.327383</td>\n",
       "      <td>1.000000</td>\n",
       "      <td>-0.021832</td>\n",
       "      <td>0.090563</td>\n",
       "      <td>-0.010676</td>\n",
       "      <td>0.045937</td>\n",
       "      <td>0.171279</td>\n",
       "      <td>0.117972</td>\n",
       "      <td>-0.077581</td>\n",
       "      <td>0.156090</td>\n",
       "    </tr>\n",
       "    <tr>\n",
       "      <th>arrival_date_year</th>\n",
       "      <td>0.248983</td>\n",
       "      <td>-0.029613</td>\n",
       "      <td>-0.021832</td>\n",
       "      <td>1.000000</td>\n",
       "      <td>-0.388575</td>\n",
       "      <td>0.009678</td>\n",
       "      <td>-0.005932</td>\n",
       "      <td>0.014968</td>\n",
       "      <td>0.037633</td>\n",
       "      <td>-0.017478</td>\n",
       "      <td>0.008757</td>\n",
       "    </tr>\n",
       "    <tr>\n",
       "      <th>arrival_date_week_number</th>\n",
       "      <td>0.070519</td>\n",
       "      <td>0.012137</td>\n",
       "      <td>0.090563</td>\n",
       "      <td>-0.388575</td>\n",
       "      <td>1.000000</td>\n",
       "      <td>0.047845</td>\n",
       "      <td>0.034189</td>\n",
       "      <td>0.031552</td>\n",
       "      <td>0.003812</td>\n",
       "      <td>-0.009481</td>\n",
       "      <td>0.041387</td>\n",
       "    </tr>\n",
       "    <tr>\n",
       "      <th>arrival_date_day_of_month</th>\n",
       "      <td>0.008871</td>\n",
       "      <td>-0.001651</td>\n",
       "      <td>-0.010676</td>\n",
       "      <td>0.009678</td>\n",
       "      <td>0.047845</td>\n",
       "      <td>1.000000</td>\n",
       "      <td>-0.002038</td>\n",
       "      <td>0.003654</td>\n",
       "      <td>0.008035</td>\n",
       "      <td>-0.012249</td>\n",
       "      <td>0.001849</td>\n",
       "    </tr>\n",
       "    <tr>\n",
       "      <th>stays_in_weekend_nights</th>\n",
       "      <td>-0.094751</td>\n",
       "      <td>-0.014759</td>\n",
       "      <td>0.045937</td>\n",
       "      <td>-0.005932</td>\n",
       "      <td>0.034189</td>\n",
       "      <td>-0.002038</td>\n",
       "      <td>1.000000</td>\n",
       "      <td>0.197328</td>\n",
       "      <td>0.119668</td>\n",
       "      <td>-0.079458</td>\n",
       "      <td>0.644861</td>\n",
       "    </tr>\n",
       "    <tr>\n",
       "      <th>stays_in_week_nights</th>\n",
       "      <td>-0.157646</td>\n",
       "      <td>0.009251</td>\n",
       "      <td>0.171279</td>\n",
       "      <td>0.014968</td>\n",
       "      <td>0.031552</td>\n",
       "      <td>0.003654</td>\n",
       "      <td>0.197328</td>\n",
       "      <td>1.000000</td>\n",
       "      <td>0.120929</td>\n",
       "      <td>-0.087717</td>\n",
       "      <td>0.876521</td>\n",
       "    </tr>\n",
       "    <tr>\n",
       "      <th>adults</th>\n",
       "      <td>0.008406</td>\n",
       "      <td>0.040832</td>\n",
       "      <td>0.117972</td>\n",
       "      <td>0.037633</td>\n",
       "      <td>0.003812</td>\n",
       "      <td>0.008035</td>\n",
       "      <td>0.119668</td>\n",
       "      <td>0.120929</td>\n",
       "      <td>1.000000</td>\n",
       "      <td>-0.138162</td>\n",
       "      <td>0.153039</td>\n",
       "    </tr>\n",
       "    <tr>\n",
       "      <th>is_repeated_guest</th>\n",
       "      <td>-0.004195</td>\n",
       "      <td>-0.029221</td>\n",
       "      <td>-0.077581</td>\n",
       "      <td>-0.017478</td>\n",
       "      <td>-0.009481</td>\n",
       "      <td>-0.012249</td>\n",
       "      <td>-0.079458</td>\n",
       "      <td>-0.087717</td>\n",
       "      <td>-0.138162</td>\n",
       "      <td>1.000000</td>\n",
       "      <td>-0.107402</td>\n",
       "    </tr>\n",
       "    <tr>\n",
       "      <th>total_nights</th>\n",
       "      <td>-0.169430</td>\n",
       "      <td>-0.000035</td>\n",
       "      <td>0.156090</td>\n",
       "      <td>0.008757</td>\n",
       "      <td>0.041387</td>\n",
       "      <td>0.001849</td>\n",
       "      <td>0.644861</td>\n",
       "      <td>0.876521</td>\n",
       "      <td>0.153039</td>\n",
       "      <td>-0.107402</td>\n",
       "      <td>1.000000</td>\n",
       "    </tr>\n",
       "  </tbody>\n",
       "</table>\n",
       "</div>"
      ],
      "text/plain": [
       "                                 id  is_canceled  lead_time  \\\n",
       "id                         1.000000    -0.241345   0.005517   \n",
       "is_canceled               -0.241345     1.000000   0.327383   \n",
       "lead_time                  0.005517     0.327383   1.000000   \n",
       "arrival_date_year          0.248983    -0.029613  -0.021832   \n",
       "arrival_date_week_number   0.070519     0.012137   0.090563   \n",
       "arrival_date_day_of_month  0.008871    -0.001651  -0.010676   \n",
       "stays_in_weekend_nights   -0.094751    -0.014759   0.045937   \n",
       "stays_in_week_nights      -0.157646     0.009251   0.171279   \n",
       "adults                     0.008406     0.040832   0.117972   \n",
       "is_repeated_guest         -0.004195    -0.029221  -0.077581   \n",
       "total_nights              -0.169430    -0.000035   0.156090   \n",
       "\n",
       "                           arrival_date_year  arrival_date_week_number  \\\n",
       "id                                  0.248983                  0.070519   \n",
       "is_canceled                        -0.029613                  0.012137   \n",
       "lead_time                          -0.021832                  0.090563   \n",
       "arrival_date_year                   1.000000                 -0.388575   \n",
       "arrival_date_week_number           -0.388575                  1.000000   \n",
       "arrival_date_day_of_month           0.009678                  0.047845   \n",
       "stays_in_weekend_nights            -0.005932                  0.034189   \n",
       "stays_in_week_nights                0.014968                  0.031552   \n",
       "adults                              0.037633                  0.003812   \n",
       "is_repeated_guest                  -0.017478                 -0.009481   \n",
       "total_nights                        0.008757                  0.041387   \n",
       "\n",
       "                           arrival_date_day_of_month  stays_in_weekend_nights  \\\n",
       "id                                          0.008871                -0.094751   \n",
       "is_canceled                                -0.001651                -0.014759   \n",
       "lead_time                                  -0.010676                 0.045937   \n",
       "arrival_date_year                           0.009678                -0.005932   \n",
       "arrival_date_week_number                    0.047845                 0.034189   \n",
       "arrival_date_day_of_month                   1.000000                -0.002038   \n",
       "stays_in_weekend_nights                    -0.002038                 1.000000   \n",
       "stays_in_week_nights                        0.003654                 0.197328   \n",
       "adults                                      0.008035                 0.119668   \n",
       "is_repeated_guest                          -0.012249                -0.079458   \n",
       "total_nights                                0.001849                 0.644861   \n",
       "\n",
       "                           stays_in_week_nights    adults  is_repeated_guest  \\\n",
       "id                                    -0.157646  0.008406          -0.004195   \n",
       "is_canceled                            0.009251  0.040832          -0.029221   \n",
       "lead_time                              0.171279  0.117972          -0.077581   \n",
       "arrival_date_year                      0.014968  0.037633          -0.017478   \n",
       "arrival_date_week_number               0.031552  0.003812          -0.009481   \n",
       "arrival_date_day_of_month              0.003654  0.008035          -0.012249   \n",
       "stays_in_weekend_nights                0.197328  0.119668          -0.079458   \n",
       "stays_in_week_nights                   1.000000  0.120929          -0.087717   \n",
       "adults                                 0.120929  1.000000          -0.138162   \n",
       "is_repeated_guest                     -0.087717 -0.138162           1.000000   \n",
       "total_nights                           0.876521  0.153039          -0.107402   \n",
       "\n",
       "                           total_nights  \n",
       "id                            -0.169430  \n",
       "is_canceled                   -0.000035  \n",
       "lead_time                      0.156090  \n",
       "arrival_date_year              0.008757  \n",
       "arrival_date_week_number       0.041387  \n",
       "arrival_date_day_of_month      0.001849  \n",
       "stays_in_weekend_nights        0.644861  \n",
       "stays_in_week_nights           0.876521  \n",
       "adults                         0.153039  \n",
       "is_repeated_guest             -0.107402  \n",
       "total_nights                   1.000000  "
      ]
     },
     "execution_count": 31,
     "metadata": {},
     "output_type": "execute_result"
    }
   ],
   "source": [
    "data_train.corr()"
   ]
  },
  {
   "cell_type": "code",
   "execution_count": 32,
   "metadata": {},
   "outputs": [
    {
     "data": {
      "text/html": [
       "<div>\n",
       "<style scoped>\n",
       "    .dataframe tbody tr th:only-of-type {\n",
       "        vertical-align: middle;\n",
       "    }\n",
       "\n",
       "    .dataframe tbody tr th {\n",
       "        vertical-align: top;\n",
       "    }\n",
       "\n",
       "    .dataframe thead th {\n",
       "        text-align: right;\n",
       "    }\n",
       "</style>\n",
       "<table border=\"1\" class=\"dataframe\">\n",
       "  <thead>\n",
       "    <tr style=\"text-align: right;\">\n",
       "      <th></th>\n",
       "      <th>id</th>\n",
       "      <th>is_canceled</th>\n",
       "      <th>lead_time</th>\n",
       "      <th>arrival_date_year</th>\n",
       "      <th>arrival_date_week_number</th>\n",
       "      <th>arrival_date_day_of_month</th>\n",
       "      <th>stays_in_weekend_nights</th>\n",
       "      <th>stays_in_week_nights</th>\n",
       "      <th>adults</th>\n",
       "      <th>is_repeated_guest</th>\n",
       "      <th>total_nights</th>\n",
       "    </tr>\n",
       "  </thead>\n",
       "  <tbody>\n",
       "    <tr>\n",
       "      <th>id</th>\n",
       "      <td>1.000000</td>\n",
       "      <td>-0.459567</td>\n",
       "      <td>-0.047091</td>\n",
       "      <td>NaN</td>\n",
       "      <td>0.169976</td>\n",
       "      <td>0.017947</td>\n",
       "      <td>-0.064631</td>\n",
       "      <td>-0.117858</td>\n",
       "      <td>0.036596</td>\n",
       "      <td>-0.099464</td>\n",
       "      <td>-0.124939</td>\n",
       "    </tr>\n",
       "    <tr>\n",
       "      <th>is_canceled</th>\n",
       "      <td>-0.459567</td>\n",
       "      <td>1.000000</td>\n",
       "      <td>0.238382</td>\n",
       "      <td>NaN</td>\n",
       "      <td>0.037554</td>\n",
       "      <td>-0.008888</td>\n",
       "      <td>-0.002166</td>\n",
       "      <td>0.047081</td>\n",
       "      <td>0.079475</td>\n",
       "      <td>-0.125593</td>\n",
       "      <td>0.036173</td>\n",
       "    </tr>\n",
       "    <tr>\n",
       "      <th>lead_time</th>\n",
       "      <td>-0.047091</td>\n",
       "      <td>0.238382</td>\n",
       "      <td>1.000000</td>\n",
       "      <td>NaN</td>\n",
       "      <td>0.345030</td>\n",
       "      <td>0.033414</td>\n",
       "      <td>0.163537</td>\n",
       "      <td>0.290190</td>\n",
       "      <td>0.195624</td>\n",
       "      <td>-0.169299</td>\n",
       "      <td>0.309785</td>\n",
       "    </tr>\n",
       "    <tr>\n",
       "      <th>arrival_date_year</th>\n",
       "      <td>NaN</td>\n",
       "      <td>NaN</td>\n",
       "      <td>NaN</td>\n",
       "      <td>NaN</td>\n",
       "      <td>NaN</td>\n",
       "      <td>NaN</td>\n",
       "      <td>NaN</td>\n",
       "      <td>NaN</td>\n",
       "      <td>NaN</td>\n",
       "      <td>NaN</td>\n",
       "      <td>NaN</td>\n",
       "    </tr>\n",
       "    <tr>\n",
       "      <th>arrival_date_week_number</th>\n",
       "      <td>0.169976</td>\n",
       "      <td>0.037554</td>\n",
       "      <td>0.345030</td>\n",
       "      <td>NaN</td>\n",
       "      <td>1.000000</td>\n",
       "      <td>0.124324</td>\n",
       "      <td>0.064389</td>\n",
       "      <td>0.083315</td>\n",
       "      <td>0.121502</td>\n",
       "      <td>-0.062379</td>\n",
       "      <td>0.097500</td>\n",
       "    </tr>\n",
       "    <tr>\n",
       "      <th>arrival_date_day_of_month</th>\n",
       "      <td>0.017947</td>\n",
       "      <td>-0.008888</td>\n",
       "      <td>0.033414</td>\n",
       "      <td>NaN</td>\n",
       "      <td>0.124324</td>\n",
       "      <td>1.000000</td>\n",
       "      <td>0.002593</td>\n",
       "      <td>-0.029192</td>\n",
       "      <td>-0.019076</td>\n",
       "      <td>0.005329</td>\n",
       "      <td>-0.021814</td>\n",
       "    </tr>\n",
       "    <tr>\n",
       "      <th>stays_in_weekend_nights</th>\n",
       "      <td>-0.064631</td>\n",
       "      <td>-0.002166</td>\n",
       "      <td>0.163537</td>\n",
       "      <td>NaN</td>\n",
       "      <td>0.064389</td>\n",
       "      <td>0.002593</td>\n",
       "      <td>1.000000</td>\n",
       "      <td>0.171975</td>\n",
       "      <td>0.105608</td>\n",
       "      <td>-0.090122</td>\n",
       "      <td>0.626887</td>\n",
       "    </tr>\n",
       "    <tr>\n",
       "      <th>stays_in_week_nights</th>\n",
       "      <td>-0.117858</td>\n",
       "      <td>0.047081</td>\n",
       "      <td>0.290190</td>\n",
       "      <td>NaN</td>\n",
       "      <td>0.083315</td>\n",
       "      <td>-0.029192</td>\n",
       "      <td>0.171975</td>\n",
       "      <td>1.000000</td>\n",
       "      <td>0.147265</td>\n",
       "      <td>-0.114944</td>\n",
       "      <td>0.875311</td>\n",
       "    </tr>\n",
       "    <tr>\n",
       "      <th>adults</th>\n",
       "      <td>0.036596</td>\n",
       "      <td>0.079475</td>\n",
       "      <td>0.195624</td>\n",
       "      <td>NaN</td>\n",
       "      <td>0.121502</td>\n",
       "      <td>-0.019076</td>\n",
       "      <td>0.105608</td>\n",
       "      <td>0.147265</td>\n",
       "      <td>1.000000</td>\n",
       "      <td>-0.205743</td>\n",
       "      <td>0.168311</td>\n",
       "    </tr>\n",
       "    <tr>\n",
       "      <th>is_repeated_guest</th>\n",
       "      <td>-0.099464</td>\n",
       "      <td>-0.125593</td>\n",
       "      <td>-0.169299</td>\n",
       "      <td>NaN</td>\n",
       "      <td>-0.062379</td>\n",
       "      <td>0.005329</td>\n",
       "      <td>-0.090122</td>\n",
       "      <td>-0.114944</td>\n",
       "      <td>-0.205743</td>\n",
       "      <td>1.000000</td>\n",
       "      <td>-0.135147</td>\n",
       "    </tr>\n",
       "    <tr>\n",
       "      <th>total_nights</th>\n",
       "      <td>-0.124939</td>\n",
       "      <td>0.036173</td>\n",
       "      <td>0.309785</td>\n",
       "      <td>NaN</td>\n",
       "      <td>0.097500</td>\n",
       "      <td>-0.021814</td>\n",
       "      <td>0.626887</td>\n",
       "      <td>0.875311</td>\n",
       "      <td>0.168311</td>\n",
       "      <td>-0.135147</td>\n",
       "      <td>1.000000</td>\n",
       "    </tr>\n",
       "  </tbody>\n",
       "</table>\n",
       "</div>"
      ],
      "text/plain": [
       "                                 id  is_canceled  lead_time  \\\n",
       "id                         1.000000    -0.459567  -0.047091   \n",
       "is_canceled               -0.459567     1.000000   0.238382   \n",
       "lead_time                 -0.047091     0.238382   1.000000   \n",
       "arrival_date_year               NaN          NaN        NaN   \n",
       "arrival_date_week_number   0.169976     0.037554   0.345030   \n",
       "arrival_date_day_of_month  0.017947    -0.008888   0.033414   \n",
       "stays_in_weekend_nights   -0.064631    -0.002166   0.163537   \n",
       "stays_in_week_nights      -0.117858     0.047081   0.290190   \n",
       "adults                     0.036596     0.079475   0.195624   \n",
       "is_repeated_guest         -0.099464    -0.125593  -0.169299   \n",
       "total_nights              -0.124939     0.036173   0.309785   \n",
       "\n",
       "                           arrival_date_year  arrival_date_week_number  \\\n",
       "id                                       NaN                  0.169976   \n",
       "is_canceled                              NaN                  0.037554   \n",
       "lead_time                                NaN                  0.345030   \n",
       "arrival_date_year                        NaN                       NaN   \n",
       "arrival_date_week_number                 NaN                  1.000000   \n",
       "arrival_date_day_of_month                NaN                  0.124324   \n",
       "stays_in_weekend_nights                  NaN                  0.064389   \n",
       "stays_in_week_nights                     NaN                  0.083315   \n",
       "adults                                   NaN                  0.121502   \n",
       "is_repeated_guest                        NaN                 -0.062379   \n",
       "total_nights                             NaN                  0.097500   \n",
       "\n",
       "                           arrival_date_day_of_month  stays_in_weekend_nights  \\\n",
       "id                                          0.017947                -0.064631   \n",
       "is_canceled                                -0.008888                -0.002166   \n",
       "lead_time                                   0.033414                 0.163537   \n",
       "arrival_date_year                                NaN                      NaN   \n",
       "arrival_date_week_number                    0.124324                 0.064389   \n",
       "arrival_date_day_of_month                   1.000000                 0.002593   \n",
       "stays_in_weekend_nights                     0.002593                 1.000000   \n",
       "stays_in_week_nights                       -0.029192                 0.171975   \n",
       "adults                                     -0.019076                 0.105608   \n",
       "is_repeated_guest                           0.005329                -0.090122   \n",
       "total_nights                               -0.021814                 0.626887   \n",
       "\n",
       "                           stays_in_week_nights    adults  is_repeated_guest  \\\n",
       "id                                    -0.117858  0.036596          -0.099464   \n",
       "is_canceled                            0.047081  0.079475          -0.125593   \n",
       "lead_time                              0.290190  0.195624          -0.169299   \n",
       "arrival_date_year                           NaN       NaN                NaN   \n",
       "arrival_date_week_number               0.083315  0.121502          -0.062379   \n",
       "arrival_date_day_of_month             -0.029192 -0.019076           0.005329   \n",
       "stays_in_weekend_nights                0.171975  0.105608          -0.090122   \n",
       "stays_in_week_nights                   1.000000  0.147265          -0.114944   \n",
       "adults                                 0.147265  1.000000          -0.205743   \n",
       "is_repeated_guest                     -0.114944 -0.205743           1.000000   \n",
       "total_nights                           0.875311  0.168311          -0.135147   \n",
       "\n",
       "                           total_nights  \n",
       "id                            -0.124939  \n",
       "is_canceled                    0.036173  \n",
       "lead_time                      0.309785  \n",
       "arrival_date_year                   NaN  \n",
       "arrival_date_week_number       0.097500  \n",
       "arrival_date_day_of_month     -0.021814  \n",
       "stays_in_weekend_nights        0.626887  \n",
       "stays_in_week_nights           0.875311  \n",
       "adults                         0.168311  \n",
       "is_repeated_guest             -0.135147  \n",
       "total_nights                   1.000000  "
      ]
     },
     "execution_count": 32,
     "metadata": {},
     "output_type": "execute_result"
    }
   ],
   "source": [
    "data_test.corr()"
   ]
  },
  {
   "cell_type": "markdown",
   "metadata": {},
   "source": [
    "Больше всего столбец is_canceled коррелирует с lead_time и is_repeated_guest."
   ]
  },
  {
   "cell_type": "markdown",
   "metadata": {},
   "source": [
    "Вывод:\n",
    "\n",
    "Данные были выгружены, в датасете не было обнаружено пропусков, явных и неявных дубликатов. Аномальные значения были удалены в столбцах 'adults', 'babies', 'previous_cancellations'. В строковых значениях были удалены лишние пробелы. Были созданы новые столбцы с категориями стран (по частоте возникноваения), сезонов года в зависимости от месяца, бинарные категории (к примеру, есть дети - нет детей) для стоблцов 'children', 'babies', 'previous_cancellations', 'previous_bookings_not_canceled', 'booking_changes', 'days_in_waiting_list', 'required_car_parking_spaces', 'total_of_special_requests'. Больше всего столбец is_canceled коррелирует с lead_time и is_repeated_guest.\n",
    "\n",
    "\n",
    "Чаще всего отказываются от бронирования осенью, реже всего зимой. \n",
    "\n",
    "К концу месяца отказ от брони реже, в середине месяца выше.\n",
    "\n",
    "Чаще всего отказываются те, кто не остается на выходные, а остается на два дня посреди недели.\n",
    "\n",
    "Чаще всего откзаываются от бронирования двое взрослых, которые не имеют детей любого возраста.\n",
    "\n",
    "Чаще от бронирования отказываются те, у кого включен завтрак, а тип забронированной комнаты - A.\n",
    "\n",
    "Чаще отказываются те, у кого канал дистрибуции TA/TO, а тип заказа не связан ни с договором, ни с групповым заездом.\n",
    "\n",
    "Чаще всего отказываются те, кто бронирует номер впервые.\n",
    "\n",
    "Чаще всего отказываются те, кто не отменял заказ то этого.\n",
    "\n",
    "Чаще всего отказываются при нулевом изменении параметров заказа и нулевым количеством специальных отметок.\n",
    "\n",
    "Чаще всего отказываются при подтверждении заказа в день его оформления.\n",
    "\n",
    "Чаще всего отказываются тех, кому не требуется парковочное место.\n",
    "\n",
    "Отказываются от бронирования вне зависимости от дней между датой бронирования и датой прибытия. "
   ]
  },
  {
   "cell_type": "markdown",
   "metadata": {},
   "source": [
    "### Шаг 3. Формулировка ML-задачи на основе бизнес-задачи"
   ]
  },
  {
   "cell_type": "markdown",
   "metadata": {},
   "source": [
    "Основная бизнес-метрика для любой сети отелей — её прибыль. Прибыль отеля — это разница между стоимостью номера за все ночи и затраты на обслуживание: как при подготовке номера, так и при проживании постояльца. \n",
    "\n",
    "В отеле есть несколько типов номеров. В зависимости от типа номера назначается стоимость за одну ночь. Есть также затраты на уборку. Если клиент снял номер надолго, то убираются каждые два дня. \n",
    "Стоимость номеров отеля:\n",
    "\n",
    "- категория A: за ночь — 1 000, разовое обслуживание — 400;\n",
    "- категория B: за ночь — 800, разовое обслуживание — 350;\n",
    "- категория C: за ночь — 600, разовое обслуживание — 350;\n",
    "- категория D: за ночь — 550, разовое обслуживание — 150;\n",
    "- категория E: за ночь — 500, разовое обслуживание — 150;\n",
    "- категория F: за ночь — 450, разовое обслуживание — 150;\n",
    "- категория G: за ночь — 350, разовое обслуживание — 150.\n",
    "\n",
    "В ценовой политике отеля используются сезонные коэффициенты: весной и осенью цены повышаются на 20%, летом — на 40%.\n",
    "Убытки отеля в случае отмены брони номера — это стоимость одной уборки и одной ночи с учётом сезонного коэффициента. На разработку системы прогнозирования заложен бюджет — 400 000. При этом необходимо учесть, что внедрение модели должно окупиться за тестовый период. Затраты на разработку должны быть меньше той выручки, которую система принесёт компании."
   ]
  },
  {
   "cell_type": "markdown",
   "metadata": {},
   "source": [
    "Создадим стоблцы с сезонным коэффициентом, стоимостью номера и стоиммостью уборки."
   ]
  },
  {
   "cell_type": "code",
   "execution_count": 33,
   "metadata": {},
   "outputs": [],
   "source": [
    "def arrival_date_month_koef(arrival_date_month):\n",
    "    try:\n",
    "        if arrival_date_month == 'summer':\n",
    "            return 1.4\n",
    "        elif (arrival_date_month == 'autumn') | (arrival_date_month == 'spring'):\n",
    "            return 1.2\n",
    "        elif arrival_date_month == 'winter':\n",
    "            return 1\n",
    "    except:\n",
    "        pass"
   ]
  },
  {
   "cell_type": "code",
   "execution_count": 34,
   "metadata": {},
   "outputs": [],
   "source": [
    "data_train['arrival_date_month_koef'] = data_train['categorize_arrival_date_month'].apply(arrival_date_month_koef) \n",
    "data_test['arrival_date_month_koef'] = data_test['categorize_arrival_date_month'].apply(arrival_date_month_koef) "
   ]
  },
  {
   "cell_type": "code",
   "execution_count": 35,
   "metadata": {},
   "outputs": [],
   "source": [
    "def room_rate_func(reserved_room_type):\n",
    "    try:\n",
    "        if reserved_room_type == 'A':\n",
    "            return 1000\n",
    "        elif reserved_room_type == 'B':\n",
    "            return 800\n",
    "        elif reserved_room_type == 'C':\n",
    "            return 600\n",
    "        elif reserved_room_type == 'D':\n",
    "            return 550\n",
    "        elif reserved_room_type == 'E':\n",
    "            return 500\n",
    "        elif reserved_room_type == 'F':\n",
    "            return 450\n",
    "        elif reserved_room_type == 'G':\n",
    "            return 350\n",
    "    except:\n",
    "        pass"
   ]
  },
  {
   "cell_type": "code",
   "execution_count": 36,
   "metadata": {},
   "outputs": [],
   "source": [
    "data_train['room_rate'] = data_train['reserved_room_type'].apply(room_rate_func) \n",
    "data_test['room_rate'] = data_test['reserved_room_type'].apply(room_rate_func) "
   ]
  },
  {
   "cell_type": "code",
   "execution_count": 37,
   "metadata": {},
   "outputs": [],
   "source": [
    "def cleaning_rate_func(reserved_room_type):\n",
    "    try:\n",
    "        if reserved_room_type == 'A':\n",
    "            return 400\n",
    "        elif (reserved_room_type == 'B') | (reserved_room_type == 'C'):\n",
    "            return 350\n",
    "        elif ((reserved_room_type == 'D') | (reserved_room_type == 'E') |\n",
    "             (reserved_room_type == 'F') | (reserved_room_type == 'G') ):\n",
    "            return 150\n",
    "    except:\n",
    "        pass"
   ]
  },
  {
   "cell_type": "code",
   "execution_count": 38,
   "metadata": {},
   "outputs": [],
   "source": [
    "data_train['cleaning_rate'] = data_train['reserved_room_type'].apply(cleaning_rate_func) \n",
    "data_test['cleaning_rate'] = data_test['reserved_room_type'].apply(cleaning_rate_func) "
   ]
  },
  {
   "cell_type": "markdown",
   "metadata": {},
   "source": [
    "Рассчитаем прибыль отеля до внедрения депозита."
   ]
  },
  {
   "cell_type": "code",
   "execution_count": 39,
   "metadata": {},
   "outputs": [],
   "source": [
    "def revenue_func(data):\n",
    "    try:\n",
    "        if (data['is_canceled'] == 0):\n",
    "            if data['total_nights'] % 2 == 0:\n",
    "                return (data['room_rate'] * data['arrival_date_month_koef'] * data['total_nights']\n",
    "                           - data['cleaning_rate'] * (1 + data['total_nights'] / 2))\n",
    "            else:\n",
    "                return (data['room_rate'] * data['arrival_date_month_koef'] * data['total_nights']\n",
    "                           - data['cleaning_rate'] * (1 + (data['total_nights'] - 1) / 2))\n",
    "        elif (data['is_canceled'] == 1):\n",
    "            return -1 * (data['room_rate'] * data['arrival_date_month_koef'] + data['cleaning_rate'])          \n",
    "    except:\n",
    "        pass"
   ]
  },
  {
   "cell_type": "code",
   "execution_count": 40,
   "metadata": {},
   "outputs": [],
   "source": [
    "data_train['revenue'] = data_train.apply(revenue_func, axis=1)"
   ]
  },
  {
   "cell_type": "code",
   "execution_count": 41,
   "metadata": {},
   "outputs": [
    {
     "data": {
      "text/plain": [
       "32510590.0"
      ]
     },
     "execution_count": 41,
     "metadata": {},
     "output_type": "execute_result"
    }
   ],
   "source": [
    "data_test['revenue'] = data_test.apply(revenue_func, axis=1)\n",
    "revenue_test_before = data_test['revenue'].sum()\n",
    "revenue_test_before"
   ]
  },
  {
   "cell_type": "markdown",
   "metadata": {},
   "source": [
    "Вывод:\n",
    "\n",
    "Была оценена прибыль отеля без депозита за тестовый период, она равняется 32.5 млн рублей."
   ]
  },
  {
   "cell_type": "markdown",
   "metadata": {},
   "source": [
    "### Шаг 4. Разработка модели ML"
   ]
  },
  {
   "cell_type": "markdown",
   "metadata": {},
   "source": [
    "#### Подготовка данных для обучения"
   ]
  },
  {
   "cell_type": "markdown",
   "metadata": {},
   "source": [
    "Преобразуем категориальные признаки в численные методом горячего кодирования."
   ]
  },
  {
   "cell_type": "code",
   "execution_count": 42,
   "metadata": {},
   "outputs": [
    {
     "name": "stderr",
     "output_type": "stream",
     "text": [
      "/opt/conda/lib/python3.9/site-packages/sklearn/preprocessing/_encoders.py:868: FutureWarning: `sparse` was renamed to `sparse_output` in version 1.2 and will be removed in 1.4. `sparse_output` is ignored unless you leave `sparse` to its default value.\n",
      "  warnings.warn(\n"
     ]
    }
   ],
   "source": [
    "columns_ohe = ['meal', 'distribution_channel', 'reserved_room_type', 'customer_type',\n",
    "            'categorize_arrival_date_month', 'categorize_children', 'categorize_total_of_special_requests',\n",
    "               'categorize_babies', 'categorize_previous_bookings_not_canceled', 'categorize_country',\n",
    "               'categorize_booking_changes', 'categorize_days_in_waiting_list', 'categorize_previous_cancellations',\n",
    "               'categorize_required_car_parking_spaces']\n",
    "ohe = OneHotEncoder(sparse=False, handle_unknown='ignore', drop='first')\n",
    "ohe.fit(data_train[columns_ohe])\n",
    "def get_ohe(df, columns_ohe=columns_ohe):\n",
    "    temp_df = pd.DataFrame(data=ohe.transform(df[columns_ohe]), columns=ohe.get_feature_names_out())\n",
    "    df.drop(columns=columns_ohe, axis=1, inplace=True)\n",
    "    df = pd.concat([df.reset_index(drop=True), temp_df], axis=1)\n",
    "    return df   "
   ]
  },
  {
   "cell_type": "code",
   "execution_count": 43,
   "metadata": {},
   "outputs": [],
   "source": [
    "pd.options.mode.chained_assignment = None"
   ]
  },
  {
   "cell_type": "code",
   "execution_count": 44,
   "metadata": {},
   "outputs": [],
   "source": [
    "data_train_ohe = get_ohe(data_train)\n",
    "data_test_ohe = get_ohe(data_test)"
   ]
  },
  {
   "cell_type": "markdown",
   "metadata": {},
   "source": [
    "Разделим трейн и тест на признаки для обучения и целевые признаки."
   ]
  },
  {
   "cell_type": "code",
   "execution_count": 45,
   "metadata": {},
   "outputs": [],
   "source": [
    "features_train = data_train_ohe.drop(['is_canceled', 'id', 'arrival_date_month_koef', \n",
    "                                      'room_rate', 'cleaning_rate', 'revenue', 'arrival_date_year'], axis=1) \n",
    "features_test = data_test_ohe.drop(['is_canceled', 'id', 'arrival_date_month_koef', \n",
    "                                    'room_rate', 'cleaning_rate', 'revenue', 'arrival_date_year'], axis=1) \n",
    "target_train = data_train_ohe['is_canceled']\n",
    "target_test = data_test_ohe['is_canceled']"
   ]
  },
  {
   "cell_type": "markdown",
   "metadata": {},
   "source": [
    "Проведем масштабирование данных."
   ]
  },
  {
   "cell_type": "code",
   "execution_count": 46,
   "metadata": {},
   "outputs": [],
   "source": [
    "numeric = ['stays_in_weekend_nights', 'stays_in_week_nights', 'arrival_date_week_number', \n",
    "           'adults', 'total_nights', 'lead_time', 'arrival_date_day_of_month']\n",
    "scaler = StandardScaler()\n",
    "scaler.fit(features_train[numeric]) \n",
    "features_train[numeric] = scaler.transform(features_train[numeric])\n",
    "features_test[numeric] = scaler.transform(features_test[numeric])"
   ]
  },
  {
   "cell_type": "markdown",
   "metadata": {},
   "source": [
    "Исследуем баланс в целевом признаке."
   ]
  },
  {
   "cell_type": "code",
   "execution_count": 47,
   "metadata": {},
   "outputs": [
    {
     "data": {
      "text/plain": [
       "23973"
      ]
     },
     "execution_count": 47,
     "metadata": {},
     "output_type": "execute_result"
    }
   ],
   "source": [
    "(target_train == 1).sum()"
   ]
  },
  {
   "cell_type": "code",
   "execution_count": 48,
   "metadata": {},
   "outputs": [
    {
     "data": {
      "text/plain": [
       "40834"
      ]
     },
     "execution_count": 48,
     "metadata": {},
     "output_type": "execute_result"
    }
   ],
   "source": [
    "(target_train == 0).sum()"
   ]
  },
  {
   "cell_type": "markdown",
   "metadata": {},
   "source": [
    "Наблюдаем дисбаланс данных, нулевые значения встречаются в два раза чаще чем единичные, в дальнейшем придется балансировать данные путем увеличения выборки."
   ]
  },
  {
   "cell_type": "markdown",
   "metadata": {},
   "source": [
    "Вывод:\n",
    "\n",
    "Категориальные признаки были преобразованы в численные техникой горячего кодирования. Данные также были отмасштабированы и разделены на целевой признак и признаки для обучения модели. Была исследована сбалансированность данных: наблюдается дисбаланас данных с преобладанием нулевых значений."
   ]
  },
  {
   "cell_type": "markdown",
   "metadata": {},
   "source": [
    "#### Изучение смещения данных"
   ]
  },
  {
   "cell_type": "code",
   "execution_count": 49,
   "metadata": {},
   "outputs": [
    {
     "name": "stdout",
     "output_type": "stream",
     "text": [
      "ROC-AUC: 0.8994708537879051\n"
     ]
    }
   ],
   "source": [
    "data_test_ohe['is_train'] = 0\n",
    "data_train_ohe['is_train'] = 1\n",
    "\n",
    "data_combine = pd.concat([data_train_ohe, data_test_ohe], axis=0, ignore_index=True)\n",
    "data_combine = data_combine.drop(['is_canceled', 'id', 'arrival_date_month_koef', \n",
    "                                'room_rate', 'cleaning_rate', 'revenue', 'arrival_date_year'], axis=1)\n",
    "\n",
    "y = data_combine['is_train'].values \n",
    "x = data_combine.drop(['is_train'], axis=1).values \n",
    "\n",
    "tst, trn = data_test.values, data_train.values\n",
    "\n",
    "rfc = RandomForestClassifier(n_jobs=-1, max_depth=5, min_samples_leaf = 5)\n",
    "predictions = np.zeros(y.shape) \n",
    "\n",
    "skf = StratifiedKFold(n_splits=4, shuffle=True, random_state=100)\n",
    "for fold, (train_idx, test_idx) in enumerate(skf.split(x, y)):\n",
    "    X_train, X_test = x[train_idx], x[test_idx]\n",
    "    y_train, y_test = y[train_idx], y[test_idx]\n",
    " \n",
    "    rfc.fit(X_train, y_train)\n",
    "    probs = rfc.predict_proba(X_test)[:, 1] \n",
    "    predictions[test_idx] = probs\n",
    "print('ROC-AUC:', roc_auc_score(y_true=y, y_score=predictions))"
   ]
  },
  {
   "cell_type": "markdown",
   "metadata": {},
   "source": [
    "Вывод:\n",
    "\n",
    "Столкнулась с проблемой: на трейне качество модели лучше чем на тесте. Когда искала варианты решения этой проблемы, прочитала про смещение данных. Обучила общий датасет смердженных датасетов трейна и теста, где целевой признак был флаг - трейн или тест. Если классификатор хорошо разделяет объекты на обучающий и тестовый датасет, то значение метрики ROC AUC должно быть значительно больше 0.5, в идеале близко к 1. Такая картина свидетельствует о сильном ковариантном сдвиге в данных. У меня ROC AUC получился почти 0.9, что свидетельствует о смещении данных."
   ]
  },
  {
   "cell_type": "markdown",
   "metadata": {},
   "source": [
    "#### Разработка модели"
   ]
  },
  {
   "cell_type": "markdown",
   "metadata": {},
   "source": [
    "Найдем наилучшие параметры для дерева решений с учетом несбалансированности выборки."
   ]
  },
  {
   "cell_type": "code",
   "execution_count": 50,
   "metadata": {},
   "outputs": [
    {
     "name": "stdout",
     "output_type": "stream",
     "text": [
      "CPU times: user 1min 2s, sys: 247 ms, total: 1min 2s\n",
      "Wall time: 1min 3s\n"
     ]
    },
    {
     "data": {
      "text/html": [
       "<style>#sk-container-id-1 {color: black;background-color: white;}#sk-container-id-1 pre{padding: 0;}#sk-container-id-1 div.sk-toggleable {background-color: white;}#sk-container-id-1 label.sk-toggleable__label {cursor: pointer;display: block;width: 100%;margin-bottom: 0;padding: 0.3em;box-sizing: border-box;text-align: center;}#sk-container-id-1 label.sk-toggleable__label-arrow:before {content: \"▸\";float: left;margin-right: 0.25em;color: #696969;}#sk-container-id-1 label.sk-toggleable__label-arrow:hover:before {color: black;}#sk-container-id-1 div.sk-estimator:hover label.sk-toggleable__label-arrow:before {color: black;}#sk-container-id-1 div.sk-toggleable__content {max-height: 0;max-width: 0;overflow: hidden;text-align: left;background-color: #f0f8ff;}#sk-container-id-1 div.sk-toggleable__content pre {margin: 0.2em;color: black;border-radius: 0.25em;background-color: #f0f8ff;}#sk-container-id-1 input.sk-toggleable__control:checked~div.sk-toggleable__content {max-height: 200px;max-width: 100%;overflow: auto;}#sk-container-id-1 input.sk-toggleable__control:checked~label.sk-toggleable__label-arrow:before {content: \"▾\";}#sk-container-id-1 div.sk-estimator input.sk-toggleable__control:checked~label.sk-toggleable__label {background-color: #d4ebff;}#sk-container-id-1 div.sk-label input.sk-toggleable__control:checked~label.sk-toggleable__label {background-color: #d4ebff;}#sk-container-id-1 input.sk-hidden--visually {border: 0;clip: rect(1px 1px 1px 1px);clip: rect(1px, 1px, 1px, 1px);height: 1px;margin: -1px;overflow: hidden;padding: 0;position: absolute;width: 1px;}#sk-container-id-1 div.sk-estimator {font-family: monospace;background-color: #f0f8ff;border: 1px dotted black;border-radius: 0.25em;box-sizing: border-box;margin-bottom: 0.5em;}#sk-container-id-1 div.sk-estimator:hover {background-color: #d4ebff;}#sk-container-id-1 div.sk-parallel-item::after {content: \"\";width: 100%;border-bottom: 1px solid gray;flex-grow: 1;}#sk-container-id-1 div.sk-label:hover label.sk-toggleable__label {background-color: #d4ebff;}#sk-container-id-1 div.sk-serial::before {content: \"\";position: absolute;border-left: 1px solid gray;box-sizing: border-box;top: 0;bottom: 0;left: 50%;z-index: 0;}#sk-container-id-1 div.sk-serial {display: flex;flex-direction: column;align-items: center;background-color: white;padding-right: 0.2em;padding-left: 0.2em;position: relative;}#sk-container-id-1 div.sk-item {position: relative;z-index: 1;}#sk-container-id-1 div.sk-parallel {display: flex;align-items: stretch;justify-content: center;background-color: white;position: relative;}#sk-container-id-1 div.sk-item::before, #sk-container-id-1 div.sk-parallel-item::before {content: \"\";position: absolute;border-left: 1px solid gray;box-sizing: border-box;top: 0;bottom: 0;left: 50%;z-index: -1;}#sk-container-id-1 div.sk-parallel-item {display: flex;flex-direction: column;z-index: 1;position: relative;background-color: white;}#sk-container-id-1 div.sk-parallel-item:first-child::after {align-self: flex-end;width: 50%;}#sk-container-id-1 div.sk-parallel-item:last-child::after {align-self: flex-start;width: 50%;}#sk-container-id-1 div.sk-parallel-item:only-child::after {width: 0;}#sk-container-id-1 div.sk-dashed-wrapped {border: 1px dashed gray;margin: 0 0.4em 0.5em 0.4em;box-sizing: border-box;padding-bottom: 0.4em;background-color: white;}#sk-container-id-1 div.sk-label label {font-family: monospace;font-weight: bold;display: inline-block;line-height: 1.2em;}#sk-container-id-1 div.sk-label-container {text-align: center;}#sk-container-id-1 div.sk-container {/* jupyter's `normalize.less` sets `[hidden] { display: none; }` but bootstrap.min.css set `[hidden] { display: none !important; }` so we also need the `!important` here to be able to override the default hidden behavior on the sphinx rendered scikit-learn.org. See: https://github.com/scikit-learn/scikit-learn/issues/21755 */display: inline-block !important;position: relative;}#sk-container-id-1 div.sk-text-repr-fallback {display: none;}</style><div id=\"sk-container-id-1\" class=\"sk-top-container\"><div class=\"sk-text-repr-fallback\"><pre>GridSearchCV(cv=3,\n",
       "             estimator=Pipeline(steps=[(&#x27;smote&#x27;, SMOTE(random_state=42)),\n",
       "                                       (&#x27;decisiontreeclassifier&#x27;,\n",
       "                                        DecisionTreeClassifier(random_state=13))]),\n",
       "             param_grid={&#x27;decisiontreeclassifier__max_depth&#x27;: [4, 6, 10, 12],\n",
       "                         &#x27;decisiontreeclassifier__max_features&#x27;: [2, 5, 8],\n",
       "                         &#x27;decisiontreeclassifier__random_state&#x27;: [13]},\n",
       "             return_train_score=True, scoring=&#x27;precision&#x27;)</pre><b>In a Jupyter environment, please rerun this cell to show the HTML representation or trust the notebook. <br />On GitHub, the HTML representation is unable to render, please try loading this page with nbviewer.org.</b></div><div class=\"sk-container\" hidden><div class=\"sk-item sk-dashed-wrapped\"><div class=\"sk-label-container\"><div class=\"sk-label sk-toggleable\"><input class=\"sk-toggleable__control sk-hidden--visually\" id=\"sk-estimator-id-1\" type=\"checkbox\" ><label for=\"sk-estimator-id-1\" class=\"sk-toggleable__label sk-toggleable__label-arrow\">GridSearchCV</label><div class=\"sk-toggleable__content\"><pre>GridSearchCV(cv=3,\n",
       "             estimator=Pipeline(steps=[(&#x27;smote&#x27;, SMOTE(random_state=42)),\n",
       "                                       (&#x27;decisiontreeclassifier&#x27;,\n",
       "                                        DecisionTreeClassifier(random_state=13))]),\n",
       "             param_grid={&#x27;decisiontreeclassifier__max_depth&#x27;: [4, 6, 10, 12],\n",
       "                         &#x27;decisiontreeclassifier__max_features&#x27;: [2, 5, 8],\n",
       "                         &#x27;decisiontreeclassifier__random_state&#x27;: [13]},\n",
       "             return_train_score=True, scoring=&#x27;precision&#x27;)</pre></div></div></div><div class=\"sk-parallel\"><div class=\"sk-parallel-item\"><div class=\"sk-item\"><div class=\"sk-label-container\"><div class=\"sk-label sk-toggleable\"><input class=\"sk-toggleable__control sk-hidden--visually\" id=\"sk-estimator-id-2\" type=\"checkbox\" ><label for=\"sk-estimator-id-2\" class=\"sk-toggleable__label sk-toggleable__label-arrow\">estimator: Pipeline</label><div class=\"sk-toggleable__content\"><pre>Pipeline(steps=[(&#x27;smote&#x27;, SMOTE(random_state=42)),\n",
       "                (&#x27;decisiontreeclassifier&#x27;,\n",
       "                 DecisionTreeClassifier(random_state=13))])</pre></div></div></div><div class=\"sk-serial\"><div class=\"sk-item\"><div class=\"sk-serial\"><div class=\"sk-item\"><div class=\"sk-estimator sk-toggleable\"><input class=\"sk-toggleable__control sk-hidden--visually\" id=\"sk-estimator-id-3\" type=\"checkbox\" ><label for=\"sk-estimator-id-3\" class=\"sk-toggleable__label sk-toggleable__label-arrow\">SMOTE</label><div class=\"sk-toggleable__content\"><pre>SMOTE(random_state=42)</pre></div></div></div><div class=\"sk-item\"><div class=\"sk-estimator sk-toggleable\"><input class=\"sk-toggleable__control sk-hidden--visually\" id=\"sk-estimator-id-4\" type=\"checkbox\" ><label for=\"sk-estimator-id-4\" class=\"sk-toggleable__label sk-toggleable__label-arrow\">DecisionTreeClassifier</label><div class=\"sk-toggleable__content\"><pre>DecisionTreeClassifier(random_state=13)</pre></div></div></div></div></div></div></div></div></div></div></div></div>"
      ],
      "text/plain": [
       "GridSearchCV(cv=3,\n",
       "             estimator=Pipeline(steps=[('smote', SMOTE(random_state=42)),\n",
       "                                       ('decisiontreeclassifier',\n",
       "                                        DecisionTreeClassifier(random_state=13))]),\n",
       "             param_grid={'decisiontreeclassifier__max_depth': [4, 6, 10, 12],\n",
       "                         'decisiontreeclassifier__max_features': [2, 5, 8],\n",
       "                         'decisiontreeclassifier__random_state': [13]},\n",
       "             return_train_score=True, scoring='precision')"
      ]
     },
     "execution_count": 50,
     "metadata": {},
     "output_type": "execute_result"
    }
   ],
   "source": [
    "%%time\n",
    "imba_pipeline_dtc = make_pipeline(SMOTE(random_state=42),  DecisionTreeClassifier(random_state=13))\n",
    "params = {\n",
    "    'max_features': [2, 5, 8],\n",
    "    'max_depth': [4, 6, 10, 12],\n",
    "    'random_state': [13]}\n",
    "new_params = {'decisiontreeclassifier__' + key: params[key] for key in params}\n",
    "grid_imba_dtc = GridSearchCV(imba_pipeline_dtc, param_grid=new_params, cv=3, scoring='precision', return_train_score=True)\n",
    "grid_imba_dtc.fit(features_train, target_train)"
   ]
  },
  {
   "cell_type": "code",
   "execution_count": 51,
   "metadata": {},
   "outputs": [
    {
     "data": {
      "text/plain": [
       "{'decisiontreeclassifier__max_depth': 4,\n",
       " 'decisiontreeclassifier__max_features': 5,\n",
       " 'decisiontreeclassifier__random_state': 13}"
      ]
     },
     "execution_count": 51,
     "metadata": {},
     "output_type": "execute_result"
    }
   ],
   "source": [
    "grid_imba_dtc.best_params_"
   ]
  },
  {
   "cell_type": "code",
   "execution_count": 52,
   "metadata": {},
   "outputs": [
    {
     "data": {
      "text/plain": [
       "0.6603375153950966"
      ]
     },
     "execution_count": 52,
     "metadata": {},
     "output_type": "execute_result"
    }
   ],
   "source": [
    "grid_imba_dtc.best_score_"
   ]
  },
  {
   "cell_type": "markdown",
   "metadata": {},
   "source": [
    "Найдем наилучшие параметры для случайного леса с учетом несбалансированности выборки."
   ]
  },
  {
   "cell_type": "code",
   "execution_count": 53,
   "metadata": {},
   "outputs": [
    {
     "name": "stdout",
     "output_type": "stream",
     "text": [
      "CPU times: user 2min 45s, sys: 581 ms, total: 2min 45s\n",
      "Wall time: 2min 46s\n"
     ]
    },
    {
     "data": {
      "text/html": [
       "<style>#sk-container-id-2 {color: black;background-color: white;}#sk-container-id-2 pre{padding: 0;}#sk-container-id-2 div.sk-toggleable {background-color: white;}#sk-container-id-2 label.sk-toggleable__label {cursor: pointer;display: block;width: 100%;margin-bottom: 0;padding: 0.3em;box-sizing: border-box;text-align: center;}#sk-container-id-2 label.sk-toggleable__label-arrow:before {content: \"▸\";float: left;margin-right: 0.25em;color: #696969;}#sk-container-id-2 label.sk-toggleable__label-arrow:hover:before {color: black;}#sk-container-id-2 div.sk-estimator:hover label.sk-toggleable__label-arrow:before {color: black;}#sk-container-id-2 div.sk-toggleable__content {max-height: 0;max-width: 0;overflow: hidden;text-align: left;background-color: #f0f8ff;}#sk-container-id-2 div.sk-toggleable__content pre {margin: 0.2em;color: black;border-radius: 0.25em;background-color: #f0f8ff;}#sk-container-id-2 input.sk-toggleable__control:checked~div.sk-toggleable__content {max-height: 200px;max-width: 100%;overflow: auto;}#sk-container-id-2 input.sk-toggleable__control:checked~label.sk-toggleable__label-arrow:before {content: \"▾\";}#sk-container-id-2 div.sk-estimator input.sk-toggleable__control:checked~label.sk-toggleable__label {background-color: #d4ebff;}#sk-container-id-2 div.sk-label input.sk-toggleable__control:checked~label.sk-toggleable__label {background-color: #d4ebff;}#sk-container-id-2 input.sk-hidden--visually {border: 0;clip: rect(1px 1px 1px 1px);clip: rect(1px, 1px, 1px, 1px);height: 1px;margin: -1px;overflow: hidden;padding: 0;position: absolute;width: 1px;}#sk-container-id-2 div.sk-estimator {font-family: monospace;background-color: #f0f8ff;border: 1px dotted black;border-radius: 0.25em;box-sizing: border-box;margin-bottom: 0.5em;}#sk-container-id-2 div.sk-estimator:hover {background-color: #d4ebff;}#sk-container-id-2 div.sk-parallel-item::after {content: \"\";width: 100%;border-bottom: 1px solid gray;flex-grow: 1;}#sk-container-id-2 div.sk-label:hover label.sk-toggleable__label {background-color: #d4ebff;}#sk-container-id-2 div.sk-serial::before {content: \"\";position: absolute;border-left: 1px solid gray;box-sizing: border-box;top: 0;bottom: 0;left: 50%;z-index: 0;}#sk-container-id-2 div.sk-serial {display: flex;flex-direction: column;align-items: center;background-color: white;padding-right: 0.2em;padding-left: 0.2em;position: relative;}#sk-container-id-2 div.sk-item {position: relative;z-index: 1;}#sk-container-id-2 div.sk-parallel {display: flex;align-items: stretch;justify-content: center;background-color: white;position: relative;}#sk-container-id-2 div.sk-item::before, #sk-container-id-2 div.sk-parallel-item::before {content: \"\";position: absolute;border-left: 1px solid gray;box-sizing: border-box;top: 0;bottom: 0;left: 50%;z-index: -1;}#sk-container-id-2 div.sk-parallel-item {display: flex;flex-direction: column;z-index: 1;position: relative;background-color: white;}#sk-container-id-2 div.sk-parallel-item:first-child::after {align-self: flex-end;width: 50%;}#sk-container-id-2 div.sk-parallel-item:last-child::after {align-self: flex-start;width: 50%;}#sk-container-id-2 div.sk-parallel-item:only-child::after {width: 0;}#sk-container-id-2 div.sk-dashed-wrapped {border: 1px dashed gray;margin: 0 0.4em 0.5em 0.4em;box-sizing: border-box;padding-bottom: 0.4em;background-color: white;}#sk-container-id-2 div.sk-label label {font-family: monospace;font-weight: bold;display: inline-block;line-height: 1.2em;}#sk-container-id-2 div.sk-label-container {text-align: center;}#sk-container-id-2 div.sk-container {/* jupyter's `normalize.less` sets `[hidden] { display: none; }` but bootstrap.min.css set `[hidden] { display: none !important; }` so we also need the `!important` here to be able to override the default hidden behavior on the sphinx rendered scikit-learn.org. See: https://github.com/scikit-learn/scikit-learn/issues/21755 */display: inline-block !important;position: relative;}#sk-container-id-2 div.sk-text-repr-fallback {display: none;}</style><div id=\"sk-container-id-2\" class=\"sk-top-container\"><div class=\"sk-text-repr-fallback\"><pre>GridSearchCV(cv=3,\n",
       "             estimator=Pipeline(steps=[(&#x27;smote&#x27;, SMOTE(random_state=42)),\n",
       "                                       (&#x27;randomforestclassifier&#x27;,\n",
       "                                        RandomForestClassifier(random_state=13))]),\n",
       "             param_grid={&#x27;randomforestclassifier__max_depth&#x27;: [4, 6, 10, 12],\n",
       "                         &#x27;randomforestclassifier__n_estimators&#x27;: [30, 80, 150],\n",
       "                         &#x27;randomforestclassifier__random_state&#x27;: [13]},\n",
       "             return_train_score=True, scoring=&#x27;precision&#x27;)</pre><b>In a Jupyter environment, please rerun this cell to show the HTML representation or trust the notebook. <br />On GitHub, the HTML representation is unable to render, please try loading this page with nbviewer.org.</b></div><div class=\"sk-container\" hidden><div class=\"sk-item sk-dashed-wrapped\"><div class=\"sk-label-container\"><div class=\"sk-label sk-toggleable\"><input class=\"sk-toggleable__control sk-hidden--visually\" id=\"sk-estimator-id-5\" type=\"checkbox\" ><label for=\"sk-estimator-id-5\" class=\"sk-toggleable__label sk-toggleable__label-arrow\">GridSearchCV</label><div class=\"sk-toggleable__content\"><pre>GridSearchCV(cv=3,\n",
       "             estimator=Pipeline(steps=[(&#x27;smote&#x27;, SMOTE(random_state=42)),\n",
       "                                       (&#x27;randomforestclassifier&#x27;,\n",
       "                                        RandomForestClassifier(random_state=13))]),\n",
       "             param_grid={&#x27;randomforestclassifier__max_depth&#x27;: [4, 6, 10, 12],\n",
       "                         &#x27;randomforestclassifier__n_estimators&#x27;: [30, 80, 150],\n",
       "                         &#x27;randomforestclassifier__random_state&#x27;: [13]},\n",
       "             return_train_score=True, scoring=&#x27;precision&#x27;)</pre></div></div></div><div class=\"sk-parallel\"><div class=\"sk-parallel-item\"><div class=\"sk-item\"><div class=\"sk-label-container\"><div class=\"sk-label sk-toggleable\"><input class=\"sk-toggleable__control sk-hidden--visually\" id=\"sk-estimator-id-6\" type=\"checkbox\" ><label for=\"sk-estimator-id-6\" class=\"sk-toggleable__label sk-toggleable__label-arrow\">estimator: Pipeline</label><div class=\"sk-toggleable__content\"><pre>Pipeline(steps=[(&#x27;smote&#x27;, SMOTE(random_state=42)),\n",
       "                (&#x27;randomforestclassifier&#x27;,\n",
       "                 RandomForestClassifier(random_state=13))])</pre></div></div></div><div class=\"sk-serial\"><div class=\"sk-item\"><div class=\"sk-serial\"><div class=\"sk-item\"><div class=\"sk-estimator sk-toggleable\"><input class=\"sk-toggleable__control sk-hidden--visually\" id=\"sk-estimator-id-7\" type=\"checkbox\" ><label for=\"sk-estimator-id-7\" class=\"sk-toggleable__label sk-toggleable__label-arrow\">SMOTE</label><div class=\"sk-toggleable__content\"><pre>SMOTE(random_state=42)</pre></div></div></div><div class=\"sk-item\"><div class=\"sk-estimator sk-toggleable\"><input class=\"sk-toggleable__control sk-hidden--visually\" id=\"sk-estimator-id-8\" type=\"checkbox\" ><label for=\"sk-estimator-id-8\" class=\"sk-toggleable__label sk-toggleable__label-arrow\">RandomForestClassifier</label><div class=\"sk-toggleable__content\"><pre>RandomForestClassifier(random_state=13)</pre></div></div></div></div></div></div></div></div></div></div></div></div>"
      ],
      "text/plain": [
       "GridSearchCV(cv=3,\n",
       "             estimator=Pipeline(steps=[('smote', SMOTE(random_state=42)),\n",
       "                                       ('randomforestclassifier',\n",
       "                                        RandomForestClassifier(random_state=13))]),\n",
       "             param_grid={'randomforestclassifier__max_depth': [4, 6, 10, 12],\n",
       "                         'randomforestclassifier__n_estimators': [30, 80, 150],\n",
       "                         'randomforestclassifier__random_state': [13]},\n",
       "             return_train_score=True, scoring='precision')"
      ]
     },
     "execution_count": 53,
     "metadata": {},
     "output_type": "execute_result"
    }
   ],
   "source": [
    "%%time\n",
    "imba_pipeline_rfc = make_pipeline(SMOTE(random_state=42), RandomForestClassifier(random_state=13))\n",
    "params = {\n",
    "    'n_estimators': [30, 80, 150],\n",
    "    'max_depth': [4, 6, 10, 12],\n",
    "    'random_state': [13]}\n",
    "new_params = {'randomforestclassifier__' + key: params[key] for key in params}\n",
    "grid_imba_rfc = GridSearchCV(imba_pipeline_rfc, param_grid=new_params, cv=3, scoring='precision', return_train_score=True)\n",
    "grid_imba_rfc.fit(features_train, target_train)"
   ]
  },
  {
   "cell_type": "code",
   "execution_count": 54,
   "metadata": {},
   "outputs": [
    {
     "data": {
      "text/plain": [
       "{'randomforestclassifier__max_depth': 4,\n",
       " 'randomforestclassifier__n_estimators': 30,\n",
       " 'randomforestclassifier__random_state': 13}"
      ]
     },
     "execution_count": 54,
     "metadata": {},
     "output_type": "execute_result"
    }
   ],
   "source": [
    "best_param = grid_imba_rfc.best_params_\n",
    "best_param"
   ]
  },
  {
   "cell_type": "code",
   "execution_count": 55,
   "metadata": {},
   "outputs": [
    {
     "data": {
      "text/plain": [
       "0.6850635248149385"
      ]
     },
     "execution_count": 55,
     "metadata": {},
     "output_type": "execute_result"
    }
   ],
   "source": [
    "grid_imba_rfc.best_score_"
   ]
  },
  {
   "cell_type": "markdown",
   "metadata": {},
   "source": [
    "Обучим логистическую регрессию с учетом несбалансированности выборки."
   ]
  },
  {
   "cell_type": "code",
   "execution_count": 56,
   "metadata": {},
   "outputs": [
    {
     "name": "stdout",
     "output_type": "stream",
     "text": [
      "0.59\n"
     ]
    }
   ],
   "source": [
    "imba_pipeline_log = make_pipeline(SMOTE(random_state=42), LogisticRegression(solver='liblinear', random_state=12345))\n",
    "scores = cross_val_score(imba_pipeline_log, features_train, target_train, scoring='precision', cv=3)\n",
    "final_score = np.mean(scores)\n",
    "print(round(final_score,3))"
   ]
  },
  {
   "cell_type": "markdown",
   "metadata": {},
   "source": [
    "Проверим наилучшую модель - случайный лес на тестовой выборке."
   ]
  },
  {
   "cell_type": "code",
   "execution_count": 57,
   "metadata": {},
   "outputs": [
    {
     "name": "stdout",
     "output_type": "stream",
     "text": [
      "precision = 0.596\n"
     ]
    }
   ],
   "source": [
    "model_best = make_pipeline(SMOTE(random_state=42), RandomForestClassifier(random_state=12345, \n",
    "                                                                               max_depth=4,\n",
    "                                                                               n_estimators=30,\n",
    "                                                                               n_jobs=-1))\n",
    "model_best.fit(features_train, target_train)\n",
    "predictions_test = model_best.predict(features_test)\n",
    "precision_test = precision_score(target_test, predictions_test)\n",
    "print('precision = {0}'.format(round(precision_test,3)))"
   ]
  },
  {
   "cell_type": "markdown",
   "metadata": {},
   "source": [
    "Вывод:\n",
    "\n",
    "Была выбрана метрика precision. Это доля объектов, названными классификатором отказами от брони и при этом действительно являющимися отказами от брони.\n",
    "\n",
    "- Для дерева решений наилучшая метрика precision была получена при максимальной глубине дерева равной 4, при максимальном числе признаков, по которым ищется лучшее разбиение в дереве, равному 5 и равняется 0.66.\n",
    "\n",
    "- Для случайного леса наилучшая метрика precision была получена при максимальной глубине дерева равной 4, при количестве деревьев равному 30 и равняется 0.69. \n",
    "\n",
    "- Для логистической регрессии наилучшая метрика precision равняется 0.59.\n",
    "\n",
    "Наилучшие показатели метрики у случайного леса. На тестовой выборки метрика precision равняется 0.6."
   ]
  },
  {
   "cell_type": "markdown",
   "metadata": {},
   "source": [
    "#### Расчет прибыли"
   ]
  },
  {
   "cell_type": "code",
   "execution_count": 58,
   "metadata": {},
   "outputs": [],
   "source": [
    "data_test['pred_is_canceled'] = predictions_test\n",
    "def revenue_with_deposit_func(data):\n",
    "    try:\n",
    "        room_cost = data['room_rate'] * data['arrival_date_month_koef'] * data['total_nights']\n",
    "        room_cost_one_night = data['room_rate'] * data['arrival_date_month_koef'] + data['cleaning_rate']\n",
    "        if (data['is_canceled'] == 0) :\n",
    "            if data['total_nights'] % 2 == 0:\n",
    "                return (room_cost - data['cleaning_rate'] * (1 + data['total_nights'] / 2))\n",
    "            else:\n",
    "                return (room_cost - data['cleaning_rate'] * (1 + (data['total_nights'] - 1) / 2))\n",
    "        elif (data['is_canceled'] == 1) & (data['pred_is_canceled'] == 1):\n",
    "            return -0.2 * room_cost_one_night\n",
    "        elif (data['is_canceled'] == 1) & (data['pred_is_canceled'] == 0):\n",
    "            return -1 * room_cost_one_night          \n",
    "    except:\n",
    "        pass"
   ]
  },
  {
   "cell_type": "code",
   "execution_count": 59,
   "metadata": {},
   "outputs": [
    {
     "data": {
      "text/plain": [
       "800856.0"
      ]
     },
     "execution_count": 59,
     "metadata": {},
     "output_type": "execute_result"
    }
   ],
   "source": [
    "BUDGET = 400_000\n",
    "data_test['revenue_with_deposit'] = data_test.apply(revenue_with_deposit_func, axis=1)\n",
    "revenue_test_after = data_test['revenue_with_deposit'].sum()\n",
    "revenue_ML = revenue_test_after - revenue_test_before - BUDGET\n",
    "revenue_ML"
   ]
  },
  {
   "cell_type": "code",
   "execution_count": 60,
   "metadata": {},
   "outputs": [
    {
     "data": {
      "text/plain": [
       "33711446.0"
      ]
     },
     "execution_count": 60,
     "metadata": {},
     "output_type": "execute_result"
    }
   ],
   "source": [
    "revenue_test_after "
   ]
  },
  {
   "cell_type": "markdown",
   "metadata": {},
   "source": [
    "Вывод:\n",
    "\n",
    "Была оценена прибыль отеля прибыль отеля c депозитом за тестовый период, она равняется 33.7 млн рублей. Прибыль, которую принесет внедренение данной системы, равняется 800 тыс. рублей. "
   ]
  },
  {
   "cell_type": "markdown",
   "metadata": {},
   "source": [
    "### Шаг 5. Опишите портрет «ненадёжного» клиента"
   ]
  },
  {
   "cell_type": "markdown",
   "metadata": {},
   "source": [
    "Анализ был проведен во 2 пункте.\n",
    "\n",
    "Чаще всего отказываются от бронирования осенью, реже всего зимой. \n",
    "\n",
    "К концу месяца отказ от брони реже, в середине месяца выше.\n",
    "\n",
    "Чаще всего отказываются те, кто не остается на выходные, а остается на два дня посреди недели.\n",
    "\n",
    "Чаще всего откзаываются от бронирования двое взрослых, которые не имеют детей любого возраста.\n",
    "\n",
    "Чаще от бронирования отказываются те, у кого включен завтрак, а тип забронированной комнаты - A.\n",
    "\n",
    "Чаще отказываются те, у кого канал дистрибуции TA/TO, а тип заказа не связан ни с договором, ни с групповым заездом.\n",
    "\n",
    "Чаще всего отказываются те, кто бронирует номер впервые.\n",
    "\n",
    "Чаще всего отказываются те, кто не отменял заказ то этого.\n",
    "\n",
    "Чаще всего отказываются при нулевом изменении параметров заказа и нулевым количеством специальных отметок.\n",
    "\n",
    "Чаще всего отказываются при подтверждении заказа в день его оформления.\n",
    "\n",
    "Чаще всего отказываются тех, кому не требуется парковочное место.\n",
    "\n",
    "Отказываются от бронирования вне зависимости от дней между датой бронирования и датой прибытия. "
   ]
  },
  {
   "cell_type": "markdown",
   "metadata": {},
   "source": [
    "Оценим важность признаков."
   ]
  },
  {
   "cell_type": "code",
   "execution_count": 61,
   "metadata": {},
   "outputs": [],
   "source": [
    "def func_importance(model, data):\n",
    "    feats = {}\n",
    "    for feature, importance in zip(data.columns, model.feature_importances_):\n",
    "        feats[feature] = importance\n",
    "    importances = pd.DataFrame.from_dict(feats, orient='index').rename(columns={0: 'Gini-Importance'})\n",
    "    importances = importances.sort_values(by='Gini-Importance', ascending=False)\n",
    "    importances = importances.reset_index()\n",
    "    importances = importances.rename(columns={'index': 'Features'})\n",
    "    sns.set(font_scale = 5)\n",
    "    sns.set(style=\"whitegrid\", color_codes=True, font_scale = 1.7)\n",
    "    fig, ax = plt.subplots()\n",
    "    fig.set_size_inches(30,25)\n",
    "    sns.barplot(x=importances['Gini-Importance'], y=importances['Features'], data=importances, color='skyblue')\n",
    "    plt.xlabel('Importance', fontsize=25, weight = 'bold')\n",
    "    plt.ylabel('Features', fontsize=25, weight = 'bold')\n",
    "    plt.title('Feature Importance', fontsize=25, weight = 'bold')\n",
    "    display(plt.show())\n",
    "    display(importances.head(10))"
   ]
  },
  {
   "cell_type": "markdown",
   "metadata": {},
   "source": [
    "Наиболее важные признаки: страна, количество отменённых заказов у клиента, количество дней между датой бронирования и датой прибытия и количество специальных отметок.\n",
    "Наименее важные признаки: тип забронированной комнаты и количество детей."
   ]
  },
  {
   "cell_type": "markdown",
   "metadata": {},
   "source": [
    "### Шаг 6. Напишите общий вывод"
   ]
  },
  {
   "cell_type": "markdown",
   "metadata": {},
   "source": [
    "В данном проекте были сделаны следующие выводы:\n",
    "\n",
    "Данные были выгружены, в датасете не было обнаружено пропусков, явных и неявных дубликатов. Аномальные значения были удалены в столбцах 'adults', 'babies', 'previous_cancellations'. В строковых значениях были удалены лишние пробелы. Были созданы новые столбцы с категориями стран (по частоте возникноваения), сезонов года в зависимости от месяца, бинарные категории (к примеру, есть дети - нет детей) для стоблцов 'children', 'babies', 'previous_cancellations', 'previous_bookings_not_canceled', 'booking_changes', 'days_in_waiting_list', 'required_car_parking_spaces', 'total_of_special_requests'. Больше всего столбец is_canceled коррелирует с lead_time и is_repeated_guest.\n",
    "\n",
    "Исследовательский анализ показал: \n",
    "\n",
    "  - Чаще всего отказываются от бронирования осенью, реже всего зимой. \n",
    "\n",
    "  - К концу месяца отказ от брони реже, в середине месяца выше.\n",
    "\n",
    "  - Чаще всего отказываются те, кто не остается на выходные, а остается на два дня посреди недели.\n",
    "\n",
    "  - Чаще всего откзаываются от бронирования двое взрослых, которые не имеют детей любого возраста.\n",
    "\n",
    "  - Чаще от бронирования отказываются те, у кого включен завтрак, а тип забронированной комнаты - A.\n",
    "\n",
    "  - Чаще отказываются те, у кого канал дистрибуции TA/TO, а тип заказа не связан ни с договором, ни с групповым заездом.\n",
    "\n",
    "  - Чаще всего отказываются те, кто бронирует номер впервые.\n",
    "\n",
    "  - Чаще всего отказываются те, кто не отменял заказ то этого.\n",
    "\n",
    "  - Чаще всего отказываются при нулевом изменении параметров заказа и нулевым количеством специальных отметок.\n",
    "\n",
    "  - Чаще всего отказываются при подтверждении заказа в день его оформления.\n",
    "\n",
    "  - Чаще всего отказываются тех, кому не требуется парковочное место.\n",
    "\n",
    "  - Отказываются от бронирования вне зависимости от дней между датой бронирования и датой прибытия. \n",
    "  \n",
    "Была оценена прибыль отеля без депозита за тестовый период, она равняется 32.5 млн рублей.\n",
    "\n",
    "Категориальные признаки были преобразованы в численные техникой горячего кодирования. Данные также были отмасштабированы и разделены на целевой признак и признаки для обучения модели. Была исследована сбалансированность данных: наблюдается дисбаланас данных с преобладанием нулевых значений.\n",
    "\n",
    "Столкнулась с проблемой: на трейне качество модели лучше чем на тесте. Когда искала варианты решения этой проблемы, прочитала про смещение данных. Обучила общий датасет смердженных датасетов трейна и теста, где целевой признак был флаг - трейн или тест. Если классификатор хорошо разделяет объекты на обучающий и тестовый датасет, то значение метрики ROC AUC должно быть значительно больше 0.5, в идеале близко к 1. Такая картина свидетельствует о сильном ковариантном сдвиге в данных. У меня ROC AUC получился почти 0.9, что свидетельствует о смещении данных.\n",
    "\n",
    "Была выбрана метрика precision. Это доля объектов, названными классификатором отказами от брони и при этом действительно являющимися отказами от брони. Были получены следующие реузльтаты:\n",
    "\n",
    "  - Для дерева решений наилучшая метрика precision была получена при максимальной глубине дерева равной 4, при максимальном числе признаков, по которым ищется лучшее разбиение в дереве, равному 5 и равняется 0.66.\n",
    "\n",
    "  - Для случайного леса наилучшая метрика precision была получена при максимальной глубине дерева равной 4, при количестве деревьев равному 30 и равняется 0.69. \n",
    "\n",
    "  - Для логистической регрессии наилучшая метрика precision равняется 0.59.\n",
    "\n",
    "  - Наилучшие показатели метрики у случайного леса. На тестовой выборки метрика precision равняется 0.6.\n",
    "  \n",
    "Была оценена прибыль отеля прибыль отеля c депозитом за тестовый период, она равняется 33.7 млн рублей. Прибыль, которую принесет внедренение данной системы, равняется 800 тыс. рублей. \n",
    "\n",
    "Наиболее важные признаки: страна, количество отменённых заказов у клиента, количество дней между датой бронирования и датой прибытия и количество специальных отметок. Наименее важные признаки: тип забронированной комнаты и количество детей."
   ]
  },
  {
   "cell_type": "code",
   "execution_count": null,
   "metadata": {},
   "outputs": [],
   "source": []
  }
 ],
 "metadata": {
  "ExecuteTimeLog": [
   {
    "duration": 60,
    "start_time": "2023-05-22T10:54:30.833Z"
   },
   {
    "duration": 458,
    "start_time": "2023-05-22T10:54:32.262Z"
   },
   {
    "duration": 233,
    "start_time": "2023-05-22T10:54:32.722Z"
   },
   {
    "duration": 387,
    "start_time": "2023-05-22T10:55:05.269Z"
   },
   {
    "duration": 83,
    "start_time": "2023-05-22T10:55:12.349Z"
   },
   {
    "duration": 35,
    "start_time": "2023-05-22T10:55:37.742Z"
   },
   {
    "duration": 30,
    "start_time": "2023-05-22T11:50:37.919Z"
   },
   {
    "duration": 3,
    "start_time": "2023-05-22T11:50:40.091Z"
   },
   {
    "duration": 2149,
    "start_time": "2023-05-22T11:50:40.464Z"
   },
   {
    "duration": 4,
    "start_time": "2023-05-22T11:51:39.647Z"
   },
   {
    "duration": 190,
    "start_time": "2023-05-22T11:51:40.047Z"
   },
   {
    "duration": 240,
    "start_time": "2023-05-22T11:53:46.941Z"
   },
   {
    "duration": 7,
    "start_time": "2023-05-22T12:37:12.859Z"
   },
   {
    "duration": 3,
    "start_time": "2023-05-22T12:37:18.363Z"
   },
   {
    "duration": 263,
    "start_time": "2023-05-22T12:37:18.738Z"
   },
   {
    "duration": 261,
    "start_time": "2023-05-22T12:37:21.639Z"
   },
   {
    "duration": 186,
    "start_time": "2023-05-22T12:37:31.640Z"
   },
   {
    "duration": 3,
    "start_time": "2023-05-22T12:37:56.626Z"
   },
   {
    "duration": 2111,
    "start_time": "2023-05-22T12:37:56.972Z"
   },
   {
    "duration": 4,
    "start_time": "2023-05-22T12:38:04.378Z"
   },
   {
    "duration": 2324,
    "start_time": "2023-05-22T12:38:04.812Z"
   },
   {
    "duration": 4,
    "start_time": "2023-05-22T12:38:22.140Z"
   },
   {
    "duration": 3392,
    "start_time": "2023-05-22T12:38:22.516Z"
   },
   {
    "duration": 3073,
    "start_time": "2023-05-22T13:19:37.744Z"
   },
   {
    "duration": 436,
    "start_time": "2023-05-26T10:06:38.281Z"
   },
   {
    "duration": 482,
    "start_time": "2023-05-26T10:06:38.719Z"
   },
   {
    "duration": 4,
    "start_time": "2023-05-26T10:06:39.203Z"
   },
   {
    "duration": 3598,
    "start_time": "2023-05-26T10:06:39.210Z"
   },
   {
    "duration": 2948,
    "start_time": "2023-05-26T10:06:42.811Z"
   },
   {
    "duration": 5309,
    "start_time": "2023-05-26T10:06:51.278Z"
   },
   {
    "duration": 7,
    "start_time": "2023-05-26T10:07:39.899Z"
   },
   {
    "duration": 6,
    "start_time": "2023-05-26T10:08:54.276Z"
   },
   {
    "duration": 7,
    "start_time": "2023-05-26T10:12:12.170Z"
   },
   {
    "duration": 4,
    "start_time": "2023-05-26T10:13:01.152Z"
   },
   {
    "duration": 4334,
    "start_time": "2023-05-26T10:13:01.572Z"
   },
   {
    "duration": 7,
    "start_time": "2023-05-26T10:14:11.067Z"
   },
   {
    "duration": 84,
    "start_time": "2023-05-26T10:22:52.040Z"
   },
   {
    "duration": 79,
    "start_time": "2023-05-26T10:22:57.833Z"
   },
   {
    "duration": 31,
    "start_time": "2023-05-26T10:23:14.495Z"
   },
   {
    "duration": 4,
    "start_time": "2023-05-26T10:23:50.225Z"
   },
   {
    "duration": 6603,
    "start_time": "2023-05-26T10:23:50.851Z"
   },
   {
    "duration": 77,
    "start_time": "2023-05-26T10:33:19.782Z"
   },
   {
    "duration": 15,
    "start_time": "2023-05-26T10:33:25.966Z"
   },
   {
    "duration": 415,
    "start_time": "2023-05-26T10:34:03.071Z"
   },
   {
    "duration": 191,
    "start_time": "2023-05-26T10:36:07.735Z"
   },
   {
    "duration": 633,
    "start_time": "2023-05-26T10:36:18.999Z"
   },
   {
    "duration": 702,
    "start_time": "2023-05-26T10:36:37.039Z"
   },
   {
    "duration": 764,
    "start_time": "2023-05-26T10:36:42.759Z"
   },
   {
    "duration": 589,
    "start_time": "2023-05-26T10:36:47.933Z"
   },
   {
    "duration": 763,
    "start_time": "2023-05-26T10:36:57.302Z"
   },
   {
    "duration": 895,
    "start_time": "2023-05-26T11:04:06.033Z"
   },
   {
    "duration": 8,
    "start_time": "2023-05-26T11:08:24.326Z"
   },
   {
    "duration": 245,
    "start_time": "2023-05-26T11:08:29.870Z"
   },
   {
    "duration": 1054,
    "start_time": "2023-05-26T11:11:14.942Z"
   },
   {
    "duration": 16,
    "start_time": "2023-05-26T11:11:27.023Z"
   },
   {
    "duration": 9,
    "start_time": "2023-05-26T11:11:38.885Z"
   },
   {
    "duration": 30508,
    "start_time": "2023-05-26T11:12:00.925Z"
   },
   {
    "duration": 341,
    "start_time": "2023-05-26T11:14:14.430Z"
   },
   {
    "duration": 240,
    "start_time": "2023-05-26T11:15:05.566Z"
   },
   {
    "duration": 715,
    "start_time": "2023-05-26T11:15:25.557Z"
   },
   {
    "duration": 4,
    "start_time": "2023-05-26T11:15:33.293Z"
   },
   {
    "duration": 253,
    "start_time": "2023-05-26T11:15:34.206Z"
   },
   {
    "duration": 13,
    "start_time": "2023-05-26T11:16:13.644Z"
   },
   {
    "duration": 6168,
    "start_time": "2023-05-26T11:16:14.438Z"
   },
   {
    "duration": 4,
    "start_time": "2023-05-26T11:16:56.524Z"
   },
   {
    "duration": 5475,
    "start_time": "2023-05-26T11:17:06.455Z"
   },
   {
    "duration": 3,
    "start_time": "2023-05-26T13:04:10.539Z"
   },
   {
    "duration": 4821,
    "start_time": "2023-05-26T13:04:11.914Z"
   },
   {
    "duration": 218,
    "start_time": "2023-05-26T13:05:17.420Z"
   },
   {
    "duration": 15,
    "start_time": "2023-05-26T13:05:37.124Z"
   },
   {
    "duration": 2803,
    "start_time": "2023-05-26T13:06:03.435Z"
   },
   {
    "duration": 2806,
    "start_time": "2023-05-26T13:06:25.108Z"
   },
   {
    "duration": 18,
    "start_time": "2023-05-26T13:06:47.196Z"
   },
   {
    "duration": 2733,
    "start_time": "2023-05-26T13:07:29.505Z"
   },
   {
    "duration": 2567,
    "start_time": "2023-05-26T13:07:34.834Z"
   },
   {
    "duration": 2492,
    "start_time": "2023-05-26T13:08:53.604Z"
   },
   {
    "duration": 20,
    "start_time": "2023-05-26T13:09:55.601Z"
   },
   {
    "duration": 0,
    "start_time": "2023-05-26T13:10:47.631Z"
   },
   {
    "duration": 16,
    "start_time": "2023-05-26T13:10:50.041Z"
   },
   {
    "duration": 1571,
    "start_time": "2023-05-26T13:11:22.209Z"
   },
   {
    "duration": 3,
    "start_time": "2023-05-26T13:11:39.441Z"
   },
   {
    "duration": 3,
    "start_time": "2023-05-26T13:13:05.139Z"
   },
   {
    "duration": 5815,
    "start_time": "2023-05-26T13:13:07.907Z"
   },
   {
    "duration": 5,
    "start_time": "2023-05-26T13:18:23.560Z"
   },
   {
    "duration": 6228,
    "start_time": "2023-05-26T13:18:24.018Z"
   },
   {
    "duration": 3,
    "start_time": "2023-05-26T13:19:22.240Z"
   },
   {
    "duration": 256,
    "start_time": "2023-05-26T13:19:22.245Z"
   },
   {
    "duration": 6,
    "start_time": "2023-05-26T13:19:22.503Z"
   },
   {
    "duration": 5259,
    "start_time": "2023-05-26T13:19:22.511Z"
   },
   {
    "duration": 4,
    "start_time": "2023-05-26T13:26:18.127Z"
   },
   {
    "duration": 7758,
    "start_time": "2023-05-26T13:26:18.502Z"
   },
   {
    "duration": 8,
    "start_time": "2023-05-26T13:27:30.034Z"
   },
   {
    "duration": 16,
    "start_time": "2023-05-26T13:27:41.506Z"
   },
   {
    "duration": 2568,
    "start_time": "2023-05-26T13:27:58.709Z"
   },
   {
    "duration": 13,
    "start_time": "2023-05-26T13:29:28.589Z"
   },
   {
    "duration": 14,
    "start_time": "2023-05-26T13:29:36.006Z"
   },
   {
    "duration": 3,
    "start_time": "2023-05-26T13:54:55.854Z"
   },
   {
    "duration": 13,
    "start_time": "2023-05-26T13:56:59.947Z"
   },
   {
    "duration": 25,
    "start_time": "2023-05-26T13:57:09.647Z"
   },
   {
    "duration": 17,
    "start_time": "2023-05-26T13:57:31.894Z"
   },
   {
    "duration": 25,
    "start_time": "2023-05-26T13:57:34.550Z"
   },
   {
    "duration": 605,
    "start_time": "2023-05-26T13:57:58.406Z"
   },
   {
    "duration": 189,
    "start_time": "2023-05-26T13:58:51.146Z"
   },
   {
    "duration": 304,
    "start_time": "2023-05-26T13:59:10.413Z"
   },
   {
    "duration": 413,
    "start_time": "2023-06-02T11:51:32.067Z"
   },
   {
    "duration": 863,
    "start_time": "2023-06-02T11:51:32.663Z"
   },
   {
    "duration": 67,
    "start_time": "2023-06-02T11:51:34.165Z"
   },
   {
    "duration": 4,
    "start_time": "2023-06-02T11:51:43.892Z"
   },
   {
    "duration": 5958,
    "start_time": "2023-06-02T11:51:46.559Z"
   },
   {
    "duration": 169,
    "start_time": "2023-06-02T11:51:52.555Z"
   },
   {
    "duration": 2408,
    "start_time": "2023-06-02T11:52:13.544Z"
   },
   {
    "duration": 27,
    "start_time": "2023-06-02T11:54:52.180Z"
   },
   {
    "duration": 5492,
    "start_time": "2023-06-02T11:57:31.759Z"
   },
   {
    "duration": 8,
    "start_time": "2023-06-02T11:58:11.767Z"
   },
   {
    "duration": 177,
    "start_time": "2023-06-02T11:58:20.271Z"
   },
   {
    "duration": 213,
    "start_time": "2023-06-02T12:00:00.187Z"
   },
   {
    "duration": 551,
    "start_time": "2023-06-02T12:00:12.263Z"
   },
   {
    "duration": 245,
    "start_time": "2023-06-02T12:00:19.751Z"
   },
   {
    "duration": 246,
    "start_time": "2023-06-02T12:00:42.125Z"
   },
   {
    "duration": 135,
    "start_time": "2023-06-02T12:00:47.915Z"
   },
   {
    "duration": 263,
    "start_time": "2023-06-02T12:01:49.062Z"
   },
   {
    "duration": 2013,
    "start_time": "2023-06-02T12:02:57.402Z"
   },
   {
    "duration": 154,
    "start_time": "2023-06-02T12:02:59.417Z"
   },
   {
    "duration": 148,
    "start_time": "2023-06-02T12:02:59.590Z"
   },
   {
    "duration": 273,
    "start_time": "2023-06-02T12:03:17.402Z"
   },
   {
    "duration": 209,
    "start_time": "2023-06-02T12:03:41.374Z"
   },
   {
    "duration": 218,
    "start_time": "2023-06-02T12:03:52.010Z"
   },
   {
    "duration": 28,
    "start_time": "2023-06-02T12:05:27.722Z"
   },
   {
    "duration": 150,
    "start_time": "2023-06-02T12:05:56.921Z"
   },
   {
    "duration": 225,
    "start_time": "2023-06-02T12:06:04.864Z"
   },
   {
    "duration": 260,
    "start_time": "2023-06-02T12:06:11.514Z"
   },
   {
    "duration": 262,
    "start_time": "2023-06-02T12:06:35.109Z"
   },
   {
    "duration": 2163,
    "start_time": "2023-06-02T12:07:54.826Z"
   },
   {
    "duration": 466,
    "start_time": "2023-06-02T12:08:34.176Z"
   },
   {
    "duration": 437,
    "start_time": "2023-06-02T12:10:54.721Z"
   },
   {
    "duration": 460,
    "start_time": "2023-06-02T12:11:05.203Z"
   },
   {
    "duration": 362,
    "start_time": "2023-06-02T12:11:12.201Z"
   },
   {
    "duration": 139,
    "start_time": "2023-06-02T12:11:46.793Z"
   },
   {
    "duration": 139,
    "start_time": "2023-06-02T12:12:42.580Z"
   },
   {
    "duration": 133,
    "start_time": "2023-06-02T12:14:02.232Z"
   },
   {
    "duration": 383,
    "start_time": "2023-06-02T12:15:24.684Z"
   },
   {
    "duration": 515,
    "start_time": "2023-06-02T12:15:33.093Z"
   },
   {
    "duration": 2443,
    "start_time": "2023-06-02T12:16:55.158Z"
   },
   {
    "duration": 564,
    "start_time": "2023-06-02T12:54:55.467Z"
   },
   {
    "duration": 1628,
    "start_time": "2023-06-02T12:55:08.680Z"
   },
   {
    "duration": 9,
    "start_time": "2023-06-02T13:09:39.555Z"
   },
   {
    "duration": 4482,
    "start_time": "2023-06-02T13:09:40.062Z"
   },
   {
    "duration": 7,
    "start_time": "2023-06-02T13:10:43.269Z"
   },
   {
    "duration": 7234,
    "start_time": "2023-06-02T13:10:43.590Z"
   },
   {
    "duration": 7,
    "start_time": "2023-06-02T13:12:09.318Z"
   },
   {
    "duration": 6566,
    "start_time": "2023-06-02T13:12:09.760Z"
   },
   {
    "duration": 8,
    "start_time": "2023-06-02T13:12:36.213Z"
   },
   {
    "duration": 5264,
    "start_time": "2023-06-02T13:12:36.622Z"
   },
   {
    "duration": 12,
    "start_time": "2023-06-02T13:12:53.453Z"
   },
   {
    "duration": 4552,
    "start_time": "2023-06-02T13:12:54.054Z"
   },
   {
    "duration": 6,
    "start_time": "2023-06-02T13:13:23.076Z"
   },
   {
    "duration": 4556,
    "start_time": "2023-06-02T13:13:23.474Z"
   },
   {
    "duration": 5,
    "start_time": "2023-06-02T13:13:39.776Z"
   },
   {
    "duration": 4410,
    "start_time": "2023-06-02T13:13:40.190Z"
   },
   {
    "duration": 7,
    "start_time": "2023-06-02T13:14:50.153Z"
   },
   {
    "duration": 339,
    "start_time": "2023-06-02T13:14:52.154Z"
   },
   {
    "duration": 7,
    "start_time": "2023-06-02T13:15:18.660Z"
   },
   {
    "duration": 356,
    "start_time": "2023-06-02T13:15:19.353Z"
   },
   {
    "duration": 7,
    "start_time": "2023-06-02T13:15:42.678Z"
   },
   {
    "duration": 6109,
    "start_time": "2023-06-02T13:15:43.074Z"
   },
   {
    "duration": 7,
    "start_time": "2023-06-02T13:16:38.165Z"
   },
   {
    "duration": 2321,
    "start_time": "2023-06-02T13:16:38.656Z"
   },
   {
    "duration": 4,
    "start_time": "2023-06-02T13:16:46.627Z"
   },
   {
    "duration": 6227,
    "start_time": "2023-06-02T13:16:47.054Z"
   },
   {
    "duration": 6,
    "start_time": "2023-06-02T13:17:09.375Z"
   },
   {
    "duration": 6177,
    "start_time": "2023-06-02T13:17:09.822Z"
   },
   {
    "duration": 6,
    "start_time": "2023-06-02T13:17:32.879Z"
   },
   {
    "duration": 7137,
    "start_time": "2023-06-02T13:17:37.221Z"
   },
   {
    "duration": 6,
    "start_time": "2023-06-02T13:18:29.545Z"
   },
   {
    "duration": 9432,
    "start_time": "2023-06-02T13:18:31.069Z"
   },
   {
    "duration": 5,
    "start_time": "2023-06-02T13:19:08.707Z"
   },
   {
    "duration": 10141,
    "start_time": "2023-06-02T13:19:09.156Z"
   },
   {
    "duration": 4,
    "start_time": "2023-06-02T13:19:37.139Z"
   },
   {
    "duration": 10,
    "start_time": "2023-06-02T13:19:44.055Z"
   },
   {
    "duration": 9203,
    "start_time": "2023-06-02T13:19:44.428Z"
   },
   {
    "duration": 7,
    "start_time": "2023-06-02T13:20:09.953Z"
   },
   {
    "duration": 9663,
    "start_time": "2023-06-02T13:20:10.374Z"
   },
   {
    "duration": 4,
    "start_time": "2023-06-02T13:22:24.299Z"
   },
   {
    "duration": 115,
    "start_time": "2023-06-02T13:22:25.012Z"
   },
   {
    "duration": 8,
    "start_time": "2023-06-02T13:22:29.759Z"
   },
   {
    "duration": 243,
    "start_time": "2023-06-02T13:22:31.587Z"
   },
   {
    "duration": 5580,
    "start_time": "2023-06-02T13:22:56.403Z"
   },
   {
    "duration": 4,
    "start_time": "2023-06-02T13:23:13.610Z"
   },
   {
    "duration": 9515,
    "start_time": "2023-06-02T13:23:16.760Z"
   },
   {
    "duration": 4,
    "start_time": "2023-06-02T13:24:02.002Z"
   },
   {
    "duration": 9602,
    "start_time": "2023-06-02T13:24:05.306Z"
   },
   {
    "duration": 3,
    "start_time": "2023-06-02T13:54:52.833Z"
   },
   {
    "duration": 3,
    "start_time": "2023-06-02T13:54:59.684Z"
   },
   {
    "duration": 4,
    "start_time": "2023-06-02T13:56:35.737Z"
   },
   {
    "duration": 7493,
    "start_time": "2023-06-02T13:56:40.444Z"
   },
   {
    "duration": 4,
    "start_time": "2023-06-02T13:57:32.531Z"
   },
   {
    "duration": 7011,
    "start_time": "2023-06-02T13:57:36.555Z"
   },
   {
    "duration": 4,
    "start_time": "2023-06-02T13:59:23.628Z"
   },
   {
    "duration": 2029,
    "start_time": "2023-06-02T13:59:27.235Z"
   },
   {
    "duration": 4,
    "start_time": "2023-06-02T14:00:41.644Z"
   },
   {
    "duration": 745,
    "start_time": "2023-06-02T14:00:45.643Z"
   },
   {
    "duration": 4,
    "start_time": "2023-06-02T14:02:15.099Z"
   },
   {
    "duration": 9876,
    "start_time": "2023-06-02T14:02:19.034Z"
   },
   {
    "duration": 5,
    "start_time": "2023-06-02T14:02:40.306Z"
   },
   {
    "duration": 8722,
    "start_time": "2023-06-02T14:02:43.642Z"
   },
   {
    "duration": 4,
    "start_time": "2023-06-02T14:03:39.018Z"
   },
   {
    "duration": 7167,
    "start_time": "2023-06-02T14:03:42.250Z"
   },
   {
    "duration": 4,
    "start_time": "2023-06-02T14:04:12.870Z"
   },
   {
    "duration": 7340,
    "start_time": "2023-06-02T14:04:16.434Z"
   },
   {
    "duration": 4,
    "start_time": "2023-06-02T14:05:24.394Z"
   },
   {
    "duration": 8018,
    "start_time": "2023-06-02T14:05:28.202Z"
   },
   {
    "duration": 184,
    "start_time": "2023-06-02T14:10:01.083Z"
   },
   {
    "duration": 8267,
    "start_time": "2023-06-02T14:10:24.320Z"
   },
   {
    "duration": 17,
    "start_time": "2023-06-02T14:11:25.441Z"
   },
   {
    "duration": 111,
    "start_time": "2023-06-02T14:17:28.336Z"
   },
   {
    "duration": 10,
    "start_time": "2023-06-02T14:17:28.832Z"
   },
   {
    "duration": 4,
    "start_time": "2023-06-02T14:17:32.606Z"
   },
   {
    "duration": 17,
    "start_time": "2023-06-02T14:17:33.136Z"
   },
   {
    "duration": 18,
    "start_time": "2023-06-02T14:17:33.967Z"
   },
   {
    "duration": 15,
    "start_time": "2023-06-02T14:34:53.956Z"
   },
   {
    "duration": 16,
    "start_time": "2023-06-02T14:35:20.484Z"
   },
   {
    "duration": 13,
    "start_time": "2023-06-02T14:35:22.542Z"
   },
   {
    "duration": 4,
    "start_time": "2023-06-02T15:52:42.732Z"
   },
   {
    "duration": 79,
    "start_time": "2023-06-02T15:52:43.211Z"
   },
   {
    "duration": 4,
    "start_time": "2023-06-02T15:53:56.795Z"
   },
   {
    "duration": 86,
    "start_time": "2023-06-02T15:53:57.362Z"
   },
   {
    "duration": 4,
    "start_time": "2023-06-02T15:54:42.843Z"
   },
   {
    "duration": 102,
    "start_time": "2023-06-02T15:54:43.444Z"
   },
   {
    "duration": 4,
    "start_time": "2023-06-02T15:56:21.802Z"
   },
   {
    "duration": 54,
    "start_time": "2023-06-02T15:56:22.162Z"
   },
   {
    "duration": 30,
    "start_time": "2023-06-02T15:56:22.690Z"
   },
   {
    "duration": 7,
    "start_time": "2023-06-02T15:57:15.978Z"
   },
   {
    "duration": 20,
    "start_time": "2023-06-02T16:01:40.053Z"
   },
   {
    "duration": 4,
    "start_time": "2023-06-02T16:01:58.039Z"
   },
   {
    "duration": 16,
    "start_time": "2023-06-02T16:02:56.477Z"
   },
   {
    "duration": 5,
    "start_time": "2023-06-02T16:03:02.482Z"
   },
   {
    "duration": 3,
    "start_time": "2023-06-02T16:04:44.534Z"
   },
   {
    "duration": 294,
    "start_time": "2023-06-02T16:04:44.539Z"
   },
   {
    "duration": 3,
    "start_time": "2023-06-02T16:04:44.835Z"
   },
   {
    "duration": 9,
    "start_time": "2023-06-02T16:04:44.840Z"
   },
   {
    "duration": 271,
    "start_time": "2023-06-02T16:04:44.851Z"
   },
   {
    "duration": 196,
    "start_time": "2023-06-02T16:04:45.124Z"
   },
   {
    "duration": 9492,
    "start_time": "2023-06-02T16:04:45.322Z"
   },
   {
    "duration": 9405,
    "start_time": "2023-06-02T16:04:54.815Z"
   },
   {
    "duration": 3,
    "start_time": "2023-06-02T16:05:04.222Z"
   },
   {
    "duration": 35,
    "start_time": "2023-06-02T16:05:04.227Z"
   },
   {
    "duration": 23,
    "start_time": "2023-06-02T16:05:04.264Z"
   },
   {
    "duration": 26,
    "start_time": "2023-06-02T16:05:23.341Z"
   },
   {
    "duration": 34,
    "start_time": "2023-06-02T16:05:29.879Z"
   },
   {
    "duration": 9,
    "start_time": "2023-06-02T16:06:19.691Z"
   },
   {
    "duration": 43,
    "start_time": "2023-06-02T16:06:27.238Z"
   },
   {
    "duration": 228,
    "start_time": "2023-06-02T16:08:51.841Z"
   },
   {
    "duration": 7,
    "start_time": "2023-06-02T16:31:19.968Z"
   },
   {
    "duration": 11,
    "start_time": "2023-06-02T16:34:00.922Z"
   },
   {
    "duration": 933,
    "start_time": "2023-06-02T16:34:27.459Z"
   },
   {
    "duration": 80,
    "start_time": "2023-06-02T16:34:35.246Z"
   },
   {
    "duration": 4,
    "start_time": "2023-06-02T16:35:36.297Z"
   },
   {
    "duration": 12,
    "start_time": "2023-06-02T16:35:36.896Z"
   },
   {
    "duration": 17,
    "start_time": "2023-06-02T16:35:49.603Z"
   },
   {
    "duration": 5,
    "start_time": "2023-06-02T16:36:02.336Z"
   },
   {
    "duration": 38,
    "start_time": "2023-06-02T16:36:02.794Z"
   },
   {
    "duration": 6,
    "start_time": "2023-06-02T16:36:16.745Z"
   },
   {
    "duration": 490,
    "start_time": "2023-06-02T16:36:17.226Z"
   },
   {
    "duration": 227,
    "start_time": "2023-06-02T16:36:30.755Z"
   },
   {
    "duration": 285,
    "start_time": "2023-06-02T16:36:37.137Z"
   },
   {
    "duration": 247,
    "start_time": "2023-06-02T16:38:42.578Z"
   },
   {
    "duration": 4,
    "start_time": "2023-06-02T16:39:17.634Z"
   },
   {
    "duration": 39,
    "start_time": "2023-06-02T16:39:17.641Z"
   },
   {
    "duration": 4,
    "start_time": "2023-06-02T16:39:44.426Z"
   },
   {
    "duration": 18,
    "start_time": "2023-06-02T16:39:44.916Z"
   },
   {
    "duration": 4,
    "start_time": "2023-06-02T16:39:50.441Z"
   },
   {
    "duration": 19,
    "start_time": "2023-06-02T16:39:50.447Z"
   },
   {
    "duration": 225,
    "start_time": "2023-06-02T16:39:50.470Z"
   },
   {
    "duration": 3,
    "start_time": "2023-06-02T16:39:50.697Z"
   },
   {
    "duration": 20,
    "start_time": "2023-06-02T16:39:50.702Z"
   },
   {
    "duration": 267,
    "start_time": "2023-06-02T16:39:50.723Z"
   },
   {
    "duration": 202,
    "start_time": "2023-06-02T16:39:50.992Z"
   },
   {
    "duration": 8534,
    "start_time": "2023-06-02T16:39:51.196Z"
   },
   {
    "duration": 8298,
    "start_time": "2023-06-02T16:39:59.732Z"
   },
   {
    "duration": 4,
    "start_time": "2023-06-02T16:40:08.033Z"
   },
   {
    "duration": 50,
    "start_time": "2023-06-02T16:40:08.039Z"
   },
   {
    "duration": 13,
    "start_time": "2023-06-02T16:40:08.091Z"
   },
   {
    "duration": 13,
    "start_time": "2023-06-02T16:40:08.105Z"
   },
   {
    "duration": 18,
    "start_time": "2023-06-02T16:40:08.120Z"
   },
   {
    "duration": 20,
    "start_time": "2023-06-02T16:40:08.140Z"
   },
   {
    "duration": 61,
    "start_time": "2023-06-02T16:40:08.167Z"
   },
   {
    "duration": 41,
    "start_time": "2023-06-02T16:40:08.230Z"
   },
   {
    "duration": 8,
    "start_time": "2023-06-02T16:40:08.272Z"
   },
   {
    "duration": 7,
    "start_time": "2023-06-02T16:40:08.282Z"
   },
   {
    "duration": 5,
    "start_time": "2023-06-02T16:40:08.290Z"
   },
   {
    "duration": 5,
    "start_time": "2023-06-02T16:40:55.094Z"
   },
   {
    "duration": 376,
    "start_time": "2023-06-02T16:40:55.776Z"
   },
   {
    "duration": 5,
    "start_time": "2023-06-02T16:41:48.574Z"
   },
   {
    "duration": 22,
    "start_time": "2023-06-02T16:41:48.954Z"
   },
   {
    "duration": 4,
    "start_time": "2023-06-02T16:41:53.553Z"
   },
   {
    "duration": 15,
    "start_time": "2023-06-02T16:41:53.559Z"
   },
   {
    "duration": 228,
    "start_time": "2023-06-02T16:41:53.576Z"
   },
   {
    "duration": 3,
    "start_time": "2023-06-02T16:41:53.806Z"
   },
   {
    "duration": 18,
    "start_time": "2023-06-02T16:41:53.812Z"
   },
   {
    "duration": 254,
    "start_time": "2023-06-02T16:41:53.832Z"
   },
   {
    "duration": 186,
    "start_time": "2023-06-02T16:41:54.088Z"
   },
   {
    "duration": 8255,
    "start_time": "2023-06-02T16:41:54.276Z"
   },
   {
    "duration": 8164,
    "start_time": "2023-06-02T16:42:02.533Z"
   },
   {
    "duration": 3,
    "start_time": "2023-06-02T16:42:10.700Z"
   },
   {
    "duration": 19,
    "start_time": "2023-06-02T16:42:10.705Z"
   },
   {
    "duration": 36,
    "start_time": "2023-06-02T16:42:10.726Z"
   },
   {
    "duration": 12,
    "start_time": "2023-06-02T16:42:10.764Z"
   },
   {
    "duration": 23,
    "start_time": "2023-06-02T16:42:10.779Z"
   },
   {
    "duration": 3,
    "start_time": "2023-06-02T16:42:10.804Z"
   },
   {
    "duration": 78,
    "start_time": "2023-06-02T16:42:10.809Z"
   },
   {
    "duration": 35,
    "start_time": "2023-06-02T16:42:10.889Z"
   },
   {
    "duration": 32,
    "start_time": "2023-06-02T16:42:10.926Z"
   },
   {
    "duration": 6,
    "start_time": "2023-06-02T16:42:10.960Z"
   },
   {
    "duration": 6,
    "start_time": "2023-06-02T16:42:10.968Z"
   },
   {
    "duration": 6,
    "start_time": "2023-06-02T16:42:24.514Z"
   },
   {
    "duration": 677,
    "start_time": "2023-06-02T16:42:25.002Z"
   },
   {
    "duration": 325,
    "start_time": "2023-06-02T16:42:26.933Z"
   },
   {
    "duration": 270,
    "start_time": "2023-06-02T16:42:50.417Z"
   },
   {
    "duration": 14,
    "start_time": "2023-06-02T17:01:15.574Z"
   },
   {
    "duration": 295,
    "start_time": "2023-06-02T17:01:33.551Z"
   },
   {
    "duration": 3,
    "start_time": "2023-06-02T17:02:49.845Z"
   },
   {
    "duration": 7,
    "start_time": "2023-06-02T17:02:49.850Z"
   },
   {
    "duration": 236,
    "start_time": "2023-06-02T17:02:49.859Z"
   },
   {
    "duration": 3,
    "start_time": "2023-06-02T17:02:50.097Z"
   },
   {
    "duration": 7,
    "start_time": "2023-06-02T17:02:50.103Z"
   },
   {
    "duration": 231,
    "start_time": "2023-06-02T17:02:50.112Z"
   },
   {
    "duration": 176,
    "start_time": "2023-06-02T17:02:50.346Z"
   },
   {
    "duration": 7849,
    "start_time": "2023-06-02T17:02:50.523Z"
   },
   {
    "duration": 7795,
    "start_time": "2023-06-02T17:02:58.375Z"
   },
   {
    "duration": 3,
    "start_time": "2023-06-02T17:03:06.172Z"
   },
   {
    "duration": 22,
    "start_time": "2023-06-02T17:03:06.177Z"
   },
   {
    "duration": 14,
    "start_time": "2023-06-02T17:03:06.200Z"
   },
   {
    "duration": 43,
    "start_time": "2023-06-02T17:03:06.216Z"
   },
   {
    "duration": 26,
    "start_time": "2023-06-02T17:03:06.263Z"
   },
   {
    "duration": 4,
    "start_time": "2023-06-02T17:03:06.291Z"
   },
   {
    "duration": 72,
    "start_time": "2023-06-02T17:03:06.296Z"
   },
   {
    "duration": 31,
    "start_time": "2023-06-02T17:03:06.370Z"
   },
   {
    "duration": 8,
    "start_time": "2023-06-02T17:03:06.403Z"
   },
   {
    "duration": 5,
    "start_time": "2023-06-02T17:03:06.412Z"
   },
   {
    "duration": 6,
    "start_time": "2023-06-02T17:03:06.419Z"
   },
   {
    "duration": 665,
    "start_time": "2023-06-02T17:03:06.426Z"
   },
   {
    "duration": 281,
    "start_time": "2023-06-02T17:03:07.093Z"
   },
   {
    "duration": 289,
    "start_time": "2023-06-02T17:03:30.589Z"
   },
   {
    "duration": 289,
    "start_time": "2023-06-02T17:04:18.381Z"
   },
   {
    "duration": 11,
    "start_time": "2023-06-02T17:06:51.966Z"
   },
   {
    "duration": 11,
    "start_time": "2023-06-02T17:07:08.354Z"
   },
   {
    "duration": 13,
    "start_time": "2023-06-02T17:07:11.926Z"
   },
   {
    "duration": 72,
    "start_time": "2023-06-02T17:07:47.822Z"
   },
   {
    "duration": 11,
    "start_time": "2023-06-02T17:09:34.670Z"
   },
   {
    "duration": 3,
    "start_time": "2023-06-02T17:09:55.844Z"
   },
   {
    "duration": 207,
    "start_time": "2023-06-02T17:10:01.421Z"
   },
   {
    "duration": 3,
    "start_time": "2023-06-02T17:10:04.708Z"
   },
   {
    "duration": 380,
    "start_time": "2023-06-02T17:10:05.133Z"
   },
   {
    "duration": 330,
    "start_time": "2023-06-02T17:10:11.766Z"
   },
   {
    "duration": 5,
    "start_time": "2023-06-02T17:11:28.804Z"
   },
   {
    "duration": 5,
    "start_time": "2023-06-02T17:11:37.715Z"
   },
   {
    "duration": 5,
    "start_time": "2023-06-02T17:13:46.475Z"
   },
   {
    "duration": 4,
    "start_time": "2023-06-02T17:13:46.871Z"
   },
   {
    "duration": 282,
    "start_time": "2023-06-02T17:13:47.348Z"
   },
   {
    "duration": 6,
    "start_time": "2023-06-02T17:14:10.865Z"
   },
   {
    "duration": 633,
    "start_time": "2023-06-02T17:14:22.099Z"
   },
   {
    "duration": 1525,
    "start_time": "2023-06-04T17:45:58.503Z"
   },
   {
    "duration": 4,
    "start_time": "2023-06-04T17:46:00.029Z"
   },
   {
    "duration": 1576,
    "start_time": "2023-06-04T17:46:00.034Z"
   },
   {
    "duration": 4,
    "start_time": "2023-06-04T17:46:01.612Z"
   },
   {
    "duration": 17,
    "start_time": "2023-06-04T17:46:01.617Z"
   },
   {
    "duration": 232,
    "start_time": "2023-06-04T17:46:01.636Z"
   },
   {
    "duration": 158,
    "start_time": "2023-06-04T17:46:01.869Z"
   },
   {
    "duration": 6915,
    "start_time": "2023-06-04T17:46:02.029Z"
   },
   {
    "duration": 6883,
    "start_time": "2023-06-04T17:46:08.945Z"
   },
   {
    "duration": 3,
    "start_time": "2023-06-04T17:46:15.830Z"
   },
   {
    "duration": 33,
    "start_time": "2023-06-04T17:46:15.835Z"
   },
   {
    "duration": 14,
    "start_time": "2023-06-04T17:46:15.870Z"
   },
   {
    "duration": 32,
    "start_time": "2023-06-04T17:46:15.885Z"
   },
   {
    "duration": 22,
    "start_time": "2023-06-04T17:46:15.919Z"
   },
   {
    "duration": 3,
    "start_time": "2023-06-04T17:46:15.943Z"
   },
   {
    "duration": 74,
    "start_time": "2023-06-04T17:46:15.948Z"
   },
   {
    "duration": 30,
    "start_time": "2023-06-04T17:46:16.024Z"
   },
   {
    "duration": 23,
    "start_time": "2023-06-04T17:46:16.056Z"
   },
   {
    "duration": 22,
    "start_time": "2023-06-04T17:46:16.080Z"
   },
   {
    "duration": 106,
    "start_time": "2023-06-04T17:46:16.104Z"
   },
   {
    "duration": 3,
    "start_time": "2023-06-04T17:46:32.051Z"
   },
   {
    "duration": 6,
    "start_time": "2023-06-04T17:47:06.236Z"
   },
   {
    "duration": 4,
    "start_time": "2023-06-04T17:52:01.859Z"
   },
   {
    "duration": 134,
    "start_time": "2023-06-04T17:54:39.502Z"
   },
   {
    "duration": 115,
    "start_time": "2023-06-04T17:54:49.584Z"
   },
   {
    "duration": 111,
    "start_time": "2023-06-04T17:55:34.949Z"
   },
   {
    "duration": 3,
    "start_time": "2023-06-04T17:56:03.260Z"
   },
   {
    "duration": 64,
    "start_time": "2023-06-04T17:56:29.206Z"
   },
   {
    "duration": 36,
    "start_time": "2023-06-04T17:56:37.203Z"
   },
   {
    "duration": 59,
    "start_time": "2023-06-04T17:57:16.768Z"
   },
   {
    "duration": 36,
    "start_time": "2023-06-04T17:57:18.957Z"
   },
   {
    "duration": 24,
    "start_time": "2023-06-04T17:57:57.898Z"
   },
   {
    "duration": 6,
    "start_time": "2023-06-04T17:58:35.368Z"
   },
   {
    "duration": 27,
    "start_time": "2023-06-04T17:58:54.244Z"
   },
   {
    "duration": 5,
    "start_time": "2023-06-04T17:59:14.233Z"
   },
   {
    "duration": 40,
    "start_time": "2023-06-04T17:59:24.282Z"
   },
   {
    "duration": 9,
    "start_time": "2023-06-04T18:00:00.716Z"
   },
   {
    "duration": 18,
    "start_time": "2023-06-04T18:00:06.660Z"
   },
   {
    "duration": 6,
    "start_time": "2023-06-04T18:00:37.747Z"
   },
   {
    "duration": 7,
    "start_time": "2023-06-04T18:01:30.376Z"
   },
   {
    "duration": 8,
    "start_time": "2023-06-04T18:01:55.192Z"
   },
   {
    "duration": 9,
    "start_time": "2023-06-04T18:02:39.236Z"
   },
   {
    "duration": 8,
    "start_time": "2023-06-04T18:03:08.415Z"
   },
   {
    "duration": 8,
    "start_time": "2023-06-04T18:03:20.820Z"
   },
   {
    "duration": 13,
    "start_time": "2023-06-04T18:05:16.286Z"
   },
   {
    "duration": 31,
    "start_time": "2023-06-04T18:05:26.147Z"
   },
   {
    "duration": 32,
    "start_time": "2023-06-04T18:05:49.941Z"
   },
   {
    "duration": 45,
    "start_time": "2023-06-04T18:05:57.217Z"
   },
   {
    "duration": 60,
    "start_time": "2023-06-04T18:06:11.855Z"
   },
   {
    "duration": 39,
    "start_time": "2023-06-04T18:06:12.977Z"
   },
   {
    "duration": 44,
    "start_time": "2023-06-04T18:06:27.870Z"
   },
   {
    "duration": 67,
    "start_time": "2023-06-04T18:07:14.500Z"
   },
   {
    "duration": 36,
    "start_time": "2023-06-04T18:07:48.778Z"
   },
   {
    "duration": 45,
    "start_time": "2023-06-04T18:07:53.426Z"
   },
   {
    "duration": 34,
    "start_time": "2023-06-04T18:07:54.117Z"
   },
   {
    "duration": 27,
    "start_time": "2023-06-04T18:08:39.306Z"
   },
   {
    "duration": 34,
    "start_time": "2023-06-04T18:08:41.614Z"
   },
   {
    "duration": 25,
    "start_time": "2023-06-04T18:08:54.897Z"
   },
   {
    "duration": 3,
    "start_time": "2023-06-04T18:11:49.949Z"
   },
   {
    "duration": 25,
    "start_time": "2023-06-04T18:12:21.014Z"
   },
   {
    "duration": 37,
    "start_time": "2023-06-04T18:12:29.520Z"
   },
   {
    "duration": 8,
    "start_time": "2023-06-04T18:23:51.868Z"
   },
   {
    "duration": 63,
    "start_time": "2023-06-04T18:23:59.110Z"
   },
   {
    "duration": 3,
    "start_time": "2023-06-04T18:24:09.567Z"
   },
   {
    "duration": 821,
    "start_time": "2023-06-04T18:24:10.337Z"
   },
   {
    "duration": 33,
    "start_time": "2023-06-04T18:24:20.394Z"
   },
   {
    "duration": 3,
    "start_time": "2023-06-04T18:24:30.444Z"
   },
   {
    "duration": 27,
    "start_time": "2023-06-04T18:24:30.449Z"
   },
   {
    "duration": 272,
    "start_time": "2023-06-04T18:24:30.478Z"
   },
   {
    "duration": 2,
    "start_time": "2023-06-04T18:24:30.752Z"
   },
   {
    "duration": 17,
    "start_time": "2023-06-04T18:24:30.756Z"
   },
   {
    "duration": 220,
    "start_time": "2023-06-04T18:24:30.775Z"
   },
   {
    "duration": 155,
    "start_time": "2023-06-04T18:24:30.997Z"
   },
   {
    "duration": 7697,
    "start_time": "2023-06-04T18:24:31.154Z"
   },
   {
    "duration": 7628,
    "start_time": "2023-06-04T18:24:38.854Z"
   },
   {
    "duration": 5,
    "start_time": "2023-06-04T18:24:46.485Z"
   },
   {
    "duration": 26,
    "start_time": "2023-06-04T18:24:46.493Z"
   },
   {
    "duration": 14,
    "start_time": "2023-06-04T18:24:46.521Z"
   },
   {
    "duration": 11,
    "start_time": "2023-06-04T18:24:46.537Z"
   },
   {
    "duration": 56,
    "start_time": "2023-06-04T18:24:46.549Z"
   },
   {
    "duration": 3,
    "start_time": "2023-06-04T18:24:46.607Z"
   },
   {
    "duration": 55,
    "start_time": "2023-06-04T18:24:46.611Z"
   },
   {
    "duration": 41,
    "start_time": "2023-06-04T18:24:46.678Z"
   },
   {
    "duration": 3,
    "start_time": "2023-06-04T18:24:46.721Z"
   },
   {
    "duration": 55,
    "start_time": "2023-06-04T18:24:46.726Z"
   },
   {
    "duration": 5,
    "start_time": "2023-06-04T18:24:46.784Z"
   },
   {
    "duration": 75,
    "start_time": "2023-06-04T18:24:46.791Z"
   },
   {
    "duration": 5,
    "start_time": "2023-06-04T18:24:46.868Z"
   },
   {
    "duration": 33,
    "start_time": "2023-06-04T18:24:46.878Z"
   },
   {
    "duration": 5,
    "start_time": "2023-06-04T18:24:46.914Z"
   },
   {
    "duration": 14,
    "start_time": "2023-06-04T18:24:46.921Z"
   },
   {
    "duration": 757,
    "start_time": "2023-06-04T18:24:46.937Z"
   },
   {
    "duration": 29,
    "start_time": "2023-06-04T18:24:51.941Z"
   },
   {
    "duration": 789,
    "start_time": "2023-06-04T18:24:55.316Z"
   },
   {
    "duration": 37,
    "start_time": "2023-06-04T18:24:56.659Z"
   },
   {
    "duration": 5,
    "start_time": "2023-06-04T18:26:54.320Z"
   },
   {
    "duration": 4,
    "start_time": "2023-06-04T18:27:01.372Z"
   },
   {
    "duration": 4,
    "start_time": "2023-06-04T18:27:31.542Z"
   },
   {
    "duration": 6,
    "start_time": "2023-06-04T18:27:50.155Z"
   },
   {
    "duration": 8,
    "start_time": "2023-06-04T18:28:02.144Z"
   },
   {
    "duration": 6,
    "start_time": "2023-06-04T18:28:08.612Z"
   },
   {
    "duration": 9,
    "start_time": "2023-06-04T18:28:19.127Z"
   },
   {
    "duration": 51,
    "start_time": "2023-06-04T18:28:27.574Z"
   },
   {
    "duration": 44,
    "start_time": "2023-06-04T18:28:43.042Z"
   },
   {
    "duration": 11,
    "start_time": "2023-06-04T18:31:39.054Z"
   },
   {
    "duration": 3,
    "start_time": "2023-06-04T18:31:40.118Z"
   },
   {
    "duration": 12,
    "start_time": "2023-06-04T18:31:45.552Z"
   },
   {
    "duration": 30,
    "start_time": "2023-06-04T18:31:55.410Z"
   },
   {
    "duration": 4,
    "start_time": "2023-06-04T18:34:38.123Z"
   },
   {
    "duration": 652,
    "start_time": "2023-06-04T18:34:38.855Z"
   },
   {
    "duration": 28,
    "start_time": "2023-06-04T18:34:39.828Z"
   },
   {
    "duration": 13,
    "start_time": "2023-06-04T18:36:43.824Z"
   },
   {
    "duration": 11,
    "start_time": "2023-06-04T18:37:02.488Z"
   },
   {
    "duration": 12,
    "start_time": "2023-06-04T18:37:28.893Z"
   },
   {
    "duration": 10,
    "start_time": "2023-06-04T18:37:52.922Z"
   },
   {
    "duration": 4,
    "start_time": "2023-06-04T18:38:42.522Z"
   },
   {
    "duration": 30,
    "start_time": "2023-06-04T18:38:45.884Z"
   },
   {
    "duration": 11,
    "start_time": "2023-06-04T18:38:59.765Z"
   },
   {
    "duration": 5,
    "start_time": "2023-06-04T18:40:08.972Z"
   },
   {
    "duration": 32,
    "start_time": "2023-06-04T18:40:11.523Z"
   },
   {
    "duration": 13,
    "start_time": "2023-06-04T18:40:18.071Z"
   },
   {
    "duration": 11,
    "start_time": "2023-06-04T18:40:29.858Z"
   },
   {
    "duration": 11,
    "start_time": "2023-06-04T18:41:13.328Z"
   },
   {
    "duration": 9,
    "start_time": "2023-06-04T18:42:09.341Z"
   },
   {
    "duration": 6,
    "start_time": "2023-06-04T18:42:15.427Z"
   },
   {
    "duration": 4,
    "start_time": "2023-06-04T18:43:00.305Z"
   },
   {
    "duration": 682,
    "start_time": "2023-06-04T18:43:00.703Z"
   },
   {
    "duration": 29,
    "start_time": "2023-06-04T18:43:01.387Z"
   },
   {
    "duration": 3,
    "start_time": "2023-06-04T18:43:22.949Z"
   },
   {
    "duration": 60,
    "start_time": "2023-06-04T18:43:23.919Z"
   },
   {
    "duration": 4,
    "start_time": "2023-06-04T18:46:26.571Z"
   },
   {
    "duration": 697,
    "start_time": "2023-06-04T18:46:27.639Z"
   },
   {
    "duration": 28,
    "start_time": "2023-06-04T18:46:30.344Z"
   },
   {
    "duration": 3,
    "start_time": "2023-06-04T18:46:47.912Z"
   },
   {
    "duration": 61,
    "start_time": "2023-06-04T18:46:49.008Z"
   },
   {
    "duration": 9,
    "start_time": "2023-06-04T18:52:17.204Z"
   },
   {
    "duration": 64,
    "start_time": "2023-06-04T18:57:26.903Z"
   },
   {
    "duration": 8,
    "start_time": "2023-06-04T18:57:27.474Z"
   },
   {
    "duration": 972,
    "start_time": "2023-06-04T18:57:29.310Z"
   },
   {
    "duration": 31,
    "start_time": "2023-06-04T18:57:30.731Z"
   },
   {
    "duration": 980,
    "start_time": "2023-06-04T18:57:53.047Z"
   },
   {
    "duration": 511,
    "start_time": "2023-06-04T18:58:23.747Z"
   },
   {
    "duration": 3,
    "start_time": "2023-06-04T19:30:09.464Z"
   },
   {
    "duration": 26,
    "start_time": "2023-06-04T19:30:09.469Z"
   },
   {
    "duration": 229,
    "start_time": "2023-06-04T19:30:09.497Z"
   },
   {
    "duration": 2,
    "start_time": "2023-06-04T19:30:09.728Z"
   },
   {
    "duration": 19,
    "start_time": "2023-06-04T19:30:09.732Z"
   },
   {
    "duration": 250,
    "start_time": "2023-06-04T19:30:09.753Z"
   },
   {
    "duration": 176,
    "start_time": "2023-06-04T19:30:10.005Z"
   },
   {
    "duration": 7077,
    "start_time": "2023-06-04T19:30:10.183Z"
   },
   {
    "duration": 7257,
    "start_time": "2023-06-04T19:30:17.261Z"
   },
   {
    "duration": 3,
    "start_time": "2023-06-04T19:30:24.520Z"
   },
   {
    "duration": 29,
    "start_time": "2023-06-04T19:30:24.525Z"
   },
   {
    "duration": 11,
    "start_time": "2023-06-04T19:30:24.556Z"
   },
   {
    "duration": 18,
    "start_time": "2023-06-04T19:30:24.568Z"
   },
   {
    "duration": 22,
    "start_time": "2023-06-04T19:30:24.587Z"
   },
   {
    "duration": 3,
    "start_time": "2023-06-04T19:30:24.610Z"
   },
   {
    "duration": 63,
    "start_time": "2023-06-04T19:30:24.615Z"
   },
   {
    "duration": 28,
    "start_time": "2023-06-04T19:30:24.680Z"
   },
   {
    "duration": 3,
    "start_time": "2023-06-04T19:30:24.709Z"
   },
   {
    "duration": 37,
    "start_time": "2023-06-04T19:30:24.714Z"
   },
   {
    "duration": 3,
    "start_time": "2023-06-04T19:30:24.753Z"
   },
   {
    "duration": 74,
    "start_time": "2023-06-04T19:30:24.757Z"
   },
   {
    "duration": 6,
    "start_time": "2023-06-04T19:30:24.832Z"
   },
   {
    "duration": 24,
    "start_time": "2023-06-04T19:30:24.839Z"
   },
   {
    "duration": 54,
    "start_time": "2023-06-04T19:30:24.864Z"
   },
   {
    "duration": 4,
    "start_time": "2023-06-04T19:30:24.920Z"
   },
   {
    "duration": 37,
    "start_time": "2023-06-04T19:30:24.925Z"
   },
   {
    "duration": 3,
    "start_time": "2023-06-04T19:30:24.964Z"
   },
   {
    "duration": 49,
    "start_time": "2023-06-04T19:30:24.969Z"
   },
   {
    "duration": 4,
    "start_time": "2023-06-04T19:30:25.022Z"
   },
   {
    "duration": 1406,
    "start_time": "2023-06-04T19:30:25.028Z"
   },
   {
    "duration": 677,
    "start_time": "2023-06-04T19:30:29.001Z"
   },
   {
    "duration": 32,
    "start_time": "2023-06-04T19:31:02.336Z"
   },
   {
    "duration": 3,
    "start_time": "2023-06-04T19:31:27.692Z"
   },
   {
    "duration": 34,
    "start_time": "2023-06-04T19:31:28.628Z"
   },
   {
    "duration": 31,
    "start_time": "2023-06-04T19:31:29.315Z"
   },
   {
    "duration": 4,
    "start_time": "2023-06-04T19:31:37.320Z"
   },
   {
    "duration": 1245,
    "start_time": "2023-06-04T19:31:38.112Z"
   },
   {
    "duration": 667,
    "start_time": "2023-06-04T19:31:40.998Z"
   },
   {
    "duration": 33,
    "start_time": "2023-06-04T19:33:21.782Z"
   },
   {
    "duration": 5,
    "start_time": "2023-06-04T19:34:50.984Z"
   },
   {
    "duration": 1268,
    "start_time": "2023-06-04T19:34:51.740Z"
   },
   {
    "duration": 643,
    "start_time": "2023-06-04T19:34:53.615Z"
   },
   {
    "duration": 50,
    "start_time": "2023-06-04T19:36:05.609Z"
   },
   {
    "duration": 1277,
    "start_time": "2023-06-04T19:36:58.489Z"
   },
   {
    "duration": 646,
    "start_time": "2023-06-04T19:36:59.768Z"
   },
   {
    "duration": 1215,
    "start_time": "2023-06-04T19:37:11.982Z"
   },
   {
    "duration": 602,
    "start_time": "2023-06-04T19:37:13.637Z"
   },
   {
    "duration": 5,
    "start_time": "2023-06-04T19:38:55.541Z"
   },
   {
    "duration": 577,
    "start_time": "2023-06-04T19:38:56.135Z"
   },
   {
    "duration": 260,
    "start_time": "2023-06-04T19:38:57.240Z"
   },
   {
    "duration": 254,
    "start_time": "2023-06-04T19:38:57.939Z"
   },
   {
    "duration": 3,
    "start_time": "2023-06-04T19:38:58.618Z"
   },
   {
    "duration": 195,
    "start_time": "2023-06-04T19:39:18.210Z"
   },
   {
    "duration": 5,
    "start_time": "2023-06-04T19:39:19.034Z"
   },
   {
    "duration": 5,
    "start_time": "2023-06-04T19:39:19.636Z"
   },
   {
    "duration": 5,
    "start_time": "2023-06-04T19:39:21.950Z"
   },
   {
    "duration": 4,
    "start_time": "2023-06-04T19:39:22.554Z"
   },
   {
    "duration": 1922,
    "start_time": "2023-06-04T19:39:24.246Z"
   },
   {
    "duration": 437,
    "start_time": "2023-06-04T19:48:01.325Z"
   },
   {
    "duration": 2038,
    "start_time": "2023-06-04T19:48:14.001Z"
   },
   {
    "duration": 3,
    "start_time": "2023-06-04T19:48:59.800Z"
   },
   {
    "duration": 109,
    "start_time": "2023-06-04T19:49:19.905Z"
   },
   {
    "duration": 1654,
    "start_time": "2023-06-04T19:50:24.524Z"
   },
   {
    "duration": 66028,
    "start_time": "2023-06-04T19:50:39.925Z"
   },
   {
    "duration": 22088,
    "start_time": "2023-06-04T19:51:58.264Z"
   },
   {
    "duration": 56710,
    "start_time": "2023-06-04T19:54:02.196Z"
   },
   {
    "duration": 72663,
    "start_time": "2023-06-04T19:58:22.076Z"
   },
   {
    "duration": 76690,
    "start_time": "2023-06-04T20:01:50.214Z"
   },
   {
    "duration": 125633,
    "start_time": "2023-06-04T20:03:28.959Z"
   },
   {
    "duration": 113665,
    "start_time": "2023-06-04T20:05:34.594Z"
   },
   {
    "duration": 7422,
    "start_time": "2023-06-04T20:07:28.261Z"
   },
   {
    "duration": 5,
    "start_time": "2023-06-04T20:13:09.846Z"
   },
   {
    "duration": 282,
    "start_time": "2023-06-04T20:13:10.823Z"
   },
   {
    "duration": 290,
    "start_time": "2023-06-04T20:13:20.523Z"
   },
   {
    "duration": 5,
    "start_time": "2023-06-04T20:13:38.078Z"
   },
   {
    "duration": 281,
    "start_time": "2023-06-04T20:13:38.591Z"
   },
   {
    "duration": 4,
    "start_time": "2023-06-04T20:13:58.630Z"
   },
   {
    "duration": 1223,
    "start_time": "2023-06-04T20:13:59.052Z"
   },
   {
    "duration": 4,
    "start_time": "2023-06-04T20:14:31.252Z"
   },
   {
    "duration": 324621,
    "start_time": "2023-06-04T20:14:38.230Z"
   },
   {
    "duration": 4,
    "start_time": "2023-06-04T20:25:01.330Z"
   },
   {
    "duration": 275,
    "start_time": "2023-06-04T20:25:13.378Z"
   },
   {
    "duration": 128418,
    "start_time": "2023-06-04T20:26:02.377Z"
   },
   {
    "duration": 256601,
    "start_time": "2023-06-04T20:28:10.797Z"
   },
   {
    "duration": 7479,
    "start_time": "2023-06-04T20:32:27.400Z"
   },
   {
    "duration": 7578,
    "start_time": "2023-06-04T20:39:28.806Z"
   },
   {
    "duration": 7357,
    "start_time": "2023-06-04T20:39:49.122Z"
   },
   {
    "duration": 7530,
    "start_time": "2023-06-04T20:41:25.249Z"
   },
   {
    "duration": 102,
    "start_time": "2023-06-04T20:41:32.783Z"
   },
   {
    "duration": 101,
    "start_time": "2023-06-04T20:42:23.322Z"
   },
   {
    "duration": 7628,
    "start_time": "2023-06-04T20:42:32.951Z"
   },
   {
    "duration": 139,
    "start_time": "2023-06-04T20:42:40.581Z"
   },
   {
    "duration": 4,
    "start_time": "2023-06-04T20:43:29.854Z"
   },
   {
    "duration": 10,
    "start_time": "2023-06-04T20:43:29.860Z"
   },
   {
    "duration": 197,
    "start_time": "2023-06-04T20:43:29.872Z"
   },
   {
    "duration": 3,
    "start_time": "2023-06-04T20:43:30.071Z"
   },
   {
    "duration": 24,
    "start_time": "2023-06-04T20:43:30.076Z"
   },
   {
    "duration": 235,
    "start_time": "2023-06-04T20:43:30.102Z"
   },
   {
    "duration": 161,
    "start_time": "2023-06-04T20:43:30.339Z"
   },
   {
    "duration": 7110,
    "start_time": "2023-06-04T20:43:30.502Z"
   },
   {
    "duration": 6911,
    "start_time": "2023-06-04T20:43:37.614Z"
   },
   {
    "duration": 3,
    "start_time": "2023-06-04T20:43:44.528Z"
   },
   {
    "duration": 37,
    "start_time": "2023-06-04T20:43:44.532Z"
   },
   {
    "duration": 12,
    "start_time": "2023-06-04T20:43:44.571Z"
   },
   {
    "duration": 19,
    "start_time": "2023-06-04T20:43:44.585Z"
   },
   {
    "duration": 21,
    "start_time": "2023-06-04T20:43:44.605Z"
   },
   {
    "duration": 4,
    "start_time": "2023-06-04T20:43:44.628Z"
   },
   {
    "duration": 69,
    "start_time": "2023-06-04T20:43:44.634Z"
   },
   {
    "duration": 30,
    "start_time": "2023-06-04T20:43:44.705Z"
   },
   {
    "duration": 3,
    "start_time": "2023-06-04T20:43:44.737Z"
   },
   {
    "duration": 63,
    "start_time": "2023-06-04T20:43:44.742Z"
   },
   {
    "duration": 3,
    "start_time": "2023-06-04T20:43:44.807Z"
   },
   {
    "duration": 79,
    "start_time": "2023-06-04T20:43:44.812Z"
   },
   {
    "duration": 5,
    "start_time": "2023-06-04T20:43:44.892Z"
   },
   {
    "duration": 21,
    "start_time": "2023-06-04T20:43:44.899Z"
   },
   {
    "duration": 53,
    "start_time": "2023-06-04T20:43:44.922Z"
   },
   {
    "duration": 4,
    "start_time": "2023-06-04T20:43:44.977Z"
   },
   {
    "duration": 65,
    "start_time": "2023-06-04T20:43:44.982Z"
   },
   {
    "duration": 27,
    "start_time": "2023-06-04T20:43:45.049Z"
   },
   {
    "duration": 35,
    "start_time": "2023-06-04T20:43:45.080Z"
   },
   {
    "duration": 9,
    "start_time": "2023-06-04T20:43:45.117Z"
   },
   {
    "duration": 1439,
    "start_time": "2023-06-04T20:43:45.127Z"
   },
   {
    "duration": 630,
    "start_time": "2023-06-04T20:43:46.568Z"
   },
   {
    "duration": 5,
    "start_time": "2023-06-04T20:43:47.199Z"
   },
   {
    "duration": 659,
    "start_time": "2023-06-04T20:43:47.205Z"
   },
   {
    "duration": 255,
    "start_time": "2023-06-04T20:43:47.865Z"
   },
   {
    "duration": 265,
    "start_time": "2023-06-04T20:43:48.121Z"
   },
   {
    "duration": 3,
    "start_time": "2023-06-04T20:43:48.388Z"
   },
   {
    "duration": 217,
    "start_time": "2023-06-04T20:43:48.392Z"
   },
   {
    "duration": 5,
    "start_time": "2023-06-04T20:43:48.611Z"
   },
   {
    "duration": 8,
    "start_time": "2023-06-04T20:43:48.617Z"
   },
   {
    "duration": 5,
    "start_time": "2023-06-04T20:43:48.626Z"
   },
   {
    "duration": 4,
    "start_time": "2023-06-04T20:43:48.633Z"
   },
   {
    "duration": 713,
    "start_time": "2023-06-04T20:43:48.639Z"
   },
   {
    "duration": 8354,
    "start_time": "2023-06-04T20:44:01.331Z"
   },
   {
    "duration": 109,
    "start_time": "2023-06-04T20:44:09.778Z"
   },
   {
    "duration": 261,
    "start_time": "2023-06-04T20:44:20.674Z"
   },
   {
    "duration": 4,
    "start_time": "2023-06-04T20:44:31.572Z"
   },
   {
    "duration": 4,
    "start_time": "2023-06-04T20:51:22.376Z"
   },
   {
    "duration": 18,
    "start_time": "2023-06-04T20:51:22.779Z"
   },
   {
    "duration": 16,
    "start_time": "2023-06-04T20:51:44.347Z"
   },
   {
    "duration": 4,
    "start_time": "2023-06-04T20:51:56.412Z"
   },
   {
    "duration": 6,
    "start_time": "2023-06-04T20:51:56.418Z"
   },
   {
    "duration": 190,
    "start_time": "2023-06-04T20:51:56.425Z"
   },
   {
    "duration": 5,
    "start_time": "2023-06-04T20:51:56.617Z"
   },
   {
    "duration": 4,
    "start_time": "2023-06-04T20:51:56.624Z"
   },
   {
    "duration": 216,
    "start_time": "2023-06-04T20:51:56.629Z"
   },
   {
    "duration": 157,
    "start_time": "2023-06-04T20:51:56.847Z"
   },
   {
    "duration": 6909,
    "start_time": "2023-06-04T20:51:57.005Z"
   },
   {
    "duration": 7218,
    "start_time": "2023-06-04T20:52:03.916Z"
   },
   {
    "duration": 4,
    "start_time": "2023-06-04T20:52:11.136Z"
   },
   {
    "duration": 33,
    "start_time": "2023-06-04T20:52:11.141Z"
   },
   {
    "duration": 16,
    "start_time": "2023-06-04T20:52:11.176Z"
   },
   {
    "duration": 24,
    "start_time": "2023-06-04T20:52:11.194Z"
   },
   {
    "duration": 18,
    "start_time": "2023-06-04T20:52:11.221Z"
   },
   {
    "duration": 4,
    "start_time": "2023-06-04T20:52:11.241Z"
   },
   {
    "duration": 66,
    "start_time": "2023-06-04T20:52:11.247Z"
   },
   {
    "duration": 30,
    "start_time": "2023-06-04T20:52:11.315Z"
   },
   {
    "duration": 3,
    "start_time": "2023-06-04T20:52:11.347Z"
   },
   {
    "duration": 50,
    "start_time": "2023-06-04T20:52:11.352Z"
   },
   {
    "duration": 2,
    "start_time": "2023-06-04T20:52:11.404Z"
   },
   {
    "duration": 74,
    "start_time": "2023-06-04T20:52:11.408Z"
   },
   {
    "duration": 5,
    "start_time": "2023-06-04T20:52:11.484Z"
   },
   {
    "duration": 11,
    "start_time": "2023-06-04T20:52:11.490Z"
   },
   {
    "duration": 43,
    "start_time": "2023-06-04T20:52:11.503Z"
   },
   {
    "duration": 3,
    "start_time": "2023-06-04T20:52:11.548Z"
   },
   {
    "duration": 43,
    "start_time": "2023-06-04T20:52:11.553Z"
   },
   {
    "duration": 8,
    "start_time": "2023-06-04T20:52:11.597Z"
   },
   {
    "duration": 43,
    "start_time": "2023-06-04T20:52:11.606Z"
   },
   {
    "duration": 5,
    "start_time": "2023-06-04T20:52:11.651Z"
   },
   {
    "duration": 1308,
    "start_time": "2023-06-04T20:52:11.658Z"
   },
   {
    "duration": 644,
    "start_time": "2023-06-04T20:52:12.968Z"
   },
   {
    "duration": 4,
    "start_time": "2023-06-04T20:52:13.614Z"
   },
   {
    "duration": 664,
    "start_time": "2023-06-04T20:52:13.619Z"
   },
   {
    "duration": 14,
    "start_time": "2023-06-04T20:52:14.285Z"
   },
   {
    "duration": 4,
    "start_time": "2023-06-04T20:53:31.789Z"
   },
   {
    "duration": 13,
    "start_time": "2023-06-04T20:53:31.795Z"
   },
   {
    "duration": 223,
    "start_time": "2023-06-04T20:53:31.809Z"
   },
   {
    "duration": 3,
    "start_time": "2023-06-04T20:53:32.035Z"
   },
   {
    "duration": 20,
    "start_time": "2023-06-04T20:53:32.040Z"
   },
   {
    "duration": 221,
    "start_time": "2023-06-04T20:53:32.062Z"
   },
   {
    "duration": 152,
    "start_time": "2023-06-04T20:53:32.285Z"
   },
   {
    "duration": 7334,
    "start_time": "2023-06-04T20:53:32.439Z"
   },
   {
    "duration": 7388,
    "start_time": "2023-06-04T20:53:39.777Z"
   },
   {
    "duration": 11,
    "start_time": "2023-06-04T20:53:47.167Z"
   },
   {
    "duration": 19,
    "start_time": "2023-06-04T20:53:47.180Z"
   },
   {
    "duration": 11,
    "start_time": "2023-06-04T20:53:47.200Z"
   },
   {
    "duration": 11,
    "start_time": "2023-06-04T20:53:47.212Z"
   },
   {
    "duration": 17,
    "start_time": "2023-06-04T20:53:47.225Z"
   },
   {
    "duration": 2,
    "start_time": "2023-06-04T20:53:47.244Z"
   },
   {
    "duration": 76,
    "start_time": "2023-06-04T20:53:47.248Z"
   },
   {
    "duration": 28,
    "start_time": "2023-06-04T20:53:47.326Z"
   },
   {
    "duration": 22,
    "start_time": "2023-06-04T20:53:47.356Z"
   },
   {
    "duration": 31,
    "start_time": "2023-06-04T20:53:47.379Z"
   },
   {
    "duration": 3,
    "start_time": "2023-06-04T20:53:47.412Z"
   },
   {
    "duration": 82,
    "start_time": "2023-06-04T20:53:47.416Z"
   },
   {
    "duration": 6,
    "start_time": "2023-06-04T20:53:47.501Z"
   },
   {
    "duration": 13,
    "start_time": "2023-06-04T20:53:47.509Z"
   },
   {
    "duration": 60,
    "start_time": "2023-06-04T20:53:47.524Z"
   },
   {
    "duration": 4,
    "start_time": "2023-06-04T20:53:47.586Z"
   },
   {
    "duration": 33,
    "start_time": "2023-06-04T20:53:47.592Z"
   },
   {
    "duration": 3,
    "start_time": "2023-06-04T20:53:47.627Z"
   },
   {
    "duration": 47,
    "start_time": "2023-06-04T20:53:47.633Z"
   },
   {
    "duration": 4,
    "start_time": "2023-06-04T20:53:47.682Z"
   },
   {
    "duration": 1305,
    "start_time": "2023-06-04T20:53:47.688Z"
   },
   {
    "duration": 663,
    "start_time": "2023-06-04T20:53:48.995Z"
   },
   {
    "duration": 33,
    "start_time": "2023-06-04T20:53:49.659Z"
   },
   {
    "duration": 680,
    "start_time": "2023-06-04T20:53:49.694Z"
   },
   {
    "duration": 19,
    "start_time": "2023-06-04T20:53:50.375Z"
   },
   {
    "duration": 0,
    "start_time": "2023-06-04T20:53:50.395Z"
   },
   {
    "duration": 0,
    "start_time": "2023-06-04T20:53:50.396Z"
   },
   {
    "duration": 0,
    "start_time": "2023-06-04T20:53:50.397Z"
   },
   {
    "duration": 0,
    "start_time": "2023-06-04T20:53:50.398Z"
   },
   {
    "duration": 0,
    "start_time": "2023-06-04T20:53:50.399Z"
   },
   {
    "duration": 0,
    "start_time": "2023-06-04T20:53:50.400Z"
   },
   {
    "duration": 0,
    "start_time": "2023-06-04T20:53:50.400Z"
   },
   {
    "duration": 0,
    "start_time": "2023-06-04T20:53:50.402Z"
   },
   {
    "duration": 4,
    "start_time": "2023-06-04T20:55:09.290Z"
   },
   {
    "duration": 10,
    "start_time": "2023-06-04T20:55:09.296Z"
   },
   {
    "duration": 235,
    "start_time": "2023-06-04T20:55:09.308Z"
   },
   {
    "duration": 3,
    "start_time": "2023-06-04T20:55:09.546Z"
   },
   {
    "duration": 4,
    "start_time": "2023-06-04T20:55:09.550Z"
   },
   {
    "duration": 205,
    "start_time": "2023-06-04T20:55:09.556Z"
   },
   {
    "duration": 169,
    "start_time": "2023-06-04T20:55:09.763Z"
   },
   {
    "duration": 7295,
    "start_time": "2023-06-04T20:55:09.935Z"
   },
   {
    "duration": 7191,
    "start_time": "2023-06-04T20:55:17.231Z"
   },
   {
    "duration": 3,
    "start_time": "2023-06-04T20:55:24.425Z"
   },
   {
    "duration": 28,
    "start_time": "2023-06-04T20:55:24.430Z"
   },
   {
    "duration": 20,
    "start_time": "2023-06-04T20:55:24.460Z"
   },
   {
    "duration": 11,
    "start_time": "2023-06-04T20:55:24.482Z"
   },
   {
    "duration": 17,
    "start_time": "2023-06-04T20:55:24.495Z"
   },
   {
    "duration": 3,
    "start_time": "2023-06-04T20:55:24.514Z"
   },
   {
    "duration": 72,
    "start_time": "2023-06-04T20:55:24.518Z"
   },
   {
    "duration": 28,
    "start_time": "2023-06-04T20:55:24.591Z"
   },
   {
    "duration": 3,
    "start_time": "2023-06-04T20:55:24.620Z"
   },
   {
    "duration": 57,
    "start_time": "2023-06-04T20:55:24.624Z"
   },
   {
    "duration": 4,
    "start_time": "2023-06-04T20:55:24.683Z"
   },
   {
    "duration": 53,
    "start_time": "2023-06-04T20:55:24.688Z"
   },
   {
    "duration": 6,
    "start_time": "2023-06-04T20:55:24.742Z"
   },
   {
    "duration": 29,
    "start_time": "2023-06-04T20:55:24.749Z"
   },
   {
    "duration": 39,
    "start_time": "2023-06-04T20:55:24.780Z"
   },
   {
    "duration": 4,
    "start_time": "2023-06-04T20:55:24.820Z"
   },
   {
    "duration": 31,
    "start_time": "2023-06-04T20:55:24.826Z"
   },
   {
    "duration": 20,
    "start_time": "2023-06-04T20:55:24.858Z"
   },
   {
    "duration": 32,
    "start_time": "2023-06-04T20:55:24.882Z"
   },
   {
    "duration": 5,
    "start_time": "2023-06-04T20:55:24.916Z"
   },
   {
    "duration": 1319,
    "start_time": "2023-06-04T20:55:24.922Z"
   },
   {
    "duration": 676,
    "start_time": "2023-06-04T20:55:26.243Z"
   },
   {
    "duration": 21,
    "start_time": "2023-06-04T20:55:26.921Z"
   },
   {
    "duration": 0,
    "start_time": "2023-06-04T20:55:26.943Z"
   },
   {
    "duration": 0,
    "start_time": "2023-06-04T20:55:26.944Z"
   },
   {
    "duration": 0,
    "start_time": "2023-06-04T20:55:26.946Z"
   },
   {
    "duration": 0,
    "start_time": "2023-06-04T20:55:26.946Z"
   },
   {
    "duration": 0,
    "start_time": "2023-06-04T20:55:26.948Z"
   },
   {
    "duration": 0,
    "start_time": "2023-06-04T20:55:26.949Z"
   },
   {
    "duration": 0,
    "start_time": "2023-06-04T20:55:26.950Z"
   },
   {
    "duration": 0,
    "start_time": "2023-06-04T20:55:26.951Z"
   },
   {
    "duration": 0,
    "start_time": "2023-06-04T20:55:26.952Z"
   },
   {
    "duration": 0,
    "start_time": "2023-06-04T20:55:26.978Z"
   },
   {
    "duration": 36,
    "start_time": "2023-06-04T20:55:57.859Z"
   },
   {
    "duration": 709,
    "start_time": "2023-06-04T20:55:59.000Z"
   },
   {
    "duration": 344,
    "start_time": "2023-06-04T20:56:00.134Z"
   },
   {
    "duration": 306,
    "start_time": "2023-06-04T20:56:01.243Z"
   },
   {
    "duration": 3,
    "start_time": "2023-06-04T20:56:01.979Z"
   },
   {
    "duration": 210,
    "start_time": "2023-06-04T20:56:02.776Z"
   },
   {
    "duration": 6,
    "start_time": "2023-06-04T20:56:04.784Z"
   },
   {
    "duration": 4,
    "start_time": "2023-06-04T20:56:05.535Z"
   },
   {
    "duration": 4,
    "start_time": "2023-06-04T20:56:06.068Z"
   },
   {
    "duration": 4,
    "start_time": "2023-06-04T20:56:06.849Z"
   },
   {
    "duration": 733,
    "start_time": "2023-06-04T20:56:07.807Z"
   },
   {
    "duration": 5,
    "start_time": "2023-06-04T20:56:29.581Z"
   },
   {
    "duration": 6,
    "start_time": "2023-06-04T20:56:33.360Z"
   },
   {
    "duration": 8179,
    "start_time": "2023-06-04T20:56:50.901Z"
   },
   {
    "duration": 294,
    "start_time": "2023-06-04T20:56:59.085Z"
   },
   {
    "duration": 4,
    "start_time": "2023-06-04T20:57:25.862Z"
   },
   {
    "duration": 336,
    "start_time": "2023-06-04T20:57:29.843Z"
   },
   {
    "duration": 3003,
    "start_time": "2023-06-04T21:00:56.776Z"
   },
   {
    "duration": 279,
    "start_time": "2023-06-04T21:01:03.004Z"
   },
   {
    "duration": 2577,
    "start_time": "2023-06-04T21:01:35.505Z"
   },
   {
    "duration": 62394,
    "start_time": "2023-06-04T21:02:47.775Z"
   },
   {
    "duration": 299757,
    "start_time": "2023-06-04T21:03:50.177Z"
   },
   {
    "duration": 318,
    "start_time": "2023-06-04T21:08:49.935Z"
   },
   {
    "duration": 5,
    "start_time": "2023-06-04T21:08:50.255Z"
   },
   {
    "duration": 4838,
    "start_time": "2023-06-04T21:08:50.261Z"
   },
   {
    "duration": 330,
    "start_time": "2023-06-04T21:10:33.033Z"
   },
   {
    "duration": 1857,
    "start_time": "2023-06-05T08:21:00.973Z"
   },
   {
    "duration": 4,
    "start_time": "2023-06-05T08:21:02.833Z"
   },
   {
    "duration": 1032,
    "start_time": "2023-06-05T08:21:02.839Z"
   },
   {
    "duration": 5,
    "start_time": "2023-06-05T08:21:03.874Z"
   },
   {
    "duration": 9,
    "start_time": "2023-06-05T08:21:03.881Z"
   },
   {
    "duration": 308,
    "start_time": "2023-06-05T08:21:03.892Z"
   },
   {
    "duration": 191,
    "start_time": "2023-06-05T08:21:04.202Z"
   },
   {
    "duration": 8028,
    "start_time": "2023-06-05T08:21:04.395Z"
   },
   {
    "duration": 8262,
    "start_time": "2023-06-05T08:21:12.424Z"
   },
   {
    "duration": 4,
    "start_time": "2023-06-05T08:21:20.688Z"
   },
   {
    "duration": 44,
    "start_time": "2023-06-05T08:21:20.695Z"
   },
   {
    "duration": 21,
    "start_time": "2023-06-05T08:21:20.742Z"
   },
   {
    "duration": 143,
    "start_time": "2023-06-05T08:21:20.765Z"
   },
   {
    "duration": 37,
    "start_time": "2023-06-05T08:21:20.911Z"
   },
   {
    "duration": 5,
    "start_time": "2023-06-05T08:21:20.950Z"
   },
   {
    "duration": 116,
    "start_time": "2023-06-05T08:21:20.957Z"
   },
   {
    "duration": 62,
    "start_time": "2023-06-05T08:21:21.076Z"
   },
   {
    "duration": 4,
    "start_time": "2023-06-05T08:21:21.141Z"
   },
   {
    "duration": 85,
    "start_time": "2023-06-05T08:21:21.147Z"
   },
   {
    "duration": 4,
    "start_time": "2023-06-05T08:21:21.235Z"
   },
   {
    "duration": 82,
    "start_time": "2023-06-05T08:21:21.242Z"
   },
   {
    "duration": 7,
    "start_time": "2023-06-05T08:21:21.326Z"
   },
   {
    "duration": 17,
    "start_time": "2023-06-05T08:21:21.335Z"
   },
   {
    "duration": 100,
    "start_time": "2023-06-05T08:21:21.355Z"
   },
   {
    "duration": 6,
    "start_time": "2023-06-05T08:21:21.458Z"
   },
   {
    "duration": 81,
    "start_time": "2023-06-05T08:21:21.466Z"
   },
   {
    "duration": 5,
    "start_time": "2023-06-05T08:21:21.550Z"
   },
   {
    "duration": 71,
    "start_time": "2023-06-05T08:21:21.557Z"
   },
   {
    "duration": 7,
    "start_time": "2023-06-05T08:21:21.630Z"
   },
   {
    "duration": 1586,
    "start_time": "2023-06-05T08:21:21.640Z"
   },
   {
    "duration": 686,
    "start_time": "2023-06-05T08:21:23.228Z"
   },
   {
    "duration": 68,
    "start_time": "2023-06-05T08:21:23.915Z"
   },
   {
    "duration": 771,
    "start_time": "2023-06-05T08:21:23.986Z"
   },
   {
    "duration": 346,
    "start_time": "2023-06-05T08:21:24.759Z"
   },
   {
    "duration": 307,
    "start_time": "2023-06-05T08:21:25.107Z"
   },
   {
    "duration": 3,
    "start_time": "2023-06-05T08:21:25.415Z"
   },
   {
    "duration": 293,
    "start_time": "2023-06-05T08:21:25.426Z"
   },
   {
    "duration": 6,
    "start_time": "2023-06-05T08:21:25.721Z"
   },
   {
    "duration": 9,
    "start_time": "2023-06-05T08:21:25.729Z"
   },
   {
    "duration": 7,
    "start_time": "2023-06-05T08:21:25.739Z"
   },
   {
    "duration": 6,
    "start_time": "2023-06-05T08:23:26.436Z"
   },
   {
    "duration": 122,
    "start_time": "2023-06-05T08:25:02.121Z"
   },
   {
    "duration": 4,
    "start_time": "2023-06-05T08:25:10.497Z"
   },
   {
    "duration": 748,
    "start_time": "2023-06-05T08:25:10.896Z"
   },
   {
    "duration": 395,
    "start_time": "2023-06-05T08:25:12.636Z"
   },
   {
    "duration": 10,
    "start_time": "2023-06-05T08:29:31.881Z"
   },
   {
    "duration": 11,
    "start_time": "2023-06-05T08:29:41.068Z"
   },
   {
    "duration": 15,
    "start_time": "2023-06-05T08:30:29.744Z"
   },
   {
    "duration": 15,
    "start_time": "2023-06-05T08:31:52.543Z"
   },
   {
    "duration": 4,
    "start_time": "2023-06-05T08:49:45.531Z"
   },
   {
    "duration": 10,
    "start_time": "2023-06-05T08:52:04.945Z"
   },
   {
    "duration": 16,
    "start_time": "2023-06-05T08:52:49.999Z"
   },
   {
    "duration": 96,
    "start_time": "2023-06-05T08:53:01.418Z"
   },
   {
    "duration": 73,
    "start_time": "2023-06-05T08:53:13.120Z"
   },
   {
    "duration": 263,
    "start_time": "2023-06-05T08:54:26.657Z"
   },
   {
    "duration": 6,
    "start_time": "2023-06-05T08:54:27.344Z"
   },
   {
    "duration": 5,
    "start_time": "2023-06-05T08:54:27.872Z"
   },
   {
    "duration": 4,
    "start_time": "2023-06-05T08:54:28.312Z"
   },
   {
    "duration": 4403,
    "start_time": "2023-06-05T08:54:38.425Z"
   },
   {
    "duration": 5,
    "start_time": "2023-06-05T09:11:39.776Z"
   },
   {
    "duration": 13,
    "start_time": "2023-06-05T09:11:39.786Z"
   },
   {
    "duration": 272,
    "start_time": "2023-06-05T09:11:39.802Z"
   },
   {
    "duration": 4,
    "start_time": "2023-06-05T09:11:40.076Z"
   },
   {
    "duration": 24,
    "start_time": "2023-06-05T09:11:40.082Z"
   },
   {
    "duration": 217,
    "start_time": "2023-06-05T09:11:40.108Z"
   },
   {
    "duration": 166,
    "start_time": "2023-06-05T09:11:40.327Z"
   },
   {
    "duration": 7921,
    "start_time": "2023-06-05T09:11:40.495Z"
   },
   {
    "duration": 7902,
    "start_time": "2023-06-05T09:11:48.417Z"
   },
   {
    "duration": 3,
    "start_time": "2023-06-05T09:11:56.325Z"
   },
   {
    "duration": 34,
    "start_time": "2023-06-05T09:11:56.330Z"
   },
   {
    "duration": 14,
    "start_time": "2023-06-05T09:11:56.366Z"
   },
   {
    "duration": 11,
    "start_time": "2023-06-05T09:11:56.382Z"
   },
   {
    "duration": 30,
    "start_time": "2023-06-05T09:11:56.395Z"
   },
   {
    "duration": 3,
    "start_time": "2023-06-05T09:11:56.429Z"
   },
   {
    "duration": 69,
    "start_time": "2023-06-05T09:11:56.435Z"
   },
   {
    "duration": 39,
    "start_time": "2023-06-05T09:11:56.506Z"
   },
   {
    "duration": 17,
    "start_time": "2023-06-05T09:11:56.547Z"
   },
   {
    "duration": 73,
    "start_time": "2023-06-05T09:11:56.566Z"
   },
   {
    "duration": 13,
    "start_time": "2023-06-05T09:11:56.641Z"
   },
   {
    "duration": 101,
    "start_time": "2023-06-05T09:11:56.656Z"
   },
   {
    "duration": 6,
    "start_time": "2023-06-05T09:11:56.759Z"
   },
   {
    "duration": 11,
    "start_time": "2023-06-05T09:11:56.767Z"
   },
   {
    "duration": 54,
    "start_time": "2023-06-05T09:11:56.780Z"
   },
   {
    "duration": 4,
    "start_time": "2023-06-05T09:11:56.836Z"
   },
   {
    "duration": 42,
    "start_time": "2023-06-05T09:11:56.842Z"
   },
   {
    "duration": 4,
    "start_time": "2023-06-05T09:11:56.885Z"
   },
   {
    "duration": 47,
    "start_time": "2023-06-05T09:11:56.891Z"
   },
   {
    "duration": 6,
    "start_time": "2023-06-05T09:11:56.940Z"
   },
   {
    "duration": 1392,
    "start_time": "2023-06-05T09:11:56.948Z"
   },
   {
    "duration": 700,
    "start_time": "2023-06-05T09:11:58.342Z"
   },
   {
    "duration": 101,
    "start_time": "2023-06-05T09:11:59.045Z"
   },
   {
    "duration": 42,
    "start_time": "2023-06-05T09:11:59.148Z"
   },
   {
    "duration": 691,
    "start_time": "2023-06-05T09:11:59.192Z"
   },
   {
    "duration": 344,
    "start_time": "2023-06-05T09:11:59.886Z"
   },
   {
    "duration": 310,
    "start_time": "2023-06-05T09:12:00.231Z"
   },
   {
    "duration": 4,
    "start_time": "2023-06-05T09:12:00.543Z"
   },
   {
    "duration": 341,
    "start_time": "2023-06-05T09:12:00.548Z"
   },
   {
    "duration": 7,
    "start_time": "2023-06-05T09:12:00.891Z"
   },
   {
    "duration": 27,
    "start_time": "2023-06-05T09:12:00.901Z"
   },
   {
    "duration": 29,
    "start_time": "2023-06-05T09:12:00.931Z"
   },
   {
    "duration": 69,
    "start_time": "2023-06-05T09:12:00.967Z"
   },
   {
    "duration": 1035,
    "start_time": "2023-06-05T09:12:01.039Z"
   },
   {
    "duration": 16155,
    "start_time": "2023-06-05T09:12:02.077Z"
   },
   {
    "duration": 64073,
    "start_time": "2023-06-05T09:12:56.604Z"
   },
   {
    "duration": 52662,
    "start_time": "2023-06-05T09:14:00.679Z"
   },
   {
    "duration": 75624,
    "start_time": "2023-06-05T09:22:08.691Z"
   },
   {
    "duration": 725391,
    "start_time": "2023-06-05T09:23:24.318Z"
   },
   {
    "duration": 78462,
    "start_time": "2023-06-05T09:36:49.383Z"
   },
   {
    "duration": 96218,
    "start_time": "2023-06-05T09:38:07.848Z"
   },
   {
    "duration": 106212,
    "start_time": "2023-06-05T09:39:44.069Z"
   },
   {
    "duration": 178139,
    "start_time": "2023-06-05T09:41:30.286Z"
   },
   {
    "duration": 100,
    "start_time": "2023-06-05T09:47:11.926Z"
   },
   {
    "duration": 76,
    "start_time": "2023-06-05T09:47:17.999Z"
   },
   {
    "duration": 74,
    "start_time": "2023-06-05T09:47:20.109Z"
   },
   {
    "duration": 73,
    "start_time": "2023-06-05T09:47:23.750Z"
   },
   {
    "duration": 3,
    "start_time": "2023-06-05T09:48:39.525Z"
   },
   {
    "duration": 29,
    "start_time": "2023-06-05T09:48:41.717Z"
   },
   {
    "duration": 25,
    "start_time": "2023-06-05T09:48:46.460Z"
   },
   {
    "duration": 4,
    "start_time": "2023-06-05T09:48:58.887Z"
   },
   {
    "duration": 48,
    "start_time": "2023-06-05T09:48:58.894Z"
   },
   {
    "duration": 202,
    "start_time": "2023-06-05T09:48:58.943Z"
   },
   {
    "duration": 3,
    "start_time": "2023-06-05T09:48:59.147Z"
   },
   {
    "duration": 19,
    "start_time": "2023-06-05T09:48:59.152Z"
   },
   {
    "duration": 220,
    "start_time": "2023-06-05T09:48:59.173Z"
   },
   {
    "duration": 164,
    "start_time": "2023-06-05T09:48:59.395Z"
   },
   {
    "duration": 7896,
    "start_time": "2023-06-05T09:48:59.561Z"
   },
   {
    "duration": 7672,
    "start_time": "2023-06-05T09:49:07.459Z"
   },
   {
    "duration": 4,
    "start_time": "2023-06-05T09:49:15.132Z"
   },
   {
    "duration": 25,
    "start_time": "2023-06-05T09:49:16.285Z"
   },
   {
    "duration": 3,
    "start_time": "2023-06-05T09:49:29.517Z"
   },
   {
    "duration": 14,
    "start_time": "2023-06-05T09:49:30.477Z"
   },
   {
    "duration": 14,
    "start_time": "2023-06-05T09:49:31.213Z"
   },
   {
    "duration": 12,
    "start_time": "2023-06-05T09:50:16.997Z"
   },
   {
    "duration": 13,
    "start_time": "2023-06-05T09:50:34.740Z"
   },
   {
    "duration": 14,
    "start_time": "2023-06-05T09:50:43.628Z"
   },
   {
    "duration": 70,
    "start_time": "2023-06-05T09:51:48.643Z"
   },
   {
    "duration": 64,
    "start_time": "2023-06-05T09:51:52.587Z"
   },
   {
    "duration": 73,
    "start_time": "2023-06-05T09:52:02.963Z"
   },
   {
    "duration": 67,
    "start_time": "2023-06-05T09:52:21.036Z"
   },
   {
    "duration": 17,
    "start_time": "2023-06-05T09:53:54.724Z"
   },
   {
    "duration": 14,
    "start_time": "2023-06-05T09:54:04.620Z"
   },
   {
    "duration": 10,
    "start_time": "2023-06-05T09:58:08.075Z"
   },
   {
    "duration": 65,
    "start_time": "2023-06-05T10:00:21.360Z"
   },
   {
    "duration": 621,
    "start_time": "2023-06-05T10:02:11.690Z"
   },
   {
    "duration": 20,
    "start_time": "2023-06-05T10:05:03.272Z"
   },
   {
    "duration": 117,
    "start_time": "2023-06-05T10:06:09.808Z"
   },
   {
    "duration": 6,
    "start_time": "2023-06-05T10:11:05.287Z"
   },
   {
    "duration": 11,
    "start_time": "2023-06-05T10:14:36.504Z"
   },
   {
    "duration": 18,
    "start_time": "2023-06-05T10:15:28.222Z"
   },
   {
    "duration": 25,
    "start_time": "2023-06-05T10:15:38.858Z"
   },
   {
    "duration": 14,
    "start_time": "2023-06-05T10:18:52.781Z"
   },
   {
    "duration": 15,
    "start_time": "2023-06-05T10:20:50.205Z"
   },
   {
    "duration": 15,
    "start_time": "2023-06-05T10:20:54.588Z"
   },
   {
    "duration": 11,
    "start_time": "2023-06-05T10:21:06.476Z"
   },
   {
    "duration": 5,
    "start_time": "2023-06-05T10:44:23.422Z"
   },
   {
    "duration": 35,
    "start_time": "2023-06-05T10:44:23.429Z"
   },
   {
    "duration": 245,
    "start_time": "2023-06-05T10:44:23.466Z"
   },
   {
    "duration": 3,
    "start_time": "2023-06-05T10:44:23.714Z"
   },
   {
    "duration": 9,
    "start_time": "2023-06-05T10:44:23.718Z"
   },
   {
    "duration": 231,
    "start_time": "2023-06-05T10:44:23.729Z"
   },
   {
    "duration": 200,
    "start_time": "2023-06-05T10:44:23.963Z"
   },
   {
    "duration": 8126,
    "start_time": "2023-06-05T10:44:24.165Z"
   },
   {
    "duration": 7882,
    "start_time": "2023-06-05T10:44:32.293Z"
   },
   {
    "duration": 4,
    "start_time": "2023-06-05T10:44:40.177Z"
   },
   {
    "duration": 20,
    "start_time": "2023-06-05T10:44:40.182Z"
   },
   {
    "duration": 28,
    "start_time": "2023-06-05T10:44:40.204Z"
   },
   {
    "duration": 10,
    "start_time": "2023-06-05T10:44:40.234Z"
   },
   {
    "duration": 17,
    "start_time": "2023-06-05T10:44:40.246Z"
   },
   {
    "duration": 3,
    "start_time": "2023-06-05T10:44:40.265Z"
   },
   {
    "duration": 93,
    "start_time": "2023-06-05T10:44:40.270Z"
   },
   {
    "duration": 33,
    "start_time": "2023-06-05T10:44:40.365Z"
   },
   {
    "duration": 3,
    "start_time": "2023-06-05T10:44:40.400Z"
   },
   {
    "duration": 54,
    "start_time": "2023-06-05T10:44:40.405Z"
   },
   {
    "duration": 3,
    "start_time": "2023-06-05T10:44:40.461Z"
   },
   {
    "duration": 89,
    "start_time": "2023-06-05T10:44:40.465Z"
   },
   {
    "duration": 5,
    "start_time": "2023-06-05T10:44:40.556Z"
   },
   {
    "duration": 17,
    "start_time": "2023-06-05T10:44:40.562Z"
   },
   {
    "duration": 6,
    "start_time": "2023-06-05T10:44:40.580Z"
   },
   {
    "duration": 739,
    "start_time": "2023-06-05T10:44:40.588Z"
   },
   {
    "duration": 32,
    "start_time": "2023-06-05T10:44:41.329Z"
   },
   {
    "duration": 5,
    "start_time": "2023-06-05T10:44:45.750Z"
   },
   {
    "duration": 721,
    "start_time": "2023-06-05T10:44:46.118Z"
   },
   {
    "duration": 39,
    "start_time": "2023-06-05T10:44:46.841Z"
   },
   {
    "duration": 6,
    "start_time": "2023-06-05T10:45:45.870Z"
   },
   {
    "duration": 46,
    "start_time": "2023-06-05T10:45:46.438Z"
   },
   {
    "duration": 5,
    "start_time": "2023-06-05T10:54:35.364Z"
   },
   {
    "duration": 4677,
    "start_time": "2023-06-05T10:54:36.095Z"
   },
   {
    "duration": 29,
    "start_time": "2023-06-05T10:54:42.276Z"
   },
   {
    "duration": 4,
    "start_time": "2023-06-05T10:54:52.300Z"
   },
   {
    "duration": 495,
    "start_time": "2023-06-05T10:54:52.692Z"
   },
   {
    "duration": 12,
    "start_time": "2023-06-05T10:59:55.788Z"
   },
   {
    "duration": 25,
    "start_time": "2023-06-05T10:59:58.883Z"
   },
   {
    "duration": 12,
    "start_time": "2023-06-05T10:59:59.243Z"
   },
   {
    "duration": 10,
    "start_time": "2023-06-05T11:00:41.715Z"
   },
   {
    "duration": 486,
    "start_time": "2023-06-05T11:00:54.794Z"
   },
   {
    "duration": 480,
    "start_time": "2023-06-05T11:01:16.091Z"
   },
   {
    "duration": 515,
    "start_time": "2023-06-05T11:01:24.404Z"
   },
   {
    "duration": 11,
    "start_time": "2023-06-05T11:01:40.226Z"
   },
   {
    "duration": 11,
    "start_time": "2023-06-05T11:03:32.970Z"
   },
   {
    "duration": 15,
    "start_time": "2023-06-05T11:03:37.786Z"
   },
   {
    "duration": 11,
    "start_time": "2023-06-05T11:05:30.250Z"
   },
   {
    "duration": 868,
    "start_time": "2023-06-05T11:06:32.081Z"
   },
   {
    "duration": 38,
    "start_time": "2023-06-05T11:06:33.914Z"
   },
   {
    "duration": 5,
    "start_time": "2023-06-05T11:07:49.771Z"
   },
   {
    "duration": 779,
    "start_time": "2023-06-05T11:07:50.193Z"
   },
   {
    "duration": 44,
    "start_time": "2023-06-05T11:07:52.529Z"
   },
   {
    "duration": 5,
    "start_time": "2023-06-05T11:08:42.172Z"
   },
   {
    "duration": 16,
    "start_time": "2023-06-05T11:08:42.180Z"
   },
   {
    "duration": 242,
    "start_time": "2023-06-05T11:08:42.198Z"
   },
   {
    "duration": 3,
    "start_time": "2023-06-05T11:08:42.442Z"
   },
   {
    "duration": 13,
    "start_time": "2023-06-05T11:08:42.447Z"
   },
   {
    "duration": 223,
    "start_time": "2023-06-05T11:08:42.461Z"
   },
   {
    "duration": 191,
    "start_time": "2023-06-05T11:08:42.686Z"
   },
   {
    "duration": 8064,
    "start_time": "2023-06-05T11:08:42.879Z"
   },
   {
    "duration": 7667,
    "start_time": "2023-06-05T11:08:50.945Z"
   },
   {
    "duration": 11,
    "start_time": "2023-06-05T11:08:58.615Z"
   },
   {
    "duration": 28,
    "start_time": "2023-06-05T11:08:58.628Z"
   },
   {
    "duration": 13,
    "start_time": "2023-06-05T11:08:58.659Z"
   },
   {
    "duration": 12,
    "start_time": "2023-06-05T11:08:58.674Z"
   },
   {
    "duration": 37,
    "start_time": "2023-06-05T11:08:58.688Z"
   },
   {
    "duration": 4,
    "start_time": "2023-06-05T11:08:58.727Z"
   },
   {
    "duration": 71,
    "start_time": "2023-06-05T11:08:58.733Z"
   },
   {
    "duration": 143,
    "start_time": "2023-06-05T11:08:58.806Z"
   },
   {
    "duration": 4,
    "start_time": "2023-06-05T11:08:58.951Z"
   },
   {
    "duration": 69,
    "start_time": "2023-06-05T11:08:58.957Z"
   },
   {
    "duration": 3,
    "start_time": "2023-06-05T11:08:59.028Z"
   },
   {
    "duration": 73,
    "start_time": "2023-06-05T11:08:59.033Z"
   },
   {
    "duration": 18,
    "start_time": "2023-06-05T11:08:59.108Z"
   },
   {
    "duration": 17,
    "start_time": "2023-06-05T11:08:59.128Z"
   },
   {
    "duration": 5,
    "start_time": "2023-06-05T11:08:59.147Z"
   },
   {
    "duration": 970,
    "start_time": "2023-06-05T11:08:59.154Z"
   },
   {
    "duration": 5,
    "start_time": "2023-06-05T11:09:00.126Z"
   },
   {
    "duration": 86,
    "start_time": "2023-06-05T11:09:00.133Z"
   },
   {
    "duration": 5,
    "start_time": "2023-06-05T11:09:00.223Z"
   },
   {
    "duration": 67,
    "start_time": "2023-06-05T11:09:00.229Z"
   },
   {
    "duration": 3,
    "start_time": "2023-06-05T11:09:00.298Z"
   },
   {
    "duration": 67,
    "start_time": "2023-06-05T11:09:00.303Z"
   },
   {
    "duration": 27,
    "start_time": "2023-06-05T11:09:00.371Z"
   },
   {
    "duration": 1513,
    "start_time": "2023-06-05T11:09:00.400Z"
   },
   {
    "duration": 754,
    "start_time": "2023-06-05T11:09:01.915Z"
   },
   {
    "duration": 16,
    "start_time": "2023-06-05T11:09:02.671Z"
   },
   {
    "duration": 0,
    "start_time": "2023-06-05T11:09:02.688Z"
   },
   {
    "duration": 0,
    "start_time": "2023-06-05T11:09:02.690Z"
   },
   {
    "duration": 0,
    "start_time": "2023-06-05T11:09:02.691Z"
   },
   {
    "duration": 0,
    "start_time": "2023-06-05T11:09:02.693Z"
   },
   {
    "duration": 0,
    "start_time": "2023-06-05T11:09:02.694Z"
   },
   {
    "duration": 0,
    "start_time": "2023-06-05T11:09:02.696Z"
   },
   {
    "duration": 0,
    "start_time": "2023-06-05T11:09:02.697Z"
   },
   {
    "duration": 0,
    "start_time": "2023-06-05T11:09:02.699Z"
   },
   {
    "duration": 0,
    "start_time": "2023-06-05T11:09:02.700Z"
   },
   {
    "duration": 0,
    "start_time": "2023-06-05T11:09:02.701Z"
   },
   {
    "duration": 0,
    "start_time": "2023-06-05T11:09:02.726Z"
   },
   {
    "duration": 43,
    "start_time": "2023-06-05T11:09:48.184Z"
   },
   {
    "duration": 188,
    "start_time": "2023-06-05T11:09:52.449Z"
   },
   {
    "duration": 101,
    "start_time": "2023-06-05T11:09:52.824Z"
   },
   {
    "duration": 88,
    "start_time": "2023-06-05T11:09:53.384Z"
   },
   {
    "duration": 3,
    "start_time": "2023-06-05T11:09:53.961Z"
   },
   {
    "duration": 206,
    "start_time": "2023-06-05T11:09:54.504Z"
   },
   {
    "duration": 5,
    "start_time": "2023-06-05T11:09:57.384Z"
   },
   {
    "duration": 5,
    "start_time": "2023-06-05T11:09:58.169Z"
   },
   {
    "duration": 5,
    "start_time": "2023-06-05T11:09:58.608Z"
   },
   {
    "duration": 6,
    "start_time": "2023-06-05T11:10:00.977Z"
   },
   {
    "duration": 317,
    "start_time": "2023-06-05T11:10:01.441Z"
   },
   {
    "duration": 62800,
    "start_time": "2023-06-05T11:10:02.880Z"
   },
   {
    "duration": 158,
    "start_time": "2023-06-05T11:11:31.344Z"
   },
   {
    "duration": 127686,
    "start_time": "2023-06-05T11:12:51.241Z"
   },
   {
    "duration": 280775,
    "start_time": "2023-06-05T11:16:33.207Z"
   },
   {
    "duration": 12947,
    "start_time": "2023-06-05T11:21:13.984Z"
   },
   {
    "duration": 502343,
    "start_time": "2023-06-05T11:22:59.558Z"
   },
   {
    "duration": 139800,
    "start_time": "2023-06-05T11:31:54.055Z"
   },
   {
    "duration": 208321,
    "start_time": "2023-06-05T11:35:43.524Z"
   },
   {
    "duration": 180614,
    "start_time": "2023-06-05T12:37:18.020Z"
   },
   {
    "duration": 550803,
    "start_time": "2023-06-05T12:42:00.313Z"
   },
   {
    "duration": 643780,
    "start_time": "2023-06-05T12:58:01.320Z"
   },
   {
    "duration": 14,
    "start_time": "2023-06-05T13:10:14.779Z"
   },
   {
    "duration": 4,
    "start_time": "2023-06-05T13:10:25.097Z"
   },
   {
    "duration": 7749,
    "start_time": "2023-06-05T13:11:08.397Z"
   },
   {
    "duration": 1123534,
    "start_time": "2023-06-05T13:13:38.541Z"
   },
   {
    "duration": 65255,
    "start_time": "2023-06-05T13:33:02.512Z"
   },
   {
    "duration": 118158,
    "start_time": "2023-06-05T13:34:22.753Z"
   },
   {
    "duration": 809493,
    "start_time": "2023-06-05T13:41:43.348Z"
   },
   {
    "duration": 144734,
    "start_time": "2023-06-05T14:30:05.373Z"
   },
   {
    "duration": 315982,
    "start_time": "2023-06-05T14:33:24.796Z"
   },
   {
    "duration": 3824,
    "start_time": "2023-06-05T14:38:40.780Z"
   },
   {
    "duration": 7,
    "start_time": "2023-06-05T14:39:35.127Z"
   },
   {
    "duration": 20,
    "start_time": "2023-06-05T14:39:35.138Z"
   },
   {
    "duration": 222,
    "start_time": "2023-06-05T14:39:35.161Z"
   },
   {
    "duration": 4,
    "start_time": "2023-06-05T14:39:35.384Z"
   },
   {
    "duration": 16,
    "start_time": "2023-06-05T14:39:35.390Z"
   },
   {
    "duration": 251,
    "start_time": "2023-06-05T14:39:35.408Z"
   },
   {
    "duration": 187,
    "start_time": "2023-06-05T14:39:35.661Z"
   },
   {
    "duration": 8442,
    "start_time": "2023-06-05T14:39:35.849Z"
   },
   {
    "duration": 8620,
    "start_time": "2023-06-05T14:39:44.292Z"
   },
   {
    "duration": 3,
    "start_time": "2023-06-05T14:39:52.914Z"
   },
   {
    "duration": 33,
    "start_time": "2023-06-05T14:39:52.933Z"
   },
   {
    "duration": 13,
    "start_time": "2023-06-05T14:39:52.968Z"
   },
   {
    "duration": 21,
    "start_time": "2023-06-05T14:39:52.982Z"
   },
   {
    "duration": 42,
    "start_time": "2023-06-05T14:39:53.006Z"
   },
   {
    "duration": 5,
    "start_time": "2023-06-05T14:39:53.052Z"
   },
   {
    "duration": 82,
    "start_time": "2023-06-05T14:39:53.058Z"
   },
   {
    "duration": 39,
    "start_time": "2023-06-05T14:39:53.144Z"
   },
   {
    "duration": 4,
    "start_time": "2023-06-05T14:39:53.184Z"
   },
   {
    "duration": 79,
    "start_time": "2023-06-05T14:39:53.190Z"
   },
   {
    "duration": 3,
    "start_time": "2023-06-05T14:39:53.271Z"
   },
   {
    "duration": 101,
    "start_time": "2023-06-05T14:39:53.276Z"
   },
   {
    "duration": 7,
    "start_time": "2023-06-05T14:39:53.379Z"
   },
   {
    "duration": 17,
    "start_time": "2023-06-05T14:39:53.387Z"
   },
   {
    "duration": 983,
    "start_time": "2023-06-05T14:39:53.406Z"
   },
   {
    "duration": 4,
    "start_time": "2023-06-05T14:39:54.391Z"
   },
   {
    "duration": 83,
    "start_time": "2023-06-05T14:39:54.397Z"
   },
   {
    "duration": 4,
    "start_time": "2023-06-05T14:39:54.482Z"
   },
   {
    "duration": 72,
    "start_time": "2023-06-05T14:39:54.488Z"
   },
   {
    "duration": 4,
    "start_time": "2023-06-05T14:39:54.564Z"
   },
   {
    "duration": 46,
    "start_time": "2023-06-05T14:39:54.570Z"
   },
   {
    "duration": 14,
    "start_time": "2023-06-05T14:39:54.618Z"
   },
   {
    "duration": 1698,
    "start_time": "2023-06-05T14:39:54.635Z"
   },
   {
    "duration": 806,
    "start_time": "2023-06-05T14:39:56.334Z"
   },
   {
    "duration": 32,
    "start_time": "2023-06-05T14:39:57.143Z"
   },
   {
    "duration": 125,
    "start_time": "2023-06-05T14:39:57.177Z"
   },
   {
    "duration": 71,
    "start_time": "2023-06-05T14:39:57.304Z"
   },
   {
    "duration": 54,
    "start_time": "2023-06-05T14:39:57.378Z"
   },
   {
    "duration": 4,
    "start_time": "2023-06-05T14:39:57.434Z"
   },
   {
    "duration": 124,
    "start_time": "2023-06-05T14:39:57.440Z"
   },
   {
    "duration": 0,
    "start_time": "2023-06-05T14:39:57.567Z"
   },
   {
    "duration": 0,
    "start_time": "2023-06-05T14:39:57.568Z"
   },
   {
    "duration": 0,
    "start_time": "2023-06-05T14:39:57.569Z"
   },
   {
    "duration": 0,
    "start_time": "2023-06-05T14:39:57.571Z"
   },
   {
    "duration": 0,
    "start_time": "2023-06-05T14:39:57.572Z"
   },
   {
    "duration": 0,
    "start_time": "2023-06-05T14:39:57.573Z"
   },
   {
    "duration": 6,
    "start_time": "2023-06-05T14:47:01.050Z"
   },
   {
    "duration": 44,
    "start_time": "2023-06-05T14:47:01.059Z"
   },
   {
    "duration": 318,
    "start_time": "2023-06-05T14:47:01.105Z"
   },
   {
    "duration": 11,
    "start_time": "2023-06-05T14:47:01.425Z"
   },
   {
    "duration": 43,
    "start_time": "2023-06-05T14:47:01.451Z"
   },
   {
    "duration": 251,
    "start_time": "2023-06-05T14:47:01.496Z"
   },
   {
    "duration": 210,
    "start_time": "2023-06-05T14:47:01.749Z"
   },
   {
    "duration": 8215,
    "start_time": "2023-06-05T14:47:01.962Z"
   },
   {
    "duration": 8234,
    "start_time": "2023-06-05T14:47:10.179Z"
   },
   {
    "duration": 12,
    "start_time": "2023-06-05T14:47:18.415Z"
   },
   {
    "duration": 24,
    "start_time": "2023-06-05T14:47:18.438Z"
   },
   {
    "duration": 16,
    "start_time": "2023-06-05T14:47:18.464Z"
   },
   {
    "duration": 13,
    "start_time": "2023-06-05T14:47:18.481Z"
   },
   {
    "duration": 46,
    "start_time": "2023-06-05T14:47:18.497Z"
   },
   {
    "duration": 4,
    "start_time": "2023-06-05T14:47:18.545Z"
   },
   {
    "duration": 60,
    "start_time": "2023-06-05T14:47:18.550Z"
   },
   {
    "duration": 46,
    "start_time": "2023-06-05T14:47:18.612Z"
   },
   {
    "duration": 4,
    "start_time": "2023-06-05T14:47:18.659Z"
   },
   {
    "duration": 36,
    "start_time": "2023-06-05T14:47:18.664Z"
   },
   {
    "duration": 17,
    "start_time": "2023-06-05T14:47:18.724Z"
   },
   {
    "duration": 69,
    "start_time": "2023-06-05T14:47:18.743Z"
   },
   {
    "duration": 6,
    "start_time": "2023-06-05T14:47:18.814Z"
   },
   {
    "duration": 10,
    "start_time": "2023-06-05T14:47:18.823Z"
   },
   {
    "duration": 917,
    "start_time": "2023-06-05T14:47:18.841Z"
   },
   {
    "duration": 6,
    "start_time": "2023-06-05T14:47:19.760Z"
   },
   {
    "duration": 41,
    "start_time": "2023-06-05T14:47:19.768Z"
   },
   {
    "duration": 25,
    "start_time": "2023-06-05T14:47:19.811Z"
   },
   {
    "duration": 76,
    "start_time": "2023-06-05T14:47:19.842Z"
   },
   {
    "duration": 13,
    "start_time": "2023-06-05T14:47:19.920Z"
   },
   {
    "duration": 54,
    "start_time": "2023-06-05T14:47:19.939Z"
   },
   {
    "duration": 6,
    "start_time": "2023-06-05T14:47:19.995Z"
   },
   {
    "duration": 91,
    "start_time": "2023-06-05T14:47:20.004Z"
   },
   {
    "duration": 8,
    "start_time": "2023-06-05T14:47:20.098Z"
   },
   {
    "duration": 1461,
    "start_time": "2023-06-05T14:47:20.108Z"
   },
   {
    "duration": 718,
    "start_time": "2023-06-05T14:47:21.571Z"
   },
   {
    "duration": 55,
    "start_time": "2023-06-05T14:47:22.291Z"
   },
   {
    "duration": 139,
    "start_time": "2023-06-05T14:47:22.348Z"
   },
   {
    "duration": 56,
    "start_time": "2023-06-05T14:47:22.489Z"
   },
   {
    "duration": 32,
    "start_time": "2023-06-05T14:47:22.547Z"
   },
   {
    "duration": 11,
    "start_time": "2023-06-05T14:47:22.580Z"
   },
   {
    "duration": 216,
    "start_time": "2023-06-05T14:47:22.595Z"
   },
   {
    "duration": 0,
    "start_time": "2023-06-05T14:47:22.813Z"
   },
   {
    "duration": 0,
    "start_time": "2023-06-05T14:47:22.814Z"
   },
   {
    "duration": 0,
    "start_time": "2023-06-05T14:47:22.815Z"
   },
   {
    "duration": 0,
    "start_time": "2023-06-05T14:47:22.834Z"
   },
   {
    "duration": 0,
    "start_time": "2023-06-05T14:47:22.835Z"
   },
   {
    "duration": 0,
    "start_time": "2023-06-05T14:47:22.835Z"
   },
   {
    "duration": 50,
    "start_time": "2023-06-05T14:47:58.865Z"
   },
   {
    "duration": 50,
    "start_time": "2023-06-05T14:48:04.017Z"
   },
   {
    "duration": 203,
    "start_time": "2023-06-05T14:48:56.257Z"
   },
   {
    "duration": 53,
    "start_time": "2023-06-05T14:49:21.544Z"
   },
   {
    "duration": 20,
    "start_time": "2023-06-05T14:49:27.559Z"
   },
   {
    "duration": 30,
    "start_time": "2023-06-05T14:49:27.932Z"
   },
   {
    "duration": 4,
    "start_time": "2023-06-05T14:49:36.416Z"
   },
   {
    "duration": 11,
    "start_time": "2023-06-05T14:49:36.423Z"
   },
   {
    "duration": 211,
    "start_time": "2023-06-05T14:49:36.436Z"
   },
   {
    "duration": 4,
    "start_time": "2023-06-05T14:49:36.648Z"
   },
   {
    "duration": 10,
    "start_time": "2023-06-05T14:49:36.654Z"
   },
   {
    "duration": 232,
    "start_time": "2023-06-05T14:49:36.666Z"
   },
   {
    "duration": 182,
    "start_time": "2023-06-05T14:49:36.899Z"
   },
   {
    "duration": 8692,
    "start_time": "2023-06-05T14:49:37.082Z"
   },
   {
    "duration": 8482,
    "start_time": "2023-06-05T14:49:45.776Z"
   },
   {
    "duration": 3,
    "start_time": "2023-06-05T14:49:54.260Z"
   },
   {
    "duration": 26,
    "start_time": "2023-06-05T14:49:54.265Z"
   },
   {
    "duration": 16,
    "start_time": "2023-06-05T14:49:54.293Z"
   },
   {
    "duration": 20,
    "start_time": "2023-06-05T14:49:54.330Z"
   },
   {
    "duration": 24,
    "start_time": "2023-06-05T14:49:54.355Z"
   },
   {
    "duration": 6,
    "start_time": "2023-06-05T14:49:54.381Z"
   },
   {
    "duration": 105,
    "start_time": "2023-06-05T14:49:54.389Z"
   },
   {
    "duration": 36,
    "start_time": "2023-06-05T14:49:54.496Z"
   },
   {
    "duration": 6,
    "start_time": "2023-06-05T14:49:54.534Z"
   },
   {
    "duration": 55,
    "start_time": "2023-06-05T14:49:54.542Z"
   },
   {
    "duration": 3,
    "start_time": "2023-06-05T14:49:54.599Z"
   },
   {
    "duration": 93,
    "start_time": "2023-06-05T14:49:54.604Z"
   },
   {
    "duration": 5,
    "start_time": "2023-06-05T14:49:54.700Z"
   },
   {
    "duration": 37,
    "start_time": "2023-06-05T14:49:54.707Z"
   },
   {
    "duration": 911,
    "start_time": "2023-06-05T14:49:54.745Z"
   },
   {
    "duration": 5,
    "start_time": "2023-06-05T14:49:55.658Z"
   },
   {
    "duration": 91,
    "start_time": "2023-06-05T14:49:55.665Z"
   },
   {
    "duration": 6,
    "start_time": "2023-06-05T14:49:55.760Z"
   },
   {
    "duration": 61,
    "start_time": "2023-06-05T14:49:55.769Z"
   },
   {
    "duration": 6,
    "start_time": "2023-06-05T14:49:55.832Z"
   },
   {
    "duration": 67,
    "start_time": "2023-06-05T14:49:55.839Z"
   },
   {
    "duration": 8,
    "start_time": "2023-06-05T14:49:55.909Z"
   },
   {
    "duration": 59,
    "start_time": "2023-06-05T14:49:55.927Z"
   },
   {
    "duration": 21,
    "start_time": "2023-06-05T14:49:55.989Z"
   },
   {
    "duration": 1607,
    "start_time": "2023-06-05T14:49:56.012Z"
   },
   {
    "duration": 751,
    "start_time": "2023-06-05T14:49:57.620Z"
   },
   {
    "duration": 34,
    "start_time": "2023-06-05T14:49:58.373Z"
   },
   {
    "duration": 127,
    "start_time": "2023-06-05T14:49:58.409Z"
   },
   {
    "duration": 53,
    "start_time": "2023-06-05T14:49:58.538Z"
   },
   {
    "duration": 50,
    "start_time": "2023-06-05T14:49:58.593Z"
   },
   {
    "duration": 3,
    "start_time": "2023-06-05T14:49:58.646Z"
   },
   {
    "duration": 345,
    "start_time": "2023-06-05T14:49:58.655Z"
   },
   {
    "duration": 5,
    "start_time": "2023-06-05T14:49:59.002Z"
   },
   {
    "duration": 29,
    "start_time": "2023-06-05T14:49:59.008Z"
   },
   {
    "duration": 8,
    "start_time": "2023-06-05T14:49:59.039Z"
   },
   {
    "duration": 19,
    "start_time": "2023-06-05T14:49:59.049Z"
   },
   {
    "duration": 89,
    "start_time": "2023-06-05T14:49:59.071Z"
   },
   {
    "duration": 50,
    "start_time": "2023-06-05T14:49:59.162Z"
   },
   {
    "duration": 45476,
    "start_time": "2023-06-05T14:50:27.170Z"
   },
   {
    "duration": 57245,
    "start_time": "2023-06-05T14:51:47.367Z"
   },
   {
    "duration": 95413,
    "start_time": "2023-06-05T14:52:44.613Z"
   },
   {
    "duration": 340076,
    "start_time": "2023-06-05T14:56:33.879Z"
   },
   {
    "duration": 581590,
    "start_time": "2023-06-05T15:15:31.955Z"
   },
   {
    "duration": 10385,
    "start_time": "2023-06-05T15:25:13.547Z"
   },
   {
    "duration": 176868,
    "start_time": "2023-06-05T15:27:31.639Z"
   },
   {
    "duration": 33018,
    "start_time": "2023-06-05T15:30:31.065Z"
   },
   {
    "duration": 68612,
    "start_time": "2023-06-05T15:31:12.981Z"
   },
   {
    "duration": 4895,
    "start_time": "2023-06-05T15:32:31.649Z"
   },
   {
    "duration": 435860,
    "start_time": "2023-06-05T15:32:39.359Z"
   },
   {
    "duration": 230394,
    "start_time": "2023-06-05T15:41:45.723Z"
   },
   {
    "duration": 8909,
    "start_time": "2023-06-05T15:48:59.423Z"
   },
   {
    "duration": 66,
    "start_time": "2023-06-05T15:50:25.299Z"
   },
   {
    "duration": 14,
    "start_time": "2023-06-05T15:52:25.988Z"
   },
   {
    "duration": 306,
    "start_time": "2023-06-05T15:52:36.423Z"
   },
   {
    "duration": 8741,
    "start_time": "2023-06-05T15:54:19.518Z"
   },
   {
    "duration": 8546,
    "start_time": "2023-06-05T15:54:42.597Z"
   },
   {
    "duration": 134,
    "start_time": "2023-06-05T15:55:11.711Z"
   },
   {
    "duration": 49981,
    "start_time": "2023-06-05T15:59:01.689Z"
   },
   {
    "duration": 223746,
    "start_time": "2023-06-05T15:59:51.671Z"
   },
   {
    "duration": 9020,
    "start_time": "2023-06-05T16:03:35.419Z"
   },
   {
    "duration": 46586,
    "start_time": "2023-06-05T16:04:00.395Z"
   },
   {
    "duration": 359550,
    "start_time": "2023-06-05T16:04:46.983Z"
   },
   {
    "duration": 32553,
    "start_time": "2023-06-05T16:10:46.535Z"
   },
   {
    "duration": 4056,
    "start_time": "2023-06-05T16:11:52.639Z"
   },
   {
    "duration": 4284,
    "start_time": "2023-06-05T16:16:20.494Z"
   },
   {
    "duration": 110549,
    "start_time": "2023-06-05T16:16:42.442Z"
   },
   {
    "duration": 6098,
    "start_time": "2023-06-05T16:20:46.813Z"
   },
   {
    "duration": 4558,
    "start_time": "2023-06-05T16:22:08.294Z"
   },
   {
    "duration": 12,
    "start_time": "2023-06-05T16:23:54.463Z"
   },
   {
    "duration": 1438,
    "start_time": "2023-06-05T16:23:55.764Z"
   },
   {
    "duration": 50,
    "start_time": "2023-06-05T16:24:23.656Z"
   },
   {
    "duration": 20,
    "start_time": "2023-06-05T16:25:14.559Z"
   },
   {
    "duration": 5,
    "start_time": "2023-06-05T16:25:21.804Z"
   },
   {
    "duration": 18,
    "start_time": "2023-06-05T16:27:58.963Z"
   },
   {
    "duration": 10979,
    "start_time": "2023-06-05T16:27:59.404Z"
   },
   {
    "duration": 0,
    "start_time": "2023-06-05T16:28:10.385Z"
   },
   {
    "duration": 5,
    "start_time": "2023-06-05T16:32:37.687Z"
   },
   {
    "duration": 37,
    "start_time": "2023-06-05T16:32:37.695Z"
   },
   {
    "duration": 308,
    "start_time": "2023-06-05T16:32:37.739Z"
   },
   {
    "duration": 4,
    "start_time": "2023-06-05T16:32:38.049Z"
   },
   {
    "duration": 30,
    "start_time": "2023-06-05T16:32:38.056Z"
   },
   {
    "duration": 251,
    "start_time": "2023-06-05T16:32:38.088Z"
   },
   {
    "duration": 237,
    "start_time": "2023-06-05T16:32:38.341Z"
   },
   {
    "duration": 9518,
    "start_time": "2023-06-05T16:32:38.581Z"
   },
   {
    "duration": 9096,
    "start_time": "2023-06-05T16:32:48.101Z"
   },
   {
    "duration": 3,
    "start_time": "2023-06-05T16:32:57.199Z"
   },
   {
    "duration": 48,
    "start_time": "2023-06-05T16:32:57.204Z"
   },
   {
    "duration": 24,
    "start_time": "2023-06-05T16:32:57.254Z"
   },
   {
    "duration": 21,
    "start_time": "2023-06-05T16:32:57.280Z"
   },
   {
    "duration": 18,
    "start_time": "2023-06-05T16:32:57.305Z"
   },
   {
    "duration": 8,
    "start_time": "2023-06-05T16:32:57.330Z"
   },
   {
    "duration": 97,
    "start_time": "2023-06-05T16:32:57.342Z"
   },
   {
    "duration": 180,
    "start_time": "2023-06-05T16:32:57.443Z"
   },
   {
    "duration": 18,
    "start_time": "2023-06-05T16:32:57.624Z"
   },
   {
    "duration": 71,
    "start_time": "2023-06-05T16:32:57.652Z"
   },
   {
    "duration": 8,
    "start_time": "2023-06-05T16:32:57.725Z"
   },
   {
    "duration": 116,
    "start_time": "2023-06-05T16:32:57.736Z"
   },
   {
    "duration": 8,
    "start_time": "2023-06-05T16:32:57.854Z"
   },
   {
    "duration": 20,
    "start_time": "2023-06-05T16:32:57.866Z"
   },
   {
    "duration": 1067,
    "start_time": "2023-06-05T16:32:57.890Z"
   },
   {
    "duration": 4,
    "start_time": "2023-06-05T16:33:32.403Z"
   },
   {
    "duration": 10,
    "start_time": "2023-06-05T16:33:32.410Z"
   },
   {
    "duration": 299,
    "start_time": "2023-06-05T16:33:32.422Z"
   },
   {
    "duration": 16,
    "start_time": "2023-06-05T16:33:32.723Z"
   },
   {
    "duration": 21,
    "start_time": "2023-06-05T16:33:32.744Z"
   },
   {
    "duration": 252,
    "start_time": "2023-06-05T16:33:32.766Z"
   },
   {
    "duration": 202,
    "start_time": "2023-06-05T16:33:33.024Z"
   },
   {
    "duration": 9726,
    "start_time": "2023-06-05T16:33:33.233Z"
   },
   {
    "duration": 9214,
    "start_time": "2023-06-05T16:33:42.964Z"
   },
   {
    "duration": 4,
    "start_time": "2023-06-05T16:33:52.179Z"
   },
   {
    "duration": 65,
    "start_time": "2023-06-05T16:33:52.187Z"
   },
   {
    "duration": 26,
    "start_time": "2023-06-05T16:33:52.255Z"
   },
   {
    "duration": 14,
    "start_time": "2023-06-05T16:33:52.284Z"
   },
   {
    "duration": 53,
    "start_time": "2023-06-05T16:33:52.303Z"
   },
   {
    "duration": 5,
    "start_time": "2023-06-05T16:33:52.365Z"
   },
   {
    "duration": 146,
    "start_time": "2023-06-05T16:33:52.372Z"
   },
   {
    "duration": 55,
    "start_time": "2023-06-05T16:33:52.520Z"
   },
   {
    "duration": 5,
    "start_time": "2023-06-05T16:33:52.585Z"
   },
   {
    "duration": 83,
    "start_time": "2023-06-05T16:33:52.592Z"
   },
   {
    "duration": 4,
    "start_time": "2023-06-05T16:33:52.685Z"
   },
   {
    "duration": 106,
    "start_time": "2023-06-05T16:33:52.691Z"
   },
   {
    "duration": 6,
    "start_time": "2023-06-05T16:33:52.799Z"
   },
   {
    "duration": 5,
    "start_time": "2023-06-05T16:33:52.807Z"
   },
   {
    "duration": 1043,
    "start_time": "2023-06-05T16:33:52.814Z"
   },
   {
    "duration": 6,
    "start_time": "2023-06-05T16:33:53.860Z"
   },
   {
    "duration": 17,
    "start_time": "2023-06-05T16:33:53.868Z"
   },
   {
    "duration": 5,
    "start_time": "2023-06-05T16:33:53.887Z"
   },
   {
    "duration": 46,
    "start_time": "2023-06-05T16:33:53.894Z"
   },
   {
    "duration": 6,
    "start_time": "2023-06-05T16:33:53.945Z"
   },
   {
    "duration": 86,
    "start_time": "2023-06-05T16:33:53.953Z"
   },
   {
    "duration": 5,
    "start_time": "2023-06-05T16:33:54.043Z"
   },
   {
    "duration": 58,
    "start_time": "2023-06-05T16:33:54.056Z"
   },
   {
    "duration": 6,
    "start_time": "2023-06-05T16:33:54.116Z"
   },
   {
    "duration": 1742,
    "start_time": "2023-06-05T16:33:54.125Z"
   },
   {
    "duration": 919,
    "start_time": "2023-06-05T16:33:55.878Z"
   },
   {
    "duration": 74,
    "start_time": "2023-06-05T16:33:56.802Z"
   },
   {
    "duration": 258,
    "start_time": "2023-06-05T16:33:56.878Z"
   },
   {
    "duration": 139,
    "start_time": "2023-06-05T16:33:57.138Z"
   },
   {
    "duration": 80,
    "start_time": "2023-06-05T16:33:57.287Z"
   },
   {
    "duration": 3,
    "start_time": "2023-06-05T16:33:57.369Z"
   },
   {
    "duration": 276,
    "start_time": "2023-06-05T16:33:57.376Z"
   },
   {
    "duration": 7,
    "start_time": "2023-06-05T16:33:57.654Z"
   },
   {
    "duration": 11,
    "start_time": "2023-06-05T16:33:57.663Z"
   },
   {
    "duration": 17,
    "start_time": "2023-06-05T16:33:57.675Z"
   },
   {
    "duration": 5,
    "start_time": "2023-06-05T16:33:57.694Z"
   },
   {
    "duration": 319,
    "start_time": "2023-06-05T16:33:57.702Z"
   },
   {
    "duration": 61534,
    "start_time": "2023-06-05T16:34:04.756Z"
   },
   {
    "duration": 10324,
    "start_time": "2023-06-05T16:35:45.910Z"
   },
   {
    "duration": 9562,
    "start_time": "2023-06-05T16:57:32.769Z"
   },
   {
    "duration": 26,
    "start_time": "2023-06-05T16:57:42.333Z"
   },
   {
    "duration": 21,
    "start_time": "2023-06-05T16:57:47.984Z"
   },
   {
    "duration": 27,
    "start_time": "2023-06-05T16:58:15.350Z"
   },
   {
    "duration": 13,
    "start_time": "2023-06-05T16:58:28.587Z"
   },
   {
    "duration": 220,
    "start_time": "2023-06-05T16:59:41.607Z"
   },
   {
    "duration": 280,
    "start_time": "2023-06-05T16:59:55.641Z"
   },
   {
    "duration": 316,
    "start_time": "2023-06-05T17:02:14.086Z"
   },
   {
    "duration": 43,
    "start_time": "2023-06-05T17:09:28.491Z"
   },
   {
    "duration": 5,
    "start_time": "2023-06-05T17:10:20.298Z"
   },
   {
    "duration": 9,
    "start_time": "2023-06-05T17:10:20.305Z"
   },
   {
    "duration": 293,
    "start_time": "2023-06-05T17:10:20.315Z"
   },
   {
    "duration": 5,
    "start_time": "2023-06-05T17:10:20.611Z"
   },
   {
    "duration": 11,
    "start_time": "2023-06-05T17:10:20.618Z"
   },
   {
    "duration": 312,
    "start_time": "2023-06-05T17:10:20.633Z"
   },
   {
    "duration": 265,
    "start_time": "2023-06-05T17:10:20.954Z"
   },
   {
    "duration": 9714,
    "start_time": "2023-06-05T17:10:21.221Z"
   },
   {
    "duration": 9524,
    "start_time": "2023-06-05T17:10:30.938Z"
   },
   {
    "duration": 4,
    "start_time": "2023-06-05T17:10:40.463Z"
   },
   {
    "duration": 28,
    "start_time": "2023-06-05T17:10:40.469Z"
   },
   {
    "duration": 32,
    "start_time": "2023-06-05T17:10:40.499Z"
   },
   {
    "duration": 20,
    "start_time": "2023-06-05T17:10:40.544Z"
   },
   {
    "duration": 27,
    "start_time": "2023-06-05T17:10:40.567Z"
   },
   {
    "duration": 15,
    "start_time": "2023-06-05T17:10:40.596Z"
   },
   {
    "duration": 85,
    "start_time": "2023-06-05T17:10:40.613Z"
   },
   {
    "duration": 48,
    "start_time": "2023-06-05T17:10:40.700Z"
   },
   {
    "duration": 3,
    "start_time": "2023-06-05T17:10:40.750Z"
   },
   {
    "duration": 86,
    "start_time": "2023-06-05T17:10:40.754Z"
   },
   {
    "duration": 4,
    "start_time": "2023-06-05T17:10:40.841Z"
   },
   {
    "duration": 105,
    "start_time": "2023-06-05T17:10:40.846Z"
   },
   {
    "duration": 7,
    "start_time": "2023-06-05T17:10:40.957Z"
   },
   {
    "duration": 11,
    "start_time": "2023-06-05T17:10:40.966Z"
   },
   {
    "duration": 914,
    "start_time": "2023-06-05T17:10:40.979Z"
   },
   {
    "duration": 5,
    "start_time": "2023-06-05T17:10:41.895Z"
   },
   {
    "duration": 20,
    "start_time": "2023-06-05T17:10:41.902Z"
   },
   {
    "duration": 50,
    "start_time": "2023-06-05T17:10:41.924Z"
   },
   {
    "duration": 23,
    "start_time": "2023-06-05T17:11:13.160Z"
   },
   {
    "duration": 16,
    "start_time": "2023-06-05T17:11:28.201Z"
   },
   {
    "duration": 248,
    "start_time": "2023-06-05T17:11:35.701Z"
   },
   {
    "duration": 6,
    "start_time": "2023-06-05T17:13:21.154Z"
   },
   {
    "duration": 19,
    "start_time": "2023-06-05T17:13:26.091Z"
   },
   {
    "duration": 16038,
    "start_time": "2023-06-05T17:14:02.403Z"
   },
   {
    "duration": 3009,
    "start_time": "2023-06-05T17:17:33.647Z"
   },
   {
    "duration": 1930,
    "start_time": "2023-06-05T17:18:02.307Z"
   },
   {
    "duration": 2679,
    "start_time": "2023-06-05T17:18:15.156Z"
   },
   {
    "duration": 2025,
    "start_time": "2023-06-05T17:19:00.812Z"
   },
   {
    "duration": 2046,
    "start_time": "2023-06-05T17:19:31.499Z"
   },
   {
    "duration": 6661,
    "start_time": "2023-06-05T17:26:03.393Z"
   },
   {
    "duration": 4,
    "start_time": "2023-06-05T19:03:42.442Z"
   },
   {
    "duration": 7,
    "start_time": "2023-06-05T19:03:42.448Z"
   },
   {
    "duration": 207,
    "start_time": "2023-06-05T19:03:42.457Z"
   },
   {
    "duration": 4,
    "start_time": "2023-06-05T19:03:42.665Z"
   },
   {
    "duration": 4,
    "start_time": "2023-06-05T19:03:42.671Z"
   },
   {
    "duration": 238,
    "start_time": "2023-06-05T19:03:42.677Z"
   },
   {
    "duration": 171,
    "start_time": "2023-06-05T19:03:42.916Z"
   },
   {
    "duration": 8159,
    "start_time": "2023-06-05T19:03:43.089Z"
   },
   {
    "duration": 7645,
    "start_time": "2023-06-05T19:03:51.250Z"
   },
   {
    "duration": 11,
    "start_time": "2023-06-05T19:03:58.896Z"
   },
   {
    "duration": 33,
    "start_time": "2023-06-05T19:03:58.909Z"
   },
   {
    "duration": 3,
    "start_time": "2023-06-05T19:03:58.944Z"
   },
   {
    "duration": 55,
    "start_time": "2023-06-05T19:03:58.950Z"
   },
   {
    "duration": 56,
    "start_time": "2023-06-05T19:03:59.007Z"
   },
   {
    "duration": 4,
    "start_time": "2023-06-05T19:03:59.065Z"
   },
   {
    "duration": 90,
    "start_time": "2023-06-05T19:03:59.071Z"
   },
   {
    "duration": 5,
    "start_time": "2023-06-05T19:03:59.163Z"
   },
   {
    "duration": 91,
    "start_time": "2023-06-05T19:03:59.170Z"
   },
   {
    "duration": 6,
    "start_time": "2023-06-05T19:03:59.263Z"
   },
   {
    "duration": 890,
    "start_time": "2023-06-05T19:31:53.295Z"
   },
   {
    "duration": 13,
    "start_time": "2023-06-05T19:33:06.777Z"
   },
   {
    "duration": 12,
    "start_time": "2023-06-05T19:33:13.765Z"
   },
   {
    "duration": 23,
    "start_time": "2023-06-05T19:33:17.323Z"
   },
   {
    "duration": 4,
    "start_time": "2023-06-05T19:34:14.359Z"
   },
   {
    "duration": 6,
    "start_time": "2023-06-05T19:34:14.365Z"
   },
   {
    "duration": 211,
    "start_time": "2023-06-05T19:34:14.383Z"
   },
   {
    "duration": 4,
    "start_time": "2023-06-05T19:34:14.596Z"
   },
   {
    "duration": 5,
    "start_time": "2023-06-05T19:34:14.602Z"
   },
   {
    "duration": 251,
    "start_time": "2023-06-05T19:34:14.610Z"
   },
   {
    "duration": 185,
    "start_time": "2023-06-05T19:34:14.862Z"
   },
   {
    "duration": 9243,
    "start_time": "2023-06-05T19:34:15.049Z"
   },
   {
    "duration": 8448,
    "start_time": "2023-06-05T19:34:24.294Z"
   },
   {
    "duration": 13,
    "start_time": "2023-06-05T19:34:32.743Z"
   },
   {
    "duration": 33,
    "start_time": "2023-06-05T19:34:32.758Z"
   },
   {
    "duration": 10,
    "start_time": "2023-06-05T19:34:32.794Z"
   },
   {
    "duration": 100,
    "start_time": "2023-06-05T19:34:32.806Z"
   },
   {
    "duration": 42,
    "start_time": "2023-06-05T19:34:32.908Z"
   },
   {
    "duration": 3,
    "start_time": "2023-06-05T19:34:32.952Z"
   },
   {
    "duration": 45,
    "start_time": "2023-06-05T19:34:32.957Z"
   },
   {
    "duration": 32,
    "start_time": "2023-06-05T19:34:33.004Z"
   },
   {
    "duration": 68,
    "start_time": "2023-06-05T19:34:33.037Z"
   },
   {
    "duration": 6,
    "start_time": "2023-06-05T19:34:33.107Z"
   },
   {
    "duration": 24,
    "start_time": "2023-06-05T19:34:33.115Z"
   },
   {
    "duration": 831,
    "start_time": "2023-06-05T19:34:33.141Z"
   },
   {
    "duration": 6,
    "start_time": "2023-06-05T19:34:33.975Z"
   },
   {
    "duration": 88,
    "start_time": "2023-06-05T19:34:33.983Z"
   },
   {
    "duration": 4,
    "start_time": "2023-06-05T19:34:34.073Z"
   },
   {
    "duration": 6,
    "start_time": "2023-06-05T19:34:34.078Z"
   },
   {
    "duration": 92,
    "start_time": "2023-06-05T19:34:37.589Z"
   },
   {
    "duration": 7484,
    "start_time": "2023-06-05T19:35:03.715Z"
   },
   {
    "duration": 1981,
    "start_time": "2023-06-05T19:36:47.989Z"
   },
   {
    "duration": 4,
    "start_time": "2023-06-05T19:38:08.748Z"
   },
   {
    "duration": 4,
    "start_time": "2023-06-05T19:38:32.615Z"
   },
   {
    "duration": 2095,
    "start_time": "2023-06-05T19:38:34.723Z"
   },
   {
    "duration": 5,
    "start_time": "2023-06-05T19:38:48.840Z"
   },
   {
    "duration": 356,
    "start_time": "2023-06-05T19:38:49.310Z"
   },
   {
    "duration": 7752,
    "start_time": "2023-06-05T19:39:10.556Z"
   },
   {
    "duration": 366,
    "start_time": "2023-06-05T19:41:14.585Z"
   },
   {
    "duration": 1915,
    "start_time": "2023-06-05T19:41:34.794Z"
   },
   {
    "duration": 49,
    "start_time": "2023-06-05T19:41:45.191Z"
   },
   {
    "duration": 5041,
    "start_time": "2023-06-05T19:42:27.591Z"
   },
   {
    "duration": 4328,
    "start_time": "2023-06-05T19:43:38.212Z"
   },
   {
    "duration": 13,
    "start_time": "2023-06-05T19:46:19.376Z"
   },
   {
    "duration": 12,
    "start_time": "2023-06-05T19:46:22.899Z"
   },
   {
    "duration": 7,
    "start_time": "2023-06-05T19:46:29.588Z"
   },
   {
    "duration": 6,
    "start_time": "2023-06-05T19:52:22.707Z"
   },
   {
    "duration": 6,
    "start_time": "2023-06-05T19:52:22.716Z"
   },
   {
    "duration": 233,
    "start_time": "2023-06-05T19:52:22.724Z"
   },
   {
    "duration": 4,
    "start_time": "2023-06-05T19:52:22.960Z"
   },
   {
    "duration": 21,
    "start_time": "2023-06-05T19:52:22.967Z"
   },
   {
    "duration": 257,
    "start_time": "2023-06-05T19:52:22.990Z"
   },
   {
    "duration": 197,
    "start_time": "2023-06-05T19:52:23.250Z"
   },
   {
    "duration": 8287,
    "start_time": "2023-06-05T19:52:23.449Z"
   },
   {
    "duration": 7965,
    "start_time": "2023-06-05T19:52:31.738Z"
   },
   {
    "duration": 26,
    "start_time": "2023-06-05T19:52:39.704Z"
   },
   {
    "duration": 24,
    "start_time": "2023-06-05T19:52:39.732Z"
   },
   {
    "duration": 4,
    "start_time": "2023-06-05T19:52:39.758Z"
   },
   {
    "duration": 89,
    "start_time": "2023-06-05T19:52:39.764Z"
   },
   {
    "duration": 243,
    "start_time": "2023-06-05T19:52:39.856Z"
   },
   {
    "duration": 4,
    "start_time": "2023-06-05T19:52:40.100Z"
   },
   {
    "duration": 69,
    "start_time": "2023-06-05T19:52:40.105Z"
   },
   {
    "duration": 3,
    "start_time": "2023-06-05T19:52:40.175Z"
   },
   {
    "duration": 85,
    "start_time": "2023-06-05T19:52:40.181Z"
   },
   {
    "duration": 4,
    "start_time": "2023-06-05T19:52:40.268Z"
   },
   {
    "duration": 9,
    "start_time": "2023-06-05T19:52:40.274Z"
   },
   {
    "duration": 853,
    "start_time": "2023-06-05T19:52:40.285Z"
   },
   {
    "duration": 5,
    "start_time": "2023-06-05T19:52:41.141Z"
   },
   {
    "duration": 55,
    "start_time": "2023-06-05T19:52:41.148Z"
   },
   {
    "duration": 3,
    "start_time": "2023-06-05T19:52:41.205Z"
   },
   {
    "duration": 381,
    "start_time": "2023-06-05T19:52:41.209Z"
   },
   {
    "duration": 5,
    "start_time": "2023-06-05T19:52:41.592Z"
   },
   {
    "duration": 4565,
    "start_time": "2023-06-05T19:52:41.598Z"
   },
   {
    "duration": 4177,
    "start_time": "2023-06-05T19:52:46.164Z"
   },
   {
    "duration": 6,
    "start_time": "2023-06-05T19:52:50.343Z"
   },
   {
    "duration": 1855,
    "start_time": "2023-06-05T19:52:50.350Z"
   },
   {
    "duration": 1,
    "start_time": "2023-06-05T19:52:52.207Z"
   },
   {
    "duration": 0,
    "start_time": "2023-06-05T19:52:52.210Z"
   },
   {
    "duration": 0,
    "start_time": "2023-06-05T19:52:52.211Z"
   },
   {
    "duration": 0,
    "start_time": "2023-06-05T19:52:52.213Z"
   },
   {
    "duration": 0,
    "start_time": "2023-06-05T19:52:52.214Z"
   },
   {
    "duration": 0,
    "start_time": "2023-06-05T19:52:52.216Z"
   },
   {
    "duration": 0,
    "start_time": "2023-06-05T19:52:52.217Z"
   },
   {
    "duration": 0,
    "start_time": "2023-06-05T19:52:52.219Z"
   },
   {
    "duration": 0,
    "start_time": "2023-06-05T19:52:52.220Z"
   },
   {
    "duration": 0,
    "start_time": "2023-06-05T19:52:52.221Z"
   },
   {
    "duration": 0,
    "start_time": "2023-06-05T19:52:52.222Z"
   },
   {
    "duration": 0,
    "start_time": "2023-06-05T19:52:52.223Z"
   },
   {
    "duration": 0,
    "start_time": "2023-06-05T19:52:52.227Z"
   },
   {
    "duration": 0,
    "start_time": "2023-06-05T19:52:52.227Z"
   },
   {
    "duration": 0,
    "start_time": "2023-06-05T19:52:52.228Z"
   },
   {
    "duration": 0,
    "start_time": "2023-06-05T19:52:52.234Z"
   },
   {
    "duration": 0,
    "start_time": "2023-06-05T19:52:52.235Z"
   },
   {
    "duration": 0,
    "start_time": "2023-06-05T19:52:52.236Z"
   },
   {
    "duration": 39,
    "start_time": "2023-06-05T19:53:39.314Z"
   },
   {
    "duration": 4,
    "start_time": "2023-06-05T19:53:41.906Z"
   },
   {
    "duration": 35,
    "start_time": "2023-06-05T19:53:42.643Z"
   },
   {
    "duration": 4,
    "start_time": "2023-06-05T19:53:43.246Z"
   },
   {
    "duration": 47,
    "start_time": "2023-06-05T19:53:43.808Z"
   },
   {
    "duration": 5,
    "start_time": "2023-06-05T19:53:44.575Z"
   },
   {
    "duration": 1470,
    "start_time": "2023-06-05T19:53:45.720Z"
   },
   {
    "duration": 690,
    "start_time": "2023-06-05T19:53:48.049Z"
   },
   {
    "duration": 65,
    "start_time": "2023-06-05T19:53:55.116Z"
   },
   {
    "duration": 233,
    "start_time": "2023-06-05T19:53:56.340Z"
   },
   {
    "duration": 118,
    "start_time": "2023-06-05T19:53:56.983Z"
   },
   {
    "duration": 37,
    "start_time": "2023-06-05T19:53:57.450Z"
   },
   {
    "duration": 3,
    "start_time": "2023-06-05T19:53:58.140Z"
   },
   {
    "duration": 87,
    "start_time": "2023-06-05T19:53:58.879Z"
   },
   {
    "duration": 6,
    "start_time": "2023-06-05T19:54:00.471Z"
   },
   {
    "duration": 5,
    "start_time": "2023-06-05T19:54:02.341Z"
   },
   {
    "duration": 4,
    "start_time": "2023-06-05T19:54:03.988Z"
   },
   {
    "duration": 6,
    "start_time": "2023-06-05T19:54:04.646Z"
   },
   {
    "duration": 86,
    "start_time": "2023-06-05T19:54:05.402Z"
   },
   {
    "duration": 89,
    "start_time": "2023-06-05T19:54:25.874Z"
   },
   {
    "duration": 154,
    "start_time": "2023-06-05T19:55:28.703Z"
   },
   {
    "duration": 5,
    "start_time": "2023-06-05T19:55:29.450Z"
   },
   {
    "duration": 6,
    "start_time": "2023-06-05T19:55:29.977Z"
   },
   {
    "duration": 5,
    "start_time": "2023-06-05T19:55:30.499Z"
   },
   {
    "duration": 4,
    "start_time": "2023-06-05T19:55:33.582Z"
   },
   {
    "duration": 84,
    "start_time": "2023-06-05T19:55:35.443Z"
   },
   {
    "duration": 31828,
    "start_time": "2023-06-05T19:55:41.373Z"
   },
   {
    "duration": 39428,
    "start_time": "2023-06-05T19:56:50.841Z"
   },
   {
    "duration": 4479,
    "start_time": "2023-06-05T19:57:37.105Z"
   },
   {
    "duration": 263,
    "start_time": "2023-06-05T19:58:37.865Z"
   },
   {
    "duration": 68,
    "start_time": "2023-06-05T19:59:14.781Z"
   },
   {
    "duration": 280,
    "start_time": "2023-06-05T20:00:03.776Z"
   },
   {
    "duration": 264,
    "start_time": "2023-06-05T20:00:10.276Z"
   },
   {
    "duration": 265,
    "start_time": "2023-06-05T20:00:17.682Z"
   },
   {
    "duration": 6,
    "start_time": "2023-06-05T20:07:05.541Z"
   },
   {
    "duration": 13,
    "start_time": "2023-06-05T20:07:05.549Z"
   },
   {
    "duration": 215,
    "start_time": "2023-06-05T20:07:05.564Z"
   },
   {
    "duration": 4,
    "start_time": "2023-06-05T20:07:05.781Z"
   },
   {
    "duration": 6,
    "start_time": "2023-06-05T20:07:05.788Z"
   },
   {
    "duration": 258,
    "start_time": "2023-06-05T20:07:05.796Z"
   },
   {
    "duration": 185,
    "start_time": "2023-06-05T20:07:06.056Z"
   },
   {
    "duration": 8567,
    "start_time": "2023-06-05T20:07:06.243Z"
   },
   {
    "duration": 7883,
    "start_time": "2023-06-05T20:07:14.812Z"
   },
   {
    "duration": 12,
    "start_time": "2023-06-05T20:07:22.697Z"
   },
   {
    "duration": 39,
    "start_time": "2023-06-05T20:07:22.711Z"
   },
   {
    "duration": 6,
    "start_time": "2023-06-05T20:07:22.752Z"
   },
   {
    "duration": 81,
    "start_time": "2023-06-05T20:07:22.759Z"
   },
   {
    "duration": 32,
    "start_time": "2023-06-05T20:07:22.844Z"
   },
   {
    "duration": 4,
    "start_time": "2023-06-05T20:07:22.878Z"
   },
   {
    "duration": 65,
    "start_time": "2023-06-05T20:07:22.884Z"
   },
   {
    "duration": 3,
    "start_time": "2023-06-05T20:07:22.950Z"
   },
   {
    "duration": 91,
    "start_time": "2023-06-05T20:07:22.955Z"
   },
   {
    "duration": 4,
    "start_time": "2023-06-05T20:07:23.048Z"
   },
   {
    "duration": 825,
    "start_time": "2023-06-05T20:07:23.054Z"
   },
   {
    "duration": 4,
    "start_time": "2023-06-05T20:07:23.881Z"
   },
   {
    "duration": 70,
    "start_time": "2023-06-05T20:07:23.886Z"
   },
   {
    "duration": 16,
    "start_time": "2023-06-05T20:07:23.957Z"
   },
   {
    "duration": 331,
    "start_time": "2023-06-05T20:07:23.975Z"
   },
   {
    "duration": 4264,
    "start_time": "2023-06-05T20:07:24.307Z"
   },
   {
    "duration": 4124,
    "start_time": "2023-06-05T20:07:28.573Z"
   },
   {
    "duration": 4,
    "start_time": "2023-06-05T20:07:32.699Z"
   },
   {
    "duration": 51,
    "start_time": "2023-06-05T20:07:32.705Z"
   },
   {
    "duration": 5,
    "start_time": "2023-06-05T20:07:32.758Z"
   },
   {
    "duration": 57,
    "start_time": "2023-06-05T20:07:32.765Z"
   },
   {
    "duration": 12,
    "start_time": "2023-06-05T20:07:32.824Z"
   },
   {
    "duration": 41,
    "start_time": "2023-06-05T20:07:32.844Z"
   },
   {
    "duration": 11,
    "start_time": "2023-06-05T20:07:32.887Z"
   },
   {
    "duration": 1367,
    "start_time": "2023-06-05T20:07:32.900Z"
   },
   {
    "duration": 675,
    "start_time": "2023-06-05T20:07:34.269Z"
   },
   {
    "duration": 53,
    "start_time": "2023-06-05T20:07:34.947Z"
   },
   {
    "duration": 231,
    "start_time": "2023-06-05T20:07:35.001Z"
   },
   {
    "duration": 107,
    "start_time": "2023-06-05T20:07:35.234Z"
   },
   {
    "duration": 31,
    "start_time": "2023-06-05T20:07:35.343Z"
   },
   {
    "duration": 2,
    "start_time": "2023-06-05T20:07:35.376Z"
   },
   {
    "duration": 117,
    "start_time": "2023-06-05T20:07:35.382Z"
   },
   {
    "duration": 5,
    "start_time": "2023-06-05T20:07:35.501Z"
   },
   {
    "duration": 7,
    "start_time": "2023-06-05T20:07:35.508Z"
   },
   {
    "duration": 21,
    "start_time": "2023-06-05T20:07:35.517Z"
   },
   {
    "duration": 5,
    "start_time": "2023-06-05T20:07:35.542Z"
   },
   {
    "duration": 92,
    "start_time": "2023-06-05T20:07:35.549Z"
   },
   {
    "duration": 38193,
    "start_time": "2023-06-05T20:07:51.044Z"
   },
   {
    "duration": 219,
    "start_time": "2023-06-05T20:08:41.792Z"
   },
   {
    "duration": 52,
    "start_time": "2023-06-05T20:08:58.769Z"
   },
   {
    "duration": 26631,
    "start_time": "2023-06-05T20:09:37.874Z"
   },
   {
    "duration": 131,
    "start_time": "2023-06-05T20:10:34.176Z"
   },
   {
    "duration": 40576,
    "start_time": "2023-06-05T20:11:11.797Z"
   },
   {
    "duration": 49764,
    "start_time": "2023-06-05T20:11:52.375Z"
   },
   {
    "duration": 88,
    "start_time": "2023-06-05T20:13:10.966Z"
   },
   {
    "duration": 55,
    "start_time": "2023-06-05T20:13:38.925Z"
   },
   {
    "duration": 27,
    "start_time": "2023-06-05T20:14:07.183Z"
   },
   {
    "duration": 507,
    "start_time": "2023-06-05T20:14:14.941Z"
   },
   {
    "duration": 21,
    "start_time": "2023-06-05T20:14:51.763Z"
   },
   {
    "duration": 106439,
    "start_time": "2023-06-05T20:15:08.921Z"
   },
   {
    "duration": 5174,
    "start_time": "2023-06-05T20:17:28.942Z"
   },
   {
    "duration": 298,
    "start_time": "2023-06-05T20:18:46.841Z"
   },
   {
    "duration": 4,
    "start_time": "2023-06-05T20:37:41.503Z"
   },
   {
    "duration": 6,
    "start_time": "2023-06-05T20:37:41.509Z"
   },
   {
    "duration": 229,
    "start_time": "2023-06-05T20:37:41.516Z"
   },
   {
    "duration": 4,
    "start_time": "2023-06-05T20:37:41.751Z"
   },
   {
    "duration": 12,
    "start_time": "2023-06-05T20:37:41.757Z"
   },
   {
    "duration": 219,
    "start_time": "2023-06-05T20:37:41.771Z"
   },
   {
    "duration": 177,
    "start_time": "2023-06-05T20:37:41.992Z"
   },
   {
    "duration": 8829,
    "start_time": "2023-06-05T20:37:42.171Z"
   },
   {
    "duration": 8170,
    "start_time": "2023-06-05T20:37:51.002Z"
   },
   {
    "duration": 11,
    "start_time": "2023-06-05T20:37:59.175Z"
   },
   {
    "duration": 33,
    "start_time": "2023-06-05T20:37:59.188Z"
   },
   {
    "duration": 3,
    "start_time": "2023-06-05T20:37:59.223Z"
   },
   {
    "duration": 82,
    "start_time": "2023-06-05T20:37:59.227Z"
   },
   {
    "duration": 35,
    "start_time": "2023-06-05T20:37:59.310Z"
   },
   {
    "duration": 3,
    "start_time": "2023-06-05T20:37:59.347Z"
   },
   {
    "duration": 35,
    "start_time": "2023-06-05T20:37:59.354Z"
   },
   {
    "duration": 3,
    "start_time": "2023-06-05T20:37:59.391Z"
   },
   {
    "duration": 94,
    "start_time": "2023-06-05T20:37:59.395Z"
   },
   {
    "duration": 4,
    "start_time": "2023-06-05T20:37:59.491Z"
   },
   {
    "duration": 951,
    "start_time": "2023-06-05T20:37:59.498Z"
   },
   {
    "duration": 4,
    "start_time": "2023-06-05T20:38:00.450Z"
   },
   {
    "duration": 53,
    "start_time": "2023-06-05T20:38:00.456Z"
   },
   {
    "duration": 4,
    "start_time": "2023-06-05T20:38:00.510Z"
   },
   {
    "duration": 359,
    "start_time": "2023-06-05T20:38:00.529Z"
   },
   {
    "duration": 4620,
    "start_time": "2023-06-05T20:38:00.890Z"
   },
   {
    "duration": 4497,
    "start_time": "2023-06-05T20:38:05.512Z"
   },
   {
    "duration": 5,
    "start_time": "2023-06-05T20:38:10.011Z"
   },
   {
    "duration": 57,
    "start_time": "2023-06-05T20:38:10.020Z"
   },
   {
    "duration": 5,
    "start_time": "2023-06-05T20:38:10.080Z"
   },
   {
    "duration": 56,
    "start_time": "2023-06-05T20:38:10.087Z"
   },
   {
    "duration": 6,
    "start_time": "2023-06-05T20:38:10.149Z"
   },
   {
    "duration": 47,
    "start_time": "2023-06-05T20:38:10.163Z"
   },
   {
    "duration": 5,
    "start_time": "2023-06-05T20:38:10.211Z"
   },
   {
    "duration": 1475,
    "start_time": "2023-06-05T20:38:10.217Z"
   },
   {
    "duration": 767,
    "start_time": "2023-06-05T20:38:11.693Z"
   },
   {
    "duration": 56,
    "start_time": "2023-06-05T20:38:12.461Z"
   },
   {
    "duration": 216,
    "start_time": "2023-06-05T20:38:12.525Z"
   },
   {
    "duration": 105,
    "start_time": "2023-06-05T20:38:12.742Z"
   },
   {
    "duration": 33,
    "start_time": "2023-06-05T20:38:12.848Z"
   },
   {
    "duration": 4,
    "start_time": "2023-06-05T20:38:12.883Z"
   },
   {
    "duration": 94,
    "start_time": "2023-06-05T20:38:12.889Z"
   },
   {
    "duration": 5,
    "start_time": "2023-06-05T20:38:12.985Z"
   },
   {
    "duration": 8,
    "start_time": "2023-06-05T20:38:12.992Z"
   },
   {
    "duration": 5,
    "start_time": "2023-06-05T20:38:13.002Z"
   },
   {
    "duration": 24,
    "start_time": "2023-06-05T20:38:13.009Z"
   },
   {
    "duration": 75,
    "start_time": "2023-06-05T20:38:13.040Z"
   },
   {
    "duration": 39662,
    "start_time": "2023-06-05T20:38:13.117Z"
   },
   {
    "duration": 127,
    "start_time": "2023-06-05T20:39:02.668Z"
   },
   {
    "duration": 233,
    "start_time": "2023-06-05T20:39:28.574Z"
   },
   {
    "duration": 100,
    "start_time": "2023-06-05T20:42:06.861Z"
   },
   {
    "duration": 296,
    "start_time": "2023-06-05T20:42:19.873Z"
   },
   {
    "duration": 231,
    "start_time": "2023-06-05T20:42:33.287Z"
   },
   {
    "duration": 7,
    "start_time": "2023-06-05T20:43:15.995Z"
   },
   {
    "duration": 23,
    "start_time": "2023-06-05T20:43:22.350Z"
   },
   {
    "duration": 20,
    "start_time": "2023-06-05T20:43:41.282Z"
   },
   {
    "duration": 48,
    "start_time": "2023-06-05T20:45:56.220Z"
   },
   {
    "duration": 5876,
    "start_time": "2023-06-05T20:48:11.820Z"
   },
   {
    "duration": 4,
    "start_time": "2023-06-05T20:48:53.852Z"
   },
   {
    "duration": 7,
    "start_time": "2023-06-05T20:48:53.859Z"
   },
   {
    "duration": 241,
    "start_time": "2023-06-05T20:48:53.868Z"
   },
   {
    "duration": 3,
    "start_time": "2023-06-05T20:48:54.111Z"
   },
   {
    "duration": 18,
    "start_time": "2023-06-05T20:48:54.117Z"
   },
   {
    "duration": 252,
    "start_time": "2023-06-05T20:48:54.142Z"
   },
   {
    "duration": 185,
    "start_time": "2023-06-05T20:48:54.396Z"
   },
   {
    "duration": 8680,
    "start_time": "2023-06-05T20:48:54.583Z"
   },
   {
    "duration": 8324,
    "start_time": "2023-06-05T20:49:03.265Z"
   },
   {
    "duration": 11,
    "start_time": "2023-06-05T20:49:11.591Z"
   },
   {
    "duration": 43,
    "start_time": "2023-06-05T20:49:11.604Z"
   },
   {
    "duration": 6,
    "start_time": "2023-06-05T20:49:11.650Z"
   },
   {
    "duration": 89,
    "start_time": "2023-06-05T20:49:11.659Z"
   },
   {
    "duration": 31,
    "start_time": "2023-06-05T20:49:11.757Z"
   },
   {
    "duration": 4,
    "start_time": "2023-06-05T20:49:11.790Z"
   },
   {
    "duration": 59,
    "start_time": "2023-06-05T20:49:11.796Z"
   },
   {
    "duration": 3,
    "start_time": "2023-06-05T20:49:11.858Z"
   },
   {
    "duration": 91,
    "start_time": "2023-06-05T20:49:11.863Z"
   },
   {
    "duration": 19,
    "start_time": "2023-06-05T20:49:11.959Z"
   },
   {
    "duration": 887,
    "start_time": "2023-06-05T20:49:11.987Z"
   },
   {
    "duration": 4,
    "start_time": "2023-06-05T20:49:12.876Z"
   },
   {
    "duration": 77,
    "start_time": "2023-06-05T20:49:12.882Z"
   },
   {
    "duration": 3,
    "start_time": "2023-06-05T20:49:12.961Z"
   },
   {
    "duration": 339,
    "start_time": "2023-06-05T20:49:12.966Z"
   },
   {
    "duration": 4638,
    "start_time": "2023-06-05T20:49:13.307Z"
   },
   {
    "duration": 4432,
    "start_time": "2023-06-05T20:49:17.947Z"
   },
   {
    "duration": 4,
    "start_time": "2023-06-05T20:49:22.380Z"
   },
   {
    "duration": 60,
    "start_time": "2023-06-05T20:49:22.386Z"
   },
   {
    "duration": 4,
    "start_time": "2023-06-05T20:49:22.456Z"
   },
   {
    "duration": 36,
    "start_time": "2023-06-05T20:49:22.462Z"
   },
   {
    "duration": 4,
    "start_time": "2023-06-05T20:49:22.500Z"
   },
   {
    "duration": 55,
    "start_time": "2023-06-05T20:49:22.506Z"
   },
   {
    "duration": 6,
    "start_time": "2023-06-05T20:49:22.563Z"
   },
   {
    "duration": 1417,
    "start_time": "2023-06-05T20:49:22.571Z"
   },
   {
    "duration": 721,
    "start_time": "2023-06-05T20:49:23.990Z"
   },
   {
    "duration": 67,
    "start_time": "2023-06-05T20:49:24.713Z"
   },
   {
    "duration": 253,
    "start_time": "2023-06-05T20:49:24.782Z"
   },
   {
    "duration": 104,
    "start_time": "2023-06-05T20:49:25.041Z"
   },
   {
    "duration": 30,
    "start_time": "2023-06-05T20:49:25.147Z"
   },
   {
    "duration": 2,
    "start_time": "2023-06-05T20:49:25.179Z"
   },
   {
    "duration": 120,
    "start_time": "2023-06-05T20:49:25.185Z"
   },
   {
    "duration": 5,
    "start_time": "2023-06-05T20:49:25.308Z"
   },
   {
    "duration": 17,
    "start_time": "2023-06-05T20:49:25.331Z"
   },
   {
    "duration": 8,
    "start_time": "2023-06-05T20:49:25.355Z"
   },
   {
    "duration": 10,
    "start_time": "2023-06-05T20:49:25.366Z"
   },
   {
    "duration": 87,
    "start_time": "2023-06-05T20:49:25.378Z"
   },
   {
    "duration": 28,
    "start_time": "2023-06-05T20:49:40.023Z"
   },
   {
    "duration": 212,
    "start_time": "2023-06-05T20:50:16.022Z"
   },
   {
    "duration": 384,
    "start_time": "2023-06-05T20:50:26.978Z"
   },
   {
    "duration": 9,
    "start_time": "2023-06-05T20:51:42.584Z"
   },
   {
    "duration": 4,
    "start_time": "2023-06-05T20:52:02.697Z"
   },
   {
    "duration": 8,
    "start_time": "2023-06-05T20:52:08.356Z"
   },
   {
    "duration": 11,
    "start_time": "2023-06-05T20:52:16.220Z"
   },
   {
    "duration": 8,
    "start_time": "2023-06-05T20:52:46.794Z"
   },
   {
    "duration": 7,
    "start_time": "2023-06-05T20:53:00.390Z"
   },
   {
    "duration": 12,
    "start_time": "2023-06-05T20:53:02.249Z"
   },
   {
    "duration": 41,
    "start_time": "2023-06-05T20:54:13.658Z"
   },
   {
    "duration": 6,
    "start_time": "2023-06-05T20:54:25.490Z"
   },
   {
    "duration": 10,
    "start_time": "2023-06-05T20:54:25.499Z"
   },
   {
    "duration": 285,
    "start_time": "2023-06-05T20:54:25.511Z"
   },
   {
    "duration": 5,
    "start_time": "2023-06-05T20:54:25.799Z"
   },
   {
    "duration": 33,
    "start_time": "2023-06-05T20:54:25.806Z"
   },
   {
    "duration": 304,
    "start_time": "2023-06-05T20:54:25.850Z"
   },
   {
    "duration": 217,
    "start_time": "2023-06-05T20:54:26.159Z"
   },
   {
    "duration": 9049,
    "start_time": "2023-06-05T20:54:26.378Z"
   },
   {
    "duration": 8381,
    "start_time": "2023-06-05T20:54:35.437Z"
   },
   {
    "duration": 26,
    "start_time": "2023-06-05T20:54:43.831Z"
   },
   {
    "duration": 19,
    "start_time": "2023-06-05T20:54:43.864Z"
   },
   {
    "duration": 13,
    "start_time": "2023-06-05T20:54:43.884Z"
   },
   {
    "duration": 46,
    "start_time": "2023-06-05T20:54:45.555Z"
   },
   {
    "duration": 8,
    "start_time": "2023-06-05T20:55:01.471Z"
   },
   {
    "duration": 8,
    "start_time": "2023-06-05T20:55:14.691Z"
   },
   {
    "duration": 4,
    "start_time": "2023-06-05T20:55:42.399Z"
   },
   {
    "duration": 27,
    "start_time": "2023-06-05T20:55:42.405Z"
   },
   {
    "duration": 220,
    "start_time": "2023-06-05T20:55:42.434Z"
   },
   {
    "duration": 4,
    "start_time": "2023-06-05T20:55:42.656Z"
   },
   {
    "duration": 9,
    "start_time": "2023-06-05T20:55:42.662Z"
   },
   {
    "duration": 236,
    "start_time": "2023-06-05T20:55:42.672Z"
   },
   {
    "duration": 183,
    "start_time": "2023-06-05T20:55:42.909Z"
   },
   {
    "duration": 8603,
    "start_time": "2023-06-05T20:55:43.094Z"
   },
   {
    "duration": 8344,
    "start_time": "2023-06-05T20:55:51.700Z"
   },
   {
    "duration": 17,
    "start_time": "2023-06-05T20:56:00.052Z"
   },
   {
    "duration": 65,
    "start_time": "2023-06-05T20:56:00.072Z"
   },
   {
    "duration": 52,
    "start_time": "2023-06-05T20:56:00.143Z"
   },
   {
    "duration": 8,
    "start_time": "2023-06-05T20:56:05.254Z"
   },
   {
    "duration": 10,
    "start_time": "2023-06-05T20:56:50.386Z"
   },
   {
    "duration": 8,
    "start_time": "2023-06-05T20:56:58.255Z"
   },
   {
    "duration": 7,
    "start_time": "2023-06-05T20:57:54.909Z"
   },
   {
    "duration": 14,
    "start_time": "2023-06-05T20:58:27.923Z"
   },
   {
    "duration": 9,
    "start_time": "2023-06-05T20:58:31.913Z"
   },
   {
    "duration": 8,
    "start_time": "2023-06-05T20:59:18.955Z"
   },
   {
    "duration": 7,
    "start_time": "2023-06-05T21:01:04.486Z"
   },
   {
    "duration": 15,
    "start_time": "2023-06-05T21:01:07.822Z"
   },
   {
    "duration": 7,
    "start_time": "2023-06-05T21:01:13.412Z"
   },
   {
    "duration": 9,
    "start_time": "2023-06-05T21:02:01.352Z"
   },
   {
    "duration": 7,
    "start_time": "2023-06-05T21:02:05.287Z"
   },
   {
    "duration": 10,
    "start_time": "2023-06-05T21:02:08.674Z"
   },
   {
    "duration": 8,
    "start_time": "2023-06-05T21:02:11.061Z"
   },
   {
    "duration": 7,
    "start_time": "2023-06-05T21:02:17.556Z"
   },
   {
    "duration": 10,
    "start_time": "2023-06-05T21:03:31.783Z"
   },
   {
    "duration": 4,
    "start_time": "2023-06-05T21:03:38.683Z"
   },
   {
    "duration": 28,
    "start_time": "2023-06-05T21:04:04.578Z"
   },
   {
    "duration": 9,
    "start_time": "2023-06-05T21:04:11.123Z"
   },
   {
    "duration": 6,
    "start_time": "2023-06-05T21:04:14.902Z"
   },
   {
    "duration": 9,
    "start_time": "2023-06-05T21:04:17.791Z"
   },
   {
    "duration": 11,
    "start_time": "2023-06-05T21:05:06.677Z"
   },
   {
    "duration": 8,
    "start_time": "2023-06-05T21:05:10.395Z"
   },
   {
    "duration": 9,
    "start_time": "2023-06-05T21:05:14.920Z"
   },
   {
    "duration": 11,
    "start_time": "2023-06-05T21:05:43.648Z"
   },
   {
    "duration": 9,
    "start_time": "2023-06-05T21:05:46.999Z"
   },
   {
    "duration": 9,
    "start_time": "2023-06-05T21:05:50.764Z"
   },
   {
    "duration": 10,
    "start_time": "2023-06-05T21:06:12.777Z"
   },
   {
    "duration": 7,
    "start_time": "2023-06-05T21:06:15.894Z"
   },
   {
    "duration": 7,
    "start_time": "2023-06-05T21:06:19.505Z"
   },
   {
    "duration": 8,
    "start_time": "2023-06-05T21:06:22.900Z"
   },
   {
    "duration": 10,
    "start_time": "2023-06-05T21:06:26.910Z"
   },
   {
    "duration": 15,
    "start_time": "2023-06-05T21:06:31.051Z"
   },
   {
    "duration": 9,
    "start_time": "2023-06-05T21:07:20.274Z"
   },
   {
    "duration": 9,
    "start_time": "2023-06-05T21:07:24.386Z"
   },
   {
    "duration": 7,
    "start_time": "2023-06-05T21:07:28.274Z"
   },
   {
    "duration": 8,
    "start_time": "2023-06-05T21:07:32.571Z"
   },
   {
    "duration": 9,
    "start_time": "2023-06-05T21:07:36.052Z"
   },
   {
    "duration": 4,
    "start_time": "2023-06-05T21:08:13.954Z"
   },
   {
    "duration": 9,
    "start_time": "2023-06-05T21:08:13.960Z"
   },
   {
    "duration": 228,
    "start_time": "2023-06-05T21:08:13.971Z"
   },
   {
    "duration": 4,
    "start_time": "2023-06-05T21:08:14.201Z"
   },
   {
    "duration": 10,
    "start_time": "2023-06-05T21:08:14.207Z"
   },
   {
    "duration": 243,
    "start_time": "2023-06-05T21:08:14.218Z"
   },
   {
    "duration": 174,
    "start_time": "2023-06-05T21:08:14.463Z"
   },
   {
    "duration": 8422,
    "start_time": "2023-06-05T21:08:14.639Z"
   },
   {
    "duration": 8342,
    "start_time": "2023-06-05T21:08:23.063Z"
   },
   {
    "duration": 30,
    "start_time": "2023-06-05T21:08:31.407Z"
   },
   {
    "duration": 28,
    "start_time": "2023-06-05T21:08:31.439Z"
   },
   {
    "duration": 25,
    "start_time": "2023-06-05T21:08:31.469Z"
   },
   {
    "duration": 24,
    "start_time": "2023-06-05T21:08:31.496Z"
   },
   {
    "duration": 38,
    "start_time": "2023-06-05T21:08:31.523Z"
   },
   {
    "duration": 22,
    "start_time": "2023-06-05T21:08:31.563Z"
   },
   {
    "duration": 18,
    "start_time": "2023-06-05T21:08:31.587Z"
   },
   {
    "duration": 40,
    "start_time": "2023-06-05T21:08:31.606Z"
   },
   {
    "duration": 35,
    "start_time": "2023-06-05T21:08:31.648Z"
   },
   {
    "duration": 18,
    "start_time": "2023-06-05T21:08:31.685Z"
   },
   {
    "duration": 35,
    "start_time": "2023-06-05T21:08:31.705Z"
   },
   {
    "duration": 28,
    "start_time": "2023-06-05T21:08:31.745Z"
   },
   {
    "duration": 3,
    "start_time": "2023-06-05T21:08:31.775Z"
   },
   {
    "duration": 91,
    "start_time": "2023-06-05T21:08:31.780Z"
   },
   {
    "duration": 66,
    "start_time": "2023-06-05T21:08:31.873Z"
   },
   {
    "duration": 9,
    "start_time": "2023-06-05T21:08:31.948Z"
   },
   {
    "duration": 36,
    "start_time": "2023-06-05T21:08:31.959Z"
   },
   {
    "duration": 3,
    "start_time": "2023-06-05T21:08:31.997Z"
   },
   {
    "duration": 102,
    "start_time": "2023-06-05T21:08:32.002Z"
   },
   {
    "duration": 3,
    "start_time": "2023-06-05T21:08:32.106Z"
   },
   {
    "duration": 883,
    "start_time": "2023-06-05T21:08:32.112Z"
   },
   {
    "duration": 4,
    "start_time": "2023-06-05T21:08:32.997Z"
   },
   {
    "duration": 89,
    "start_time": "2023-06-05T21:08:33.003Z"
   },
   {
    "duration": 5720,
    "start_time": "2023-06-05T21:08:42.078Z"
   },
   {
    "duration": 386,
    "start_time": "2023-06-05T21:08:52.604Z"
   },
   {
    "duration": 5307,
    "start_time": "2023-06-05T21:08:53.554Z"
   },
   {
    "duration": 3,
    "start_time": "2023-06-05T21:09:37.974Z"
   },
   {
    "duration": 36,
    "start_time": "2023-06-05T21:09:38.413Z"
   },
   {
    "duration": 5,
    "start_time": "2023-06-05T21:09:38.960Z"
   },
   {
    "duration": 62,
    "start_time": "2023-06-05T21:09:39.615Z"
   },
   {
    "duration": 5,
    "start_time": "2023-06-05T21:09:40.094Z"
   },
   {
    "duration": 37,
    "start_time": "2023-06-05T21:09:40.674Z"
   },
   {
    "duration": 6,
    "start_time": "2023-06-05T21:09:41.502Z"
   },
   {
    "duration": 1536,
    "start_time": "2023-06-05T21:09:42.503Z"
   },
   {
    "duration": 783,
    "start_time": "2023-06-05T21:09:44.041Z"
   },
   {
    "duration": 41,
    "start_time": "2023-06-05T21:10:43.425Z"
   },
   {
    "duration": 80,
    "start_time": "2023-06-05T21:10:46.568Z"
   },
   {
    "duration": 51,
    "start_time": "2023-06-05T21:10:47.155Z"
   },
   {
    "duration": 55,
    "start_time": "2023-06-05T21:11:02.625Z"
   },
   {
    "duration": 18,
    "start_time": "2023-06-05T21:15:04.764Z"
   },
   {
    "duration": 9,
    "start_time": "2023-06-05T21:15:16.748Z"
   },
   {
    "duration": 17,
    "start_time": "2023-06-05T21:15:16.759Z"
   },
   {
    "duration": 266,
    "start_time": "2023-06-05T21:15:16.778Z"
   },
   {
    "duration": 4,
    "start_time": "2023-06-05T21:15:17.048Z"
   },
   {
    "duration": 23,
    "start_time": "2023-06-05T21:15:17.056Z"
   },
   {
    "duration": 337,
    "start_time": "2023-06-05T21:15:17.081Z"
   },
   {
    "duration": 200,
    "start_time": "2023-06-05T21:15:17.421Z"
   },
   {
    "duration": 8615,
    "start_time": "2023-06-05T21:15:17.636Z"
   },
   {
    "duration": 8165,
    "start_time": "2023-06-05T21:15:26.253Z"
   },
   {
    "duration": 34,
    "start_time": "2023-06-05T21:15:34.421Z"
   },
   {
    "duration": 25,
    "start_time": "2023-06-05T21:15:34.456Z"
   },
   {
    "duration": 22,
    "start_time": "2023-06-05T21:15:34.483Z"
   },
   {
    "duration": 37,
    "start_time": "2023-06-05T21:15:34.507Z"
   },
   {
    "duration": 22,
    "start_time": "2023-06-05T21:15:34.546Z"
   },
   {
    "duration": 19,
    "start_time": "2023-06-05T21:15:34.570Z"
   },
   {
    "duration": 17,
    "start_time": "2023-06-05T21:15:34.591Z"
   },
   {
    "duration": 23,
    "start_time": "2023-06-05T21:15:34.626Z"
   },
   {
    "duration": 19,
    "start_time": "2023-06-05T21:15:34.651Z"
   },
   {
    "duration": 17,
    "start_time": "2023-06-05T21:15:34.672Z"
   },
   {
    "duration": 17,
    "start_time": "2023-06-05T21:15:34.691Z"
   },
   {
    "duration": 26,
    "start_time": "2023-06-05T21:15:34.729Z"
   },
   {
    "duration": 4,
    "start_time": "2023-06-05T21:15:34.757Z"
   },
   {
    "duration": 50,
    "start_time": "2023-06-05T21:15:34.765Z"
   },
   {
    "duration": 44,
    "start_time": "2023-06-05T21:15:34.825Z"
   },
   {
    "duration": 4,
    "start_time": "2023-06-05T21:15:34.871Z"
   },
   {
    "duration": 74,
    "start_time": "2023-06-05T21:15:34.877Z"
   },
   {
    "duration": 4,
    "start_time": "2023-06-05T21:15:34.953Z"
   },
   {
    "duration": 81,
    "start_time": "2023-06-05T21:15:34.960Z"
   },
   {
    "duration": 7,
    "start_time": "2023-06-05T21:15:35.050Z"
   },
   {
    "duration": 851,
    "start_time": "2023-06-05T21:15:35.059Z"
   },
   {
    "duration": 16,
    "start_time": "2023-06-05T21:15:35.913Z"
   },
   {
    "duration": 71,
    "start_time": "2023-06-05T21:15:35.932Z"
   },
   {
    "duration": 4,
    "start_time": "2023-06-05T21:15:36.005Z"
   },
   {
    "duration": 52,
    "start_time": "2023-06-05T21:15:36.011Z"
   },
   {
    "duration": 4,
    "start_time": "2023-06-05T21:15:36.065Z"
   },
   {
    "duration": 42,
    "start_time": "2023-06-05T21:15:36.071Z"
   },
   {
    "duration": 3,
    "start_time": "2023-06-05T21:15:36.115Z"
   },
   {
    "duration": 53,
    "start_time": "2023-06-05T21:15:36.124Z"
   },
   {
    "duration": 4,
    "start_time": "2023-06-05T21:15:36.179Z"
   },
   {
    "duration": 1388,
    "start_time": "2023-06-05T21:15:36.184Z"
   },
   {
    "duration": 709,
    "start_time": "2023-06-05T21:15:37.574Z"
   },
   {
    "duration": 16,
    "start_time": "2023-06-05T21:15:38.285Z"
   },
   {
    "duration": 6,
    "start_time": "2023-06-05T21:15:46.852Z"
   },
   {
    "duration": 6,
    "start_time": "2023-06-05T21:15:46.861Z"
   },
   {
    "duration": 226,
    "start_time": "2023-06-05T21:15:46.869Z"
   },
   {
    "duration": 3,
    "start_time": "2023-06-05T21:15:47.097Z"
   },
   {
    "duration": 8,
    "start_time": "2023-06-05T21:15:47.103Z"
   },
   {
    "duration": 273,
    "start_time": "2023-06-05T21:15:47.112Z"
   },
   {
    "duration": 192,
    "start_time": "2023-06-05T21:15:47.387Z"
   },
   {
    "duration": 8719,
    "start_time": "2023-06-05T21:15:47.581Z"
   },
   {
    "duration": 8497,
    "start_time": "2023-06-05T21:15:56.303Z"
   },
   {
    "duration": 26,
    "start_time": "2023-06-05T21:16:04.802Z"
   },
   {
    "duration": 27,
    "start_time": "2023-06-05T21:16:04.830Z"
   },
   {
    "duration": 18,
    "start_time": "2023-06-05T21:16:04.859Z"
   },
   {
    "duration": 22,
    "start_time": "2023-06-05T21:16:04.885Z"
   },
   {
    "duration": 38,
    "start_time": "2023-06-05T21:16:04.911Z"
   },
   {
    "duration": 22,
    "start_time": "2023-06-05T21:16:04.951Z"
   },
   {
    "duration": 17,
    "start_time": "2023-06-05T21:16:04.974Z"
   },
   {
    "duration": 17,
    "start_time": "2023-06-05T21:16:04.993Z"
   },
   {
    "duration": 42,
    "start_time": "2023-06-05T21:16:05.012Z"
   },
   {
    "duration": 18,
    "start_time": "2023-06-05T21:16:05.056Z"
   },
   {
    "duration": 18,
    "start_time": "2023-06-05T21:16:05.076Z"
   },
   {
    "duration": 35,
    "start_time": "2023-06-05T21:16:05.096Z"
   },
   {
    "duration": 4,
    "start_time": "2023-06-05T21:16:05.133Z"
   },
   {
    "duration": 77,
    "start_time": "2023-06-05T21:16:05.138Z"
   },
   {
    "duration": 43,
    "start_time": "2023-06-05T21:16:05.217Z"
   },
   {
    "duration": 4,
    "start_time": "2023-06-05T21:16:05.261Z"
   },
   {
    "duration": 71,
    "start_time": "2023-06-05T21:16:05.266Z"
   },
   {
    "duration": 6,
    "start_time": "2023-06-05T21:16:05.339Z"
   },
   {
    "duration": 73,
    "start_time": "2023-06-05T21:16:05.350Z"
   },
   {
    "duration": 13,
    "start_time": "2023-06-05T21:16:05.427Z"
   },
   {
    "duration": 827,
    "start_time": "2023-06-05T21:16:05.445Z"
   },
   {
    "duration": 6,
    "start_time": "2023-06-05T21:16:06.274Z"
   },
   {
    "duration": 75,
    "start_time": "2023-06-05T21:16:06.282Z"
   },
   {
    "duration": 4,
    "start_time": "2023-06-05T21:16:06.361Z"
   },
   {
    "duration": 28,
    "start_time": "2023-06-05T21:16:06.367Z"
   },
   {
    "duration": 5,
    "start_time": "2023-06-05T21:16:06.397Z"
   },
   {
    "duration": 68,
    "start_time": "2023-06-05T21:16:06.404Z"
   },
   {
    "duration": 3,
    "start_time": "2023-06-05T21:16:06.474Z"
   },
   {
    "duration": 62,
    "start_time": "2023-06-05T21:16:06.479Z"
   },
   {
    "duration": 10,
    "start_time": "2023-06-05T21:16:06.544Z"
   },
   {
    "duration": 1426,
    "start_time": "2023-06-05T21:16:06.556Z"
   },
   {
    "duration": 688,
    "start_time": "2023-06-05T21:16:07.985Z"
   },
   {
    "duration": 31,
    "start_time": "2023-06-05T21:16:08.675Z"
   },
   {
    "duration": 83,
    "start_time": "2023-06-05T21:16:10.258Z"
   },
   {
    "duration": 45,
    "start_time": "2023-06-05T21:16:10.690Z"
   },
   {
    "duration": 25,
    "start_time": "2023-06-05T21:16:27.878Z"
   },
   {
    "duration": 60,
    "start_time": "2023-06-05T21:16:35.492Z"
   },
   {
    "duration": 2,
    "start_time": "2023-06-05T21:16:47.480Z"
   },
   {
    "duration": 176,
    "start_time": "2023-06-05T21:16:48.009Z"
   },
   {
    "duration": 52,
    "start_time": "2023-06-05T21:16:51.099Z"
   },
   {
    "duration": 5,
    "start_time": "2023-06-05T21:17:10.501Z"
   },
   {
    "duration": 6,
    "start_time": "2023-06-05T21:17:11.082Z"
   },
   {
    "duration": 4,
    "start_time": "2023-06-05T21:17:11.707Z"
   },
   {
    "duration": 6,
    "start_time": "2023-06-05T21:17:13.750Z"
   },
   {
    "duration": 72,
    "start_time": "2023-06-05T21:17:14.688Z"
   },
   {
    "duration": 33850,
    "start_time": "2023-06-05T21:17:15.887Z"
   },
   {
    "duration": 147,
    "start_time": "2023-06-05T21:18:13.451Z"
   },
   {
    "duration": 56,
    "start_time": "2023-06-05T21:19:58.945Z"
   },
   {
    "duration": 15,
    "start_time": "2023-06-05T21:20:10.950Z"
   },
   {
    "duration": 26779,
    "start_time": "2023-06-05T21:20:13.852Z"
   },
   {
    "duration": 126,
    "start_time": "2023-06-05T21:20:56.576Z"
   },
   {
    "duration": 54,
    "start_time": "2023-06-05T21:21:10.749Z"
   },
   {
    "duration": 438,
    "start_time": "2023-06-05T21:21:27.676Z"
   },
   {
    "duration": 92,
    "start_time": "2023-06-05T21:22:00.372Z"
   },
   {
    "duration": 97,
    "start_time": "2023-06-05T21:22:12.021Z"
   },
   {
    "duration": 58,
    "start_time": "2023-06-05T21:22:28.885Z"
   },
   {
    "duration": 251,
    "start_time": "2023-06-05T21:22:38.756Z"
   },
   {
    "duration": 74,
    "start_time": "2023-06-05T21:23:31.320Z"
   },
   {
    "duration": 104649,
    "start_time": "2023-06-05T21:24:25.578Z"
   },
   {
    "duration": 5127,
    "start_time": "2023-06-05T21:26:56.071Z"
   },
   {
    "duration": 9,
    "start_time": "2023-06-05T21:27:10.951Z"
   },
   {
    "duration": 58,
    "start_time": "2023-06-05T21:27:12.543Z"
   },
   {
    "duration": 32,
    "start_time": "2023-06-05T21:28:04.405Z"
   },
   {
    "duration": 108892,
    "start_time": "2023-06-05T21:32:58.651Z"
   },
   {
    "duration": 313,
    "start_time": "2023-06-05T21:37:36.705Z"
   },
   {
    "duration": 13,
    "start_time": "2023-06-05T21:37:48.556Z"
   },
   {
    "duration": 6,
    "start_time": "2023-06-05T21:38:37.959Z"
   },
   {
    "duration": 1316,
    "start_time": "2023-06-05T21:38:47.981Z"
   },
   {
    "duration": 4,
    "start_time": "2023-06-05T21:39:01.355Z"
   },
   {
    "duration": 47,
    "start_time": "2023-06-05T21:39:08.769Z"
   },
   {
    "duration": 8,
    "start_time": "2023-06-05T21:39:31.160Z"
   },
   {
    "duration": 1403,
    "start_time": "2023-06-05T21:39:32.373Z"
   },
   {
    "duration": 4,
    "start_time": "2023-06-05T21:39:37.159Z"
   },
   {
    "duration": 14,
    "start_time": "2023-06-05T21:39:38.035Z"
   },
   {
    "duration": 42,
    "start_time": "2023-06-05T21:40:25.991Z"
   },
   {
    "duration": 49,
    "start_time": "2023-06-05T21:42:52.057Z"
   },
   {
    "duration": 55,
    "start_time": "2023-06-05T21:45:54.824Z"
   },
   {
    "duration": 37,
    "start_time": "2023-06-05T21:51:17.427Z"
   },
   {
    "duration": 82,
    "start_time": "2023-06-05T22:11:05.238Z"
   },
   {
    "duration": 87,
    "start_time": "2023-06-05T22:14:10.369Z"
   },
   {
    "duration": 21,
    "start_time": "2023-06-05T22:15:14.309Z"
   },
   {
    "duration": 19,
    "start_time": "2023-06-05T22:15:18.768Z"
   },
   {
    "duration": 229,
    "start_time": "2023-06-05T22:16:24.278Z"
   },
   {
    "duration": 31,
    "start_time": "2023-06-05T22:16:34.254Z"
   },
   {
    "duration": 21,
    "start_time": "2023-06-05T22:17:27.375Z"
   },
   {
    "duration": 38,
    "start_time": "2023-06-05T22:17:33.125Z"
   },
   {
    "duration": 1473,
    "start_time": "2023-06-05T22:17:41.746Z"
   },
   {
    "duration": 1997,
    "start_time": "2023-06-05T22:18:13.817Z"
   },
   {
    "duration": 2818,
    "start_time": "2023-06-05T22:18:24.791Z"
   },
   {
    "duration": 2814,
    "start_time": "2023-06-05T22:18:43.347Z"
   },
   {
    "duration": 2670,
    "start_time": "2023-06-05T22:19:23.707Z"
   },
   {
    "duration": 4306,
    "start_time": "2023-06-05T22:19:47.180Z"
   },
   {
    "duration": 4561,
    "start_time": "2023-06-05T22:19:57.103Z"
   },
   {
    "duration": 11429,
    "start_time": "2023-06-05T22:22:16.376Z"
   },
   {
    "duration": 7,
    "start_time": "2023-06-05T22:23:04.036Z"
   },
   {
    "duration": 24,
    "start_time": "2023-06-05T22:23:04.045Z"
   },
   {
    "duration": 274,
    "start_time": "2023-06-05T22:23:04.071Z"
   },
   {
    "duration": 4224,
    "start_time": "2023-06-05T22:23:04.348Z"
   },
   {
    "duration": 4722,
    "start_time": "2023-06-05T22:23:08.575Z"
   },
   {
    "duration": 3,
    "start_time": "2023-06-05T22:23:13.299Z"
   },
   {
    "duration": 7,
    "start_time": "2023-06-05T22:23:13.304Z"
   },
   {
    "duration": 11174,
    "start_time": "2023-06-05T22:25:05.610Z"
   },
   {
    "duration": 10834,
    "start_time": "2023-06-05T22:25:18.909Z"
   },
   {
    "duration": 4,
    "start_time": "2023-06-05T22:41:31.643Z"
   },
   {
    "duration": 203,
    "start_time": "2023-06-05T22:41:31.821Z"
   },
   {
    "duration": 35,
    "start_time": "2023-06-05T22:41:32.905Z"
   },
   {
    "duration": 29,
    "start_time": "2023-06-05T22:42:40.473Z"
   },
   {
    "duration": 4,
    "start_time": "2023-06-05T22:54:42.541Z"
   },
   {
    "duration": 28,
    "start_time": "2023-06-05T22:54:42.547Z"
   },
   {
    "duration": 211,
    "start_time": "2023-06-05T22:54:42.577Z"
   },
   {
    "duration": 4,
    "start_time": "2023-06-05T22:54:42.790Z"
   },
   {
    "duration": 14,
    "start_time": "2023-06-05T22:54:42.795Z"
   },
   {
    "duration": 9951,
    "start_time": "2023-06-05T22:54:42.810Z"
   },
   {
    "duration": 220,
    "start_time": "2023-06-05T22:54:52.763Z"
   },
   {
    "duration": 167,
    "start_time": "2023-06-05T22:54:52.985Z"
   },
   {
    "duration": 4,
    "start_time": "2023-06-05T22:55:01.972Z"
   },
   {
    "duration": 42,
    "start_time": "2023-06-05T22:55:01.977Z"
   },
   {
    "duration": 233,
    "start_time": "2023-06-05T22:55:02.021Z"
   },
   {
    "duration": 3,
    "start_time": "2023-06-05T22:55:02.255Z"
   },
   {
    "duration": 26,
    "start_time": "2023-06-05T22:55:02.260Z"
   },
   {
    "duration": 10067,
    "start_time": "2023-06-05T22:55:02.288Z"
   },
   {
    "duration": 219,
    "start_time": "2023-06-05T22:55:12.356Z"
   },
   {
    "duration": 172,
    "start_time": "2023-06-05T22:55:12.577Z"
   },
   {
    "duration": 16,
    "start_time": "2023-06-05T22:55:12.752Z"
   },
   {
    "duration": 21,
    "start_time": "2023-06-05T22:55:12.769Z"
   },
   {
    "duration": 38,
    "start_time": "2023-06-05T22:55:12.791Z"
   },
   {
    "duration": 21,
    "start_time": "2023-06-05T22:55:12.830Z"
   },
   {
    "duration": 17,
    "start_time": "2023-06-05T22:55:12.853Z"
   },
   {
    "duration": 17,
    "start_time": "2023-06-05T22:55:12.872Z"
   },
   {
    "duration": 51,
    "start_time": "2023-06-05T22:55:12.891Z"
   },
   {
    "duration": 18,
    "start_time": "2023-06-05T22:55:12.943Z"
   },
   {
    "duration": 16,
    "start_time": "2023-06-05T22:55:12.963Z"
   },
   {
    "duration": 17,
    "start_time": "2023-06-05T22:55:12.981Z"
   },
   {
    "duration": 43,
    "start_time": "2023-06-05T22:55:13.000Z"
   },
   {
    "duration": 17,
    "start_time": "2023-06-05T22:55:13.045Z"
   },
   {
    "duration": 3,
    "start_time": "2023-06-05T22:55:13.064Z"
   },
   {
    "duration": 84,
    "start_time": "2023-06-05T22:55:13.069Z"
   },
   {
    "duration": 42,
    "start_time": "2023-06-05T22:55:13.156Z"
   },
   {
    "duration": 3,
    "start_time": "2023-06-05T22:55:13.201Z"
   },
   {
    "duration": 59,
    "start_time": "2023-06-05T22:55:13.206Z"
   },
   {
    "duration": 3,
    "start_time": "2023-06-05T22:55:13.267Z"
   },
   {
    "duration": 69,
    "start_time": "2023-06-05T22:55:13.272Z"
   },
   {
    "duration": 4,
    "start_time": "2023-06-05T22:55:13.343Z"
   },
   {
    "duration": 766,
    "start_time": "2023-06-05T22:55:13.349Z"
   },
   {
    "duration": 7,
    "start_time": "2023-06-05T22:55:14.118Z"
   },
   {
    "duration": 58,
    "start_time": "2023-06-05T22:55:14.126Z"
   },
   {
    "duration": 4,
    "start_time": "2023-06-05T22:55:14.275Z"
   },
   {
    "duration": 34,
    "start_time": "2023-06-05T22:55:14.716Z"
   },
   {
    "duration": 4,
    "start_time": "2023-06-05T22:55:15.339Z"
   },
   {
    "duration": 51,
    "start_time": "2023-06-05T22:55:16.156Z"
   },
   {
    "duration": 4,
    "start_time": "2023-06-05T22:55:16.843Z"
   },
   {
    "duration": 41,
    "start_time": "2023-06-05T22:55:17.599Z"
   },
   {
    "duration": 4,
    "start_time": "2023-06-05T22:55:18.140Z"
   },
   {
    "duration": 1257,
    "start_time": "2023-06-05T22:55:18.843Z"
   },
   {
    "duration": 601,
    "start_time": "2023-06-05T22:55:20.101Z"
   },
   {
    "duration": 10,
    "start_time": "2023-06-05T22:58:04.274Z"
   },
   {
    "duration": 11,
    "start_time": "2023-06-05T22:58:11.283Z"
   },
   {
    "duration": 22,
    "start_time": "2023-06-05T22:58:25.559Z"
   },
   {
    "duration": 104,
    "start_time": "2023-06-05T22:58:47.782Z"
   },
   {
    "duration": 59,
    "start_time": "2023-06-05T22:58:48.509Z"
   },
   {
    "duration": 31,
    "start_time": "2023-06-05T23:00:27.107Z"
   },
   {
    "duration": 3,
    "start_time": "2023-06-05T23:00:28.254Z"
   },
   {
    "duration": 196,
    "start_time": "2023-06-05T23:00:28.742Z"
   },
   {
    "duration": 5,
    "start_time": "2023-06-05T23:00:30.639Z"
   },
   {
    "duration": 6,
    "start_time": "2023-06-05T23:00:31.241Z"
   },
   {
    "duration": 4,
    "start_time": "2023-06-05T23:00:32.397Z"
   },
   {
    "duration": 4,
    "start_time": "2023-06-05T23:00:33.541Z"
   },
   {
    "duration": 86,
    "start_time": "2023-06-05T23:00:35.672Z"
   },
   {
    "duration": 66,
    "start_time": "2023-06-05T23:00:45.480Z"
   },
   {
    "duration": 57000,
    "start_time": "2023-06-05T23:01:17.978Z"
   },
   {
    "duration": 3531,
    "start_time": "2023-06-05T23:02:46.557Z"
   },
   {
    "duration": 93219,
    "start_time": "2023-06-05T23:03:01.557Z"
   },
   {
    "duration": 4161,
    "start_time": "2023-06-05T23:04:34.778Z"
   },
   {
    "duration": 4705,
    "start_time": "2023-06-05T23:05:06.456Z"
   },
   {
    "duration": 6,
    "start_time": "2023-06-05T23:05:20.176Z"
   },
   {
    "duration": 29,
    "start_time": "2023-06-05T23:05:23.782Z"
   },
   {
    "duration": 1291,
    "start_time": "2023-06-05T23:05:28.675Z"
   },
   {
    "duration": 4,
    "start_time": "2023-06-05T23:05:30.813Z"
   },
   {
    "duration": 4,
    "start_time": "2023-06-05T23:05:32.170Z"
   },
   {
    "duration": 28,
    "start_time": "2023-06-05T23:05:56.700Z"
   },
   {
    "duration": 30,
    "start_time": "2023-06-05T23:10:17.016Z"
   },
   {
    "duration": 52,
    "start_time": "2023-06-06T07:28:34.062Z"
   },
   {
    "duration": 1650,
    "start_time": "2023-06-06T07:28:38.212Z"
   },
   {
    "duration": 3,
    "start_time": "2023-06-06T07:28:39.864Z"
   },
   {
    "duration": 1129,
    "start_time": "2023-06-06T07:28:39.869Z"
   },
   {
    "duration": 231,
    "start_time": "2023-06-06T07:28:41.000Z"
   },
   {
    "duration": 241,
    "start_time": "2023-06-06T07:29:11.820Z"
   },
   {
    "duration": 66,
    "start_time": "2023-06-06T07:32:34.926Z"
   },
   {
    "duration": 4,
    "start_time": "2023-06-06T07:32:39.539Z"
   },
   {
    "duration": 10734,
    "start_time": "2023-06-06T07:32:40.003Z"
   },
   {
    "duration": 31,
    "start_time": "2023-06-06T07:32:59.012Z"
   },
   {
    "duration": 59,
    "start_time": "2023-06-06T07:33:11.646Z"
   },
   {
    "duration": 5,
    "start_time": "2023-06-06T07:33:23.248Z"
   },
   {
    "duration": 56,
    "start_time": "2023-06-06T07:33:36.145Z"
   },
   {
    "duration": 11326,
    "start_time": "2023-06-06T07:34:50.400Z"
   },
   {
    "duration": 75,
    "start_time": "2023-06-06T07:35:01.729Z"
   },
   {
    "duration": 29,
    "start_time": "2023-06-06T07:35:01.806Z"
   },
   {
    "duration": 57,
    "start_time": "2023-06-06T07:38:00.812Z"
   },
   {
    "duration": 5,
    "start_time": "2023-06-06T07:39:03.444Z"
   },
   {
    "duration": 225,
    "start_time": "2023-06-06T07:39:05.832Z"
   },
   {
    "duration": 11422,
    "start_time": "2023-06-06T07:39:18.607Z"
   },
   {
    "duration": 25,
    "start_time": "2023-06-06T07:39:32.652Z"
   },
   {
    "duration": 60,
    "start_time": "2023-06-06T07:39:36.641Z"
   },
   {
    "duration": 183,
    "start_time": "2023-06-06T07:45:39.176Z"
   },
   {
    "duration": 65,
    "start_time": "2023-06-06T07:45:59.064Z"
   },
   {
    "duration": 243,
    "start_time": "2023-06-06T07:46:02.462Z"
   },
   {
    "duration": 529,
    "start_time": "2023-06-06T07:52:54.717Z"
   },
   {
    "duration": 4,
    "start_time": "2023-06-06T07:52:59.315Z"
   },
   {
    "duration": 547,
    "start_time": "2023-06-06T07:53:00.302Z"
   },
   {
    "duration": 595,
    "start_time": "2023-06-06T07:54:50.612Z"
   },
   {
    "duration": 11180,
    "start_time": "2023-06-06T07:55:24.836Z"
   },
   {
    "duration": 27,
    "start_time": "2023-06-06T07:57:49.889Z"
   },
   {
    "duration": 13,
    "start_time": "2023-06-06T07:58:51.545Z"
   },
   {
    "duration": 5,
    "start_time": "2023-06-06T07:59:07.724Z"
   },
   {
    "duration": 10,
    "start_time": "2023-06-06T07:59:22.964Z"
   },
   {
    "duration": 58,
    "start_time": "2023-06-06T07:59:29.931Z"
   },
   {
    "duration": 65,
    "start_time": "2023-06-06T08:00:05.686Z"
   },
   {
    "duration": 13,
    "start_time": "2023-06-06T08:01:02.947Z"
   },
   {
    "duration": 114,
    "start_time": "2023-06-06T08:01:06.702Z"
   },
   {
    "duration": 97,
    "start_time": "2023-06-06T08:01:36.125Z"
   },
   {
    "duration": 98,
    "start_time": "2023-06-06T08:02:14.744Z"
   },
   {
    "duration": 101,
    "start_time": "2023-06-06T08:02:30.755Z"
   },
   {
    "duration": 6,
    "start_time": "2023-06-06T08:02:42.005Z"
   },
   {
    "duration": 6,
    "start_time": "2023-06-06T08:03:24.448Z"
   },
   {
    "duration": 9,
    "start_time": "2023-06-06T08:16:00.107Z"
   },
   {
    "duration": 15,
    "start_time": "2023-06-06T08:16:41.672Z"
   },
   {
    "duration": 973,
    "start_time": "2023-06-06T08:17:11.493Z"
   },
   {
    "duration": 11937,
    "start_time": "2023-06-06T08:24:43.643Z"
   },
   {
    "duration": 27,
    "start_time": "2023-06-06T08:24:55.582Z"
   },
   {
    "duration": 895,
    "start_time": "2023-06-06T08:24:55.611Z"
   },
   {
    "duration": 59,
    "start_time": "2023-06-06T08:25:49.128Z"
   },
   {
    "duration": 275,
    "start_time": "2023-06-06T08:26:04.748Z"
   },
   {
    "duration": 200,
    "start_time": "2023-06-06T08:26:21.626Z"
   },
   {
    "duration": 271,
    "start_time": "2023-06-06T08:26:24.217Z"
   },
   {
    "duration": 191,
    "start_time": "2023-06-06T08:26:59.218Z"
   },
   {
    "duration": 5,
    "start_time": "2023-06-06T08:27:00.066Z"
   },
   {
    "duration": 11619,
    "start_time": "2023-06-06T08:27:00.953Z"
   },
   {
    "duration": 26,
    "start_time": "2023-06-06T08:27:12.574Z"
   },
   {
    "duration": 869,
    "start_time": "2023-06-06T08:27:12.602Z"
   },
   {
    "duration": 57,
    "start_time": "2023-06-06T08:27:34.319Z"
   },
   {
    "duration": 187,
    "start_time": "2023-06-06T08:27:52.346Z"
   },
   {
    "duration": 4,
    "start_time": "2023-06-06T08:27:52.835Z"
   },
   {
    "duration": 11155,
    "start_time": "2023-06-06T08:27:53.517Z"
   },
   {
    "duration": 56,
    "start_time": "2023-06-06T08:28:04.674Z"
   },
   {
    "duration": 44,
    "start_time": "2023-06-06T08:28:04.732Z"
   },
   {
    "duration": 864,
    "start_time": "2023-06-06T08:28:04.778Z"
   },
   {
    "duration": 185,
    "start_time": "2023-06-06T08:28:32.263Z"
   },
   {
    "duration": 5,
    "start_time": "2023-06-06T08:28:33.468Z"
   },
   {
    "duration": 10768,
    "start_time": "2023-06-06T08:28:34.324Z"
   },
   {
    "duration": 46,
    "start_time": "2023-06-06T08:28:45.095Z"
   },
   {
    "duration": 27,
    "start_time": "2023-06-06T08:28:45.156Z"
   },
   {
    "duration": 615,
    "start_time": "2023-06-06T08:28:50.169Z"
   },
   {
    "duration": 5,
    "start_time": "2023-06-06T08:29:15.136Z"
   },
   {
    "duration": 10547,
    "start_time": "2023-06-06T08:29:15.763Z"
   },
   {
    "duration": 52,
    "start_time": "2023-06-06T08:29:26.312Z"
   },
   {
    "duration": 25,
    "start_time": "2023-06-06T08:29:26.366Z"
   },
   {
    "duration": 566,
    "start_time": "2023-06-06T08:29:26.394Z"
   },
   {
    "duration": 5,
    "start_time": "2023-06-06T08:29:59.470Z"
   },
   {
    "duration": 10745,
    "start_time": "2023-06-06T08:30:00.096Z"
   },
   {
    "duration": 43,
    "start_time": "2023-06-06T08:30:10.843Z"
   },
   {
    "duration": 35,
    "start_time": "2023-06-06T08:30:10.888Z"
   },
   {
    "duration": 589,
    "start_time": "2023-06-06T08:30:10.925Z"
   },
   {
    "duration": 6,
    "start_time": "2023-06-06T08:30:40.068Z"
   },
   {
    "duration": 9455,
    "start_time": "2023-06-06T08:30:40.656Z"
   },
   {
    "duration": 50,
    "start_time": "2023-06-06T08:30:50.113Z"
   },
   {
    "duration": 26,
    "start_time": "2023-06-06T08:30:50.165Z"
   },
   {
    "duration": 539,
    "start_time": "2023-06-06T08:30:50.193Z"
   },
   {
    "duration": 206,
    "start_time": "2023-06-06T08:31:24.432Z"
   },
   {
    "duration": 4,
    "start_time": "2023-06-06T08:31:24.964Z"
   },
   {
    "duration": 8515,
    "start_time": "2023-06-06T08:31:26.095Z"
   },
   {
    "duration": 33,
    "start_time": "2023-06-06T08:31:34.613Z"
   },
   {
    "duration": 31,
    "start_time": "2023-06-06T08:31:34.648Z"
   },
   {
    "duration": 501,
    "start_time": "2023-06-06T08:31:34.681Z"
   },
   {
    "duration": 193,
    "start_time": "2023-06-06T08:32:28.268Z"
   },
   {
    "duration": 4,
    "start_time": "2023-06-06T08:32:28.688Z"
   },
   {
    "duration": 8914,
    "start_time": "2023-06-06T08:32:29.221Z"
   },
   {
    "duration": 36,
    "start_time": "2023-06-06T08:32:38.137Z"
   },
   {
    "duration": 25,
    "start_time": "2023-06-06T08:32:38.175Z"
   },
   {
    "duration": 648,
    "start_time": "2023-06-06T08:32:38.203Z"
   },
   {
    "duration": 182,
    "start_time": "2023-06-06T08:34:05.892Z"
   },
   {
    "duration": 4,
    "start_time": "2023-06-06T08:34:06.321Z"
   },
   {
    "duration": 8440,
    "start_time": "2023-06-06T08:34:06.892Z"
   },
   {
    "duration": 37,
    "start_time": "2023-06-06T08:34:15.334Z"
   },
   {
    "duration": 31,
    "start_time": "2023-06-06T08:34:15.372Z"
   },
   {
    "duration": 516,
    "start_time": "2023-06-06T08:34:15.406Z"
   },
   {
    "duration": 4,
    "start_time": "2023-06-06T08:38:39.341Z"
   },
   {
    "duration": 3,
    "start_time": "2023-06-06T08:41:38.467Z"
   },
   {
    "duration": 4,
    "start_time": "2023-06-06T08:45:07.462Z"
   },
   {
    "duration": 20,
    "start_time": "2023-06-06T08:45:07.468Z"
   },
   {
    "duration": 204,
    "start_time": "2023-06-06T08:45:07.490Z"
   },
   {
    "duration": 4,
    "start_time": "2023-06-06T08:45:07.696Z"
   },
   {
    "duration": 8771,
    "start_time": "2023-06-06T08:45:07.702Z"
   },
   {
    "duration": 24,
    "start_time": "2023-06-06T08:45:16.475Z"
   },
   {
    "duration": 511,
    "start_time": "2023-06-06T08:45:16.501Z"
   },
   {
    "duration": 4,
    "start_time": "2023-06-06T08:45:17.014Z"
   },
   {
    "duration": 8,
    "start_time": "2023-06-06T08:45:17.020Z"
   },
   {
    "duration": 264,
    "start_time": "2023-06-06T08:45:17.030Z"
   },
   {
    "duration": 195,
    "start_time": "2023-06-06T08:45:17.296Z"
   },
   {
    "duration": 13,
    "start_time": "2023-06-06T08:45:17.493Z"
   },
   {
    "duration": 4,
    "start_time": "2023-06-06T08:45:17.508Z"
   },
   {
    "duration": 72,
    "start_time": "2023-06-06T08:45:17.513Z"
   },
   {
    "duration": 29,
    "start_time": "2023-06-06T08:45:17.587Z"
   },
   {
    "duration": 21,
    "start_time": "2023-06-06T08:45:17.617Z"
   },
   {
    "duration": 40,
    "start_time": "2023-06-06T08:45:17.640Z"
   },
   {
    "duration": 2,
    "start_time": "2023-06-06T08:45:17.682Z"
   },
   {
    "duration": 71,
    "start_time": "2023-06-06T08:45:17.686Z"
   },
   {
    "duration": 3,
    "start_time": "2023-06-06T08:45:17.759Z"
   },
   {
    "duration": 754,
    "start_time": "2023-06-06T08:45:17.764Z"
   },
   {
    "duration": 4,
    "start_time": "2023-06-06T08:45:18.520Z"
   },
   {
    "duration": 66,
    "start_time": "2023-06-06T08:45:18.526Z"
   },
   {
    "duration": 4,
    "start_time": "2023-06-06T08:45:18.595Z"
   },
   {
    "duration": 21,
    "start_time": "2023-06-06T08:45:18.600Z"
   },
   {
    "duration": 5,
    "start_time": "2023-06-06T08:45:18.623Z"
   },
   {
    "duration": 7,
    "start_time": "2023-06-06T08:45:18.629Z"
   },
   {
    "duration": 8,
    "start_time": "2023-06-06T08:45:18.637Z"
   },
   {
    "duration": 32,
    "start_time": "2023-06-06T08:45:18.647Z"
   },
   {
    "duration": 4,
    "start_time": "2023-06-06T08:45:18.681Z"
   },
   {
    "duration": 56,
    "start_time": "2023-06-06T08:45:18.686Z"
   },
   {
    "duration": 3,
    "start_time": "2023-06-06T08:45:18.744Z"
   },
   {
    "duration": 38,
    "start_time": "2023-06-06T08:45:18.749Z"
   },
   {
    "duration": 8,
    "start_time": "2023-06-06T08:45:18.789Z"
   },
   {
    "duration": 1349,
    "start_time": "2023-06-06T08:45:18.799Z"
   },
   {
    "duration": 662,
    "start_time": "2023-06-06T08:45:20.150Z"
   },
   {
    "duration": 22,
    "start_time": "2023-06-06T08:45:20.813Z"
   },
   {
    "duration": 122,
    "start_time": "2023-06-06T08:45:20.837Z"
   },
   {
    "duration": 57,
    "start_time": "2023-06-06T08:45:20.961Z"
   },
   {
    "duration": 54,
    "start_time": "2023-06-06T08:45:21.020Z"
   },
   {
    "duration": 3,
    "start_time": "2023-06-06T08:45:21.076Z"
   },
   {
    "duration": 242,
    "start_time": "2023-06-06T08:45:21.080Z"
   },
   {
    "duration": 5,
    "start_time": "2023-06-06T08:45:21.324Z"
   },
   {
    "duration": 13,
    "start_time": "2023-06-06T08:45:21.331Z"
   },
   {
    "duration": 6,
    "start_time": "2023-06-06T08:45:21.356Z"
   },
   {
    "duration": 20,
    "start_time": "2023-06-06T08:45:21.364Z"
   },
   {
    "duration": 143,
    "start_time": "2023-06-06T08:45:21.386Z"
   },
   {
    "duration": 64855,
    "start_time": "2023-06-06T08:46:08.122Z"
   },
   {
    "duration": 107729,
    "start_time": "2023-06-06T08:47:12.979Z"
   },
   {
    "duration": 6947,
    "start_time": "2023-06-06T08:49:00.710Z"
   },
   {
    "duration": 5218,
    "start_time": "2023-06-06T08:49:27.640Z"
   },
   {
    "duration": 521,
    "start_time": "2023-06-06T08:49:39.348Z"
   },
   {
    "duration": 862,
    "start_time": "2023-06-06T08:50:21.000Z"
   },
   {
    "duration": 55,
    "start_time": "2023-06-06T08:50:53.187Z"
   },
   {
    "duration": 13,
    "start_time": "2023-06-06T08:51:40.439Z"
   },
   {
    "duration": 3,
    "start_time": "2023-06-06T08:51:41.328Z"
   },
   {
    "duration": 183,
    "start_time": "2023-06-06T08:51:41.883Z"
   },
   {
    "duration": 5,
    "start_time": "2023-06-06T08:51:42.357Z"
   },
   {
    "duration": 5,
    "start_time": "2023-06-06T08:51:42.915Z"
   },
   {
    "duration": 4,
    "start_time": "2023-06-06T08:51:44.700Z"
   },
   {
    "duration": 6,
    "start_time": "2023-06-06T08:51:47.743Z"
   },
   {
    "duration": 100,
    "start_time": "2023-06-06T08:51:48.216Z"
   },
   {
    "duration": 105800,
    "start_time": "2023-06-06T08:51:54.276Z"
   },
   {
    "duration": 5580,
    "start_time": "2023-06-06T08:54:02.535Z"
   },
   {
    "duration": 923,
    "start_time": "2023-06-06T08:54:11.880Z"
   },
   {
    "duration": 13,
    "start_time": "2023-06-06T08:57:22.749Z"
   },
   {
    "duration": 2,
    "start_time": "2023-06-06T08:57:23.504Z"
   },
   {
    "duration": 145,
    "start_time": "2023-06-06T08:57:23.932Z"
   },
   {
    "duration": 5,
    "start_time": "2023-06-06T08:57:24.383Z"
   },
   {
    "duration": 5,
    "start_time": "2023-06-06T08:57:25.024Z"
   },
   {
    "duration": 4,
    "start_time": "2023-06-06T08:57:27.587Z"
   },
   {
    "duration": 4,
    "start_time": "2023-06-06T08:57:28.011Z"
   },
   {
    "duration": 79,
    "start_time": "2023-06-06T08:57:28.405Z"
   },
   {
    "duration": 85461,
    "start_time": "2023-06-06T08:57:31.198Z"
   },
   {
    "duration": 3175,
    "start_time": "2023-06-06T09:00:46.678Z"
   },
   {
    "duration": 618,
    "start_time": "2023-06-06T09:00:49.857Z"
   },
   {
    "duration": 761,
    "start_time": "2023-06-06T09:01:47.501Z"
   },
   {
    "duration": 604,
    "start_time": "2023-06-06T09:01:51.860Z"
   },
   {
    "duration": 3059,
    "start_time": "2023-06-06T09:02:12.918Z"
   },
   {
    "duration": 667,
    "start_time": "2023-06-06T09:02:30.847Z"
   },
   {
    "duration": 5,
    "start_time": "2023-06-06T09:04:36.230Z"
   },
   {
    "duration": 25,
    "start_time": "2023-06-06T09:04:36.236Z"
   },
   {
    "duration": 210,
    "start_time": "2023-06-06T09:04:36.263Z"
   },
   {
    "duration": 5,
    "start_time": "2023-06-06T09:04:36.474Z"
   },
   {
    "duration": 8501,
    "start_time": "2023-06-06T09:04:36.481Z"
   },
   {
    "duration": 25,
    "start_time": "2023-06-06T09:04:44.984Z"
   },
   {
    "duration": 502,
    "start_time": "2023-06-06T09:04:45.011Z"
   },
   {
    "duration": 4,
    "start_time": "2023-06-06T09:04:45.515Z"
   },
   {
    "duration": 5,
    "start_time": "2023-06-06T09:04:45.520Z"
   },
   {
    "duration": 350,
    "start_time": "2023-06-06T09:04:45.527Z"
   },
   {
    "duration": 171,
    "start_time": "2023-06-06T09:04:45.878Z"
   },
   {
    "duration": 13,
    "start_time": "2023-06-06T09:04:46.056Z"
   },
   {
    "duration": 4,
    "start_time": "2023-06-06T09:04:46.071Z"
   },
   {
    "duration": 67,
    "start_time": "2023-06-06T09:04:46.078Z"
   },
   {
    "duration": 38,
    "start_time": "2023-06-06T09:04:46.147Z"
   },
   {
    "duration": 3,
    "start_time": "2023-06-06T09:04:46.187Z"
   },
   {
    "duration": 37,
    "start_time": "2023-06-06T09:04:46.192Z"
   },
   {
    "duration": 3,
    "start_time": "2023-06-06T09:04:46.231Z"
   },
   {
    "duration": 59,
    "start_time": "2023-06-06T09:04:46.256Z"
   },
   {
    "duration": 4,
    "start_time": "2023-06-06T09:04:46.317Z"
   },
   {
    "duration": 750,
    "start_time": "2023-06-06T09:04:46.323Z"
   },
   {
    "duration": 4,
    "start_time": "2023-06-06T09:04:47.075Z"
   },
   {
    "duration": 51,
    "start_time": "2023-06-06T09:04:47.081Z"
   },
   {
    "duration": 3,
    "start_time": "2023-06-06T09:04:47.134Z"
   },
   {
    "duration": 18,
    "start_time": "2023-06-06T09:04:47.138Z"
   },
   {
    "duration": 2,
    "start_time": "2023-06-06T09:04:47.159Z"
   },
   {
    "duration": 6,
    "start_time": "2023-06-06T09:04:47.162Z"
   },
   {
    "duration": 5,
    "start_time": "2023-06-06T09:04:47.170Z"
   },
   {
    "duration": 29,
    "start_time": "2023-06-06T09:04:47.176Z"
   },
   {
    "duration": 4,
    "start_time": "2023-06-06T09:04:47.207Z"
   },
   {
    "duration": 67,
    "start_time": "2023-06-06T09:04:47.212Z"
   },
   {
    "duration": 3,
    "start_time": "2023-06-06T09:04:47.281Z"
   },
   {
    "duration": 34,
    "start_time": "2023-06-06T09:04:47.286Z"
   },
   {
    "duration": 4,
    "start_time": "2023-06-06T09:04:47.322Z"
   },
   {
    "duration": 1276,
    "start_time": "2023-06-06T09:04:47.328Z"
   },
   {
    "duration": 710,
    "start_time": "2023-06-06T09:04:48.606Z"
   },
   {
    "duration": 23,
    "start_time": "2023-06-06T09:04:49.318Z"
   },
   {
    "duration": 157,
    "start_time": "2023-06-06T09:04:49.343Z"
   },
   {
    "duration": 75,
    "start_time": "2023-06-06T09:04:49.502Z"
   },
   {
    "duration": 56,
    "start_time": "2023-06-06T09:04:49.579Z"
   },
   {
    "duration": 3,
    "start_time": "2023-06-06T09:04:49.638Z"
   },
   {
    "duration": 197,
    "start_time": "2023-06-06T09:04:49.656Z"
   },
   {
    "duration": 4,
    "start_time": "2023-06-06T09:04:49.856Z"
   },
   {
    "duration": 8,
    "start_time": "2023-06-06T09:04:49.862Z"
   },
   {
    "duration": 5,
    "start_time": "2023-06-06T09:04:49.871Z"
   },
   {
    "duration": 9,
    "start_time": "2023-06-06T09:04:49.878Z"
   },
   {
    "duration": 202,
    "start_time": "2023-06-06T09:04:49.889Z"
   },
   {
    "duration": 18246,
    "start_time": "2023-06-06T09:04:50.093Z"
   },
   {
    "duration": 5744,
    "start_time": "2023-06-06T09:05:27.683Z"
   },
   {
    "duration": 1490,
    "start_time": "2023-06-06T09:05:33.429Z"
   },
   {
    "duration": 1472,
    "start_time": "2023-06-06T09:05:34.921Z"
   },
   {
    "duration": 1572,
    "start_time": "2023-06-06T09:05:36.396Z"
   },
   {
    "duration": 1470,
    "start_time": "2023-06-06T09:08:16.565Z"
   },
   {
    "duration": 1612,
    "start_time": "2023-06-06T09:08:30.070Z"
   },
   {
    "duration": 1435,
    "start_time": "2023-06-06T09:08:39.657Z"
   },
   {
    "duration": 5,
    "start_time": "2023-06-06T09:11:50.685Z"
   },
   {
    "duration": 5,
    "start_time": "2023-06-06T09:11:50.693Z"
   },
   {
    "duration": 210,
    "start_time": "2023-06-06T09:11:50.700Z"
   },
   {
    "duration": 4,
    "start_time": "2023-06-06T09:11:50.912Z"
   },
   {
    "duration": 8914,
    "start_time": "2023-06-06T09:11:50.918Z"
   },
   {
    "duration": 34,
    "start_time": "2023-06-06T09:11:59.834Z"
   },
   {
    "duration": 533,
    "start_time": "2023-06-06T09:11:59.869Z"
   },
   {
    "duration": 3,
    "start_time": "2023-06-06T09:12:00.404Z"
   },
   {
    "duration": 33,
    "start_time": "2023-06-06T09:12:00.410Z"
   },
   {
    "duration": 267,
    "start_time": "2023-06-06T09:12:00.445Z"
   },
   {
    "duration": 172,
    "start_time": "2023-06-06T09:12:00.714Z"
   },
   {
    "duration": 12,
    "start_time": "2023-06-06T09:12:00.889Z"
   },
   {
    "duration": 51,
    "start_time": "2023-06-06T09:12:00.903Z"
   },
   {
    "duration": 117,
    "start_time": "2023-06-06T09:12:00.956Z"
   },
   {
    "duration": 31,
    "start_time": "2023-06-06T09:12:01.075Z"
   },
   {
    "duration": 27,
    "start_time": "2023-06-06T09:12:01.108Z"
   },
   {
    "duration": 112,
    "start_time": "2023-06-06T09:12:01.138Z"
   },
   {
    "duration": 49,
    "start_time": "2023-06-06T09:12:01.252Z"
   },
   {
    "duration": 126,
    "start_time": "2023-06-06T09:12:01.304Z"
   },
   {
    "duration": 44,
    "start_time": "2023-06-06T09:12:01.432Z"
   },
   {
    "duration": 893,
    "start_time": "2023-06-06T09:12:01.478Z"
   },
   {
    "duration": 4,
    "start_time": "2023-06-06T09:12:02.373Z"
   },
   {
    "duration": 73,
    "start_time": "2023-06-06T09:12:02.380Z"
   },
   {
    "duration": 3,
    "start_time": "2023-06-06T09:12:02.456Z"
   },
   {
    "duration": 26,
    "start_time": "2023-06-06T09:12:02.460Z"
   },
   {
    "duration": 10,
    "start_time": "2023-06-06T09:12:02.488Z"
   },
   {
    "duration": 10,
    "start_time": "2023-06-06T09:12:02.499Z"
   },
   {
    "duration": 5,
    "start_time": "2023-06-06T09:12:02.511Z"
   },
   {
    "duration": 43,
    "start_time": "2023-06-06T09:12:02.518Z"
   },
   {
    "duration": 7,
    "start_time": "2023-06-06T09:12:02.563Z"
   },
   {
    "duration": 80,
    "start_time": "2023-06-06T09:12:02.572Z"
   },
   {
    "duration": 5,
    "start_time": "2023-06-06T09:12:02.654Z"
   },
   {
    "duration": 59,
    "start_time": "2023-06-06T09:12:02.661Z"
   },
   {
    "duration": 5,
    "start_time": "2023-06-06T09:12:02.722Z"
   },
   {
    "duration": 1448,
    "start_time": "2023-06-06T09:12:02.729Z"
   },
   {
    "duration": 707,
    "start_time": "2023-06-06T09:12:04.180Z"
   },
   {
    "duration": 20,
    "start_time": "2023-06-06T09:12:04.890Z"
   },
   {
    "duration": 187,
    "start_time": "2023-06-06T09:12:04.912Z"
   },
   {
    "duration": 81,
    "start_time": "2023-06-06T09:12:05.101Z"
   },
   {
    "duration": 73,
    "start_time": "2023-06-06T09:12:05.184Z"
   },
   {
    "duration": 4,
    "start_time": "2023-06-06T09:12:05.259Z"
   },
   {
    "duration": 213,
    "start_time": "2023-06-06T09:12:05.265Z"
   },
   {
    "duration": 6,
    "start_time": "2023-06-06T09:12:05.480Z"
   },
   {
    "duration": 38,
    "start_time": "2023-06-06T09:12:05.487Z"
   },
   {
    "duration": 23,
    "start_time": "2023-06-06T09:12:05.528Z"
   },
   {
    "duration": 33,
    "start_time": "2023-06-06T09:12:05.553Z"
   },
   {
    "duration": 199,
    "start_time": "2023-06-06T09:12:05.588Z"
   },
   {
    "duration": 6650,
    "start_time": "2023-06-06T09:12:20.977Z"
   },
   {
    "duration": 1726,
    "start_time": "2023-06-06T09:12:27.630Z"
   },
   {
    "duration": 1601,
    "start_time": "2023-06-06T09:12:29.358Z"
   },
   {
    "duration": 1674,
    "start_time": "2023-06-06T09:12:30.962Z"
   },
   {
    "duration": 5,
    "start_time": "2023-06-06T09:15:38.578Z"
   },
   {
    "duration": 7,
    "start_time": "2023-06-06T09:15:38.585Z"
   },
   {
    "duration": 192,
    "start_time": "2023-06-06T09:15:38.594Z"
   },
   {
    "duration": 4,
    "start_time": "2023-06-06T09:15:38.789Z"
   },
   {
    "duration": 8933,
    "start_time": "2023-06-06T09:15:38.794Z"
   },
   {
    "duration": 28,
    "start_time": "2023-06-06T09:15:47.729Z"
   },
   {
    "duration": 476,
    "start_time": "2023-06-06T09:15:47.759Z"
   },
   {
    "duration": 3,
    "start_time": "2023-06-06T09:15:48.237Z"
   },
   {
    "duration": 4,
    "start_time": "2023-06-06T09:15:48.257Z"
   },
   {
    "duration": 252,
    "start_time": "2023-06-06T09:15:48.263Z"
   },
   {
    "duration": 188,
    "start_time": "2023-06-06T09:15:48.517Z"
   },
   {
    "duration": 12,
    "start_time": "2023-06-06T09:15:48.708Z"
   },
   {
    "duration": 4,
    "start_time": "2023-06-06T09:15:48.721Z"
   },
   {
    "duration": 68,
    "start_time": "2023-06-06T09:15:48.726Z"
   },
   {
    "duration": 35,
    "start_time": "2023-06-06T09:15:48.796Z"
   },
   {
    "duration": 25,
    "start_time": "2023-06-06T09:15:48.833Z"
   },
   {
    "duration": 50,
    "start_time": "2023-06-06T09:15:48.860Z"
   },
   {
    "duration": 5,
    "start_time": "2023-06-06T09:15:48.912Z"
   },
   {
    "duration": 81,
    "start_time": "2023-06-06T09:15:48.920Z"
   },
   {
    "duration": 5,
    "start_time": "2023-06-06T09:15:49.003Z"
   },
   {
    "duration": 773,
    "start_time": "2023-06-06T09:15:49.010Z"
   },
   {
    "duration": 5,
    "start_time": "2023-06-06T09:15:49.785Z"
   },
   {
    "duration": 61,
    "start_time": "2023-06-06T09:15:49.792Z"
   },
   {
    "duration": 3,
    "start_time": "2023-06-06T09:15:49.857Z"
   },
   {
    "duration": 13,
    "start_time": "2023-06-06T09:15:49.862Z"
   },
   {
    "duration": 7,
    "start_time": "2023-06-06T09:15:49.877Z"
   },
   {
    "duration": 4,
    "start_time": "2023-06-06T09:15:49.886Z"
   },
   {
    "duration": 4,
    "start_time": "2023-06-06T09:15:49.892Z"
   },
   {
    "duration": 28,
    "start_time": "2023-06-06T09:15:49.898Z"
   },
   {
    "duration": 4,
    "start_time": "2023-06-06T09:15:49.928Z"
   },
   {
    "duration": 49,
    "start_time": "2023-06-06T09:15:49.933Z"
   },
   {
    "duration": 4,
    "start_time": "2023-06-06T09:15:49.984Z"
   },
   {
    "duration": 36,
    "start_time": "2023-06-06T09:15:49.989Z"
   },
   {
    "duration": 15,
    "start_time": "2023-06-06T09:15:50.027Z"
   },
   {
    "duration": 1348,
    "start_time": "2023-06-06T09:15:50.043Z"
   },
   {
    "duration": 698,
    "start_time": "2023-06-06T09:15:51.394Z"
   },
   {
    "duration": 20,
    "start_time": "2023-06-06T09:15:52.094Z"
   },
   {
    "duration": 159,
    "start_time": "2023-06-06T09:15:52.116Z"
   },
   {
    "duration": 66,
    "start_time": "2023-06-06T09:15:52.277Z"
   },
   {
    "duration": 51,
    "start_time": "2023-06-06T09:15:52.357Z"
   },
   {
    "duration": 2,
    "start_time": "2023-06-06T09:15:52.410Z"
   },
   {
    "duration": 238,
    "start_time": "2023-06-06T09:15:52.414Z"
   },
   {
    "duration": 5,
    "start_time": "2023-06-06T09:15:52.657Z"
   },
   {
    "duration": 131,
    "start_time": "2023-06-06T09:15:52.663Z"
   },
   {
    "duration": 19,
    "start_time": "2023-06-06T09:15:52.796Z"
   },
   {
    "duration": 9,
    "start_time": "2023-06-06T09:15:52.818Z"
   },
   {
    "duration": 612,
    "start_time": "2023-06-06T09:15:52.829Z"
   },
   {
    "duration": 6088,
    "start_time": "2023-06-06T09:15:53.442Z"
   },
   {
    "duration": 1469,
    "start_time": "2023-06-06T09:15:59.532Z"
   },
   {
    "duration": 1509,
    "start_time": "2023-06-06T09:16:01.003Z"
   },
   {
    "duration": 1441,
    "start_time": "2023-06-06T09:16:02.515Z"
   },
   {
    "duration": 7,
    "start_time": "2023-06-06T09:20:00.600Z"
   },
   {
    "duration": 92,
    "start_time": "2023-06-06T09:20:00.609Z"
   },
   {
    "duration": 279,
    "start_time": "2023-06-06T09:20:00.703Z"
   },
   {
    "duration": 4,
    "start_time": "2023-06-06T09:20:00.985Z"
   },
   {
    "duration": 9679,
    "start_time": "2023-06-06T09:20:00.991Z"
   },
   {
    "duration": 26,
    "start_time": "2023-06-06T09:20:10.671Z"
   },
   {
    "duration": 509,
    "start_time": "2023-06-06T09:20:10.699Z"
   },
   {
    "duration": 4,
    "start_time": "2023-06-06T09:20:11.209Z"
   },
   {
    "duration": 26,
    "start_time": "2023-06-06T09:20:11.214Z"
   },
   {
    "duration": 256,
    "start_time": "2023-06-06T09:20:11.243Z"
   },
   {
    "duration": 191,
    "start_time": "2023-06-06T09:20:11.501Z"
   },
   {
    "duration": 3,
    "start_time": "2023-06-06T09:20:11.694Z"
   },
   {
    "duration": 14,
    "start_time": "2023-06-06T09:20:11.698Z"
   },
   {
    "duration": 86,
    "start_time": "2023-06-06T09:20:11.714Z"
   },
   {
    "duration": 31,
    "start_time": "2023-06-06T09:20:11.802Z"
   },
   {
    "duration": 4,
    "start_time": "2023-06-06T09:20:11.835Z"
   },
   {
    "duration": 34,
    "start_time": "2023-06-06T09:20:11.856Z"
   },
   {
    "duration": 3,
    "start_time": "2023-06-06T09:20:11.892Z"
   },
   {
    "duration": 83,
    "start_time": "2023-06-06T09:20:11.896Z"
   },
   {
    "duration": 4,
    "start_time": "2023-06-06T09:20:11.981Z"
   },
   {
    "duration": 785,
    "start_time": "2023-06-06T09:20:11.988Z"
   },
   {
    "duration": 4,
    "start_time": "2023-06-06T09:20:12.775Z"
   },
   {
    "duration": 65,
    "start_time": "2023-06-06T09:20:12.781Z"
   },
   {
    "duration": 4,
    "start_time": "2023-06-06T09:20:12.847Z"
   },
   {
    "duration": 348,
    "start_time": "2023-06-06T09:20:12.852Z"
   },
   {
    "duration": 3,
    "start_time": "2023-06-06T09:20:13.203Z"
   },
   {
    "duration": 15,
    "start_time": "2023-06-06T09:20:13.209Z"
   },
   {
    "duration": 15,
    "start_time": "2023-06-06T09:20:13.228Z"
   },
   {
    "duration": 32,
    "start_time": "2023-06-06T09:20:13.245Z"
   },
   {
    "duration": 4,
    "start_time": "2023-06-06T09:20:13.279Z"
   },
   {
    "duration": 55,
    "start_time": "2023-06-06T09:20:13.285Z"
   },
   {
    "duration": 5,
    "start_time": "2023-06-06T09:20:13.342Z"
   },
   {
    "duration": 31,
    "start_time": "2023-06-06T09:20:13.357Z"
   },
   {
    "duration": 5,
    "start_time": "2023-06-06T09:20:13.390Z"
   },
   {
    "duration": 1290,
    "start_time": "2023-06-06T09:20:13.397Z"
   },
   {
    "duration": 659,
    "start_time": "2023-06-06T09:20:14.690Z"
   },
   {
    "duration": 6,
    "start_time": "2023-06-06T09:20:30.597Z"
   },
   {
    "duration": 5,
    "start_time": "2023-06-06T09:23:55.773Z"
   },
   {
    "duration": 7,
    "start_time": "2023-06-06T09:23:55.780Z"
   },
   {
    "duration": 222,
    "start_time": "2023-06-06T09:23:55.789Z"
   },
   {
    "duration": 5,
    "start_time": "2023-06-06T09:23:56.013Z"
   },
   {
    "duration": 9569,
    "start_time": "2023-06-06T09:23:56.020Z"
   },
   {
    "duration": 26,
    "start_time": "2023-06-06T09:24:05.591Z"
   },
   {
    "duration": 541,
    "start_time": "2023-06-06T09:24:05.619Z"
   },
   {
    "duration": 6,
    "start_time": "2023-06-06T09:24:06.165Z"
   },
   {
    "duration": 14,
    "start_time": "2023-06-06T09:24:06.173Z"
   },
   {
    "duration": 245,
    "start_time": "2023-06-06T09:24:06.190Z"
   },
   {
    "duration": 201,
    "start_time": "2023-06-06T09:24:06.437Z"
   },
   {
    "duration": 3,
    "start_time": "2023-06-06T09:24:06.639Z"
   },
   {
    "duration": 11,
    "start_time": "2023-06-06T09:24:06.644Z"
   },
   {
    "duration": 62,
    "start_time": "2023-06-06T09:24:06.670Z"
   },
   {
    "duration": 35,
    "start_time": "2023-06-06T09:24:06.735Z"
   },
   {
    "duration": 5,
    "start_time": "2023-06-06T09:24:06.772Z"
   },
   {
    "duration": 37,
    "start_time": "2023-06-06T09:24:06.780Z"
   },
   {
    "duration": 3,
    "start_time": "2023-06-06T09:24:06.819Z"
   },
   {
    "duration": 85,
    "start_time": "2023-06-06T09:24:06.825Z"
   },
   {
    "duration": 4,
    "start_time": "2023-06-06T09:24:06.912Z"
   },
   {
    "duration": 831,
    "start_time": "2023-06-06T09:24:06.918Z"
   },
   {
    "duration": 15,
    "start_time": "2023-06-06T09:24:07.751Z"
   },
   {
    "duration": 57,
    "start_time": "2023-06-06T09:24:07.770Z"
   },
   {
    "duration": 3,
    "start_time": "2023-06-06T09:24:07.830Z"
   },
   {
    "duration": 383,
    "start_time": "2023-06-06T09:24:07.835Z"
   },
   {
    "duration": 3,
    "start_time": "2023-06-06T09:24:08.220Z"
   },
   {
    "duration": 17,
    "start_time": "2023-06-06T09:24:08.224Z"
   },
   {
    "duration": 9,
    "start_time": "2023-06-06T09:24:08.243Z"
   },
   {
    "duration": 42,
    "start_time": "2023-06-06T09:24:08.254Z"
   },
   {
    "duration": 4,
    "start_time": "2023-06-06T09:24:08.298Z"
   },
   {
    "duration": 62,
    "start_time": "2023-06-06T09:24:08.304Z"
   },
   {
    "duration": 5,
    "start_time": "2023-06-06T09:24:08.368Z"
   },
   {
    "duration": 66,
    "start_time": "2023-06-06T09:24:08.376Z"
   },
   {
    "duration": 5,
    "start_time": "2023-06-06T09:24:08.444Z"
   },
   {
    "duration": 1512,
    "start_time": "2023-06-06T09:24:08.455Z"
   },
   {
    "duration": 662,
    "start_time": "2023-06-06T09:24:09.969Z"
   },
   {
    "duration": 4,
    "start_time": "2023-06-06T09:24:10.633Z"
   },
   {
    "duration": 113,
    "start_time": "2023-06-06T09:24:10.638Z"
   },
   {
    "duration": 0,
    "start_time": "2023-06-06T09:24:10.753Z"
   },
   {
    "duration": 0,
    "start_time": "2023-06-06T09:24:10.754Z"
   },
   {
    "duration": 0,
    "start_time": "2023-06-06T09:24:10.755Z"
   },
   {
    "duration": 0,
    "start_time": "2023-06-06T09:24:10.760Z"
   },
   {
    "duration": 0,
    "start_time": "2023-06-06T09:24:10.761Z"
   },
   {
    "duration": 0,
    "start_time": "2023-06-06T09:24:10.765Z"
   },
   {
    "duration": 0,
    "start_time": "2023-06-06T09:24:10.766Z"
   },
   {
    "duration": 0,
    "start_time": "2023-06-06T09:24:10.772Z"
   },
   {
    "duration": 0,
    "start_time": "2023-06-06T09:24:10.774Z"
   },
   {
    "duration": 0,
    "start_time": "2023-06-06T09:24:10.775Z"
   },
   {
    "duration": 37,
    "start_time": "2023-06-06T09:24:35.371Z"
   },
   {
    "duration": 272,
    "start_time": "2023-06-06T09:24:35.892Z"
   },
   {
    "duration": 129,
    "start_time": "2023-06-06T09:24:36.372Z"
   },
   {
    "duration": 55,
    "start_time": "2023-06-06T09:24:36.929Z"
   },
   {
    "duration": 3,
    "start_time": "2023-06-06T09:24:37.925Z"
   },
   {
    "duration": 106,
    "start_time": "2023-06-06T09:24:38.390Z"
   },
   {
    "duration": 6,
    "start_time": "2023-06-06T09:24:39.917Z"
   },
   {
    "duration": 6,
    "start_time": "2023-06-06T09:24:40.616Z"
   },
   {
    "duration": 6,
    "start_time": "2023-06-06T09:24:41.130Z"
   },
   {
    "duration": 7,
    "start_time": "2023-06-06T09:24:42.152Z"
   },
   {
    "duration": 227,
    "start_time": "2023-06-06T09:24:42.646Z"
   },
   {
    "duration": 7282,
    "start_time": "2023-06-06T09:24:48.078Z"
   },
   {
    "duration": 1825,
    "start_time": "2023-06-06T09:24:55.365Z"
   },
   {
    "duration": 1837,
    "start_time": "2023-06-06T09:24:57.192Z"
   },
   {
    "duration": 1769,
    "start_time": "2023-06-06T09:24:59.033Z"
   },
   {
    "duration": 1915,
    "start_time": "2023-06-06T09:26:00.644Z"
   },
   {
    "duration": 1701,
    "start_time": "2023-06-06T09:26:02.566Z"
   },
   {
    "duration": 6,
    "start_time": "2023-06-06T09:30:09.789Z"
   },
   {
    "duration": 8,
    "start_time": "2023-06-06T09:30:09.798Z"
   },
   {
    "duration": 214,
    "start_time": "2023-06-06T09:30:09.808Z"
   },
   {
    "duration": 4,
    "start_time": "2023-06-06T09:30:10.025Z"
   },
   {
    "duration": 9398,
    "start_time": "2023-06-06T09:30:10.031Z"
   },
   {
    "duration": 38,
    "start_time": "2023-06-06T09:30:19.431Z"
   },
   {
    "duration": 523,
    "start_time": "2023-06-06T09:30:19.471Z"
   },
   {
    "duration": 3,
    "start_time": "2023-06-06T09:30:19.995Z"
   },
   {
    "duration": 26,
    "start_time": "2023-06-06T09:30:20.000Z"
   },
   {
    "duration": 286,
    "start_time": "2023-06-06T09:30:20.030Z"
   },
   {
    "duration": 203,
    "start_time": "2023-06-06T09:30:20.318Z"
   },
   {
    "duration": 3,
    "start_time": "2023-06-06T09:30:20.522Z"
   },
   {
    "duration": 39,
    "start_time": "2023-06-06T09:30:20.526Z"
   },
   {
    "duration": 70,
    "start_time": "2023-06-06T09:30:20.570Z"
   },
   {
    "duration": 34,
    "start_time": "2023-06-06T09:30:20.642Z"
   },
   {
    "duration": 4,
    "start_time": "2023-06-06T09:30:20.678Z"
   },
   {
    "duration": 83,
    "start_time": "2023-06-06T09:30:20.683Z"
   },
   {
    "duration": 4,
    "start_time": "2023-06-06T09:30:20.772Z"
   },
   {
    "duration": 118,
    "start_time": "2023-06-06T09:30:20.778Z"
   },
   {
    "duration": 4,
    "start_time": "2023-06-06T09:30:20.898Z"
   },
   {
    "duration": 871,
    "start_time": "2023-06-06T09:30:20.904Z"
   },
   {
    "duration": 5,
    "start_time": "2023-06-06T09:30:21.778Z"
   },
   {
    "duration": 70,
    "start_time": "2023-06-06T09:30:21.785Z"
   },
   {
    "duration": 9,
    "start_time": "2023-06-06T09:30:21.863Z"
   },
   {
    "duration": 360,
    "start_time": "2023-06-06T09:30:21.874Z"
   },
   {
    "duration": 3,
    "start_time": "2023-06-06T09:30:22.236Z"
   },
   {
    "duration": 77,
    "start_time": "2023-06-06T09:30:22.240Z"
   },
   {
    "duration": 53,
    "start_time": "2023-06-06T09:30:22.322Z"
   },
   {
    "duration": 63,
    "start_time": "2023-06-06T09:30:22.377Z"
   },
   {
    "duration": 7,
    "start_time": "2023-06-06T09:30:22.442Z"
   },
   {
    "duration": 61,
    "start_time": "2023-06-06T09:30:22.450Z"
   },
   {
    "duration": 18,
    "start_time": "2023-06-06T09:30:22.513Z"
   },
   {
    "duration": 70,
    "start_time": "2023-06-06T09:30:22.533Z"
   },
   {
    "duration": 13,
    "start_time": "2023-06-06T09:30:22.605Z"
   },
   {
    "duration": 1412,
    "start_time": "2023-06-06T09:30:22.620Z"
   },
   {
    "duration": 689,
    "start_time": "2023-06-06T09:30:24.034Z"
   },
   {
    "duration": 5,
    "start_time": "2023-06-06T09:30:24.725Z"
   },
   {
    "duration": 54,
    "start_time": "2023-06-06T09:30:24.732Z"
   },
   {
    "duration": 325,
    "start_time": "2023-06-06T09:30:24.788Z"
   },
   {
    "duration": 148,
    "start_time": "2023-06-06T09:30:25.115Z"
   },
   {
    "duration": 100,
    "start_time": "2023-06-06T09:30:25.264Z"
   },
   {
    "duration": 6,
    "start_time": "2023-06-06T09:30:25.371Z"
   },
   {
    "duration": 132,
    "start_time": "2023-06-06T09:30:25.379Z"
   },
   {
    "duration": 5,
    "start_time": "2023-06-06T09:30:25.512Z"
   },
   {
    "duration": 31,
    "start_time": "2023-06-06T09:30:25.518Z"
   },
   {
    "duration": 13,
    "start_time": "2023-06-06T09:30:25.551Z"
   },
   {
    "duration": 7,
    "start_time": "2023-06-06T09:30:25.572Z"
   },
   {
    "duration": 228,
    "start_time": "2023-06-06T09:30:25.581Z"
   },
   {
    "duration": 6768,
    "start_time": "2023-06-06T09:30:30.645Z"
   },
   {
    "duration": 1751,
    "start_time": "2023-06-06T09:30:37.416Z"
   },
   {
    "duration": 1793,
    "start_time": "2023-06-06T09:30:40.982Z"
   },
   {
    "duration": 1611,
    "start_time": "2023-06-06T09:30:42.777Z"
   },
   {
    "duration": 6,
    "start_time": "2023-06-06T09:33:19.809Z"
   },
   {
    "duration": 17,
    "start_time": "2023-06-06T09:33:19.818Z"
   },
   {
    "duration": 252,
    "start_time": "2023-06-06T09:33:19.838Z"
   },
   {
    "duration": 5,
    "start_time": "2023-06-06T09:33:20.092Z"
   },
   {
    "duration": 9552,
    "start_time": "2023-06-06T09:33:20.099Z"
   },
   {
    "duration": 30,
    "start_time": "2023-06-06T09:33:29.653Z"
   },
   {
    "duration": 526,
    "start_time": "2023-06-06T09:33:29.684Z"
   },
   {
    "duration": 4,
    "start_time": "2023-06-06T09:33:30.212Z"
   },
   {
    "duration": 75,
    "start_time": "2023-06-06T09:33:30.218Z"
   },
   {
    "duration": 246,
    "start_time": "2023-06-06T09:33:30.296Z"
   },
   {
    "duration": 187,
    "start_time": "2023-06-06T09:33:30.544Z"
   },
   {
    "duration": 3,
    "start_time": "2023-06-06T09:33:30.732Z"
   },
   {
    "duration": 43,
    "start_time": "2023-06-06T09:33:30.736Z"
   },
   {
    "duration": 107,
    "start_time": "2023-06-06T09:33:30.781Z"
   },
   {
    "duration": 30,
    "start_time": "2023-06-06T09:33:30.890Z"
   },
   {
    "duration": 33,
    "start_time": "2023-06-06T09:33:30.922Z"
   },
   {
    "duration": 70,
    "start_time": "2023-06-06T09:33:30.969Z"
   },
   {
    "duration": 29,
    "start_time": "2023-06-06T09:33:31.041Z"
   },
   {
    "duration": 84,
    "start_time": "2023-06-06T09:33:31.071Z"
   },
   {
    "duration": 9,
    "start_time": "2023-06-06T09:33:31.163Z"
   },
   {
    "duration": 871,
    "start_time": "2023-06-06T09:33:31.174Z"
   },
   {
    "duration": 12,
    "start_time": "2023-06-06T09:33:32.047Z"
   },
   {
    "duration": 76,
    "start_time": "2023-06-06T09:33:32.064Z"
   },
   {
    "duration": 4,
    "start_time": "2023-06-06T09:33:32.143Z"
   },
   {
    "duration": 834,
    "start_time": "2023-06-06T09:33:32.149Z"
   },
   {
    "duration": 2,
    "start_time": "2023-06-06T09:33:32.985Z"
   },
   {
    "duration": 25,
    "start_time": "2023-06-06T09:33:32.989Z"
   },
   {
    "duration": 21,
    "start_time": "2023-06-06T09:33:33.019Z"
   },
   {
    "duration": 45,
    "start_time": "2023-06-06T09:33:33.042Z"
   },
   {
    "duration": 19,
    "start_time": "2023-06-06T09:33:33.089Z"
   },
   {
    "duration": 71,
    "start_time": "2023-06-06T09:33:33.110Z"
   },
   {
    "duration": 5,
    "start_time": "2023-06-06T09:33:33.183Z"
   },
   {
    "duration": 47,
    "start_time": "2023-06-06T09:33:33.190Z"
   },
   {
    "duration": 9,
    "start_time": "2023-06-06T09:33:33.240Z"
   },
   {
    "duration": 1371,
    "start_time": "2023-06-06T09:33:33.250Z"
   },
   {
    "duration": 689,
    "start_time": "2023-06-06T09:33:34.623Z"
   },
   {
    "duration": 4,
    "start_time": "2023-06-06T09:33:35.314Z"
   },
   {
    "duration": 101,
    "start_time": "2023-06-06T09:33:35.320Z"
   },
   {
    "duration": 366,
    "start_time": "2023-06-06T09:33:35.423Z"
   },
   {
    "duration": 157,
    "start_time": "2023-06-06T09:33:35.791Z"
   },
   {
    "duration": 84,
    "start_time": "2023-06-06T09:33:35.950Z"
   },
   {
    "duration": 4,
    "start_time": "2023-06-06T09:33:36.035Z"
   },
   {
    "duration": 102,
    "start_time": "2023-06-06T09:33:36.040Z"
   },
   {
    "duration": 6,
    "start_time": "2023-06-06T09:33:36.144Z"
   },
   {
    "duration": 26,
    "start_time": "2023-06-06T09:33:36.151Z"
   },
   {
    "duration": 9,
    "start_time": "2023-06-06T09:33:36.179Z"
   },
   {
    "duration": 39,
    "start_time": "2023-06-06T09:33:36.190Z"
   },
   {
    "duration": 225,
    "start_time": "2023-06-06T09:33:36.231Z"
   },
   {
    "duration": 2788,
    "start_time": "2023-06-06T09:33:36.458Z"
   },
   {
    "duration": 5567,
    "start_time": "2023-06-06T09:33:39.248Z"
   },
   {
    "duration": 5022,
    "start_time": "2023-06-06T09:33:44.817Z"
   },
   {
    "duration": 0,
    "start_time": "2023-06-06T09:33:49.858Z"
   },
   {
    "duration": 0,
    "start_time": "2023-06-06T09:33:49.859Z"
   },
   {
    "duration": 1,
    "start_time": "2023-06-06T09:33:49.860Z"
   },
   {
    "duration": 0,
    "start_time": "2023-06-06T09:33:49.861Z"
   },
   {
    "duration": 0,
    "start_time": "2023-06-06T09:33:49.863Z"
   },
   {
    "duration": 0,
    "start_time": "2023-06-06T09:33:49.864Z"
   },
   {
    "duration": 0,
    "start_time": "2023-06-06T09:33:49.865Z"
   },
   {
    "duration": 0,
    "start_time": "2023-06-06T09:33:49.867Z"
   },
   {
    "duration": 0,
    "start_time": "2023-06-06T09:33:49.868Z"
   },
   {
    "duration": 0,
    "start_time": "2023-06-06T09:33:49.869Z"
   },
   {
    "duration": 0,
    "start_time": "2023-06-06T09:33:49.871Z"
   },
   {
    "duration": 0,
    "start_time": "2023-06-06T09:33:49.872Z"
   },
   {
    "duration": 7120,
    "start_time": "2023-06-06T09:33:54.778Z"
   },
   {
    "duration": 1822,
    "start_time": "2023-06-06T09:34:01.901Z"
   },
   {
    "duration": 2117,
    "start_time": "2023-06-06T09:34:03.726Z"
   },
   {
    "duration": 1881,
    "start_time": "2023-06-06T09:34:05.865Z"
   },
   {
    "duration": 9,
    "start_time": "2023-06-06T09:37:31.660Z"
   },
   {
    "duration": 63,
    "start_time": "2023-06-06T09:37:31.672Z"
   },
   {
    "duration": 256,
    "start_time": "2023-06-06T09:37:31.737Z"
   },
   {
    "duration": 6,
    "start_time": "2023-06-06T09:37:31.995Z"
   },
   {
    "duration": 9669,
    "start_time": "2023-06-06T09:37:32.004Z"
   },
   {
    "duration": 27,
    "start_time": "2023-06-06T09:37:41.675Z"
   },
   {
    "duration": 542,
    "start_time": "2023-06-06T09:37:41.704Z"
   },
   {
    "duration": 11,
    "start_time": "2023-06-06T09:37:42.262Z"
   },
   {
    "duration": 10,
    "start_time": "2023-06-06T09:37:42.275Z"
   },
   {
    "duration": 252,
    "start_time": "2023-06-06T09:37:42.287Z"
   },
   {
    "duration": 219,
    "start_time": "2023-06-06T09:37:42.543Z"
   },
   {
    "duration": 5,
    "start_time": "2023-06-06T09:37:42.769Z"
   },
   {
    "duration": 21,
    "start_time": "2023-06-06T09:37:42.777Z"
   },
   {
    "duration": 84,
    "start_time": "2023-06-06T09:37:42.801Z"
   },
   {
    "duration": 43,
    "start_time": "2023-06-06T09:37:42.887Z"
   },
   {
    "duration": 4,
    "start_time": "2023-06-06T09:37:42.933Z"
   },
   {
    "duration": 41,
    "start_time": "2023-06-06T09:37:42.956Z"
   },
   {
    "duration": 4,
    "start_time": "2023-06-06T09:37:42.999Z"
   },
   {
    "duration": 120,
    "start_time": "2023-06-06T09:37:43.005Z"
   },
   {
    "duration": 4,
    "start_time": "2023-06-06T09:37:43.127Z"
   },
   {
    "duration": 883,
    "start_time": "2023-06-06T09:37:43.133Z"
   },
   {
    "duration": 5,
    "start_time": "2023-06-06T09:37:44.018Z"
   },
   {
    "duration": 85,
    "start_time": "2023-06-06T09:37:44.025Z"
   },
   {
    "duration": 4,
    "start_time": "2023-06-06T09:37:44.112Z"
   },
   {
    "duration": 863,
    "start_time": "2023-06-06T09:37:44.117Z"
   },
   {
    "duration": 4,
    "start_time": "2023-06-06T09:37:44.982Z"
   },
   {
    "duration": 6,
    "start_time": "2023-06-06T09:37:44.988Z"
   },
   {
    "duration": 7,
    "start_time": "2023-06-06T09:37:44.996Z"
   },
   {
    "duration": 87,
    "start_time": "2023-06-06T09:37:45.009Z"
   },
   {
    "duration": 6,
    "start_time": "2023-06-06T09:37:45.099Z"
   },
   {
    "duration": 54,
    "start_time": "2023-06-06T09:37:45.106Z"
   },
   {
    "duration": 6,
    "start_time": "2023-06-06T09:37:45.162Z"
   },
   {
    "duration": 49,
    "start_time": "2023-06-06T09:37:45.170Z"
   },
   {
    "duration": 5,
    "start_time": "2023-06-06T09:37:45.221Z"
   },
   {
    "duration": 1499,
    "start_time": "2023-06-06T09:37:45.229Z"
   },
   {
    "duration": 767,
    "start_time": "2023-06-06T09:37:46.730Z"
   },
   {
    "duration": 5,
    "start_time": "2023-06-06T09:37:47.500Z"
   },
   {
    "duration": 101,
    "start_time": "2023-06-06T09:37:47.506Z"
   },
   {
    "duration": 310,
    "start_time": "2023-06-06T09:37:47.609Z"
   },
   {
    "duration": 154,
    "start_time": "2023-06-06T09:37:47.921Z"
   },
   {
    "duration": 93,
    "start_time": "2023-06-06T09:37:48.078Z"
   },
   {
    "duration": 3,
    "start_time": "2023-06-06T09:37:48.174Z"
   },
   {
    "duration": 96,
    "start_time": "2023-06-06T09:37:48.179Z"
   },
   {
    "duration": 6,
    "start_time": "2023-06-06T09:37:48.277Z"
   },
   {
    "duration": 10,
    "start_time": "2023-06-06T09:37:48.285Z"
   },
   {
    "duration": 8,
    "start_time": "2023-06-06T09:37:48.297Z"
   },
   {
    "duration": 5,
    "start_time": "2023-06-06T09:37:48.307Z"
   },
   {
    "duration": 233,
    "start_time": "2023-06-06T09:37:48.313Z"
   },
   {
    "duration": 7050,
    "start_time": "2023-06-06T09:37:53.350Z"
   },
   {
    "duration": 1740,
    "start_time": "2023-06-06T09:38:00.402Z"
   },
   {
    "duration": 1842,
    "start_time": "2023-06-06T09:38:02.144Z"
   },
   {
    "duration": 1996,
    "start_time": "2023-06-06T09:38:03.989Z"
   },
   {
    "duration": 98304,
    "start_time": "2023-06-06T09:38:09.427Z"
   },
   {
    "duration": 180289,
    "start_time": "2023-06-06T09:39:47.734Z"
   },
   {
    "duration": 5139,
    "start_time": "2023-06-06T09:42:48.024Z"
   },
   {
    "duration": 4,
    "start_time": "2023-06-06T09:52:05.298Z"
   },
   {
    "duration": 11,
    "start_time": "2023-06-06T09:52:05.304Z"
   },
   {
    "duration": 257,
    "start_time": "2023-06-06T09:52:05.317Z"
   },
   {
    "duration": 5,
    "start_time": "2023-06-06T09:52:05.576Z"
   },
   {
    "duration": 28,
    "start_time": "2023-06-06T09:52:05.582Z"
   },
   {
    "duration": 367,
    "start_time": "2023-06-06T09:52:05.612Z"
   },
   {
    "duration": 222,
    "start_time": "2023-06-06T09:52:05.985Z"
   },
   {
    "duration": 16959,
    "start_time": "2023-06-06T09:52:06.209Z"
   },
   {
    "duration": 15645,
    "start_time": "2023-06-06T09:52:23.175Z"
   },
   {
    "duration": 667,
    "start_time": "2023-06-06T09:52:38.823Z"
   },
   {
    "duration": 5,
    "start_time": "2023-06-06T09:52:39.492Z"
   },
   {
    "duration": 75,
    "start_time": "2023-06-06T09:52:39.498Z"
   },
   {
    "duration": 4,
    "start_time": "2023-06-06T09:52:39.575Z"
   },
   {
    "duration": 64,
    "start_time": "2023-06-06T09:52:39.581Z"
   },
   {
    "duration": 4,
    "start_time": "2023-06-06T09:52:39.647Z"
   },
   {
    "duration": 74,
    "start_time": "2023-06-06T09:52:39.652Z"
   },
   {
    "duration": 3,
    "start_time": "2023-06-06T09:52:39.728Z"
   },
   {
    "duration": 907,
    "start_time": "2023-06-06T09:52:39.733Z"
   },
   {
    "duration": 6,
    "start_time": "2023-06-06T10:06:19.288Z"
   },
   {
    "duration": 12,
    "start_time": "2023-06-06T10:06:19.297Z"
   },
   {
    "duration": 299,
    "start_time": "2023-06-06T10:06:19.312Z"
   },
   {
    "duration": 5,
    "start_time": "2023-06-06T10:06:19.613Z"
   },
   {
    "duration": 25,
    "start_time": "2023-06-06T10:06:19.620Z"
   },
   {
    "duration": 320,
    "start_time": "2023-06-06T10:06:19.647Z"
   },
   {
    "duration": 220,
    "start_time": "2023-06-06T10:06:19.969Z"
   },
   {
    "duration": 14964,
    "start_time": "2023-06-06T10:06:20.192Z"
   },
   {
    "duration": 14789,
    "start_time": "2023-06-06T10:06:35.163Z"
   },
   {
    "duration": 389,
    "start_time": "2023-06-06T10:06:49.958Z"
   },
   {
    "duration": 12,
    "start_time": "2023-06-06T10:06:50.356Z"
   },
   {
    "duration": 106,
    "start_time": "2023-06-06T10:06:50.376Z"
   },
   {
    "duration": 5,
    "start_time": "2023-06-06T10:06:50.486Z"
   },
   {
    "duration": 102,
    "start_time": "2023-06-06T10:06:50.494Z"
   },
   {
    "duration": 4,
    "start_time": "2023-06-06T10:06:50.598Z"
   },
   {
    "duration": 86,
    "start_time": "2023-06-06T10:06:50.604Z"
   },
   {
    "duration": 5,
    "start_time": "2023-06-06T10:06:50.692Z"
   },
   {
    "duration": 934,
    "start_time": "2023-06-06T10:06:50.698Z"
   },
   {
    "duration": 4,
    "start_time": "2023-06-06T10:06:51.633Z"
   },
   {
    "duration": 69,
    "start_time": "2023-06-06T10:06:51.639Z"
   },
   {
    "duration": 16,
    "start_time": "2023-06-06T10:06:51.710Z"
   },
   {
    "duration": 85,
    "start_time": "2023-06-06T10:06:51.728Z"
   },
   {
    "duration": 34,
    "start_time": "2023-06-06T10:06:51.815Z"
   },
   {
    "duration": 73,
    "start_time": "2023-06-06T10:06:51.851Z"
   },
   {
    "duration": 27,
    "start_time": "2023-06-06T10:06:51.926Z"
   },
   {
    "duration": 1591,
    "start_time": "2023-06-06T10:06:51.956Z"
   },
   {
    "duration": 779,
    "start_time": "2023-06-06T10:06:53.550Z"
   },
   {
    "duration": 85,
    "start_time": "2023-06-06T10:06:54.331Z"
   },
   {
    "duration": 544,
    "start_time": "2023-06-06T10:06:54.418Z"
   },
   {
    "duration": 87,
    "start_time": "2023-06-06T10:06:54.964Z"
   },
   {
    "duration": 13,
    "start_time": "2023-06-06T10:06:55.053Z"
   },
   {
    "duration": 103,
    "start_time": "2023-06-06T10:06:55.068Z"
   },
   {
    "duration": 7,
    "start_time": "2023-06-06T10:06:55.183Z"
   },
   {
    "duration": 29,
    "start_time": "2023-06-06T10:06:55.192Z"
   },
   {
    "duration": 8,
    "start_time": "2023-06-06T10:06:55.223Z"
   },
   {
    "duration": 9,
    "start_time": "2023-06-06T10:06:55.234Z"
   },
   {
    "duration": 224,
    "start_time": "2023-06-06T10:06:55.245Z"
   },
   {
    "duration": 61,
    "start_time": "2023-06-06T10:06:55.473Z"
   },
   {
    "duration": 0,
    "start_time": "2023-06-06T10:06:55.536Z"
   },
   {
    "duration": 0,
    "start_time": "2023-06-06T10:06:55.537Z"
   },
   {
    "duration": 0,
    "start_time": "2023-06-06T10:06:55.539Z"
   },
   {
    "duration": 0,
    "start_time": "2023-06-06T10:06:55.540Z"
   },
   {
    "duration": 0,
    "start_time": "2023-06-06T10:06:55.541Z"
   },
   {
    "duration": 0,
    "start_time": "2023-06-06T10:06:55.542Z"
   },
   {
    "duration": 0,
    "start_time": "2023-06-06T10:06:55.543Z"
   },
   {
    "duration": 0,
    "start_time": "2023-06-06T10:06:55.544Z"
   },
   {
    "duration": 0,
    "start_time": "2023-06-06T10:06:55.545Z"
   },
   {
    "duration": 0,
    "start_time": "2023-06-06T10:06:55.547Z"
   },
   {
    "duration": 1,
    "start_time": "2023-06-06T10:06:55.547Z"
   },
   {
    "duration": 18,
    "start_time": "2023-06-06T10:07:47.707Z"
   },
   {
    "duration": 41,
    "start_time": "2023-06-06T10:08:13.783Z"
   },
   {
    "duration": 199,
    "start_time": "2023-06-06T10:10:08.337Z"
   },
   {
    "duration": 935,
    "start_time": "2023-06-06T10:10:33.086Z"
   },
   {
    "duration": 94,
    "start_time": "2023-06-06T10:11:22.038Z"
   },
   {
    "duration": 16401,
    "start_time": "2023-06-06T10:11:51.302Z"
   },
   {
    "duration": 40,
    "start_time": "2023-06-06T10:12:07.705Z"
   },
   {
    "duration": 8694,
    "start_time": "2023-06-06T10:12:07.757Z"
   },
   {
    "duration": 136,
    "start_time": "2023-06-06T10:12:16.460Z"
   },
   {
    "duration": 0,
    "start_time": "2023-06-06T10:12:16.598Z"
   },
   {
    "duration": 0,
    "start_time": "2023-06-06T10:12:16.599Z"
   },
   {
    "duration": 0,
    "start_time": "2023-06-06T10:12:16.600Z"
   },
   {
    "duration": 0,
    "start_time": "2023-06-06T10:12:16.602Z"
   },
   {
    "duration": 0,
    "start_time": "2023-06-06T10:12:16.603Z"
   },
   {
    "duration": 0,
    "start_time": "2023-06-06T10:12:16.604Z"
   },
   {
    "duration": 0,
    "start_time": "2023-06-06T10:12:16.606Z"
   },
   {
    "duration": 0,
    "start_time": "2023-06-06T10:12:16.607Z"
   },
   {
    "duration": 0,
    "start_time": "2023-06-06T10:12:16.609Z"
   },
   {
    "duration": 0,
    "start_time": "2023-06-06T10:12:16.610Z"
   },
   {
    "duration": 8373,
    "start_time": "2023-06-06T10:12:29.587Z"
   },
   {
    "duration": 18,
    "start_time": "2023-06-06T10:12:37.967Z"
   },
   {
    "duration": 2113,
    "start_time": "2023-06-06T10:12:37.989Z"
   },
   {
    "duration": 1813,
    "start_time": "2023-06-06T10:12:40.104Z"
   },
   {
    "duration": 105050,
    "start_time": "2023-06-06T10:12:41.920Z"
   },
   {
    "duration": 191039,
    "start_time": "2023-06-06T10:14:26.972Z"
   },
   {
    "duration": 5463,
    "start_time": "2023-06-06T10:17:38.013Z"
   },
   {
    "duration": 99,
    "start_time": "2023-06-06T10:17:43.486Z"
   },
   {
    "duration": 1321,
    "start_time": "2023-06-06T10:17:43.589Z"
   },
   {
    "duration": 4,
    "start_time": "2023-06-06T10:17:44.912Z"
   },
   {
    "duration": 7,
    "start_time": "2023-06-06T10:17:44.918Z"
   },
   {
    "duration": 64,
    "start_time": "2023-06-06T10:17:44.926Z"
   },
   {
    "duration": 1775,
    "start_time": "2023-06-06T10:17:44.992Z"
   },
   {
    "duration": 440387,
    "start_time": "2023-06-06T10:18:18.204Z"
   },
   {
    "duration": 6907,
    "start_time": "2023-06-06T10:52:01.619Z"
   },
   {
    "duration": 116,
    "start_time": "2023-06-06T11:12:59.547Z"
   },
   {
    "duration": 22,
    "start_time": "2023-06-06T11:17:28.677Z"
   },
   {
    "duration": 0,
    "start_time": "2023-06-06T11:17:28.702Z"
   },
   {
    "duration": 0,
    "start_time": "2023-06-06T11:17:28.703Z"
   },
   {
    "duration": 0,
    "start_time": "2023-06-06T11:17:28.705Z"
   },
   {
    "duration": 0,
    "start_time": "2023-06-06T11:17:28.706Z"
   },
   {
    "duration": 0,
    "start_time": "2023-06-06T11:17:28.708Z"
   },
   {
    "duration": 0,
    "start_time": "2023-06-06T11:17:28.710Z"
   },
   {
    "duration": 0,
    "start_time": "2023-06-06T11:17:28.711Z"
   },
   {
    "duration": 0,
    "start_time": "2023-06-06T11:17:28.712Z"
   },
   {
    "duration": 0,
    "start_time": "2023-06-06T11:17:28.713Z"
   },
   {
    "duration": 0,
    "start_time": "2023-06-06T11:17:28.714Z"
   },
   {
    "duration": 0,
    "start_time": "2023-06-06T11:17:28.716Z"
   },
   {
    "duration": 0,
    "start_time": "2023-06-06T11:17:28.717Z"
   },
   {
    "duration": 0,
    "start_time": "2023-06-06T11:17:28.718Z"
   },
   {
    "duration": 0,
    "start_time": "2023-06-06T11:17:28.719Z"
   },
   {
    "duration": 0,
    "start_time": "2023-06-06T11:17:28.720Z"
   },
   {
    "duration": 0,
    "start_time": "2023-06-06T11:17:28.721Z"
   },
   {
    "duration": 0,
    "start_time": "2023-06-06T11:17:28.723Z"
   },
   {
    "duration": 0,
    "start_time": "2023-06-06T11:17:28.724Z"
   },
   {
    "duration": 0,
    "start_time": "2023-06-06T11:17:28.758Z"
   },
   {
    "duration": 10,
    "start_time": "2023-06-06T11:17:28.761Z"
   },
   {
    "duration": 1609,
    "start_time": "2023-06-06T11:17:28.775Z"
   },
   {
    "duration": 5,
    "start_time": "2023-06-06T11:17:30.386Z"
   },
   {
    "duration": 31,
    "start_time": "2023-06-06T11:17:30.393Z"
   },
   {
    "duration": 5,
    "start_time": "2023-06-06T11:18:33.840Z"
   },
   {
    "duration": 6,
    "start_time": "2023-06-06T11:18:33.848Z"
   },
   {
    "duration": 265,
    "start_time": "2023-06-06T11:18:33.857Z"
   },
   {
    "duration": 5,
    "start_time": "2023-06-06T11:18:34.125Z"
   },
   {
    "duration": 6,
    "start_time": "2023-06-06T11:18:34.132Z"
   },
   {
    "duration": 359,
    "start_time": "2023-06-06T11:18:34.140Z"
   },
   {
    "duration": 233,
    "start_time": "2023-06-06T11:18:34.501Z"
   },
   {
    "duration": 16164,
    "start_time": "2023-06-06T11:18:34.736Z"
   },
   {
    "duration": 15021,
    "start_time": "2023-06-06T11:18:50.902Z"
   },
   {
    "duration": 435,
    "start_time": "2023-06-06T11:19:05.928Z"
   },
   {
    "duration": 7,
    "start_time": "2023-06-06T11:19:06.369Z"
   },
   {
    "duration": 54,
    "start_time": "2023-06-06T11:19:06.377Z"
   },
   {
    "duration": 4,
    "start_time": "2023-06-06T11:19:06.433Z"
   },
   {
    "duration": 85,
    "start_time": "2023-06-06T11:19:06.438Z"
   },
   {
    "duration": 5,
    "start_time": "2023-06-06T11:19:06.525Z"
   },
   {
    "duration": 75,
    "start_time": "2023-06-06T11:19:06.532Z"
   },
   {
    "duration": 4,
    "start_time": "2023-06-06T11:19:06.609Z"
   },
   {
    "duration": 915,
    "start_time": "2023-06-06T11:19:06.615Z"
   },
   {
    "duration": 4,
    "start_time": "2023-06-06T11:19:07.532Z"
   },
   {
    "duration": 54,
    "start_time": "2023-06-06T11:19:07.538Z"
   },
   {
    "duration": 4,
    "start_time": "2023-06-06T11:19:07.594Z"
   },
   {
    "duration": 86,
    "start_time": "2023-06-06T11:19:07.599Z"
   },
   {
    "duration": 3,
    "start_time": "2023-06-06T11:19:07.688Z"
   },
   {
    "duration": 86,
    "start_time": "2023-06-06T11:19:07.694Z"
   },
   {
    "duration": 7,
    "start_time": "2023-06-06T11:19:07.782Z"
   },
   {
    "duration": 753,
    "start_time": "2023-06-06T11:19:07.791Z"
   },
   {
    "duration": 96,
    "start_time": "2023-06-06T11:19:08.548Z"
   },
   {
    "duration": 615,
    "start_time": "2023-06-06T11:19:08.658Z"
   },
   {
    "duration": 21,
    "start_time": "2023-06-06T11:19:09.279Z"
   },
   {
    "duration": 0,
    "start_time": "2023-06-06T11:19:09.303Z"
   },
   {
    "duration": 0,
    "start_time": "2023-06-06T11:19:09.305Z"
   },
   {
    "duration": 0,
    "start_time": "2023-06-06T11:19:09.308Z"
   },
   {
    "duration": 0,
    "start_time": "2023-06-06T11:19:09.309Z"
   },
   {
    "duration": 0,
    "start_time": "2023-06-06T11:19:09.311Z"
   },
   {
    "duration": 0,
    "start_time": "2023-06-06T11:19:09.312Z"
   },
   {
    "duration": 0,
    "start_time": "2023-06-06T11:19:09.314Z"
   },
   {
    "duration": 0,
    "start_time": "2023-06-06T11:19:09.316Z"
   },
   {
    "duration": 0,
    "start_time": "2023-06-06T11:19:09.317Z"
   },
   {
    "duration": 0,
    "start_time": "2023-06-06T11:19:09.319Z"
   },
   {
    "duration": 0,
    "start_time": "2023-06-06T11:19:09.321Z"
   },
   {
    "duration": 0,
    "start_time": "2023-06-06T11:19:09.322Z"
   },
   {
    "duration": 0,
    "start_time": "2023-06-06T11:19:09.323Z"
   },
   {
    "duration": 0,
    "start_time": "2023-06-06T11:19:09.324Z"
   },
   {
    "duration": 0,
    "start_time": "2023-06-06T11:19:09.325Z"
   },
   {
    "duration": 0,
    "start_time": "2023-06-06T11:19:09.326Z"
   },
   {
    "duration": 0,
    "start_time": "2023-06-06T11:19:09.327Z"
   },
   {
    "duration": 0,
    "start_time": "2023-06-06T11:19:09.356Z"
   },
   {
    "duration": 0,
    "start_time": "2023-06-06T11:19:09.357Z"
   },
   {
    "duration": 0,
    "start_time": "2023-06-06T11:19:09.358Z"
   },
   {
    "duration": 0,
    "start_time": "2023-06-06T11:19:09.359Z"
   },
   {
    "duration": 1452,
    "start_time": "2023-06-06T11:20:33.419Z"
   },
   {
    "duration": 21,
    "start_time": "2023-06-06T11:20:40.417Z"
   },
   {
    "duration": 0,
    "start_time": "2023-06-06T11:20:40.441Z"
   },
   {
    "duration": 0,
    "start_time": "2023-06-06T11:20:40.442Z"
   },
   {
    "duration": 0,
    "start_time": "2023-06-06T11:20:40.444Z"
   },
   {
    "duration": 0,
    "start_time": "2023-06-06T11:20:40.445Z"
   },
   {
    "duration": 0,
    "start_time": "2023-06-06T11:20:40.447Z"
   },
   {
    "duration": 0,
    "start_time": "2023-06-06T11:20:40.449Z"
   },
   {
    "duration": 0,
    "start_time": "2023-06-06T11:20:40.450Z"
   },
   {
    "duration": 7,
    "start_time": "2023-06-06T11:20:40.454Z"
   },
   {
    "duration": 247,
    "start_time": "2023-06-06T11:20:40.463Z"
   },
   {
    "duration": 6,
    "start_time": "2023-06-06T11:32:12.008Z"
   },
   {
    "duration": 6,
    "start_time": "2023-06-06T11:32:15.098Z"
   },
   {
    "duration": 23,
    "start_time": "2023-06-06T11:32:15.107Z"
   },
   {
    "duration": 316,
    "start_time": "2023-06-06T11:32:15.132Z"
   },
   {
    "duration": 4,
    "start_time": "2023-06-06T11:32:15.450Z"
   },
   {
    "duration": 35,
    "start_time": "2023-06-06T11:32:15.457Z"
   },
   {
    "duration": 352,
    "start_time": "2023-06-06T11:32:15.497Z"
   },
   {
    "duration": 260,
    "start_time": "2023-06-06T11:32:15.856Z"
   },
   {
    "duration": 17491,
    "start_time": "2023-06-06T11:32:16.119Z"
   },
   {
    "duration": 16262,
    "start_time": "2023-06-06T11:32:33.613Z"
   },
   {
    "duration": 385,
    "start_time": "2023-06-06T11:32:49.877Z"
   },
   {
    "duration": 5,
    "start_time": "2023-06-06T11:32:50.274Z"
   },
   {
    "duration": 59,
    "start_time": "2023-06-06T11:32:50.280Z"
   },
   {
    "duration": 25,
    "start_time": "2023-06-06T11:32:50.341Z"
   },
   {
    "duration": 95,
    "start_time": "2023-06-06T11:32:50.370Z"
   },
   {
    "duration": 5,
    "start_time": "2023-06-06T11:32:50.467Z"
   },
   {
    "duration": 70,
    "start_time": "2023-06-06T11:32:50.473Z"
   },
   {
    "duration": 4,
    "start_time": "2023-06-06T11:32:50.545Z"
   },
   {
    "duration": 976,
    "start_time": "2023-06-06T11:32:50.550Z"
   },
   {
    "duration": 4,
    "start_time": "2023-06-06T11:32:51.528Z"
   },
   {
    "duration": 68,
    "start_time": "2023-06-06T11:32:51.534Z"
   },
   {
    "duration": 4,
    "start_time": "2023-06-06T11:32:51.604Z"
   },
   {
    "duration": 66,
    "start_time": "2023-06-06T11:32:51.610Z"
   },
   {
    "duration": 5,
    "start_time": "2023-06-06T11:32:51.678Z"
   },
   {
    "duration": 60,
    "start_time": "2023-06-06T11:32:51.685Z"
   },
   {
    "duration": 23,
    "start_time": "2023-06-06T11:32:51.747Z"
   },
   {
    "duration": 1595,
    "start_time": "2023-06-06T11:32:51.772Z"
   },
   {
    "duration": 844,
    "start_time": "2023-06-06T11:32:53.369Z"
   },
   {
    "duration": 102,
    "start_time": "2023-06-06T11:32:54.216Z"
   },
   {
    "duration": 562,
    "start_time": "2023-06-06T11:32:54.321Z"
   },
   {
    "duration": 66,
    "start_time": "2023-06-06T11:32:54.885Z"
   },
   {
    "duration": 11,
    "start_time": "2023-06-06T11:32:54.953Z"
   },
   {
    "duration": 88,
    "start_time": "2023-06-06T11:32:54.969Z"
   },
   {
    "duration": 5,
    "start_time": "2023-06-06T11:32:55.059Z"
   },
   {
    "duration": 35,
    "start_time": "2023-06-06T11:32:55.066Z"
   },
   {
    "duration": 29,
    "start_time": "2023-06-06T11:32:55.103Z"
   },
   {
    "duration": 41,
    "start_time": "2023-06-06T11:32:55.134Z"
   },
   {
    "duration": 181,
    "start_time": "2023-06-06T11:32:55.180Z"
   },
   {
    "duration": 18922,
    "start_time": "2023-06-06T11:32:55.363Z"
   },
   {
    "duration": 9437,
    "start_time": "2023-06-06T11:33:14.288Z"
   },
   {
    "duration": 9,
    "start_time": "2023-06-06T11:33:23.728Z"
   },
   {
    "duration": 2119,
    "start_time": "2023-06-06T11:33:23.743Z"
   },
   {
    "duration": 2156,
    "start_time": "2023-06-06T11:33:25.874Z"
   },
   {
    "duration": 159,
    "start_time": "2023-06-06T11:33:28.031Z"
   },
   {
    "duration": 101525,
    "start_time": "2023-06-06T11:33:28.193Z"
   },
   {
    "duration": 492684,
    "start_time": "2023-06-06T11:35:09.720Z"
   },
   {
    "duration": 6660,
    "start_time": "2023-06-06T11:43:22.409Z"
   },
   {
    "duration": 6107,
    "start_time": "2023-06-06T11:43:29.072Z"
   },
   {
    "duration": 17,
    "start_time": "2023-06-06T11:43:35.190Z"
   },
   {
    "duration": 1499,
    "start_time": "2023-06-06T11:43:35.276Z"
   },
   {
    "duration": 6,
    "start_time": "2023-06-06T11:43:36.782Z"
   },
   {
    "duration": 12,
    "start_time": "2023-06-06T11:43:36.792Z"
   },
   {
    "duration": 65135,
    "start_time": "2023-06-06T11:43:36.808Z"
   },
   {
    "duration": 5546,
    "start_time": "2023-06-06T11:45:49.553Z"
   },
   {
    "duration": 229695,
    "start_time": "2023-06-06T11:46:44.742Z"
   },
   {
    "duration": 23,
    "start_time": "2023-06-06T11:51:40.972Z"
   },
   {
    "duration": 3,
    "start_time": "2023-06-06T11:51:40.998Z"
   },
   {
    "duration": 270,
    "start_time": "2023-06-06T11:51:41.004Z"
   },
   {
    "duration": 5,
    "start_time": "2023-06-06T11:51:41.277Z"
   },
   {
    "duration": 17,
    "start_time": "2023-06-06T11:51:41.284Z"
   },
   {
    "duration": 340,
    "start_time": "2023-06-06T11:51:41.303Z"
   },
   {
    "duration": 274,
    "start_time": "2023-06-06T11:51:41.645Z"
   },
   {
    "duration": 17238,
    "start_time": "2023-06-06T11:51:41.921Z"
   },
   {
    "duration": 16748,
    "start_time": "2023-06-06T11:51:59.161Z"
   },
   {
    "duration": 411,
    "start_time": "2023-06-06T11:52:15.911Z"
   },
   {
    "duration": 3,
    "start_time": "2023-06-06T11:52:16.324Z"
   },
   {
    "duration": 90,
    "start_time": "2023-06-06T11:52:16.329Z"
   },
   {
    "duration": 4,
    "start_time": "2023-06-06T11:52:16.421Z"
   },
   {
    "duration": 94,
    "start_time": "2023-06-06T11:52:16.429Z"
   },
   {
    "duration": 6,
    "start_time": "2023-06-06T11:52:16.526Z"
   },
   {
    "duration": 106,
    "start_time": "2023-06-06T11:52:16.534Z"
   },
   {
    "duration": 3,
    "start_time": "2023-06-06T11:52:16.643Z"
   },
   {
    "duration": 1086,
    "start_time": "2023-06-06T11:52:16.648Z"
   },
   {
    "duration": 4,
    "start_time": "2023-06-06T11:52:17.737Z"
   },
   {
    "duration": 60,
    "start_time": "2023-06-06T11:52:17.743Z"
   },
   {
    "duration": 4,
    "start_time": "2023-06-06T11:52:17.808Z"
   },
   {
    "duration": 44,
    "start_time": "2023-06-06T11:52:17.814Z"
   },
   {
    "duration": 6,
    "start_time": "2023-06-06T11:52:17.860Z"
   },
   {
    "duration": 58,
    "start_time": "2023-06-06T11:52:17.868Z"
   },
   {
    "duration": 6,
    "start_time": "2023-06-06T11:52:17.928Z"
   },
   {
    "duration": 1793,
    "start_time": "2023-06-06T11:52:17.936Z"
   },
   {
    "duration": 890,
    "start_time": "2023-06-06T11:52:19.731Z"
   },
   {
    "duration": 95,
    "start_time": "2023-06-06T11:52:20.624Z"
   },
   {
    "duration": 458,
    "start_time": "2023-06-06T11:52:20.721Z"
   },
   {
    "duration": 48,
    "start_time": "2023-06-06T11:52:21.181Z"
   },
   {
    "duration": 0,
    "start_time": "2023-06-06T11:52:21.231Z"
   },
   {
    "duration": 0,
    "start_time": "2023-06-06T11:52:21.232Z"
   },
   {
    "duration": 0,
    "start_time": "2023-06-06T11:52:21.234Z"
   },
   {
    "duration": 0,
    "start_time": "2023-06-06T11:52:21.236Z"
   },
   {
    "duration": 0,
    "start_time": "2023-06-06T11:52:21.263Z"
   },
   {
    "duration": 0,
    "start_time": "2023-06-06T11:52:21.270Z"
   },
   {
    "duration": 0,
    "start_time": "2023-06-06T11:52:21.271Z"
   },
   {
    "duration": 0,
    "start_time": "2023-06-06T11:52:21.276Z"
   },
   {
    "duration": 0,
    "start_time": "2023-06-06T11:52:21.278Z"
   },
   {
    "duration": 0,
    "start_time": "2023-06-06T11:52:21.279Z"
   },
   {
    "duration": 0,
    "start_time": "2023-06-06T11:52:21.281Z"
   },
   {
    "duration": 0,
    "start_time": "2023-06-06T11:52:21.290Z"
   },
   {
    "duration": 0,
    "start_time": "2023-06-06T11:52:21.292Z"
   },
   {
    "duration": 0,
    "start_time": "2023-06-06T11:52:21.294Z"
   },
   {
    "duration": 0,
    "start_time": "2023-06-06T11:52:21.296Z"
   },
   {
    "duration": 0,
    "start_time": "2023-06-06T11:52:21.302Z"
   },
   {
    "duration": 0,
    "start_time": "2023-06-06T11:52:21.304Z"
   },
   {
    "duration": 0,
    "start_time": "2023-06-06T11:52:21.306Z"
   },
   {
    "duration": 0,
    "start_time": "2023-06-06T11:52:21.313Z"
   },
   {
    "duration": 0,
    "start_time": "2023-06-06T11:52:21.315Z"
   },
   {
    "duration": 43,
    "start_time": "2023-06-06T11:52:59.549Z"
   },
   {
    "duration": 0,
    "start_time": "2023-06-06T11:52:59.596Z"
   },
   {
    "duration": 0,
    "start_time": "2023-06-06T11:52:59.599Z"
   },
   {
    "duration": 0,
    "start_time": "2023-06-06T11:52:59.601Z"
   },
   {
    "duration": 0,
    "start_time": "2023-06-06T11:52:59.602Z"
   },
   {
    "duration": 0,
    "start_time": "2023-06-06T11:52:59.604Z"
   },
   {
    "duration": 0,
    "start_time": "2023-06-06T11:52:59.605Z"
   },
   {
    "duration": 0,
    "start_time": "2023-06-06T11:52:59.606Z"
   },
   {
    "duration": 0,
    "start_time": "2023-06-06T11:52:59.608Z"
   },
   {
    "duration": 0,
    "start_time": "2023-06-06T11:52:59.609Z"
   },
   {
    "duration": 0,
    "start_time": "2023-06-06T11:52:59.611Z"
   },
   {
    "duration": 0,
    "start_time": "2023-06-06T11:52:59.613Z"
   },
   {
    "duration": 0,
    "start_time": "2023-06-06T11:52:59.614Z"
   },
   {
    "duration": 0,
    "start_time": "2023-06-06T11:52:59.615Z"
   },
   {
    "duration": 0,
    "start_time": "2023-06-06T11:52:59.616Z"
   },
   {
    "duration": 0,
    "start_time": "2023-06-06T11:52:59.618Z"
   },
   {
    "duration": 0,
    "start_time": "2023-06-06T11:52:59.619Z"
   },
   {
    "duration": 0,
    "start_time": "2023-06-06T11:52:59.620Z"
   },
   {
    "duration": 68,
    "start_time": "2023-06-06T11:52:59.623Z"
   },
   {
    "duration": 1545,
    "start_time": "2023-06-06T11:52:59.693Z"
   },
   {
    "duration": 6,
    "start_time": "2023-06-06T11:53:01.240Z"
   },
   {
    "duration": 43,
    "start_time": "2023-06-06T11:53:01.248Z"
   },
   {
    "duration": 13,
    "start_time": "2023-06-06T11:53:13.581Z"
   },
   {
    "duration": 15,
    "start_time": "2023-06-06T11:53:13.598Z"
   },
   {
    "duration": 290,
    "start_time": "2023-06-06T11:53:13.615Z"
   },
   {
    "duration": 6,
    "start_time": "2023-06-06T11:53:13.907Z"
   },
   {
    "duration": 18,
    "start_time": "2023-06-06T11:53:13.915Z"
   },
   {
    "duration": 364,
    "start_time": "2023-06-06T11:53:13.935Z"
   },
   {
    "duration": 240,
    "start_time": "2023-06-06T11:53:14.302Z"
   },
   {
    "duration": 17377,
    "start_time": "2023-06-06T11:53:14.544Z"
   },
   {
    "duration": 16403,
    "start_time": "2023-06-06T11:53:31.923Z"
   },
   {
    "duration": 448,
    "start_time": "2023-06-06T11:53:48.328Z"
   },
   {
    "duration": 7,
    "start_time": "2023-06-06T11:53:48.778Z"
   },
   {
    "duration": 80,
    "start_time": "2023-06-06T11:53:48.787Z"
   },
   {
    "duration": 3,
    "start_time": "2023-06-06T11:53:48.870Z"
   },
   {
    "duration": 117,
    "start_time": "2023-06-06T11:53:48.877Z"
   },
   {
    "duration": 7,
    "start_time": "2023-06-06T11:53:48.997Z"
   },
   {
    "duration": 78,
    "start_time": "2023-06-06T11:53:49.007Z"
   },
   {
    "duration": 7,
    "start_time": "2023-06-06T11:53:49.090Z"
   },
   {
    "duration": 1106,
    "start_time": "2023-06-06T11:53:49.099Z"
   },
   {
    "duration": 4,
    "start_time": "2023-06-06T11:53:50.208Z"
   },
   {
    "duration": 32,
    "start_time": "2023-06-06T11:53:50.214Z"
   },
   {
    "duration": 28,
    "start_time": "2023-06-06T11:53:50.249Z"
   },
   {
    "duration": 55,
    "start_time": "2023-06-06T11:53:50.284Z"
   },
   {
    "duration": 4,
    "start_time": "2023-06-06T11:53:50.341Z"
   },
   {
    "duration": 76,
    "start_time": "2023-06-06T11:53:50.347Z"
   },
   {
    "duration": 5,
    "start_time": "2023-06-06T11:53:50.425Z"
   },
   {
    "duration": 1788,
    "start_time": "2023-06-06T11:53:50.432Z"
   },
   {
    "duration": 877,
    "start_time": "2023-06-06T11:53:52.222Z"
   },
   {
    "duration": 80,
    "start_time": "2023-06-06T11:53:53.100Z"
   },
   {
    "duration": 474,
    "start_time": "2023-06-06T11:53:53.182Z"
   },
   {
    "duration": 44,
    "start_time": "2023-06-06T11:53:53.658Z"
   },
   {
    "duration": 3,
    "start_time": "2023-06-06T11:53:53.704Z"
   },
   {
    "duration": 151,
    "start_time": "2023-06-06T11:53:53.709Z"
   },
   {
    "duration": 5,
    "start_time": "2023-06-06T11:53:53.862Z"
   },
   {
    "duration": 14,
    "start_time": "2023-06-06T11:53:53.869Z"
   },
   {
    "duration": 6,
    "start_time": "2023-06-06T11:53:53.886Z"
   },
   {
    "duration": 6,
    "start_time": "2023-06-06T11:53:53.894Z"
   },
   {
    "duration": 136,
    "start_time": "2023-06-06T11:53:53.902Z"
   },
   {
    "duration": 15623,
    "start_time": "2023-06-06T11:53:54.041Z"
   },
   {
    "duration": 8131,
    "start_time": "2023-06-06T11:54:09.666Z"
   },
   {
    "duration": 17,
    "start_time": "2023-06-06T11:54:17.799Z"
   },
   {
    "duration": 1545,
    "start_time": "2023-06-06T11:54:17.821Z"
   },
   {
    "duration": 1298,
    "start_time": "2023-06-06T11:54:19.368Z"
   },
   {
    "duration": 55621,
    "start_time": "2023-06-06T11:54:20.669Z"
   },
   {
    "duration": 317750,
    "start_time": "2023-06-06T11:55:16.292Z"
   },
   {
    "duration": 6528,
    "start_time": "2023-06-06T12:00:34.043Z"
   },
   {
    "duration": 3794,
    "start_time": "2023-06-06T12:00:40.573Z"
   },
   {
    "duration": 88,
    "start_time": "2023-06-06T12:00:44.370Z"
   },
   {
    "duration": 1346,
    "start_time": "2023-06-06T12:00:44.460Z"
   },
   {
    "duration": 18,
    "start_time": "2023-06-06T12:00:45.808Z"
   },
   {
    "duration": 13,
    "start_time": "2023-06-06T12:00:45.828Z"
   },
   {
    "duration": 2468,
    "start_time": "2023-06-06T12:02:08.403Z"
   },
   {
    "duration": 7,
    "start_time": "2023-06-06T12:03:03.688Z"
   },
   {
    "duration": 1380,
    "start_time": "2023-06-06T12:03:04.140Z"
   },
   {
    "duration": 5,
    "start_time": "2023-06-06T12:03:05.523Z"
   },
   {
    "duration": 32,
    "start_time": "2023-06-06T12:03:05.529Z"
   },
   {
    "duration": 2203,
    "start_time": "2023-06-06T12:03:16.585Z"
   },
   {
    "duration": 26,
    "start_time": "2023-06-06T12:04:33.004Z"
   },
   {
    "duration": 35,
    "start_time": "2023-06-06T12:06:19.284Z"
   },
   {
    "duration": 109,
    "start_time": "2023-06-06T12:06:32.324Z"
   },
   {
    "duration": 10,
    "start_time": "2023-06-06T12:08:43.205Z"
   },
   {
    "duration": 6,
    "start_time": "2023-06-06T12:09:37.721Z"
   },
   {
    "duration": 1269,
    "start_time": "2023-06-06T12:09:38.445Z"
   },
   {
    "duration": 9,
    "start_time": "2023-06-06T12:09:45.061Z"
   },
   {
    "duration": 33,
    "start_time": "2023-06-06T12:10:48.467Z"
   },
   {
    "duration": 8128,
    "start_time": "2023-06-06T12:12:40.678Z"
   },
   {
    "duration": 8974,
    "start_time": "2023-06-06T12:13:06.810Z"
   },
   {
    "duration": 7,
    "start_time": "2023-06-06T12:13:59.587Z"
   },
   {
    "duration": 1167,
    "start_time": "2023-06-06T12:14:00.133Z"
   },
   {
    "duration": 4,
    "start_time": "2023-06-06T12:14:01.308Z"
   },
   {
    "duration": 1895,
    "start_time": "2023-06-07T12:41:41.800Z"
   },
   {
    "duration": 4,
    "start_time": "2023-06-07T12:41:43.696Z"
   },
   {
    "duration": 444,
    "start_time": "2023-06-07T12:41:43.702Z"
   },
   {
    "duration": 4,
    "start_time": "2023-06-07T12:41:44.148Z"
   },
   {
    "duration": 9,
    "start_time": "2023-06-07T12:41:44.154Z"
   },
   {
    "duration": 287,
    "start_time": "2023-06-07T12:41:44.165Z"
   },
   {
    "duration": 227,
    "start_time": "2023-06-07T12:41:44.453Z"
   },
   {
    "duration": 9189,
    "start_time": "2023-06-07T12:41:44.682Z"
   },
   {
    "duration": 8722,
    "start_time": "2023-06-07T12:41:53.872Z"
   },
   {
    "duration": 298,
    "start_time": "2023-06-07T12:42:02.596Z"
   },
   {
    "duration": 2,
    "start_time": "2023-06-07T12:42:02.896Z"
   },
   {
    "duration": 69,
    "start_time": "2023-06-07T12:42:02.900Z"
   },
   {
    "duration": 13,
    "start_time": "2023-06-07T12:42:02.971Z"
   },
   {
    "duration": 80,
    "start_time": "2023-06-07T12:42:02.986Z"
   },
   {
    "duration": 35,
    "start_time": "2023-06-07T12:42:03.068Z"
   },
   {
    "duration": 135,
    "start_time": "2023-06-07T12:42:03.104Z"
   },
   {
    "duration": 10,
    "start_time": "2023-06-07T12:42:03.240Z"
   },
   {
    "duration": 725,
    "start_time": "2023-06-07T12:42:03.252Z"
   },
   {
    "duration": 4,
    "start_time": "2023-06-07T12:42:03.979Z"
   },
   {
    "duration": 47,
    "start_time": "2023-06-07T12:42:03.984Z"
   },
   {
    "duration": 32,
    "start_time": "2023-06-07T12:42:04.033Z"
   },
   {
    "duration": 44,
    "start_time": "2023-06-07T12:42:04.067Z"
   },
   {
    "duration": 7,
    "start_time": "2023-06-07T12:42:04.113Z"
   },
   {
    "duration": 49,
    "start_time": "2023-06-07T12:42:04.121Z"
   },
   {
    "duration": 6,
    "start_time": "2023-06-07T12:42:04.172Z"
   },
   {
    "duration": 1428,
    "start_time": "2023-06-07T12:42:04.179Z"
   },
   {
    "duration": 673,
    "start_time": "2023-06-07T12:42:05.609Z"
   },
   {
    "duration": 64,
    "start_time": "2023-06-07T12:42:06.285Z"
   },
   {
    "duration": 351,
    "start_time": "2023-06-07T12:42:06.351Z"
   },
   {
    "duration": 48,
    "start_time": "2023-06-07T12:42:06.704Z"
   },
   {
    "duration": 3,
    "start_time": "2023-06-07T12:42:06.754Z"
   },
   {
    "duration": 111,
    "start_time": "2023-06-07T12:42:06.758Z"
   },
   {
    "duration": 4,
    "start_time": "2023-06-07T12:42:06.871Z"
   },
   {
    "duration": 9,
    "start_time": "2023-06-07T12:42:06.877Z"
   },
   {
    "duration": 29,
    "start_time": "2023-06-07T12:42:06.887Z"
   },
   {
    "duration": 13,
    "start_time": "2023-06-07T12:42:06.917Z"
   },
   {
    "duration": 111,
    "start_time": "2023-06-07T12:42:06.931Z"
   },
   {
    "duration": 10318,
    "start_time": "2023-06-07T12:42:07.044Z"
   },
   {
    "duration": 5243,
    "start_time": "2023-06-07T12:42:17.364Z"
   },
   {
    "duration": 12,
    "start_time": "2023-06-07T12:42:22.609Z"
   },
   {
    "duration": 1029,
    "start_time": "2023-06-07T12:42:22.622Z"
   },
   {
    "duration": 982,
    "start_time": "2023-06-07T12:42:23.652Z"
   },
   {
    "duration": 41061,
    "start_time": "2023-06-07T12:42:24.636Z"
   },
   {
    "duration": 224787,
    "start_time": "2023-06-07T12:43:05.698Z"
   },
   {
    "duration": 4037,
    "start_time": "2023-06-07T12:46:50.487Z"
   },
   {
    "duration": 6471,
    "start_time": "2023-06-07T12:46:54.526Z"
   },
   {
    "duration": 6,
    "start_time": "2023-06-07T12:47:00.998Z"
   },
   {
    "duration": 1056,
    "start_time": "2023-06-07T12:47:01.006Z"
   },
   {
    "duration": 4,
    "start_time": "2023-06-07T12:47:02.063Z"
   },
   {
    "duration": 62,
    "start_time": "2023-06-07T14:10:15.227Z"
   },
   {
    "duration": 14024,
    "start_time": "2023-06-07T17:19:44.718Z"
   },
   {
    "duration": 15,
    "start_time": "2023-06-07T17:20:03.428Z"
   },
   {
    "duration": 3,
    "start_time": "2023-06-07T17:20:08.937Z"
   },
   {
    "duration": 657,
    "start_time": "2023-06-07T17:20:10.346Z"
   },
   {
    "duration": 4,
    "start_time": "2023-06-07T17:20:14.791Z"
   },
   {
    "duration": 4,
    "start_time": "2023-06-07T17:20:17.256Z"
   },
   {
    "duration": 202,
    "start_time": "2023-06-07T17:20:20.472Z"
   },
   {
    "duration": 2,
    "start_time": "2023-06-07T17:27:04.464Z"
   },
   {
    "duration": 112,
    "start_time": "2023-06-07T17:27:09.110Z"
   },
   {
    "duration": 3,
    "start_time": "2023-06-07T17:27:41.142Z"
   },
   {
    "duration": 23,
    "start_time": "2023-06-07T17:27:46.204Z"
   },
   {
    "duration": 3,
    "start_time": "2023-06-07T17:28:17.768Z"
   },
   {
    "duration": 6230,
    "start_time": "2023-06-07T17:28:23.160Z"
   },
   {
    "duration": 6573,
    "start_time": "2023-06-07T17:28:51.390Z"
   },
   {
    "duration": 3,
    "start_time": "2023-06-07T17:31:51.377Z"
   },
   {
    "duration": 6666,
    "start_time": "2023-06-07T17:31:55.698Z"
   },
   {
    "duration": 5365,
    "start_time": "2023-06-07T17:32:02.365Z"
   },
   {
    "duration": 79,
    "start_time": "2023-06-07T17:38:34.678Z"
   },
   {
    "duration": 10,
    "start_time": "2023-06-07T17:44:16.094Z"
   },
   {
    "duration": 4,
    "start_time": "2023-06-07T17:44:18.131Z"
   },
   {
    "duration": 23,
    "start_time": "2023-06-07T17:44:18.511Z"
   },
   {
    "duration": 3,
    "start_time": "2023-06-07T17:45:56.501Z"
   },
   {
    "duration": 7,
    "start_time": "2023-06-07T17:45:57.088Z"
   },
   {
    "duration": 10,
    "start_time": "2023-06-07T17:46:09.302Z"
   },
   {
    "duration": 4,
    "start_time": "2023-06-07T17:49:50.692Z"
   },
   {
    "duration": 22,
    "start_time": "2023-06-07T17:49:59.425Z"
   },
   {
    "duration": 24,
    "start_time": "2023-06-07T17:50:01.374Z"
   },
   {
    "duration": 3,
    "start_time": "2023-06-07T17:54:21.554Z"
   },
   {
    "duration": 12,
    "start_time": "2023-06-07T17:54:22.106Z"
   },
   {
    "duration": 11,
    "start_time": "2023-06-07T17:54:22.657Z"
   },
   {
    "duration": 143,
    "start_time": "2023-06-07T17:55:09.318Z"
   },
   {
    "duration": 214,
    "start_time": "2023-06-07T17:55:46.090Z"
   },
   {
    "duration": 167,
    "start_time": "2023-06-07T17:55:56.354Z"
   },
   {
    "duration": 375,
    "start_time": "2023-06-07T17:56:06.871Z"
   },
   {
    "duration": 178,
    "start_time": "2023-06-07T17:56:27.188Z"
   },
   {
    "duration": 197,
    "start_time": "2023-06-07T17:56:40.841Z"
   },
   {
    "duration": 225,
    "start_time": "2023-06-07T17:57:07.811Z"
   },
   {
    "duration": 253,
    "start_time": "2023-06-07T17:57:08.474Z"
   },
   {
    "duration": 17,
    "start_time": "2023-06-07T18:02:38.051Z"
   },
   {
    "duration": 14,
    "start_time": "2023-06-07T18:02:43.406Z"
   },
   {
    "duration": 11,
    "start_time": "2023-06-07T18:02:54.067Z"
   },
   {
    "duration": 2268,
    "start_time": "2023-06-07T18:13:32.463Z"
   },
   {
    "duration": 6,
    "start_time": "2023-06-07T18:13:34.734Z"
   },
   {
    "duration": 24,
    "start_time": "2023-06-07T18:13:34.742Z"
   },
   {
    "duration": 375,
    "start_time": "2023-06-07T18:13:34.769Z"
   },
   {
    "duration": 5,
    "start_time": "2023-06-07T18:13:35.146Z"
   },
   {
    "duration": 43,
    "start_time": "2023-06-07T18:13:35.153Z"
   },
   {
    "duration": 262,
    "start_time": "2023-06-07T18:13:35.198Z"
   },
   {
    "duration": 144,
    "start_time": "2023-06-07T18:13:35.462Z"
   },
   {
    "duration": 7073,
    "start_time": "2023-06-07T18:13:35.608Z"
   },
   {
    "duration": 5608,
    "start_time": "2023-06-07T18:13:42.684Z"
   },
   {
    "duration": 343,
    "start_time": "2023-06-07T18:13:48.293Z"
   },
   {
    "duration": 4,
    "start_time": "2023-06-07T18:13:48.637Z"
   },
   {
    "duration": 38,
    "start_time": "2023-06-07T18:13:48.642Z"
   },
   {
    "duration": 13,
    "start_time": "2023-06-07T18:13:48.683Z"
   },
   {
    "duration": 194,
    "start_time": "2023-06-07T18:13:48.698Z"
   },
   {
    "duration": 184,
    "start_time": "2023-06-07T18:13:48.894Z"
   },
   {
    "duration": 244,
    "start_time": "2023-06-07T18:13:49.080Z"
   },
   {
    "duration": 239,
    "start_time": "2023-06-07T18:13:49.326Z"
   },
   {
    "duration": 19,
    "start_time": "2023-06-07T18:13:49.567Z"
   },
   {
    "duration": 4,
    "start_time": "2023-06-07T18:13:49.587Z"
   },
   {
    "duration": 57,
    "start_time": "2023-06-07T18:13:49.592Z"
   },
   {
    "duration": 3,
    "start_time": "2023-06-07T18:13:49.651Z"
   },
   {
    "duration": 78,
    "start_time": "2023-06-07T18:13:49.656Z"
   },
   {
    "duration": 4,
    "start_time": "2023-06-07T18:13:49.735Z"
   },
   {
    "duration": 426,
    "start_time": "2023-06-07T18:13:49.741Z"
   },
   {
    "duration": 0,
    "start_time": "2023-06-07T18:13:50.171Z"
   },
   {
    "duration": 0,
    "start_time": "2023-06-07T18:13:50.172Z"
   },
   {
    "duration": 0,
    "start_time": "2023-06-07T18:13:50.173Z"
   },
   {
    "duration": 0,
    "start_time": "2023-06-07T18:13:50.175Z"
   },
   {
    "duration": 0,
    "start_time": "2023-06-07T18:13:50.176Z"
   },
   {
    "duration": 0,
    "start_time": "2023-06-07T18:13:50.177Z"
   },
   {
    "duration": 0,
    "start_time": "2023-06-07T18:13:50.178Z"
   },
   {
    "duration": 0,
    "start_time": "2023-06-07T18:13:50.179Z"
   },
   {
    "duration": 0,
    "start_time": "2023-06-07T18:13:50.180Z"
   },
   {
    "duration": 0,
    "start_time": "2023-06-07T18:13:50.181Z"
   },
   {
    "duration": 0,
    "start_time": "2023-06-07T18:13:50.182Z"
   },
   {
    "duration": 0,
    "start_time": "2023-06-07T18:13:50.183Z"
   },
   {
    "duration": 0,
    "start_time": "2023-06-07T18:13:50.185Z"
   },
   {
    "duration": 0,
    "start_time": "2023-06-07T18:13:50.186Z"
   },
   {
    "duration": 0,
    "start_time": "2023-06-07T18:13:50.188Z"
   },
   {
    "duration": 0,
    "start_time": "2023-06-07T18:13:50.189Z"
   },
   {
    "duration": 0,
    "start_time": "2023-06-07T18:13:50.190Z"
   },
   {
    "duration": 0,
    "start_time": "2023-06-07T18:13:50.191Z"
   },
   {
    "duration": 0,
    "start_time": "2023-06-07T18:13:50.192Z"
   },
   {
    "duration": 0,
    "start_time": "2023-06-07T18:13:50.193Z"
   },
   {
    "duration": 0,
    "start_time": "2023-06-07T18:13:50.195Z"
   },
   {
    "duration": 0,
    "start_time": "2023-06-07T18:13:50.195Z"
   },
   {
    "duration": 0,
    "start_time": "2023-06-07T18:13:50.197Z"
   },
   {
    "duration": 0,
    "start_time": "2023-06-07T18:13:50.198Z"
   },
   {
    "duration": 0,
    "start_time": "2023-06-07T18:13:50.199Z"
   },
   {
    "duration": 0,
    "start_time": "2023-06-07T18:13:50.200Z"
   },
   {
    "duration": 0,
    "start_time": "2023-06-07T18:13:50.201Z"
   },
   {
    "duration": 0,
    "start_time": "2023-06-07T18:13:50.203Z"
   },
   {
    "duration": 0,
    "start_time": "2023-06-07T18:13:50.205Z"
   },
   {
    "duration": 859,
    "start_time": "2023-06-07T18:15:54.874Z"
   },
   {
    "duration": 4,
    "start_time": "2023-06-07T18:15:56.633Z"
   },
   {
    "duration": 5,
    "start_time": "2023-06-07T18:15:57.322Z"
   },
   {
    "duration": 50,
    "start_time": "2023-06-07T18:15:57.981Z"
   },
   {
    "duration": 4,
    "start_time": "2023-06-07T18:15:58.443Z"
   },
   {
    "duration": 740,
    "start_time": "2023-06-07T18:15:58.901Z"
   },
   {
    "duration": 39,
    "start_time": "2023-06-07T18:16:02.409Z"
   },
   {
    "duration": 31,
    "start_time": "2023-06-07T18:16:03.417Z"
   },
   {
    "duration": 4,
    "start_time": "2023-06-07T18:16:29.452Z"
   },
   {
    "duration": 27,
    "start_time": "2023-06-07T18:16:29.873Z"
   },
   {
    "duration": 6,
    "start_time": "2023-06-07T18:16:30.301Z"
   },
   {
    "duration": 31,
    "start_time": "2023-06-07T18:16:30.784Z"
   },
   {
    "duration": 5,
    "start_time": "2023-06-07T18:16:31.269Z"
   },
   {
    "duration": 38,
    "start_time": "2023-06-07T18:16:31.742Z"
   },
   {
    "duration": 5,
    "start_time": "2023-06-07T18:16:32.871Z"
   },
   {
    "duration": 1357,
    "start_time": "2023-06-07T18:16:33.467Z"
   },
   {
    "duration": 691,
    "start_time": "2023-06-07T18:16:35.510Z"
   },
   {
    "duration": 20,
    "start_time": "2023-06-07T18:16:39.858Z"
   },
   {
    "duration": 19,
    "start_time": "2023-06-07T18:17:03.289Z"
   },
   {
    "duration": 108,
    "start_time": "2023-06-07T18:17:12.070Z"
   },
   {
    "duration": 501,
    "start_time": "2023-06-07T18:17:15.824Z"
   },
   {
    "duration": 61,
    "start_time": "2023-06-07T18:17:17.761Z"
   },
   {
    "duration": 21,
    "start_time": "2023-06-07T18:19:51.550Z"
   },
   {
    "duration": 2200,
    "start_time": "2023-06-07T18:20:09.079Z"
   },
   {
    "duration": 6,
    "start_time": "2023-06-07T18:20:11.283Z"
   },
   {
    "duration": 12,
    "start_time": "2023-06-07T18:20:11.291Z"
   },
   {
    "duration": 277,
    "start_time": "2023-06-07T18:20:11.305Z"
   },
   {
    "duration": 4,
    "start_time": "2023-06-07T18:20:11.583Z"
   },
   {
    "duration": 8,
    "start_time": "2023-06-07T18:20:11.589Z"
   },
   {
    "duration": 226,
    "start_time": "2023-06-07T18:20:11.599Z"
   },
   {
    "duration": 161,
    "start_time": "2023-06-07T18:20:11.827Z"
   },
   {
    "duration": 6516,
    "start_time": "2023-06-07T18:20:11.989Z"
   },
   {
    "duration": 5216,
    "start_time": "2023-06-07T18:20:18.508Z"
   },
   {
    "duration": 307,
    "start_time": "2023-06-07T18:20:23.726Z"
   },
   {
    "duration": 3,
    "start_time": "2023-06-07T18:20:24.035Z"
   },
   {
    "duration": 20,
    "start_time": "2023-06-07T18:20:24.040Z"
   },
   {
    "duration": 10,
    "start_time": "2023-06-07T18:20:24.061Z"
   },
   {
    "duration": 185,
    "start_time": "2023-06-07T18:20:24.073Z"
   },
   {
    "duration": 159,
    "start_time": "2023-06-07T18:20:24.259Z"
   },
   {
    "duration": 217,
    "start_time": "2023-06-07T18:20:24.419Z"
   },
   {
    "duration": 251,
    "start_time": "2023-06-07T18:20:24.639Z"
   },
   {
    "duration": 20,
    "start_time": "2023-06-07T18:20:24.893Z"
   },
   {
    "duration": 3,
    "start_time": "2023-06-07T18:20:24.926Z"
   },
   {
    "duration": 55,
    "start_time": "2023-06-07T18:20:24.932Z"
   },
   {
    "duration": 20,
    "start_time": "2023-06-07T18:20:24.991Z"
   },
   {
    "duration": 111,
    "start_time": "2023-06-07T18:20:25.013Z"
   },
   {
    "duration": 4,
    "start_time": "2023-06-07T18:20:25.125Z"
   },
   {
    "duration": 705,
    "start_time": "2023-06-07T18:20:25.130Z"
   },
   {
    "duration": 4,
    "start_time": "2023-06-07T18:20:25.837Z"
   },
   {
    "duration": 71,
    "start_time": "2023-06-07T18:20:25.843Z"
   },
   {
    "duration": 10,
    "start_time": "2023-06-07T18:20:25.917Z"
   },
   {
    "duration": 677,
    "start_time": "2023-06-07T18:20:25.928Z"
   },
   {
    "duration": 42,
    "start_time": "2023-06-07T18:20:26.607Z"
   },
   {
    "duration": 26,
    "start_time": "2023-06-07T18:20:26.651Z"
   },
   {
    "duration": 6,
    "start_time": "2023-06-07T18:20:26.679Z"
   },
   {
    "duration": 49,
    "start_time": "2023-06-07T18:20:26.686Z"
   },
   {
    "duration": 16,
    "start_time": "2023-06-07T18:20:26.737Z"
   },
   {
    "duration": 63,
    "start_time": "2023-06-07T18:20:26.754Z"
   },
   {
    "duration": 7,
    "start_time": "2023-06-07T18:20:26.819Z"
   },
   {
    "duration": 37,
    "start_time": "2023-06-07T18:20:26.828Z"
   },
   {
    "duration": 14,
    "start_time": "2023-06-07T18:20:26.867Z"
   },
   {
    "duration": 1305,
    "start_time": "2023-06-07T18:20:26.883Z"
   },
   {
    "duration": 630,
    "start_time": "2023-06-07T18:20:28.190Z"
   },
   {
    "duration": 57,
    "start_time": "2023-06-07T18:20:28.824Z"
   },
   {
    "duration": 46,
    "start_time": "2023-06-07T18:20:28.883Z"
   },
   {
    "duration": 1438,
    "start_time": "2023-06-07T18:21:13.200Z"
   },
   {
    "duration": 10,
    "start_time": "2023-06-07T18:21:30.459Z"
   },
   {
    "duration": 2768,
    "start_time": "2023-06-07T18:22:10.305Z"
   },
   {
    "duration": 6,
    "start_time": "2023-06-07T18:22:13.077Z"
   },
   {
    "duration": 24,
    "start_time": "2023-06-07T18:22:13.085Z"
   },
   {
    "duration": 298,
    "start_time": "2023-06-07T18:22:13.111Z"
   },
   {
    "duration": 4,
    "start_time": "2023-06-07T18:22:13.411Z"
   },
   {
    "duration": 12,
    "start_time": "2023-06-07T18:22:13.416Z"
   },
   {
    "duration": 186,
    "start_time": "2023-06-07T18:22:13.429Z"
   },
   {
    "duration": 184,
    "start_time": "2023-06-07T18:22:13.625Z"
   },
   {
    "duration": 6453,
    "start_time": "2023-06-07T18:22:13.811Z"
   },
   {
    "duration": 5336,
    "start_time": "2023-06-07T18:22:20.266Z"
   },
   {
    "duration": 305,
    "start_time": "2023-06-07T18:22:25.604Z"
   },
   {
    "duration": 4,
    "start_time": "2023-06-07T18:22:25.911Z"
   },
   {
    "duration": 37,
    "start_time": "2023-06-07T18:22:25.916Z"
   },
   {
    "duration": 27,
    "start_time": "2023-06-07T18:22:25.955Z"
   },
   {
    "duration": 205,
    "start_time": "2023-06-07T18:22:25.984Z"
   },
   {
    "duration": 170,
    "start_time": "2023-06-07T18:22:26.191Z"
   },
   {
    "duration": 221,
    "start_time": "2023-06-07T18:22:26.363Z"
   },
   {
    "duration": 243,
    "start_time": "2023-06-07T18:22:26.586Z"
   },
   {
    "duration": 20,
    "start_time": "2023-06-07T18:22:26.831Z"
   },
   {
    "duration": 4,
    "start_time": "2023-06-07T18:22:26.852Z"
   },
   {
    "duration": 42,
    "start_time": "2023-06-07T18:22:26.857Z"
   },
   {
    "duration": 25,
    "start_time": "2023-06-07T18:22:26.900Z"
   },
   {
    "duration": 68,
    "start_time": "2023-06-07T18:22:26.927Z"
   },
   {
    "duration": 4,
    "start_time": "2023-06-07T18:22:26.997Z"
   },
   {
    "duration": 767,
    "start_time": "2023-06-07T18:22:27.003Z"
   },
   {
    "duration": 4,
    "start_time": "2023-06-07T18:22:27.772Z"
   },
   {
    "duration": 63,
    "start_time": "2023-06-07T18:22:27.778Z"
   },
   {
    "duration": 5,
    "start_time": "2023-06-07T18:22:27.844Z"
   },
   {
    "duration": 688,
    "start_time": "2023-06-07T18:22:27.850Z"
   },
   {
    "duration": 34,
    "start_time": "2023-06-07T18:22:28.539Z"
   },
   {
    "duration": 23,
    "start_time": "2023-06-07T18:22:28.575Z"
   },
   {
    "duration": 25,
    "start_time": "2023-06-07T18:22:28.600Z"
   },
   {
    "duration": 28,
    "start_time": "2023-06-07T18:22:28.627Z"
   },
   {
    "duration": 4,
    "start_time": "2023-06-07T18:22:28.656Z"
   },
   {
    "duration": 46,
    "start_time": "2023-06-07T18:22:28.662Z"
   },
   {
    "duration": 18,
    "start_time": "2023-06-07T18:22:28.709Z"
   },
   {
    "duration": 36,
    "start_time": "2023-06-07T18:22:28.729Z"
   },
   {
    "duration": 5,
    "start_time": "2023-06-07T18:22:28.766Z"
   },
   {
    "duration": 1352,
    "start_time": "2023-06-07T18:22:28.773Z"
   },
   {
    "duration": 649,
    "start_time": "2023-06-07T18:22:30.126Z"
   },
   {
    "duration": 76,
    "start_time": "2023-06-07T18:22:30.777Z"
   },
   {
    "duration": 548,
    "start_time": "2023-06-07T18:22:30.854Z"
   },
   {
    "duration": 95,
    "start_time": "2023-06-07T18:22:31.404Z"
   },
   {
    "duration": 22,
    "start_time": "2023-06-07T18:24:15.943Z"
   },
   {
    "duration": 2150,
    "start_time": "2023-06-07T18:24:20.276Z"
   },
   {
    "duration": 5,
    "start_time": "2023-06-07T18:24:22.429Z"
   },
   {
    "duration": 13,
    "start_time": "2023-06-07T18:24:22.436Z"
   },
   {
    "duration": 283,
    "start_time": "2023-06-07T18:24:22.451Z"
   },
   {
    "duration": 6,
    "start_time": "2023-06-07T18:24:22.737Z"
   },
   {
    "duration": 12,
    "start_time": "2023-06-07T18:24:22.744Z"
   },
   {
    "duration": 194,
    "start_time": "2023-06-07T18:24:22.757Z"
   },
   {
    "duration": 149,
    "start_time": "2023-06-07T18:24:22.953Z"
   },
   {
    "duration": 7043,
    "start_time": "2023-06-07T18:24:23.104Z"
   },
   {
    "duration": 5681,
    "start_time": "2023-06-07T18:24:30.149Z"
   },
   {
    "duration": 343,
    "start_time": "2023-06-07T18:24:35.833Z"
   },
   {
    "duration": 3,
    "start_time": "2023-06-07T18:24:36.178Z"
   },
   {
    "duration": 42,
    "start_time": "2023-06-07T18:24:36.183Z"
   },
   {
    "duration": 20,
    "start_time": "2023-06-07T18:24:36.231Z"
   },
   {
    "duration": 205,
    "start_time": "2023-06-07T18:24:36.254Z"
   },
   {
    "duration": 166,
    "start_time": "2023-06-07T18:24:36.461Z"
   },
   {
    "duration": 220,
    "start_time": "2023-06-07T18:24:36.628Z"
   },
   {
    "duration": 288,
    "start_time": "2023-06-07T18:24:36.849Z"
   },
   {
    "duration": 19,
    "start_time": "2023-06-07T18:24:37.139Z"
   },
   {
    "duration": 6,
    "start_time": "2023-06-07T18:24:37.160Z"
   },
   {
    "duration": 68,
    "start_time": "2023-06-07T18:24:37.168Z"
   },
   {
    "duration": 12,
    "start_time": "2023-06-07T18:24:37.238Z"
   },
   {
    "duration": 79,
    "start_time": "2023-06-07T18:24:37.252Z"
   },
   {
    "duration": 4,
    "start_time": "2023-06-07T18:24:37.333Z"
   },
   {
    "duration": 775,
    "start_time": "2023-06-07T18:24:37.338Z"
   },
   {
    "duration": 12,
    "start_time": "2023-06-07T18:24:38.115Z"
   },
   {
    "duration": 75,
    "start_time": "2023-06-07T18:24:38.129Z"
   },
   {
    "duration": 16,
    "start_time": "2023-06-07T18:24:38.206Z"
   },
   {
    "duration": 752,
    "start_time": "2023-06-07T18:24:38.224Z"
   },
   {
    "duration": 57,
    "start_time": "2023-06-07T18:24:38.978Z"
   },
   {
    "duration": 44,
    "start_time": "2023-06-07T18:24:39.036Z"
   },
   {
    "duration": 7,
    "start_time": "2023-06-07T18:24:39.082Z"
   },
   {
    "duration": 46,
    "start_time": "2023-06-07T18:24:39.091Z"
   },
   {
    "duration": 4,
    "start_time": "2023-06-07T18:24:39.139Z"
   },
   {
    "duration": 54,
    "start_time": "2023-06-07T18:24:39.145Z"
   },
   {
    "duration": 22,
    "start_time": "2023-06-07T18:24:39.200Z"
   },
   {
    "duration": 45,
    "start_time": "2023-06-07T18:24:39.224Z"
   },
   {
    "duration": 18,
    "start_time": "2023-06-07T18:24:39.270Z"
   },
   {
    "duration": 1398,
    "start_time": "2023-06-07T18:24:39.290Z"
   },
   {
    "duration": 777,
    "start_time": "2023-06-07T18:24:40.690Z"
   },
   {
    "duration": 57,
    "start_time": "2023-06-07T18:24:41.472Z"
   },
   {
    "duration": 2172,
    "start_time": "2023-06-07T18:26:22.128Z"
   },
   {
    "duration": 5,
    "start_time": "2023-06-07T18:26:24.303Z"
   },
   {
    "duration": 12,
    "start_time": "2023-06-07T18:26:24.310Z"
   },
   {
    "duration": 292,
    "start_time": "2023-06-07T18:26:24.324Z"
   },
   {
    "duration": 6,
    "start_time": "2023-06-07T18:26:24.618Z"
   },
   {
    "duration": 21,
    "start_time": "2023-06-07T18:26:24.626Z"
   },
   {
    "duration": 202,
    "start_time": "2023-06-07T18:26:24.649Z"
   },
   {
    "duration": 184,
    "start_time": "2023-06-07T18:26:24.854Z"
   },
   {
    "duration": 6623,
    "start_time": "2023-06-07T18:26:25.041Z"
   },
   {
    "duration": 5471,
    "start_time": "2023-06-07T18:26:31.667Z"
   },
   {
    "duration": 321,
    "start_time": "2023-06-07T18:26:37.140Z"
   },
   {
    "duration": 4,
    "start_time": "2023-06-07T18:26:37.464Z"
   },
   {
    "duration": 32,
    "start_time": "2023-06-07T18:26:37.470Z"
   },
   {
    "duration": 24,
    "start_time": "2023-06-07T18:26:37.503Z"
   },
   {
    "duration": 170,
    "start_time": "2023-06-07T18:26:37.529Z"
   },
   {
    "duration": 162,
    "start_time": "2023-06-07T18:26:37.700Z"
   },
   {
    "duration": 226,
    "start_time": "2023-06-07T18:26:37.863Z"
   },
   {
    "duration": 211,
    "start_time": "2023-06-07T18:26:38.090Z"
   },
   {
    "duration": 27,
    "start_time": "2023-06-07T18:26:38.303Z"
   },
   {
    "duration": 3,
    "start_time": "2023-06-07T18:26:38.332Z"
   },
   {
    "duration": 53,
    "start_time": "2023-06-07T18:26:38.338Z"
   },
   {
    "duration": 4,
    "start_time": "2023-06-07T18:26:38.393Z"
   },
   {
    "duration": 91,
    "start_time": "2023-06-07T18:26:38.399Z"
   },
   {
    "duration": 4,
    "start_time": "2023-06-07T18:26:38.493Z"
   },
   {
    "duration": 755,
    "start_time": "2023-06-07T18:26:38.500Z"
   },
   {
    "duration": 5,
    "start_time": "2023-06-07T18:26:39.257Z"
   },
   {
    "duration": 100,
    "start_time": "2023-06-07T18:26:39.265Z"
   },
   {
    "duration": 3,
    "start_time": "2023-06-07T18:26:39.370Z"
   },
   {
    "duration": 1018,
    "start_time": "2023-06-07T18:26:39.375Z"
   },
   {
    "duration": 63,
    "start_time": "2023-06-07T18:26:40.394Z"
   },
   {
    "duration": 30,
    "start_time": "2023-06-07T18:26:40.459Z"
   },
   {
    "duration": 9,
    "start_time": "2023-06-07T18:26:40.491Z"
   },
   {
    "duration": 49,
    "start_time": "2023-06-07T18:26:40.502Z"
   },
   {
    "duration": 31,
    "start_time": "2023-06-07T18:26:40.553Z"
   },
   {
    "duration": 63,
    "start_time": "2023-06-07T18:26:40.586Z"
   },
   {
    "duration": 6,
    "start_time": "2023-06-07T18:26:40.651Z"
   },
   {
    "duration": 79,
    "start_time": "2023-06-07T18:26:40.659Z"
   },
   {
    "duration": 24,
    "start_time": "2023-06-07T18:26:40.741Z"
   },
   {
    "duration": 1397,
    "start_time": "2023-06-07T18:26:40.766Z"
   },
   {
    "duration": 639,
    "start_time": "2023-06-07T18:26:42.165Z"
   },
   {
    "duration": 73,
    "start_time": "2023-06-07T18:26:42.805Z"
   },
   {
    "duration": 440,
    "start_time": "2023-06-07T18:26:42.880Z"
   },
   {
    "duration": 34,
    "start_time": "2023-06-07T18:26:43.325Z"
   },
   {
    "duration": 3,
    "start_time": "2023-06-07T18:26:43.361Z"
   },
   {
    "duration": 118,
    "start_time": "2023-06-07T18:26:43.366Z"
   },
   {
    "duration": 4,
    "start_time": "2023-06-07T18:26:43.486Z"
   },
   {
    "duration": 17,
    "start_time": "2023-06-07T18:26:43.492Z"
   },
   {
    "duration": 28,
    "start_time": "2023-06-07T18:26:43.511Z"
   },
   {
    "duration": 15,
    "start_time": "2023-06-07T18:26:43.541Z"
   },
   {
    "duration": 123,
    "start_time": "2023-06-07T18:26:43.558Z"
   },
   {
    "duration": 58,
    "start_time": "2023-06-07T18:26:43.683Z"
   },
   {
    "duration": 0,
    "start_time": "2023-06-07T18:26:43.743Z"
   },
   {
    "duration": 10365,
    "start_time": "2023-06-07T18:29:22.492Z"
   },
   {
    "duration": 54,
    "start_time": "2023-06-07T18:29:38.474Z"
   },
   {
    "duration": 550,
    "start_time": "2023-06-07T18:33:32.890Z"
   },
   {
    "duration": 18288,
    "start_time": "2023-06-07T18:33:42.300Z"
   },
   {
    "duration": 16060,
    "start_time": "2023-06-07T18:34:48.496Z"
   },
   {
    "duration": 10,
    "start_time": "2023-06-07T18:36:41.301Z"
   },
   {
    "duration": 4,
    "start_time": "2023-06-07T18:37:41.549Z"
   },
   {
    "duration": 10,
    "start_time": "2023-06-07T18:37:44.235Z"
   },
   {
    "duration": 4,
    "start_time": "2023-06-07T18:38:03.824Z"
   },
   {
    "duration": 621,
    "start_time": "2023-06-07T18:41:16.282Z"
   },
   {
    "duration": 4,
    "start_time": "2023-06-07T18:41:38.796Z"
   },
   {
    "duration": 5421,
    "start_time": "2023-06-07T18:41:53.400Z"
   },
   {
    "duration": 9,
    "start_time": "2023-06-07T18:41:58.823Z"
   },
   {
    "duration": 38,
    "start_time": "2023-06-07T18:41:58.837Z"
   },
   {
    "duration": 5285,
    "start_time": "2023-06-07T18:42:40.362Z"
   },
   {
    "duration": 4,
    "start_time": "2023-06-07T18:42:45.649Z"
   },
   {
    "duration": 28,
    "start_time": "2023-06-07T18:42:45.654Z"
   },
   {
    "duration": 33,
    "start_time": "2023-06-07T18:49:33.084Z"
   },
   {
    "duration": 38042,
    "start_time": "2023-06-07T18:50:15.918Z"
   },
   {
    "duration": 59,
    "start_time": "2023-06-07T19:06:03.426Z"
   },
   {
    "duration": 2996,
    "start_time": "2023-06-07T19:08:03.709Z"
   },
   {
    "duration": 33,
    "start_time": "2023-06-07T19:08:09.990Z"
   },
   {
    "duration": 16,
    "start_time": "2023-06-07T19:08:40.914Z"
   },
   {
    "duration": 7696,
    "start_time": "2023-06-07T19:11:03.085Z"
   },
   {
    "duration": 2264,
    "start_time": "2023-06-07T19:11:23.047Z"
   },
   {
    "duration": 5368,
    "start_time": "2023-06-07T19:11:54.183Z"
   },
   {
    "duration": 2150,
    "start_time": "2023-06-07T19:12:04.796Z"
   },
   {
    "duration": 23,
    "start_time": "2023-06-07T19:12:16.220Z"
   },
   {
    "duration": 4,
    "start_time": "2023-06-07T19:12:20.866Z"
   },
   {
    "duration": 5,
    "start_time": "2023-06-07T19:15:37.431Z"
   },
   {
    "duration": 11,
    "start_time": "2023-06-07T19:18:14.524Z"
   },
   {
    "duration": 19,
    "start_time": "2023-06-07T19:19:18.950Z"
   },
   {
    "duration": 12,
    "start_time": "2023-06-07T19:19:41.999Z"
   },
   {
    "duration": 16,
    "start_time": "2023-06-07T19:19:50.519Z"
   },
   {
    "duration": 18,
    "start_time": "2023-06-07T19:27:38.113Z"
   },
   {
    "duration": 5,
    "start_time": "2023-06-07T19:30:38.700Z"
   },
   {
    "duration": 8,
    "start_time": "2023-06-07T19:30:55.240Z"
   },
   {
    "duration": 17,
    "start_time": "2023-06-07T19:31:41.701Z"
   },
   {
    "duration": 35,
    "start_time": "2023-06-07T19:36:24.610Z"
   },
   {
    "duration": 5378,
    "start_time": "2023-06-07T19:43:39.942Z"
   },
   {
    "duration": 1573,
    "start_time": "2023-06-07T19:43:58.689Z"
   },
   {
    "duration": 22,
    "start_time": "2023-06-07T19:45:16.601Z"
   },
   {
    "duration": 2209,
    "start_time": "2023-06-07T19:46:36.802Z"
   },
   {
    "duration": 2819,
    "start_time": "2023-06-07T19:46:40.103Z"
   },
   {
    "duration": 23,
    "start_time": "2023-06-07T19:46:45.729Z"
   },
   {
    "duration": 2093,
    "start_time": "2023-06-07T19:49:44.540Z"
   },
   {
    "duration": 21,
    "start_time": "2023-06-07T19:49:49.567Z"
   },
   {
    "duration": 77,
    "start_time": "2023-06-07T19:49:58.397Z"
   },
   {
    "duration": 16,
    "start_time": "2023-06-07T19:51:22.723Z"
   },
   {
    "duration": 9555,
    "start_time": "2023-06-07T19:52:22.780Z"
   },
   {
    "duration": 2127,
    "start_time": "2023-06-07T19:52:41.391Z"
   },
   {
    "duration": 23,
    "start_time": "2023-06-07T19:52:43.521Z"
   },
   {
    "duration": 5127,
    "start_time": "2023-06-07T19:52:50.772Z"
   },
   {
    "duration": 2091,
    "start_time": "2023-06-07T19:53:17.440Z"
   },
   {
    "duration": 23,
    "start_time": "2023-06-07T19:53:50.813Z"
   },
   {
    "duration": 17,
    "start_time": "2023-06-07T19:58:57.102Z"
   },
   {
    "duration": 2185,
    "start_time": "2023-06-07T20:01:00.051Z"
   },
   {
    "duration": 2099,
    "start_time": "2023-06-07T20:01:02.238Z"
   },
   {
    "duration": 20,
    "start_time": "2023-06-07T20:01:04.687Z"
   },
   {
    "duration": 2167,
    "start_time": "2023-06-07T20:20:43.917Z"
   },
   {
    "duration": 2175,
    "start_time": "2023-06-07T20:20:46.086Z"
   },
   {
    "duration": 23,
    "start_time": "2023-06-07T20:20:48.264Z"
   },
   {
    "duration": 2086,
    "start_time": "2023-06-07T20:38:53.912Z"
   },
   {
    "duration": 2197,
    "start_time": "2023-06-07T20:38:57.347Z"
   },
   {
    "duration": 1026,
    "start_time": "2023-06-07T20:38:59.547Z"
   },
   {
    "duration": 2,
    "start_time": "2023-06-07T20:39:53.596Z"
   },
   {
    "duration": 12,
    "start_time": "2023-06-07T20:39:53.600Z"
   },
   {
    "duration": 18,
    "start_time": "2023-06-07T20:39:53.614Z"
   },
   {
    "duration": 21,
    "start_time": "2023-06-07T20:39:53.634Z"
   },
   {
    "duration": 276,
    "start_time": "2023-06-07T20:39:53.657Z"
   },
   {
    "duration": 4,
    "start_time": "2023-06-07T20:39:53.935Z"
   },
   {
    "duration": 16,
    "start_time": "2023-06-07T20:39:53.940Z"
   },
   {
    "duration": 173,
    "start_time": "2023-06-07T20:39:53.958Z"
   },
   {
    "duration": 128,
    "start_time": "2023-06-07T20:39:54.133Z"
   },
   {
    "duration": 6195,
    "start_time": "2023-06-07T20:39:54.263Z"
   },
   {
    "duration": 4732,
    "start_time": "2023-06-07T20:40:00.460Z"
   },
   {
    "duration": 415,
    "start_time": "2023-06-07T20:40:05.194Z"
   },
   {
    "duration": 3,
    "start_time": "2023-06-07T20:40:05.611Z"
   },
   {
    "duration": 17,
    "start_time": "2023-06-07T20:40:05.624Z"
   },
   {
    "duration": 11,
    "start_time": "2023-06-07T20:40:05.642Z"
   },
   {
    "duration": 170,
    "start_time": "2023-06-07T20:40:05.655Z"
   },
   {
    "duration": 147,
    "start_time": "2023-06-07T20:40:05.826Z"
   },
   {
    "duration": 198,
    "start_time": "2023-06-07T20:40:05.974Z"
   },
   {
    "duration": 201,
    "start_time": "2023-06-07T20:40:06.173Z"
   },
   {
    "duration": 22,
    "start_time": "2023-06-07T20:40:06.376Z"
   },
   {
    "duration": 3,
    "start_time": "2023-06-07T20:40:06.400Z"
   },
   {
    "duration": 49,
    "start_time": "2023-06-07T20:40:06.404Z"
   },
   {
    "duration": 3,
    "start_time": "2023-06-07T20:40:06.455Z"
   },
   {
    "duration": 57,
    "start_time": "2023-06-07T20:40:06.459Z"
   },
   {
    "duration": 6,
    "start_time": "2023-06-07T20:40:06.518Z"
   },
   {
    "duration": 698,
    "start_time": "2023-06-07T20:40:06.526Z"
   },
   {
    "duration": 4,
    "start_time": "2023-06-07T20:40:07.226Z"
   },
   {
    "duration": 56,
    "start_time": "2023-06-07T20:40:07.231Z"
   },
   {
    "duration": 3,
    "start_time": "2023-06-07T20:40:07.288Z"
   },
   {
    "duration": 676,
    "start_time": "2023-06-07T20:40:07.293Z"
   },
   {
    "duration": 33,
    "start_time": "2023-06-07T20:40:07.971Z"
   },
   {
    "duration": 36,
    "start_time": "2023-06-07T20:40:08.005Z"
   },
   {
    "duration": 3,
    "start_time": "2023-06-07T20:40:08.042Z"
   },
   {
    "duration": 34,
    "start_time": "2023-06-07T20:40:08.047Z"
   },
   {
    "duration": 4,
    "start_time": "2023-06-07T20:40:08.082Z"
   },
   {
    "duration": 40,
    "start_time": "2023-06-07T20:40:08.087Z"
   },
   {
    "duration": 3,
    "start_time": "2023-06-07T20:40:08.129Z"
   },
   {
    "duration": 36,
    "start_time": "2023-06-07T20:40:08.133Z"
   },
   {
    "duration": 5,
    "start_time": "2023-06-07T20:40:08.170Z"
   },
   {
    "duration": 1239,
    "start_time": "2023-06-07T20:40:08.176Z"
   },
   {
    "duration": 622,
    "start_time": "2023-06-07T20:40:09.419Z"
   },
   {
    "duration": 57,
    "start_time": "2023-06-07T20:40:10.042Z"
   },
   {
    "duration": 2,
    "start_time": "2023-06-07T20:40:10.101Z"
   },
   {
    "duration": 482,
    "start_time": "2023-06-07T20:40:10.105Z"
   },
   {
    "duration": 53,
    "start_time": "2023-06-07T20:40:10.589Z"
   },
   {
    "duration": 105,
    "start_time": "2023-06-07T20:40:10.643Z"
   },
   {
    "duration": 6,
    "start_time": "2023-06-07T20:40:10.750Z"
   },
   {
    "duration": 11,
    "start_time": "2023-06-07T20:40:10.758Z"
   },
   {
    "duration": 14,
    "start_time": "2023-06-07T20:40:10.771Z"
   },
   {
    "duration": 18,
    "start_time": "2023-06-07T20:40:10.787Z"
   },
   {
    "duration": 109,
    "start_time": "2023-06-07T20:40:10.807Z"
   },
   {
    "duration": 9962,
    "start_time": "2023-06-07T20:40:10.917Z"
   },
   {
    "duration": 119,
    "start_time": "2023-06-07T20:40:20.881Z"
   },
   {
    "duration": 5,
    "start_time": "2023-06-07T20:40:40.203Z"
   },
   {
    "duration": 3,
    "start_time": "2023-06-07T20:41:21.302Z"
   },
   {
    "duration": 82,
    "start_time": "2023-06-07T20:43:57.118Z"
   },
   {
    "duration": 111,
    "start_time": "2023-06-07T20:44:06.829Z"
   },
   {
    "duration": 3,
    "start_time": "2023-06-07T20:44:32.730Z"
   },
   {
    "duration": 116,
    "start_time": "2023-06-07T20:44:33.888Z"
   },
   {
    "duration": 5,
    "start_time": "2023-06-07T20:54:10.174Z"
   },
   {
    "duration": 3,
    "start_time": "2023-06-07T20:56:46.007Z"
   },
   {
    "duration": 10,
    "start_time": "2023-06-07T20:56:46.604Z"
   },
   {
    "duration": 3,
    "start_time": "2023-06-07T20:57:19.151Z"
   },
   {
    "duration": 10,
    "start_time": "2023-06-07T20:57:19.604Z"
   },
   {
    "duration": 28,
    "start_time": "2023-06-07T20:57:26.856Z"
   },
   {
    "duration": 3,
    "start_time": "2023-06-07T21:00:48.994Z"
   },
   {
    "duration": 10,
    "start_time": "2023-06-07T21:00:49.447Z"
   },
   {
    "duration": 2,
    "start_time": "2023-06-07T21:00:56.536Z"
   },
   {
    "duration": 73366,
    "start_time": "2023-06-07T21:00:56.989Z"
   },
   {
    "duration": 5,
    "start_time": "2023-06-07T21:04:03.994Z"
   },
   {
    "duration": 33,
    "start_time": "2023-06-07T21:04:25.849Z"
   },
   {
    "duration": 172,
    "start_time": "2023-06-07T21:05:06.152Z"
   },
   {
    "duration": 4,
    "start_time": "2023-06-07T21:05:17.557Z"
   },
   {
    "duration": 31,
    "start_time": "2023-06-07T21:05:31.355Z"
   },
   {
    "duration": 4,
    "start_time": "2023-06-07T21:05:52.401Z"
   },
   {
    "duration": 108881,
    "start_time": "2023-06-07T21:05:53.455Z"
   },
   {
    "duration": 11,
    "start_time": "2023-06-07T21:08:16.891Z"
   },
   {
    "duration": 17361,
    "start_time": "2023-06-07T21:08:22.176Z"
   },
   {
    "duration": 235082,
    "start_time": "2023-06-07T21:11:23.143Z"
   },
   {
    "duration": 200,
    "start_time": "2023-06-07T21:21:13.404Z"
   },
   {
    "duration": 157850,
    "start_time": "2023-06-07T21:22:10.586Z"
   },
   {
    "duration": 4,
    "start_time": "2023-06-07T21:25:10.285Z"
   },
   {
    "duration": 5,
    "start_time": "2023-06-07T21:25:25.151Z"
   },
   {
    "duration": 48062,
    "start_time": "2023-06-07T21:27:50.247Z"
   },
   {
    "duration": 17,
    "start_time": "2023-06-07T21:28:38.310Z"
   },
   {
    "duration": 0,
    "start_time": "2023-06-07T21:28:38.329Z"
   },
   {
    "duration": 3,
    "start_time": "2023-06-07T21:28:51.700Z"
   },
   {
    "duration": 4,
    "start_time": "2023-06-07T21:28:52.611Z"
   },
   {
    "duration": 4525,
    "start_time": "2023-06-07T21:31:56.174Z"
   },
   {
    "duration": 8,
    "start_time": "2023-06-07T21:33:14.650Z"
   },
   {
    "duration": 156371,
    "start_time": "2023-06-07T21:33:21.411Z"
   },
   {
    "duration": 4,
    "start_time": "2023-06-07T21:35:57.783Z"
   },
   {
    "duration": 13,
    "start_time": "2023-06-07T21:35:57.788Z"
   },
   {
    "duration": 22,
    "start_time": "2023-06-07T21:36:09.490Z"
   },
   {
    "duration": 928,
    "start_time": "2023-06-07T21:36:46.412Z"
   },
   {
    "duration": 1428,
    "start_time": "2023-06-07T21:37:45.827Z"
   },
   {
    "duration": 5,
    "start_time": "2023-06-07T21:38:11.602Z"
   },
   {
    "duration": 651,
    "start_time": "2023-06-07T21:38:12.285Z"
   },
   {
    "duration": 708,
    "start_time": "2023-06-07T21:38:32.053Z"
   },
   {
    "duration": 6,
    "start_time": "2023-06-07T21:38:47.051Z"
   },
   {
    "duration": 632,
    "start_time": "2023-06-07T21:38:47.579Z"
   },
   {
    "duration": 7,
    "start_time": "2023-06-07T21:39:06.310Z"
   },
   {
    "duration": 947,
    "start_time": "2023-06-07T21:39:09.481Z"
   },
   {
    "duration": 3,
    "start_time": "2023-06-07T21:39:10.430Z"
   },
   {
    "duration": 2,
    "start_time": "2023-06-07T21:39:43.056Z"
   },
   {
    "duration": 29,
    "start_time": "2023-06-07T21:39:43.061Z"
   },
   {
    "duration": 32,
    "start_time": "2023-06-07T21:39:43.092Z"
   },
   {
    "duration": 36,
    "start_time": "2023-06-07T21:39:43.126Z"
   },
   {
    "duration": 261,
    "start_time": "2023-06-07T21:39:43.164Z"
   },
   {
    "duration": 3,
    "start_time": "2023-06-07T21:39:43.427Z"
   },
   {
    "duration": 23,
    "start_time": "2023-06-07T21:39:43.432Z"
   },
   {
    "duration": 179,
    "start_time": "2023-06-07T21:39:43.457Z"
   },
   {
    "duration": 141,
    "start_time": "2023-06-07T21:39:43.638Z"
   },
   {
    "duration": 9924,
    "start_time": "2023-06-07T21:39:43.781Z"
   },
   {
    "duration": 6291,
    "start_time": "2023-06-07T21:39:53.707Z"
   },
   {
    "duration": 291,
    "start_time": "2023-06-07T21:40:00.000Z"
   },
   {
    "duration": 3,
    "start_time": "2023-06-07T21:40:00.294Z"
   },
   {
    "duration": 28,
    "start_time": "2023-06-07T21:40:00.299Z"
   },
   {
    "duration": 44,
    "start_time": "2023-06-07T21:40:00.329Z"
   },
   {
    "duration": 169,
    "start_time": "2023-06-07T21:40:00.374Z"
   },
   {
    "duration": 174,
    "start_time": "2023-06-07T21:40:00.545Z"
   },
   {
    "duration": 204,
    "start_time": "2023-06-07T21:40:00.724Z"
   },
   {
    "duration": 388,
    "start_time": "2023-06-07T21:40:00.930Z"
   },
   {
    "duration": 16,
    "start_time": "2023-06-07T21:40:01.324Z"
   },
   {
    "duration": 27,
    "start_time": "2023-06-07T21:40:01.342Z"
   },
   {
    "duration": 58,
    "start_time": "2023-06-07T21:40:01.371Z"
   },
   {
    "duration": 3,
    "start_time": "2023-06-07T21:40:01.431Z"
   },
   {
    "duration": 85,
    "start_time": "2023-06-07T21:40:01.436Z"
   },
   {
    "duration": 3,
    "start_time": "2023-06-07T21:40:01.523Z"
   },
   {
    "duration": 703,
    "start_time": "2023-06-07T21:40:01.528Z"
   },
   {
    "duration": 4,
    "start_time": "2023-06-07T21:40:02.233Z"
   },
   {
    "duration": 57,
    "start_time": "2023-06-07T21:40:02.239Z"
   },
   {
    "duration": 8,
    "start_time": "2023-06-07T21:40:02.297Z"
   },
   {
    "duration": 690,
    "start_time": "2023-06-07T21:40:02.306Z"
   },
   {
    "duration": 42,
    "start_time": "2023-06-07T21:40:02.998Z"
   },
   {
    "duration": 24,
    "start_time": "2023-06-07T21:40:03.042Z"
   },
   {
    "duration": 3,
    "start_time": "2023-06-07T21:40:03.067Z"
   },
   {
    "duration": 55,
    "start_time": "2023-06-07T21:40:03.071Z"
   },
   {
    "duration": 32,
    "start_time": "2023-06-07T21:40:03.128Z"
   },
   {
    "duration": 42,
    "start_time": "2023-06-07T21:40:03.161Z"
   },
   {
    "duration": 4,
    "start_time": "2023-06-07T21:40:03.207Z"
   },
   {
    "duration": 79,
    "start_time": "2023-06-07T21:40:03.212Z"
   },
   {
    "duration": 4,
    "start_time": "2023-06-07T21:40:03.292Z"
   },
   {
    "duration": 1200,
    "start_time": "2023-06-07T21:40:03.298Z"
   },
   {
    "duration": 648,
    "start_time": "2023-06-07T21:40:04.500Z"
   },
   {
    "duration": 61,
    "start_time": "2023-06-07T21:40:05.150Z"
   },
   {
    "duration": 11,
    "start_time": "2023-06-07T21:40:05.213Z"
   },
   {
    "duration": 381,
    "start_time": "2023-06-07T21:40:05.226Z"
   },
   {
    "duration": 32,
    "start_time": "2023-06-07T21:40:05.609Z"
   },
   {
    "duration": 95,
    "start_time": "2023-06-07T21:40:05.643Z"
   },
   {
    "duration": 4,
    "start_time": "2023-06-07T21:40:05.739Z"
   },
   {
    "duration": 50,
    "start_time": "2023-06-07T21:40:05.745Z"
   },
   {
    "duration": 26,
    "start_time": "2023-06-07T21:40:05.796Z"
   },
   {
    "duration": 16,
    "start_time": "2023-06-07T21:40:05.824Z"
   },
   {
    "duration": 110,
    "start_time": "2023-06-07T21:40:05.841Z"
   },
   {
    "duration": 9162,
    "start_time": "2023-06-07T21:40:05.953Z"
   },
   {
    "duration": 44853,
    "start_time": "2023-06-07T21:40:15.116Z"
   },
   {
    "duration": 4,
    "start_time": "2023-06-07T21:40:59.971Z"
   },
   {
    "duration": 8,
    "start_time": "2023-06-07T21:40:59.976Z"
   },
   {
    "duration": 152946,
    "start_time": "2023-06-07T21:40:59.986Z"
   },
   {
    "duration": 3,
    "start_time": "2023-06-07T21:43:32.934Z"
   },
   {
    "duration": 18,
    "start_time": "2023-06-07T21:43:32.939Z"
   },
   {
    "duration": 4200,
    "start_time": "2023-06-07T21:43:32.959Z"
   },
   {
    "duration": 1334,
    "start_time": "2023-06-07T21:43:37.161Z"
   },
   {
    "duration": 6,
    "start_time": "2023-06-07T21:43:38.496Z"
   },
   {
    "duration": 630,
    "start_time": "2023-06-07T21:43:38.503Z"
   },
   {
    "duration": 5,
    "start_time": "2023-06-07T21:43:39.135Z"
   },
   {
    "duration": 969,
    "start_time": "2023-06-07T21:43:39.142Z"
   },
   {
    "duration": 4,
    "start_time": "2023-06-07T21:43:40.112Z"
   },
   {
    "duration": 3833,
    "start_time": "2023-06-07T21:45:15.915Z"
   },
   {
    "duration": 6,
    "start_time": "2023-06-07T21:45:26.040Z"
   },
   {
    "duration": 625,
    "start_time": "2023-06-07T21:45:32.211Z"
   },
   {
    "duration": 6,
    "start_time": "2023-06-07T21:45:38.254Z"
   },
   {
    "duration": 1066,
    "start_time": "2023-06-07T21:45:40.966Z"
   },
   {
    "duration": 4,
    "start_time": "2023-06-07T21:45:42.034Z"
   },
   {
    "duration": 2,
    "start_time": "2023-06-07T21:48:20.410Z"
   },
   {
    "duration": 9,
    "start_time": "2023-06-07T21:48:20.414Z"
   },
   {
    "duration": 9,
    "start_time": "2023-06-07T21:48:20.425Z"
   },
   {
    "duration": 15,
    "start_time": "2023-06-07T21:48:20.436Z"
   },
   {
    "duration": 219,
    "start_time": "2023-06-07T21:48:20.453Z"
   },
   {
    "duration": 4,
    "start_time": "2023-06-07T21:48:20.674Z"
   },
   {
    "duration": 6,
    "start_time": "2023-06-07T21:48:20.679Z"
   },
   {
    "duration": 158,
    "start_time": "2023-06-07T21:48:20.687Z"
   },
   {
    "duration": 128,
    "start_time": "2023-06-07T21:48:20.846Z"
   },
   {
    "duration": 9291,
    "start_time": "2023-06-07T21:48:20.975Z"
   },
   {
    "duration": 6466,
    "start_time": "2023-06-07T21:48:30.269Z"
   },
   {
    "duration": 306,
    "start_time": "2023-06-07T21:48:36.736Z"
   },
   {
    "duration": 3,
    "start_time": "2023-06-07T21:48:37.044Z"
   },
   {
    "duration": 29,
    "start_time": "2023-06-07T21:48:37.048Z"
   },
   {
    "duration": 20,
    "start_time": "2023-06-07T21:48:37.079Z"
   },
   {
    "duration": 182,
    "start_time": "2023-06-07T21:48:37.100Z"
   },
   {
    "duration": 181,
    "start_time": "2023-06-07T21:48:37.284Z"
   },
   {
    "duration": 213,
    "start_time": "2023-06-07T21:48:37.467Z"
   },
   {
    "duration": 224,
    "start_time": "2023-06-07T21:48:37.683Z"
   },
   {
    "duration": 21,
    "start_time": "2023-06-07T21:48:37.909Z"
   },
   {
    "duration": 3,
    "start_time": "2023-06-07T21:48:37.931Z"
   },
   {
    "duration": 36,
    "start_time": "2023-06-07T21:48:37.936Z"
   },
   {
    "duration": 3,
    "start_time": "2023-06-07T21:48:37.974Z"
   },
   {
    "duration": 75,
    "start_time": "2023-06-07T21:48:37.979Z"
   },
   {
    "duration": 3,
    "start_time": "2023-06-07T21:48:38.056Z"
   },
   {
    "duration": 726,
    "start_time": "2023-06-07T21:48:38.061Z"
   },
   {
    "duration": 4,
    "start_time": "2023-06-07T21:48:38.788Z"
   },
   {
    "duration": 62,
    "start_time": "2023-06-07T21:48:38.794Z"
   },
   {
    "duration": 3,
    "start_time": "2023-06-07T21:48:38.858Z"
   },
   {
    "duration": 699,
    "start_time": "2023-06-07T21:48:38.863Z"
   },
   {
    "duration": 39,
    "start_time": "2023-06-07T21:48:39.564Z"
   },
   {
    "duration": 37,
    "start_time": "2023-06-07T21:48:39.605Z"
   },
   {
    "duration": 5,
    "start_time": "2023-06-07T21:48:39.644Z"
   },
   {
    "duration": 28,
    "start_time": "2023-06-07T21:48:39.651Z"
   },
   {
    "duration": 3,
    "start_time": "2023-06-07T21:48:39.681Z"
   },
   {
    "duration": 56,
    "start_time": "2023-06-07T21:48:39.686Z"
   },
   {
    "duration": 4,
    "start_time": "2023-06-07T21:48:39.743Z"
   },
   {
    "duration": 57,
    "start_time": "2023-06-07T21:48:39.749Z"
   },
   {
    "duration": 14,
    "start_time": "2023-06-07T21:48:39.807Z"
   },
   {
    "duration": 1221,
    "start_time": "2023-06-07T21:48:39.822Z"
   },
   {
    "duration": 617,
    "start_time": "2023-06-07T21:48:41.045Z"
   },
   {
    "duration": 74,
    "start_time": "2023-06-07T21:48:41.664Z"
   },
   {
    "duration": 3,
    "start_time": "2023-06-07T21:48:41.739Z"
   },
   {
    "duration": 415,
    "start_time": "2023-06-07T21:48:41.744Z"
   },
   {
    "duration": 25,
    "start_time": "2023-06-07T21:48:42.161Z"
   },
   {
    "duration": 107,
    "start_time": "2023-06-07T21:48:42.188Z"
   },
   {
    "duration": 4,
    "start_time": "2023-06-07T21:48:42.297Z"
   },
   {
    "duration": 13,
    "start_time": "2023-06-07T21:48:42.303Z"
   },
   {
    "duration": 10461,
    "start_time": "2023-06-07T21:48:42.325Z"
   },
   {
    "duration": 48698,
    "start_time": "2023-06-07T21:48:52.788Z"
   },
   {
    "duration": 3,
    "start_time": "2023-06-07T21:49:41.488Z"
   },
   {
    "duration": 14,
    "start_time": "2023-06-07T21:49:41.495Z"
   },
   {
    "duration": 123686,
    "start_time": "2023-06-07T21:49:41.511Z"
   },
   {
    "duration": 3,
    "start_time": "2023-06-07T21:51:45.198Z"
   },
   {
    "duration": 30,
    "start_time": "2023-06-07T21:51:45.203Z"
   },
   {
    "duration": 4385,
    "start_time": "2023-06-07T21:51:45.234Z"
   },
   {
    "duration": 3645,
    "start_time": "2023-06-07T21:51:49.625Z"
   },
   {
    "duration": 5,
    "start_time": "2023-06-07T21:51:53.272Z"
   },
   {
    "duration": 606,
    "start_time": "2023-06-07T21:51:53.279Z"
   },
   {
    "duration": 6,
    "start_time": "2023-06-07T21:51:53.886Z"
   },
   {
    "duration": 919,
    "start_time": "2023-06-07T21:51:53.894Z"
   },
   {
    "duration": 10,
    "start_time": "2023-06-07T21:51:54.815Z"
   },
   {
    "duration": 40,
    "start_time": "2023-06-07T22:01:00.615Z"
   },
   {
    "duration": 3403,
    "start_time": "2023-06-07T22:08:41.712Z"
   },
   {
    "duration": 5,
    "start_time": "2023-06-07T22:08:48.093Z"
   },
   {
    "duration": 636,
    "start_time": "2023-06-07T22:08:50.070Z"
   },
   {
    "duration": 5,
    "start_time": "2023-06-07T22:08:58.312Z"
   },
   {
    "duration": 957,
    "start_time": "2023-06-07T22:09:00.834Z"
   },
   {
    "duration": 3,
    "start_time": "2023-06-07T22:09:01.793Z"
   },
   {
    "duration": 105128,
    "start_time": "2023-06-07T22:11:33.560Z"
   },
   {
    "duration": 3,
    "start_time": "2023-06-07T22:13:18.691Z"
   },
   {
    "duration": 13,
    "start_time": "2023-06-07T22:13:18.696Z"
   },
   {
    "duration": 687,
    "start_time": "2023-06-07T22:13:29.808Z"
   },
   {
    "duration": 129767,
    "start_time": "2023-06-07T22:14:12.924Z"
   },
   {
    "duration": 4,
    "start_time": "2023-06-07T22:16:22.692Z"
   },
   {
    "duration": 5,
    "start_time": "2023-06-07T22:16:22.698Z"
   },
   {
    "duration": 3632,
    "start_time": "2023-06-07T22:18:41.092Z"
   },
   {
    "duration": 6,
    "start_time": "2023-06-07T22:18:49.418Z"
   },
   {
    "duration": 986,
    "start_time": "2023-06-07T22:18:51.732Z"
   },
   {
    "duration": 4,
    "start_time": "2023-06-07T22:18:52.723Z"
   },
   {
    "duration": 5,
    "start_time": "2023-06-07T22:21:11.959Z"
   },
   {
    "duration": 684,
    "start_time": "2023-06-07T22:21:12.381Z"
   },
   {
    "duration": 2,
    "start_time": "2023-06-07T22:21:36.281Z"
   },
   {
    "duration": 6,
    "start_time": "2023-06-07T22:21:36.285Z"
   },
   {
    "duration": 6,
    "start_time": "2023-06-07T22:21:36.294Z"
   },
   {
    "duration": 4,
    "start_time": "2023-06-07T22:21:36.302Z"
   },
   {
    "duration": 237,
    "start_time": "2023-06-07T22:21:36.308Z"
   },
   {
    "duration": 5,
    "start_time": "2023-06-07T22:21:36.546Z"
   },
   {
    "duration": 6,
    "start_time": "2023-06-07T22:21:36.552Z"
   },
   {
    "duration": 174,
    "start_time": "2023-06-07T22:21:36.559Z"
   },
   {
    "duration": 127,
    "start_time": "2023-06-07T22:21:36.735Z"
   },
   {
    "duration": 9525,
    "start_time": "2023-06-07T22:21:36.864Z"
   },
   {
    "duration": 6298,
    "start_time": "2023-06-07T22:21:46.391Z"
   },
   {
    "duration": 306,
    "start_time": "2023-06-07T22:21:52.691Z"
   },
   {
    "duration": 3,
    "start_time": "2023-06-07T22:21:52.999Z"
   },
   {
    "duration": 24,
    "start_time": "2023-06-07T22:21:53.004Z"
   },
   {
    "duration": 12,
    "start_time": "2023-06-07T22:21:53.030Z"
   },
   {
    "duration": 181,
    "start_time": "2023-06-07T22:21:53.043Z"
   },
   {
    "duration": 189,
    "start_time": "2023-06-07T22:21:53.226Z"
   },
   {
    "duration": 364,
    "start_time": "2023-06-07T22:21:53.424Z"
   },
   {
    "duration": 220,
    "start_time": "2023-06-07T22:21:53.790Z"
   },
   {
    "duration": 21,
    "start_time": "2023-06-07T22:21:54.011Z"
   },
   {
    "duration": 3,
    "start_time": "2023-06-07T22:21:54.033Z"
   },
   {
    "duration": 37,
    "start_time": "2023-06-07T22:21:54.038Z"
   },
   {
    "duration": 3,
    "start_time": "2023-06-07T22:21:54.076Z"
   },
   {
    "duration": 70,
    "start_time": "2023-06-07T22:21:54.081Z"
   },
   {
    "duration": 4,
    "start_time": "2023-06-07T22:21:54.153Z"
   },
   {
    "duration": 723,
    "start_time": "2023-06-07T22:21:54.159Z"
   },
   {
    "duration": 6,
    "start_time": "2023-06-07T22:21:54.884Z"
   },
   {
    "duration": 60,
    "start_time": "2023-06-07T22:21:54.894Z"
   },
   {
    "duration": 6,
    "start_time": "2023-06-07T22:21:54.956Z"
   },
   {
    "duration": 718,
    "start_time": "2023-06-07T22:21:54.963Z"
   },
   {
    "duration": 43,
    "start_time": "2023-06-07T22:21:55.683Z"
   },
   {
    "duration": 26,
    "start_time": "2023-06-07T22:21:55.727Z"
   },
   {
    "duration": 3,
    "start_time": "2023-06-07T22:21:55.754Z"
   },
   {
    "duration": 33,
    "start_time": "2023-06-07T22:21:55.758Z"
   },
   {
    "duration": 3,
    "start_time": "2023-06-07T22:21:55.793Z"
   },
   {
    "duration": 51,
    "start_time": "2023-06-07T22:21:55.797Z"
   },
   {
    "duration": 4,
    "start_time": "2023-06-07T22:21:55.849Z"
   },
   {
    "duration": 47,
    "start_time": "2023-06-07T22:21:55.854Z"
   },
   {
    "duration": 5,
    "start_time": "2023-06-07T22:21:55.902Z"
   },
   {
    "duration": 1220,
    "start_time": "2023-06-07T22:21:55.908Z"
   },
   {
    "duration": 637,
    "start_time": "2023-06-07T22:21:57.129Z"
   },
   {
    "duration": 79,
    "start_time": "2023-06-07T22:21:57.767Z"
   },
   {
    "duration": 3,
    "start_time": "2023-06-07T22:21:57.847Z"
   },
   {
    "duration": 430,
    "start_time": "2023-06-07T22:21:57.851Z"
   },
   {
    "duration": 25,
    "start_time": "2023-06-07T22:21:58.283Z"
   },
   {
    "duration": 98,
    "start_time": "2023-06-07T22:21:58.310Z"
   },
   {
    "duration": 16,
    "start_time": "2023-06-07T22:21:58.409Z"
   },
   {
    "duration": 5,
    "start_time": "2023-06-07T22:21:58.427Z"
   },
   {
    "duration": 9487,
    "start_time": "2023-06-07T22:21:58.434Z"
   },
   {
    "duration": 47408,
    "start_time": "2023-06-07T22:22:07.922Z"
   },
   {
    "duration": 4,
    "start_time": "2023-06-07T22:22:55.331Z"
   },
   {
    "duration": 8,
    "start_time": "2023-06-07T22:22:55.336Z"
   },
   {
    "duration": 132773,
    "start_time": "2023-06-07T22:22:55.346Z"
   },
   {
    "duration": 5,
    "start_time": "2023-06-07T22:25:08.120Z"
   },
   {
    "duration": 7,
    "start_time": "2023-06-07T22:25:08.126Z"
   },
   {
    "duration": 4724,
    "start_time": "2023-06-07T22:25:08.134Z"
   },
   {
    "duration": 3563,
    "start_time": "2023-06-07T22:25:12.859Z"
   },
   {
    "duration": 5,
    "start_time": "2023-06-07T22:25:16.424Z"
   },
   {
    "duration": 945,
    "start_time": "2023-06-07T22:25:16.431Z"
   },
   {
    "duration": 3,
    "start_time": "2023-06-07T22:25:17.378Z"
   },
   {
    "duration": 11,
    "start_time": "2023-06-07T22:25:17.383Z"
   },
   {
    "duration": 762,
    "start_time": "2023-06-07T22:25:17.396Z"
   },
   {
    "duration": 4,
    "start_time": "2023-06-08T17:44:16.036Z"
   },
   {
    "duration": 9,
    "start_time": "2023-06-08T17:44:16.043Z"
   },
   {
    "duration": 1756,
    "start_time": "2023-06-08T17:44:16.054Z"
   },
   {
    "duration": 0,
    "start_time": "2023-06-08T17:44:17.816Z"
   },
   {
    "duration": 0,
    "start_time": "2023-06-08T17:44:17.817Z"
   },
   {
    "duration": 0,
    "start_time": "2023-06-08T17:44:17.818Z"
   },
   {
    "duration": 0,
    "start_time": "2023-06-08T17:44:17.819Z"
   },
   {
    "duration": 0,
    "start_time": "2023-06-08T17:44:17.820Z"
   },
   {
    "duration": 0,
    "start_time": "2023-06-08T17:44:17.822Z"
   },
   {
    "duration": 0,
    "start_time": "2023-06-08T17:44:17.823Z"
   },
   {
    "duration": 0,
    "start_time": "2023-06-08T17:44:17.825Z"
   },
   {
    "duration": 0,
    "start_time": "2023-06-08T17:44:17.826Z"
   },
   {
    "duration": 0,
    "start_time": "2023-06-08T17:44:17.828Z"
   },
   {
    "duration": 0,
    "start_time": "2023-06-08T17:44:17.829Z"
   },
   {
    "duration": 0,
    "start_time": "2023-06-08T17:44:17.831Z"
   },
   {
    "duration": 0,
    "start_time": "2023-06-08T17:44:17.832Z"
   },
   {
    "duration": 0,
    "start_time": "2023-06-08T17:44:17.834Z"
   },
   {
    "duration": 0,
    "start_time": "2023-06-08T17:44:17.835Z"
   },
   {
    "duration": 0,
    "start_time": "2023-06-08T17:44:17.837Z"
   },
   {
    "duration": 0,
    "start_time": "2023-06-08T17:44:17.838Z"
   },
   {
    "duration": 0,
    "start_time": "2023-06-08T17:44:17.840Z"
   },
   {
    "duration": 0,
    "start_time": "2023-06-08T17:44:17.841Z"
   },
   {
    "duration": 0,
    "start_time": "2023-06-08T17:44:17.843Z"
   },
   {
    "duration": 0,
    "start_time": "2023-06-08T17:44:17.844Z"
   },
   {
    "duration": 0,
    "start_time": "2023-06-08T17:44:17.846Z"
   },
   {
    "duration": 0,
    "start_time": "2023-06-08T17:44:17.847Z"
   },
   {
    "duration": 0,
    "start_time": "2023-06-08T17:44:17.848Z"
   },
   {
    "duration": 0,
    "start_time": "2023-06-08T17:44:17.849Z"
   },
   {
    "duration": 0,
    "start_time": "2023-06-08T17:44:17.850Z"
   },
   {
    "duration": 0,
    "start_time": "2023-06-08T17:44:17.851Z"
   },
   {
    "duration": 0,
    "start_time": "2023-06-08T17:44:17.852Z"
   },
   {
    "duration": 0,
    "start_time": "2023-06-08T17:44:17.853Z"
   },
   {
    "duration": 0,
    "start_time": "2023-06-08T17:44:17.854Z"
   },
   {
    "duration": 0,
    "start_time": "2023-06-08T17:44:17.856Z"
   },
   {
    "duration": 0,
    "start_time": "2023-06-08T17:44:17.857Z"
   },
   {
    "duration": 0,
    "start_time": "2023-06-08T17:44:17.858Z"
   },
   {
    "duration": 0,
    "start_time": "2023-06-08T17:44:17.859Z"
   },
   {
    "duration": 0,
    "start_time": "2023-06-08T17:44:17.861Z"
   },
   {
    "duration": 0,
    "start_time": "2023-06-08T17:44:17.862Z"
   },
   {
    "duration": 0,
    "start_time": "2023-06-08T17:44:17.863Z"
   },
   {
    "duration": 0,
    "start_time": "2023-06-08T17:44:17.915Z"
   },
   {
    "duration": 0,
    "start_time": "2023-06-08T17:44:17.916Z"
   },
   {
    "duration": 0,
    "start_time": "2023-06-08T17:44:17.917Z"
   },
   {
    "duration": 0,
    "start_time": "2023-06-08T17:44:17.917Z"
   },
   {
    "duration": 0,
    "start_time": "2023-06-08T17:44:17.919Z"
   },
   {
    "duration": 0,
    "start_time": "2023-06-08T17:44:17.920Z"
   },
   {
    "duration": 0,
    "start_time": "2023-06-08T17:44:17.921Z"
   },
   {
    "duration": 0,
    "start_time": "2023-06-08T17:44:17.922Z"
   },
   {
    "duration": 0,
    "start_time": "2023-06-08T17:44:17.923Z"
   },
   {
    "duration": 0,
    "start_time": "2023-06-08T17:44:17.924Z"
   },
   {
    "duration": 0,
    "start_time": "2023-06-08T17:44:17.925Z"
   },
   {
    "duration": 0,
    "start_time": "2023-06-08T17:44:17.926Z"
   },
   {
    "duration": 0,
    "start_time": "2023-06-08T17:44:17.928Z"
   },
   {
    "duration": 0,
    "start_time": "2023-06-08T17:44:17.929Z"
   },
   {
    "duration": 0,
    "start_time": "2023-06-08T17:44:17.930Z"
   },
   {
    "duration": 0,
    "start_time": "2023-06-08T17:44:17.931Z"
   },
   {
    "duration": 0,
    "start_time": "2023-06-08T17:44:17.934Z"
   },
   {
    "duration": 0,
    "start_time": "2023-06-08T17:44:17.935Z"
   },
   {
    "duration": 0,
    "start_time": "2023-06-08T17:44:17.936Z"
   },
   {
    "duration": 0,
    "start_time": "2023-06-08T17:44:17.941Z"
   },
   {
    "duration": 0,
    "start_time": "2023-06-08T17:44:17.942Z"
   },
   {
    "duration": 0,
    "start_time": "2023-06-08T17:44:17.942Z"
   },
   {
    "duration": 5,
    "start_time": "2023-06-08T17:44:43.664Z"
   },
   {
    "duration": 11471,
    "start_time": "2023-06-08T17:44:43.671Z"
   },
   {
    "duration": 1562,
    "start_time": "2023-06-08T17:44:55.144Z"
   },
   {
    "duration": 17,
    "start_time": "2023-06-08T17:44:56.708Z"
   },
   {
    "duration": 723,
    "start_time": "2023-06-08T17:44:56.728Z"
   },
   {
    "duration": 5,
    "start_time": "2023-06-08T17:44:57.453Z"
   },
   {
    "duration": 24,
    "start_time": "2023-06-08T17:44:57.460Z"
   },
   {
    "duration": 296,
    "start_time": "2023-06-08T17:44:57.486Z"
   },
   {
    "duration": 202,
    "start_time": "2023-06-08T17:44:57.784Z"
   },
   {
    "duration": 8803,
    "start_time": "2023-06-08T17:44:57.988Z"
   },
   {
    "duration": 7295,
    "start_time": "2023-06-08T17:45:06.793Z"
   },
   {
    "duration": 412,
    "start_time": "2023-06-08T17:45:14.089Z"
   },
   {
    "duration": 5,
    "start_time": "2023-06-08T17:45:14.503Z"
   },
   {
    "duration": 52,
    "start_time": "2023-06-08T17:45:14.515Z"
   },
   {
    "duration": 29,
    "start_time": "2023-06-08T17:45:14.569Z"
   },
   {
    "duration": 208,
    "start_time": "2023-06-08T17:45:14.601Z"
   },
   {
    "duration": 190,
    "start_time": "2023-06-08T17:45:14.810Z"
   },
   {
    "duration": 319,
    "start_time": "2023-06-08T17:45:15.003Z"
   },
   {
    "duration": 326,
    "start_time": "2023-06-08T17:45:15.326Z"
   },
   {
    "duration": 36,
    "start_time": "2023-06-08T17:45:15.658Z"
   },
   {
    "duration": 54,
    "start_time": "2023-06-08T17:45:15.699Z"
   },
   {
    "duration": 206,
    "start_time": "2023-06-08T17:45:15.759Z"
   },
   {
    "duration": 16,
    "start_time": "2023-06-08T17:45:15.966Z"
   },
   {
    "duration": 113,
    "start_time": "2023-06-08T17:45:15.984Z"
   },
   {
    "duration": 81,
    "start_time": "2023-06-08T17:45:16.100Z"
   },
   {
    "duration": 1130,
    "start_time": "2023-06-08T17:45:16.184Z"
   },
   {
    "duration": 13,
    "start_time": "2023-06-08T17:45:17.320Z"
   },
   {
    "duration": 54,
    "start_time": "2023-06-08T17:45:17.341Z"
   },
   {
    "duration": 4,
    "start_time": "2023-06-08T17:45:17.397Z"
   },
   {
    "duration": 1076,
    "start_time": "2023-06-08T17:45:17.402Z"
   },
   {
    "duration": 58,
    "start_time": "2023-06-08T17:45:18.481Z"
   },
   {
    "duration": 35,
    "start_time": "2023-06-08T17:45:18.542Z"
   },
   {
    "duration": 5,
    "start_time": "2023-06-08T17:45:18.579Z"
   },
   {
    "duration": 74,
    "start_time": "2023-06-08T17:45:18.586Z"
   },
   {
    "duration": 6,
    "start_time": "2023-06-08T17:45:18.662Z"
   },
   {
    "duration": 72,
    "start_time": "2023-06-08T17:45:18.670Z"
   },
   {
    "duration": 6,
    "start_time": "2023-06-08T17:45:18.743Z"
   },
   {
    "duration": 74,
    "start_time": "2023-06-08T17:45:18.751Z"
   },
   {
    "duration": 8,
    "start_time": "2023-06-08T17:45:18.829Z"
   },
   {
    "duration": 1713,
    "start_time": "2023-06-08T17:45:18.838Z"
   },
   {
    "duration": 701,
    "start_time": "2023-06-08T17:45:20.555Z"
   },
   {
    "duration": 109,
    "start_time": "2023-06-08T17:45:21.258Z"
   },
   {
    "duration": 2,
    "start_time": "2023-06-08T17:45:21.371Z"
   },
   {
    "duration": 407,
    "start_time": "2023-06-08T17:45:21.374Z"
   },
   {
    "duration": 0,
    "start_time": "2023-06-08T17:45:21.783Z"
   },
   {
    "duration": 0,
    "start_time": "2023-06-08T17:45:21.784Z"
   },
   {
    "duration": 0,
    "start_time": "2023-06-08T17:45:21.785Z"
   },
   {
    "duration": 0,
    "start_time": "2023-06-08T17:45:21.786Z"
   },
   {
    "duration": 0,
    "start_time": "2023-06-08T17:45:21.787Z"
   },
   {
    "duration": 0,
    "start_time": "2023-06-08T17:45:21.788Z"
   },
   {
    "duration": 0,
    "start_time": "2023-06-08T17:45:21.789Z"
   },
   {
    "duration": 0,
    "start_time": "2023-06-08T17:45:21.790Z"
   },
   {
    "duration": 0,
    "start_time": "2023-06-08T17:45:21.792Z"
   },
   {
    "duration": 0,
    "start_time": "2023-06-08T17:45:21.793Z"
   },
   {
    "duration": 0,
    "start_time": "2023-06-08T17:45:21.794Z"
   },
   {
    "duration": 0,
    "start_time": "2023-06-08T17:45:21.795Z"
   },
   {
    "duration": 0,
    "start_time": "2023-06-08T17:45:21.796Z"
   },
   {
    "duration": 1,
    "start_time": "2023-06-08T17:45:21.796Z"
   },
   {
    "duration": 0,
    "start_time": "2023-06-08T17:45:21.797Z"
   },
   {
    "duration": 0,
    "start_time": "2023-06-08T17:45:21.798Z"
   },
   {
    "duration": 0,
    "start_time": "2023-06-08T17:45:21.798Z"
   },
   {
    "duration": 0,
    "start_time": "2023-06-08T17:45:21.799Z"
   },
   {
    "duration": 4,
    "start_time": "2023-06-08T18:51:16.881Z"
   },
   {
    "duration": 12859,
    "start_time": "2023-06-08T18:51:16.887Z"
   },
   {
    "duration": 2506,
    "start_time": "2023-06-08T18:51:29.748Z"
   },
   {
    "duration": 15,
    "start_time": "2023-06-08T18:51:32.267Z"
   },
   {
    "duration": 1676,
    "start_time": "2023-06-08T18:51:32.287Z"
   },
   {
    "duration": 4,
    "start_time": "2023-06-08T18:51:33.967Z"
   },
   {
    "duration": 88,
    "start_time": "2023-06-08T18:51:33.973Z"
   },
   {
    "duration": 373,
    "start_time": "2023-06-08T18:51:34.064Z"
   },
   {
    "duration": 170,
    "start_time": "2023-06-08T18:51:34.448Z"
   },
   {
    "duration": 8356,
    "start_time": "2023-06-08T18:51:34.622Z"
   },
   {
    "duration": 6888,
    "start_time": "2023-06-08T18:51:42.980Z"
   },
   {
    "duration": 448,
    "start_time": "2023-06-08T18:51:49.874Z"
   },
   {
    "duration": 10,
    "start_time": "2023-06-08T18:51:50.328Z"
   },
   {
    "duration": 158,
    "start_time": "2023-06-08T18:51:50.344Z"
   },
   {
    "duration": 150,
    "start_time": "2023-06-08T18:51:50.507Z"
   },
   {
    "duration": 227,
    "start_time": "2023-06-08T18:51:50.659Z"
   },
   {
    "duration": 183,
    "start_time": "2023-06-08T18:51:50.889Z"
   },
   {
    "duration": 345,
    "start_time": "2023-06-08T18:51:51.073Z"
   },
   {
    "duration": 387,
    "start_time": "2023-06-08T18:51:51.423Z"
   },
   {
    "duration": 48,
    "start_time": "2023-06-08T18:51:51.819Z"
   },
   {
    "duration": 82,
    "start_time": "2023-06-08T18:51:51.869Z"
   },
   {
    "duration": 85,
    "start_time": "2023-06-08T18:51:51.953Z"
   },
   {
    "duration": 9,
    "start_time": "2023-06-08T18:51:52.043Z"
   },
   {
    "duration": 176,
    "start_time": "2023-06-08T18:51:52.066Z"
   },
   {
    "duration": 10,
    "start_time": "2023-06-08T18:51:52.248Z"
   },
   {
    "duration": 1459,
    "start_time": "2023-06-08T18:51:52.263Z"
   },
   {
    "duration": 8,
    "start_time": "2023-06-08T18:51:53.728Z"
   },
   {
    "duration": 117,
    "start_time": "2023-06-08T18:51:53.741Z"
   },
   {
    "duration": 6,
    "start_time": "2023-06-08T18:51:53.864Z"
   },
   {
    "duration": 1118,
    "start_time": "2023-06-08T18:51:53.875Z"
   },
   {
    "duration": 52,
    "start_time": "2023-06-08T18:51:54.999Z"
   },
   {
    "duration": 102,
    "start_time": "2023-06-08T18:51:55.056Z"
   },
   {
    "duration": 54,
    "start_time": "2023-06-08T18:51:55.164Z"
   },
   {
    "duration": 148,
    "start_time": "2023-06-08T18:51:55.224Z"
   },
   {
    "duration": 9,
    "start_time": "2023-06-08T18:51:55.374Z"
   },
   {
    "duration": 169,
    "start_time": "2023-06-08T18:51:55.385Z"
   },
   {
    "duration": 11,
    "start_time": "2023-06-08T18:51:55.568Z"
   },
   {
    "duration": 165,
    "start_time": "2023-06-08T18:51:55.581Z"
   },
   {
    "duration": 11,
    "start_time": "2023-06-08T18:51:55.748Z"
   },
   {
    "duration": 2055,
    "start_time": "2023-06-08T18:51:55.761Z"
   },
   {
    "duration": 1018,
    "start_time": "2023-06-08T18:51:57.818Z"
   },
   {
    "duration": 122,
    "start_time": "2023-06-08T18:51:58.851Z"
   },
   {
    "duration": 64,
    "start_time": "2023-06-08T18:51:58.978Z"
   },
   {
    "duration": 629,
    "start_time": "2023-06-08T18:51:59.048Z"
   },
   {
    "duration": 169,
    "start_time": "2023-06-08T18:51:59.687Z"
   },
   {
    "duration": 188,
    "start_time": "2023-06-08T18:53:05.150Z"
   },
   {
    "duration": 0,
    "start_time": "2023-06-08T18:53:05.340Z"
   },
   {
    "duration": 0,
    "start_time": "2023-06-08T18:53:05.341Z"
   },
   {
    "duration": 0,
    "start_time": "2023-06-08T18:53:05.342Z"
   },
   {
    "duration": 0,
    "start_time": "2023-06-08T18:53:05.343Z"
   },
   {
    "duration": 0,
    "start_time": "2023-06-08T18:53:05.344Z"
   },
   {
    "duration": 0,
    "start_time": "2023-06-08T18:53:05.344Z"
   },
   {
    "duration": 0,
    "start_time": "2023-06-08T18:53:05.346Z"
   },
   {
    "duration": 0,
    "start_time": "2023-06-08T18:53:05.347Z"
   },
   {
    "duration": 0,
    "start_time": "2023-06-08T18:53:05.350Z"
   },
   {
    "duration": 0,
    "start_time": "2023-06-08T18:53:05.351Z"
   },
   {
    "duration": 0,
    "start_time": "2023-06-08T18:53:05.352Z"
   },
   {
    "duration": 0,
    "start_time": "2023-06-08T18:53:05.353Z"
   },
   {
    "duration": 0,
    "start_time": "2023-06-08T18:53:05.355Z"
   },
   {
    "duration": 0,
    "start_time": "2023-06-08T18:53:05.357Z"
   },
   {
    "duration": 0,
    "start_time": "2023-06-08T18:53:05.358Z"
   },
   {
    "duration": 0,
    "start_time": "2023-06-08T18:53:05.360Z"
   },
   {
    "duration": 0,
    "start_time": "2023-06-08T18:53:05.361Z"
   },
   {
    "duration": 0,
    "start_time": "2023-06-08T18:53:05.362Z"
   },
   {
    "duration": 2,
    "start_time": "2023-06-08T18:53:32.166Z"
   },
   {
    "duration": 2646,
    "start_time": "2023-06-08T18:53:32.171Z"
   },
   {
    "duration": 16,
    "start_time": "2023-06-08T18:53:34.819Z"
   },
   {
    "duration": 14,
    "start_time": "2023-06-08T18:53:34.839Z"
   },
   {
    "duration": 381,
    "start_time": "2023-06-08T18:53:34.855Z"
   },
   {
    "duration": 4,
    "start_time": "2023-06-08T18:53:35.238Z"
   },
   {
    "duration": 13,
    "start_time": "2023-06-08T18:53:35.244Z"
   },
   {
    "duration": 258,
    "start_time": "2023-06-08T18:53:35.259Z"
   },
   {
    "duration": 179,
    "start_time": "2023-06-08T18:53:35.524Z"
   },
   {
    "duration": 7452,
    "start_time": "2023-06-08T18:53:35.708Z"
   },
   {
    "duration": 6156,
    "start_time": "2023-06-08T18:53:43.162Z"
   },
   {
    "duration": 350,
    "start_time": "2023-06-08T18:53:49.320Z"
   },
   {
    "duration": 34,
    "start_time": "2023-06-08T18:53:49.672Z"
   },
   {
    "duration": 28,
    "start_time": "2023-06-08T18:53:49.721Z"
   },
   {
    "duration": 10,
    "start_time": "2023-06-08T18:53:49.750Z"
   },
   {
    "duration": 178,
    "start_time": "2023-06-08T18:53:49.762Z"
   },
   {
    "duration": 150,
    "start_time": "2023-06-08T18:53:49.942Z"
   },
   {
    "duration": 263,
    "start_time": "2023-06-08T18:53:50.094Z"
   },
   {
    "duration": 269,
    "start_time": "2023-06-08T18:53:50.358Z"
   },
   {
    "duration": 29,
    "start_time": "2023-06-08T18:53:50.629Z"
   },
   {
    "duration": 72,
    "start_time": "2023-06-08T18:53:50.685Z"
   },
   {
    "duration": 161,
    "start_time": "2023-06-08T18:53:50.759Z"
   },
   {
    "duration": 8,
    "start_time": "2023-06-08T18:53:50.921Z"
   },
   {
    "duration": 129,
    "start_time": "2023-06-08T18:53:50.934Z"
   },
   {
    "duration": 4,
    "start_time": "2023-06-08T18:53:51.065Z"
   },
   {
    "duration": 1030,
    "start_time": "2023-06-08T18:53:51.072Z"
   },
   {
    "duration": 10,
    "start_time": "2023-06-08T18:53:52.103Z"
   },
   {
    "duration": 75,
    "start_time": "2023-06-08T18:53:52.114Z"
   },
   {
    "duration": 8,
    "start_time": "2023-06-08T18:53:52.193Z"
   },
   {
    "duration": 974,
    "start_time": "2023-06-08T18:53:52.203Z"
   },
   {
    "duration": 67,
    "start_time": "2023-06-08T18:53:53.179Z"
   },
   {
    "duration": 47,
    "start_time": "2023-06-08T18:53:53.248Z"
   },
   {
    "duration": 11,
    "start_time": "2023-06-08T18:53:53.297Z"
   },
   {
    "duration": 81,
    "start_time": "2023-06-08T18:53:53.313Z"
   },
   {
    "duration": 18,
    "start_time": "2023-06-08T18:53:53.411Z"
   },
   {
    "duration": 78,
    "start_time": "2023-06-08T18:53:53.431Z"
   },
   {
    "duration": 7,
    "start_time": "2023-06-08T18:53:53.513Z"
   },
   {
    "duration": 101,
    "start_time": "2023-06-08T18:53:53.524Z"
   },
   {
    "duration": 39,
    "start_time": "2023-06-08T18:53:53.631Z"
   },
   {
    "duration": 1973,
    "start_time": "2023-06-08T18:53:53.673Z"
   },
   {
    "duration": 1021,
    "start_time": "2023-06-08T18:53:55.647Z"
   },
   {
    "duration": 153,
    "start_time": "2023-06-08T18:53:56.670Z"
   },
   {
    "duration": 6,
    "start_time": "2023-06-08T18:53:56.824Z"
   },
   {
    "duration": 735,
    "start_time": "2023-06-08T18:53:56.832Z"
   },
   {
    "duration": 36,
    "start_time": "2023-06-08T18:53:57.571Z"
   },
   {
    "duration": 171,
    "start_time": "2023-06-08T18:53:57.609Z"
   },
   {
    "duration": 27,
    "start_time": "2023-06-08T18:53:57.783Z"
   },
   {
    "duration": 47,
    "start_time": "2023-06-08T18:53:57.832Z"
   },
   {
    "duration": 12167,
    "start_time": "2023-06-08T18:53:57.881Z"
   },
   {
    "duration": 69674,
    "start_time": "2023-06-08T18:54:10.051Z"
   },
   {
    "duration": 11,
    "start_time": "2023-06-08T18:55:19.735Z"
   },
   {
    "duration": 21,
    "start_time": "2023-06-08T18:55:19.747Z"
   },
   {
    "duration": 186,
    "start_time": "2023-06-08T18:55:19.770Z"
   },
   {
    "duration": 9,
    "start_time": "2023-06-08T18:55:19.958Z"
   },
   {
    "duration": 0,
    "start_time": "2023-06-08T18:55:19.968Z"
   },
   {
    "duration": 0,
    "start_time": "2023-06-08T18:55:19.969Z"
   },
   {
    "duration": 0,
    "start_time": "2023-06-08T18:55:19.971Z"
   },
   {
    "duration": 0,
    "start_time": "2023-06-08T18:55:19.972Z"
   },
   {
    "duration": 0,
    "start_time": "2023-06-08T18:55:19.973Z"
   },
   {
    "duration": 0,
    "start_time": "2023-06-08T18:55:19.974Z"
   },
   {
    "duration": 0,
    "start_time": "2023-06-08T18:55:19.975Z"
   },
   {
    "duration": 0,
    "start_time": "2023-06-08T18:55:19.976Z"
   },
   {
    "duration": 161416,
    "start_time": "2023-06-08T18:56:40.514Z"
   },
   {
    "duration": 17,
    "start_time": "2023-06-08T18:59:21.932Z"
   },
   {
    "duration": 10,
    "start_time": "2023-06-08T18:59:21.956Z"
   },
   {
    "duration": 6262,
    "start_time": "2023-06-08T18:59:21.969Z"
   },
   {
    "duration": 4234,
    "start_time": "2023-06-08T18:59:28.234Z"
   },
   {
    "duration": 8,
    "start_time": "2023-06-08T18:59:32.469Z"
   },
   {
    "duration": 1469,
    "start_time": "2023-06-08T18:59:32.486Z"
   },
   {
    "duration": 5,
    "start_time": "2023-06-08T18:59:33.956Z"
   },
   {
    "duration": 7,
    "start_time": "2023-06-08T18:59:33.963Z"
   },
   {
    "duration": 17,
    "start_time": "2023-06-08T18:59:33.989Z"
   },
   {
    "duration": 13,
    "start_time": "2023-06-08T19:00:46.655Z"
   },
   {
    "duration": 8,
    "start_time": "2023-06-08T19:02:31.169Z"
   },
   {
    "duration": 14,
    "start_time": "2023-06-08T19:02:31.609Z"
   },
   {
    "duration": 16,
    "start_time": "2023-06-08T19:05:03.111Z"
   },
   {
    "duration": 30,
    "start_time": "2023-06-08T19:05:03.607Z"
   },
   {
    "duration": 17,
    "start_time": "2023-06-08T19:07:22.943Z"
   },
   {
    "duration": 19,
    "start_time": "2023-06-08T19:07:23.448Z"
   },
   {
    "duration": 20,
    "start_time": "2023-06-08T19:07:38.342Z"
   },
   {
    "duration": 31,
    "start_time": "2023-06-08T19:07:38.784Z"
   },
   {
    "duration": 226,
    "start_time": "2023-06-08T19:08:08.268Z"
   },
   {
    "duration": 25,
    "start_time": "2023-06-08T19:08:08.641Z"
   },
   {
    "duration": 20,
    "start_time": "2023-06-08T19:08:14.525Z"
   },
   {
    "duration": 36,
    "start_time": "2023-06-08T19:08:14.913Z"
   },
   {
    "duration": 6,
    "start_time": "2023-06-08T19:13:20.748Z"
   },
   {
    "duration": 15,
    "start_time": "2023-06-08T19:13:21.239Z"
   },
   {
    "duration": 10,
    "start_time": "2023-06-08T19:15:53.112Z"
   },
   {
    "duration": 4,
    "start_time": "2023-06-09T18:38:36.797Z"
   },
   {
    "duration": 7,
    "start_time": "2023-06-09T18:38:36.805Z"
   },
   {
    "duration": 2103,
    "start_time": "2023-06-09T18:38:36.814Z"
   },
   {
    "duration": 0,
    "start_time": "2023-06-09T18:38:38.921Z"
   },
   {
    "duration": 0,
    "start_time": "2023-06-09T18:38:38.924Z"
   },
   {
    "duration": 0,
    "start_time": "2023-06-09T18:38:38.925Z"
   },
   {
    "duration": 0,
    "start_time": "2023-06-09T18:38:38.927Z"
   },
   {
    "duration": 0,
    "start_time": "2023-06-09T18:38:38.928Z"
   },
   {
    "duration": 0,
    "start_time": "2023-06-09T18:38:38.929Z"
   },
   {
    "duration": 0,
    "start_time": "2023-06-09T18:38:38.931Z"
   },
   {
    "duration": 0,
    "start_time": "2023-06-09T18:38:38.941Z"
   },
   {
    "duration": 0,
    "start_time": "2023-06-09T18:38:38.942Z"
   },
   {
    "duration": 0,
    "start_time": "2023-06-09T18:38:38.942Z"
   },
   {
    "duration": 0,
    "start_time": "2023-06-09T18:38:38.943Z"
   },
   {
    "duration": 0,
    "start_time": "2023-06-09T18:38:38.944Z"
   },
   {
    "duration": 0,
    "start_time": "2023-06-09T18:38:38.944Z"
   },
   {
    "duration": 0,
    "start_time": "2023-06-09T18:38:38.945Z"
   },
   {
    "duration": 0,
    "start_time": "2023-06-09T18:38:38.946Z"
   },
   {
    "duration": 0,
    "start_time": "2023-06-09T18:38:38.947Z"
   },
   {
    "duration": 0,
    "start_time": "2023-06-09T18:38:38.951Z"
   },
   {
    "duration": 0,
    "start_time": "2023-06-09T18:38:38.952Z"
   },
   {
    "duration": 0,
    "start_time": "2023-06-09T18:38:38.952Z"
   },
   {
    "duration": 0,
    "start_time": "2023-06-09T18:38:38.953Z"
   },
   {
    "duration": 0,
    "start_time": "2023-06-09T18:38:38.953Z"
   },
   {
    "duration": 0,
    "start_time": "2023-06-09T18:38:38.954Z"
   },
   {
    "duration": 0,
    "start_time": "2023-06-09T18:38:38.955Z"
   },
   {
    "duration": 0,
    "start_time": "2023-06-09T18:38:38.957Z"
   },
   {
    "duration": 0,
    "start_time": "2023-06-09T18:38:38.959Z"
   },
   {
    "duration": 0,
    "start_time": "2023-06-09T18:38:38.960Z"
   },
   {
    "duration": 0,
    "start_time": "2023-06-09T18:38:38.961Z"
   },
   {
    "duration": 0,
    "start_time": "2023-06-09T18:38:38.962Z"
   },
   {
    "duration": 0,
    "start_time": "2023-06-09T18:38:38.963Z"
   },
   {
    "duration": 0,
    "start_time": "2023-06-09T18:38:38.964Z"
   },
   {
    "duration": 0,
    "start_time": "2023-06-09T18:38:38.965Z"
   },
   {
    "duration": 0,
    "start_time": "2023-06-09T18:38:38.967Z"
   },
   {
    "duration": 0,
    "start_time": "2023-06-09T18:38:38.969Z"
   },
   {
    "duration": 0,
    "start_time": "2023-06-09T18:38:38.971Z"
   },
   {
    "duration": 0,
    "start_time": "2023-06-09T18:38:38.973Z"
   },
   {
    "duration": 0,
    "start_time": "2023-06-09T18:38:38.974Z"
   },
   {
    "duration": 0,
    "start_time": "2023-06-09T18:38:38.976Z"
   },
   {
    "duration": 0,
    "start_time": "2023-06-09T18:38:38.977Z"
   },
   {
    "duration": 0,
    "start_time": "2023-06-09T18:38:38.978Z"
   },
   {
    "duration": 0,
    "start_time": "2023-06-09T18:38:38.980Z"
   },
   {
    "duration": 0,
    "start_time": "2023-06-09T18:38:38.982Z"
   },
   {
    "duration": 0,
    "start_time": "2023-06-09T18:38:38.984Z"
   },
   {
    "duration": 0,
    "start_time": "2023-06-09T18:38:38.985Z"
   },
   {
    "duration": 0,
    "start_time": "2023-06-09T18:38:38.986Z"
   },
   {
    "duration": 0,
    "start_time": "2023-06-09T18:38:38.990Z"
   },
   {
    "duration": 0,
    "start_time": "2023-06-09T18:38:38.991Z"
   },
   {
    "duration": 0,
    "start_time": "2023-06-09T18:38:38.992Z"
   },
   {
    "duration": 0,
    "start_time": "2023-06-09T18:38:38.993Z"
   },
   {
    "duration": 0,
    "start_time": "2023-06-09T18:38:39.042Z"
   },
   {
    "duration": 0,
    "start_time": "2023-06-09T18:38:39.044Z"
   },
   {
    "duration": 0,
    "start_time": "2023-06-09T18:38:39.045Z"
   },
   {
    "duration": 0,
    "start_time": "2023-06-09T18:38:39.046Z"
   },
   {
    "duration": 0,
    "start_time": "2023-06-09T18:38:39.047Z"
   },
   {
    "duration": 0,
    "start_time": "2023-06-09T18:38:39.048Z"
   },
   {
    "duration": 0,
    "start_time": "2023-06-09T18:38:39.049Z"
   },
   {
    "duration": 0,
    "start_time": "2023-06-09T18:38:39.050Z"
   },
   {
    "duration": 0,
    "start_time": "2023-06-09T18:38:39.051Z"
   },
   {
    "duration": 0,
    "start_time": "2023-06-09T18:38:39.053Z"
   },
   {
    "duration": 5,
    "start_time": "2023-06-09T18:39:05.869Z"
   },
   {
    "duration": 9476,
    "start_time": "2023-06-09T18:39:05.876Z"
   },
   {
    "duration": 1550,
    "start_time": "2023-06-09T18:39:15.354Z"
   },
   {
    "duration": 4,
    "start_time": "2023-06-09T18:39:16.905Z"
   },
   {
    "duration": 866,
    "start_time": "2023-06-09T18:39:16.910Z"
   },
   {
    "duration": 5,
    "start_time": "2023-06-09T18:39:17.778Z"
   },
   {
    "duration": 12,
    "start_time": "2023-06-09T18:39:17.785Z"
   },
   {
    "duration": 232,
    "start_time": "2023-06-09T18:39:17.799Z"
   },
   {
    "duration": 183,
    "start_time": "2023-06-09T18:39:18.033Z"
   },
   {
    "duration": 7715,
    "start_time": "2023-06-09T18:39:18.218Z"
   },
   {
    "duration": 6369,
    "start_time": "2023-06-09T18:39:25.941Z"
   },
   {
    "duration": 373,
    "start_time": "2023-06-09T18:39:32.312Z"
   },
   {
    "duration": 3,
    "start_time": "2023-06-09T18:39:32.687Z"
   },
   {
    "duration": 25,
    "start_time": "2023-06-09T18:39:32.692Z"
   },
   {
    "duration": 35,
    "start_time": "2023-06-09T18:39:32.718Z"
   },
   {
    "duration": 212,
    "start_time": "2023-06-09T18:39:32.754Z"
   },
   {
    "duration": 194,
    "start_time": "2023-06-09T18:39:32.968Z"
   },
   {
    "duration": 257,
    "start_time": "2023-06-09T18:39:33.164Z"
   },
   {
    "duration": 279,
    "start_time": "2023-06-09T18:39:33.422Z"
   },
   {
    "duration": 26,
    "start_time": "2023-06-09T18:39:33.703Z"
   },
   {
    "duration": 17,
    "start_time": "2023-06-09T18:39:33.731Z"
   },
   {
    "duration": 60,
    "start_time": "2023-06-09T18:39:33.752Z"
   },
   {
    "duration": 4,
    "start_time": "2023-06-09T18:39:33.814Z"
   },
   {
    "duration": 82,
    "start_time": "2023-06-09T18:39:33.820Z"
   },
   {
    "duration": 4,
    "start_time": "2023-06-09T18:39:33.904Z"
   },
   {
    "duration": 900,
    "start_time": "2023-06-09T18:39:33.909Z"
   },
   {
    "duration": 4,
    "start_time": "2023-06-09T18:39:34.811Z"
   },
   {
    "duration": 71,
    "start_time": "2023-06-09T18:39:34.816Z"
   },
   {
    "duration": 3,
    "start_time": "2023-06-09T18:39:34.892Z"
   },
   {
    "duration": 871,
    "start_time": "2023-06-09T18:39:34.897Z"
   },
   {
    "duration": 54,
    "start_time": "2023-06-09T18:39:35.773Z"
   },
   {
    "duration": 42,
    "start_time": "2023-06-09T18:39:35.829Z"
   },
   {
    "duration": 4,
    "start_time": "2023-06-09T18:39:35.874Z"
   },
   {
    "duration": 33,
    "start_time": "2023-06-09T18:39:35.879Z"
   },
   {
    "duration": 5,
    "start_time": "2023-06-09T18:39:35.914Z"
   },
   {
    "duration": 54,
    "start_time": "2023-06-09T18:39:35.921Z"
   },
   {
    "duration": 15,
    "start_time": "2023-06-09T18:39:35.977Z"
   },
   {
    "duration": 42,
    "start_time": "2023-06-09T18:39:35.994Z"
   },
   {
    "duration": 12,
    "start_time": "2023-06-09T18:39:36.038Z"
   },
   {
    "duration": 1578,
    "start_time": "2023-06-09T18:39:36.051Z"
   },
   {
    "duration": 853,
    "start_time": "2023-06-09T18:39:37.631Z"
   },
   {
    "duration": 102,
    "start_time": "2023-06-09T18:39:38.486Z"
   },
   {
    "duration": 3,
    "start_time": "2023-06-09T18:39:38.590Z"
   },
   {
    "duration": 477,
    "start_time": "2023-06-09T18:39:38.595Z"
   },
   {
    "duration": 44,
    "start_time": "2023-06-09T18:39:39.074Z"
   },
   {
    "duration": 148,
    "start_time": "2023-06-09T18:39:39.119Z"
   },
   {
    "duration": 5,
    "start_time": "2023-06-09T18:39:39.269Z"
   },
   {
    "duration": 26,
    "start_time": "2023-06-09T18:39:39.276Z"
   },
   {
    "duration": 11434,
    "start_time": "2023-06-09T18:39:39.304Z"
   },
   {
    "duration": 63622,
    "start_time": "2023-06-09T18:39:50.741Z"
   },
   {
    "duration": 4,
    "start_time": "2023-06-09T18:40:54.365Z"
   },
   {
    "duration": 9,
    "start_time": "2023-06-09T18:40:54.370Z"
   },
   {
    "duration": 166852,
    "start_time": "2023-06-09T18:40:54.381Z"
   },
   {
    "duration": 5,
    "start_time": "2023-06-09T18:43:41.241Z"
   },
   {
    "duration": 39,
    "start_time": "2023-06-09T18:43:41.248Z"
   },
   {
    "duration": 7309,
    "start_time": "2023-06-09T18:43:41.288Z"
   },
   {
    "duration": 5693,
    "start_time": "2023-06-09T18:43:48.600Z"
   },
   {
    "duration": 9,
    "start_time": "2023-06-09T18:43:54.297Z"
   },
   {
    "duration": 1621,
    "start_time": "2023-06-09T18:43:54.308Z"
   },
   {
    "duration": 10,
    "start_time": "2023-06-09T18:43:55.931Z"
   },
   {
    "duration": 24,
    "start_time": "2023-06-09T18:43:55.943Z"
   }
  ],
  "kernelspec": {
   "display_name": "Python 3 (ipykernel)",
   "language": "python",
   "name": "python3"
  },
  "language_info": {
   "codemirror_mode": {
    "name": "ipython",
    "version": 3
   },
   "file_extension": ".py",
   "mimetype": "text/x-python",
   "name": "python",
   "nbconvert_exporter": "python",
   "pygments_lexer": "ipython3",
   "version": "3.9.13"
  },
  "toc": {
   "base_numbering": 1,
   "nav_menu": {},
   "number_sections": true,
   "sideBar": true,
   "skip_h1_title": true,
   "title_cell": "Table of Contents",
   "title_sidebar": "Contents",
   "toc_cell": false,
   "toc_position": {},
   "toc_section_display": true,
   "toc_window_display": false
  }
 },
 "nbformat": 4,
 "nbformat_minor": 2
}
