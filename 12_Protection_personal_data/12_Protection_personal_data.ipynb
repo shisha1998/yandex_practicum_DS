{
 "cells": [
  {
   "cell_type": "markdown",
   "metadata": {
    "toc": true
   },
   "source": [
    "<h1>Содержание<span class=\"tocSkip\"></span></h1>\n",
    "<div class=\"toc\"><ul class=\"toc-item\"><li><span><a href=\"#Загрузка-данных\" data-toc-modified-id=\"Загрузка-данных-1\"><span class=\"toc-item-num\">1&nbsp;&nbsp;</span>Загрузка данных</a></span></li><li><span><a href=\"#Умножение-матриц\" data-toc-modified-id=\"Умножение-матриц-2\"><span class=\"toc-item-num\">2&nbsp;&nbsp;</span>Умножение матриц</a></span></li><li><span><a href=\"#Алгоритм-преобразования\" data-toc-modified-id=\"Алгоритм-преобразования-3\"><span class=\"toc-item-num\">3&nbsp;&nbsp;</span>Алгоритм преобразования</a></span></li><li><span><a href=\"#Проверка-алгоритма\" data-toc-modified-id=\"Проверка-алгоритма-4\"><span class=\"toc-item-num\">4&nbsp;&nbsp;</span>Проверка алгоритма</a></span></li><li><span><a href=\"#Чек-лист-проверки\" data-toc-modified-id=\"Чек-лист-проверки-5\"><span class=\"toc-item-num\">5&nbsp;&nbsp;</span>Чек-лист проверки</a></span></li></ul></div>"
   ]
  },
  {
   "cell_type": "markdown",
   "metadata": {},
   "source": [
    "# Защита персональных данных клиентов"
   ]
  },
  {
   "cell_type": "markdown",
   "metadata": {},
   "source": [
    "Нужно защитить данные клиентов страховой компании «Хоть потоп». Необходимо разработать такой метод преобразования данных, чтобы по ним было сложно восстановить персональную информацию. \n",
    "\n",
    "Нужно защитить данные, чтобы при преобразовании качество моделей машинного обучения не ухудшилось. Подбирать наилучшую модель не требуется.\n",
    "\n",
    "Описание данных\n",
    "\n",
    "- Признаки: пол, возраст и зарплата застрахованного, количество членов его семьи.\n",
    "- Целевой признак: количество страховых выплат клиенту за последние 5 лет."
   ]
  },
  {
   "cell_type": "markdown",
   "metadata": {},
   "source": [
    "## Загрузка данных"
   ]
  },
  {
   "cell_type": "markdown",
   "metadata": {},
   "source": [
    "Выгрузим необходимые библиотеки."
   ]
  },
  {
   "cell_type": "code",
   "execution_count": 1,
   "metadata": {},
   "outputs": [],
   "source": [
    "# !pip install phik "
   ]
  },
  {
   "cell_type": "code",
   "execution_count": 2,
   "metadata": {},
   "outputs": [],
   "source": [
    "import pandas as pd\n",
    "import numpy as np\n",
    "import matplotlib.pyplot as plt\n",
    "from sklearn.linear_model import LinearRegression\n",
    "from sklearn.model_selection import cross_val_score\n",
    "from sklearn.metrics import r2_score\n",
    "import phik\n",
    "from phik.report import plot_correlation_matrix"
   ]
  },
  {
   "cell_type": "markdown",
   "metadata": {},
   "source": [
    "Выгрузим датасет."
   ]
  },
  {
   "cell_type": "code",
   "execution_count": 3,
   "metadata": {},
   "outputs": [],
   "source": [
    "try:\n",
    "    data = pd.read_csv('C:/Users/Student/Desktop/insurance.csv')\n",
    "except:\n",
    "    data = pd.read_csv('/datasets/insurance.csv')"
   ]
  },
  {
   "cell_type": "markdown",
   "metadata": {},
   "source": [
    "Посмотрим общую информацию о датасете."
   ]
  },
  {
   "cell_type": "code",
   "execution_count": 4,
   "metadata": {},
   "outputs": [
    {
     "data": {
      "text/html": [
       "<div>\n",
       "<style scoped>\n",
       "    .dataframe tbody tr th:only-of-type {\n",
       "        vertical-align: middle;\n",
       "    }\n",
       "\n",
       "    .dataframe tbody tr th {\n",
       "        vertical-align: top;\n",
       "    }\n",
       "\n",
       "    .dataframe thead th {\n",
       "        text-align: right;\n",
       "    }\n",
       "</style>\n",
       "<table border=\"1\" class=\"dataframe\">\n",
       "  <thead>\n",
       "    <tr style=\"text-align: right;\">\n",
       "      <th></th>\n",
       "      <th>Пол</th>\n",
       "      <th>Возраст</th>\n",
       "      <th>Зарплата</th>\n",
       "      <th>Члены семьи</th>\n",
       "      <th>Страховые выплаты</th>\n",
       "    </tr>\n",
       "  </thead>\n",
       "  <tbody>\n",
       "    <tr>\n",
       "      <th>0</th>\n",
       "      <td>1</td>\n",
       "      <td>41.0</td>\n",
       "      <td>49600.0</td>\n",
       "      <td>1</td>\n",
       "      <td>0</td>\n",
       "    </tr>\n",
       "    <tr>\n",
       "      <th>1</th>\n",
       "      <td>0</td>\n",
       "      <td>46.0</td>\n",
       "      <td>38000.0</td>\n",
       "      <td>1</td>\n",
       "      <td>1</td>\n",
       "    </tr>\n",
       "    <tr>\n",
       "      <th>2</th>\n",
       "      <td>0</td>\n",
       "      <td>29.0</td>\n",
       "      <td>21000.0</td>\n",
       "      <td>0</td>\n",
       "      <td>0</td>\n",
       "    </tr>\n",
       "    <tr>\n",
       "      <th>3</th>\n",
       "      <td>0</td>\n",
       "      <td>21.0</td>\n",
       "      <td>41700.0</td>\n",
       "      <td>2</td>\n",
       "      <td>0</td>\n",
       "    </tr>\n",
       "    <tr>\n",
       "      <th>4</th>\n",
       "      <td>1</td>\n",
       "      <td>28.0</td>\n",
       "      <td>26100.0</td>\n",
       "      <td>0</td>\n",
       "      <td>0</td>\n",
       "    </tr>\n",
       "    <tr>\n",
       "      <th>...</th>\n",
       "      <td>...</td>\n",
       "      <td>...</td>\n",
       "      <td>...</td>\n",
       "      <td>...</td>\n",
       "      <td>...</td>\n",
       "    </tr>\n",
       "    <tr>\n",
       "      <th>4995</th>\n",
       "      <td>0</td>\n",
       "      <td>28.0</td>\n",
       "      <td>35700.0</td>\n",
       "      <td>2</td>\n",
       "      <td>0</td>\n",
       "    </tr>\n",
       "    <tr>\n",
       "      <th>4996</th>\n",
       "      <td>0</td>\n",
       "      <td>34.0</td>\n",
       "      <td>52400.0</td>\n",
       "      <td>1</td>\n",
       "      <td>0</td>\n",
       "    </tr>\n",
       "    <tr>\n",
       "      <th>4997</th>\n",
       "      <td>0</td>\n",
       "      <td>20.0</td>\n",
       "      <td>33900.0</td>\n",
       "      <td>2</td>\n",
       "      <td>0</td>\n",
       "    </tr>\n",
       "    <tr>\n",
       "      <th>4998</th>\n",
       "      <td>1</td>\n",
       "      <td>22.0</td>\n",
       "      <td>32700.0</td>\n",
       "      <td>3</td>\n",
       "      <td>0</td>\n",
       "    </tr>\n",
       "    <tr>\n",
       "      <th>4999</th>\n",
       "      <td>1</td>\n",
       "      <td>28.0</td>\n",
       "      <td>40600.0</td>\n",
       "      <td>1</td>\n",
       "      <td>0</td>\n",
       "    </tr>\n",
       "  </tbody>\n",
       "</table>\n",
       "<p>5000 rows × 5 columns</p>\n",
       "</div>"
      ],
      "text/plain": [
       "      Пол  Возраст  Зарплата  Члены семьи  Страховые выплаты\n",
       "0       1     41.0   49600.0            1                  0\n",
       "1       0     46.0   38000.0            1                  1\n",
       "2       0     29.0   21000.0            0                  0\n",
       "3       0     21.0   41700.0            2                  0\n",
       "4       1     28.0   26100.0            0                  0\n",
       "...   ...      ...       ...          ...                ...\n",
       "4995    0     28.0   35700.0            2                  0\n",
       "4996    0     34.0   52400.0            1                  0\n",
       "4997    0     20.0   33900.0            2                  0\n",
       "4998    1     22.0   32700.0            3                  0\n",
       "4999    1     28.0   40600.0            1                  0\n",
       "\n",
       "[5000 rows x 5 columns]"
      ]
     },
     "execution_count": 4,
     "metadata": {},
     "output_type": "execute_result"
    }
   ],
   "source": [
    "data"
   ]
  },
  {
   "cell_type": "code",
   "execution_count": 5,
   "metadata": {},
   "outputs": [
    {
     "name": "stdout",
     "output_type": "stream",
     "text": [
      "<class 'pandas.core.frame.DataFrame'>\n",
      "RangeIndex: 5000 entries, 0 to 4999\n",
      "Data columns (total 5 columns):\n",
      " #   Column             Non-Null Count  Dtype  \n",
      "---  ------             --------------  -----  \n",
      " 0   Пол                5000 non-null   int64  \n",
      " 1   Возраст            5000 non-null   float64\n",
      " 2   Зарплата           5000 non-null   float64\n",
      " 3   Члены семьи        5000 non-null   int64  \n",
      " 4   Страховые выплаты  5000 non-null   int64  \n",
      "dtypes: float64(2), int64(3)\n",
      "memory usage: 195.4 KB\n"
     ]
    }
   ],
   "source": [
    "data.info()"
   ]
  },
  {
   "cell_type": "markdown",
   "metadata": {},
   "source": [
    "Вывод 1.1. Датасет состоит из 5 столбцов и 5000 строк. Он содержит данные о поле, возрасте, зарплате, количестве членов семьи, а также о страховых выплатах. Пропущенных значений в данном датасете нет."
   ]
  },
  {
   "cell_type": "markdown",
   "metadata": {},
   "source": [
    "Переименуем названия стоблцов в англоязычные названия."
   ]
  },
  {
   "cell_type": "code",
   "execution_count": 6,
   "metadata": {},
   "outputs": [],
   "source": [
    "data = data.rename(columns={'Пол': 'gender', \n",
    "                            'Возраст': 'age', \n",
    "                            'Зарплата': 'pay', \n",
    "                            'Члены семьи': 'family_member', \n",
    "                            'Страховые выплаты': 'insurance_payments'})"
   ]
  },
  {
   "cell_type": "markdown",
   "metadata": {},
   "source": [
    "Вывод 1.2. Были изменены названия стоблцов в англоязычные названия."
   ]
  },
  {
   "cell_type": "markdown",
   "metadata": {},
   "source": [
    "Проверим типы данных столбцов."
   ]
  },
  {
   "cell_type": "code",
   "execution_count": 7,
   "metadata": {},
   "outputs": [
    {
     "data": {
      "text/plain": [
       "gender                  int64\n",
       "age                   float64\n",
       "pay                   float64\n",
       "family_member           int64\n",
       "insurance_payments      int64\n",
       "dtype: object"
      ]
     },
     "execution_count": 7,
     "metadata": {},
     "output_type": "execute_result"
    }
   ],
   "source": [
    "data.dtypes"
   ]
  },
  {
   "cell_type": "markdown",
   "metadata": {},
   "source": [
    "Сменим типы данных столбцов age и pay."
   ]
  },
  {
   "cell_type": "code",
   "execution_count": 8,
   "metadata": {},
   "outputs": [
    {
     "data": {
      "text/plain": [
       "gender                int64\n",
       "age                   int64\n",
       "pay                   int64\n",
       "family_member         int64\n",
       "insurance_payments    int64\n",
       "dtype: object"
      ]
     },
     "execution_count": 8,
     "metadata": {},
     "output_type": "execute_result"
    }
   ],
   "source": [
    "data['age'] = data['age'].astype('int')\n",
    "data['pay'] = data['pay'].astype('int')\n",
    "data.dtypes"
   ]
  },
  {
   "cell_type": "markdown",
   "metadata": {},
   "source": [
    "Вывод 1.3. Были сменены типы данных в столбцах age и pay на целочисленный."
   ]
  },
  {
   "cell_type": "markdown",
   "metadata": {},
   "source": [
    "Проанализируем данные и проверим их на выбросы и аномальные значения."
   ]
  },
  {
   "cell_type": "code",
   "execution_count": 9,
   "metadata": {},
   "outputs": [
    {
     "data": {
      "text/html": [
       "<div>\n",
       "<style scoped>\n",
       "    .dataframe tbody tr th:only-of-type {\n",
       "        vertical-align: middle;\n",
       "    }\n",
       "\n",
       "    .dataframe tbody tr th {\n",
       "        vertical-align: top;\n",
       "    }\n",
       "\n",
       "    .dataframe thead th {\n",
       "        text-align: right;\n",
       "    }\n",
       "</style>\n",
       "<table border=\"1\" class=\"dataframe\">\n",
       "  <thead>\n",
       "    <tr style=\"text-align: right;\">\n",
       "      <th></th>\n",
       "      <th>gender</th>\n",
       "      <th>age</th>\n",
       "      <th>pay</th>\n",
       "      <th>family_member</th>\n",
       "      <th>insurance_payments</th>\n",
       "    </tr>\n",
       "  </thead>\n",
       "  <tbody>\n",
       "    <tr>\n",
       "      <th>count</th>\n",
       "      <td>5000.000000</td>\n",
       "      <td>5000.000000</td>\n",
       "      <td>5000.000000</td>\n",
       "      <td>5000.000000</td>\n",
       "      <td>5000.000000</td>\n",
       "    </tr>\n",
       "    <tr>\n",
       "      <th>mean</th>\n",
       "      <td>0.499000</td>\n",
       "      <td>30.952800</td>\n",
       "      <td>39916.359400</td>\n",
       "      <td>1.194200</td>\n",
       "      <td>0.148000</td>\n",
       "    </tr>\n",
       "    <tr>\n",
       "      <th>std</th>\n",
       "      <td>0.500049</td>\n",
       "      <td>8.440807</td>\n",
       "      <td>9900.082063</td>\n",
       "      <td>1.091387</td>\n",
       "      <td>0.463183</td>\n",
       "    </tr>\n",
       "    <tr>\n",
       "      <th>min</th>\n",
       "      <td>0.000000</td>\n",
       "      <td>18.000000</td>\n",
       "      <td>5300.000000</td>\n",
       "      <td>0.000000</td>\n",
       "      <td>0.000000</td>\n",
       "    </tr>\n",
       "    <tr>\n",
       "      <th>25%</th>\n",
       "      <td>0.000000</td>\n",
       "      <td>24.000000</td>\n",
       "      <td>33300.000000</td>\n",
       "      <td>0.000000</td>\n",
       "      <td>0.000000</td>\n",
       "    </tr>\n",
       "    <tr>\n",
       "      <th>50%</th>\n",
       "      <td>0.000000</td>\n",
       "      <td>30.000000</td>\n",
       "      <td>40200.000000</td>\n",
       "      <td>1.000000</td>\n",
       "      <td>0.000000</td>\n",
       "    </tr>\n",
       "    <tr>\n",
       "      <th>75%</th>\n",
       "      <td>1.000000</td>\n",
       "      <td>37.000000</td>\n",
       "      <td>46600.000000</td>\n",
       "      <td>2.000000</td>\n",
       "      <td>0.000000</td>\n",
       "    </tr>\n",
       "    <tr>\n",
       "      <th>max</th>\n",
       "      <td>1.000000</td>\n",
       "      <td>65.000000</td>\n",
       "      <td>79000.000000</td>\n",
       "      <td>6.000000</td>\n",
       "      <td>5.000000</td>\n",
       "    </tr>\n",
       "  </tbody>\n",
       "</table>\n",
       "</div>"
      ],
      "text/plain": [
       "            gender          age           pay  family_member  \\\n",
       "count  5000.000000  5000.000000   5000.000000    5000.000000   \n",
       "mean      0.499000    30.952800  39916.359400       1.194200   \n",
       "std       0.500049     8.440807   9900.082063       1.091387   \n",
       "min       0.000000    18.000000   5300.000000       0.000000   \n",
       "25%       0.000000    24.000000  33300.000000       0.000000   \n",
       "50%       0.000000    30.000000  40200.000000       1.000000   \n",
       "75%       1.000000    37.000000  46600.000000       2.000000   \n",
       "max       1.000000    65.000000  79000.000000       6.000000   \n",
       "\n",
       "       insurance_payments  \n",
       "count         5000.000000  \n",
       "mean             0.148000  \n",
       "std              0.463183  \n",
       "min              0.000000  \n",
       "25%              0.000000  \n",
       "50%              0.000000  \n",
       "75%              0.000000  \n",
       "max              5.000000  "
      ]
     },
     "execution_count": 9,
     "metadata": {},
     "output_type": "execute_result"
    }
   ],
   "source": [
    "data.describe()"
   ]
  },
  {
   "cell_type": "code",
   "execution_count": 10,
   "metadata": {},
   "outputs": [
    {
     "data": {
      "image/png": "[encoded data removed]",
      "text/plain": [
       "<Figure size 1080x720 with 6 Axes>"
      ]
     },
     "metadata": {
      "needs_background": "light"
     },
     "output_type": "display_data"
    }
   ],
   "source": [
    "data.hist(bins=100, figsize=(15,10));"
   ]
  },
  {
   "cell_type": "markdown",
   "metadata": {},
   "source": [
    "Вывод 1.4. \n",
    "- Мужчин и женщин примерно одинаковое количество в выборке. \n",
    "- Возраст в интервале 20-30 лет чаще всего встречается в исследуемых данных, возраст больше 50 лет встречается реже всего. \n",
    "- Зарплата распределена нормально, медиана - 40 тыс. \n",
    "- Чаще всего встречаются клиенты, у которых один член семьи или членов семьи нет, а чем больше членов семьи, тем реже такой клиент встречается. \n",
    "- Вариант, где страховых выплат клиенту не было за последний год, встречается чаще всего, а чем больше выплат было, тем реже такой клиент встречается. \n",
    "- Аномалий и выбросов найдено не было."
   ]
  },
  {
   "cell_type": "markdown",
   "metadata": {},
   "source": [
    "Построим матрицу корреляции."
   ]
  },
  {
   "cell_type": "code",
   "execution_count": 11,
   "metadata": {},
   "outputs": [
    {
     "name": "stdout",
     "output_type": "stream",
     "text": [
      "interval columns not set, guessing: ['gender', 'age', 'pay', 'family_member', 'insurance_payments']\n"
     ]
    },
    {
     "data": {
      "image/png": "[encoded data removed]",
      "text/plain": [
       "<Figure size 720x576 with 2 Axes>"
      ]
     },
     "metadata": {
      "needs_background": "light"
     },
     "output_type": "display_data"
    }
   ],
   "source": [
    "phic_matr = data.phik_matrix()\n",
    "plot_correlation_matrix(phic_matr.values, \n",
    "                        x_labels=phic_matr.columns, \n",
    "                        y_labels=phic_matr.index, \n",
    "                        vmin=0, \n",
    "                        vmax=1, \n",
    "                        color_map=\"Greens\", \n",
    "                        title=r\"correlation $\\phi_K$\", \n",
    "                        fontsize_factor=1.5, \n",
    "                        figsize=(10, 8))\n",
    "plt.tight_layout()"
   ]
  },
  {
   "cell_type": "markdown",
   "metadata": {},
   "source": [
    "Вывод 1.5. Корреляция прослеживается только между возрастом и страховыми выплатами и равна 0,88."
   ]
  },
  {
   "cell_type": "markdown",
   "metadata": {},
   "source": [
    "Проверим количество дубликатов по всему датасету и по датасету без столбца целевого признака."
   ]
  },
  {
   "cell_type": "code",
   "execution_count": 12,
   "metadata": {},
   "outputs": [
    {
     "name": "stdout",
     "output_type": "stream",
     "text": [
      "153\n"
     ]
    },
    {
     "data": {
      "text/plain": [
       "153"
      ]
     },
     "execution_count": 12,
     "metadata": {},
     "output_type": "execute_result"
    }
   ],
   "source": [
    "print(data.duplicated().sum())\n",
    "data.duplicated(subset=data.drop(columns=['insurance_payments']).columns).sum()"
   ]
  },
  {
   "cell_type": "markdown",
   "metadata": {},
   "source": [
    "Удалим дубликаты."
   ]
  },
  {
   "cell_type": "code",
   "execution_count": 13,
   "metadata": {},
   "outputs": [],
   "source": [
    "data = data.drop_duplicates(keep='first').reset_index(drop=True)"
   ]
  },
  {
   "cell_type": "markdown",
   "metadata": {},
   "source": [
    "Проверим, были ли удалены дубликаты."
   ]
  },
  {
   "cell_type": "code",
   "execution_count": 14,
   "metadata": {},
   "outputs": [
    {
     "name": "stdout",
     "output_type": "stream",
     "text": [
      "0\n"
     ]
    },
    {
     "data": {
      "text/plain": [
       "0"
      ]
     },
     "execution_count": 14,
     "metadata": {},
     "output_type": "execute_result"
    }
   ],
   "source": [
    "print(data.duplicated().sum())\n",
    "data.duplicated(subset=data.drop(columns=['insurance_payments']).columns).sum()"
   ]
  },
  {
   "cell_type": "markdown",
   "metadata": {},
   "source": [
    "Вывод 1.6. Были найдены и удалены дубликаты по всему датасету."
   ]
  },
  {
   "cell_type": "markdown",
   "metadata": {},
   "source": [
    "## Умножение матриц"
   ]
  },
  {
   "cell_type": "markdown",
   "metadata": {},
   "source": [
    "Обозначения:\n",
    "\n",
    "- $X$ — матрица признаков (нулевой столбец состоит из единиц)\n",
    "\n",
    "- $y$ — вектор целевого признака\n",
    "\n",
    "- $P$ — матрица, на которую умножаются признаки\n",
    "\n",
    "- $w$ — вектор весов линейной регрессии (нулевой элемент равен сдвигу)"
   ]
  },
  {
   "cell_type": "markdown",
   "metadata": {},
   "source": [
    "Предсказания:\n",
    "\n",
    "$$\n",
    "a = Xw\n",
    "$$\n",
    "\n",
    "Задача обучения:\n",
    "\n",
    "$$\n",
    "w = \\arg\\min_w MSE(Xw, y)\n",
    "$$\n",
    "\n",
    "Формула обучения:\n",
    "\n",
    "$$\n",
    "w = (X^T X)^{-1} X^T y\n",
    "$$"
   ]
  },
  {
   "cell_type": "markdown",
   "metadata": {},
   "source": [
    "\n",
    "Признаки умножают на обратимую матрицу. Изменится ли качество линейной регрессии? \n",
    "\n",
    "Не изменится. \n",
    "\n",
    "**Обоснование:** \n",
    "\n",
    "Пусть преобразованная матрица равняется\n",
    "\n",
    "$$\n",
    "X' = XA,\n",
    "$$\n",
    "где А - обратимая матрица\n",
    "\n",
    "А преобразованный вектор весов равен\n",
    "\n",
    "$$\n",
    "w' = (X'^T X')^{-1} X'^T y = ((XA)^T XA)^{-1} (XA)^T y\n",
    "$$\n",
    "\n",
    "\n",
    "Воспользуемся для преобразования данного выражения следующим свойством транспонированной матрицы:\n",
    "\n",
    "$$\n",
    "(AB)^T = B^T A^T\n",
    "$$\n",
    "\n",
    "Получаем \n",
    "\n",
    "$$\n",
    "w' = (A^T X^T XA)^{-1} A^T X^T y\n",
    "$$\n",
    "\n",
    "Воспользуемся для преобразования данного выражения следующим свойством обратной матрицы:\n",
    "\n",
    "$$\n",
    "(AB)^{-1} = B^{-1} A^{-1}\n",
    "$$\n",
    "\n",
    "Получаем \n",
    "\n",
    "$$\n",
    "w' = A^{-1} (X^T X)^{-1} (A^T)^{-1} A^T X^T y\n",
    "$$\n",
    "\n",
    "Воспользуемся определением обратной матрицы :\n",
    "\n",
    "$$\n",
    "A A^{-1} = A^{-1} A = E\n",
    "$$\n",
    "\n",
    "Получаем \n",
    "\n",
    "$$\n",
    "w' = A^{-1} (X^T X)^{-1} E X^T y \n",
    "$$\n",
    "\n",
    "Единичная матрица не влияет на выражение. Проводим окончательные преобразования.\n",
    "\n",
    "Получаем \n",
    "\n",
    "$$\n",
    "w' = A^{-1} (X^T X)^{-1} X^T y  = A^{-1} w\n",
    "$$\n",
    "\n",
    "Предсказания равняются\n",
    "\n",
    "$$\n",
    "a' = X'w' = X A A^{-1} w = X E w = X w = a\n",
    "$$\n",
    "\n",
    "Что и требовалось доказать."
   ]
  },
  {
   "cell_type": "markdown",
   "metadata": {},
   "source": [
    "## Алгоритм преобразования"
   ]
  },
  {
   "cell_type": "markdown",
   "metadata": {},
   "source": [
    "**Алгоритм**\n",
    "\n",
    "1. Определяем размерность обратимой матрицы A из матрицы признаков X, которая имеет размерность mxn --> получаем размерность nxn обратимой матрицы A.\n",
    "2. Генерируем матрицу A размерностью nxn случайным образом.\n",
    "3. Проверяем, что определитель матрицы A не равен нулю, в обратном случае возвращаемся к пункту 2.\n",
    "4. Умножаем матрицу признаков X на обратимую матрицу A и получаем преобразованную матрицу X'."
   ]
  },
  {
   "cell_type": "markdown",
   "metadata": {},
   "source": [
    "**Обоснование**\n",
    "\n",
    "В пункте 2 мы доказали, что умножив матрицу признаков на обратимую матрицу, качество линейной регрессии не поменятся.\n",
    "\n",
    "1. Матрица обратима тогда и только тогда, когда она невырождена, т.е. ее определитель не равен нулю. Для этого в алгоритме проводится проверка, чтобы определитель был не равен нулю. \n",
    "\n",
    "\n",
    "2. Соотвествие размерности обратимой матрицы A и матрицы признаков X необходимо для того, чтобы их можно было перемножить и получить преобразованную матрицу X', которая должна быть такой же размерности как и матрица признаков X. \n",
    "\n",
    "$$\n",
    "X(mxn)A(nxn) ==> X'(mxn)\n",
    "$$"
   ]
  },
  {
   "cell_type": "markdown",
   "metadata": {},
   "source": [
    "## Проверка алгоритма"
   ]
  },
  {
   "cell_type": "markdown",
   "metadata": {},
   "source": [
    "Реализуем функцию преобразования матрицы признаков."
   ]
  },
  {
   "cell_type": "code",
   "execution_count": 15,
   "metadata": {},
   "outputs": [],
   "source": [
    "def transform_func(X):\n",
    "    flag = True\n",
    "    while flag:\n",
    "        A = np.random.rand(X.shape[1], X.shape[1])\n",
    "        if np.linalg.det(A) != 0:\n",
    "            flag = False\n",
    "    return X.values @ A"
   ]
  },
  {
   "cell_type": "markdown",
   "metadata": {},
   "source": [
    "Разделим датасет на общие признаки и целевой признак."
   ]
  },
  {
   "cell_type": "code",
   "execution_count": 16,
   "metadata": {},
   "outputs": [],
   "source": [
    "features = data.drop(['insurance_payments'], axis = 1) \n",
    "target = data['insurance_payments']"
   ]
  },
  {
   "cell_type": "markdown",
   "metadata": {},
   "source": [
    "Преобразуем признаки и выведем признаки до преобразования и после преобразования."
   ]
  },
  {
   "cell_type": "code",
   "execution_count": 17,
   "metadata": {},
   "outputs": [
    {
     "name": "stdout",
     "output_type": "stream",
     "text": [
      "      gender  age    pay  family_member\n",
      "0          1   41  49600              1\n",
      "1          0   46  38000              1\n",
      "2          0   29  21000              0\n",
      "3          0   21  41700              2\n",
      "4          1   28  26100              0\n",
      "...      ...  ...    ...            ...\n",
      "4842       0   28  35700              2\n",
      "4843       0   34  52400              1\n",
      "4844       0   20  33900              2\n",
      "4845       1   22  32700              3\n",
      "4846       1   28  40600              1\n",
      "\n",
      "[4847 rows x 4 columns]\n",
      "\n",
      "[[47612.18113618  5644.1537637  27054.4260491  40326.80344711]\n",
      " [36487.20091989  4324.79574273 20739.86246138 30903.9717102 ]\n",
      " [20166.23219306  2389.91533299 11464.31272265 17080.34980616]\n",
      " ...\n",
      " [32535.90217131  3857.54231979 18484.13673799 27557.94504593]\n",
      " [31387.49330943  3722.2602452  17833.64569828 26584.46622681]\n",
      " [38969.09773576  4619.86979249 22140.6392082  33006.3252404 ]]\n"
     ]
    }
   ],
   "source": [
    "features_tranform = transform_func(features)\n",
    "print(features)\n",
    "print()\n",
    "print(features_tranform)"
   ]
  },
  {
   "cell_type": "markdown",
   "metadata": {},
   "source": [
    "Масштабирование для линейной регрессии проводить не требуется. Построим модели линейной регрессии для начальных данных и преобразованных данных, проведем кроссвалидацию для 5 фолдов и исследуем метрику R2."
   ]
  },
  {
   "cell_type": "code",
   "execution_count": 18,
   "metadata": {},
   "outputs": [
    {
     "name": "stdout",
     "output_type": "stream",
     "text": [
      "0.42779425809789445\n"
     ]
    }
   ],
   "source": [
    "model = LinearRegression()\n",
    "scores = cross_val_score(model, features, target, scoring='r2', cv=5)\n",
    "print(np.mean(scores))"
   ]
  },
  {
   "cell_type": "code",
   "execution_count": 19,
   "metadata": {},
   "outputs": [
    {
     "name": "stdout",
     "output_type": "stream",
     "text": [
      "0.4277942580979051\n"
     ]
    }
   ],
   "source": [
    "model_tranform = LinearRegression()\n",
    "scores_tranform = cross_val_score(model_tranform, features_tranform, target, scoring='r2', cv=5)\n",
    "print(np.mean(scores_tranform))"
   ]
  },
  {
   "cell_type": "markdown",
   "metadata": {},
   "source": [
    "Метрика R2 одинакова для модели, обученной на начальных данных, и для модели, обученной на преобразованных данных, а значит умножение матрицы признаков на обратимую матрицу не влияет на качество линейной регрессии."
   ]
  }
 ],
 "metadata": {
  "ExecuteTimeLog": [
   {
    "duration": 440,
    "start_time": "2023-09-04T09:40:30.275Z"
   },
   {
    "duration": 3,
    "start_time": "2023-09-04T14:27:09.388Z"
   },
   {
    "duration": 98,
    "start_time": "2023-09-04T14:27:09.890Z"
   },
   {
    "duration": 29,
    "start_time": "2023-09-04T14:28:51.071Z"
   },
   {
    "duration": 16,
    "start_time": "2023-09-04T14:29:14.584Z"
   },
   {
    "duration": 31,
    "start_time": "2023-09-04T14:29:26.176Z"
   },
   {
    "duration": 1006,
    "start_time": "2023-09-04T14:29:37.536Z"
   },
   {
    "duration": 569,
    "start_time": "2023-09-04T14:29:42.040Z"
   },
   {
    "duration": 706,
    "start_time": "2023-09-04T14:29:55.145Z"
   },
   {
    "duration": 846,
    "start_time": "2023-09-04T14:30:48.527Z"
   },
   {
    "duration": 853,
    "start_time": "2023-09-04T14:30:55.608Z"
   },
   {
    "duration": 1273,
    "start_time": "2023-09-04T14:31:11.155Z"
   },
   {
    "duration": 89,
    "start_time": "2023-09-04T14:32:10.754Z"
   },
   {
    "duration": 8,
    "start_time": "2023-09-04T14:32:30.162Z"
   },
   {
    "duration": 6,
    "start_time": "2023-09-04T14:32:35.192Z"
   },
   {
    "duration": 11,
    "start_time": "2023-09-04T14:33:49.569Z"
   },
   {
    "duration": 4,
    "start_time": "2023-09-04T14:39:00.399Z"
   },
   {
    "duration": 32,
    "start_time": "2023-09-04T14:39:01.119Z"
   },
   {
    "duration": 1201,
    "start_time": "2023-09-04T14:39:04.806Z"
   },
   {
    "duration": 15,
    "start_time": "2023-09-04T14:39:06.009Z"
   },
   {
    "duration": 10,
    "start_time": "2023-09-04T14:39:06.838Z"
   },
   {
    "duration": 9,
    "start_time": "2023-09-04T14:39:34.709Z"
   },
   {
    "duration": 113,
    "start_time": "2023-09-04T14:40:07.205Z"
   },
   {
    "duration": 17,
    "start_time": "2023-09-04T14:40:12.830Z"
   },
   {
    "duration": 8,
    "start_time": "2023-09-04T14:41:53.806Z"
   },
   {
    "duration": 13,
    "start_time": "2023-09-04T14:42:10.926Z"
   },
   {
    "duration": 6,
    "start_time": "2023-09-04T14:42:42.518Z"
   },
   {
    "duration": 6,
    "start_time": "2023-09-04T14:45:54.504Z"
   },
   {
    "duration": 22,
    "start_time": "2023-09-04T14:45:55.335Z"
   },
   {
    "duration": 9,
    "start_time": "2023-09-04T14:46:23.094Z"
   },
   {
    "duration": 383,
    "start_time": "2023-09-05T14:30:23.699Z"
   },
   {
    "duration": 133,
    "start_time": "2023-09-05T14:30:24.084Z"
   },
   {
    "duration": 21,
    "start_time": "2023-09-05T14:30:24.219Z"
   },
   {
    "duration": 27,
    "start_time": "2023-09-05T14:30:24.242Z"
   },
   {
    "duration": 27,
    "start_time": "2023-09-05T14:30:24.272Z"
   },
   {
    "duration": 82,
    "start_time": "2023-09-05T14:30:24.301Z"
   },
   {
    "duration": 0,
    "start_time": "2023-09-05T14:30:24.385Z"
   },
   {
    "duration": 0,
    "start_time": "2023-09-05T14:30:24.386Z"
   },
   {
    "duration": 0,
    "start_time": "2023-09-05T14:30:24.388Z"
   },
   {
    "duration": 0,
    "start_time": "2023-09-05T14:30:24.389Z"
   },
   {
    "duration": 0,
    "start_time": "2023-09-05T14:30:24.391Z"
   },
   {
    "duration": 0,
    "start_time": "2023-09-05T14:30:24.393Z"
   },
   {
    "duration": 0,
    "start_time": "2023-09-05T14:30:24.394Z"
   },
   {
    "duration": 3,
    "start_time": "2023-09-05T14:30:33.284Z"
   },
   {
    "duration": 99,
    "start_time": "2023-09-05T14:30:33.289Z"
   },
   {
    "duration": 13,
    "start_time": "2023-09-05T14:30:33.390Z"
   },
   {
    "duration": 14,
    "start_time": "2023-09-05T14:30:33.405Z"
   },
   {
    "duration": 22,
    "start_time": "2023-09-05T14:30:33.421Z"
   },
   {
    "duration": 19,
    "start_time": "2023-09-05T14:30:33.444Z"
   },
   {
    "duration": 0,
    "start_time": "2023-09-05T14:30:33.464Z"
   },
   {
    "duration": 0,
    "start_time": "2023-09-05T14:30:33.466Z"
   },
   {
    "duration": 0,
    "start_time": "2023-09-05T14:30:33.467Z"
   },
   {
    "duration": 0,
    "start_time": "2023-09-05T14:30:33.468Z"
   },
   {
    "duration": 0,
    "start_time": "2023-09-05T14:30:33.469Z"
   },
   {
    "duration": 0,
    "start_time": "2023-09-05T14:30:33.470Z"
   },
   {
    "duration": 0,
    "start_time": "2023-09-05T14:30:33.472Z"
   },
   {
    "duration": 6,
    "start_time": "2023-09-05T14:30:56.216Z"
   },
   {
    "duration": 25,
    "start_time": "2023-09-05T14:30:58.945Z"
   },
   {
    "duration": 1777,
    "start_time": "2023-09-05T14:30:59.697Z"
   },
   {
    "duration": 12,
    "start_time": "2023-09-05T14:31:03.136Z"
   },
   {
    "duration": 9,
    "start_time": "2023-09-05T14:31:04.144Z"
   },
   {
    "duration": 5,
    "start_time": "2023-09-05T14:31:04.832Z"
   },
   {
    "duration": 10,
    "start_time": "2023-09-05T14:31:07.521Z"
   },
   {
    "duration": 6,
    "start_time": "2023-09-05T14:33:03.840Z"
   },
   {
    "duration": 5,
    "start_time": "2023-09-05T14:33:12.977Z"
   },
   {
    "duration": 5,
    "start_time": "2023-09-05T14:33:20.824Z"
   },
   {
    "duration": 5,
    "start_time": "2023-09-05T14:33:21.120Z"
   },
   {
    "duration": 31,
    "start_time": "2023-09-05T14:33:52.944Z"
   },
   {
    "duration": 0,
    "start_time": "2023-09-05T14:33:52.977Z"
   },
   {
    "duration": 19,
    "start_time": "2023-09-05T14:34:15.447Z"
   },
   {
    "duration": 16,
    "start_time": "2023-09-05T14:34:24.959Z"
   },
   {
    "duration": 3,
    "start_time": "2023-09-05T14:42:46.041Z"
   },
   {
    "duration": 95,
    "start_time": "2023-09-05T14:42:46.046Z"
   },
   {
    "duration": 13,
    "start_time": "2023-09-05T14:42:46.142Z"
   },
   {
    "duration": 34,
    "start_time": "2023-09-05T14:42:46.157Z"
   },
   {
    "duration": 5,
    "start_time": "2023-09-05T14:42:46.193Z"
   },
   {
    "duration": 39,
    "start_time": "2023-09-05T14:42:46.199Z"
   },
   {
    "duration": 8,
    "start_time": "2023-09-05T14:42:46.239Z"
   },
   {
    "duration": 16,
    "start_time": "2023-09-05T14:42:46.249Z"
   },
   {
    "duration": 42,
    "start_time": "2023-09-05T14:42:46.266Z"
   },
   {
    "duration": 1311,
    "start_time": "2023-09-05T14:42:46.309Z"
   },
   {
    "duration": 11,
    "start_time": "2023-09-05T14:42:47.621Z"
   },
   {
    "duration": 16,
    "start_time": "2023-09-05T14:42:47.634Z"
   },
   {
    "duration": 8,
    "start_time": "2023-09-05T14:42:47.651Z"
   },
   {
    "duration": 13,
    "start_time": "2023-09-05T14:42:47.661Z"
   },
   {
    "duration": 168,
    "start_time": "2023-09-05T14:42:47.676Z"
   },
   {
    "duration": 4,
    "start_time": "2023-09-05T14:44:20.421Z"
   },
   {
    "duration": 6,
    "start_time": "2023-09-05T14:44:20.893Z"
   },
   {
    "duration": 7,
    "start_time": "2023-09-05T14:44:47.574Z"
   },
   {
    "duration": 3,
    "start_time": "2023-09-05T14:50:19.351Z"
   },
   {
    "duration": 88,
    "start_time": "2023-09-05T14:50:19.356Z"
   },
   {
    "duration": 13,
    "start_time": "2023-09-05T14:50:19.445Z"
   },
   {
    "duration": 24,
    "start_time": "2023-09-05T14:50:19.459Z"
   },
   {
    "duration": 27,
    "start_time": "2023-09-05T14:50:19.486Z"
   },
   {
    "duration": 31,
    "start_time": "2023-09-05T14:50:19.514Z"
   },
   {
    "duration": 41,
    "start_time": "2023-09-05T14:50:19.547Z"
   },
   {
    "duration": 39,
    "start_time": "2023-09-05T14:50:19.590Z"
   },
   {
    "duration": 1232,
    "start_time": "2023-09-05T14:50:19.631Z"
   },
   {
    "duration": 10,
    "start_time": "2023-09-05T14:50:20.865Z"
   },
   {
    "duration": 26,
    "start_time": "2023-09-05T14:50:20.876Z"
   },
   {
    "duration": 5,
    "start_time": "2023-09-05T14:50:20.904Z"
   },
   {
    "duration": 19,
    "start_time": "2023-09-05T14:50:20.911Z"
   },
   {
    "duration": 91,
    "start_time": "2023-09-05T14:50:20.932Z"
   },
   {
    "duration": 3,
    "start_time": "2023-09-05T14:50:39.404Z"
   },
   {
    "duration": 4,
    "start_time": "2023-09-05T15:36:52.399Z"
   },
   {
    "duration": 3,
    "start_time": "2023-09-05T15:38:56.302Z"
   },
   {
    "duration": 6,
    "start_time": "2023-09-05T15:39:12.462Z"
   },
   {
    "duration": 97,
    "start_time": "2023-09-05T15:39:47.462Z"
   },
   {
    "duration": 256,
    "start_time": "2023-09-05T15:39:56.807Z"
   },
   {
    "duration": 4,
    "start_time": "2023-09-05T15:42:41.029Z"
   },
   {
    "duration": 4,
    "start_time": "2023-09-05T15:46:50.069Z"
   },
   {
    "duration": 844,
    "start_time": "2023-09-05T15:50:57.996Z"
   },
   {
    "duration": 15,
    "start_time": "2023-09-05T15:55:15.659Z"
   },
   {
    "duration": 46,
    "start_time": "2023-09-05T15:56:08.363Z"
   },
   {
    "duration": 4,
    "start_time": "2023-09-05T15:56:11.843Z"
   },
   {
    "duration": 11,
    "start_time": "2023-09-05T15:56:12.412Z"
   },
   {
    "duration": 4794,
    "start_time": "2023-09-05T15:56:25.859Z"
   },
   {
    "duration": 5,
    "start_time": "2023-09-05T15:57:01.107Z"
   },
   {
    "duration": 7,
    "start_time": "2023-09-05T15:57:32.107Z"
   },
   {
    "duration": 3,
    "start_time": "2023-09-05T15:57:58.260Z"
   },
   {
    "duration": 4,
    "start_time": "2023-09-05T15:57:59.331Z"
   },
   {
    "duration": 5,
    "start_time": "2023-09-05T15:58:02.027Z"
   },
   {
    "duration": 8,
    "start_time": "2023-09-05T15:58:36.427Z"
   },
   {
    "duration": 7,
    "start_time": "2023-09-05T15:58:46.920Z"
   },
   {
    "duration": 3,
    "start_time": "2023-09-05T16:02:57.706Z"
   },
   {
    "duration": 30,
    "start_time": "2023-09-05T16:05:08.410Z"
   },
   {
    "duration": 33,
    "start_time": "2023-09-05T16:05:28.610Z"
   },
   {
    "duration": 3,
    "start_time": "2023-09-05T16:07:52.600Z"
   },
   {
    "duration": 38,
    "start_time": "2023-09-05T16:08:15.977Z"
   },
   {
    "duration": 39,
    "start_time": "2023-09-05T16:08:58.394Z"
   },
   {
    "duration": 18,
    "start_time": "2023-09-05T16:08:58.881Z"
   },
   {
    "duration": 29,
    "start_time": "2023-09-05T16:09:12.224Z"
   },
   {
    "duration": 18,
    "start_time": "2023-09-05T16:09:12.752Z"
   },
   {
    "duration": 1091,
    "start_time": "2023-09-05T16:15:40.692Z"
   },
   {
    "duration": 70,
    "start_time": "2023-09-05T16:15:41.786Z"
   },
   {
    "duration": 21,
    "start_time": "2023-09-05T16:15:41.858Z"
   },
   {
    "duration": 13,
    "start_time": "2023-09-05T16:15:41.881Z"
   },
   {
    "duration": 4,
    "start_time": "2023-09-05T16:15:41.897Z"
   },
   {
    "duration": 7,
    "start_time": "2023-09-05T16:15:41.903Z"
   },
   {
    "duration": 36,
    "start_time": "2023-09-05T16:15:41.912Z"
   },
   {
    "duration": 26,
    "start_time": "2023-09-05T16:15:41.949Z"
   },
   {
    "duration": 1636,
    "start_time": "2023-09-05T16:15:41.976Z"
   },
   {
    "duration": 11,
    "start_time": "2023-09-05T16:15:43.614Z"
   },
   {
    "duration": 30,
    "start_time": "2023-09-05T16:15:43.627Z"
   },
   {
    "duration": 6,
    "start_time": "2023-09-05T16:15:43.659Z"
   },
   {
    "duration": 11,
    "start_time": "2023-09-05T16:15:43.667Z"
   },
   {
    "duration": 12,
    "start_time": "2023-09-05T16:15:43.681Z"
   },
   {
    "duration": 6,
    "start_time": "2023-09-05T16:15:43.694Z"
   },
   {
    "duration": 11,
    "start_time": "2023-09-05T16:15:43.701Z"
   },
   {
    "duration": 62,
    "start_time": "2023-09-05T16:15:43.714Z"
   },
   {
    "duration": 17,
    "start_time": "2023-09-05T16:15:43.778Z"
   },
   {
    "duration": 2391,
    "start_time": "2023-09-05T16:25:51.253Z"
   },
   {
    "duration": 255,
    "start_time": "2023-09-05T16:25:53.648Z"
   },
   {
    "duration": 42,
    "start_time": "2023-09-05T16:25:53.905Z"
   },
   {
    "duration": 15,
    "start_time": "2023-09-05T16:25:53.954Z"
   },
   {
    "duration": 3,
    "start_time": "2023-09-05T16:25:53.971Z"
   },
   {
    "duration": 12,
    "start_time": "2023-09-05T16:25:53.976Z"
   },
   {
    "duration": 28,
    "start_time": "2023-09-05T16:25:53.989Z"
   },
   {
    "duration": 62,
    "start_time": "2023-09-05T16:25:54.019Z"
   },
   {
    "duration": 2135,
    "start_time": "2023-09-05T16:25:54.083Z"
   },
   {
    "duration": 28,
    "start_time": "2023-09-05T16:25:56.221Z"
   },
   {
    "duration": 16,
    "start_time": "2023-09-05T16:25:56.258Z"
   },
   {
    "duration": 8,
    "start_time": "2023-09-05T16:25:56.277Z"
   },
   {
    "duration": 17,
    "start_time": "2023-09-05T16:25:56.287Z"
   },
   {
    "duration": 25,
    "start_time": "2023-09-05T16:25:56.307Z"
   },
   {
    "duration": 23,
    "start_time": "2023-09-05T16:25:56.337Z"
   },
   {
    "duration": 24,
    "start_time": "2023-09-05T16:25:56.362Z"
   },
   {
    "duration": 62,
    "start_time": "2023-09-05T16:25:56.387Z"
   },
   {
    "duration": 43,
    "start_time": "2023-09-05T16:25:56.523Z"
   },
   {
    "duration": 21,
    "start_time": "2023-09-05T16:58:10.116Z"
   },
   {
    "duration": 1933,
    "start_time": "2023-09-05T16:58:32.536Z"
   },
   {
    "duration": 91,
    "start_time": "2023-09-05T16:58:34.470Z"
   },
   {
    "duration": 17,
    "start_time": "2023-09-05T16:58:34.563Z"
   },
   {
    "duration": 30,
    "start_time": "2023-09-05T16:58:34.582Z"
   },
   {
    "duration": 34,
    "start_time": "2023-09-05T16:58:34.613Z"
   },
   {
    "duration": 6,
    "start_time": "2023-09-05T16:58:34.649Z"
   },
   {
    "duration": 11,
    "start_time": "2023-09-05T16:58:34.657Z"
   },
   {
    "duration": 23,
    "start_time": "2023-09-05T16:58:34.670Z"
   },
   {
    "duration": 1621,
    "start_time": "2023-09-05T16:58:34.695Z"
   },
   {
    "duration": 18,
    "start_time": "2023-09-05T16:58:36.319Z"
   },
   {
    "duration": 20,
    "start_time": "2023-09-05T16:58:36.339Z"
   },
   {
    "duration": 16,
    "start_time": "2023-09-05T16:58:36.361Z"
   },
   {
    "duration": 12,
    "start_time": "2023-09-05T16:58:36.378Z"
   },
   {
    "duration": 21,
    "start_time": "2023-09-05T16:58:36.391Z"
   },
   {
    "duration": 14,
    "start_time": "2023-09-05T16:58:36.414Z"
   },
   {
    "duration": 10,
    "start_time": "2023-09-05T16:58:36.431Z"
   },
   {
    "duration": 30,
    "start_time": "2023-09-05T16:58:36.442Z"
   },
   {
    "duration": 15,
    "start_time": "2023-09-05T16:58:36.473Z"
   },
   {
    "duration": 127,
    "start_time": "2023-09-05T17:55:36.545Z"
   },
   {
    "duration": 3570,
    "start_time": "2023-09-05T17:55:51.768Z"
   },
   {
    "duration": 19,
    "start_time": "2023-09-05T17:55:57.625Z"
   },
   {
    "duration": 90,
    "start_time": "2023-09-05T17:56:00.274Z"
   },
   {
    "duration": 23,
    "start_time": "2023-09-05T17:56:01.045Z"
   },
   {
    "duration": 13,
    "start_time": "2023-09-05T17:56:01.440Z"
   },
   {
    "duration": 4,
    "start_time": "2023-09-05T17:56:02.698Z"
   },
   {
    "duration": 5,
    "start_time": "2023-09-05T17:56:03.689Z"
   },
   {
    "duration": 8,
    "start_time": "2023-09-05T17:56:04.162Z"
   },
   {
    "duration": 24,
    "start_time": "2023-09-05T17:56:04.916Z"
   },
   {
    "duration": 1333,
    "start_time": "2023-09-05T17:56:05.107Z"
   },
   {
    "duration": 86,
    "start_time": "2023-09-05T17:56:06.452Z"
   },
   {
    "duration": 844,
    "start_time": "2023-09-05T17:56:11.659Z"
   },
   {
    "duration": 4,
    "start_time": "2023-09-05T17:56:45.388Z"
   },
   {
    "duration": 574,
    "start_time": "2023-09-05T17:56:50.557Z"
   },
   {
    "duration": 5,
    "start_time": "2023-09-05T18:15:26.661Z"
   },
   {
    "duration": 1586,
    "start_time": "2023-09-05T18:15:26.669Z"
   },
   {
    "duration": 80,
    "start_time": "2023-09-05T18:15:28.261Z"
   },
   {
    "duration": 24,
    "start_time": "2023-09-05T18:15:28.342Z"
   },
   {
    "duration": 13,
    "start_time": "2023-09-05T18:15:28.369Z"
   },
   {
    "duration": 24,
    "start_time": "2023-09-05T18:15:28.383Z"
   },
   {
    "duration": 17,
    "start_time": "2023-09-05T18:15:28.409Z"
   },
   {
    "duration": 18,
    "start_time": "2023-09-05T18:15:28.427Z"
   },
   {
    "duration": 33,
    "start_time": "2023-09-05T18:15:28.449Z"
   },
   {
    "duration": 1412,
    "start_time": "2023-09-05T18:15:28.484Z"
   },
   {
    "duration": 745,
    "start_time": "2023-09-05T18:15:29.897Z"
   },
   {
    "duration": 19,
    "start_time": "2023-09-05T18:15:30.645Z"
   },
   {
    "duration": 33,
    "start_time": "2023-09-05T18:15:30.666Z"
   },
   {
    "duration": 42,
    "start_time": "2023-09-05T18:15:30.702Z"
   },
   {
    "duration": 41,
    "start_time": "2023-09-05T18:15:30.746Z"
   },
   {
    "duration": 42,
    "start_time": "2023-09-05T18:15:30.789Z"
   },
   {
    "duration": 42,
    "start_time": "2023-09-05T18:15:30.833Z"
   },
   {
    "duration": 57,
    "start_time": "2023-09-05T18:15:30.877Z"
   },
   {
    "duration": 32,
    "start_time": "2023-09-05T18:15:30.936Z"
   },
   {
    "duration": 3,
    "start_time": "2023-09-05T18:45:44.640Z"
   },
   {
    "duration": 2568,
    "start_time": "2023-09-05T18:45:44.645Z"
   },
   {
    "duration": 0,
    "start_time": "2023-09-05T18:45:47.216Z"
   },
   {
    "duration": 0,
    "start_time": "2023-09-05T18:45:47.217Z"
   },
   {
    "duration": 0,
    "start_time": "2023-09-05T18:45:47.219Z"
   },
   {
    "duration": 0,
    "start_time": "2023-09-05T18:45:47.220Z"
   },
   {
    "duration": 0,
    "start_time": "2023-09-05T18:45:47.221Z"
   },
   {
    "duration": 0,
    "start_time": "2023-09-05T18:45:47.223Z"
   },
   {
    "duration": 0,
    "start_time": "2023-09-05T18:45:47.224Z"
   },
   {
    "duration": 0,
    "start_time": "2023-09-05T18:45:47.225Z"
   },
   {
    "duration": 0,
    "start_time": "2023-09-05T18:45:47.227Z"
   },
   {
    "duration": 0,
    "start_time": "2023-09-05T18:45:47.228Z"
   },
   {
    "duration": 0,
    "start_time": "2023-09-05T18:45:47.245Z"
   },
   {
    "duration": 0,
    "start_time": "2023-09-05T18:45:47.246Z"
   },
   {
    "duration": 0,
    "start_time": "2023-09-05T18:45:47.247Z"
   },
   {
    "duration": 0,
    "start_time": "2023-09-05T18:45:47.249Z"
   },
   {
    "duration": 0,
    "start_time": "2023-09-05T18:45:47.250Z"
   },
   {
    "duration": 0,
    "start_time": "2023-09-05T18:45:47.252Z"
   },
   {
    "duration": 0,
    "start_time": "2023-09-05T18:45:47.253Z"
   },
   {
    "duration": 3161,
    "start_time": "2023-09-05T18:46:17.722Z"
   },
   {
    "duration": 2172,
    "start_time": "2023-09-05T18:46:20.886Z"
   },
   {
    "duration": 135,
    "start_time": "2023-09-05T18:46:23.059Z"
   },
   {
    "duration": 18,
    "start_time": "2023-09-05T18:46:23.196Z"
   },
   {
    "duration": 11,
    "start_time": "2023-09-05T18:46:23.215Z"
   },
   {
    "duration": 6,
    "start_time": "2023-09-05T18:46:23.227Z"
   },
   {
    "duration": 20,
    "start_time": "2023-09-05T18:46:23.234Z"
   },
   {
    "duration": 10,
    "start_time": "2023-09-05T18:46:23.256Z"
   },
   {
    "duration": 21,
    "start_time": "2023-09-05T18:46:23.268Z"
   },
   {
    "duration": 1261,
    "start_time": "2023-09-05T18:46:23.291Z"
   },
   {
    "duration": 590,
    "start_time": "2023-09-05T18:46:24.554Z"
   },
   {
    "duration": 8,
    "start_time": "2023-09-05T18:46:25.146Z"
   },
   {
    "duration": 4,
    "start_time": "2023-09-05T18:46:25.155Z"
   },
   {
    "duration": 10,
    "start_time": "2023-09-05T18:46:25.160Z"
   },
   {
    "duration": 3,
    "start_time": "2023-09-05T18:46:25.171Z"
   },
   {
    "duration": 30,
    "start_time": "2023-09-05T18:46:25.175Z"
   },
   {
    "duration": 12,
    "start_time": "2023-09-05T18:46:25.207Z"
   },
   {
    "duration": 29,
    "start_time": "2023-09-05T18:46:25.220Z"
   },
   {
    "duration": 14,
    "start_time": "2023-09-05T18:46:25.250Z"
   },
   {
    "duration": 2260,
    "start_time": "2023-09-05T20:58:01.239Z"
   },
   {
    "duration": 2278,
    "start_time": "2023-09-05T20:58:03.502Z"
   },
   {
    "duration": 89,
    "start_time": "2023-09-05T20:58:05.782Z"
   },
   {
    "duration": 15,
    "start_time": "2023-09-05T20:58:05.873Z"
   },
   {
    "duration": 9,
    "start_time": "2023-09-05T20:58:05.890Z"
   },
   {
    "duration": 4,
    "start_time": "2023-09-05T20:58:05.900Z"
   },
   {
    "duration": 7,
    "start_time": "2023-09-05T20:58:05.905Z"
   },
   {
    "duration": 7,
    "start_time": "2023-09-05T20:58:05.914Z"
   },
   {
    "duration": 20,
    "start_time": "2023-09-05T20:58:05.923Z"
   },
   {
    "duration": 1228,
    "start_time": "2023-09-05T20:58:05.945Z"
   },
   {
    "duration": 620,
    "start_time": "2023-09-05T20:58:07.174Z"
   },
   {
    "duration": 11,
    "start_time": "2023-09-05T20:58:07.796Z"
   },
   {
    "duration": 6,
    "start_time": "2023-09-05T20:58:07.809Z"
   },
   {
    "duration": 37,
    "start_time": "2023-09-05T20:58:07.817Z"
   },
   {
    "duration": 4,
    "start_time": "2023-09-05T20:58:07.857Z"
   },
   {
    "duration": 5,
    "start_time": "2023-09-05T20:58:07.863Z"
   },
   {
    "duration": 8,
    "start_time": "2023-09-05T20:58:07.869Z"
   },
   {
    "duration": 27,
    "start_time": "2023-09-05T20:58:07.879Z"
   },
   {
    "duration": 37,
    "start_time": "2023-09-05T20:58:07.907Z"
   },
   {
    "duration": 3199,
    "start_time": "2023-09-06T10:27:46.452Z"
   },
   {
    "duration": 2509,
    "start_time": "2023-09-06T10:27:49.654Z"
   },
   {
    "duration": 136,
    "start_time": "2023-09-06T10:27:52.165Z"
   },
   {
    "duration": 17,
    "start_time": "2023-09-06T10:27:52.304Z"
   },
   {
    "duration": 14,
    "start_time": "2023-09-06T10:27:52.323Z"
   },
   {
    "duration": 4,
    "start_time": "2023-09-06T10:27:52.339Z"
   },
   {
    "duration": 6,
    "start_time": "2023-09-06T10:27:52.345Z"
   },
   {
    "duration": 8,
    "start_time": "2023-09-06T10:27:52.352Z"
   },
   {
    "duration": 21,
    "start_time": "2023-09-06T10:27:52.362Z"
   },
   {
    "duration": 1269,
    "start_time": "2023-09-06T10:27:52.385Z"
   },
   {
    "duration": 767,
    "start_time": "2023-09-06T10:27:53.656Z"
   },
   {
    "duration": 19,
    "start_time": "2023-09-06T10:27:54.425Z"
   },
   {
    "duration": 5,
    "start_time": "2023-09-06T10:27:54.446Z"
   },
   {
    "duration": 10,
    "start_time": "2023-09-06T10:27:54.452Z"
   },
   {
    "duration": 4,
    "start_time": "2023-09-06T10:27:54.463Z"
   },
   {
    "duration": 18,
    "start_time": "2023-09-06T10:27:54.468Z"
   },
   {
    "duration": 16,
    "start_time": "2023-09-06T10:27:54.488Z"
   },
   {
    "duration": 43,
    "start_time": "2023-09-06T10:27:54.506Z"
   },
   {
    "duration": 17,
    "start_time": "2023-09-06T10:27:54.551Z"
   }
  ],
  "kernelspec": {
   "display_name": "Python 3 (ipykernel)",
   "language": "python",
   "name": "python3"
  },
  "language_info": {
   "codemirror_mode": {
    "name": "ipython",
    "version": 3
   },
   "file_extension": ".py",
   "mimetype": "text/x-python",
   "name": "python",
   "nbconvert_exporter": "python",
   "pygments_lexer": "ipython3",
   "version": "3.9.13"
  },
  "toc": {
   "base_numbering": 1,
   "nav_menu": {},
   "number_sections": true,
   "sideBar": true,
   "skip_h1_title": true,
   "title_cell": "Содержание",
   "title_sidebar": "Contents",
   "toc_cell": true,
   "toc_position": {},
   "toc_section_display": true,
   "toc_window_display": true
  }
 },
 "nbformat": 4,
 "nbformat_minor": 2
}
