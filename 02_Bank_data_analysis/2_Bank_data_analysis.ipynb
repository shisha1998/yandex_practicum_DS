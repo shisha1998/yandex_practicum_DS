{
 "cells": [
  {
   "cell_type": "markdown",
   "id": "65c60395",
   "metadata": {
    "deletable": false,
    "editable": false,
    "id": "c81daeeb"
   },
   "source": [
    "# Исследование надежности заемщиков\n"
   ]
  },
  {
   "cell_type": "markdown",
   "id": "5d86c0e8",
   "metadata": {
    "id": "827c20bf"
   },
   "source": [
    "На основе статистики о платёжеспособности клиентов необходимо исследовать влияет ли семейное положение и количество детей клиента на факт возврата кредита в срок.\n",
    "\n",
    "**Описание данных**\n",
    "\n",
    "- children — количество детей в семье\n",
    "- days_employed — общий трудовой стаж в днях\n",
    "- dob_years — возраст клиента в годах\n",
    "- education — уровень образования клиента\n",
    "- education_id — идентификатор уровня образования\n",
    "- family_status — семейное положение\n",
    "- family_status_id — идентификатор семейного положения\n",
    "- gender — пол клиента\n",
    "- income_type — тип занятости\n",
    "- debt — имел ли задолженность по возврату кредитов\n",
    "- total_income — ежемесячный доход\n",
    "- purpose — цель получения кредита"
   ]
  },
  {
   "cell_type": "markdown",
   "id": "ecd65824",
   "metadata": {
    "id": "744d7639"
   },
   "source": [
    "## Откроем таблицу и изучим общую информацию о данных"
   ]
  },
  {
   "cell_type": "markdown",
   "id": "609ae47b",
   "metadata": {
    "id": "e7a14c31"
   },
   "source": [
    "**Импортируем библиотеку pandas. Считаем данные из csv-файла в датафрейм и сохраним в переменную `data`.**"
   ]
  },
  {
   "cell_type": "code",
   "execution_count": 131,
   "id": "5a369b79",
   "metadata": {
    "deletable": false,
    "id": "7bcf75c9"
   },
   "outputs": [],
   "source": [
    "import pandas as pd\n",
    "\n",
    "try:\n",
    "    data = pd.read_csv('/datasets/data.csv')\n",
    "except:\n",
    "    data = pd.read_csv('https://code.s3.yandex.net/datasets/data.csv')"
   ]
  },
  {
   "cell_type": "markdown",
   "id": "6036cbac",
   "metadata": {
    "id": "b8038fe3"
   },
   "source": [
    "**Выведем первые 20 строчек датафрейма `data` на экран.**"
   ]
  },
  {
   "cell_type": "code",
   "execution_count": 132,
   "id": "7fb4ecd5",
   "metadata": {
    "deletable": false,
    "id": "2a7cab99",
    "outputId": "1a8f3ef2-d323-4ec2-ddf7-89670b5944c4"
   },
   "outputs": [
    {
     "data": {
      "text/html": [
       "<div>\n",
       "<style scoped>\n",
       "    .dataframe tbody tr th:only-of-type {\n",
       "        vertical-align: middle;\n",
       "    }\n",
       "\n",
       "    .dataframe tbody tr th {\n",
       "        vertical-align: top;\n",
       "    }\n",
       "\n",
       "    .dataframe thead th {\n",
       "        text-align: right;\n",
       "    }\n",
       "</style>\n",
       "<table border=\"1\" class=\"dataframe\">\n",
       "  <thead>\n",
       "    <tr style=\"text-align: right;\">\n",
       "      <th></th>\n",
       "      <th>children</th>\n",
       "      <th>days_employed</th>\n",
       "      <th>dob_years</th>\n",
       "      <th>education</th>\n",
       "      <th>education_id</th>\n",
       "      <th>family_status</th>\n",
       "      <th>family_status_id</th>\n",
       "      <th>gender</th>\n",
       "      <th>income_type</th>\n",
       "      <th>debt</th>\n",
       "      <th>total_income</th>\n",
       "      <th>purpose</th>\n",
       "    </tr>\n",
       "  </thead>\n",
       "  <tbody>\n",
       "    <tr>\n",
       "      <th>0</th>\n",
       "      <td>1</td>\n",
       "      <td>-8437.673028</td>\n",
       "      <td>42</td>\n",
       "      <td>высшее</td>\n",
       "      <td>0</td>\n",
       "      <td>женат / замужем</td>\n",
       "      <td>0</td>\n",
       "      <td>F</td>\n",
       "      <td>сотрудник</td>\n",
       "      <td>0</td>\n",
       "      <td>253875.639453</td>\n",
       "      <td>покупка жилья</td>\n",
       "    </tr>\n",
       "    <tr>\n",
       "      <th>1</th>\n",
       "      <td>1</td>\n",
       "      <td>-4024.803754</td>\n",
       "      <td>36</td>\n",
       "      <td>среднее</td>\n",
       "      <td>1</td>\n",
       "      <td>женат / замужем</td>\n",
       "      <td>0</td>\n",
       "      <td>F</td>\n",
       "      <td>сотрудник</td>\n",
       "      <td>0</td>\n",
       "      <td>112080.014102</td>\n",
       "      <td>приобретение автомобиля</td>\n",
       "    </tr>\n",
       "    <tr>\n",
       "      <th>2</th>\n",
       "      <td>0</td>\n",
       "      <td>-5623.422610</td>\n",
       "      <td>33</td>\n",
       "      <td>Среднее</td>\n",
       "      <td>1</td>\n",
       "      <td>женат / замужем</td>\n",
       "      <td>0</td>\n",
       "      <td>M</td>\n",
       "      <td>сотрудник</td>\n",
       "      <td>0</td>\n",
       "      <td>145885.952297</td>\n",
       "      <td>покупка жилья</td>\n",
       "    </tr>\n",
       "    <tr>\n",
       "      <th>3</th>\n",
       "      <td>3</td>\n",
       "      <td>-4124.747207</td>\n",
       "      <td>32</td>\n",
       "      <td>среднее</td>\n",
       "      <td>1</td>\n",
       "      <td>женат / замужем</td>\n",
       "      <td>0</td>\n",
       "      <td>M</td>\n",
       "      <td>сотрудник</td>\n",
       "      <td>0</td>\n",
       "      <td>267628.550329</td>\n",
       "      <td>дополнительное образование</td>\n",
       "    </tr>\n",
       "    <tr>\n",
       "      <th>4</th>\n",
       "      <td>0</td>\n",
       "      <td>340266.072047</td>\n",
       "      <td>53</td>\n",
       "      <td>среднее</td>\n",
       "      <td>1</td>\n",
       "      <td>гражданский брак</td>\n",
       "      <td>1</td>\n",
       "      <td>F</td>\n",
       "      <td>пенсионер</td>\n",
       "      <td>0</td>\n",
       "      <td>158616.077870</td>\n",
       "      <td>сыграть свадьбу</td>\n",
       "    </tr>\n",
       "    <tr>\n",
       "      <th>5</th>\n",
       "      <td>0</td>\n",
       "      <td>-926.185831</td>\n",
       "      <td>27</td>\n",
       "      <td>высшее</td>\n",
       "      <td>0</td>\n",
       "      <td>гражданский брак</td>\n",
       "      <td>1</td>\n",
       "      <td>M</td>\n",
       "      <td>компаньон</td>\n",
       "      <td>0</td>\n",
       "      <td>255763.565419</td>\n",
       "      <td>покупка жилья</td>\n",
       "    </tr>\n",
       "    <tr>\n",
       "      <th>6</th>\n",
       "      <td>0</td>\n",
       "      <td>-2879.202052</td>\n",
       "      <td>43</td>\n",
       "      <td>высшее</td>\n",
       "      <td>0</td>\n",
       "      <td>женат / замужем</td>\n",
       "      <td>0</td>\n",
       "      <td>F</td>\n",
       "      <td>компаньон</td>\n",
       "      <td>0</td>\n",
       "      <td>240525.971920</td>\n",
       "      <td>операции с жильем</td>\n",
       "    </tr>\n",
       "    <tr>\n",
       "      <th>7</th>\n",
       "      <td>0</td>\n",
       "      <td>-152.779569</td>\n",
       "      <td>50</td>\n",
       "      <td>СРЕДНЕЕ</td>\n",
       "      <td>1</td>\n",
       "      <td>женат / замужем</td>\n",
       "      <td>0</td>\n",
       "      <td>M</td>\n",
       "      <td>сотрудник</td>\n",
       "      <td>0</td>\n",
       "      <td>135823.934197</td>\n",
       "      <td>образование</td>\n",
       "    </tr>\n",
       "    <tr>\n",
       "      <th>8</th>\n",
       "      <td>2</td>\n",
       "      <td>-6929.865299</td>\n",
       "      <td>35</td>\n",
       "      <td>ВЫСШЕЕ</td>\n",
       "      <td>0</td>\n",
       "      <td>гражданский брак</td>\n",
       "      <td>1</td>\n",
       "      <td>F</td>\n",
       "      <td>сотрудник</td>\n",
       "      <td>0</td>\n",
       "      <td>95856.832424</td>\n",
       "      <td>на проведение свадьбы</td>\n",
       "    </tr>\n",
       "    <tr>\n",
       "      <th>9</th>\n",
       "      <td>0</td>\n",
       "      <td>-2188.756445</td>\n",
       "      <td>41</td>\n",
       "      <td>среднее</td>\n",
       "      <td>1</td>\n",
       "      <td>женат / замужем</td>\n",
       "      <td>0</td>\n",
       "      <td>M</td>\n",
       "      <td>сотрудник</td>\n",
       "      <td>0</td>\n",
       "      <td>144425.938277</td>\n",
       "      <td>покупка жилья для семьи</td>\n",
       "    </tr>\n",
       "    <tr>\n",
       "      <th>10</th>\n",
       "      <td>2</td>\n",
       "      <td>-4171.483647</td>\n",
       "      <td>36</td>\n",
       "      <td>высшее</td>\n",
       "      <td>0</td>\n",
       "      <td>женат / замужем</td>\n",
       "      <td>0</td>\n",
       "      <td>M</td>\n",
       "      <td>компаньон</td>\n",
       "      <td>0</td>\n",
       "      <td>113943.491460</td>\n",
       "      <td>покупка недвижимости</td>\n",
       "    </tr>\n",
       "    <tr>\n",
       "      <th>11</th>\n",
       "      <td>0</td>\n",
       "      <td>-792.701887</td>\n",
       "      <td>40</td>\n",
       "      <td>среднее</td>\n",
       "      <td>1</td>\n",
       "      <td>женат / замужем</td>\n",
       "      <td>0</td>\n",
       "      <td>F</td>\n",
       "      <td>сотрудник</td>\n",
       "      <td>0</td>\n",
       "      <td>77069.234271</td>\n",
       "      <td>покупка коммерческой недвижимости</td>\n",
       "    </tr>\n",
       "    <tr>\n",
       "      <th>12</th>\n",
       "      <td>0</td>\n",
       "      <td>NaN</td>\n",
       "      <td>65</td>\n",
       "      <td>среднее</td>\n",
       "      <td>1</td>\n",
       "      <td>гражданский брак</td>\n",
       "      <td>1</td>\n",
       "      <td>M</td>\n",
       "      <td>пенсионер</td>\n",
       "      <td>0</td>\n",
       "      <td>NaN</td>\n",
       "      <td>сыграть свадьбу</td>\n",
       "    </tr>\n",
       "    <tr>\n",
       "      <th>13</th>\n",
       "      <td>0</td>\n",
       "      <td>-1846.641941</td>\n",
       "      <td>54</td>\n",
       "      <td>неоконченное высшее</td>\n",
       "      <td>2</td>\n",
       "      <td>женат / замужем</td>\n",
       "      <td>0</td>\n",
       "      <td>F</td>\n",
       "      <td>сотрудник</td>\n",
       "      <td>0</td>\n",
       "      <td>130458.228857</td>\n",
       "      <td>приобретение автомобиля</td>\n",
       "    </tr>\n",
       "    <tr>\n",
       "      <th>14</th>\n",
       "      <td>0</td>\n",
       "      <td>-1844.956182</td>\n",
       "      <td>56</td>\n",
       "      <td>высшее</td>\n",
       "      <td>0</td>\n",
       "      <td>гражданский брак</td>\n",
       "      <td>1</td>\n",
       "      <td>F</td>\n",
       "      <td>компаньон</td>\n",
       "      <td>1</td>\n",
       "      <td>165127.911772</td>\n",
       "      <td>покупка жилой недвижимости</td>\n",
       "    </tr>\n",
       "    <tr>\n",
       "      <th>15</th>\n",
       "      <td>1</td>\n",
       "      <td>-972.364419</td>\n",
       "      <td>26</td>\n",
       "      <td>среднее</td>\n",
       "      <td>1</td>\n",
       "      <td>женат / замужем</td>\n",
       "      <td>0</td>\n",
       "      <td>F</td>\n",
       "      <td>сотрудник</td>\n",
       "      <td>0</td>\n",
       "      <td>116820.904450</td>\n",
       "      <td>строительство собственной недвижимости</td>\n",
       "    </tr>\n",
       "    <tr>\n",
       "      <th>16</th>\n",
       "      <td>0</td>\n",
       "      <td>-1719.934226</td>\n",
       "      <td>35</td>\n",
       "      <td>среднее</td>\n",
       "      <td>1</td>\n",
       "      <td>женат / замужем</td>\n",
       "      <td>0</td>\n",
       "      <td>F</td>\n",
       "      <td>сотрудник</td>\n",
       "      <td>0</td>\n",
       "      <td>289202.704229</td>\n",
       "      <td>недвижимость</td>\n",
       "    </tr>\n",
       "    <tr>\n",
       "      <th>17</th>\n",
       "      <td>0</td>\n",
       "      <td>-2369.999720</td>\n",
       "      <td>33</td>\n",
       "      <td>высшее</td>\n",
       "      <td>0</td>\n",
       "      <td>гражданский брак</td>\n",
       "      <td>1</td>\n",
       "      <td>M</td>\n",
       "      <td>сотрудник</td>\n",
       "      <td>0</td>\n",
       "      <td>90410.586745</td>\n",
       "      <td>строительство недвижимости</td>\n",
       "    </tr>\n",
       "    <tr>\n",
       "      <th>18</th>\n",
       "      <td>0</td>\n",
       "      <td>400281.136913</td>\n",
       "      <td>53</td>\n",
       "      <td>среднее</td>\n",
       "      <td>1</td>\n",
       "      <td>вдовец / вдова</td>\n",
       "      <td>2</td>\n",
       "      <td>F</td>\n",
       "      <td>пенсионер</td>\n",
       "      <td>0</td>\n",
       "      <td>56823.777243</td>\n",
       "      <td>на покупку подержанного автомобиля</td>\n",
       "    </tr>\n",
       "    <tr>\n",
       "      <th>19</th>\n",
       "      <td>0</td>\n",
       "      <td>-10038.818549</td>\n",
       "      <td>48</td>\n",
       "      <td>СРЕДНЕЕ</td>\n",
       "      <td>1</td>\n",
       "      <td>в разводе</td>\n",
       "      <td>3</td>\n",
       "      <td>F</td>\n",
       "      <td>сотрудник</td>\n",
       "      <td>0</td>\n",
       "      <td>242831.107982</td>\n",
       "      <td>на покупку своего автомобиля</td>\n",
       "    </tr>\n",
       "  </tbody>\n",
       "</table>\n",
       "</div>"
      ],
      "text/plain": [
       "    children  days_employed  dob_years            education  education_id  \\\n",
       "0          1   -8437.673028         42               высшее             0   \n",
       "1          1   -4024.803754         36              среднее             1   \n",
       "2          0   -5623.422610         33              Среднее             1   \n",
       "3          3   -4124.747207         32              среднее             1   \n",
       "4          0  340266.072047         53              среднее             1   \n",
       "5          0    -926.185831         27               высшее             0   \n",
       "6          0   -2879.202052         43               высшее             0   \n",
       "7          0    -152.779569         50              СРЕДНЕЕ             1   \n",
       "8          2   -6929.865299         35               ВЫСШЕЕ             0   \n",
       "9          0   -2188.756445         41              среднее             1   \n",
       "10         2   -4171.483647         36               высшее             0   \n",
       "11         0    -792.701887         40              среднее             1   \n",
       "12         0            NaN         65              среднее             1   \n",
       "13         0   -1846.641941         54  неоконченное высшее             2   \n",
       "14         0   -1844.956182         56               высшее             0   \n",
       "15         1    -972.364419         26              среднее             1   \n",
       "16         0   -1719.934226         35              среднее             1   \n",
       "17         0   -2369.999720         33               высшее             0   \n",
       "18         0  400281.136913         53              среднее             1   \n",
       "19         0  -10038.818549         48              СРЕДНЕЕ             1   \n",
       "\n",
       "       family_status  family_status_id gender income_type  debt  \\\n",
       "0    женат / замужем                 0      F   сотрудник     0   \n",
       "1    женат / замужем                 0      F   сотрудник     0   \n",
       "2    женат / замужем                 0      M   сотрудник     0   \n",
       "3    женат / замужем                 0      M   сотрудник     0   \n",
       "4   гражданский брак                 1      F   пенсионер     0   \n",
       "5   гражданский брак                 1      M   компаньон     0   \n",
       "6    женат / замужем                 0      F   компаньон     0   \n",
       "7    женат / замужем                 0      M   сотрудник     0   \n",
       "8   гражданский брак                 1      F   сотрудник     0   \n",
       "9    женат / замужем                 0      M   сотрудник     0   \n",
       "10   женат / замужем                 0      M   компаньон     0   \n",
       "11   женат / замужем                 0      F   сотрудник     0   \n",
       "12  гражданский брак                 1      M   пенсионер     0   \n",
       "13   женат / замужем                 0      F   сотрудник     0   \n",
       "14  гражданский брак                 1      F   компаньон     1   \n",
       "15   женат / замужем                 0      F   сотрудник     0   \n",
       "16   женат / замужем                 0      F   сотрудник     0   \n",
       "17  гражданский брак                 1      M   сотрудник     0   \n",
       "18    вдовец / вдова                 2      F   пенсионер     0   \n",
       "19         в разводе                 3      F   сотрудник     0   \n",
       "\n",
       "     total_income                                 purpose  \n",
       "0   253875.639453                           покупка жилья  \n",
       "1   112080.014102                 приобретение автомобиля  \n",
       "2   145885.952297                           покупка жилья  \n",
       "3   267628.550329              дополнительное образование  \n",
       "4   158616.077870                         сыграть свадьбу  \n",
       "5   255763.565419                           покупка жилья  \n",
       "6   240525.971920                       операции с жильем  \n",
       "7   135823.934197                             образование  \n",
       "8    95856.832424                   на проведение свадьбы  \n",
       "9   144425.938277                 покупка жилья для семьи  \n",
       "10  113943.491460                    покупка недвижимости  \n",
       "11   77069.234271       покупка коммерческой недвижимости  \n",
       "12            NaN                         сыграть свадьбу  \n",
       "13  130458.228857                 приобретение автомобиля  \n",
       "14  165127.911772              покупка жилой недвижимости  \n",
       "15  116820.904450  строительство собственной недвижимости  \n",
       "16  289202.704229                            недвижимость  \n",
       "17   90410.586745              строительство недвижимости  \n",
       "18   56823.777243      на покупку подержанного автомобиля  \n",
       "19  242831.107982            на покупку своего автомобиля  "
      ]
     },
     "execution_count": 132,
     "metadata": {},
     "output_type": "execute_result"
    }
   ],
   "source": [
    "data.head(20)"
   ]
  },
  {
   "cell_type": "markdown",
   "id": "ea78e480",
   "metadata": {
    "id": "1c12e233"
   },
   "source": [
    "**Выведем основную информацию о датафрейме с помощью метода `info()`.**"
   ]
  },
  {
   "cell_type": "code",
   "execution_count": 133,
   "id": "ac06639e",
   "metadata": {
    "deletable": false,
    "id": "2b757bca",
    "outputId": "15376089-8dad-46c9-b520-c05248d43158"
   },
   "outputs": [
    {
     "name": "stdout",
     "output_type": "stream",
     "text": [
      "<class 'pandas.core.frame.DataFrame'>\n",
      "RangeIndex: 21525 entries, 0 to 21524\n",
      "Data columns (total 12 columns):\n",
      " #   Column            Non-Null Count  Dtype  \n",
      "---  ------            --------------  -----  \n",
      " 0   children          21525 non-null  int64  \n",
      " 1   days_employed     19351 non-null  float64\n",
      " 2   dob_years         21525 non-null  int64  \n",
      " 3   education         21525 non-null  object \n",
      " 4   education_id      21525 non-null  int64  \n",
      " 5   family_status     21525 non-null  object \n",
      " 6   family_status_id  21525 non-null  int64  \n",
      " 7   gender            21525 non-null  object \n",
      " 8   income_type       21525 non-null  object \n",
      " 9   debt              21525 non-null  int64  \n",
      " 10  total_income      19351 non-null  float64\n",
      " 11  purpose           21525 non-null  object \n",
      "dtypes: float64(2), int64(5), object(5)\n",
      "memory usage: 2.0+ MB\n"
     ]
    }
   ],
   "source": [
    "data.info()"
   ]
  },
  {
   "cell_type": "markdown",
   "id": "e79cafb7",
   "metadata": {
    "id": "333ec665"
   },
   "source": [
    "## Предобработка данных"
   ]
  },
  {
   "cell_type": "markdown",
   "id": "98386d9c",
   "metadata": {
    "id": "02d92d53"
   },
   "source": [
    "### Удаление пропусков"
   ]
  },
  {
   "cell_type": "markdown",
   "id": "e31a74b4",
   "metadata": {
    "id": "cd84967c"
   },
   "source": [
    "**Выведем количество пропущенных значений для каждого столбца. Используем комбинацию двух методов.**"
   ]
  },
  {
   "cell_type": "code",
   "execution_count": 134,
   "id": "ceda5cf6",
   "metadata": {
    "deletable": false,
    "id": "7f9b2309",
    "outputId": "81f4d817-781c-465c-ed15-91ce4446810d"
   },
   "outputs": [
    {
     "data": {
      "text/plain": [
       "children               0\n",
       "days_employed       2174\n",
       "dob_years              0\n",
       "education              0\n",
       "education_id           0\n",
       "family_status          0\n",
       "family_status_id       0\n",
       "gender                 0\n",
       "income_type            0\n",
       "debt                   0\n",
       "total_income        2174\n",
       "purpose                0\n",
       "dtype: int64"
      ]
     },
     "execution_count": 134,
     "metadata": {},
     "output_type": "execute_result"
    }
   ],
   "source": [
    "data.isna().sum()"
   ]
  },
  {
   "cell_type": "markdown",
   "id": "d7c4d0a3",
   "metadata": {
    "id": "db86e27b"
   },
   "source": [
    "**В двух столбцах есть пропущенные значения. Один из них — `days_employed`. Пропуски в этом столбце мы обработаем на следующем этапе. Другой столбец с пропущенными значениями — `total_income` — хранит данные о доходах. На сумму дохода сильнее всего влияет тип занятости, поэтому заполнить пропуски в этом столбце нужно медианным значением по каждому типу из столбца `income_type`. Например, у человека с типом занятости `сотрудник` пропуск в столбце `total_income` должен быть заполнен медианным доходом среди всех записей с тем же типом.**"
   ]
  },
  {
   "cell_type": "code",
   "execution_count": 135,
   "id": "9555e88b",
   "metadata": {
    "deletable": false,
    "id": "42006a93"
   },
   "outputs": [],
   "source": [
    "for t in data['income_type'].unique():\n",
    "    data.loc[(data['income_type'] == t) & (data['total_income'].isna()), 'total_income'] = \\\n",
    "    data.loc[(data['income_type'] == t), 'total_income'].median()"
   ]
  },
  {
   "cell_type": "markdown",
   "id": "1c828e38",
   "metadata": {
    "deletable": false,
    "id": "89da5ece"
   },
   "source": [
    "### Обработка аномальных значений"
   ]
  },
  {
   "cell_type": "markdown",
   "id": "88ee9471",
   "metadata": {
    "deletable": false,
    "id": "57964554"
   },
   "source": [
    "**В данных могут встречаться артефакты (аномалии) — значения, которые не отражают действительность и появились по какой-то ошибке. таким артефактом будет отрицательное количество дней трудового стажа в столбце `days_employed`. Для реальных данных это нормально. Обработаем значения в этом столбце: заменим все отрицательные значения положительными с помощью метода `abs()`.**"
   ]
  },
  {
   "cell_type": "code",
   "execution_count": 136,
   "id": "f3216376",
   "metadata": {
    "deletable": false,
    "id": "f6f055bf"
   },
   "outputs": [],
   "source": [
    "data['days_employed'] = data['days_employed'].abs()"
   ]
  },
  {
   "cell_type": "markdown",
   "id": "8bf79256",
   "metadata": {
    "deletable": false,
    "id": "6107dd2f"
   },
   "source": [
    "**Для каждого типа занятости выведем медианное значение трудового стажа `days_employed` в днях.**"
   ]
  },
  {
   "cell_type": "code",
   "execution_count": 137,
   "id": "483dba96",
   "metadata": {
    "deletable": false,
    "id": "85a5faf6",
    "outputId": "801ef80e-522b-4668-f34e-565af7432bcf"
   },
   "outputs": [
    {
     "data": {
      "text/plain": [
       "income_type\n",
       "безработный        366413.652744\n",
       "в декрете            3296.759962\n",
       "госслужащий          2689.368353\n",
       "компаньон            1547.382223\n",
       "пенсионер          365213.306266\n",
       "предприниматель       520.848083\n",
       "сотрудник            1574.202821\n",
       "студент               578.751554\n",
       "Name: days_employed, dtype: float64"
      ]
     },
     "execution_count": 137,
     "metadata": {},
     "output_type": "execute_result"
    }
   ],
   "source": [
    "data.groupby('income_type')['days_employed'].agg('median')"
   ]
  },
  {
   "cell_type": "markdown",
   "id": "ac4caf01",
   "metadata": {
    "deletable": false,
    "id": "38d1a030"
   },
   "source": [
    "У двух типов (безработные и пенсионеры) получатся аномально большие значения."
   ]
  },
  {
   "cell_type": "markdown",
   "id": "db0fe720",
   "metadata": {
    "deletable": false,
    "id": "d8a9f147"
   },
   "source": [
    "**Выведем перечень уникальных значений столбца `children`.**"
   ]
  },
  {
   "cell_type": "code",
   "execution_count": 138,
   "id": "8ba40df8",
   "metadata": {
    "deletable": false,
    "id": "ef5056eb",
    "outputId": "6975b15c-7f95-4697-d16d-a0c79b657b03"
   },
   "outputs": [
    {
     "data": {
      "text/plain": [
       "array([ 1,  0,  3,  2, -1,  4, 20,  5])"
      ]
     },
     "execution_count": 138,
     "metadata": {},
     "output_type": "execute_result"
    }
   ],
   "source": [
    "data['children'].unique()"
   ]
  },
  {
   "cell_type": "markdown",
   "id": "e5cf73a3",
   "metadata": {
    "deletable": false,
    "id": "40b9ebf2"
   },
   "source": [
    "**В столбце `children` есть два аномальных значения. Удалим строки, в которых встречаются такие аномальные значения из датафрейма `data`.**"
   ]
  },
  {
   "cell_type": "code",
   "execution_count": 139,
   "id": "c38ba3d1",
   "metadata": {
    "deletable": false,
    "id": "3ff9801d"
   },
   "outputs": [],
   "source": [
    "data = data[(data['children'] != -1) & (data['children'] != 20)]"
   ]
  },
  {
   "cell_type": "markdown",
   "id": "5ac22c3a",
   "metadata": {
    "deletable": false,
    "id": "bbc4d0ce"
   },
   "source": [
    "**Ещё раз выведем перечень уникальных значений столбца `children`, чтобы убедиться, что артефакты удалены.**"
   ]
  },
  {
   "cell_type": "code",
   "execution_count": 140,
   "id": "c844d694",
   "metadata": {
    "deletable": false,
    "id": "ad4fa8b7",
    "outputId": "b2097101-d49d-44d9-901b-32a65c9463d1"
   },
   "outputs": [
    {
     "data": {
      "text/plain": [
       "array([1, 0, 3, 2, 4, 5])"
      ]
     },
     "execution_count": 140,
     "metadata": {},
     "output_type": "execute_result"
    }
   ],
   "source": [
    "data['children'].unique()"
   ]
  },
  {
   "cell_type": "markdown",
   "id": "fc576113",
   "metadata": {
    "deletable": false,
    "id": "75440b63"
   },
   "source": [
    "### Удаление пропусков (продолжение)"
   ]
  },
  {
   "cell_type": "markdown",
   "id": "8c2f5820",
   "metadata": {
    "deletable": false,
    "id": "f4ea573f"
   },
   "source": [
    "**Заполним пропуски в столбце `days_employed` медианными значениями по каждого типа занятости `income_type`.**"
   ]
  },
  {
   "cell_type": "code",
   "execution_count": 141,
   "id": "555fd5cd",
   "metadata": {
    "deletable": false,
    "id": "af6b1a7e"
   },
   "outputs": [],
   "source": [
    "for t in data['income_type'].unique():\n",
    "    data.loc[(data['income_type'] == t) & (data['days_employed'].isna()), 'days_employed'] = \\\n",
    "    data.loc[(data['income_type'] == t), 'days_employed'].median()"
   ]
  },
  {
   "cell_type": "markdown",
   "id": "13b3795a",
   "metadata": {
    "deletable": false,
    "id": "2753f40d"
   },
   "source": [
    "**Убедимся, что все пропуски заполнены. Проверим себя и ещё раз выведем количество пропущенных значений для каждого столбца с помощью двух методов.**"
   ]
  },
  {
   "cell_type": "code",
   "execution_count": 142,
   "id": "ad9f24e1",
   "metadata": {
    "deletable": false,
    "id": "55f78bc2",
    "outputId": "8da1e4e1-358e-4e87-98c9-f261bce0a7b2"
   },
   "outputs": [
    {
     "data": {
      "text/plain": [
       "children            0\n",
       "days_employed       0\n",
       "dob_years           0\n",
       "education           0\n",
       "education_id        0\n",
       "family_status       0\n",
       "family_status_id    0\n",
       "gender              0\n",
       "income_type         0\n",
       "debt                0\n",
       "total_income        0\n",
       "purpose             0\n",
       "dtype: int64"
      ]
     },
     "execution_count": 142,
     "metadata": {},
     "output_type": "execute_result"
    }
   ],
   "source": [
    "data.isna().sum()"
   ]
  },
  {
   "cell_type": "markdown",
   "id": "44c1996f",
   "metadata": {
    "deletable": false,
    "id": "ddc81e43"
   },
   "source": [
    "### Изменение типов данных"
   ]
  },
  {
   "cell_type": "markdown",
   "id": "a8214be1",
   "metadata": {
    "deletable": false,
    "id": "42d19d24"
   },
   "source": [
    "**Заменим вещественный тип данных в столбце `total_income` на целочисленный с помощью метода `astype()`.**"
   ]
  },
  {
   "cell_type": "code",
   "execution_count": 143,
   "id": "b910d4fa",
   "metadata": {
    "deletable": false,
    "id": "920b65ad"
   },
   "outputs": [],
   "source": [
    "data['total_income'] = data['total_income'].astype(int)"
   ]
  },
  {
   "cell_type": "markdown",
   "id": "2cb2da94",
   "metadata": {
    "deletable": false,
    "id": "80c420ba"
   },
   "source": [
    "### Обработка дубликатов"
   ]
  },
  {
   "cell_type": "markdown",
   "id": "03d28b9c",
   "metadata": {
    "deletable": false
   },
   "source": [
    "**Обработаем неявные дубликаты в столбце `education`. В этом столбце есть одни и те же значения, но записанные по-разному: с использованием заглавных и строчных букв. Приведем их к нижнему регистру. Проверим остальные столбцы.**"
   ]
  },
  {
   "cell_type": "code",
   "execution_count": 144,
   "id": "5ad34aa1",
   "metadata": {
    "deletable": false
   },
   "outputs": [],
   "source": [
    "data['education'] = data['education'].str.lower()"
   ]
  },
  {
   "cell_type": "markdown",
   "id": "b6664f8e",
   "metadata": {
    "deletable": false,
    "id": "dc587695"
   },
   "source": [
    "**Выведем на экран количество строк-дубликатов в данных. Если такие строки присутствуют, удалим их.**"
   ]
  },
  {
   "cell_type": "code",
   "execution_count": 145,
   "id": "6b6935ba",
   "metadata": {
    "deletable": false,
    "id": "3ee445e4",
    "outputId": "9684deba-1934-42d1-99e1-cda61740f822"
   },
   "outputs": [
    {
     "data": {
      "text/plain": [
       "71"
      ]
     },
     "execution_count": 145,
     "metadata": {},
     "output_type": "execute_result"
    }
   ],
   "source": [
    "data.duplicated().sum()"
   ]
  },
  {
   "cell_type": "code",
   "execution_count": 146,
   "id": "b6e1e52f",
   "metadata": {
    "deletable": false,
    "id": "8575fe05"
   },
   "outputs": [],
   "source": [
    "data = data.drop_duplicates()"
   ]
  },
  {
   "cell_type": "markdown",
   "id": "35a3d1f9",
   "metadata": {
    "deletable": false,
    "id": "9904cf55"
   },
   "source": [
    "### Категоризация данных"
   ]
  },
  {
   "cell_type": "markdown",
   "id": "6363f884",
   "metadata": {
    "deletable": false,
    "id": "72fcc8a2"
   },
   "source": [
    "**Задание 16. На основании диапазонов, указанных ниже, создадим в датафрейме `data` столбец `total_income_category` с категориями:**\n",
    "\n",
    "- 0–30000 — `'E'`;\n",
    "- 30001–50000 — `'D'`;\n",
    "- 50001–200000 — `'C'`;\n",
    "- 200001–1000000 — `'B'`;\n",
    "- 1000001 и выше — `'A'`.\n",
    "\n",
    "\n",
    "**Например, кредитополучателю с доходом 25000 нужно назначить категорию `'E'`, а клиенту, получающему 235000, — `'B'`. Используем собственную функцию с именем `categorize_income()` и метод `apply()`.**"
   ]
  },
  {
   "cell_type": "code",
   "execution_count": 147,
   "id": "5a341fe9",
   "metadata": {
    "deletable": false,
    "id": "e1771346"
   },
   "outputs": [],
   "source": [
    "def categorize_income(income):\n",
    "    try:\n",
    "        if 0 <= income <= 30000:\n",
    "            return 'E'\n",
    "        elif 30001 <= income <= 50000:\n",
    "            return 'D'\n",
    "        elif 50001 <= income <= 200000:\n",
    "            return 'C'\n",
    "        elif 200001 <= income <= 1000000:\n",
    "            return 'B'\n",
    "        elif income >= 1000001:\n",
    "            return 'A'\n",
    "    except:\n",
    "        pass"
   ]
  },
  {
   "cell_type": "code",
   "execution_count": 148,
   "id": "3c58aa09",
   "metadata": {
    "deletable": false,
    "id": "d5f3586d"
   },
   "outputs": [],
   "source": [
    "data['total_income_category'] = data['total_income'].apply(categorize_income)"
   ]
  },
  {
   "cell_type": "markdown",
   "id": "9ba09357",
   "metadata": {
    "deletable": false,
    "id": "dde49b5c"
   },
   "source": [
    "**Выведем на экран перечень уникальных целей взятия кредита из столбца `purpose`.**"
   ]
  },
  {
   "cell_type": "code",
   "execution_count": 149,
   "id": "37cb35c8",
   "metadata": {
    "deletable": false,
    "id": "f67ce9b3",
    "outputId": "673c12d9-7d7e-4ae0-9812-c622c89dd244"
   },
   "outputs": [
    {
     "data": {
      "text/plain": [
       "array(['покупка жилья', 'приобретение автомобиля',\n",
       "       'дополнительное образование', 'сыграть свадьбу',\n",
       "       'операции с жильем', 'образование', 'на проведение свадьбы',\n",
       "       'покупка жилья для семьи', 'покупка недвижимости',\n",
       "       'покупка коммерческой недвижимости', 'покупка жилой недвижимости',\n",
       "       'строительство собственной недвижимости', 'недвижимость',\n",
       "       'строительство недвижимости', 'на покупку подержанного автомобиля',\n",
       "       'на покупку своего автомобиля',\n",
       "       'операции с коммерческой недвижимостью',\n",
       "       'строительство жилой недвижимости', 'жилье',\n",
       "       'операции со своей недвижимостью', 'автомобили',\n",
       "       'заняться образованием', 'сделка с подержанным автомобилем',\n",
       "       'получение образования', 'автомобиль', 'свадьба',\n",
       "       'получение дополнительного образования', 'покупка своего жилья',\n",
       "       'операции с недвижимостью', 'получение высшего образования',\n",
       "       'свой автомобиль', 'сделка с автомобилем',\n",
       "       'профильное образование', 'высшее образование',\n",
       "       'покупка жилья для сдачи', 'на покупку автомобиля', 'ремонт жилью',\n",
       "       'заняться высшим образованием'], dtype=object)"
      ]
     },
     "execution_count": 149,
     "metadata": {},
     "output_type": "execute_result"
    }
   ],
   "source": [
    "data['purpose'].unique()"
   ]
  },
  {
   "cell_type": "markdown",
   "id": "ee1d46c8",
   "metadata": {
    "deletable": false,
    "id": "85d0aef0"
   },
   "source": [
    "**Создадим функцию, которая на основании данных из столбца `purpose` сформирует новый столбец `purpose_category`, в который войдут следующие категории:**\n",
    "\n",
    "- `'операции с автомобилем'`,\n",
    "- `'операции с недвижимостью'`,\n",
    "- `'проведение свадьбы'`,\n",
    "- `'получение образования'`.\n",
    "\n",
    "**Например, если в столбце `purpose` находится подстрока `'на покупку автомобиля'`, то в столбце `purpose_category` должна появиться строка `'операции с автомобилем'`.**\n",
    "\n",
    "**Используем собственную функцию с именем `categorize_purpose()` и метод `apply()`. Изучим данные в столбце `purpose` и определим, какие подстроки помогут вам правильно определить категорию.**"
   ]
  },
  {
   "cell_type": "code",
   "execution_count": 150,
   "id": "5196bdc2",
   "metadata": {
    "deletable": false,
    "id": "e149fab4"
   },
   "outputs": [],
   "source": [
    "def categorize_purpose(row):\n",
    "    try:\n",
    "        if 'автом' in row:\n",
    "            return 'операции с автомобилем'\n",
    "        elif 'жил' in row or 'недвиж' in row:\n",
    "            return 'операции с недвижимостью'\n",
    "        elif 'свад' in row:\n",
    "            return 'проведение свадьбы'\n",
    "        elif 'образов' in row:\n",
    "            return 'получение образования'\n",
    "    except:\n",
    "        return 'нет категории'"
   ]
  },
  {
   "cell_type": "code",
   "execution_count": 151,
   "id": "033345d2",
   "metadata": {
    "deletable": false,
    "id": "bf36e69b"
   },
   "outputs": [],
   "source": [
    "data['purpose_category'] = data['purpose'].apply(categorize_purpose)"
   ]
  },
  {
   "cell_type": "markdown",
   "id": "7e46b571",
   "metadata": {
    "deletable": false,
    "id": "09b242bf"
   },
   "source": [
    "### Исследуем данные"
   ]
  },
  {
   "cell_type": "markdown",
   "id": "694cf250",
   "metadata": {
    "deletable": false,
    "id": "c5d66278"
   },
   "source": [
    "#### Есть ли зависимость между количеством детей и возвратом кредита в срок?"
   ]
  },
  {
   "cell_type": "code",
   "execution_count": 152,
   "id": "54a342b0",
   "metadata": {
    "deletable": false,
    "id": "2cacfc4a"
   },
   "outputs": [
    {
     "data": {
      "text/html": [
       "<div>\n",
       "<style scoped>\n",
       "    .dataframe tbody tr th:only-of-type {\n",
       "        vertical-align: middle;\n",
       "    }\n",
       "\n",
       "    .dataframe tbody tr th {\n",
       "        vertical-align: top;\n",
       "    }\n",
       "\n",
       "    .dataframe thead tr th {\n",
       "        text-align: left;\n",
       "    }\n",
       "\n",
       "    .dataframe thead tr:last-of-type th {\n",
       "        text-align: right;\n",
       "    }\n",
       "</style>\n",
       "<table border=\"1\" class=\"dataframe\">\n",
       "  <thead>\n",
       "    <tr>\n",
       "      <th></th>\n",
       "      <th>count</th>\n",
       "      <th>sum</th>\n",
       "      <th>ratio</th>\n",
       "    </tr>\n",
       "    <tr>\n",
       "      <th></th>\n",
       "      <th>debt</th>\n",
       "      <th>debt</th>\n",
       "      <th></th>\n",
       "    </tr>\n",
       "    <tr>\n",
       "      <th>children</th>\n",
       "      <th></th>\n",
       "      <th></th>\n",
       "      <th></th>\n",
       "    </tr>\n",
       "  </thead>\n",
       "  <tbody>\n",
       "    <tr>\n",
       "      <th>5</th>\n",
       "      <td>9</td>\n",
       "      <td>0</td>\n",
       "      <td>100.000000</td>\n",
       "    </tr>\n",
       "    <tr>\n",
       "      <th>0</th>\n",
       "      <td>14091</td>\n",
       "      <td>1063</td>\n",
       "      <td>92.456178</td>\n",
       "    </tr>\n",
       "    <tr>\n",
       "      <th>3</th>\n",
       "      <td>330</td>\n",
       "      <td>27</td>\n",
       "      <td>91.818182</td>\n",
       "    </tr>\n",
       "    <tr>\n",
       "      <th>1</th>\n",
       "      <td>4808</td>\n",
       "      <td>444</td>\n",
       "      <td>90.765391</td>\n",
       "    </tr>\n",
       "    <tr>\n",
       "      <th>2</th>\n",
       "      <td>2052</td>\n",
       "      <td>194</td>\n",
       "      <td>90.545809</td>\n",
       "    </tr>\n",
       "    <tr>\n",
       "      <th>4</th>\n",
       "      <td>41</td>\n",
       "      <td>4</td>\n",
       "      <td>90.243902</td>\n",
       "    </tr>\n",
       "  </tbody>\n",
       "</table>\n",
       "</div>"
      ],
      "text/plain": [
       "          count   sum       ratio\n",
       "           debt  debt            \n",
       "children                         \n",
       "5             9     0  100.000000\n",
       "0         14091  1063   92.456178\n",
       "3           330    27   91.818182\n",
       "1          4808   444   90.765391\n",
       "2          2052   194   90.545809\n",
       "4            41     4   90.243902"
      ]
     },
     "execution_count": 152,
     "metadata": {},
     "output_type": "execute_result"
    }
   ],
   "source": [
    "data_pivot_children_with_dept = data.pivot_table(index = 'children', values = 'debt', aggfunc = ['count', 'sum'])\n",
    "data_pivot_children_with_dept['ratio'] = (1 - data_pivot_children_with_dept['sum']['debt'] / data_pivot_children_with_dept['count']['debt']) * 100\n",
    "data_pivot_children_with_dept.sort_values(by = 'ratio', ascending = False)"
   ]
  },
  {
   "cell_type": "markdown",
   "id": "d58ce5ca",
   "metadata": {
    "deletable": false,
    "id": "3a6b99ec"
   },
   "source": [
    "**Вывод:** Для исследования зависимости между количеством детей и возвратом кредита в срок были вычислены значения в процентах вероятности возрата кредита в срок в зависимости от количества детей. В результате было получено, что 100 % заемщиков с 5 детьми возращают кредит в срок; 92,5 % заемщиков без детей возращают кредит в срок; 91,8 % заемщиков с 3 детьми возращают кредит в срок; 90,7 % заемщиков с 1 ребенком возращают кредит в срок; 90,5 % заемщиков с двумя детьми возращают кредит в срок; 90,2 % заемщиков с 4 детьми возращают кредит в срок. Для определения зависимости необходимо учесть, что выборки могут быть несбалансированы, поэтому рассмотрим самые многочисленные выборки для заемщиков без детей, с 1 ребенком и 2 детьми. Для данных выборок видна зависимость: чем меньше детей у заемщика, тем больше вероятность что он вернет кредит в срок."
   ]
  },
  {
   "cell_type": "markdown",
   "id": "db35cdb1",
   "metadata": {
    "deletable": false,
    "id": "97be82ca"
   },
   "source": [
    "#### Есть ли зависимость между семейным положением и возвратом кредита в срок?"
   ]
  },
  {
   "cell_type": "code",
   "execution_count": 153,
   "id": "237b4db6",
   "metadata": {
    "deletable": false,
    "id": "dc3f7ee8"
   },
   "outputs": [
    {
     "data": {
      "text/html": [
       "<div>\n",
       "<style scoped>\n",
       "    .dataframe tbody tr th:only-of-type {\n",
       "        vertical-align: middle;\n",
       "    }\n",
       "\n",
       "    .dataframe tbody tr th {\n",
       "        vertical-align: top;\n",
       "    }\n",
       "\n",
       "    .dataframe thead tr th {\n",
       "        text-align: left;\n",
       "    }\n",
       "\n",
       "    .dataframe thead tr:last-of-type th {\n",
       "        text-align: right;\n",
       "    }\n",
       "</style>\n",
       "<table border=\"1\" class=\"dataframe\">\n",
       "  <thead>\n",
       "    <tr>\n",
       "      <th></th>\n",
       "      <th>count</th>\n",
       "      <th>sum</th>\n",
       "      <th>ratio</th>\n",
       "    </tr>\n",
       "    <tr>\n",
       "      <th></th>\n",
       "      <th>debt</th>\n",
       "      <th>debt</th>\n",
       "      <th></th>\n",
       "    </tr>\n",
       "    <tr>\n",
       "      <th>family_status</th>\n",
       "      <th></th>\n",
       "      <th></th>\n",
       "      <th></th>\n",
       "    </tr>\n",
       "  </thead>\n",
       "  <tbody>\n",
       "    <tr>\n",
       "      <th>вдовец / вдова</th>\n",
       "      <td>951</td>\n",
       "      <td>63</td>\n",
       "      <td>93.375394</td>\n",
       "    </tr>\n",
       "    <tr>\n",
       "      <th>в разводе</th>\n",
       "      <td>1189</td>\n",
       "      <td>84</td>\n",
       "      <td>92.935240</td>\n",
       "    </tr>\n",
       "    <tr>\n",
       "      <th>женат / замужем</th>\n",
       "      <td>12261</td>\n",
       "      <td>927</td>\n",
       "      <td>92.439442</td>\n",
       "    </tr>\n",
       "    <tr>\n",
       "      <th>гражданский брак</th>\n",
       "      <td>4134</td>\n",
       "      <td>385</td>\n",
       "      <td>90.686986</td>\n",
       "    </tr>\n",
       "    <tr>\n",
       "      <th>Не женат / не замужем</th>\n",
       "      <td>2796</td>\n",
       "      <td>273</td>\n",
       "      <td>90.236052</td>\n",
       "    </tr>\n",
       "  </tbody>\n",
       "</table>\n",
       "</div>"
      ],
      "text/plain": [
       "                       count  sum      ratio\n",
       "                        debt debt           \n",
       "family_status                               \n",
       "вдовец / вдова           951   63  93.375394\n",
       "в разводе               1189   84  92.935240\n",
       "женат / замужем        12261  927  92.439442\n",
       "гражданский брак        4134  385  90.686986\n",
       "Не женат / не замужем   2796  273  90.236052"
      ]
     },
     "execution_count": 153,
     "metadata": {},
     "output_type": "execute_result"
    }
   ],
   "source": [
    "data_pivot_family_sts_with_dept = data.pivot_table(index = 'family_status', values = 'debt', aggfunc = ['count', 'sum'])\n",
    "data_pivot_family_sts_with_dept['ratio'] = (1 - data_pivot_family_sts_with_dept['sum']['debt'] / data_pivot_family_sts_with_dept['count']['debt']) * 100\n",
    "data_pivot_family_sts_with_dept.sort_values(by = 'ratio', ascending = False)"
   ]
  },
  {
   "cell_type": "markdown",
   "id": "70f239bd",
   "metadata": {
    "deletable": false,
    "id": "1cef7837"
   },
   "source": [
    "**Вывод:** Для исследования зависимости между семейным положением и возвратом кредита в срок были вычислены значения в процентах вероятности возрата кредита в срок в зависимости от семейного положения. В результате было получено, что 93,4 % заемщиков из категории \"вдовец / вдова\" возращают кредит в срок; 92,9 % заемщиков из категории \"в разводе\" возращают кредит в срок; 92,4 % заемщиков из категории \"женат / замужем\" возращают кредит в срок; 90,7 % заемщиков из категории \"гражданский брак\" возращают кредит в срок; 90,2 % заемщиков из категории \"Не женат / не замужем\" возращают кредит в срок. Веротность возрата кредита в срок выше у заемщиков в категориях \"вдовец / вдова\", \"в разводе\", \"женат / замужем\", чем в категориях \"гражданский брак\" и \"Не женат / не замужем\". Заемщики, состоящие на данный момент в браке или когда-либо в нем состоявшие, чаще возращают кредит в срок."
   ]
  },
  {
   "cell_type": "markdown",
   "id": "7f27610b",
   "metadata": {
    "deletable": false,
    "id": "1e8b2fca"
   },
   "source": [
    "#### Есть ли зависимость между уровнем дохода и возвратом кредита в срок?"
   ]
  },
  {
   "cell_type": "code",
   "execution_count": 154,
   "id": "18e7ccaf",
   "metadata": {
    "deletable": false,
    "id": "cd7e3720"
   },
   "outputs": [
    {
     "data": {
      "text/html": [
       "<div>\n",
       "<style scoped>\n",
       "    .dataframe tbody tr th:only-of-type {\n",
       "        vertical-align: middle;\n",
       "    }\n",
       "\n",
       "    .dataframe tbody tr th {\n",
       "        vertical-align: top;\n",
       "    }\n",
       "\n",
       "    .dataframe thead tr th {\n",
       "        text-align: left;\n",
       "    }\n",
       "\n",
       "    .dataframe thead tr:last-of-type th {\n",
       "        text-align: right;\n",
       "    }\n",
       "</style>\n",
       "<table border=\"1\" class=\"dataframe\">\n",
       "  <thead>\n",
       "    <tr>\n",
       "      <th></th>\n",
       "      <th>count</th>\n",
       "      <th>sum</th>\n",
       "      <th>ratio</th>\n",
       "    </tr>\n",
       "    <tr>\n",
       "      <th></th>\n",
       "      <th>debt</th>\n",
       "      <th>debt</th>\n",
       "      <th></th>\n",
       "    </tr>\n",
       "    <tr>\n",
       "      <th>total_income_category</th>\n",
       "      <th></th>\n",
       "      <th></th>\n",
       "      <th></th>\n",
       "    </tr>\n",
       "  </thead>\n",
       "  <tbody>\n",
       "    <tr>\n",
       "      <th>D</th>\n",
       "      <td>349</td>\n",
       "      <td>21</td>\n",
       "      <td>93.982808</td>\n",
       "    </tr>\n",
       "    <tr>\n",
       "      <th>B</th>\n",
       "      <td>5014</td>\n",
       "      <td>354</td>\n",
       "      <td>92.939769</td>\n",
       "    </tr>\n",
       "    <tr>\n",
       "      <th>A</th>\n",
       "      <td>25</td>\n",
       "      <td>2</td>\n",
       "      <td>92.000000</td>\n",
       "    </tr>\n",
       "    <tr>\n",
       "      <th>C</th>\n",
       "      <td>15921</td>\n",
       "      <td>1353</td>\n",
       "      <td>91.501790</td>\n",
       "    </tr>\n",
       "    <tr>\n",
       "      <th>E</th>\n",
       "      <td>22</td>\n",
       "      <td>2</td>\n",
       "      <td>90.909091</td>\n",
       "    </tr>\n",
       "  </tbody>\n",
       "</table>\n",
       "</div>"
      ],
      "text/plain": [
       "                       count   sum      ratio\n",
       "                        debt  debt           \n",
       "total_income_category                        \n",
       "D                        349    21  93.982808\n",
       "B                       5014   354  92.939769\n",
       "A                         25     2  92.000000\n",
       "C                      15921  1353  91.501790\n",
       "E                         22     2  90.909091"
      ]
     },
     "execution_count": 154,
     "metadata": {},
     "output_type": "execute_result"
    }
   ],
   "source": [
    "data_pivot_total_inc_with_dept = data.pivot_table(index = 'total_income_category', values = 'debt', aggfunc = ['count', 'sum'])\n",
    "data_pivot_total_inc_with_dept['ratio'] = (1 - data_pivot_total_inc_with_dept['sum']['debt'] / data_pivot_total_inc_with_dept['count']['debt']) * 100\n",
    "data_pivot_total_inc_with_dept.sort_values(by = 'ratio', ascending = False)"
   ]
  },
  {
   "cell_type": "markdown",
   "id": "882e3bb6",
   "metadata": {
    "deletable": false,
    "id": "e8593def"
   },
   "source": [
    "**Вывод:** Для исследования зависимости между уровнем дохода и возвратом кредита в срок были вычислены значения в процентах вероятности возрата кредита в срок в зависимости от уровня дохода. В результате было получено, что 94,0 % заемщкиов из категории \"D\" возращают кредит в срок; 92,9 % заемщиков из категории \"B\" возращают кредит в срок; 92,0 % заемщиков из категории \"A\" возращают кредит в срок; 91,5 % заемщиков из категории \"C\" возращают кредит в срок; 90,9 % заемщиков из категории \"E\" возращают кредит в срок. Для определения зависимости необходимо учесть, что выборки могут быть несбалансированы, поэтому рассмотрим самые многочисленные выборки для заемщиков из категории \"B\" и \"C\". Для данных выборок видна зависимость: чем выше уровень дохода у заемщика, тем больше вероятность что он вернет кредит в срок. (\"A\" - максимальный уровень дохода, \"E\" - минимальный уровень дохода)"
   ]
  },
  {
   "cell_type": "markdown",
   "id": "f4132be9",
   "metadata": {
    "deletable": false,
    "id": "99ecbd1f"
   },
   "source": [
    "####  Как разные цели кредита влияют на его возврат в срок?"
   ]
  },
  {
   "cell_type": "code",
   "execution_count": 155,
   "id": "5c4c7401",
   "metadata": {
    "deletable": false,
    "id": "2b687290"
   },
   "outputs": [
    {
     "data": {
      "text/html": [
       "<div>\n",
       "<style scoped>\n",
       "    .dataframe tbody tr th:only-of-type {\n",
       "        vertical-align: middle;\n",
       "    }\n",
       "\n",
       "    .dataframe tbody tr th {\n",
       "        vertical-align: top;\n",
       "    }\n",
       "\n",
       "    .dataframe thead tr th {\n",
       "        text-align: left;\n",
       "    }\n",
       "\n",
       "    .dataframe thead tr:last-of-type th {\n",
       "        text-align: right;\n",
       "    }\n",
       "</style>\n",
       "<table border=\"1\" class=\"dataframe\">\n",
       "  <thead>\n",
       "    <tr>\n",
       "      <th></th>\n",
       "      <th>count</th>\n",
       "      <th>sum</th>\n",
       "      <th>ratio</th>\n",
       "    </tr>\n",
       "    <tr>\n",
       "      <th></th>\n",
       "      <th>debt</th>\n",
       "      <th>debt</th>\n",
       "      <th></th>\n",
       "    </tr>\n",
       "    <tr>\n",
       "      <th>purpose_category</th>\n",
       "      <th></th>\n",
       "      <th></th>\n",
       "      <th></th>\n",
       "    </tr>\n",
       "  </thead>\n",
       "  <tbody>\n",
       "    <tr>\n",
       "      <th>операции с недвижимостью</th>\n",
       "      <td>10751</td>\n",
       "      <td>780</td>\n",
       "      <td>92.744861</td>\n",
       "    </tr>\n",
       "    <tr>\n",
       "      <th>проведение свадьбы</th>\n",
       "      <td>2313</td>\n",
       "      <td>183</td>\n",
       "      <td>92.088197</td>\n",
       "    </tr>\n",
       "    <tr>\n",
       "      <th>получение образования</th>\n",
       "      <td>3988</td>\n",
       "      <td>369</td>\n",
       "      <td>90.747242</td>\n",
       "    </tr>\n",
       "    <tr>\n",
       "      <th>операции с автомобилем</th>\n",
       "      <td>4279</td>\n",
       "      <td>400</td>\n",
       "      <td>90.652022</td>\n",
       "    </tr>\n",
       "  </tbody>\n",
       "</table>\n",
       "</div>"
      ],
      "text/plain": [
       "                          count  sum      ratio\n",
       "                           debt debt           \n",
       "purpose_category                               \n",
       "операции с недвижимостью  10751  780  92.744861\n",
       "проведение свадьбы         2313  183  92.088197\n",
       "получение образования      3988  369  90.747242\n",
       "операции с автомобилем     4279  400  90.652022"
      ]
     },
     "execution_count": 155,
     "metadata": {},
     "output_type": "execute_result"
    }
   ],
   "source": [
    "data_pivot_purpose_with_dept = data.pivot_table(index = 'purpose_category', values = 'debt', aggfunc = ['count', 'sum'])\n",
    "data_pivot_purpose_with_dept['ratio'] = (1 - data_pivot_purpose_with_dept['sum']['debt'] / data_pivot_purpose_with_dept['count']['debt']) * 100\n",
    "data_pivot_purpose_with_dept.sort_values(by = 'ratio', ascending = False)"
   ]
  },
  {
   "cell_type": "markdown",
   "id": "6d19d949",
   "metadata": {
    "deletable": false,
    "id": "b4bb2ce6"
   },
   "source": [
    "**Вывод:** Для исследования зависимости между целями кредита и возвратом кредита в срок были вычислены значения в процентах вероятности возрата кредита в срок в зависимости от цели кредита. В результате было получено, что 92,7 % заемщиков с целью кредита \"операции с недвижимостью\" возращают кредит в срок; 92,1 % заемщиков с целью кредита \"проведение свадьбы\" возращают кредит в срок; 90,75 % заемщиков с целью кредита \"получение образования\" возращают кредит в срок; 90,65 % заемщиков с целью кредита \"операции с автомобилем\" возращают кредит в срок. Максимальная вероятность возрата кредита в срок получена у заемщиков с целью кредита \"операции с недвижимостью\", а минимальная у заемщиков с целью кредита \"операции с автомобилем\"."
   ]
  },
  {
   "cell_type": "markdown",
   "id": "189133e4",
   "metadata": {
    "deletable": false,
    "id": "09c3ac4c"
   },
   "source": [
    "#### Приведем возможные причины появления пропусков в исходных данных."
   ]
  },
  {
   "cell_type": "markdown",
   "id": "9c881996",
   "metadata": {
    "deletable": false,
    "id": "9da2ceda"
   },
   "source": [
    "Пропуски могут быть полностью случайными, примерами причины появления таких пропусков может быть нерабочее оборудование, при котором не произошла запись данных, или человеческий фактор. Пропуски могут быть случайными, например, когда пользователь не указал какие-либо данные о себе (более молодые пользователи чаще оставляет почту, чем пожилые). Пропуски могут быть неслучайными, когда пользователь не записал данные по причине, которую мы можем выявить (если есть графа стаж работы, то безработный пользователь в нее может ничего не написать). Также необходимо учитывать при обработке пропусков, где датасет обрабатывался до того, как попал к нам на обработку (обработка данных в программе разработчика, промежуточная обработка)\n"
   ]
  },
  {
   "cell_type": "markdown",
   "id": "3bb9a98f",
   "metadata": {
    "deletable": false,
    "id": "7b0487d6"
   },
   "source": [
    "####  Объясним, почему заполнить пропуски медианным значением — лучшее решение для количественных переменных."
   ]
  },
  {
   "cell_type": "markdown",
   "id": "31ca9fcd",
   "metadata": {
    "deletable": false,
    "id": "7ecf2b8e"
   },
   "source": [
    "Пропуски в количественных переменных заполняют характерными значениями: средним и медианой, которые оценивают значения в центре выборки. Среднее значение некорректно характеризует данные, когда некоторые значения сильно выделяются среди большинства, поэтому лучше заполнять пропуски медианным значением для количественных переменных."
   ]
  },
  {
   "cell_type": "markdown",
   "id": "b97ebb9b",
   "metadata": {
    "deletable": false,
    "id": "6db5255a"
   },
   "source": [
    "### Общий вывод."
   ]
  },
  {
   "cell_type": "markdown",
   "id": "612ecc8c",
   "metadata": {
    "deletable": false,
    "id": "bad65432"
   },
   "source": [
    "В данном проекте был исследован датасет с статистикой о платёжеспособности клиентов. Данный датасет был предобработан: были заполнены пропущенные значения, были обработаны аномальные значения, были изменены типы данных, были найдены и удалены дубликаты, были сформированы новые столбцы с категориями данных. На основе обработанного датасета были сформулированы выводы о зависимости возврата кредита в срок от количества детей, семейного положения, уровня дохода и целей кредита:\n",
    "\n",
    "1) Чем меньше детей у заемщика, тем больше вероятность что он вернет кредит в срок. \n",
    "\n",
    "2) Чем выше уровень дохода у заемщика, тем больше вероятность что он вернет кредит в срок.\n",
    "\n",
    "3) Заемщики, состоящие на данный момент в браке или когда-либо в нем состоявшие, чаще возращают кредит в срок.\n",
    "\n",
    "4) Наибольшие вероятности возрата кредита в срок получена у заемщиков с целью кредита \"операции с недвижимостью\" и \"проведение свадьбы\", а наименьшие у заемщиков с целью кредита \"операции с автомобилем\" и \"получение образования\"."
   ]
  },
  {
   "cell_type": "code",
   "execution_count": null,
   "id": "1112a930",
   "metadata": {},
   "outputs": [],
   "source": []
  }
 ],
 "metadata": {
  "ExecuteTimeLog": [
   {
    "duration": 462,
    "start_time": "2023-01-07T11:11:14.702Z"
   },
   {
    "duration": 20,
    "start_time": "2023-01-07T11:11:15.167Z"
   },
   {
    "duration": 13,
    "start_time": "2023-01-07T11:11:15.189Z"
   },
   {
    "duration": 16,
    "start_time": "2023-01-07T11:11:15.203Z"
   },
   {
    "duration": 33,
    "start_time": "2023-01-07T11:11:15.220Z"
   },
   {
    "duration": 4,
    "start_time": "2023-01-07T11:11:15.255Z"
   },
   {
    "duration": 13,
    "start_time": "2023-01-07T11:11:15.260Z"
   },
   {
    "duration": 6,
    "start_time": "2023-01-07T11:11:15.274Z"
   },
   {
    "duration": 11,
    "start_time": "2023-01-07T11:11:15.282Z"
   },
   {
    "duration": 4,
    "start_time": "2023-01-07T11:11:15.314Z"
   },
   {
    "duration": 35,
    "start_time": "2023-01-07T11:11:15.320Z"
   },
   {
    "duration": 8,
    "start_time": "2023-01-07T11:11:15.357Z"
   },
   {
    "duration": 6,
    "start_time": "2023-01-07T11:11:15.366Z"
   },
   {
    "duration": 12,
    "start_time": "2023-01-07T11:11:15.374Z"
   },
   {
    "duration": 38,
    "start_time": "2023-01-07T11:11:15.387Z"
   },
   {
    "duration": 16,
    "start_time": "2023-01-07T11:11:15.427Z"
   },
   {
    "duration": 3,
    "start_time": "2023-01-07T11:11:15.444Z"
   },
   {
    "duration": 13,
    "start_time": "2023-01-07T11:11:15.449Z"
   },
   {
    "duration": 11,
    "start_time": "2023-01-07T11:11:15.464Z"
   },
   {
    "duration": 4,
    "start_time": "2023-01-07T11:11:15.476Z"
   },
   {
    "duration": 13,
    "start_time": "2023-01-07T11:11:15.482Z"
   },
   {
    "duration": 4,
    "start_time": "2023-01-07T11:26:49.825Z"
   },
   {
    "duration": 4,
    "start_time": "2023-01-07T11:27:03.581Z"
   },
   {
    "duration": 4,
    "start_time": "2023-01-07T11:29:27.965Z"
   },
   {
    "duration": 4,
    "start_time": "2023-01-07T11:31:15.669Z"
   },
   {
    "duration": 6,
    "start_time": "2023-01-07T11:31:50.510Z"
   },
   {
    "duration": 5,
    "start_time": "2023-01-07T11:31:59.042Z"
   },
   {
    "duration": 4,
    "start_time": "2023-01-07T11:32:30.614Z"
   },
   {
    "duration": 9,
    "start_time": "2023-01-07T11:34:42.417Z"
   },
   {
    "duration": 5,
    "start_time": "2023-01-07T11:38:30.323Z"
   },
   {
    "duration": 6,
    "start_time": "2023-01-07T11:38:49.223Z"
   },
   {
    "duration": 8,
    "start_time": "2023-01-07T11:39:07.240Z"
   },
   {
    "duration": 7,
    "start_time": "2023-01-07T11:40:44.383Z"
   },
   {
    "duration": 9,
    "start_time": "2023-01-07T11:41:06.235Z"
   },
   {
    "duration": 7,
    "start_time": "2023-01-07T11:42:10.697Z"
   },
   {
    "duration": 7,
    "start_time": "2023-01-07T11:42:33.135Z"
   },
   {
    "duration": 6,
    "start_time": "2023-01-07T11:43:15.221Z"
   },
   {
    "duration": 73,
    "start_time": "2023-01-07T11:43:22.524Z"
   },
   {
    "duration": 6,
    "start_time": "2023-01-07T11:43:32.002Z"
   },
   {
    "duration": 7,
    "start_time": "2023-01-07T11:46:19.711Z"
   },
   {
    "duration": 11,
    "start_time": "2023-01-07T11:48:21.461Z"
   },
   {
    "duration": 58,
    "start_time": "2023-01-07T11:49:42.633Z"
   },
   {
    "duration": 9,
    "start_time": "2023-01-07T11:49:56.703Z"
   },
   {
    "duration": 8,
    "start_time": "2023-01-07T11:50:04.554Z"
   },
   {
    "duration": 8,
    "start_time": "2023-01-07T11:50:27.463Z"
   },
   {
    "duration": 15,
    "start_time": "2023-01-07T11:50:55.834Z"
   },
   {
    "duration": 6,
    "start_time": "2023-01-07T11:51:48.617Z"
   },
   {
    "duration": 9,
    "start_time": "2023-01-07T11:52:03.714Z"
   },
   {
    "duration": 16,
    "start_time": "2023-01-07T11:52:35.515Z"
   },
   {
    "duration": 10,
    "start_time": "2023-01-07T11:53:46.823Z"
   },
   {
    "duration": 13,
    "start_time": "2023-01-07T11:54:43.875Z"
   },
   {
    "duration": 12,
    "start_time": "2023-01-07T11:55:13.208Z"
   },
   {
    "duration": 688,
    "start_time": "2023-01-11T08:35:22.461Z"
   },
   {
    "duration": 23,
    "start_time": "2023-01-11T08:35:23.151Z"
   },
   {
    "duration": 16,
    "start_time": "2023-01-11T08:35:23.175Z"
   },
   {
    "duration": 10,
    "start_time": "2023-01-11T08:35:23.193Z"
   },
   {
    "duration": 46,
    "start_time": "2023-01-11T08:35:23.205Z"
   },
   {
    "duration": 4,
    "start_time": "2023-01-11T08:35:23.253Z"
   },
   {
    "duration": 11,
    "start_time": "2023-01-11T08:35:23.259Z"
   },
   {
    "duration": 4,
    "start_time": "2023-01-11T08:35:23.272Z"
   },
   {
    "duration": 10,
    "start_time": "2023-01-11T08:35:23.278Z"
   },
   {
    "duration": 7,
    "start_time": "2023-01-11T08:35:23.290Z"
   },
   {
    "duration": 61,
    "start_time": "2023-01-11T08:35:23.298Z"
   },
   {
    "duration": 10,
    "start_time": "2023-01-11T08:35:23.361Z"
   },
   {
    "duration": 8,
    "start_time": "2023-01-11T08:35:23.372Z"
   },
   {
    "duration": 13,
    "start_time": "2023-01-11T08:35:23.382Z"
   },
   {
    "duration": 39,
    "start_time": "2023-01-11T08:35:23.397Z"
   },
   {
    "duration": 19,
    "start_time": "2023-01-11T08:35:23.438Z"
   },
   {
    "duration": 3,
    "start_time": "2023-01-11T08:35:23.459Z"
   },
   {
    "duration": 13,
    "start_time": "2023-01-11T08:35:23.464Z"
   },
   {
    "duration": 12,
    "start_time": "2023-01-11T08:35:23.478Z"
   },
   {
    "duration": 4,
    "start_time": "2023-01-11T08:35:23.492Z"
   },
   {
    "duration": 16,
    "start_time": "2023-01-11T08:35:23.497Z"
   },
   {
    "duration": 82,
    "start_time": "2023-01-11T08:37:12.672Z"
   },
   {
    "duration": 23,
    "start_time": "2023-01-11T08:37:23.673Z"
   },
   {
    "duration": 18,
    "start_time": "2023-01-11T08:37:45.395Z"
   },
   {
    "duration": 19,
    "start_time": "2023-01-11T08:41:37.654Z"
   },
   {
    "duration": 20,
    "start_time": "2023-01-11T08:41:40.667Z"
   },
   {
    "duration": 8,
    "start_time": "2023-01-11T08:45:40.969Z"
   },
   {
    "duration": 18,
    "start_time": "2023-01-11T08:54:04.163Z"
   },
   {
    "duration": 18,
    "start_time": "2023-01-11T08:54:20.727Z"
   },
   {
    "duration": 21,
    "start_time": "2023-01-11T08:54:31.124Z"
   },
   {
    "duration": 13,
    "start_time": "2023-01-11T09:00:03.033Z"
   },
   {
    "duration": 21,
    "start_time": "2023-01-11T09:09:10.392Z"
   },
   {
    "duration": 9,
    "start_time": "2023-01-11T09:09:52.828Z"
   },
   {
    "duration": 6,
    "start_time": "2023-01-11T10:08:37.655Z"
   },
   {
    "duration": 911,
    "start_time": "2023-01-11T10:11:06.472Z"
   },
   {
    "duration": 832,
    "start_time": "2023-01-11T10:11:47.691Z"
   },
   {
    "duration": 8,
    "start_time": "2023-01-11T10:13:27.138Z"
   },
   {
    "duration": 18,
    "start_time": "2023-01-11T10:35:49.583Z"
   },
   {
    "duration": 71,
    "start_time": "2023-01-11T10:38:09.069Z"
   },
   {
    "duration": 16,
    "start_time": "2023-01-11T10:38:09.143Z"
   },
   {
    "duration": 30,
    "start_time": "2023-01-11T10:38:09.161Z"
   },
   {
    "duration": 20,
    "start_time": "2023-01-11T10:38:09.194Z"
   },
   {
    "duration": 66,
    "start_time": "2023-01-11T10:38:09.216Z"
   },
   {
    "duration": 3,
    "start_time": "2023-01-11T10:38:09.284Z"
   },
   {
    "duration": 13,
    "start_time": "2023-01-11T10:38:09.289Z"
   },
   {
    "duration": 10,
    "start_time": "2023-01-11T10:38:09.304Z"
   },
   {
    "duration": 27,
    "start_time": "2023-01-11T10:38:09.316Z"
   },
   {
    "duration": 15,
    "start_time": "2023-01-11T10:38:09.346Z"
   },
   {
    "duration": 52,
    "start_time": "2023-01-11T10:38:09.363Z"
   },
   {
    "duration": 15,
    "start_time": "2023-01-11T10:38:09.417Z"
   },
   {
    "duration": 7,
    "start_time": "2023-01-11T10:38:09.435Z"
   },
   {
    "duration": 22,
    "start_time": "2023-01-11T10:38:09.444Z"
   },
   {
    "duration": 22,
    "start_time": "2023-01-11T10:38:09.468Z"
   },
   {
    "duration": 18,
    "start_time": "2023-01-11T10:38:09.492Z"
   },
   {
    "duration": 4,
    "start_time": "2023-01-11T10:38:09.512Z"
   },
   {
    "duration": 33,
    "start_time": "2023-01-11T10:38:09.517Z"
   },
   {
    "duration": 28,
    "start_time": "2023-01-11T10:38:09.552Z"
   },
   {
    "duration": 18,
    "start_time": "2023-01-11T10:38:09.581Z"
   },
   {
    "duration": 28,
    "start_time": "2023-01-11T10:38:09.601Z"
   },
   {
    "duration": 22,
    "start_time": "2023-01-11T10:38:09.631Z"
   },
   {
    "duration": 15,
    "start_time": "2023-01-11T10:38:09.654Z"
   },
   {
    "duration": 26,
    "start_time": "2023-01-11T10:38:09.670Z"
   },
   {
    "duration": 74,
    "start_time": "2023-01-11T10:45:01.779Z"
   },
   {
    "duration": 16,
    "start_time": "2023-01-11T10:45:01.856Z"
   },
   {
    "duration": 37,
    "start_time": "2023-01-11T10:45:01.873Z"
   },
   {
    "duration": 14,
    "start_time": "2023-01-11T10:45:01.912Z"
   },
   {
    "duration": 44,
    "start_time": "2023-01-11T10:45:01.928Z"
   },
   {
    "duration": 4,
    "start_time": "2023-01-11T10:45:01.976Z"
   },
   {
    "duration": 35,
    "start_time": "2023-01-11T10:45:01.982Z"
   },
   {
    "duration": 58,
    "start_time": "2023-01-11T10:45:02.020Z"
   },
   {
    "duration": 42,
    "start_time": "2023-01-11T10:45:02.080Z"
   },
   {
    "duration": 25,
    "start_time": "2023-01-11T10:45:02.126Z"
   },
   {
    "duration": 64,
    "start_time": "2023-01-11T10:45:02.153Z"
   },
   {
    "duration": 20,
    "start_time": "2023-01-11T10:45:02.219Z"
   },
   {
    "duration": 58,
    "start_time": "2023-01-11T10:45:02.241Z"
   },
   {
    "duration": 42,
    "start_time": "2023-01-11T10:45:02.302Z"
   },
   {
    "duration": 52,
    "start_time": "2023-01-11T10:45:02.347Z"
   },
   {
    "duration": 36,
    "start_time": "2023-01-11T10:45:02.402Z"
   },
   {
    "duration": 6,
    "start_time": "2023-01-11T10:45:02.441Z"
   },
   {
    "duration": 71,
    "start_time": "2023-01-11T10:45:02.449Z"
   },
   {
    "duration": 63,
    "start_time": "2023-01-11T10:45:02.522Z"
   },
   {
    "duration": 40,
    "start_time": "2023-01-11T10:45:02.587Z"
   },
   {
    "duration": 43,
    "start_time": "2023-01-11T10:45:02.630Z"
   },
   {
    "duration": 40,
    "start_time": "2023-01-11T10:45:02.675Z"
   },
   {
    "duration": 78,
    "start_time": "2023-01-11T10:45:02.717Z"
   },
   {
    "duration": 42,
    "start_time": "2023-01-11T10:45:02.797Z"
   },
   {
    "duration": 64,
    "start_time": "2023-01-11T10:45:02.840Z"
   },
   {
    "duration": 28,
    "start_time": "2023-01-11T11:39:52.949Z"
   },
   {
    "duration": 14,
    "start_time": "2023-01-11T11:40:13.875Z"
   },
   {
    "duration": 84,
    "start_time": "2023-01-11T11:40:21.086Z"
   },
   {
    "duration": 16,
    "start_time": "2023-01-11T11:40:21.172Z"
   },
   {
    "duration": 33,
    "start_time": "2023-01-11T11:40:21.190Z"
   },
   {
    "duration": 16,
    "start_time": "2023-01-11T11:40:21.225Z"
   },
   {
    "duration": 70,
    "start_time": "2023-01-11T11:40:21.243Z"
   },
   {
    "duration": 4,
    "start_time": "2023-01-11T11:40:21.315Z"
   },
   {
    "duration": 23,
    "start_time": "2023-01-11T11:40:21.320Z"
   },
   {
    "duration": 18,
    "start_time": "2023-01-11T11:40:21.346Z"
   },
   {
    "duration": 18,
    "start_time": "2023-01-11T11:40:21.366Z"
   },
   {
    "duration": 16,
    "start_time": "2023-01-11T11:40:21.388Z"
   },
   {
    "duration": 63,
    "start_time": "2023-01-11T11:40:21.406Z"
   },
   {
    "duration": 15,
    "start_time": "2023-01-11T11:40:21.471Z"
   },
   {
    "duration": 22,
    "start_time": "2023-01-11T11:40:21.488Z"
   },
   {
    "duration": 26,
    "start_time": "2023-01-11T11:40:21.512Z"
   },
   {
    "duration": 51,
    "start_time": "2023-01-11T11:40:21.541Z"
   },
   {
    "duration": 20,
    "start_time": "2023-01-11T11:40:21.593Z"
   },
   {
    "duration": 4,
    "start_time": "2023-01-11T11:40:21.615Z"
   },
   {
    "duration": 43,
    "start_time": "2023-01-11T11:40:21.620Z"
   },
   {
    "duration": 17,
    "start_time": "2023-01-11T11:40:21.665Z"
   },
   {
    "duration": 18,
    "start_time": "2023-01-11T11:40:21.683Z"
   },
   {
    "duration": 13,
    "start_time": "2023-01-11T11:40:21.703Z"
   },
   {
    "duration": 10,
    "start_time": "2023-01-11T11:40:21.718Z"
   },
   {
    "duration": 25,
    "start_time": "2023-01-11T11:40:21.729Z"
   },
   {
    "duration": 21,
    "start_time": "2023-01-11T11:40:21.755Z"
   },
   {
    "duration": 13,
    "start_time": "2023-01-11T11:40:21.778Z"
   },
   {
    "duration": 82,
    "start_time": "2023-01-11T11:58:24.006Z"
   },
   {
    "duration": 15,
    "start_time": "2023-01-11T11:58:24.091Z"
   },
   {
    "duration": 35,
    "start_time": "2023-01-11T11:58:24.108Z"
   },
   {
    "duration": 23,
    "start_time": "2023-01-11T11:58:24.146Z"
   },
   {
    "duration": 50,
    "start_time": "2023-01-11T11:58:24.172Z"
   },
   {
    "duration": 3,
    "start_time": "2023-01-11T11:58:24.224Z"
   },
   {
    "duration": 23,
    "start_time": "2023-01-11T11:58:24.234Z"
   },
   {
    "duration": 16,
    "start_time": "2023-01-11T11:58:24.259Z"
   },
   {
    "duration": 25,
    "start_time": "2023-01-11T11:58:24.277Z"
   },
   {
    "duration": 14,
    "start_time": "2023-01-11T11:58:24.305Z"
   },
   {
    "duration": 48,
    "start_time": "2023-01-11T11:58:24.322Z"
   },
   {
    "duration": 11,
    "start_time": "2023-01-11T11:58:24.371Z"
   },
   {
    "duration": 14,
    "start_time": "2023-01-11T11:58:24.383Z"
   },
   {
    "duration": 21,
    "start_time": "2023-01-11T11:58:24.399Z"
   },
   {
    "duration": 37,
    "start_time": "2023-01-11T11:58:24.421Z"
   },
   {
    "duration": 19,
    "start_time": "2023-01-11T11:58:24.460Z"
   },
   {
    "duration": 3,
    "start_time": "2023-01-11T11:58:24.481Z"
   },
   {
    "duration": 23,
    "start_time": "2023-01-11T11:58:24.486Z"
   },
   {
    "duration": 18,
    "start_time": "2023-01-11T11:58:24.511Z"
   },
   {
    "duration": 14,
    "start_time": "2023-01-11T11:58:24.531Z"
   },
   {
    "duration": 24,
    "start_time": "2023-01-11T11:58:24.547Z"
   },
   {
    "duration": 25,
    "start_time": "2023-01-11T11:58:24.573Z"
   },
   {
    "duration": 17,
    "start_time": "2023-01-11T11:58:24.600Z"
   },
   {
    "duration": 13,
    "start_time": "2023-01-11T11:58:24.619Z"
   },
   {
    "duration": 30,
    "start_time": "2023-01-11T11:58:24.634Z"
   },
   {
    "duration": 43,
    "start_time": "2023-01-12T13:53:16.196Z"
   },
   {
    "duration": 551,
    "start_time": "2023-01-12T13:53:21.318Z"
   },
   {
    "duration": 20,
    "start_time": "2023-01-12T13:53:21.871Z"
   },
   {
    "duration": 13,
    "start_time": "2023-01-12T13:53:21.892Z"
   },
   {
    "duration": 9,
    "start_time": "2023-01-12T13:53:21.907Z"
   },
   {
    "duration": 33,
    "start_time": "2023-01-12T13:53:21.918Z"
   },
   {
    "duration": 3,
    "start_time": "2023-01-12T13:53:21.952Z"
   },
   {
    "duration": 12,
    "start_time": "2023-01-12T13:53:21.957Z"
   },
   {
    "duration": 5,
    "start_time": "2023-01-12T13:53:21.970Z"
   },
   {
    "duration": 13,
    "start_time": "2023-01-12T13:53:21.977Z"
   },
   {
    "duration": 4,
    "start_time": "2023-01-12T13:53:21.993Z"
   },
   {
    "duration": 55,
    "start_time": "2023-01-12T13:53:21.999Z"
   },
   {
    "duration": 10,
    "start_time": "2023-01-12T13:53:22.056Z"
   },
   {
    "duration": 4,
    "start_time": "2023-01-12T13:53:22.067Z"
   },
   {
    "duration": 15,
    "start_time": "2023-01-12T13:53:22.073Z"
   },
   {
    "duration": 38,
    "start_time": "2023-01-12T13:53:22.089Z"
   },
   {
    "duration": 16,
    "start_time": "2023-01-12T13:53:22.128Z"
   },
   {
    "duration": 3,
    "start_time": "2023-01-12T13:53:22.145Z"
   },
   {
    "duration": 10,
    "start_time": "2023-01-12T13:53:22.150Z"
   },
   {
    "duration": 4,
    "start_time": "2023-01-12T13:53:22.162Z"
   },
   {
    "duration": 3,
    "start_time": "2023-01-12T13:53:22.168Z"
   },
   {
    "duration": 12,
    "start_time": "2023-01-12T13:53:22.172Z"
   },
   {
    "duration": 57,
    "start_time": "2023-01-12T13:53:22.185Z"
   },
   {
    "duration": 19,
    "start_time": "2023-01-12T13:53:24.115Z"
   },
   {
    "duration": 24,
    "start_time": "2023-01-12T13:53:34.556Z"
   },
   {
    "duration": 20,
    "start_time": "2023-01-12T13:54:48.256Z"
   },
   {
    "duration": 53,
    "start_time": "2023-01-12T13:58:21.842Z"
   },
   {
    "duration": 19,
    "start_time": "2023-01-12T13:58:32.058Z"
   },
   {
    "duration": 19,
    "start_time": "2023-01-12T14:01:03.204Z"
   },
   {
    "duration": 16,
    "start_time": "2023-01-12T14:01:14.569Z"
   },
   {
    "duration": 43,
    "start_time": "2023-01-12T14:02:22.354Z"
   },
   {
    "duration": 24,
    "start_time": "2023-01-12T14:02:31.185Z"
   },
   {
    "duration": 19,
    "start_time": "2023-01-12T14:02:48.314Z"
   },
   {
    "duration": 30,
    "start_time": "2023-01-12T14:03:31.992Z"
   },
   {
    "duration": 20,
    "start_time": "2023-01-12T14:10:32.184Z"
   },
   {
    "duration": 21,
    "start_time": "2023-01-12T14:11:58.737Z"
   },
   {
    "duration": 31,
    "start_time": "2023-01-12T14:13:08.693Z"
   },
   {
    "duration": 27,
    "start_time": "2023-01-12T14:14:36.804Z"
   },
   {
    "duration": 24,
    "start_time": "2023-01-12T14:15:30.722Z"
   },
   {
    "duration": 25,
    "start_time": "2023-01-12T14:23:59.509Z"
   },
   {
    "duration": 25,
    "start_time": "2023-01-12T14:24:12.355Z"
   },
   {
    "duration": 64,
    "start_time": "2023-01-12T14:37:06.240Z"
   },
   {
    "duration": 14,
    "start_time": "2023-01-12T14:37:06.305Z"
   },
   {
    "duration": 36,
    "start_time": "2023-01-12T14:37:06.320Z"
   },
   {
    "duration": 21,
    "start_time": "2023-01-12T14:37:06.357Z"
   },
   {
    "duration": 36,
    "start_time": "2023-01-12T14:37:06.379Z"
   },
   {
    "duration": 3,
    "start_time": "2023-01-12T14:37:06.416Z"
   },
   {
    "duration": 15,
    "start_time": "2023-01-12T14:37:06.421Z"
   },
   {
    "duration": 26,
    "start_time": "2023-01-12T14:37:06.438Z"
   },
   {
    "duration": 11,
    "start_time": "2023-01-12T14:37:06.466Z"
   },
   {
    "duration": 26,
    "start_time": "2023-01-12T14:37:06.478Z"
   },
   {
    "duration": 59,
    "start_time": "2023-01-12T14:37:06.506Z"
   },
   {
    "duration": 8,
    "start_time": "2023-01-12T14:37:06.567Z"
   },
   {
    "duration": 6,
    "start_time": "2023-01-12T14:37:06.576Z"
   },
   {
    "duration": 14,
    "start_time": "2023-01-12T14:37:06.586Z"
   },
   {
    "duration": 42,
    "start_time": "2023-01-12T14:37:06.601Z"
   },
   {
    "duration": 24,
    "start_time": "2023-01-12T14:37:06.644Z"
   },
   {
    "duration": 3,
    "start_time": "2023-01-12T14:37:06.670Z"
   },
   {
    "duration": 13,
    "start_time": "2023-01-12T14:37:06.674Z"
   },
   {
    "duration": 7,
    "start_time": "2023-01-12T14:37:06.688Z"
   },
   {
    "duration": 4,
    "start_time": "2023-01-12T14:37:06.696Z"
   },
   {
    "duration": 11,
    "start_time": "2023-01-12T14:37:06.701Z"
   },
   {
    "duration": 39,
    "start_time": "2023-01-12T14:37:06.713Z"
   },
   {
    "duration": 24,
    "start_time": "2023-01-12T14:37:06.753Z"
   },
   {
    "duration": 24,
    "start_time": "2023-01-12T14:37:06.778Z"
   },
   {
    "duration": 48,
    "start_time": "2023-01-12T14:37:06.803Z"
   },
   {
    "duration": 64,
    "start_time": "2023-01-12T15:00:34.353Z"
   },
   {
    "duration": 15,
    "start_time": "2023-01-12T15:00:34.419Z"
   },
   {
    "duration": 28,
    "start_time": "2023-01-12T15:00:34.435Z"
   },
   {
    "duration": 15,
    "start_time": "2023-01-12T15:00:34.465Z"
   },
   {
    "duration": 36,
    "start_time": "2023-01-12T15:00:34.482Z"
   },
   {
    "duration": 4,
    "start_time": "2023-01-12T15:00:34.519Z"
   },
   {
    "duration": 25,
    "start_time": "2023-01-12T15:00:34.524Z"
   },
   {
    "duration": 21,
    "start_time": "2023-01-12T15:00:34.550Z"
   },
   {
    "duration": 27,
    "start_time": "2023-01-12T15:00:34.573Z"
   },
   {
    "duration": 23,
    "start_time": "2023-01-12T15:00:34.602Z"
   },
   {
    "duration": 45,
    "start_time": "2023-01-12T15:00:34.626Z"
   },
   {
    "duration": 8,
    "start_time": "2023-01-12T15:00:34.672Z"
   },
   {
    "duration": 8,
    "start_time": "2023-01-12T15:00:34.681Z"
   },
   {
    "duration": 21,
    "start_time": "2023-01-12T15:00:34.690Z"
   },
   {
    "duration": 28,
    "start_time": "2023-01-12T15:00:34.712Z"
   },
   {
    "duration": 16,
    "start_time": "2023-01-12T15:00:34.742Z"
   },
   {
    "duration": 3,
    "start_time": "2023-01-12T15:00:34.759Z"
   },
   {
    "duration": 32,
    "start_time": "2023-01-12T15:00:34.763Z"
   },
   {
    "duration": 19,
    "start_time": "2023-01-12T15:00:34.797Z"
   },
   {
    "duration": 25,
    "start_time": "2023-01-12T15:00:34.818Z"
   },
   {
    "duration": 28,
    "start_time": "2023-01-12T15:00:34.845Z"
   },
   {
    "duration": 53,
    "start_time": "2023-01-12T15:00:34.874Z"
   },
   {
    "duration": 34,
    "start_time": "2023-01-12T15:00:34.929Z"
   },
   {
    "duration": 36,
    "start_time": "2023-01-12T15:00:34.964Z"
   },
   {
    "duration": 41,
    "start_time": "2023-01-12T15:00:35.001Z"
   },
   {
    "duration": 64,
    "start_time": "2023-01-12T15:00:37.597Z"
   },
   {
    "duration": 15,
    "start_time": "2023-01-12T15:00:37.662Z"
   },
   {
    "duration": 35,
    "start_time": "2023-01-12T15:00:37.678Z"
   },
   {
    "duration": 10,
    "start_time": "2023-01-12T15:00:37.715Z"
   },
   {
    "duration": 33,
    "start_time": "2023-01-12T15:00:37.727Z"
   },
   {
    "duration": 4,
    "start_time": "2023-01-12T15:00:37.761Z"
   },
   {
    "duration": 11,
    "start_time": "2023-01-12T15:00:37.766Z"
   },
   {
    "duration": 14,
    "start_time": "2023-01-12T15:00:37.778Z"
   },
   {
    "duration": 13,
    "start_time": "2023-01-12T15:00:37.793Z"
   },
   {
    "duration": 19,
    "start_time": "2023-01-12T15:00:37.808Z"
   },
   {
    "duration": 32,
    "start_time": "2023-01-12T15:00:37.831Z"
   },
   {
    "duration": 9,
    "start_time": "2023-01-12T15:00:37.864Z"
   },
   {
    "duration": 7,
    "start_time": "2023-01-12T15:00:37.874Z"
   },
   {
    "duration": 28,
    "start_time": "2023-01-12T15:00:37.883Z"
   },
   {
    "duration": 37,
    "start_time": "2023-01-12T15:00:37.913Z"
   },
   {
    "duration": 15,
    "start_time": "2023-01-12T15:00:37.952Z"
   },
   {
    "duration": 3,
    "start_time": "2023-01-12T15:00:37.969Z"
   },
   {
    "duration": 32,
    "start_time": "2023-01-12T15:00:37.973Z"
   },
   {
    "duration": 6,
    "start_time": "2023-01-12T15:00:38.006Z"
   },
   {
    "duration": 12,
    "start_time": "2023-01-12T15:00:38.013Z"
   },
   {
    "duration": 50,
    "start_time": "2023-01-12T15:00:38.027Z"
   },
   {
    "duration": 49,
    "start_time": "2023-01-12T15:00:38.078Z"
   },
   {
    "duration": 33,
    "start_time": "2023-01-12T15:00:38.129Z"
   },
   {
    "duration": 22,
    "start_time": "2023-01-12T15:00:38.164Z"
   },
   {
    "duration": 23,
    "start_time": "2023-01-12T15:00:38.188Z"
   },
   {
    "duration": 22,
    "start_time": "2023-01-12T15:02:10.989Z"
   },
   {
    "duration": 24,
    "start_time": "2023-01-12T15:02:19.236Z"
   },
   {
    "duration": 25,
    "start_time": "2023-01-12T15:04:12.769Z"
   },
   {
    "duration": 24,
    "start_time": "2023-01-12T15:04:20.695Z"
   },
   {
    "duration": 26,
    "start_time": "2023-01-12T15:04:25.379Z"
   },
   {
    "duration": 65,
    "start_time": "2023-01-12T15:06:55.523Z"
   },
   {
    "duration": 13,
    "start_time": "2023-01-12T15:06:55.590Z"
   },
   {
    "duration": 17,
    "start_time": "2023-01-12T15:06:55.605Z"
   },
   {
    "duration": 10,
    "start_time": "2023-01-12T15:06:55.627Z"
   },
   {
    "duration": 38,
    "start_time": "2023-01-12T15:06:55.639Z"
   },
   {
    "duration": 4,
    "start_time": "2023-01-12T15:06:55.679Z"
   },
   {
    "duration": 41,
    "start_time": "2023-01-12T15:06:55.685Z"
   },
   {
    "duration": 5,
    "start_time": "2023-01-12T15:06:55.728Z"
   },
   {
    "duration": 10,
    "start_time": "2023-01-12T15:06:55.734Z"
   },
   {
    "duration": 30,
    "start_time": "2023-01-12T15:06:55.747Z"
   },
   {
    "duration": 45,
    "start_time": "2023-01-12T15:06:55.779Z"
   },
   {
    "duration": 11,
    "start_time": "2023-01-12T15:06:55.826Z"
   },
   {
    "duration": 14,
    "start_time": "2023-01-12T15:06:55.838Z"
   },
   {
    "duration": 27,
    "start_time": "2023-01-12T15:06:55.853Z"
   },
   {
    "duration": 20,
    "start_time": "2023-01-12T15:06:55.881Z"
   },
   {
    "duration": 27,
    "start_time": "2023-01-12T15:06:55.902Z"
   },
   {
    "duration": 4,
    "start_time": "2023-01-12T15:06:55.930Z"
   },
   {
    "duration": 11,
    "start_time": "2023-01-12T15:06:55.936Z"
   },
   {
    "duration": 9,
    "start_time": "2023-01-12T15:06:55.949Z"
   },
   {
    "duration": 4,
    "start_time": "2023-01-12T15:06:55.959Z"
   },
   {
    "duration": 11,
    "start_time": "2023-01-12T15:06:55.964Z"
   },
   {
    "duration": 58,
    "start_time": "2023-01-12T15:06:55.976Z"
   },
   {
    "duration": 27,
    "start_time": "2023-01-12T15:06:56.035Z"
   },
   {
    "duration": 26,
    "start_time": "2023-01-12T15:06:56.064Z"
   },
   {
    "duration": 53,
    "start_time": "2023-01-12T15:06:56.091Z"
   }
  ],
  "colab": {
   "name": "dpp_template_part2.ipynb",
   "provenance": []
  },
  "kernelspec": {
   "display_name": "Python 3 (ipykernel)",
   "language": "python",
   "name": "python3"
  },
  "language_info": {
   "codemirror_mode": {
    "name": "ipython",
    "version": 3
   },
   "file_extension": ".py",
   "mimetype": "text/x-python",
   "name": "python",
   "nbconvert_exporter": "python",
   "pygments_lexer": "ipython3",
   "version": "3.9.13"
  },
  "toc": {
   "base_numbering": 1,
   "nav_menu": {},
   "number_sections": true,
   "sideBar": true,
   "skip_h1_title": true,
   "title_cell": "Table of Contents",
   "title_sidebar": "Contents",
   "toc_cell": false,
   "toc_position": {},
   "toc_section_display": true,
   "toc_window_display": false
  }
 },
 "nbformat": 4,
 "nbformat_minor": 5
}
