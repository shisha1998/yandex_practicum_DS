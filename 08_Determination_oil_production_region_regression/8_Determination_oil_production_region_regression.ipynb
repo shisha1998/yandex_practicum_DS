{
 "cells": [
  {
   "cell_type": "markdown",
   "metadata": {},
   "source": [
    "# Выбор локации для скважины"
   ]
  },
  {
   "cell_type": "markdown",
   "metadata": {},
   "source": [
    "Мне предоставлены пробы нефти в трёх регионах: в каждом 10 000 месторождений, где измерили качество нефти и объём её запасов. Необходимо построить модель машинного обучения, которая поможет определить регион, где добыча принесёт наибольшую прибыль. Необходимо также проанализировать возможную прибыль и риски техникой *Bootstrap.*\n",
    "\n",
    "Шаги для выбора локации:\n",
    "\n",
    "- В избранном регионе ищут месторождения, для каждого определяют значения признаков;\n",
    "- Строят модель и оценивают объём запасов;\n",
    "- Выбирают месторождения с самым высокими оценками значений. Количество месторождений зависит от бюджета компании и стоимости разработки одной скважины;\n",
    "- Прибыль равна суммарной прибыли отобранных месторождений."
   ]
  },
  {
   "cell_type": "markdown",
   "metadata": {},
   "source": [
    "Описание данных\n",
    "\n",
    "- id — уникальный идентификатор скважины;\n",
    "- f0, f1, f2 — три признака точек (неважно, что они означают, но сами признаки значимы);\n",
    "- product — объём запасов в скважине (тыс. баррелей)."
   ]
  },
  {
   "cell_type": "markdown",
   "metadata": {},
   "source": [
    "## Загрузка и подготовка данных"
   ]
  },
  {
   "cell_type": "code",
   "execution_count": 1,
   "metadata": {},
   "outputs": [],
   "source": [
    "import pandas as pd\n",
    "import numpy as np\n",
    "import matplotlib.pyplot as plt\n",
    "import seaborn as sns\n",
    "from sklearn.model_selection import train_test_split\n",
    "from sklearn.preprocessing import StandardScaler\n",
    "from sklearn.linear_model import LinearRegression\n",
    "from sklearn.metrics import mean_squared_error\n",
    "from sklearn.metrics import r2_score\n",
    "from sklearn.metrics import mean_absolute_error"
   ]
  },
  {
   "cell_type": "code",
   "execution_count": 2,
   "metadata": {},
   "outputs": [
    {
     "data": {
      "text/html": [
       "<style>.container { width:90% !important; }</style>"
      ],
      "text/plain": [
       "<IPython.core.display.HTML object>"
      ]
     },
     "metadata": {},
     "output_type": "display_data"
    }
   ],
   "source": [
    "from IPython.core.display import display, HTML\n",
    "display(HTML(\"<style>.container { width:90% !important; }</style>\"))"
   ]
  },
  {
   "cell_type": "code",
   "execution_count": 3,
   "metadata": {},
   "outputs": [],
   "source": [
    "def func_info(data):\n",
    "    print('Описание датасета:')\n",
    "    display(data.head(5))\n",
    "    display(data.info())\n",
    "    display(data.describe())\n",
    "    display(data.corr())\n",
    "    print(('Количество дубликатов по f0, f1, f2: {0}').format(data.drop(['id'], axis=1).duplicated().sum()))\n",
    "    print(('Количество дубликатов по id: {0}').format(data['id'].duplicated().sum()))\n",
    "    data = data.drop_duplicates(subset='id')\n",
    "    print(('Количество дубликатов по id после удаления: {0}').format(data['id'].duplicated().sum()))\n",
    "    print()\n",
    "    data.hist(bins = 100, figsize=(10, 10));\n",
    "    return "
   ]
  },
  {
   "cell_type": "code",
   "execution_count": 4,
   "metadata": {},
   "outputs": [],
   "source": [
    "data_0 = pd.read_csv('/datasets/geo_data_0.csv')\n",
    "data_1 = pd.read_csv('/datasets/geo_data_1.csv')\n",
    "data_2 = pd.read_csv('/datasets/geo_data_2.csv')"
   ]
  },
  {
   "cell_type": "code",
   "execution_count": 5,
   "metadata": {},
   "outputs": [
    {
     "name": "stdout",
     "output_type": "stream",
     "text": [
      "Описание датасета:\n"
     ]
    },
    {
     "data": {
      "text/html": [
       "<div>\n",
       "<style scoped>\n",
       "    .dataframe tbody tr th:only-of-type {\n",
       "        vertical-align: middle;\n",
       "    }\n",
       "\n",
       "    .dataframe tbody tr th {\n",
       "        vertical-align: top;\n",
       "    }\n",
       "\n",
       "    .dataframe thead th {\n",
       "        text-align: right;\n",
       "    }\n",
       "</style>\n",
       "<table border=\"1\" class=\"dataframe\">\n",
       "  <thead>\n",
       "    <tr style=\"text-align: right;\">\n",
       "      <th></th>\n",
       "      <th>id</th>\n",
       "      <th>f0</th>\n",
       "      <th>f1</th>\n",
       "      <th>f2</th>\n",
       "      <th>product</th>\n",
       "    </tr>\n",
       "  </thead>\n",
       "  <tbody>\n",
       "    <tr>\n",
       "      <th>0</th>\n",
       "      <td>txEyH</td>\n",
       "      <td>0.705745</td>\n",
       "      <td>-0.497823</td>\n",
       "      <td>1.221170</td>\n",
       "      <td>105.280062</td>\n",
       "    </tr>\n",
       "    <tr>\n",
       "      <th>1</th>\n",
       "      <td>2acmU</td>\n",
       "      <td>1.334711</td>\n",
       "      <td>-0.340164</td>\n",
       "      <td>4.365080</td>\n",
       "      <td>73.037750</td>\n",
       "    </tr>\n",
       "    <tr>\n",
       "      <th>2</th>\n",
       "      <td>409Wp</td>\n",
       "      <td>1.022732</td>\n",
       "      <td>0.151990</td>\n",
       "      <td>1.419926</td>\n",
       "      <td>85.265647</td>\n",
       "    </tr>\n",
       "    <tr>\n",
       "      <th>3</th>\n",
       "      <td>iJLyR</td>\n",
       "      <td>-0.032172</td>\n",
       "      <td>0.139033</td>\n",
       "      <td>2.978566</td>\n",
       "      <td>168.620776</td>\n",
       "    </tr>\n",
       "    <tr>\n",
       "      <th>4</th>\n",
       "      <td>Xdl7t</td>\n",
       "      <td>1.988431</td>\n",
       "      <td>0.155413</td>\n",
       "      <td>4.751769</td>\n",
       "      <td>154.036647</td>\n",
       "    </tr>\n",
       "  </tbody>\n",
       "</table>\n",
       "</div>"
      ],
      "text/plain": [
       "      id        f0        f1        f2     product\n",
       "0  txEyH  0.705745 -0.497823  1.221170  105.280062\n",
       "1  2acmU  1.334711 -0.340164  4.365080   73.037750\n",
       "2  409Wp  1.022732  0.151990  1.419926   85.265647\n",
       "3  iJLyR -0.032172  0.139033  2.978566  168.620776\n",
       "4  Xdl7t  1.988431  0.155413  4.751769  154.036647"
      ]
     },
     "metadata": {},
     "output_type": "display_data"
    },
    {
     "name": "stdout",
     "output_type": "stream",
     "text": [
      "<class 'pandas.core.frame.DataFrame'>\n",
      "RangeIndex: 100000 entries, 0 to 99999\n",
      "Data columns (total 5 columns):\n",
      " #   Column   Non-Null Count   Dtype  \n",
      "---  ------   --------------   -----  \n",
      " 0   id       100000 non-null  object \n",
      " 1   f0       100000 non-null  float64\n",
      " 2   f1       100000 non-null  float64\n",
      " 3   f2       100000 non-null  float64\n",
      " 4   product  100000 non-null  float64\n",
      "dtypes: float64(4), object(1)\n",
      "memory usage: 3.8+ MB\n"
     ]
    },
    {
     "data": {
      "text/plain": [
       "None"
      ]
     },
     "metadata": {},
     "output_type": "display_data"
    },
    {
     "data": {
      "text/html": [
       "<div>\n",
       "<style scoped>\n",
       "    .dataframe tbody tr th:only-of-type {\n",
       "        vertical-align: middle;\n",
       "    }\n",
       "\n",
       "    .dataframe tbody tr th {\n",
       "        vertical-align: top;\n",
       "    }\n",
       "\n",
       "    .dataframe thead th {\n",
       "        text-align: right;\n",
       "    }\n",
       "</style>\n",
       "<table border=\"1\" class=\"dataframe\">\n",
       "  <thead>\n",
       "    <tr style=\"text-align: right;\">\n",
       "      <th></th>\n",
       "      <th>f0</th>\n",
       "      <th>f1</th>\n",
       "      <th>f2</th>\n",
       "      <th>product</th>\n",
       "    </tr>\n",
       "  </thead>\n",
       "  <tbody>\n",
       "    <tr>\n",
       "      <th>count</th>\n",
       "      <td>100000.000000</td>\n",
       "      <td>100000.000000</td>\n",
       "      <td>100000.000000</td>\n",
       "      <td>100000.000000</td>\n",
       "    </tr>\n",
       "    <tr>\n",
       "      <th>mean</th>\n",
       "      <td>0.500419</td>\n",
       "      <td>0.250143</td>\n",
       "      <td>2.502647</td>\n",
       "      <td>92.500000</td>\n",
       "    </tr>\n",
       "    <tr>\n",
       "      <th>std</th>\n",
       "      <td>0.871832</td>\n",
       "      <td>0.504433</td>\n",
       "      <td>3.248248</td>\n",
       "      <td>44.288691</td>\n",
       "    </tr>\n",
       "    <tr>\n",
       "      <th>min</th>\n",
       "      <td>-1.408605</td>\n",
       "      <td>-0.848218</td>\n",
       "      <td>-12.088328</td>\n",
       "      <td>0.000000</td>\n",
       "    </tr>\n",
       "    <tr>\n",
       "      <th>25%</th>\n",
       "      <td>-0.072580</td>\n",
       "      <td>-0.200881</td>\n",
       "      <td>0.287748</td>\n",
       "      <td>56.497507</td>\n",
       "    </tr>\n",
       "    <tr>\n",
       "      <th>50%</th>\n",
       "      <td>0.502360</td>\n",
       "      <td>0.250252</td>\n",
       "      <td>2.515969</td>\n",
       "      <td>91.849972</td>\n",
       "    </tr>\n",
       "    <tr>\n",
       "      <th>75%</th>\n",
       "      <td>1.073581</td>\n",
       "      <td>0.700646</td>\n",
       "      <td>4.715088</td>\n",
       "      <td>128.564089</td>\n",
       "    </tr>\n",
       "    <tr>\n",
       "      <th>max</th>\n",
       "      <td>2.362331</td>\n",
       "      <td>1.343769</td>\n",
       "      <td>16.003790</td>\n",
       "      <td>185.364347</td>\n",
       "    </tr>\n",
       "  </tbody>\n",
       "</table>\n",
       "</div>"
      ],
      "text/plain": [
       "                  f0             f1             f2        product\n",
       "count  100000.000000  100000.000000  100000.000000  100000.000000\n",
       "mean        0.500419       0.250143       2.502647      92.500000\n",
       "std         0.871832       0.504433       3.248248      44.288691\n",
       "min        -1.408605      -0.848218     -12.088328       0.000000\n",
       "25%        -0.072580      -0.200881       0.287748      56.497507\n",
       "50%         0.502360       0.250252       2.515969      91.849972\n",
       "75%         1.073581       0.700646       4.715088     128.564089\n",
       "max         2.362331       1.343769      16.003790     185.364347"
      ]
     },
     "metadata": {},
     "output_type": "display_data"
    },
    {
     "data": {
      "text/html": [
       "<div>\n",
       "<style scoped>\n",
       "    .dataframe tbody tr th:only-of-type {\n",
       "        vertical-align: middle;\n",
       "    }\n",
       "\n",
       "    .dataframe tbody tr th {\n",
       "        vertical-align: top;\n",
       "    }\n",
       "\n",
       "    .dataframe thead th {\n",
       "        text-align: right;\n",
       "    }\n",
       "</style>\n",
       "<table border=\"1\" class=\"dataframe\">\n",
       "  <thead>\n",
       "    <tr style=\"text-align: right;\">\n",
       "      <th></th>\n",
       "      <th>f0</th>\n",
       "      <th>f1</th>\n",
       "      <th>f2</th>\n",
       "      <th>product</th>\n",
       "    </tr>\n",
       "  </thead>\n",
       "  <tbody>\n",
       "    <tr>\n",
       "      <th>f0</th>\n",
       "      <td>1.000000</td>\n",
       "      <td>-0.440723</td>\n",
       "      <td>-0.003153</td>\n",
       "      <td>0.143536</td>\n",
       "    </tr>\n",
       "    <tr>\n",
       "      <th>f1</th>\n",
       "      <td>-0.440723</td>\n",
       "      <td>1.000000</td>\n",
       "      <td>0.001724</td>\n",
       "      <td>-0.192356</td>\n",
       "    </tr>\n",
       "    <tr>\n",
       "      <th>f2</th>\n",
       "      <td>-0.003153</td>\n",
       "      <td>0.001724</td>\n",
       "      <td>1.000000</td>\n",
       "      <td>0.483663</td>\n",
       "    </tr>\n",
       "    <tr>\n",
       "      <th>product</th>\n",
       "      <td>0.143536</td>\n",
       "      <td>-0.192356</td>\n",
       "      <td>0.483663</td>\n",
       "      <td>1.000000</td>\n",
       "    </tr>\n",
       "  </tbody>\n",
       "</table>\n",
       "</div>"
      ],
      "text/plain": [
       "               f0        f1        f2   product\n",
       "f0       1.000000 -0.440723 -0.003153  0.143536\n",
       "f1      -0.440723  1.000000  0.001724 -0.192356\n",
       "f2      -0.003153  0.001724  1.000000  0.483663\n",
       "product  0.143536 -0.192356  0.483663  1.000000"
      ]
     },
     "metadata": {},
     "output_type": "display_data"
    },
    {
     "name": "stdout",
     "output_type": "stream",
     "text": [
      "Количество дубликатов по f0, f1, f2: 0\n",
      "Количество дубликатов по id: 10\n",
      "Количество дубликатов по id после удаления: 0\n",
      "\n",
      "Описание датасета:\n"
     ]
    },
    {
     "data": {
      "text/html": [
       "<div>\n",
       "<style scoped>\n",
       "    .dataframe tbody tr th:only-of-type {\n",
       "        vertical-align: middle;\n",
       "    }\n",
       "\n",
       "    .dataframe tbody tr th {\n",
       "        vertical-align: top;\n",
       "    }\n",
       "\n",
       "    .dataframe thead th {\n",
       "        text-align: right;\n",
       "    }\n",
       "</style>\n",
       "<table border=\"1\" class=\"dataframe\">\n",
       "  <thead>\n",
       "    <tr style=\"text-align: right;\">\n",
       "      <th></th>\n",
       "      <th>id</th>\n",
       "      <th>f0</th>\n",
       "      <th>f1</th>\n",
       "      <th>f2</th>\n",
       "      <th>product</th>\n",
       "    </tr>\n",
       "  </thead>\n",
       "  <tbody>\n",
       "    <tr>\n",
       "      <th>0</th>\n",
       "      <td>kBEdx</td>\n",
       "      <td>-15.001348</td>\n",
       "      <td>-8.276000</td>\n",
       "      <td>-0.005876</td>\n",
       "      <td>3.179103</td>\n",
       "    </tr>\n",
       "    <tr>\n",
       "      <th>1</th>\n",
       "      <td>62mP7</td>\n",
       "      <td>14.272088</td>\n",
       "      <td>-3.475083</td>\n",
       "      <td>0.999183</td>\n",
       "      <td>26.953261</td>\n",
       "    </tr>\n",
       "    <tr>\n",
       "      <th>2</th>\n",
       "      <td>vyE1P</td>\n",
       "      <td>6.263187</td>\n",
       "      <td>-5.948386</td>\n",
       "      <td>5.001160</td>\n",
       "      <td>134.766305</td>\n",
       "    </tr>\n",
       "    <tr>\n",
       "      <th>3</th>\n",
       "      <td>KcrkZ</td>\n",
       "      <td>-13.081196</td>\n",
       "      <td>-11.506057</td>\n",
       "      <td>4.999415</td>\n",
       "      <td>137.945408</td>\n",
       "    </tr>\n",
       "    <tr>\n",
       "      <th>4</th>\n",
       "      <td>AHL4O</td>\n",
       "      <td>12.702195</td>\n",
       "      <td>-8.147433</td>\n",
       "      <td>5.004363</td>\n",
       "      <td>134.766305</td>\n",
       "    </tr>\n",
       "  </tbody>\n",
       "</table>\n",
       "</div>"
      ],
      "text/plain": [
       "      id         f0         f1        f2     product\n",
       "0  kBEdx -15.001348  -8.276000 -0.005876    3.179103\n",
       "1  62mP7  14.272088  -3.475083  0.999183   26.953261\n",
       "2  vyE1P   6.263187  -5.948386  5.001160  134.766305\n",
       "3  KcrkZ -13.081196 -11.506057  4.999415  137.945408\n",
       "4  AHL4O  12.702195  -8.147433  5.004363  134.766305"
      ]
     },
     "metadata": {},
     "output_type": "display_data"
    },
    {
     "name": "stdout",
     "output_type": "stream",
     "text": [
      "<class 'pandas.core.frame.DataFrame'>\n",
      "RangeIndex: 100000 entries, 0 to 99999\n",
      "Data columns (total 5 columns):\n",
      " #   Column   Non-Null Count   Dtype  \n",
      "---  ------   --------------   -----  \n",
      " 0   id       100000 non-null  object \n",
      " 1   f0       100000 non-null  float64\n",
      " 2   f1       100000 non-null  float64\n",
      " 3   f2       100000 non-null  float64\n",
      " 4   product  100000 non-null  float64\n",
      "dtypes: float64(4), object(1)\n",
      "memory usage: 3.8+ MB\n"
     ]
    },
    {
     "data": {
      "text/plain": [
       "None"
      ]
     },
     "metadata": {},
     "output_type": "display_data"
    },
    {
     "data": {
      "text/html": [
       "<div>\n",
       "<style scoped>\n",
       "    .dataframe tbody tr th:only-of-type {\n",
       "        vertical-align: middle;\n",
       "    }\n",
       "\n",
       "    .dataframe tbody tr th {\n",
       "        vertical-align: top;\n",
       "    }\n",
       "\n",
       "    .dataframe thead th {\n",
       "        text-align: right;\n",
       "    }\n",
       "</style>\n",
       "<table border=\"1\" class=\"dataframe\">\n",
       "  <thead>\n",
       "    <tr style=\"text-align: right;\">\n",
       "      <th></th>\n",
       "      <th>f0</th>\n",
       "      <th>f1</th>\n",
       "      <th>f2</th>\n",
       "      <th>product</th>\n",
       "    </tr>\n",
       "  </thead>\n",
       "  <tbody>\n",
       "    <tr>\n",
       "      <th>count</th>\n",
       "      <td>100000.000000</td>\n",
       "      <td>100000.000000</td>\n",
       "      <td>100000.000000</td>\n",
       "      <td>100000.000000</td>\n",
       "    </tr>\n",
       "    <tr>\n",
       "      <th>mean</th>\n",
       "      <td>1.141296</td>\n",
       "      <td>-4.796579</td>\n",
       "      <td>2.494541</td>\n",
       "      <td>68.825000</td>\n",
       "    </tr>\n",
       "    <tr>\n",
       "      <th>std</th>\n",
       "      <td>8.965932</td>\n",
       "      <td>5.119872</td>\n",
       "      <td>1.703572</td>\n",
       "      <td>45.944423</td>\n",
       "    </tr>\n",
       "    <tr>\n",
       "      <th>min</th>\n",
       "      <td>-31.609576</td>\n",
       "      <td>-26.358598</td>\n",
       "      <td>-0.018144</td>\n",
       "      <td>0.000000</td>\n",
       "    </tr>\n",
       "    <tr>\n",
       "      <th>25%</th>\n",
       "      <td>-6.298551</td>\n",
       "      <td>-8.267985</td>\n",
       "      <td>1.000021</td>\n",
       "      <td>26.953261</td>\n",
       "    </tr>\n",
       "    <tr>\n",
       "      <th>50%</th>\n",
       "      <td>1.153055</td>\n",
       "      <td>-4.813172</td>\n",
       "      <td>2.011479</td>\n",
       "      <td>57.085625</td>\n",
       "    </tr>\n",
       "    <tr>\n",
       "      <th>75%</th>\n",
       "      <td>8.621015</td>\n",
       "      <td>-1.332816</td>\n",
       "      <td>3.999904</td>\n",
       "      <td>107.813044</td>\n",
       "    </tr>\n",
       "    <tr>\n",
       "      <th>max</th>\n",
       "      <td>29.421755</td>\n",
       "      <td>18.734063</td>\n",
       "      <td>5.019721</td>\n",
       "      <td>137.945408</td>\n",
       "    </tr>\n",
       "  </tbody>\n",
       "</table>\n",
       "</div>"
      ],
      "text/plain": [
       "                  f0             f1             f2        product\n",
       "count  100000.000000  100000.000000  100000.000000  100000.000000\n",
       "mean        1.141296      -4.796579       2.494541      68.825000\n",
       "std         8.965932       5.119872       1.703572      45.944423\n",
       "min       -31.609576     -26.358598      -0.018144       0.000000\n",
       "25%        -6.298551      -8.267985       1.000021      26.953261\n",
       "50%         1.153055      -4.813172       2.011479      57.085625\n",
       "75%         8.621015      -1.332816       3.999904     107.813044\n",
       "max        29.421755      18.734063       5.019721     137.945408"
      ]
     },
     "metadata": {},
     "output_type": "display_data"
    },
    {
     "data": {
      "text/html": [
       "<div>\n",
       "<style scoped>\n",
       "    .dataframe tbody tr th:only-of-type {\n",
       "        vertical-align: middle;\n",
       "    }\n",
       "\n",
       "    .dataframe tbody tr th {\n",
       "        vertical-align: top;\n",
       "    }\n",
       "\n",
       "    .dataframe thead th {\n",
       "        text-align: right;\n",
       "    }\n",
       "</style>\n",
       "<table border=\"1\" class=\"dataframe\">\n",
       "  <thead>\n",
       "    <tr style=\"text-align: right;\">\n",
       "      <th></th>\n",
       "      <th>f0</th>\n",
       "      <th>f1</th>\n",
       "      <th>f2</th>\n",
       "      <th>product</th>\n",
       "    </tr>\n",
       "  </thead>\n",
       "  <tbody>\n",
       "    <tr>\n",
       "      <th>f0</th>\n",
       "      <td>1.000000</td>\n",
       "      <td>0.182287</td>\n",
       "      <td>-0.001777</td>\n",
       "      <td>-0.030491</td>\n",
       "    </tr>\n",
       "    <tr>\n",
       "      <th>f1</th>\n",
       "      <td>0.182287</td>\n",
       "      <td>1.000000</td>\n",
       "      <td>-0.002595</td>\n",
       "      <td>-0.010155</td>\n",
       "    </tr>\n",
       "    <tr>\n",
       "      <th>f2</th>\n",
       "      <td>-0.001777</td>\n",
       "      <td>-0.002595</td>\n",
       "      <td>1.000000</td>\n",
       "      <td>0.999397</td>\n",
       "    </tr>\n",
       "    <tr>\n",
       "      <th>product</th>\n",
       "      <td>-0.030491</td>\n",
       "      <td>-0.010155</td>\n",
       "      <td>0.999397</td>\n",
       "      <td>1.000000</td>\n",
       "    </tr>\n",
       "  </tbody>\n",
       "</table>\n",
       "</div>"
      ],
      "text/plain": [
       "               f0        f1        f2   product\n",
       "f0       1.000000  0.182287 -0.001777 -0.030491\n",
       "f1       0.182287  1.000000 -0.002595 -0.010155\n",
       "f2      -0.001777 -0.002595  1.000000  0.999397\n",
       "product -0.030491 -0.010155  0.999397  1.000000"
      ]
     },
     "metadata": {},
     "output_type": "display_data"
    },
    {
     "name": "stdout",
     "output_type": "stream",
     "text": [
      "Количество дубликатов по f0, f1, f2: 0\n",
      "Количество дубликатов по id: 4\n",
      "Количество дубликатов по id после удаления: 0\n",
      "\n",
      "Описание датасета:\n"
     ]
    },
    {
     "data": {
      "text/html": [
       "<div>\n",
       "<style scoped>\n",
       "    .dataframe tbody tr th:only-of-type {\n",
       "        vertical-align: middle;\n",
       "    }\n",
       "\n",
       "    .dataframe tbody tr th {\n",
       "        vertical-align: top;\n",
       "    }\n",
       "\n",
       "    .dataframe thead th {\n",
       "        text-align: right;\n",
       "    }\n",
       "</style>\n",
       "<table border=\"1\" class=\"dataframe\">\n",
       "  <thead>\n",
       "    <tr style=\"text-align: right;\">\n",
       "      <th></th>\n",
       "      <th>id</th>\n",
       "      <th>f0</th>\n",
       "      <th>f1</th>\n",
       "      <th>f2</th>\n",
       "      <th>product</th>\n",
       "    </tr>\n",
       "  </thead>\n",
       "  <tbody>\n",
       "    <tr>\n",
       "      <th>0</th>\n",
       "      <td>fwXo0</td>\n",
       "      <td>-1.146987</td>\n",
       "      <td>0.963328</td>\n",
       "      <td>-0.828965</td>\n",
       "      <td>27.758673</td>\n",
       "    </tr>\n",
       "    <tr>\n",
       "      <th>1</th>\n",
       "      <td>WJtFt</td>\n",
       "      <td>0.262778</td>\n",
       "      <td>0.269839</td>\n",
       "      <td>-2.530187</td>\n",
       "      <td>56.069697</td>\n",
       "    </tr>\n",
       "    <tr>\n",
       "      <th>2</th>\n",
       "      <td>ovLUW</td>\n",
       "      <td>0.194587</td>\n",
       "      <td>0.289035</td>\n",
       "      <td>-5.586433</td>\n",
       "      <td>62.871910</td>\n",
       "    </tr>\n",
       "    <tr>\n",
       "      <th>3</th>\n",
       "      <td>q6cA6</td>\n",
       "      <td>2.236060</td>\n",
       "      <td>-0.553760</td>\n",
       "      <td>0.930038</td>\n",
       "      <td>114.572842</td>\n",
       "    </tr>\n",
       "    <tr>\n",
       "      <th>4</th>\n",
       "      <td>WPMUX</td>\n",
       "      <td>-0.515993</td>\n",
       "      <td>1.716266</td>\n",
       "      <td>5.899011</td>\n",
       "      <td>149.600746</td>\n",
       "    </tr>\n",
       "  </tbody>\n",
       "</table>\n",
       "</div>"
      ],
      "text/plain": [
       "      id        f0        f1        f2     product\n",
       "0  fwXo0 -1.146987  0.963328 -0.828965   27.758673\n",
       "1  WJtFt  0.262778  0.269839 -2.530187   56.069697\n",
       "2  ovLUW  0.194587  0.289035 -5.586433   62.871910\n",
       "3  q6cA6  2.236060 -0.553760  0.930038  114.572842\n",
       "4  WPMUX -0.515993  1.716266  5.899011  149.600746"
      ]
     },
     "metadata": {},
     "output_type": "display_data"
    },
    {
     "name": "stdout",
     "output_type": "stream",
     "text": [
      "<class 'pandas.core.frame.DataFrame'>\n",
      "RangeIndex: 100000 entries, 0 to 99999\n",
      "Data columns (total 5 columns):\n",
      " #   Column   Non-Null Count   Dtype  \n",
      "---  ------   --------------   -----  \n",
      " 0   id       100000 non-null  object \n",
      " 1   f0       100000 non-null  float64\n",
      " 2   f1       100000 non-null  float64\n",
      " 3   f2       100000 non-null  float64\n",
      " 4   product  100000 non-null  float64\n",
      "dtypes: float64(4), object(1)\n",
      "memory usage: 3.8+ MB\n"
     ]
    },
    {
     "data": {
      "text/plain": [
       "None"
      ]
     },
     "metadata": {},
     "output_type": "display_data"
    },
    {
     "data": {
      "text/html": [
       "<div>\n",
       "<style scoped>\n",
       "    .dataframe tbody tr th:only-of-type {\n",
       "        vertical-align: middle;\n",
       "    }\n",
       "\n",
       "    .dataframe tbody tr th {\n",
       "        vertical-align: top;\n",
       "    }\n",
       "\n",
       "    .dataframe thead th {\n",
       "        text-align: right;\n",
       "    }\n",
       "</style>\n",
       "<table border=\"1\" class=\"dataframe\">\n",
       "  <thead>\n",
       "    <tr style=\"text-align: right;\">\n",
       "      <th></th>\n",
       "      <th>f0</th>\n",
       "      <th>f1</th>\n",
       "      <th>f2</th>\n",
       "      <th>product</th>\n",
       "    </tr>\n",
       "  </thead>\n",
       "  <tbody>\n",
       "    <tr>\n",
       "      <th>count</th>\n",
       "      <td>100000.000000</td>\n",
       "      <td>100000.000000</td>\n",
       "      <td>100000.000000</td>\n",
       "      <td>100000.000000</td>\n",
       "    </tr>\n",
       "    <tr>\n",
       "      <th>mean</th>\n",
       "      <td>0.002023</td>\n",
       "      <td>-0.002081</td>\n",
       "      <td>2.495128</td>\n",
       "      <td>95.000000</td>\n",
       "    </tr>\n",
       "    <tr>\n",
       "      <th>std</th>\n",
       "      <td>1.732045</td>\n",
       "      <td>1.730417</td>\n",
       "      <td>3.473445</td>\n",
       "      <td>44.749921</td>\n",
       "    </tr>\n",
       "    <tr>\n",
       "      <th>min</th>\n",
       "      <td>-8.760004</td>\n",
       "      <td>-7.084020</td>\n",
       "      <td>-11.970335</td>\n",
       "      <td>0.000000</td>\n",
       "    </tr>\n",
       "    <tr>\n",
       "      <th>25%</th>\n",
       "      <td>-1.162288</td>\n",
       "      <td>-1.174820</td>\n",
       "      <td>0.130359</td>\n",
       "      <td>59.450441</td>\n",
       "    </tr>\n",
       "    <tr>\n",
       "      <th>50%</th>\n",
       "      <td>0.009424</td>\n",
       "      <td>-0.009482</td>\n",
       "      <td>2.484236</td>\n",
       "      <td>94.925613</td>\n",
       "    </tr>\n",
       "    <tr>\n",
       "      <th>75%</th>\n",
       "      <td>1.158535</td>\n",
       "      <td>1.163678</td>\n",
       "      <td>4.858794</td>\n",
       "      <td>130.595027</td>\n",
       "    </tr>\n",
       "    <tr>\n",
       "      <th>max</th>\n",
       "      <td>7.238262</td>\n",
       "      <td>7.844801</td>\n",
       "      <td>16.739402</td>\n",
       "      <td>190.029838</td>\n",
       "    </tr>\n",
       "  </tbody>\n",
       "</table>\n",
       "</div>"
      ],
      "text/plain": [
       "                  f0             f1             f2        product\n",
       "count  100000.000000  100000.000000  100000.000000  100000.000000\n",
       "mean        0.002023      -0.002081       2.495128      95.000000\n",
       "std         1.732045       1.730417       3.473445      44.749921\n",
       "min        -8.760004      -7.084020     -11.970335       0.000000\n",
       "25%        -1.162288      -1.174820       0.130359      59.450441\n",
       "50%         0.009424      -0.009482       2.484236      94.925613\n",
       "75%         1.158535       1.163678       4.858794     130.595027\n",
       "max         7.238262       7.844801      16.739402     190.029838"
      ]
     },
     "metadata": {},
     "output_type": "display_data"
    },
    {
     "data": {
      "text/html": [
       "<div>\n",
       "<style scoped>\n",
       "    .dataframe tbody tr th:only-of-type {\n",
       "        vertical-align: middle;\n",
       "    }\n",
       "\n",
       "    .dataframe tbody tr th {\n",
       "        vertical-align: top;\n",
       "    }\n",
       "\n",
       "    .dataframe thead th {\n",
       "        text-align: right;\n",
       "    }\n",
       "</style>\n",
       "<table border=\"1\" class=\"dataframe\">\n",
       "  <thead>\n",
       "    <tr style=\"text-align: right;\">\n",
       "      <th></th>\n",
       "      <th>f0</th>\n",
       "      <th>f1</th>\n",
       "      <th>f2</th>\n",
       "      <th>product</th>\n",
       "    </tr>\n",
       "  </thead>\n",
       "  <tbody>\n",
       "    <tr>\n",
       "      <th>f0</th>\n",
       "      <td>1.000000</td>\n",
       "      <td>0.000528</td>\n",
       "      <td>-0.000448</td>\n",
       "      <td>-0.001987</td>\n",
       "    </tr>\n",
       "    <tr>\n",
       "      <th>f1</th>\n",
       "      <td>0.000528</td>\n",
       "      <td>1.000000</td>\n",
       "      <td>0.000779</td>\n",
       "      <td>-0.001012</td>\n",
       "    </tr>\n",
       "    <tr>\n",
       "      <th>f2</th>\n",
       "      <td>-0.000448</td>\n",
       "      <td>0.000779</td>\n",
       "      <td>1.000000</td>\n",
       "      <td>0.445871</td>\n",
       "    </tr>\n",
       "    <tr>\n",
       "      <th>product</th>\n",
       "      <td>-0.001987</td>\n",
       "      <td>-0.001012</td>\n",
       "      <td>0.445871</td>\n",
       "      <td>1.000000</td>\n",
       "    </tr>\n",
       "  </tbody>\n",
       "</table>\n",
       "</div>"
      ],
      "text/plain": [
       "               f0        f1        f2   product\n",
       "f0       1.000000  0.000528 -0.000448 -0.001987\n",
       "f1       0.000528  1.000000  0.000779 -0.001012\n",
       "f2      -0.000448  0.000779  1.000000  0.445871\n",
       "product -0.001987 -0.001012  0.445871  1.000000"
      ]
     },
     "metadata": {},
     "output_type": "display_data"
    },
    {
     "name": "stdout",
     "output_type": "stream",
     "text": [
      "Количество дубликатов по f0, f1, f2: 0\n",
      "Количество дубликатов по id: 4\n",
      "Количество дубликатов по id после удаления: 0\n",
      "\n"
     ]
    },
    {
     "data": {
      "image/png": "[encoded data removed]",
      "text/plain": [
       "<Figure size 720x720 with 4 Axes>"
      ]
     },
     "metadata": {
      "needs_background": "light"
     },
     "output_type": "display_data"
    },
    {
     "data": {
      "image/png": "[encoded data removed]",
      "text/plain": [
       "<Figure size 720x720 with 4 Axes>"
      ]
     },
     "metadata": {
      "needs_background": "light"
     },
     "output_type": "display_data"
    },
    {
     "data": {
      "image/png": "[encoded data removed]",
      "text/plain": [
       "<Figure size 720x720 with 4 Axes>"
      ]
     },
     "metadata": {
      "needs_background": "light"
     },
     "output_type": "display_data"
    }
   ],
   "source": [
    "for data in [data_0, data_1, data_2]:\n",
    "    func_info(data)"
   ]
  },
  {
   "cell_type": "markdown",
   "metadata": {},
   "source": [
    "Вывод:\n",
    "\n",
    "Данные были выгружены и проанализированы: в данных отсутствуют пропущенные значения и аномалии, типы данных соответсвуют нужным, дубликаты были удалены. Распределения целевых признаков для трех датасетов сильно отличаются: данные второго датасета распределены неравномерно и разделяются на 12 явно выраженных групп, а первый и третий дататсет распределены более равномерно."
   ]
  },
  {
   "cell_type": "markdown",
   "metadata": {},
   "source": [
    "## Обучение и проверка модели"
   ]
  },
  {
   "cell_type": "code",
   "execution_count": 6,
   "metadata": {},
   "outputs": [],
   "source": [
    "pd.options.mode.chained_assignment = None"
   ]
  },
  {
   "cell_type": "code",
   "execution_count": 7,
   "metadata": {},
   "outputs": [],
   "source": [
    "def func_predict(data, numeric = ['f0', 'f1', 'f2']):\n",
    "    features = data.drop(['id', 'product'], axis = 1) \n",
    "    target = data['product']\n",
    "    features_train, features_valid, target_train, target_valid = train_test_split(\n",
    "        features, \n",
    "        target, \n",
    "        test_size=0.25, \n",
    "        random_state=12345)\n",
    "    scaler = StandardScaler()\n",
    "    scaler.fit(features_train[numeric]) \n",
    "    features_train[numeric] = scaler.transform(features_train[numeric])\n",
    "    features_valid[numeric] = scaler.transform(features_valid[numeric])\n",
    "    model = LinearRegression()\n",
    "    model.fit(features_train, target_train) \n",
    "    predictions_valid = model.predict(features_valid) \n",
    "    mean = predictions_valid.mean()\n",
    "    rmse = mean_squared_error(target_valid, predictions_valid, squared=False)\n",
    "    r2 = r2_score(target_valid, predictions_valid)\n",
    "    mae = mean_absolute_error(target_valid, predictions_valid)\n",
    "    print(('Cредний запас предсказанного сырья = {0}').format(round(mean,2)))\n",
    "    print(('RMSE = {0}').format(round(rmse,2)))\n",
    "    print(('MAE = {0}').format(round(mae,2)))\n",
    "    print(('R2 = {0}').format(round(r2,2)))\n",
    "    return target_valid, predictions_valid, mean, rmse, r2, mae    "
   ]
  },
  {
   "cell_type": "code",
   "execution_count": 8,
   "metadata": {},
   "outputs": [
    {
     "name": "stdout",
     "output_type": "stream",
     "text": [
      "Cредний запас предсказанного сырья = 92.59\n",
      "RMSE = 37.58\n",
      "MAE = 30.92\n",
      "R2 = 0.28\n"
     ]
    }
   ],
   "source": [
    "target_0, predictions_0, mean_0, rmse_0, r2_0, mae_0 = func_predict(data_0)    "
   ]
  },
  {
   "cell_type": "code",
   "execution_count": 9,
   "metadata": {},
   "outputs": [
    {
     "name": "stdout",
     "output_type": "stream",
     "text": [
      "Cредний запас предсказанного сырья = 68.73\n",
      "RMSE = 0.89\n",
      "MAE = 0.72\n",
      "R2 = 1.0\n"
     ]
    }
   ],
   "source": [
    "target_1, predictions_1, mean_1, rmse_1, r2_1, mae_1 = func_predict(data_1)   "
   ]
  },
  {
   "cell_type": "code",
   "execution_count": 10,
   "metadata": {},
   "outputs": [
    {
     "name": "stdout",
     "output_type": "stream",
     "text": [
      "Cредний запас предсказанного сырья = 94.97\n",
      "RMSE = 40.03\n",
      "MAE = 32.79\n",
      "R2 = 0.21\n"
     ]
    }
   ],
   "source": [
    "target_2, predictions_2, mean_2, rmse_2, r2_2, mae_2 = func_predict(data_2)    "
   ]
  },
  {
   "cell_type": "markdown",
   "metadata": {},
   "source": [
    "Вывод:\n",
    "\n",
    "Средний запас предсказанного сырья выше всего у первого датасета и третьего датасета. Метрика RMSE меньше всего у второго датасета. Модель для второго датасета предсказывает значения лучше чем остальные. Это связано с неравномерным распределнением датасета (с выраженными группами значений), также корреляция столбцов f2 и product для второго датасета очень высокая. "
   ]
  },
  {
   "cell_type": "markdown",
   "metadata": {},
   "source": [
    "## Подготовка к расчёту прибыли"
   ]
  },
  {
   "cell_type": "code",
   "execution_count": 11,
   "metadata": {},
   "outputs": [
    {
     "data": {
      "text/plain": [
       "'Объём сырья для безубыточной разработки новой скважины = 111.11'"
      ]
     },
     "execution_count": 11,
     "metadata": {},
     "output_type": "execute_result"
    }
   ],
   "source": [
    "Points_sum_ML_before = 500\n",
    "Points_sum_ML_after = 200\n",
    "Budget = 10000000000\n",
    "Revenue = 450000\n",
    "one_point_budget = Budget / Points_sum_ML_after\n",
    "product_min = one_point_budget / Revenue\n",
    "('Объём сырья для безубыточной разработки новой скважины = {0}').format(round(product_min,2))"
   ]
  },
  {
   "cell_type": "code",
   "execution_count": 12,
   "metadata": {},
   "outputs": [
    {
     "data": {
      "image/png": "[encoded data removed]",
      "text/plain": [
       "<Figure size 432x288 with 1 Axes>"
      ]
     },
     "metadata": {
      "needs_background": "light"
     },
     "output_type": "display_data"
    }
   ],
   "source": [
    "s_mean = pd.Series(data=[mean_0, mean_1, mean_2, product_min], \n",
    "                    index=['product_mean_0', 'product_mean_1', 'product_mean_2', 'product_min'])\n",
    "s_mean.plot(kind='barh');"
   ]
  },
  {
   "cell_type": "code",
   "execution_count": 13,
   "metadata": {},
   "outputs": [],
   "source": [
    "def revenue_all(target, predictions, count, revenue, budget):\n",
    "    pred_sorted = predictions.sort_values(ascending=False)\n",
    "    selected = target[pred_sorted.index][:count]\n",
    "    return revenue * selected.sum() - budget"
   ]
  },
  {
   "cell_type": "markdown",
   "metadata": {},
   "source": [
    "Вывод:\n",
    "\n",
    "Объём сырья для безубыточной разработки новой скважины по данному условию равняется 111 тыс. бареллей. Данное значение превышает средние значения всех датасетов. Если мы выберем 200 скважин случайно, то есть риск не получить прибыли. Требуется при помощи машинного обучения отобрать 200 самых перспективных скважин."
   ]
  },
  {
   "cell_type": "markdown",
   "metadata": {},
   "source": [
    "## Расчёт прибыли и рисков "
   ]
  },
  {
   "cell_type": "code",
   "execution_count": 14,
   "metadata": {},
   "outputs": [],
   "source": [
    "def func_bootstrap(target, predictions, points_sum_ML_before, points_sum_ML_after, revenue, budget):\n",
    "    state = np.random.RandomState(12345)\n",
    "    values = []\n",
    "    predictions = pd.Series(predictions, index=target.index)\n",
    "    for i in range(1000):        \n",
    "        target_subsample = target.sample(n=points_sum_ML_before, replace=True, random_state=state)\n",
    "        pred_subsample = predictions[target_subsample.index]     \n",
    "        values.append(revenue_all(target_subsample, pred_subsample, points_sum_ML_after, revenue, budget))\n",
    "    values = pd.Series(values)\n",
    "    values_mean = values.mean()\n",
    "    lower_quantile = values.quantile(0.025)\n",
    "    upper_quantile = values.quantile(0.975)\n",
    "    values_loss = (values < 0).mean()\n",
    "    print(('Средняя прибыль = {0} млн. руб.').format(round(values_mean/1000000,2)))\n",
    "    print(('95%-й доверительный интервал = {0} - {1} млн. руб.').format(\n",
    "                                                                round(lower_quantile/1000000,2), \n",
    "                                                                round(upper_quantile/1000000,2)))\n",
    "    print(('Риск убытков = {0}').format(values_loss*100))\n",
    "    values.hist(bins=50);\n",
    "    plt.axvline(x=values_mean);\n",
    "    plt.axvline(x=lower_quantile);\n",
    "    plt.axvline(x=upper_quantile);\n",
    "    return values, values_mean, lower_quantile, upper_quantile"
   ]
  },
  {
   "cell_type": "code",
   "execution_count": 15,
   "metadata": {},
   "outputs": [
    {
     "name": "stdout",
     "output_type": "stream",
     "text": [
      "Средняя прибыль = 425.94 млн. руб.\n",
      "95%-й доверительный интервал = -102.09 - 947.98 млн. руб.\n",
      "Риск убытков = 6.0\n"
     ]
    },
    {
     "data": {
      "image/png": "[encoded data removed]",
      "text/plain": [
       "<Figure size 432x288 with 1 Axes>"
      ]
     },
     "metadata": {
      "needs_background": "light"
     },
     "output_type": "display_data"
    }
   ],
   "source": [
    "# def func_bootstrap_2(target, predictions, points_sum_ML_before, points_sum_ML_after, revenue, budget):\n",
    "#     state = np.random.RandomState(12345)\n",
    "#     values = []\n",
    "#     predictions = pd.Series(predictions, index=target.index)\n",
    "#     for i in range(1000):        \n",
    "#         target_subsample = target.sample(n=points_sum_ML_before, replace=True, random_state=state)\n",
    "#         pred_subsample = predictions[target_subsample.index]     \n",
    "#         values.append(revenue_all(target_subsample, pred_subsample, points_sum_ML_after, revenue, budget))\n",
    "#     values = pd.Series(values)\n",
    "#     values_mean = values.mean()\n",
    "#     lower_quantile = values.quantile(0.025)\n",
    "#     upper_quantile = values.quantile(0.975)\n",
    "#     values_loss = (values < 0).mean()\n",
    "#     print(('Средняя прибыль = {0} млн. руб.').format(round(values_mean/1000000,2)))\n",
    "#     print(('95%-й доверительный интервал = {0} - {1} млн. руб.').format(\n",
    "#                                                                 round(lower_quantile/1000000,2), \n",
    "#                                                                 round(upper_quantile/1000000,2)))\n",
    "#     print(('Риск убытков = {0}').format(values_loss*100))\n",
    "    \n",
    "#     sns.histplot(values, alpha=0.4,  element=\"step\")\n",
    "#     plt.xlabel('Прибыль')\n",
    "#     plt.axvline(x=values_mean, color='b', ls='--', lw=3, label='Средняя прибыль')\n",
    "#     plt.axvline(x=lower_quantile, color='r', ls=':', lw=3, label='95%-й доверительный интервал')\n",
    "#     plt.axvline(x=upper_quantile, color='r', ls=':', lw=3)\n",
    "#     plt.legend(bbox_to_anchor=(0.5, -0.15), loc='upper center', ncol=2)\n",
    "#     plt.show()\n",
    "    \n",
    "# func_bootstrap_2(target_0, predictions_0, Points_sum_ML_before, Points_sum_ML_after, Revenue, Budget)"
   ]
  },
  {
   "cell_type": "code",
   "execution_count": 16,
   "metadata": {},
   "outputs": [
    {
     "name": "stdout",
     "output_type": "stream",
     "text": [
      "Средняя прибыль = 425.94 млн. руб.\n",
      "95%-й доверительный интервал = -102.09 - 947.98 млн. руб.\n",
      "Риск убытков = 6.0\n"
     ]
    },
    {
     "data": {
      "image/png": "[encoded data removed]",
      "text/plain": [
       "<Figure size 432x288 with 1 Axes>"
      ]
     },
     "metadata": {
      "needs_background": "light"
     },
     "output_type": "display_data"
    }
   ],
   "source": [
    "values_0, values_mean_0, lower_quantile_0, upper_quantile_0 = func_bootstrap(target_0, \n",
    "                                                                           predictions_0, \n",
    "                                                                           Points_sum_ML_before, \n",
    "                                                                           Points_sum_ML_after, \n",
    "                                                                           Revenue, \n",
    "                                                                           Budget)"
   ]
  },
  {
   "cell_type": "code",
   "execution_count": 17,
   "metadata": {},
   "outputs": [
    {
     "name": "stdout",
     "output_type": "stream",
     "text": [
      "Средняя прибыль = 515.22 млн. руб.\n",
      "95%-й доверительный интервал = 68.87 - 931.55 млн. руб.\n",
      "Риск убытков = 1.0\n"
     ]
    },
    {
     "data": {
      "image/png": "[encoded data removed]",
      "text/plain": [
       "<Figure size 432x288 with 1 Axes>"
      ]
     },
     "metadata": {
      "needs_background": "light"
     },
     "output_type": "display_data"
    }
   ],
   "source": [
    "values_1, values_mean_1, lower_quantile_1, upper_quantile_1 = func_bootstrap(target_1, \n",
    "                                                                           predictions_1, \n",
    "                                                                           Points_sum_ML_before, \n",
    "                                                                           Points_sum_ML_after, \n",
    "                                                                           Revenue, \n",
    "                                                                           Budget)"
   ]
  },
  {
   "cell_type": "code",
   "execution_count": 18,
   "metadata": {},
   "outputs": [
    {
     "name": "stdout",
     "output_type": "stream",
     "text": [
      "Средняя прибыль = 435.01 млн. руб.\n",
      "95%-й доверительный интервал = -128.88 - 969.71 млн. руб.\n",
      "Риск убытков = 6.4\n"
     ]
    },
    {
     "data": {
      "image/png": "[encoded data removed]",
      "text/plain": [
       "<Figure size 432x288 with 1 Axes>"
      ]
     },
     "metadata": {
      "needs_background": "light"
     },
     "output_type": "display_data"
    }
   ],
   "source": [
    "values_2, values_mean_2, lower_quantile_2, upper_quantile_2 = func_bootstrap(target_2, \n",
    "                                                                           predictions_2, \n",
    "                                                                           Points_sum_ML_before, \n",
    "                                                                           Points_sum_ML_after, \n",
    "                                                                           Revenue, \n",
    "                                                                           Budget)"
   ]
  },
  {
   "cell_type": "markdown",
   "metadata": {},
   "source": [
    "Вывод: \n",
    "\n",
    "После оценки прибыли и рисков для разработки месторождений предлагается второй регион, вероятность убытков в нем меньше 2.5% и наибольшая средняя прибыль среди остальных регионов."
   ]
  },
  {
   "cell_type": "markdown",
   "metadata": {},
   "source": [
    "## Общий вывод"
   ]
  },
  {
   "cell_type": "markdown",
   "metadata": {},
   "source": [
    "Данные были выгружены и проанализированы: в данных отсутствуют пропущенные значения и аномалии, типы данных соответсвуют нужным, дубликаты были удалены. Распределения целевых признаков для трех датасетов сильно отличаются: данные второго датасета распределены неравномерно и разделяются на 12 явно выраженных групп, а первый и третий дататсет распределены более равномерно.\n",
    "\n",
    "Средний запас предсказанного сырья выше всего у первого датасета и третьего датасета. Метрика RMSE меньше всего у второго датасета. Модель для второго датасета предсказывает значения лучше чем остальные. Это связано с неравномерным распределнением датасета (с выраженными группами значений), также корреляция столбцов f2 и product для второго датасета очень высокая. \n",
    "\n",
    "Объём сырья для безубыточной разработки новой скважины по данному условию равняется 111 тыс. бареллей. Данное значение превышает средние значения всех датасетов. Если мы выберем 200 скважин случайно, то есть риск не получить прибыли. Требуется при помощи машинного обучения отобрать 200 самых перспективных скважин.\n",
    "\n",
    "После оценки прибыли и рисков для разработки месторождений предлагается второй регион, вероятность убытков в нем меньше 2.5% и наибольшая средняя прибыль среди остальных регионов."
   ]
  },
  {
   "cell_type": "code",
   "execution_count": null,
   "metadata": {},
   "outputs": [],
   "source": []
  }
 ],
 "metadata": {
  "ExecuteTimeLog": [
   {
    "duration": 90,
    "start_time": "2023-05-17T11:31:41.984Z"
   },
   {
    "duration": 408,
    "start_time": "2023-05-17T11:31:44.052Z"
   },
   {
    "duration": 468,
    "start_time": "2023-05-17T11:31:44.462Z"
   },
   {
    "duration": 654,
    "start_time": "2023-05-17T11:32:03.015Z"
   },
   {
    "duration": 24,
    "start_time": "2023-05-17T11:32:09.444Z"
   },
   {
    "duration": 10,
    "start_time": "2023-05-17T11:32:37.620Z"
   },
   {
    "duration": 10,
    "start_time": "2023-05-17T11:32:38.118Z"
   },
   {
    "duration": 11,
    "start_time": "2023-05-17T11:32:39.927Z"
   },
   {
    "duration": 20,
    "start_time": "2023-05-17T11:34:59.928Z"
   },
   {
    "duration": 24,
    "start_time": "2023-05-17T11:35:09.019Z"
   },
   {
    "duration": 53,
    "start_time": "2023-05-17T11:35:18.387Z"
   },
   {
    "duration": 17,
    "start_time": "2023-05-17T11:35:30.145Z"
   },
   {
    "duration": 17,
    "start_time": "2023-05-17T11:35:31.924Z"
   },
   {
    "duration": 18,
    "start_time": "2023-05-17T11:35:33.507Z"
   },
   {
    "duration": 25,
    "start_time": "2023-05-17T11:36:52.338Z"
   },
   {
    "duration": 8,
    "start_time": "2023-05-17T11:37:02.211Z"
   },
   {
    "duration": 43,
    "start_time": "2023-05-17T11:37:07.911Z"
   },
   {
    "duration": 7,
    "start_time": "2023-05-17T11:37:49.218Z"
   },
   {
    "duration": 20,
    "start_time": "2023-05-17T11:40:01.716Z"
   },
   {
    "duration": 35,
    "start_time": "2023-05-17T11:40:02.591Z"
   },
   {
    "duration": 40,
    "start_time": "2023-05-17T11:40:04.939Z"
   },
   {
    "duration": 10,
    "start_time": "2023-05-17T11:40:15.208Z"
   },
   {
    "duration": 12,
    "start_time": "2023-05-17T11:40:18.451Z"
   },
   {
    "duration": 40,
    "start_time": "2023-05-17T11:40:20.210Z"
   },
   {
    "duration": 54,
    "start_time": "2023-05-17T11:41:35.229Z"
   },
   {
    "duration": 11,
    "start_time": "2023-05-17T11:41:57.184Z"
   },
   {
    "duration": 39,
    "start_time": "2023-05-17T11:42:13.689Z"
   },
   {
    "duration": 32,
    "start_time": "2023-05-17T11:43:12.078Z"
   },
   {
    "duration": 34,
    "start_time": "2023-05-17T11:43:21.045Z"
   },
   {
    "duration": 3,
    "start_time": "2023-05-17T15:13:16.537Z"
   },
   {
    "duration": 11,
    "start_time": "2023-05-17T15:13:17.304Z"
   },
   {
    "duration": 685,
    "start_time": "2023-05-17T15:13:29.126Z"
   },
   {
    "duration": 84,
    "start_time": "2023-05-17T15:13:36.922Z"
   },
   {
    "duration": 718,
    "start_time": "2023-05-17T15:15:35.648Z"
   },
   {
    "duration": 47,
    "start_time": "2023-05-17T15:15:36.370Z"
   },
   {
    "duration": 4,
    "start_time": "2023-05-17T15:15:42.240Z"
   },
   {
    "duration": 31,
    "start_time": "2023-05-17T15:15:42.752Z"
   },
   {
    "duration": 11,
    "start_time": "2023-05-17T15:16:27.919Z"
   },
   {
    "duration": 33,
    "start_time": "2023-05-17T15:16:39.811Z"
   },
   {
    "duration": 4,
    "start_time": "2023-05-17T15:17:46.153Z"
   },
   {
    "duration": 38,
    "start_time": "2023-05-17T15:17:48.464Z"
   },
   {
    "duration": 4,
    "start_time": "2023-05-17T15:17:54.806Z"
   },
   {
    "duration": 24,
    "start_time": "2023-05-17T15:17:55.231Z"
   },
   {
    "duration": 1822,
    "start_time": "2023-05-18T12:38:27.105Z"
   },
   {
    "duration": 1285,
    "start_time": "2023-05-18T12:38:28.931Z"
   },
   {
    "duration": 27,
    "start_time": "2023-05-18T12:38:30.219Z"
   },
   {
    "duration": 88,
    "start_time": "2023-05-18T12:38:30.249Z"
   },
   {
    "duration": 94,
    "start_time": "2023-05-18T12:38:30.341Z"
   },
   {
    "duration": 94,
    "start_time": "2023-05-18T12:38:30.438Z"
   },
   {
    "duration": 49,
    "start_time": "2023-05-18T12:38:30.534Z"
   },
   {
    "duration": 78,
    "start_time": "2023-05-18T12:38:30.586Z"
   },
   {
    "duration": 103,
    "start_time": "2023-05-18T12:38:30.667Z"
   },
   {
    "duration": 77,
    "start_time": "2023-05-18T12:38:30.772Z"
   },
   {
    "duration": 30,
    "start_time": "2023-05-18T12:38:30.852Z"
   },
   {
    "duration": 74,
    "start_time": "2023-05-18T12:38:30.892Z"
   },
   {
    "duration": 135,
    "start_time": "2023-05-18T12:38:30.969Z"
   },
   {
    "duration": 120,
    "start_time": "2023-05-18T12:38:31.108Z"
   },
   {
    "duration": 66,
    "start_time": "2023-05-18T12:38:31.233Z"
   },
   {
    "duration": 80,
    "start_time": "2023-05-18T12:38:34.193Z"
   },
   {
    "duration": 58,
    "start_time": "2023-05-18T12:38:48.213Z"
   },
   {
    "duration": 43,
    "start_time": "2023-05-18T12:39:03.406Z"
   },
   {
    "duration": 50,
    "start_time": "2023-05-18T12:39:04.274Z"
   },
   {
    "duration": 5,
    "start_time": "2023-05-18T12:46:42.926Z"
   },
   {
    "duration": 5,
    "start_time": "2023-05-18T12:46:47.915Z"
   },
   {
    "duration": 19,
    "start_time": "2023-05-18T12:46:48.370Z"
   },
   {
    "duration": 195,
    "start_time": "2023-05-18T12:46:51.570Z"
   },
   {
    "duration": 9,
    "start_time": "2023-05-18T12:47:37.966Z"
   },
   {
    "duration": 205,
    "start_time": "2023-05-18T12:47:38.625Z"
   },
   {
    "duration": 175,
    "start_time": "2023-05-18T12:47:41.398Z"
   },
   {
    "duration": 165,
    "start_time": "2023-05-18T12:47:44.017Z"
   },
   {
    "duration": 7,
    "start_time": "2023-05-18T12:53:02.097Z"
   },
   {
    "duration": 6,
    "start_time": "2023-05-18T12:53:48.927Z"
   },
   {
    "duration": 191,
    "start_time": "2023-05-18T12:53:49.317Z"
   },
   {
    "duration": 14,
    "start_time": "2023-05-18T12:54:04.766Z"
   },
   {
    "duration": 101,
    "start_time": "2023-05-18T12:54:05.119Z"
   },
   {
    "duration": 108,
    "start_time": "2023-05-18T12:54:33.470Z"
   },
   {
    "duration": 70,
    "start_time": "2023-05-18T12:54:34.213Z"
   },
   {
    "duration": 2279,
    "start_time": "2023-05-18T13:00:35.492Z"
   },
   {
    "duration": 180,
    "start_time": "2023-05-18T13:00:54.030Z"
   },
   {
    "duration": 192,
    "start_time": "2023-05-18T13:00:54.414Z"
   },
   {
    "duration": 303,
    "start_time": "2023-05-18T13:01:24.906Z"
   },
   {
    "duration": 444,
    "start_time": "2023-05-18T13:01:28.007Z"
   },
   {
    "duration": 335,
    "start_time": "2023-05-18T13:01:35.666Z"
   },
   {
    "duration": 275,
    "start_time": "2023-05-18T13:01:47.830Z"
   },
   {
    "duration": 235,
    "start_time": "2023-05-18T13:01:54.119Z"
   },
   {
    "duration": 263,
    "start_time": "2023-05-18T13:01:59.371Z"
   },
   {
    "duration": 4,
    "start_time": "2023-05-18T13:02:08.421Z"
   },
   {
    "duration": 695,
    "start_time": "2023-05-18T13:02:08.428Z"
   },
   {
    "duration": 16,
    "start_time": "2023-05-18T13:02:09.125Z"
   },
   {
    "duration": 46,
    "start_time": "2023-05-18T13:02:09.143Z"
   },
   {
    "duration": 48,
    "start_time": "2023-05-18T13:02:09.196Z"
   },
   {
    "duration": 64,
    "start_time": "2023-05-18T13:02:09.245Z"
   },
   {
    "duration": 13,
    "start_time": "2023-05-18T13:02:09.312Z"
   },
   {
    "duration": 33,
    "start_time": "2023-05-18T13:02:09.328Z"
   },
   {
    "duration": 49,
    "start_time": "2023-05-18T13:02:09.379Z"
   },
   {
    "duration": 53,
    "start_time": "2023-05-18T13:02:09.430Z"
   },
   {
    "duration": 19,
    "start_time": "2023-05-18T13:02:09.492Z"
   },
   {
    "duration": 23,
    "start_time": "2023-05-18T13:02:09.514Z"
   },
   {
    "duration": 62,
    "start_time": "2023-05-18T13:02:09.539Z"
   },
   {
    "duration": 194,
    "start_time": "2023-05-18T13:02:09.606Z"
   },
   {
    "duration": 251,
    "start_time": "2023-05-18T13:02:09.802Z"
   },
   {
    "duration": 258,
    "start_time": "2023-05-18T13:02:10.055Z"
   },
   {
    "duration": 401,
    "start_time": "2023-05-18T13:02:10.316Z"
   },
   {
    "duration": 3,
    "start_time": "2023-05-18T13:02:10.719Z"
   },
   {
    "duration": 21,
    "start_time": "2023-05-18T13:02:10.724Z"
   },
   {
    "duration": 151,
    "start_time": "2023-05-18T13:02:10.747Z"
   },
   {
    "duration": 206,
    "start_time": "2023-05-18T13:02:10.900Z"
   },
   {
    "duration": 100,
    "start_time": "2023-05-18T13:02:11.186Z"
   },
   {
    "duration": 20,
    "start_time": "2023-05-18T13:08:27.770Z"
   },
   {
    "duration": 83,
    "start_time": "2023-05-18T13:08:28.102Z"
   },
   {
    "duration": 11,
    "start_time": "2023-05-18T13:09:33.868Z"
   },
   {
    "duration": 48,
    "start_time": "2023-05-18T13:09:35.689Z"
   },
   {
    "duration": 6,
    "start_time": "2023-05-18T13:10:34.916Z"
   },
   {
    "duration": 44,
    "start_time": "2023-05-18T13:10:35.502Z"
   },
   {
    "duration": 6,
    "start_time": "2023-05-18T13:10:56.613Z"
   },
   {
    "duration": 66,
    "start_time": "2023-05-18T13:10:57.117Z"
   },
   {
    "duration": 60,
    "start_time": "2023-05-18T13:11:40.909Z"
   },
   {
    "duration": 6,
    "start_time": "2023-05-18T13:11:43.198Z"
   },
   {
    "duration": 98,
    "start_time": "2023-05-18T13:11:43.493Z"
   },
   {
    "duration": 6,
    "start_time": "2023-05-18T13:22:20.402Z"
   },
   {
    "duration": 206,
    "start_time": "2023-05-18T13:22:20.801Z"
   },
   {
    "duration": 162,
    "start_time": "2023-05-18T13:22:21.321Z"
   },
   {
    "duration": 4,
    "start_time": "2023-05-18T13:22:27.997Z"
   },
   {
    "duration": 75,
    "start_time": "2023-05-18T13:22:32.001Z"
   },
   {
    "duration": 111,
    "start_time": "2023-05-18T13:22:32.567Z"
   },
   {
    "duration": 69,
    "start_time": "2023-05-18T13:22:41.119Z"
   },
   {
    "duration": 77,
    "start_time": "2023-05-18T13:22:57.401Z"
   },
   {
    "duration": 44,
    "start_time": "2023-05-18T13:22:58.018Z"
   },
   {
    "duration": 10,
    "start_time": "2023-05-18T13:45:00.650Z"
   },
   {
    "duration": 99,
    "start_time": "2023-05-18T13:45:01.102Z"
   },
   {
    "duration": 79,
    "start_time": "2023-05-18T13:45:01.849Z"
   },
   {
    "duration": 72,
    "start_time": "2023-05-18T13:45:02.649Z"
   },
   {
    "duration": 10,
    "start_time": "2023-05-18T13:45:23.192Z"
   },
   {
    "duration": 71,
    "start_time": "2023-05-18T13:45:23.737Z"
   },
   {
    "duration": 42,
    "start_time": "2023-05-18T13:45:24.317Z"
   },
   {
    "duration": 64,
    "start_time": "2023-05-18T13:45:25.061Z"
   },
   {
    "duration": 5,
    "start_time": "2023-05-18T13:51:44.119Z"
   },
   {
    "duration": 16,
    "start_time": "2023-05-18T13:51:49.098Z"
   },
   {
    "duration": 5,
    "start_time": "2023-05-18T13:53:32.137Z"
   },
   {
    "duration": 6,
    "start_time": "2023-05-18T13:55:45.905Z"
   },
   {
    "duration": 18,
    "start_time": "2023-05-18T13:57:22.701Z"
   },
   {
    "duration": 166,
    "start_time": "2023-05-18T13:58:10.052Z"
   },
   {
    "duration": 125,
    "start_time": "2023-05-18T14:02:49.161Z"
   },
   {
    "duration": 154,
    "start_time": "2023-05-18T14:02:59.415Z"
   },
   {
    "duration": 31,
    "start_time": "2023-05-18T14:03:06.467Z"
   },
   {
    "duration": 19,
    "start_time": "2023-05-18T14:03:17.109Z"
   },
   {
    "duration": 146,
    "start_time": "2023-05-18T14:03:28.111Z"
   },
   {
    "duration": 134,
    "start_time": "2023-05-18T14:03:52.013Z"
   },
   {
    "duration": 12,
    "start_time": "2023-05-18T14:26:40.418Z"
   },
   {
    "duration": 17,
    "start_time": "2023-05-18T14:26:46.756Z"
   },
   {
    "duration": 19,
    "start_time": "2023-05-18T14:26:57.763Z"
   },
   {
    "duration": 18,
    "start_time": "2023-05-18T14:27:01.301Z"
   },
   {
    "duration": 13,
    "start_time": "2023-05-18T14:27:07.114Z"
   },
   {
    "duration": 17,
    "start_time": "2023-05-18T14:27:48.371Z"
   },
   {
    "duration": 12,
    "start_time": "2023-05-18T14:28:14.203Z"
   },
   {
    "duration": 3,
    "start_time": "2023-05-18T14:28:22.167Z"
   },
   {
    "duration": 20,
    "start_time": "2023-05-18T14:28:29.867Z"
   },
   {
    "duration": 83,
    "start_time": "2023-05-18T14:28:42.904Z"
   },
   {
    "duration": 5,
    "start_time": "2023-05-18T14:28:46.922Z"
   },
   {
    "duration": 12,
    "start_time": "2023-05-18T14:29:36.306Z"
   },
   {
    "duration": 6,
    "start_time": "2023-05-18T14:29:47.425Z"
   },
   {
    "duration": 56,
    "start_time": "2023-05-18T14:29:48.067Z"
   },
   {
    "duration": 116,
    "start_time": "2023-05-18T14:29:48.759Z"
   },
   {
    "duration": 132,
    "start_time": "2023-05-18T14:29:49.451Z"
   },
   {
    "duration": 7,
    "start_time": "2023-05-18T14:29:56.566Z"
   },
   {
    "duration": 11,
    "start_time": "2023-05-18T14:30:06.907Z"
   },
   {
    "duration": 36,
    "start_time": "2023-05-18T14:30:11.003Z"
   },
   {
    "duration": 14,
    "start_time": "2023-05-18T14:30:34.896Z"
   },
   {
    "duration": 37,
    "start_time": "2023-05-18T14:30:55.708Z"
   },
   {
    "duration": 19,
    "start_time": "2023-05-18T14:31:04.609Z"
   },
   {
    "duration": 18,
    "start_time": "2023-05-18T14:31:11.418Z"
   },
   {
    "duration": 35,
    "start_time": "2023-05-18T14:33:02.409Z"
   },
   {
    "duration": 13,
    "start_time": "2023-05-18T14:33:27.669Z"
   },
   {
    "duration": 25,
    "start_time": "2023-05-18T14:33:49.366Z"
   },
   {
    "duration": 11,
    "start_time": "2023-05-18T14:33:57.087Z"
   },
   {
    "duration": 10,
    "start_time": "2023-05-18T14:34:10.351Z"
   },
   {
    "duration": 8,
    "start_time": "2023-05-18T14:34:17.698Z"
   },
   {
    "duration": 9,
    "start_time": "2023-05-18T14:34:32.564Z"
   },
   {
    "duration": 5,
    "start_time": "2023-05-18T14:36:04.854Z"
   },
   {
    "duration": 130,
    "start_time": "2023-05-18T14:36:05.590Z"
   },
   {
    "duration": 5,
    "start_time": "2023-05-18T14:36:12.104Z"
   },
   {
    "duration": 139,
    "start_time": "2023-05-18T14:36:12.786Z"
   },
   {
    "duration": 13,
    "start_time": "2023-05-18T14:36:26.154Z"
   },
   {
    "duration": 5,
    "start_time": "2023-05-18T15:05:54.200Z"
   },
   {
    "duration": 129,
    "start_time": "2023-05-18T15:05:55.014Z"
   },
   {
    "duration": 6,
    "start_time": "2023-05-18T15:17:30.250Z"
   },
   {
    "duration": 83,
    "start_time": "2023-05-18T15:17:30.703Z"
   },
   {
    "duration": 58,
    "start_time": "2023-05-18T15:17:31.234Z"
   },
   {
    "duration": 52,
    "start_time": "2023-05-18T15:17:31.761Z"
   },
   {
    "duration": 11,
    "start_time": "2023-05-18T15:17:53.895Z"
   },
   {
    "duration": 12,
    "start_time": "2023-05-18T15:18:00.449Z"
   },
   {
    "duration": 98,
    "start_time": "2023-05-18T15:18:02.216Z"
   },
   {
    "duration": 5,
    "start_time": "2023-05-18T15:18:07.849Z"
   },
   {
    "duration": 17,
    "start_time": "2023-05-18T15:18:09.095Z"
   },
   {
    "duration": 16,
    "start_time": "2023-05-18T15:18:15.503Z"
   },
   {
    "duration": 5,
    "start_time": "2023-05-18T15:18:38.519Z"
   },
   {
    "duration": 36,
    "start_time": "2023-05-18T15:18:44.854Z"
   },
   {
    "duration": 7,
    "start_time": "2023-05-18T15:20:35.297Z"
   },
   {
    "duration": 5,
    "start_time": "2023-05-18T15:20:42.198Z"
   },
   {
    "duration": 5,
    "start_time": "2023-05-18T15:24:18.999Z"
   },
   {
    "duration": 32,
    "start_time": "2023-05-18T15:24:24.807Z"
   },
   {
    "duration": 5,
    "start_time": "2023-05-18T15:25:18.438Z"
   },
   {
    "duration": 26,
    "start_time": "2023-05-18T15:25:21.023Z"
   },
   {
    "duration": 1096,
    "start_time": "2023-05-19T07:55:26.978Z"
   },
   {
    "duration": 764,
    "start_time": "2023-05-19T07:55:28.076Z"
   },
   {
    "duration": 17,
    "start_time": "2023-05-19T07:55:28.842Z"
   },
   {
    "duration": 16,
    "start_time": "2023-05-19T07:55:28.861Z"
   },
   {
    "duration": 41,
    "start_time": "2023-05-19T07:55:28.880Z"
   },
   {
    "duration": 41,
    "start_time": "2023-05-19T07:55:28.924Z"
   },
   {
    "duration": 12,
    "start_time": "2023-05-19T07:55:28.968Z"
   },
   {
    "duration": 37,
    "start_time": "2023-05-19T07:55:28.982Z"
   },
   {
    "duration": 40,
    "start_time": "2023-05-19T07:55:29.021Z"
   },
   {
    "duration": 26,
    "start_time": "2023-05-19T07:55:29.063Z"
   },
   {
    "duration": 9,
    "start_time": "2023-05-19T07:55:29.090Z"
   },
   {
    "duration": 14,
    "start_time": "2023-05-19T07:55:29.125Z"
   },
   {
    "duration": 49,
    "start_time": "2023-05-19T07:55:29.141Z"
   },
   {
    "duration": 41,
    "start_time": "2023-05-19T07:55:29.193Z"
   },
   {
    "duration": 605,
    "start_time": "2023-05-19T07:55:29.236Z"
   },
   {
    "duration": 214,
    "start_time": "2023-05-19T07:55:29.843Z"
   },
   {
    "duration": 208,
    "start_time": "2023-05-19T07:55:30.059Z"
   },
   {
    "duration": 3,
    "start_time": "2023-05-19T07:55:30.269Z"
   },
   {
    "duration": 36,
    "start_time": "2023-05-19T07:55:30.274Z"
   },
   {
    "duration": 314,
    "start_time": "2023-05-19T07:55:30.312Z"
   },
   {
    "duration": 124,
    "start_time": "2023-05-19T07:55:30.628Z"
   },
   {
    "duration": 204,
    "start_time": "2023-05-19T07:55:30.755Z"
   },
   {
    "duration": 213,
    "start_time": "2023-05-19T07:55:31.026Z"
   },
   {
    "duration": 0,
    "start_time": "2023-05-19T07:55:31.241Z"
   },
   {
    "duration": 0,
    "start_time": "2023-05-19T07:55:31.242Z"
   },
   {
    "duration": 0,
    "start_time": "2023-05-19T07:55:31.243Z"
   },
   {
    "duration": 0,
    "start_time": "2023-05-19T07:55:31.244Z"
   },
   {
    "duration": 0,
    "start_time": "2023-05-19T07:55:31.246Z"
   },
   {
    "duration": 6,
    "start_time": "2023-05-19T07:55:56.828Z"
   },
   {
    "duration": 110,
    "start_time": "2023-05-19T07:55:59.776Z"
   },
   {
    "duration": 4,
    "start_time": "2023-05-19T07:56:01.980Z"
   },
   {
    "duration": 4,
    "start_time": "2023-05-19T07:57:07.988Z"
   },
   {
    "duration": 8,
    "start_time": "2023-05-19T07:57:08.956Z"
   },
   {
    "duration": 4,
    "start_time": "2023-05-19T07:57:11.652Z"
   },
   {
    "duration": 889,
    "start_time": "2023-05-19T07:57:21.244Z"
   },
   {
    "duration": 5,
    "start_time": "2023-05-19T07:57:26.067Z"
   },
   {
    "duration": 4,
    "start_time": "2023-05-19T07:58:46.108Z"
   },
   {
    "duration": 5,
    "start_time": "2023-05-19T07:58:46.843Z"
   },
   {
    "duration": 5,
    "start_time": "2023-05-19T07:58:49.114Z"
   },
   {
    "duration": 1324,
    "start_time": "2023-05-19T07:58:50.108Z"
   },
   {
    "duration": 5,
    "start_time": "2023-05-19T07:59:33.185Z"
   },
   {
    "duration": 1300,
    "start_time": "2023-05-19T07:59:33.592Z"
   },
   {
    "duration": 1353,
    "start_time": "2023-05-19T08:02:30.288Z"
   },
   {
    "duration": 1350,
    "start_time": "2023-05-19T08:02:31.643Z"
   },
   {
    "duration": 5,
    "start_time": "2023-05-19T08:03:07.490Z"
   },
   {
    "duration": 1396,
    "start_time": "2023-05-19T08:03:14.411Z"
   },
   {
    "duration": 6,
    "start_time": "2023-05-19T08:03:24.914Z"
   },
   {
    "duration": 11,
    "start_time": "2023-05-19T08:03:52.617Z"
   },
   {
    "duration": 7,
    "start_time": "2023-05-19T08:04:04.321Z"
   },
   {
    "duration": 6,
    "start_time": "2023-05-19T08:13:19.304Z"
   },
   {
    "duration": 13,
    "start_time": "2023-05-19T08:13:46.616Z"
   },
   {
    "duration": 5,
    "start_time": "2023-05-19T08:13:48.231Z"
   },
   {
    "duration": 15,
    "start_time": "2023-05-19T08:13:48.615Z"
   },
   {
    "duration": 5,
    "start_time": "2023-05-19T08:14:06.384Z"
   },
   {
    "duration": 12,
    "start_time": "2023-05-19T08:14:06.855Z"
   },
   {
    "duration": 3,
    "start_time": "2023-05-19T08:14:13.207Z"
   },
   {
    "duration": 1289,
    "start_time": "2023-05-19T08:14:15.984Z"
   },
   {
    "duration": 1318,
    "start_time": "2023-05-19T08:15:07.079Z"
   },
   {
    "duration": 1270,
    "start_time": "2023-05-19T08:15:22.175Z"
   },
   {
    "duration": 5,
    "start_time": "2023-05-19T08:31:14.124Z"
   },
   {
    "duration": 32,
    "start_time": "2023-05-19T08:31:14.652Z"
   },
   {
    "duration": 6,
    "start_time": "2023-05-19T08:32:12.794Z"
   },
   {
    "duration": 43,
    "start_time": "2023-05-19T08:32:13.004Z"
   },
   {
    "duration": 39,
    "start_time": "2023-05-19T08:32:18.716Z"
   },
   {
    "duration": 38,
    "start_time": "2023-05-19T08:32:19.387Z"
   },
   {
    "duration": 5,
    "start_time": "2023-05-19T08:33:32.979Z"
   },
   {
    "duration": 5,
    "start_time": "2023-05-19T08:37:34.802Z"
   },
   {
    "duration": 1330,
    "start_time": "2023-05-19T08:37:35.338Z"
   },
   {
    "duration": 1327,
    "start_time": "2023-05-19T08:37:36.834Z"
   },
   {
    "duration": 1383,
    "start_time": "2023-05-19T08:37:38.163Z"
   },
   {
    "duration": 5,
    "start_time": "2023-05-19T08:39:33.746Z"
   },
   {
    "duration": 1320,
    "start_time": "2023-05-19T08:39:34.217Z"
   },
   {
    "duration": 1406,
    "start_time": "2023-05-19T08:39:35.539Z"
   },
   {
    "duration": 1379,
    "start_time": "2023-05-19T08:39:36.947Z"
   },
   {
    "duration": 6,
    "start_time": "2023-05-19T08:40:30.394Z"
   },
   {
    "duration": 1275,
    "start_time": "2023-05-19T08:40:31.972Z"
   },
   {
    "duration": 1329,
    "start_time": "2023-05-19T08:40:33.890Z"
   },
   {
    "duration": 1343,
    "start_time": "2023-05-19T08:40:37.826Z"
   },
   {
    "duration": 6,
    "start_time": "2023-05-19T08:41:51.753Z"
   },
   {
    "duration": 83,
    "start_time": "2023-05-19T08:41:52.945Z"
   },
   {
    "duration": 34,
    "start_time": "2023-05-19T08:41:53.481Z"
   },
   {
    "duration": 72,
    "start_time": "2023-05-19T08:41:53.961Z"
   },
   {
    "duration": 4,
    "start_time": "2023-05-19T08:42:19.753Z"
   },
   {
    "duration": 5,
    "start_time": "2023-05-19T08:42:48.049Z"
   },
   {
    "duration": 1266,
    "start_time": "2023-05-19T08:42:48.489Z"
   },
   {
    "duration": 1283,
    "start_time": "2023-05-19T08:42:49.757Z"
   },
   {
    "duration": 1350,
    "start_time": "2023-05-19T08:42:51.042Z"
   },
   {
    "duration": 262,
    "start_time": "2023-05-19T10:12:25.235Z"
   },
   {
    "duration": 254,
    "start_time": "2023-05-19T10:12:25.811Z"
   },
   {
    "duration": 249,
    "start_time": "2023-05-19T10:12:26.307Z"
   },
   {
    "duration": 363,
    "start_time": "2023-05-19T10:12:56.219Z"
   },
   {
    "duration": 597,
    "start_time": "2023-05-19T10:13:03.020Z"
   },
   {
    "duration": 246,
    "start_time": "2023-05-19T10:13:07.515Z"
   },
   {
    "duration": 8,
    "start_time": "2023-05-19T10:15:36.394Z"
   },
   {
    "duration": 14,
    "start_time": "2023-05-19T10:15:52.379Z"
   },
   {
    "duration": 17,
    "start_time": "2023-05-19T10:16:14.891Z"
   },
   {
    "duration": 16,
    "start_time": "2023-05-19T10:16:57.010Z"
   },
   {
    "duration": 4,
    "start_time": "2023-05-19T10:36:36.365Z"
   },
   {
    "duration": 391,
    "start_time": "2023-05-19T10:36:36.372Z"
   },
   {
    "duration": 9,
    "start_time": "2023-05-19T10:36:36.765Z"
   },
   {
    "duration": 20,
    "start_time": "2023-05-19T10:36:36.776Z"
   },
   {
    "duration": 58,
    "start_time": "2023-05-19T10:36:36.799Z"
   },
   {
    "duration": 17,
    "start_time": "2023-05-19T10:36:36.859Z"
   },
   {
    "duration": 66,
    "start_time": "2023-05-19T10:36:36.878Z"
   },
   {
    "duration": 10,
    "start_time": "2023-05-19T10:36:36.945Z"
   },
   {
    "duration": 20,
    "start_time": "2023-05-19T10:36:36.956Z"
   },
   {
    "duration": 52,
    "start_time": "2023-05-19T10:36:36.978Z"
   },
   {
    "duration": 15,
    "start_time": "2023-05-19T10:36:37.032Z"
   },
   {
    "duration": 24,
    "start_time": "2023-05-19T10:36:37.049Z"
   },
   {
    "duration": 9,
    "start_time": "2023-05-19T10:36:37.075Z"
   },
   {
    "duration": 44,
    "start_time": "2023-05-19T10:36:37.087Z"
   },
   {
    "duration": 37,
    "start_time": "2023-05-19T10:36:37.133Z"
   },
   {
    "duration": 15,
    "start_time": "2023-05-19T10:36:37.172Z"
   },
   {
    "duration": 62,
    "start_time": "2023-05-19T10:36:37.189Z"
   },
   {
    "duration": 267,
    "start_time": "2023-05-19T10:36:37.253Z"
   },
   {
    "duration": 260,
    "start_time": "2023-05-19T10:36:37.525Z"
   },
   {
    "duration": 382,
    "start_time": "2023-05-19T10:36:37.787Z"
   },
   {
    "duration": 4,
    "start_time": "2023-05-19T10:36:38.171Z"
   },
   {
    "duration": 12,
    "start_time": "2023-05-19T10:36:38.176Z"
   },
   {
    "duration": 57,
    "start_time": "2023-05-19T10:36:38.189Z"
   },
   {
    "duration": 127,
    "start_time": "2023-05-19T10:36:38.325Z"
   },
   {
    "duration": 192,
    "start_time": "2023-05-19T10:36:38.454Z"
   },
   {
    "duration": 78,
    "start_time": "2023-05-19T10:36:38.649Z"
   },
   {
    "duration": 207,
    "start_time": "2023-05-19T10:36:38.730Z"
   },
   {
    "duration": 3,
    "start_time": "2023-05-19T10:36:38.939Z"
   },
   {
    "duration": 12,
    "start_time": "2023-05-19T10:36:38.944Z"
   },
   {
    "duration": 1411,
    "start_time": "2023-05-19T10:36:38.958Z"
   },
   {
    "duration": 1453,
    "start_time": "2023-05-19T10:36:40.371Z"
   },
   {
    "duration": 1390,
    "start_time": "2023-05-19T10:36:41.826Z"
   },
   {
    "duration": 1811,
    "start_time": "2023-05-19T14:30:05.998Z"
   },
   {
    "duration": 754,
    "start_time": "2023-05-19T14:30:07.810Z"
   },
   {
    "duration": 15,
    "start_time": "2023-05-19T14:30:08.566Z"
   },
   {
    "duration": 24,
    "start_time": "2023-05-19T14:30:08.583Z"
   },
   {
    "duration": 37,
    "start_time": "2023-05-19T14:30:08.609Z"
   },
   {
    "duration": 16,
    "start_time": "2023-05-19T14:30:08.648Z"
   },
   {
    "duration": 54,
    "start_time": "2023-05-19T14:30:08.666Z"
   },
   {
    "duration": 9,
    "start_time": "2023-05-19T14:30:08.722Z"
   },
   {
    "duration": 27,
    "start_time": "2023-05-19T14:30:08.732Z"
   },
   {
    "duration": 50,
    "start_time": "2023-05-19T14:30:08.763Z"
   },
   {
    "duration": 17,
    "start_time": "2023-05-19T14:30:08.815Z"
   },
   {
    "duration": 32,
    "start_time": "2023-05-19T14:30:08.833Z"
   },
   {
    "duration": 29,
    "start_time": "2023-05-19T14:30:08.867Z"
   },
   {
    "duration": 25,
    "start_time": "2023-05-19T14:30:08.898Z"
   },
   {
    "duration": 37,
    "start_time": "2023-05-19T14:30:08.925Z"
   },
   {
    "duration": 35,
    "start_time": "2023-05-19T14:30:08.963Z"
   },
   {
    "duration": 32,
    "start_time": "2023-05-19T14:30:08.999Z"
   },
   {
    "duration": 631,
    "start_time": "2023-05-19T14:30:09.033Z"
   },
   {
    "duration": 255,
    "start_time": "2023-05-19T14:30:09.666Z"
   },
   {
    "duration": 330,
    "start_time": "2023-05-19T14:30:09.922Z"
   },
   {
    "duration": 5,
    "start_time": "2023-05-19T14:30:10.253Z"
   },
   {
    "duration": 16,
    "start_time": "2023-05-19T14:30:10.259Z"
   },
   {
    "duration": 134,
    "start_time": "2023-05-19T14:30:10.277Z"
   },
   {
    "duration": 111,
    "start_time": "2023-05-19T14:30:10.496Z"
   },
   {
    "duration": 207,
    "start_time": "2023-05-19T14:30:10.609Z"
   },
   {
    "duration": 77,
    "start_time": "2023-05-19T14:30:10.818Z"
   },
   {
    "duration": 199,
    "start_time": "2023-05-19T14:30:10.897Z"
   },
   {
    "duration": 3,
    "start_time": "2023-05-19T14:30:11.100Z"
   },
   {
    "duration": 15,
    "start_time": "2023-05-19T14:30:11.105Z"
   },
   {
    "duration": 1351,
    "start_time": "2023-05-19T14:30:11.122Z"
   },
   {
    "duration": 1278,
    "start_time": "2023-05-19T14:30:12.475Z"
   },
   {
    "duration": 1332,
    "start_time": "2023-05-19T14:30:13.755Z"
   },
   {
    "duration": 1118,
    "start_time": "2023-05-19T14:52:21.497Z"
   },
   {
    "duration": 1767,
    "start_time": "2023-05-19T14:52:22.617Z"
   },
   {
    "duration": 17,
    "start_time": "2023-05-19T14:52:24.386Z"
   },
   {
    "duration": 14,
    "start_time": "2023-05-19T14:52:24.404Z"
   },
   {
    "duration": 54,
    "start_time": "2023-05-19T14:52:24.421Z"
   },
   {
    "duration": 21,
    "start_time": "2023-05-19T14:52:24.477Z"
   },
   {
    "duration": 35,
    "start_time": "2023-05-19T14:52:24.500Z"
   },
   {
    "duration": 9,
    "start_time": "2023-05-19T14:52:24.537Z"
   },
   {
    "duration": 36,
    "start_time": "2023-05-19T14:52:24.547Z"
   },
   {
    "duration": 41,
    "start_time": "2023-05-19T14:52:24.585Z"
   },
   {
    "duration": 44,
    "start_time": "2023-05-19T14:52:24.628Z"
   },
   {
    "duration": 29,
    "start_time": "2023-05-19T14:52:24.678Z"
   },
   {
    "duration": 19,
    "start_time": "2023-05-19T14:52:28.014Z"
   },
   {
    "duration": 23,
    "start_time": "2023-05-19T14:53:01.704Z"
   },
   {
    "duration": 5,
    "start_time": "2023-05-19T14:53:32.862Z"
   },
   {
    "duration": 424,
    "start_time": "2023-05-19T14:53:32.881Z"
   },
   {
    "duration": 9,
    "start_time": "2023-05-19T14:53:33.307Z"
   },
   {
    "duration": 20,
    "start_time": "2023-05-19T14:53:33.318Z"
   },
   {
    "duration": 61,
    "start_time": "2023-05-19T14:53:33.340Z"
   },
   {
    "duration": 15,
    "start_time": "2023-05-19T14:53:33.405Z"
   },
   {
    "duration": 65,
    "start_time": "2023-05-19T14:53:33.422Z"
   },
   {
    "duration": 20,
    "start_time": "2023-05-19T14:53:33.489Z"
   },
   {
    "duration": 30,
    "start_time": "2023-05-19T14:53:33.511Z"
   },
   {
    "duration": 45,
    "start_time": "2023-05-19T14:53:33.542Z"
   },
   {
    "duration": 36,
    "start_time": "2023-05-19T14:53:33.589Z"
   },
   {
    "duration": 15,
    "start_time": "2023-05-19T14:53:33.626Z"
   },
   {
    "duration": 42,
    "start_time": "2023-05-19T14:53:33.643Z"
   },
   {
    "duration": 19,
    "start_time": "2023-05-19T14:53:33.687Z"
   },
   {
    "duration": 27,
    "start_time": "2023-05-19T14:53:33.710Z"
   },
   {
    "duration": 53,
    "start_time": "2023-05-19T14:53:33.739Z"
   },
   {
    "duration": 39,
    "start_time": "2023-05-19T14:53:33.795Z"
   },
   {
    "duration": 15,
    "start_time": "2023-05-19T14:53:33.836Z"
   },
   {
    "duration": 54,
    "start_time": "2023-05-19T14:53:33.853Z"
   },
   {
    "duration": 30,
    "start_time": "2023-05-19T14:53:39.111Z"
   },
   {
    "duration": 1437,
    "start_time": "2023-05-19T14:53:59.400Z"
   },
   {
    "duration": 865,
    "start_time": "2023-05-19T14:54:10.120Z"
   },
   {
    "duration": 965,
    "start_time": "2023-05-19T14:54:16.303Z"
   },
   {
    "duration": 114,
    "start_time": "2023-05-19T14:57:52.581Z"
   },
   {
    "duration": 12,
    "start_time": "2023-05-19T14:57:55.580Z"
   },
   {
    "duration": 120,
    "start_time": "2023-05-19T15:03:39.092Z"
   },
   {
    "duration": 4,
    "start_time": "2023-05-19T15:03:44.349Z"
   },
   {
    "duration": 452,
    "start_time": "2023-05-19T15:03:45.082Z"
   },
   {
    "duration": 997,
    "start_time": "2023-05-19T15:03:45.983Z"
   },
   {
    "duration": 3,
    "start_time": "2023-05-19T15:04:24.430Z"
   },
   {
    "duration": 487,
    "start_time": "2023-05-19T15:04:25.393Z"
   },
   {
    "duration": 1245,
    "start_time": "2023-05-19T15:04:25.882Z"
   },
   {
    "duration": 7,
    "start_time": "2023-05-19T15:05:05.792Z"
   },
   {
    "duration": 492,
    "start_time": "2023-05-19T15:05:06.200Z"
   },
   {
    "duration": 1127,
    "start_time": "2023-05-19T15:05:06.694Z"
   },
   {
    "duration": 135,
    "start_time": "2023-05-19T15:05:17.321Z"
   },
   {
    "duration": 5,
    "start_time": "2023-05-19T15:05:29.781Z"
   },
   {
    "duration": 474,
    "start_time": "2023-05-19T15:05:30.541Z"
   },
   {
    "duration": 1352,
    "start_time": "2023-05-19T15:05:31.017Z"
   },
   {
    "duration": 4,
    "start_time": "2023-05-19T15:05:36.821Z"
   },
   {
    "duration": 502,
    "start_time": "2023-05-19T15:05:37.348Z"
   },
   {
    "duration": 1089,
    "start_time": "2023-05-19T15:05:37.853Z"
   },
   {
    "duration": 4,
    "start_time": "2023-05-19T15:06:26.037Z"
   },
   {
    "duration": 479,
    "start_time": "2023-05-19T15:06:26.437Z"
   },
   {
    "duration": 98,
    "start_time": "2023-05-19T15:06:37.733Z"
   },
   {
    "duration": 3325,
    "start_time": "2023-05-19T15:06:41.453Z"
   },
   {
    "duration": 3,
    "start_time": "2023-05-19T15:07:08.301Z"
   },
   {
    "duration": 550,
    "start_time": "2023-05-19T15:07:08.786Z"
   },
   {
    "duration": 3254,
    "start_time": "2023-05-19T15:07:09.338Z"
   },
   {
    "duration": 4,
    "start_time": "2023-05-19T15:08:00.302Z"
   },
   {
    "duration": 438,
    "start_time": "2023-05-19T15:08:00.716Z"
   },
   {
    "duration": 3346,
    "start_time": "2023-05-19T15:08:01.156Z"
   },
   {
    "duration": 6,
    "start_time": "2023-05-19T15:08:56.686Z"
   },
   {
    "duration": 460,
    "start_time": "2023-05-19T15:08:57.148Z"
   },
   {
    "duration": 3636,
    "start_time": "2023-05-19T15:08:57.611Z"
   },
   {
    "duration": 4,
    "start_time": "2023-05-19T15:12:07.838Z"
   },
   {
    "duration": 470,
    "start_time": "2023-05-19T15:12:08.788Z"
   },
   {
    "duration": 3541,
    "start_time": "2023-05-19T15:12:09.262Z"
   },
   {
    "duration": 71,
    "start_time": "2023-05-19T15:12:15.647Z"
   },
   {
    "duration": 3715,
    "start_time": "2023-05-19T15:12:18.986Z"
   },
   {
    "duration": 7,
    "start_time": "2023-05-19T15:15:56.182Z"
   },
   {
    "duration": 462,
    "start_time": "2023-05-19T15:15:56.554Z"
   },
   {
    "duration": 3853,
    "start_time": "2023-05-19T15:15:57.018Z"
   },
   {
    "duration": 5,
    "start_time": "2023-05-19T15:21:31.694Z"
   },
   {
    "duration": 40,
    "start_time": "2023-05-19T15:21:32.209Z"
   },
   {
    "duration": 4,
    "start_time": "2023-05-19T15:23:39.521Z"
   },
   {
    "duration": 434,
    "start_time": "2023-05-19T15:23:39.988Z"
   },
   {
    "duration": 4263,
    "start_time": "2023-05-19T15:23:40.424Z"
   },
   {
    "duration": 6,
    "start_time": "2023-05-19T15:23:57.698Z"
   },
   {
    "duration": 471,
    "start_time": "2023-05-19T15:23:58.048Z"
   },
   {
    "duration": 4300,
    "start_time": "2023-05-19T15:23:58.521Z"
   },
   {
    "duration": 4,
    "start_time": "2023-05-19T15:35:13.118Z"
   },
   {
    "duration": 430,
    "start_time": "2023-05-19T15:35:13.822Z"
   },
   {
    "duration": 4035,
    "start_time": "2023-05-19T15:35:14.275Z"
   },
   {
    "duration": 6,
    "start_time": "2023-05-19T15:35:35.683Z"
   },
   {
    "duration": 429,
    "start_time": "2023-05-19T15:35:36.284Z"
   },
   {
    "duration": 4194,
    "start_time": "2023-05-19T15:35:36.911Z"
   },
   {
    "duration": 101,
    "start_time": "2023-05-19T15:35:51.718Z"
   },
   {
    "duration": 4,
    "start_time": "2023-05-19T15:35:55.388Z"
   },
   {
    "duration": 436,
    "start_time": "2023-05-19T15:35:56.334Z"
   },
   {
    "duration": 30,
    "start_time": "2023-05-19T15:35:56.846Z"
   },
   {
    "duration": 5,
    "start_time": "2023-05-19T15:36:07.822Z"
   },
   {
    "duration": 444,
    "start_time": "2023-05-19T15:36:08.597Z"
   },
   {
    "duration": 3978,
    "start_time": "2023-05-19T15:36:09.150Z"
   },
   {
    "duration": 4,
    "start_time": "2023-05-19T15:37:44.097Z"
   },
   {
    "duration": 444,
    "start_time": "2023-05-19T15:37:44.550Z"
   },
   {
    "duration": 4020,
    "start_time": "2023-05-19T15:37:44.998Z"
   },
   {
    "duration": 7,
    "start_time": "2023-05-19T15:38:06.391Z"
   },
   {
    "duration": 443,
    "start_time": "2023-05-19T15:38:06.787Z"
   },
   {
    "duration": 4185,
    "start_time": "2023-05-19T15:38:07.417Z"
   },
   {
    "duration": 5,
    "start_time": "2023-05-19T15:42:51.795Z"
   },
   {
    "duration": 459,
    "start_time": "2023-05-19T15:42:52.532Z"
   },
   {
    "duration": 4153,
    "start_time": "2023-05-19T15:42:53.926Z"
   },
   {
    "duration": 6,
    "start_time": "2023-05-19T15:44:32.186Z"
   },
   {
    "duration": 78,
    "start_time": "2023-05-19T15:44:32.196Z"
   },
   {
    "duration": 11,
    "start_time": "2023-05-19T15:44:32.280Z"
   },
   {
    "duration": 476,
    "start_time": "2023-05-19T15:44:32.293Z"
   },
   {
    "duration": 3988,
    "start_time": "2023-05-19T15:44:32.774Z"
   },
   {
    "duration": 2,
    "start_time": "2023-05-19T15:44:36.764Z"
   },
   {
    "duration": 14,
    "start_time": "2023-05-19T15:44:36.767Z"
   },
   {
    "duration": 198,
    "start_time": "2023-05-19T15:44:36.783Z"
   },
   {
    "duration": 186,
    "start_time": "2023-05-19T15:44:36.984Z"
   },
   {
    "duration": 132,
    "start_time": "2023-05-19T15:44:37.172Z"
   },
   {
    "duration": 13,
    "start_time": "2023-05-19T15:44:37.373Z"
   },
   {
    "duration": 142,
    "start_time": "2023-05-19T15:44:37.457Z"
   },
   {
    "duration": 4,
    "start_time": "2023-05-19T15:44:37.602Z"
   },
   {
    "duration": 8,
    "start_time": "2023-05-19T15:44:37.609Z"
   },
   {
    "duration": 1679,
    "start_time": "2023-05-19T15:44:37.618Z"
   },
   {
    "duration": 0,
    "start_time": "2023-05-19T15:44:39.298Z"
   },
   {
    "duration": 0,
    "start_time": "2023-05-19T15:44:39.299Z"
   },
   {
    "duration": 0,
    "start_time": "2023-05-19T15:44:39.300Z"
   },
   {
    "duration": 0,
    "start_time": "2023-05-19T15:44:39.302Z"
   },
   {
    "duration": 0,
    "start_time": "2023-05-19T15:44:39.304Z"
   },
   {
    "duration": 7,
    "start_time": "2023-05-19T15:44:59.036Z"
   },
   {
    "duration": 1605,
    "start_time": "2023-05-19T15:45:01.012Z"
   },
   {
    "duration": 6,
    "start_time": "2023-05-19T15:46:14.045Z"
   },
   {
    "duration": 1570,
    "start_time": "2023-05-19T15:46:15.548Z"
   },
   {
    "duration": 362,
    "start_time": "2023-05-19T15:46:17.120Z"
   },
   {
    "duration": 359,
    "start_time": "2023-05-19T15:46:28.828Z"
   },
   {
    "duration": 316,
    "start_time": "2023-05-19T15:46:33.092Z"
   },
   {
    "duration": 1509,
    "start_time": "2023-05-19T15:46:53.221Z"
   },
   {
    "duration": 347,
    "start_time": "2023-05-19T15:46:54.732Z"
   },
   {
    "duration": 1523,
    "start_time": "2023-05-19T15:47:10.188Z"
   },
   {
    "duration": 579,
    "start_time": "2023-05-19T15:47:15.181Z"
   },
   {
    "duration": 7,
    "start_time": "2023-05-19T15:48:09.881Z"
   },
   {
    "duration": 1810,
    "start_time": "2023-05-19T15:48:11.589Z"
   },
   {
    "duration": 1870,
    "start_time": "2023-05-19T15:48:46.708Z"
   },
   {
    "duration": 1893,
    "start_time": "2023-05-19T15:49:01.796Z"
   },
   {
    "duration": 1875,
    "start_time": "2023-05-19T15:49:54.099Z"
   },
   {
    "duration": 1948,
    "start_time": "2023-05-19T15:50:04.131Z"
   },
   {
    "duration": 1908,
    "start_time": "2023-05-19T15:50:07.776Z"
   },
   {
    "duration": 4,
    "start_time": "2023-05-19T15:55:08.708Z"
   },
   {
    "duration": 76,
    "start_time": "2023-05-19T15:55:08.715Z"
   },
   {
    "duration": 5,
    "start_time": "2023-05-19T15:55:08.793Z"
   },
   {
    "duration": 510,
    "start_time": "2023-05-19T15:55:08.800Z"
   },
   {
    "duration": 4013,
    "start_time": "2023-05-19T15:55:09.313Z"
   },
   {
    "duration": 3,
    "start_time": "2023-05-19T15:55:13.328Z"
   },
   {
    "duration": 13,
    "start_time": "2023-05-19T15:55:13.334Z"
   },
   {
    "duration": 48,
    "start_time": "2023-05-19T15:55:13.361Z"
   },
   {
    "duration": 176,
    "start_time": "2023-05-19T15:55:13.410Z"
   },
   {
    "duration": 200,
    "start_time": "2023-05-19T15:55:13.588Z"
   },
   {
    "duration": 79,
    "start_time": "2023-05-19T15:55:13.790Z"
   },
   {
    "duration": 214,
    "start_time": "2023-05-19T15:55:13.871Z"
   },
   {
    "duration": 3,
    "start_time": "2023-05-19T15:55:14.087Z"
   },
   {
    "duration": 27,
    "start_time": "2023-05-19T15:55:14.093Z"
   },
   {
    "duration": 1838,
    "start_time": "2023-05-19T15:55:14.122Z"
   },
   {
    "duration": 0,
    "start_time": "2023-05-19T15:55:15.963Z"
   },
   {
    "duration": 0,
    "start_time": "2023-05-19T15:55:15.964Z"
   },
   {
    "duration": 4,
    "start_time": "2023-05-19T15:56:09.740Z"
   },
   {
    "duration": 76,
    "start_time": "2023-05-19T15:56:09.747Z"
   },
   {
    "duration": 6,
    "start_time": "2023-05-19T15:56:09.825Z"
   },
   {
    "duration": 430,
    "start_time": "2023-05-19T15:56:09.833Z"
   },
   {
    "duration": 4140,
    "start_time": "2023-05-19T15:56:10.268Z"
   },
   {
    "duration": 3,
    "start_time": "2023-05-19T15:56:14.410Z"
   },
   {
    "duration": 7,
    "start_time": "2023-05-19T15:56:14.415Z"
   },
   {
    "duration": 65,
    "start_time": "2023-05-19T15:56:14.424Z"
   },
   {
    "duration": 127,
    "start_time": "2023-05-19T15:56:14.565Z"
   },
   {
    "duration": 195,
    "start_time": "2023-05-19T15:56:14.694Z"
   },
   {
    "duration": 75,
    "start_time": "2023-05-19T15:56:14.891Z"
   },
   {
    "duration": 213,
    "start_time": "2023-05-19T15:56:14.968Z"
   },
   {
    "duration": 6,
    "start_time": "2023-05-19T15:56:15.183Z"
   },
   {
    "duration": 14,
    "start_time": "2023-05-19T15:56:15.192Z"
   },
   {
    "duration": 1784,
    "start_time": "2023-05-19T15:56:15.208Z"
   },
   {
    "duration": 1860,
    "start_time": "2023-05-19T15:56:16.994Z"
   },
   {
    "duration": 1879,
    "start_time": "2023-05-19T15:56:18.869Z"
   },
   {
    "duration": 4,
    "start_time": "2023-05-19T15:56:39.317Z"
   },
   {
    "duration": 68,
    "start_time": "2023-05-19T15:56:39.323Z"
   },
   {
    "duration": 4,
    "start_time": "2023-05-19T15:56:39.393Z"
   },
   {
    "duration": 412,
    "start_time": "2023-05-19T15:56:39.399Z"
   },
   {
    "duration": 4095,
    "start_time": "2023-05-19T15:56:39.812Z"
   },
   {
    "duration": 3,
    "start_time": "2023-05-19T15:56:43.909Z"
   },
   {
    "duration": 7,
    "start_time": "2023-05-19T15:56:43.913Z"
   },
   {
    "duration": 66,
    "start_time": "2023-05-19T15:56:43.922Z"
   },
   {
    "duration": 199,
    "start_time": "2023-05-19T15:56:43.990Z"
   },
   {
    "duration": 198,
    "start_time": "2023-05-19T15:56:44.192Z"
   },
   {
    "duration": 77,
    "start_time": "2023-05-19T15:56:44.392Z"
   },
   {
    "duration": 213,
    "start_time": "2023-05-19T15:56:44.471Z"
   },
   {
    "duration": 4,
    "start_time": "2023-05-19T15:56:44.685Z"
   },
   {
    "duration": 8,
    "start_time": "2023-05-19T15:56:44.690Z"
   },
   {
    "duration": 1783,
    "start_time": "2023-05-19T15:56:44.699Z"
   },
   {
    "duration": 1784,
    "start_time": "2023-05-19T15:56:46.485Z"
   },
   {
    "duration": 1891,
    "start_time": "2023-05-19T15:56:48.271Z"
   },
   {
    "duration": 2098,
    "start_time": "2023-05-20T14:44:43.387Z"
   },
   {
    "duration": 51,
    "start_time": "2023-05-20T14:44:45.488Z"
   },
   {
    "duration": 4,
    "start_time": "2023-05-20T14:44:45.541Z"
   },
   {
    "duration": 925,
    "start_time": "2023-05-20T14:44:45.547Z"
   },
   {
    "duration": 3294,
    "start_time": "2023-05-20T14:44:46.473Z"
   },
   {
    "duration": 3,
    "start_time": "2023-05-20T14:44:49.769Z"
   },
   {
    "duration": 7,
    "start_time": "2023-05-20T14:44:49.773Z"
   },
   {
    "duration": 117,
    "start_time": "2023-05-20T14:44:49.782Z"
   },
   {
    "duration": 123,
    "start_time": "2023-05-20T14:44:49.901Z"
   },
   {
    "duration": 119,
    "start_time": "2023-05-20T14:44:50.097Z"
   },
   {
    "duration": 92,
    "start_time": "2023-05-20T14:44:50.219Z"
   },
   {
    "duration": 185,
    "start_time": "2023-05-20T14:44:50.315Z"
   },
   {
    "duration": 7,
    "start_time": "2023-05-20T14:44:50.501Z"
   },
   {
    "duration": 16,
    "start_time": "2023-05-20T14:44:50.510Z"
   },
   {
    "duration": 1538,
    "start_time": "2023-05-20T14:44:50.527Z"
   },
   {
    "duration": 1615,
    "start_time": "2023-05-20T14:44:52.067Z"
   },
   {
    "duration": 1588,
    "start_time": "2023-05-20T14:44:53.684Z"
   },
   {
    "duration": 1654,
    "start_time": "2023-05-20T14:44:55.274Z"
   }
  ],
  "kernelspec": {
   "display_name": "Python 3 (ipykernel)",
   "language": "python",
   "name": "python3"
  },
  "language_info": {
   "codemirror_mode": {
    "name": "ipython",
    "version": 3
   },
   "file_extension": ".py",
   "mimetype": "text/x-python",
   "name": "python",
   "nbconvert_exporter": "python",
   "pygments_lexer": "ipython3",
   "version": "3.9.13"
  },
  "toc": {
   "base_numbering": 1,
   "nav_menu": {},
   "number_sections": true,
   "sideBar": true,
   "skip_h1_title": true,
   "title_cell": "Table of Contents",
   "title_sidebar": "Contents",
   "toc_cell": false,
   "toc_position": {},
   "toc_section_display": true,
   "toc_window_display": false
  }
 },
 "nbformat": 4,
 "nbformat_minor": 2
}
